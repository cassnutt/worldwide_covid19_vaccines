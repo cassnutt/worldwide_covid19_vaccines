{
 "cells": [
  {
   "cell_type": "code",
   "execution_count": 1,
   "metadata": {
    "ExecuteTime": {
     "end_time": "2021-03-24T17:50:07.346905Z",
     "start_time": "2021-03-24T17:50:06.204171Z"
    }
   },
   "outputs": [],
   "source": [
    "# Load libraries \n",
    "import numpy as np\n",
    "import pandas as pd\n",
    "import matplotlib.pyplot as plt\n",
    "%matplotlib inline\n",
    "import seaborn as sns\n",
    "sns.set_style('whitegrid')\n",
    "\n",
    "import os, shutil\n",
    "from matplotlib.ticker import FuncFormatter"
   ]
  },
  {
   "cell_type": "code",
   "execution_count": 2,
   "metadata": {
    "ExecuteTime": {
     "end_time": "2021-03-24T17:50:07.739556Z",
     "start_time": "2021-03-24T17:50:07.349083Z"
    }
   },
   "outputs": [],
   "source": [
    "owid_df = pd.read_csv('../data/owid-covid-data.csv')"
   ]
  },
  {
   "cell_type": "code",
   "execution_count": 3,
   "metadata": {
    "ExecuteTime": {
     "end_time": "2021-03-24T17:50:07.748574Z",
     "start_time": "2021-03-24T17:50:07.741588Z"
    }
   },
   "outputs": [],
   "source": [
    "fully_vax_df = pd.read_csv('../data/people-fully-vaccinated-covid.csv')"
   ]
  },
  {
   "cell_type": "code",
   "execution_count": 4,
   "metadata": {
    "ExecuteTime": {
     "end_time": "2021-03-24T17:50:07.764055Z",
     "start_time": "2021-03-24T17:50:07.750421Z"
    }
   },
   "outputs": [
    {
     "data": {
      "text/html": [
       "<div>\n",
       "<style scoped>\n",
       "    .dataframe tbody tr th:only-of-type {\n",
       "        vertical-align: middle;\n",
       "    }\n",
       "\n",
       "    .dataframe tbody tr th {\n",
       "        vertical-align: top;\n",
       "    }\n",
       "\n",
       "    .dataframe thead th {\n",
       "        text-align: right;\n",
       "    }\n",
       "</style>\n",
       "<table border=\"1\" class=\"dataframe\">\n",
       "  <thead>\n",
       "    <tr style=\"text-align: right;\">\n",
       "      <th></th>\n",
       "      <th>Entity</th>\n",
       "      <th>Code</th>\n",
       "      <th>Day</th>\n",
       "      <th>people_fully_vaccinated</th>\n",
       "    </tr>\n",
       "  </thead>\n",
       "  <tbody>\n",
       "    <tr>\n",
       "      <th>0</th>\n",
       "      <td>Africa</td>\n",
       "      <td>NaN</td>\n",
       "      <td>2021-02-03</td>\n",
       "      <td>5</td>\n",
       "    </tr>\n",
       "    <tr>\n",
       "      <th>1</th>\n",
       "      <td>Africa</td>\n",
       "      <td>NaN</td>\n",
       "      <td>2021-02-04</td>\n",
       "      <td>5</td>\n",
       "    </tr>\n",
       "    <tr>\n",
       "      <th>2</th>\n",
       "      <td>Africa</td>\n",
       "      <td>NaN</td>\n",
       "      <td>2021-02-05</td>\n",
       "      <td>5</td>\n",
       "    </tr>\n",
       "    <tr>\n",
       "      <th>3</th>\n",
       "      <td>Africa</td>\n",
       "      <td>NaN</td>\n",
       "      <td>2021-02-06</td>\n",
       "      <td>1586</td>\n",
       "    </tr>\n",
       "    <tr>\n",
       "      <th>4</th>\n",
       "      <td>Africa</td>\n",
       "      <td>NaN</td>\n",
       "      <td>2021-02-08</td>\n",
       "      <td>3980</td>\n",
       "    </tr>\n",
       "  </tbody>\n",
       "</table>\n",
       "</div>"
      ],
      "text/plain": [
       "   Entity Code         Day  people_fully_vaccinated\n",
       "0  Africa  NaN  2021-02-03                        5\n",
       "1  Africa  NaN  2021-02-04                        5\n",
       "2  Africa  NaN  2021-02-05                        5\n",
       "3  Africa  NaN  2021-02-06                     1586\n",
       "4  Africa  NaN  2021-02-08                     3980"
      ]
     },
     "execution_count": 4,
     "metadata": {},
     "output_type": "execute_result"
    }
   ],
   "source": [
    "fully_vax_df.head()"
   ]
  },
  {
   "cell_type": "code",
   "execution_count": 5,
   "metadata": {
    "ExecuteTime": {
     "end_time": "2021-03-24T17:50:07.771661Z",
     "start_time": "2021-03-24T17:50:07.765884Z"
    }
   },
   "outputs": [],
   "source": [
    "fully_vax_df['Day'] = pd.to_datetime(fully_vax_df['Day'])"
   ]
  },
  {
   "cell_type": "code",
   "execution_count": 6,
   "metadata": {
    "ExecuteTime": {
     "end_time": "2021-03-24T17:50:07.785917Z",
     "start_time": "2021-03-24T17:50:07.774559Z"
    }
   },
   "outputs": [
    {
     "data": {
      "text/html": [
       "<div>\n",
       "<style scoped>\n",
       "    .dataframe tbody tr th:only-of-type {\n",
       "        vertical-align: middle;\n",
       "    }\n",
       "\n",
       "    .dataframe tbody tr th {\n",
       "        vertical-align: top;\n",
       "    }\n",
       "\n",
       "    .dataframe thead th {\n",
       "        text-align: right;\n",
       "    }\n",
       "</style>\n",
       "<table border=\"1\" class=\"dataframe\">\n",
       "  <thead>\n",
       "    <tr style=\"text-align: right;\">\n",
       "      <th></th>\n",
       "      <th>Entity</th>\n",
       "      <th>Code</th>\n",
       "      <th>Day</th>\n",
       "      <th>people_fully_vaccinated</th>\n",
       "    </tr>\n",
       "  </thead>\n",
       "  <tbody>\n",
       "    <tr>\n",
       "      <th>0</th>\n",
       "      <td>Africa</td>\n",
       "      <td>NaN</td>\n",
       "      <td>2021-02-03</td>\n",
       "      <td>5</td>\n",
       "    </tr>\n",
       "    <tr>\n",
       "      <th>1</th>\n",
       "      <td>Africa</td>\n",
       "      <td>NaN</td>\n",
       "      <td>2021-02-04</td>\n",
       "      <td>5</td>\n",
       "    </tr>\n",
       "    <tr>\n",
       "      <th>2</th>\n",
       "      <td>Africa</td>\n",
       "      <td>NaN</td>\n",
       "      <td>2021-02-05</td>\n",
       "      <td>5</td>\n",
       "    </tr>\n",
       "    <tr>\n",
       "      <th>3</th>\n",
       "      <td>Africa</td>\n",
       "      <td>NaN</td>\n",
       "      <td>2021-02-06</td>\n",
       "      <td>1586</td>\n",
       "    </tr>\n",
       "    <tr>\n",
       "      <th>4</th>\n",
       "      <td>Africa</td>\n",
       "      <td>NaN</td>\n",
       "      <td>2021-02-08</td>\n",
       "      <td>3980</td>\n",
       "    </tr>\n",
       "    <tr>\n",
       "      <th>...</th>\n",
       "      <td>...</td>\n",
       "      <td>...</td>\n",
       "      <td>...</td>\n",
       "      <td>...</td>\n",
       "    </tr>\n",
       "    <tr>\n",
       "      <th>3321</th>\n",
       "      <td>World</td>\n",
       "      <td>OWID_WRL</td>\n",
       "      <td>2021-03-17</td>\n",
       "      <td>92088908</td>\n",
       "    </tr>\n",
       "    <tr>\n",
       "      <th>3322</th>\n",
       "      <td>World</td>\n",
       "      <td>OWID_WRL</td>\n",
       "      <td>2021-03-18</td>\n",
       "      <td>94822964</td>\n",
       "    </tr>\n",
       "    <tr>\n",
       "      <th>3323</th>\n",
       "      <td>World</td>\n",
       "      <td>OWID_WRL</td>\n",
       "      <td>2021-03-19</td>\n",
       "      <td>97965307</td>\n",
       "    </tr>\n",
       "    <tr>\n",
       "      <th>3324</th>\n",
       "      <td>World</td>\n",
       "      <td>OWID_WRL</td>\n",
       "      <td>2021-03-20</td>\n",
       "      <td>100237781</td>\n",
       "    </tr>\n",
       "    <tr>\n",
       "      <th>3325</th>\n",
       "      <td>World</td>\n",
       "      <td>OWID_WRL</td>\n",
       "      <td>2021-03-21</td>\n",
       "      <td>101609777</td>\n",
       "    </tr>\n",
       "  </tbody>\n",
       "</table>\n",
       "<p>3326 rows × 4 columns</p>\n",
       "</div>"
      ],
      "text/plain": [
       "      Entity      Code        Day  people_fully_vaccinated\n",
       "0     Africa       NaN 2021-02-03                        5\n",
       "1     Africa       NaN 2021-02-04                        5\n",
       "2     Africa       NaN 2021-02-05                        5\n",
       "3     Africa       NaN 2021-02-06                     1586\n",
       "4     Africa       NaN 2021-02-08                     3980\n",
       "...      ...       ...        ...                      ...\n",
       "3321   World  OWID_WRL 2021-03-17                 92088908\n",
       "3322   World  OWID_WRL 2021-03-18                 94822964\n",
       "3323   World  OWID_WRL 2021-03-19                 97965307\n",
       "3324   World  OWID_WRL 2021-03-20                100237781\n",
       "3325   World  OWID_WRL 2021-03-21                101609777\n",
       "\n",
       "[3326 rows x 4 columns]"
      ]
     },
     "execution_count": 6,
     "metadata": {},
     "output_type": "execute_result"
    }
   ],
   "source": [
    "fully_vax_df"
   ]
  },
  {
   "cell_type": "code",
   "execution_count": 7,
   "metadata": {
    "ExecuteTime": {
     "end_time": "2021-03-24T17:50:09.130531Z",
     "start_time": "2021-03-24T17:50:07.788171Z"
    }
   },
   "outputs": [
    {
     "data": {
      "text/plain": [
       "Entity\n",
       "Africa                  AxesSubplot(0.125,0.2;0.775x0.68)\n",
       "Albania                 AxesSubplot(0.125,0.2;0.775x0.68)\n",
       "Andorra                 AxesSubplot(0.125,0.2;0.775x0.68)\n",
       "Argentina               AxesSubplot(0.125,0.2;0.775x0.68)\n",
       "Asia                    AxesSubplot(0.125,0.2;0.775x0.68)\n",
       "                                      ...                \n",
       "United Arab Emirates    AxesSubplot(0.125,0.2;0.775x0.68)\n",
       "United Kingdom          AxesSubplot(0.125,0.2;0.775x0.68)\n",
       "United States           AxesSubplot(0.125,0.2;0.775x0.68)\n",
       "Wales                   AxesSubplot(0.125,0.2;0.775x0.68)\n",
       "World                   AxesSubplot(0.125,0.2;0.775x0.68)\n",
       "Length: 89, dtype: object"
      ]
     },
     "execution_count": 7,
     "metadata": {},
     "output_type": "execute_result"
    },
    {
     "data": {
      "image/png": "[encoded data removed]",
      "text/plain": [
       "<Figure size 1296x360 with 1 Axes>"
      ]
     },
     "metadata": {},
     "output_type": "display_data"
    }
   ],
   "source": [
    "fig, ax = plt.subplots()\n",
    "fully_vax_df.groupby('Entity').plot(x= 'Day', y= 'people_fully_vaccinated', ax= ax, legend= False, figsize= (18,5))"
   ]
  },
  {
   "cell_type": "code",
   "execution_count": 8,
   "metadata": {
    "ExecuteTime": {
     "end_time": "2021-03-24T17:50:09.135048Z",
     "start_time": "2021-03-24T17:50:09.132305Z"
    }
   },
   "outputs": [],
   "source": [
    "attempt = fully_vax_df.copy()"
   ]
  },
  {
   "cell_type": "code",
   "execution_count": 9,
   "metadata": {
    "ExecuteTime": {
     "end_time": "2021-03-24T17:50:09.142965Z",
     "start_time": "2021-03-24T17:50:09.136715Z"
    }
   },
   "outputs": [
    {
     "data": {
      "text/html": [
       "<div>\n",
       "<style scoped>\n",
       "    .dataframe tbody tr th:only-of-type {\n",
       "        vertical-align: middle;\n",
       "    }\n",
       "\n",
       "    .dataframe tbody tr th {\n",
       "        vertical-align: top;\n",
       "    }\n",
       "\n",
       "    .dataframe thead th {\n",
       "        text-align: right;\n",
       "    }\n",
       "</style>\n",
       "<table border=\"1\" class=\"dataframe\">\n",
       "  <thead>\n",
       "    <tr style=\"text-align: right;\">\n",
       "      <th></th>\n",
       "      <th>Entity</th>\n",
       "      <th>Code</th>\n",
       "      <th>Day</th>\n",
       "      <th>people_fully_vaccinated</th>\n",
       "    </tr>\n",
       "  </thead>\n",
       "  <tbody>\n",
       "    <tr>\n",
       "      <th>0</th>\n",
       "      <td>Africa</td>\n",
       "      <td>NaN</td>\n",
       "      <td>2021-02-03</td>\n",
       "      <td>5</td>\n",
       "    </tr>\n",
       "    <tr>\n",
       "      <th>1</th>\n",
       "      <td>Africa</td>\n",
       "      <td>NaN</td>\n",
       "      <td>2021-02-04</td>\n",
       "      <td>5</td>\n",
       "    </tr>\n",
       "    <tr>\n",
       "      <th>2</th>\n",
       "      <td>Africa</td>\n",
       "      <td>NaN</td>\n",
       "      <td>2021-02-05</td>\n",
       "      <td>5</td>\n",
       "    </tr>\n",
       "    <tr>\n",
       "      <th>3</th>\n",
       "      <td>Africa</td>\n",
       "      <td>NaN</td>\n",
       "      <td>2021-02-06</td>\n",
       "      <td>1586</td>\n",
       "    </tr>\n",
       "    <tr>\n",
       "      <th>4</th>\n",
       "      <td>Africa</td>\n",
       "      <td>NaN</td>\n",
       "      <td>2021-02-08</td>\n",
       "      <td>3980</td>\n",
       "    </tr>\n",
       "  </tbody>\n",
       "</table>\n",
       "</div>"
      ],
      "text/plain": [
       "   Entity Code        Day  people_fully_vaccinated\n",
       "0  Africa  NaN 2021-02-03                        5\n",
       "1  Africa  NaN 2021-02-04                        5\n",
       "2  Africa  NaN 2021-02-05                        5\n",
       "3  Africa  NaN 2021-02-06                     1586\n",
       "4  Africa  NaN 2021-02-08                     3980"
      ]
     },
     "execution_count": 9,
     "metadata": {},
     "output_type": "execute_result"
    }
   ],
   "source": [
    "attempt.head()"
   ]
  },
  {
   "cell_type": "code",
   "execution_count": 10,
   "metadata": {
    "ExecuteTime": {
     "end_time": "2021-03-24T17:50:09.148101Z",
     "start_time": "2021-03-24T17:50:09.144620Z"
    }
   },
   "outputs": [],
   "source": [
    "attempt.sort_values(by= ['people_fully_vaccinated'], ascending= False, inplace= True)"
   ]
  },
  {
   "cell_type": "code",
   "execution_count": 11,
   "metadata": {
    "ExecuteTime": {
     "end_time": "2021-03-24T17:50:09.154285Z",
     "start_time": "2021-03-24T17:50:09.150198Z"
    }
   },
   "outputs": [],
   "source": [
    "attempt = attempt[attempt.Entity != 'World']"
   ]
  },
  {
   "cell_type": "code",
   "execution_count": 12,
   "metadata": {
    "ExecuteTime": {
     "end_time": "2021-03-24T17:50:09.167280Z",
     "start_time": "2021-03-24T17:50:09.156226Z"
    }
   },
   "outputs": [
    {
     "data": {
      "text/html": [
       "<div>\n",
       "<style scoped>\n",
       "    .dataframe tbody tr th:only-of-type {\n",
       "        vertical-align: middle;\n",
       "    }\n",
       "\n",
       "    .dataframe tbody tr th {\n",
       "        vertical-align: top;\n",
       "    }\n",
       "\n",
       "    .dataframe thead th {\n",
       "        text-align: right;\n",
       "    }\n",
       "</style>\n",
       "<table border=\"1\" class=\"dataframe\">\n",
       "  <thead>\n",
       "    <tr style=\"text-align: right;\">\n",
       "      <th></th>\n",
       "      <th>Entity</th>\n",
       "      <th>Code</th>\n",
       "      <th>Day</th>\n",
       "      <th>people_fully_vaccinated</th>\n",
       "    </tr>\n",
       "  </thead>\n",
       "  <tbody>\n",
       "    <tr>\n",
       "      <th>2177</th>\n",
       "      <td>North America</td>\n",
       "      <td>NaN</td>\n",
       "      <td>2021-03-21</td>\n",
       "      <td>45571687</td>\n",
       "    </tr>\n",
       "    <tr>\n",
       "      <th>2176</th>\n",
       "      <td>North America</td>\n",
       "      <td>NaN</td>\n",
       "      <td>2021-03-20</td>\n",
       "      <td>44442434</td>\n",
       "    </tr>\n",
       "    <tr>\n",
       "      <th>3178</th>\n",
       "      <td>United States</td>\n",
       "      <td>USA</td>\n",
       "      <td>2021-03-21</td>\n",
       "      <td>44141228</td>\n",
       "    </tr>\n",
       "    <tr>\n",
       "      <th>2175</th>\n",
       "      <td>North America</td>\n",
       "      <td>NaN</td>\n",
       "      <td>2021-03-19</td>\n",
       "      <td>43286767</td>\n",
       "    </tr>\n",
       "    <tr>\n",
       "      <th>3177</th>\n",
       "      <td>United States</td>\n",
       "      <td>USA</td>\n",
       "      <td>2021-03-20</td>\n",
       "      <td>43036818</td>\n",
       "    </tr>\n",
       "    <tr>\n",
       "      <th>2174</th>\n",
       "      <td>North America</td>\n",
       "      <td>NaN</td>\n",
       "      <td>2021-03-18</td>\n",
       "      <td>42327205</td>\n",
       "    </tr>\n",
       "    <tr>\n",
       "      <th>3176</th>\n",
       "      <td>United States</td>\n",
       "      <td>USA</td>\n",
       "      <td>2021-03-19</td>\n",
       "      <td>41934629</td>\n",
       "    </tr>\n",
       "    <tr>\n",
       "      <th>2173</th>\n",
       "      <td>North America</td>\n",
       "      <td>NaN</td>\n",
       "      <td>2021-03-17</td>\n",
       "      <td>41308707</td>\n",
       "    </tr>\n",
       "    <tr>\n",
       "      <th>3175</th>\n",
       "      <td>United States</td>\n",
       "      <td>USA</td>\n",
       "      <td>2021-03-18</td>\n",
       "      <td>40981464</td>\n",
       "    </tr>\n",
       "    <tr>\n",
       "      <th>2172</th>\n",
       "      <td>North America</td>\n",
       "      <td>NaN</td>\n",
       "      <td>2021-03-16</td>\n",
       "      <td>40339714</td>\n",
       "    </tr>\n",
       "    <tr>\n",
       "      <th>3174</th>\n",
       "      <td>United States</td>\n",
       "      <td>USA</td>\n",
       "      <td>2021-03-17</td>\n",
       "      <td>39989196</td>\n",
       "    </tr>\n",
       "    <tr>\n",
       "      <th>2171</th>\n",
       "      <td>North America</td>\n",
       "      <td>NaN</td>\n",
       "      <td>2021-03-15</td>\n",
       "      <td>39627266</td>\n",
       "    </tr>\n",
       "    <tr>\n",
       "      <th>3173</th>\n",
       "      <td>United States</td>\n",
       "      <td>USA</td>\n",
       "      <td>2021-03-16</td>\n",
       "      <td>39042345</td>\n",
       "    </tr>\n",
       "    <tr>\n",
       "      <th>2170</th>\n",
       "      <td>North America</td>\n",
       "      <td>NaN</td>\n",
       "      <td>2021-03-14</td>\n",
       "      <td>38740072</td>\n",
       "    </tr>\n",
       "    <tr>\n",
       "      <th>3172</th>\n",
       "      <td>United States</td>\n",
       "      <td>USA</td>\n",
       "      <td>2021-03-15</td>\n",
       "      <td>38335432</td>\n",
       "    </tr>\n",
       "  </tbody>\n",
       "</table>\n",
       "</div>"
      ],
      "text/plain": [
       "             Entity Code        Day  people_fully_vaccinated\n",
       "2177  North America  NaN 2021-03-21                 45571687\n",
       "2176  North America  NaN 2021-03-20                 44442434\n",
       "3178  United States  USA 2021-03-21                 44141228\n",
       "2175  North America  NaN 2021-03-19                 43286767\n",
       "3177  United States  USA 2021-03-20                 43036818\n",
       "2174  North America  NaN 2021-03-18                 42327205\n",
       "3176  United States  USA 2021-03-19                 41934629\n",
       "2173  North America  NaN 2021-03-17                 41308707\n",
       "3175  United States  USA 2021-03-18                 40981464\n",
       "2172  North America  NaN 2021-03-16                 40339714\n",
       "3174  United States  USA 2021-03-17                 39989196\n",
       "2171  North America  NaN 2021-03-15                 39627266\n",
       "3173  United States  USA 2021-03-16                 39042345\n",
       "2170  North America  NaN 2021-03-14                 38740072\n",
       "3172  United States  USA 2021-03-15                 38335432"
      ]
     },
     "execution_count": 12,
     "metadata": {},
     "output_type": "execute_result"
    }
   ],
   "source": [
    "attempt.head(15)"
   ]
  },
  {
   "cell_type": "code",
   "execution_count": 13,
   "metadata": {
    "ExecuteTime": {
     "end_time": "2021-03-24T17:50:09.173897Z",
     "start_time": "2021-03-24T17:50:09.169592Z"
    }
   },
   "outputs": [
    {
     "data": {
      "text/plain": [
       "array(['North America', 'United States', 'Europe', 'Asia',\n",
       "       'European Union', 'India', 'South America', 'Turkey', 'Israel',\n",
       "       'Brazil', 'Germany', 'Chile', 'Russia', 'Africa', 'Italy',\n",
       "       'France', 'Morocco', 'Indonesia', 'United Kingdom',\n",
       "       'United Arab Emirates', 'Spain', 'Poland', 'England', 'Serbia',\n",
       "       'Romania', 'Mexico', 'Canada', 'Argentina', 'Netherlands',\n",
       "       'Hungary', 'Greece', 'Portugal', 'Belgium', 'Switzerland',\n",
       "       'Sweden', 'Czechia', 'Wales', 'Austria', 'Denmark', 'Norway',\n",
       "       'Singapore', 'Slovakia', 'Bahrain', 'Scotland', 'Peru',\n",
       "       'South Africa', 'Ireland', 'Lithuania', 'Slovenia', 'Finland',\n",
       "       'Northern Ireland', 'Croatia', 'Bulgaria', 'Jordan', 'Costa Rica',\n",
       "       'Estonia', 'Colombia', 'Lebanon', 'Malta', 'Kuwait', 'Cyprus',\n",
       "       'Seychelles', 'Japan', 'Gibraltar', 'Ecuador', 'Kazakhstan',\n",
       "       'Oman', 'Latvia', 'Bolivia', 'Luxembourg', 'Iceland',\n",
       "       'Cayman Islands', 'Bermuda', 'Isle of Man', 'Belarus', 'Monaco',\n",
       "       'Guernsey', 'Jersey', 'Faeroe Islands', 'Andorra', 'Greenland',\n",
       "       'Equatorial Guinea', 'Albania', 'South Korea', 'Montenegro',\n",
       "       'Montserrat', 'San Marino', 'Ukraine'], dtype=object)"
      ]
     },
     "execution_count": 13,
     "metadata": {},
     "output_type": "execute_result"
    }
   ],
   "source": [
    "attempt.Entity.unique()"
   ]
  },
  {
   "cell_type": "code",
   "execution_count": 14,
   "metadata": {
    "ExecuteTime": {
     "end_time": "2021-03-24T17:50:09.178346Z",
     "start_time": "2021-03-24T17:50:09.176163Z"
    }
   },
   "outputs": [],
   "source": [
    "continents = ['North America', 'Europe', 'Asia','European Union', \n",
    "              'Africa', 'South America', 'World']"
   ]
  },
  {
   "cell_type": "code",
   "execution_count": 15,
   "metadata": {
    "ExecuteTime": {
     "end_time": "2021-03-24T17:50:09.183331Z",
     "start_time": "2021-03-24T17:50:09.180089Z"
    }
   },
   "outputs": [],
   "source": [
    "attempt = attempt[~attempt['Entity'].isin(continents)]"
   ]
  },
  {
   "cell_type": "code",
   "execution_count": 16,
   "metadata": {
    "ExecuteTime": {
     "end_time": "2021-03-24T17:50:09.190033Z",
     "start_time": "2021-03-24T17:50:09.184993Z"
    }
   },
   "outputs": [
    {
     "data": {
      "text/plain": [
       "array(['United States', 'India', 'Turkey', 'Israel', 'Brazil', 'Germany',\n",
       "       'Chile', 'Russia', 'Italy', 'France', 'Morocco', 'Indonesia',\n",
       "       'United Kingdom', 'United Arab Emirates', 'Spain', 'Poland',\n",
       "       'England', 'Serbia', 'Romania', 'Mexico', 'Canada', 'Argentina',\n",
       "       'Netherlands', 'Hungary', 'Greece', 'Portugal', 'Belgium',\n",
       "       'Switzerland', 'Sweden', 'Czechia', 'Wales', 'Austria', 'Denmark',\n",
       "       'Norway', 'Singapore', 'Slovakia', 'Bahrain', 'Scotland', 'Peru',\n",
       "       'South Africa', 'Ireland', 'Lithuania', 'Slovenia', 'Finland',\n",
       "       'Northern Ireland', 'Croatia', 'Bulgaria', 'Jordan', 'Costa Rica',\n",
       "       'Estonia', 'Colombia', 'Lebanon', 'Malta', 'Kuwait', 'Cyprus',\n",
       "       'Seychelles', 'Japan', 'Gibraltar', 'Ecuador', 'Kazakhstan',\n",
       "       'Oman', 'Latvia', 'Bolivia', 'Luxembourg', 'Iceland',\n",
       "       'Cayman Islands', 'Bermuda', 'Isle of Man', 'Belarus', 'Monaco',\n",
       "       'Guernsey', 'Jersey', 'Faeroe Islands', 'Andorra', 'Greenland',\n",
       "       'Equatorial Guinea', 'Albania', 'South Korea', 'Montenegro',\n",
       "       'Montserrat', 'San Marino', 'Ukraine'], dtype=object)"
      ]
     },
     "execution_count": 16,
     "metadata": {},
     "output_type": "execute_result"
    }
   ],
   "source": [
    "attempt.Entity.unique()"
   ]
  },
  {
   "cell_type": "code",
   "execution_count": 17,
   "metadata": {
    "ExecuteTime": {
     "end_time": "2021-03-24T17:50:10.431892Z",
     "start_time": "2021-03-24T17:50:09.192049Z"
    }
   },
   "outputs": [
    {
     "data": {
      "text/plain": [
       "Entity\n",
       "Albania                 AxesSubplot(0.125,0.2;0.775x0.68)\n",
       "Andorra                 AxesSubplot(0.125,0.2;0.775x0.68)\n",
       "Argentina               AxesSubplot(0.125,0.2;0.775x0.68)\n",
       "Austria                 AxesSubplot(0.125,0.2;0.775x0.68)\n",
       "Bahrain                 AxesSubplot(0.125,0.2;0.775x0.68)\n",
       "                                      ...                \n",
       "Ukraine                 AxesSubplot(0.125,0.2;0.775x0.68)\n",
       "United Arab Emirates    AxesSubplot(0.125,0.2;0.775x0.68)\n",
       "United Kingdom          AxesSubplot(0.125,0.2;0.775x0.68)\n",
       "United States           AxesSubplot(0.125,0.2;0.775x0.68)\n",
       "Wales                   AxesSubplot(0.125,0.2;0.775x0.68)\n",
       "Length: 82, dtype: object"
      ]
     },
     "execution_count": 17,
     "metadata": {},
     "output_type": "execute_result"
    },
    {
     "data": {
      "image/png": "[encoded data removed]",
      "text/plain": [
       "<Figure size 1296x360 with 1 Axes>"
      ]
     },
     "metadata": {},
     "output_type": "display_data"
    }
   ],
   "source": [
    "fig, ax = plt.subplots()\n",
    "attempt.groupby('Entity').plot(x= 'Day', y= 'people_fully_vaccinated', ax= ax, figsize= (18,5), legend= False)\n"
   ]
  },
  {
   "cell_type": "code",
   "execution_count": 18,
   "metadata": {
    "ExecuteTime": {
     "end_time": "2021-03-24T17:50:10.443104Z",
     "start_time": "2021-03-24T17:50:10.437332Z"
    }
   },
   "outputs": [],
   "source": [
    "fully_vax_df = pd.read_csv('../data/people-fully-vaccinated-covid.csv')"
   ]
  },
  {
   "cell_type": "code",
   "execution_count": 19,
   "metadata": {
    "ExecuteTime": {
     "end_time": "2021-03-24T17:50:10.466159Z",
     "start_time": "2021-03-24T17:50:10.446941Z"
    }
   },
   "outputs": [
    {
     "data": {
      "text/html": [
       "<div>\n",
       "<style scoped>\n",
       "    .dataframe tbody tr th:only-of-type {\n",
       "        vertical-align: middle;\n",
       "    }\n",
       "\n",
       "    .dataframe tbody tr th {\n",
       "        vertical-align: top;\n",
       "    }\n",
       "\n",
       "    .dataframe thead th {\n",
       "        text-align: right;\n",
       "    }\n",
       "</style>\n",
       "<table border=\"1\" class=\"dataframe\">\n",
       "  <thead>\n",
       "    <tr style=\"text-align: right;\">\n",
       "      <th></th>\n",
       "      <th>Unnamed: 0</th>\n",
       "      <th>Economy</th>\n",
       "      <th>Code</th>\n",
       "      <th>Region</th>\n",
       "      <th>Income group</th>\n",
       "      <th>Lending category</th>\n",
       "      <th>Other</th>\n",
       "    </tr>\n",
       "  </thead>\n",
       "  <tbody>\n",
       "    <tr>\n",
       "      <th>0</th>\n",
       "      <td>1.0</td>\n",
       "      <td>Afghanistan</td>\n",
       "      <td>AFG</td>\n",
       "      <td>South Asia</td>\n",
       "      <td>Low income</td>\n",
       "      <td>IDA</td>\n",
       "      <td>HIPC</td>\n",
       "    </tr>\n",
       "    <tr>\n",
       "      <th>1</th>\n",
       "      <td>2.0</td>\n",
       "      <td>Albania</td>\n",
       "      <td>ALB</td>\n",
       "      <td>Europe &amp; Central Asia</td>\n",
       "      <td>Upper middle income</td>\n",
       "      <td>IBRD</td>\n",
       "      <td>NaN</td>\n",
       "    </tr>\n",
       "    <tr>\n",
       "      <th>2</th>\n",
       "      <td>3.0</td>\n",
       "      <td>Algeria</td>\n",
       "      <td>DZA</td>\n",
       "      <td>Middle East &amp; North Africa</td>\n",
       "      <td>Lower middle income</td>\n",
       "      <td>IBRD</td>\n",
       "      <td>NaN</td>\n",
       "    </tr>\n",
       "    <tr>\n",
       "      <th>3</th>\n",
       "      <td>4.0</td>\n",
       "      <td>American Samoa</td>\n",
       "      <td>ASM</td>\n",
       "      <td>East Asia &amp; Pacific</td>\n",
       "      <td>Upper middle income</td>\n",
       "      <td>..</td>\n",
       "      <td>NaN</td>\n",
       "    </tr>\n",
       "    <tr>\n",
       "      <th>4</th>\n",
       "      <td>5.0</td>\n",
       "      <td>Andorra</td>\n",
       "      <td>AND</td>\n",
       "      <td>Europe &amp; Central Asia</td>\n",
       "      <td>High income</td>\n",
       "      <td>..</td>\n",
       "      <td>NaN</td>\n",
       "    </tr>\n",
       "    <tr>\n",
       "      <th>...</th>\n",
       "      <td>...</td>\n",
       "      <td>...</td>\n",
       "      <td>...</td>\n",
       "      <td>...</td>\n",
       "      <td>...</td>\n",
       "      <td>...</td>\n",
       "      <td>...</td>\n",
       "    </tr>\n",
       "    <tr>\n",
       "      <th>261</th>\n",
       "      <td>42.0</td>\n",
       "      <td>Sub-Saharan Africa</td>\n",
       "      <td>SSF</td>\n",
       "      <td>NaN</td>\n",
       "      <td>NaN</td>\n",
       "      <td>NaN</td>\n",
       "      <td>NaN</td>\n",
       "    </tr>\n",
       "    <tr>\n",
       "      <th>262</th>\n",
       "      <td>43.0</td>\n",
       "      <td>Sub-Saharan Africa (excluding high income)</td>\n",
       "      <td>SSA</td>\n",
       "      <td>NaN</td>\n",
       "      <td>NaN</td>\n",
       "      <td>NaN</td>\n",
       "      <td>NaN</td>\n",
       "    </tr>\n",
       "    <tr>\n",
       "      <th>263</th>\n",
       "      <td>44.0</td>\n",
       "      <td>Sub-Saharan Africa (IDA &amp; IBRD)</td>\n",
       "      <td>TSS</td>\n",
       "      <td>NaN</td>\n",
       "      <td>NaN</td>\n",
       "      <td>NaN</td>\n",
       "      <td>NaN</td>\n",
       "    </tr>\n",
       "    <tr>\n",
       "      <th>264</th>\n",
       "      <td>45.0</td>\n",
       "      <td>Upper middle income</td>\n",
       "      <td>UMC</td>\n",
       "      <td>NaN</td>\n",
       "      <td>NaN</td>\n",
       "      <td>NaN</td>\n",
       "      <td>NaN</td>\n",
       "    </tr>\n",
       "    <tr>\n",
       "      <th>265</th>\n",
       "      <td>46.0</td>\n",
       "      <td>World</td>\n",
       "      <td>WLD</td>\n",
       "      <td>NaN</td>\n",
       "      <td>NaN</td>\n",
       "      <td>NaN</td>\n",
       "      <td>NaN</td>\n",
       "    </tr>\n",
       "  </tbody>\n",
       "</table>\n",
       "<p>266 rows × 7 columns</p>\n",
       "</div>"
      ],
      "text/plain": [
       "     Unnamed: 0                                     Economy Code  \\\n",
       "0           1.0                                 Afghanistan  AFG   \n",
       "1           2.0                                     Albania  ALB   \n",
       "2           3.0                                     Algeria  DZA   \n",
       "3           4.0                              American Samoa  ASM   \n",
       "4           5.0                                     Andorra  AND   \n",
       "..          ...                                         ...  ...   \n",
       "261        42.0                          Sub-Saharan Africa  SSF   \n",
       "262        43.0  Sub-Saharan Africa (excluding high income)  SSA   \n",
       "263        44.0             Sub-Saharan Africa (IDA & IBRD)  TSS   \n",
       "264        45.0                         Upper middle income  UMC   \n",
       "265        46.0                                       World  WLD   \n",
       "\n",
       "                         Region         Income group Lending category Other  \n",
       "0                    South Asia           Low income              IDA  HIPC  \n",
       "1         Europe & Central Asia  Upper middle income             IBRD   NaN  \n",
       "2    Middle East & North Africa  Lower middle income             IBRD   NaN  \n",
       "3           East Asia & Pacific  Upper middle income               ..   NaN  \n",
       "4         Europe & Central Asia          High income               ..   NaN  \n",
       "..                          ...                  ...              ...   ...  \n",
       "261                         NaN                  NaN              NaN   NaN  \n",
       "262                         NaN                  NaN              NaN   NaN  \n",
       "263                         NaN                  NaN              NaN   NaN  \n",
       "264                         NaN                  NaN              NaN   NaN  \n",
       "265                         NaN                  NaN              NaN   NaN  \n",
       "\n",
       "[266 rows x 7 columns]"
      ]
     },
     "execution_count": 19,
     "metadata": {},
     "output_type": "execute_result"
    }
   ],
   "source": [
    "country_incomes = pd.read_csv('../data/list-of-economies.csv', header= 4, index_col= False)\n",
    "country_incomes"
   ]
  },
  {
   "cell_type": "code",
   "execution_count": 20,
   "metadata": {
    "ExecuteTime": {
     "end_time": "2021-03-24T17:50:10.477281Z",
     "start_time": "2021-03-24T17:50:10.467747Z"
    },
    "scrolled": true
   },
   "outputs": [
    {
     "data": {
      "text/plain": [
       "Index(['Unnamed: 0', 'Economy', 'Code', 'Region', 'Income group',\n",
       "       'Lending category', 'Other'],\n",
       "      dtype='object')"
      ]
     },
     "execution_count": 20,
     "metadata": {},
     "output_type": "execute_result"
    }
   ],
   "source": [
    "country_incomes.columns"
   ]
  },
  {
   "cell_type": "code",
   "execution_count": 21,
   "metadata": {
    "ExecuteTime": {
     "end_time": "2021-03-24T17:50:10.486744Z",
     "start_time": "2021-03-24T17:50:10.480628Z"
    },
    "scrolled": true
   },
   "outputs": [
    {
     "data": {
      "text/plain": [
       "Unnamed: 0            2\n",
       "Economy               2\n",
       "Code                  2\n",
       "Region               48\n",
       "Income group         48\n",
       "Lending category     48\n",
       "Other               208\n",
       "dtype: int64"
      ]
     },
     "execution_count": 21,
     "metadata": {},
     "output_type": "execute_result"
    }
   ],
   "source": [
    "country_incomes.isna().sum()"
   ]
  },
  {
   "cell_type": "code",
   "execution_count": 22,
   "metadata": {
    "ExecuteTime": {
     "end_time": "2021-03-24T17:50:10.501382Z",
     "start_time": "2021-03-24T17:50:10.488678Z"
    }
   },
   "outputs": [
    {
     "data": {
      "text/html": [
       "<div>\n",
       "<style scoped>\n",
       "    .dataframe tbody tr th:only-of-type {\n",
       "        vertical-align: middle;\n",
       "    }\n",
       "\n",
       "    .dataframe tbody tr th {\n",
       "        vertical-align: top;\n",
       "    }\n",
       "\n",
       "    .dataframe thead th {\n",
       "        text-align: right;\n",
       "    }\n",
       "</style>\n",
       "<table border=\"1\" class=\"dataframe\">\n",
       "  <thead>\n",
       "    <tr style=\"text-align: right;\">\n",
       "      <th></th>\n",
       "      <th>Economy</th>\n",
       "      <th>Code</th>\n",
       "      <th>Region</th>\n",
       "      <th>Income group</th>\n",
       "      <th>Lending category</th>\n",
       "    </tr>\n",
       "  </thead>\n",
       "  <tbody>\n",
       "    <tr>\n",
       "      <th>0</th>\n",
       "      <td>Afghanistan</td>\n",
       "      <td>AFG</td>\n",
       "      <td>South Asia</td>\n",
       "      <td>Low income</td>\n",
       "      <td>IDA</td>\n",
       "    </tr>\n",
       "    <tr>\n",
       "      <th>1</th>\n",
       "      <td>Albania</td>\n",
       "      <td>ALB</td>\n",
       "      <td>Europe &amp; Central Asia</td>\n",
       "      <td>Upper middle income</td>\n",
       "      <td>IBRD</td>\n",
       "    </tr>\n",
       "    <tr>\n",
       "      <th>2</th>\n",
       "      <td>Algeria</td>\n",
       "      <td>DZA</td>\n",
       "      <td>Middle East &amp; North Africa</td>\n",
       "      <td>Lower middle income</td>\n",
       "      <td>IBRD</td>\n",
       "    </tr>\n",
       "    <tr>\n",
       "      <th>3</th>\n",
       "      <td>American Samoa</td>\n",
       "      <td>ASM</td>\n",
       "      <td>East Asia &amp; Pacific</td>\n",
       "      <td>Upper middle income</td>\n",
       "      <td>..</td>\n",
       "    </tr>\n",
       "    <tr>\n",
       "      <th>4</th>\n",
       "      <td>Andorra</td>\n",
       "      <td>AND</td>\n",
       "      <td>Europe &amp; Central Asia</td>\n",
       "      <td>High income</td>\n",
       "      <td>..</td>\n",
       "    </tr>\n",
       "    <tr>\n",
       "      <th>...</th>\n",
       "      <td>...</td>\n",
       "      <td>...</td>\n",
       "      <td>...</td>\n",
       "      <td>...</td>\n",
       "      <td>...</td>\n",
       "    </tr>\n",
       "    <tr>\n",
       "      <th>261</th>\n",
       "      <td>Sub-Saharan Africa</td>\n",
       "      <td>SSF</td>\n",
       "      <td>NaN</td>\n",
       "      <td>NaN</td>\n",
       "      <td>NaN</td>\n",
       "    </tr>\n",
       "    <tr>\n",
       "      <th>262</th>\n",
       "      <td>Sub-Saharan Africa (excluding high income)</td>\n",
       "      <td>SSA</td>\n",
       "      <td>NaN</td>\n",
       "      <td>NaN</td>\n",
       "      <td>NaN</td>\n",
       "    </tr>\n",
       "    <tr>\n",
       "      <th>263</th>\n",
       "      <td>Sub-Saharan Africa (IDA &amp; IBRD)</td>\n",
       "      <td>TSS</td>\n",
       "      <td>NaN</td>\n",
       "      <td>NaN</td>\n",
       "      <td>NaN</td>\n",
       "    </tr>\n",
       "    <tr>\n",
       "      <th>264</th>\n",
       "      <td>Upper middle income</td>\n",
       "      <td>UMC</td>\n",
       "      <td>NaN</td>\n",
       "      <td>NaN</td>\n",
       "      <td>NaN</td>\n",
       "    </tr>\n",
       "    <tr>\n",
       "      <th>265</th>\n",
       "      <td>World</td>\n",
       "      <td>WLD</td>\n",
       "      <td>NaN</td>\n",
       "      <td>NaN</td>\n",
       "      <td>NaN</td>\n",
       "    </tr>\n",
       "  </tbody>\n",
       "</table>\n",
       "<p>266 rows × 5 columns</p>\n",
       "</div>"
      ],
      "text/plain": [
       "                                        Economy Code  \\\n",
       "0                                   Afghanistan  AFG   \n",
       "1                                       Albania  ALB   \n",
       "2                                       Algeria  DZA   \n",
       "3                                American Samoa  ASM   \n",
       "4                                       Andorra  AND   \n",
       "..                                          ...  ...   \n",
       "261                          Sub-Saharan Africa  SSF   \n",
       "262  Sub-Saharan Africa (excluding high income)  SSA   \n",
       "263             Sub-Saharan Africa (IDA & IBRD)  TSS   \n",
       "264                         Upper middle income  UMC   \n",
       "265                                       World  WLD   \n",
       "\n",
       "                         Region         Income group Lending category  \n",
       "0                    South Asia           Low income              IDA  \n",
       "1         Europe & Central Asia  Upper middle income             IBRD  \n",
       "2    Middle East & North Africa  Lower middle income             IBRD  \n",
       "3           East Asia & Pacific  Upper middle income               ..  \n",
       "4         Europe & Central Asia          High income               ..  \n",
       "..                          ...                  ...              ...  \n",
       "261                         NaN                  NaN              NaN  \n",
       "262                         NaN                  NaN              NaN  \n",
       "263                         NaN                  NaN              NaN  \n",
       "264                         NaN                  NaN              NaN  \n",
       "265                         NaN                  NaN              NaN  \n",
       "\n",
       "[266 rows x 5 columns]"
      ]
     },
     "execution_count": 22,
     "metadata": {},
     "output_type": "execute_result"
    }
   ],
   "source": [
    "country_incomes.drop(columns= ['Unnamed: 0', 'Other'], inplace= True)\n",
    "country_incomes"
   ]
  },
  {
   "cell_type": "code",
   "execution_count": 23,
   "metadata": {
    "ExecuteTime": {
     "end_time": "2021-03-24T17:50:10.506746Z",
     "start_time": "2021-03-24T17:50:10.503835Z"
    }
   },
   "outputs": [],
   "source": [
    "pd.set_option('display.max_rows', 50)"
   ]
  },
  {
   "cell_type": "code",
   "execution_count": 24,
   "metadata": {
    "ExecuteTime": {
     "end_time": "2021-03-24T17:50:10.521742Z",
     "start_time": "2021-03-24T17:50:10.509205Z"
    },
    "scrolled": true
   },
   "outputs": [
    {
     "data": {
      "text/html": [
       "<div>\n",
       "<style scoped>\n",
       "    .dataframe tbody tr th:only-of-type {\n",
       "        vertical-align: middle;\n",
       "    }\n",
       "\n",
       "    .dataframe tbody tr th {\n",
       "        vertical-align: top;\n",
       "    }\n",
       "\n",
       "    .dataframe thead th {\n",
       "        text-align: right;\n",
       "    }\n",
       "</style>\n",
       "<table border=\"1\" class=\"dataframe\">\n",
       "  <thead>\n",
       "    <tr style=\"text-align: right;\">\n",
       "      <th></th>\n",
       "      <th>Economy</th>\n",
       "      <th>Code</th>\n",
       "      <th>Region</th>\n",
       "      <th>Income group</th>\n",
       "      <th>Lending category</th>\n",
       "    </tr>\n",
       "  </thead>\n",
       "  <tbody>\n",
       "    <tr>\n",
       "      <th>0</th>\n",
       "      <td>Afghanistan</td>\n",
       "      <td>AFG</td>\n",
       "      <td>South Asia</td>\n",
       "      <td>Low income</td>\n",
       "      <td>IDA</td>\n",
       "    </tr>\n",
       "    <tr>\n",
       "      <th>1</th>\n",
       "      <td>Albania</td>\n",
       "      <td>ALB</td>\n",
       "      <td>Europe &amp; Central Asia</td>\n",
       "      <td>Upper middle income</td>\n",
       "      <td>IBRD</td>\n",
       "    </tr>\n",
       "    <tr>\n",
       "      <th>2</th>\n",
       "      <td>Algeria</td>\n",
       "      <td>DZA</td>\n",
       "      <td>Middle East &amp; North Africa</td>\n",
       "      <td>Lower middle income</td>\n",
       "      <td>IBRD</td>\n",
       "    </tr>\n",
       "    <tr>\n",
       "      <th>3</th>\n",
       "      <td>American Samoa</td>\n",
       "      <td>ASM</td>\n",
       "      <td>East Asia &amp; Pacific</td>\n",
       "      <td>Upper middle income</td>\n",
       "      <td>..</td>\n",
       "    </tr>\n",
       "    <tr>\n",
       "      <th>4</th>\n",
       "      <td>Andorra</td>\n",
       "      <td>AND</td>\n",
       "      <td>Europe &amp; Central Asia</td>\n",
       "      <td>High income</td>\n",
       "      <td>..</td>\n",
       "    </tr>\n",
       "    <tr>\n",
       "      <th>5</th>\n",
       "      <td>Angola</td>\n",
       "      <td>AGO</td>\n",
       "      <td>Sub-Saharan Africa</td>\n",
       "      <td>Lower middle income</td>\n",
       "      <td>IBRD</td>\n",
       "    </tr>\n",
       "    <tr>\n",
       "      <th>6</th>\n",
       "      <td>Antigua and Barbuda</td>\n",
       "      <td>ATG</td>\n",
       "      <td>Latin America &amp; Caribbean</td>\n",
       "      <td>High income</td>\n",
       "      <td>IBRD</td>\n",
       "    </tr>\n",
       "    <tr>\n",
       "      <th>7</th>\n",
       "      <td>Argentina</td>\n",
       "      <td>ARG</td>\n",
       "      <td>Latin America &amp; Caribbean</td>\n",
       "      <td>Upper middle income</td>\n",
       "      <td>IBRD</td>\n",
       "    </tr>\n",
       "    <tr>\n",
       "      <th>8</th>\n",
       "      <td>Armenia</td>\n",
       "      <td>ARM</td>\n",
       "      <td>Europe &amp; Central Asia</td>\n",
       "      <td>Upper middle income</td>\n",
       "      <td>IBRD</td>\n",
       "    </tr>\n",
       "    <tr>\n",
       "      <th>9</th>\n",
       "      <td>Aruba</td>\n",
       "      <td>ABW</td>\n",
       "      <td>Latin America &amp; Caribbean</td>\n",
       "      <td>High income</td>\n",
       "      <td>..</td>\n",
       "    </tr>\n",
       "    <tr>\n",
       "      <th>10</th>\n",
       "      <td>Australia</td>\n",
       "      <td>AUS</td>\n",
       "      <td>East Asia &amp; Pacific</td>\n",
       "      <td>High income</td>\n",
       "      <td>..</td>\n",
       "    </tr>\n",
       "    <tr>\n",
       "      <th>11</th>\n",
       "      <td>Austria</td>\n",
       "      <td>AUT</td>\n",
       "      <td>Europe &amp; Central Asia</td>\n",
       "      <td>High income</td>\n",
       "      <td>..</td>\n",
       "    </tr>\n",
       "    <tr>\n",
       "      <th>12</th>\n",
       "      <td>Azerbaijan</td>\n",
       "      <td>AZE</td>\n",
       "      <td>Europe &amp; Central Asia</td>\n",
       "      <td>Upper middle income</td>\n",
       "      <td>IBRD</td>\n",
       "    </tr>\n",
       "    <tr>\n",
       "      <th>13</th>\n",
       "      <td>Bahamas, The</td>\n",
       "      <td>BHS</td>\n",
       "      <td>Latin America &amp; Caribbean</td>\n",
       "      <td>High income</td>\n",
       "      <td>..</td>\n",
       "    </tr>\n",
       "    <tr>\n",
       "      <th>14</th>\n",
       "      <td>Bahrain</td>\n",
       "      <td>BHR</td>\n",
       "      <td>Middle East &amp; North Africa</td>\n",
       "      <td>High income</td>\n",
       "      <td>..</td>\n",
       "    </tr>\n",
       "    <tr>\n",
       "      <th>15</th>\n",
       "      <td>Bangladesh</td>\n",
       "      <td>BGD</td>\n",
       "      <td>South Asia</td>\n",
       "      <td>Lower middle income</td>\n",
       "      <td>IDA</td>\n",
       "    </tr>\n",
       "    <tr>\n",
       "      <th>16</th>\n",
       "      <td>Barbados</td>\n",
       "      <td>BRB</td>\n",
       "      <td>Latin America &amp; Caribbean</td>\n",
       "      <td>High income</td>\n",
       "      <td>..</td>\n",
       "    </tr>\n",
       "    <tr>\n",
       "      <th>17</th>\n",
       "      <td>Belarus</td>\n",
       "      <td>BLR</td>\n",
       "      <td>Europe &amp; Central Asia</td>\n",
       "      <td>Upper middle income</td>\n",
       "      <td>IBRD</td>\n",
       "    </tr>\n",
       "    <tr>\n",
       "      <th>18</th>\n",
       "      <td>Belgium</td>\n",
       "      <td>BEL</td>\n",
       "      <td>Europe &amp; Central Asia</td>\n",
       "      <td>High income</td>\n",
       "      <td>..</td>\n",
       "    </tr>\n",
       "    <tr>\n",
       "      <th>19</th>\n",
       "      <td>Belize</td>\n",
       "      <td>BLZ</td>\n",
       "      <td>Latin America &amp; Caribbean</td>\n",
       "      <td>Upper middle income</td>\n",
       "      <td>IBRD</td>\n",
       "    </tr>\n",
       "    <tr>\n",
       "      <th>20</th>\n",
       "      <td>Benin</td>\n",
       "      <td>BEN</td>\n",
       "      <td>Sub-Saharan Africa</td>\n",
       "      <td>Lower middle income</td>\n",
       "      <td>IDA</td>\n",
       "    </tr>\n",
       "    <tr>\n",
       "      <th>21</th>\n",
       "      <td>Bermuda</td>\n",
       "      <td>BMU</td>\n",
       "      <td>North America</td>\n",
       "      <td>High income</td>\n",
       "      <td>..</td>\n",
       "    </tr>\n",
       "    <tr>\n",
       "      <th>22</th>\n",
       "      <td>Bhutan</td>\n",
       "      <td>BTN</td>\n",
       "      <td>South Asia</td>\n",
       "      <td>Lower middle income</td>\n",
       "      <td>IDA</td>\n",
       "    </tr>\n",
       "    <tr>\n",
       "      <th>23</th>\n",
       "      <td>Bolivia</td>\n",
       "      <td>BOL</td>\n",
       "      <td>Latin America &amp; Caribbean</td>\n",
       "      <td>Lower middle income</td>\n",
       "      <td>IBRD</td>\n",
       "    </tr>\n",
       "    <tr>\n",
       "      <th>24</th>\n",
       "      <td>Bosnia and Herzegovina</td>\n",
       "      <td>BIH</td>\n",
       "      <td>Europe &amp; Central Asia</td>\n",
       "      <td>Upper middle income</td>\n",
       "      <td>IBRD</td>\n",
       "    </tr>\n",
       "    <tr>\n",
       "      <th>25</th>\n",
       "      <td>Botswana</td>\n",
       "      <td>BWA</td>\n",
       "      <td>Sub-Saharan Africa</td>\n",
       "      <td>Upper middle income</td>\n",
       "      <td>IBRD</td>\n",
       "    </tr>\n",
       "    <tr>\n",
       "      <th>26</th>\n",
       "      <td>Brazil</td>\n",
       "      <td>BRA</td>\n",
       "      <td>Latin America &amp; Caribbean</td>\n",
       "      <td>Upper middle income</td>\n",
       "      <td>IBRD</td>\n",
       "    </tr>\n",
       "    <tr>\n",
       "      <th>27</th>\n",
       "      <td>British Virgin Islands</td>\n",
       "      <td>VGB</td>\n",
       "      <td>Latin America &amp; Caribbean</td>\n",
       "      <td>High income</td>\n",
       "      <td>..</td>\n",
       "    </tr>\n",
       "    <tr>\n",
       "      <th>28</th>\n",
       "      <td>Brunei Darussalam</td>\n",
       "      <td>BRN</td>\n",
       "      <td>East Asia &amp; Pacific</td>\n",
       "      <td>High income</td>\n",
       "      <td>..</td>\n",
       "    </tr>\n",
       "    <tr>\n",
       "      <th>29</th>\n",
       "      <td>Bulgaria</td>\n",
       "      <td>BGR</td>\n",
       "      <td>Europe &amp; Central Asia</td>\n",
       "      <td>Upper middle income</td>\n",
       "      <td>IBRD</td>\n",
       "    </tr>\n",
       "    <tr>\n",
       "      <th>30</th>\n",
       "      <td>Burkina Faso</td>\n",
       "      <td>BFA</td>\n",
       "      <td>Sub-Saharan Africa</td>\n",
       "      <td>Low income</td>\n",
       "      <td>IDA</td>\n",
       "    </tr>\n",
       "    <tr>\n",
       "      <th>31</th>\n",
       "      <td>Burundi</td>\n",
       "      <td>BDI</td>\n",
       "      <td>Sub-Saharan Africa</td>\n",
       "      <td>Low income</td>\n",
       "      <td>IDA</td>\n",
       "    </tr>\n",
       "    <tr>\n",
       "      <th>32</th>\n",
       "      <td>Cabo Verde</td>\n",
       "      <td>CPV</td>\n",
       "      <td>Sub-Saharan Africa</td>\n",
       "      <td>Lower middle income</td>\n",
       "      <td>Blend</td>\n",
       "    </tr>\n",
       "    <tr>\n",
       "      <th>33</th>\n",
       "      <td>Cambodia</td>\n",
       "      <td>KHM</td>\n",
       "      <td>East Asia &amp; Pacific</td>\n",
       "      <td>Lower middle income</td>\n",
       "      <td>IDA</td>\n",
       "    </tr>\n",
       "    <tr>\n",
       "      <th>34</th>\n",
       "      <td>Cameroon</td>\n",
       "      <td>CMR</td>\n",
       "      <td>Sub-Saharan Africa</td>\n",
       "      <td>Lower middle income</td>\n",
       "      <td>Blend</td>\n",
       "    </tr>\n",
       "    <tr>\n",
       "      <th>35</th>\n",
       "      <td>Canada</td>\n",
       "      <td>CAN</td>\n",
       "      <td>North America</td>\n",
       "      <td>High income</td>\n",
       "      <td>..</td>\n",
       "    </tr>\n",
       "    <tr>\n",
       "      <th>36</th>\n",
       "      <td>Cayman Islands</td>\n",
       "      <td>CYM</td>\n",
       "      <td>Latin America &amp; Caribbean</td>\n",
       "      <td>High income</td>\n",
       "      <td>..</td>\n",
       "    </tr>\n",
       "    <tr>\n",
       "      <th>37</th>\n",
       "      <td>Central African Republic</td>\n",
       "      <td>CAF</td>\n",
       "      <td>Sub-Saharan Africa</td>\n",
       "      <td>Low income</td>\n",
       "      <td>IDA</td>\n",
       "    </tr>\n",
       "    <tr>\n",
       "      <th>38</th>\n",
       "      <td>Chad</td>\n",
       "      <td>TCD</td>\n",
       "      <td>Sub-Saharan Africa</td>\n",
       "      <td>Low income</td>\n",
       "      <td>IDA</td>\n",
       "    </tr>\n",
       "    <tr>\n",
       "      <th>39</th>\n",
       "      <td>Channel Islands</td>\n",
       "      <td>CHI</td>\n",
       "      <td>Europe &amp; Central Asia</td>\n",
       "      <td>High income</td>\n",
       "      <td>..</td>\n",
       "    </tr>\n",
       "  </tbody>\n",
       "</table>\n",
       "</div>"
      ],
      "text/plain": [
       "                     Economy Code                      Region  \\\n",
       "0                Afghanistan  AFG                  South Asia   \n",
       "1                    Albania  ALB       Europe & Central Asia   \n",
       "2                    Algeria  DZA  Middle East & North Africa   \n",
       "3             American Samoa  ASM         East Asia & Pacific   \n",
       "4                    Andorra  AND       Europe & Central Asia   \n",
       "5                     Angola  AGO          Sub-Saharan Africa   \n",
       "6        Antigua and Barbuda  ATG   Latin America & Caribbean   \n",
       "7                  Argentina  ARG   Latin America & Caribbean   \n",
       "8                    Armenia  ARM       Europe & Central Asia   \n",
       "9                      Aruba  ABW   Latin America & Caribbean   \n",
       "10                 Australia  AUS         East Asia & Pacific   \n",
       "11                   Austria  AUT       Europe & Central Asia   \n",
       "12                Azerbaijan  AZE       Europe & Central Asia   \n",
       "13              Bahamas, The  BHS   Latin America & Caribbean   \n",
       "14                   Bahrain  BHR  Middle East & North Africa   \n",
       "15                Bangladesh  BGD                  South Asia   \n",
       "16                  Barbados  BRB   Latin America & Caribbean   \n",
       "17                   Belarus  BLR       Europe & Central Asia   \n",
       "18                   Belgium  BEL       Europe & Central Asia   \n",
       "19                    Belize  BLZ   Latin America & Caribbean   \n",
       "20                     Benin  BEN          Sub-Saharan Africa   \n",
       "21                   Bermuda  BMU               North America   \n",
       "22                    Bhutan  BTN                  South Asia   \n",
       "23                   Bolivia  BOL   Latin America & Caribbean   \n",
       "24    Bosnia and Herzegovina  BIH       Europe & Central Asia   \n",
       "25                  Botswana  BWA          Sub-Saharan Africa   \n",
       "26                    Brazil  BRA   Latin America & Caribbean   \n",
       "27    British Virgin Islands  VGB   Latin America & Caribbean   \n",
       "28         Brunei Darussalam  BRN         East Asia & Pacific   \n",
       "29                  Bulgaria  BGR       Europe & Central Asia   \n",
       "30              Burkina Faso  BFA          Sub-Saharan Africa   \n",
       "31                   Burundi  BDI          Sub-Saharan Africa   \n",
       "32                Cabo Verde  CPV          Sub-Saharan Africa   \n",
       "33                  Cambodia  KHM         East Asia & Pacific   \n",
       "34                  Cameroon  CMR          Sub-Saharan Africa   \n",
       "35                    Canada  CAN               North America   \n",
       "36            Cayman Islands  CYM   Latin America & Caribbean   \n",
       "37  Central African Republic  CAF          Sub-Saharan Africa   \n",
       "38                      Chad  TCD          Sub-Saharan Africa   \n",
       "39           Channel Islands  CHI       Europe & Central Asia   \n",
       "\n",
       "           Income group Lending category  \n",
       "0            Low income              IDA  \n",
       "1   Upper middle income             IBRD  \n",
       "2   Lower middle income             IBRD  \n",
       "3   Upper middle income               ..  \n",
       "4           High income               ..  \n",
       "5   Lower middle income             IBRD  \n",
       "6           High income             IBRD  \n",
       "7   Upper middle income             IBRD  \n",
       "8   Upper middle income             IBRD  \n",
       "9           High income               ..  \n",
       "10          High income               ..  \n",
       "11          High income               ..  \n",
       "12  Upper middle income             IBRD  \n",
       "13          High income               ..  \n",
       "14          High income               ..  \n",
       "15  Lower middle income              IDA  \n",
       "16          High income               ..  \n",
       "17  Upper middle income             IBRD  \n",
       "18          High income               ..  \n",
       "19  Upper middle income             IBRD  \n",
       "20  Lower middle income              IDA  \n",
       "21          High income               ..  \n",
       "22  Lower middle income              IDA  \n",
       "23  Lower middle income             IBRD  \n",
       "24  Upper middle income             IBRD  \n",
       "25  Upper middle income             IBRD  \n",
       "26  Upper middle income             IBRD  \n",
       "27          High income               ..  \n",
       "28          High income               ..  \n",
       "29  Upper middle income             IBRD  \n",
       "30           Low income              IDA  \n",
       "31           Low income              IDA  \n",
       "32  Lower middle income            Blend  \n",
       "33  Lower middle income              IDA  \n",
       "34  Lower middle income            Blend  \n",
       "35          High income               ..  \n",
       "36          High income               ..  \n",
       "37           Low income              IDA  \n",
       "38           Low income              IDA  \n",
       "39          High income               ..  "
      ]
     },
     "execution_count": 24,
     "metadata": {},
     "output_type": "execute_result"
    }
   ],
   "source": [
    "country_incomes.head(40)"
   ]
  },
  {
   "cell_type": "code",
   "execution_count": 25,
   "metadata": {
    "ExecuteTime": {
     "end_time": "2021-03-24T17:50:10.526417Z",
     "start_time": "2021-03-24T17:50:10.523913Z"
    }
   },
   "outputs": [],
   "source": [
    "ci2 = country_incomes.copy()"
   ]
  },
  {
   "cell_type": "code",
   "execution_count": 26,
   "metadata": {
    "ExecuteTime": {
     "end_time": "2021-03-24T17:50:10.531511Z",
     "start_time": "2021-03-24T17:50:10.529088Z"
    }
   },
   "outputs": [],
   "source": [
    "ci2 = ci2.iloc[:218]"
   ]
  },
  {
   "cell_type": "code",
   "execution_count": 27,
   "metadata": {
    "ExecuteTime": {
     "end_time": "2021-03-24T17:50:10.547104Z",
     "start_time": "2021-03-24T17:50:10.534170Z"
    }
   },
   "outputs": [
    {
     "data": {
      "text/html": [
       "<div>\n",
       "<style scoped>\n",
       "    .dataframe tbody tr th:only-of-type {\n",
       "        vertical-align: middle;\n",
       "    }\n",
       "\n",
       "    .dataframe tbody tr th {\n",
       "        vertical-align: top;\n",
       "    }\n",
       "\n",
       "    .dataframe thead th {\n",
       "        text-align: right;\n",
       "    }\n",
       "</style>\n",
       "<table border=\"1\" class=\"dataframe\">\n",
       "  <thead>\n",
       "    <tr style=\"text-align: right;\">\n",
       "      <th></th>\n",
       "      <th>Economy</th>\n",
       "      <th>Code</th>\n",
       "      <th>Region</th>\n",
       "      <th>Income group</th>\n",
       "      <th>Lending category</th>\n",
       "    </tr>\n",
       "  </thead>\n",
       "  <tbody>\n",
       "    <tr>\n",
       "      <th>203</th>\n",
       "      <td>Uganda</td>\n",
       "      <td>UGA</td>\n",
       "      <td>Sub-Saharan Africa</td>\n",
       "      <td>Low income</td>\n",
       "      <td>IDA</td>\n",
       "    </tr>\n",
       "    <tr>\n",
       "      <th>204</th>\n",
       "      <td>Ukraine</td>\n",
       "      <td>UKR</td>\n",
       "      <td>Europe &amp; Central Asia</td>\n",
       "      <td>Lower middle income</td>\n",
       "      <td>IBRD</td>\n",
       "    </tr>\n",
       "    <tr>\n",
       "      <th>205</th>\n",
       "      <td>United Arab Emirates</td>\n",
       "      <td>ARE</td>\n",
       "      <td>Middle East &amp; North Africa</td>\n",
       "      <td>High income</td>\n",
       "      <td>..</td>\n",
       "    </tr>\n",
       "    <tr>\n",
       "      <th>206</th>\n",
       "      <td>United Kingdom</td>\n",
       "      <td>GBR</td>\n",
       "      <td>Europe &amp; Central Asia</td>\n",
       "      <td>High income</td>\n",
       "      <td>..</td>\n",
       "    </tr>\n",
       "    <tr>\n",
       "      <th>207</th>\n",
       "      <td>United States</td>\n",
       "      <td>USA</td>\n",
       "      <td>North America</td>\n",
       "      <td>High income</td>\n",
       "      <td>..</td>\n",
       "    </tr>\n",
       "    <tr>\n",
       "      <th>208</th>\n",
       "      <td>Uruguay</td>\n",
       "      <td>URY</td>\n",
       "      <td>Latin America &amp; Caribbean</td>\n",
       "      <td>High income</td>\n",
       "      <td>IBRD</td>\n",
       "    </tr>\n",
       "    <tr>\n",
       "      <th>209</th>\n",
       "      <td>Uzbekistan</td>\n",
       "      <td>UZB</td>\n",
       "      <td>Europe &amp; Central Asia</td>\n",
       "      <td>Lower middle income</td>\n",
       "      <td>Blend</td>\n",
       "    </tr>\n",
       "    <tr>\n",
       "      <th>210</th>\n",
       "      <td>Vanuatu</td>\n",
       "      <td>VUT</td>\n",
       "      <td>East Asia &amp; Pacific</td>\n",
       "      <td>Lower middle income</td>\n",
       "      <td>IDA</td>\n",
       "    </tr>\n",
       "    <tr>\n",
       "      <th>211</th>\n",
       "      <td>Venezuela, RB</td>\n",
       "      <td>VEN</td>\n",
       "      <td>Latin America &amp; Caribbean</td>\n",
       "      <td>Upper middle income</td>\n",
       "      <td>IBRD</td>\n",
       "    </tr>\n",
       "    <tr>\n",
       "      <th>212</th>\n",
       "      <td>Vietnam</td>\n",
       "      <td>VNM</td>\n",
       "      <td>East Asia &amp; Pacific</td>\n",
       "      <td>Lower middle income</td>\n",
       "      <td>IBRD</td>\n",
       "    </tr>\n",
       "    <tr>\n",
       "      <th>213</th>\n",
       "      <td>Virgin Islands (U.S.)</td>\n",
       "      <td>VIR</td>\n",
       "      <td>Latin America &amp; Caribbean</td>\n",
       "      <td>High income</td>\n",
       "      <td>..</td>\n",
       "    </tr>\n",
       "    <tr>\n",
       "      <th>214</th>\n",
       "      <td>West Bank and Gaza</td>\n",
       "      <td>PSE</td>\n",
       "      <td>Middle East &amp; North Africa</td>\n",
       "      <td>Lower middle income</td>\n",
       "      <td>..</td>\n",
       "    </tr>\n",
       "    <tr>\n",
       "      <th>215</th>\n",
       "      <td>Yemen, Rep.</td>\n",
       "      <td>YEM</td>\n",
       "      <td>Middle East &amp; North Africa</td>\n",
       "      <td>Low income</td>\n",
       "      <td>IDA</td>\n",
       "    </tr>\n",
       "    <tr>\n",
       "      <th>216</th>\n",
       "      <td>Zambia</td>\n",
       "      <td>ZMB</td>\n",
       "      <td>Sub-Saharan Africa</td>\n",
       "      <td>Lower middle income</td>\n",
       "      <td>IDA</td>\n",
       "    </tr>\n",
       "    <tr>\n",
       "      <th>217</th>\n",
       "      <td>Zimbabwe</td>\n",
       "      <td>ZWE</td>\n",
       "      <td>Sub-Saharan Africa</td>\n",
       "      <td>Lower middle income</td>\n",
       "      <td>Blend</td>\n",
       "    </tr>\n",
       "  </tbody>\n",
       "</table>\n",
       "</div>"
      ],
      "text/plain": [
       "                   Economy Code                      Region  \\\n",
       "203                 Uganda  UGA          Sub-Saharan Africa   \n",
       "204                Ukraine  UKR       Europe & Central Asia   \n",
       "205   United Arab Emirates  ARE  Middle East & North Africa   \n",
       "206         United Kingdom  GBR       Europe & Central Asia   \n",
       "207          United States  USA               North America   \n",
       "208                Uruguay  URY   Latin America & Caribbean   \n",
       "209             Uzbekistan  UZB       Europe & Central Asia   \n",
       "210                Vanuatu  VUT         East Asia & Pacific   \n",
       "211          Venezuela, RB  VEN   Latin America & Caribbean   \n",
       "212                Vietnam  VNM         East Asia & Pacific   \n",
       "213  Virgin Islands (U.S.)  VIR   Latin America & Caribbean   \n",
       "214     West Bank and Gaza  PSE  Middle East & North Africa   \n",
       "215            Yemen, Rep.  YEM  Middle East & North Africa   \n",
       "216                 Zambia  ZMB          Sub-Saharan Africa   \n",
       "217               Zimbabwe  ZWE          Sub-Saharan Africa   \n",
       "\n",
       "            Income group Lending category  \n",
       "203           Low income              IDA  \n",
       "204  Lower middle income             IBRD  \n",
       "205          High income               ..  \n",
       "206          High income               ..  \n",
       "207          High income               ..  \n",
       "208          High income             IBRD  \n",
       "209  Lower middle income            Blend  \n",
       "210  Lower middle income              IDA  \n",
       "211  Upper middle income             IBRD  \n",
       "212  Lower middle income             IBRD  \n",
       "213          High income               ..  \n",
       "214  Lower middle income               ..  \n",
       "215           Low income              IDA  \n",
       "216  Lower middle income              IDA  \n",
       "217  Lower middle income            Blend  "
      ]
     },
     "execution_count": 27,
     "metadata": {},
     "output_type": "execute_result"
    }
   ],
   "source": [
    "ci2.tail(15)"
   ]
  },
  {
   "cell_type": "code",
   "execution_count": 28,
   "metadata": {
    "ExecuteTime": {
     "end_time": "2021-03-24T17:50:10.561446Z",
     "start_time": "2021-03-24T17:50:10.549427Z"
    },
    "scrolled": true
   },
   "outputs": [
    {
     "name": "stdout",
     "output_type": "stream",
     "text": [
      "<class 'pandas.core.frame.DataFrame'>\n",
      "RangeIndex: 218 entries, 0 to 217\n",
      "Data columns (total 5 columns):\n",
      " #   Column            Non-Null Count  Dtype \n",
      "---  ------            --------------  ----- \n",
      " 0   Economy           218 non-null    object\n",
      " 1   Code              218 non-null    object\n",
      " 2   Region            218 non-null    object\n",
      " 3   Income group      218 non-null    object\n",
      " 4   Lending category  218 non-null    object\n",
      "dtypes: object(5)\n",
      "memory usage: 8.6+ KB\n"
     ]
    }
   ],
   "source": [
    "ci2.info()"
   ]
  },
  {
   "cell_type": "code",
   "execution_count": 29,
   "metadata": {
    "ExecuteTime": {
     "end_time": "2021-03-24T17:50:10.577330Z",
     "start_time": "2021-03-24T17:50:10.564283Z"
    }
   },
   "outputs": [
    {
     "name": "stdout",
     "output_type": "stream",
     "text": [
      "<class 'pandas.core.frame.DataFrame'>\n",
      "Int64Index: 2839 entries, 3178 to 3042\n",
      "Data columns (total 4 columns):\n",
      " #   Column                   Non-Null Count  Dtype         \n",
      "---  ------                   --------------  -----         \n",
      " 0   Entity                   2839 non-null   object        \n",
      " 1   Code                     2557 non-null   object        \n",
      " 2   Day                      2839 non-null   datetime64[ns]\n",
      " 3   people_fully_vaccinated  2839 non-null   int64         \n",
      "dtypes: datetime64[ns](1), int64(1), object(2)\n",
      "memory usage: 110.9+ KB\n"
     ]
    }
   ],
   "source": [
    "attempt.info()"
   ]
  },
  {
   "cell_type": "markdown",
   "metadata": {},
   "source": [
    "## Merge dfs then segment by income to plot TS"
   ]
  },
  {
   "cell_type": "code",
   "execution_count": 37,
   "metadata": {
    "ExecuteTime": {
     "end_time": "2021-03-24T17:50:10.656835Z",
     "start_time": "2021-03-24T17:50:10.649948Z"
    }
   },
   "outputs": [],
   "source": [
    "test2_all = pd.merge(attempt, ci2, how= 'left', on= 'Code')"
   ]
  },
  {
   "cell_type": "code",
   "execution_count": 38,
   "metadata": {
    "ExecuteTime": {
     "end_time": "2021-03-24T17:50:10.671515Z",
     "start_time": "2021-03-24T17:50:10.658708Z"
    }
   },
   "outputs": [
    {
     "name": "stdout",
     "output_type": "stream",
     "text": [
      "<class 'pandas.core.frame.DataFrame'>\n",
      "Int64Index: 2839 entries, 0 to 2838\n",
      "Data columns (total 8 columns):\n",
      " #   Column                   Non-Null Count  Dtype         \n",
      "---  ------                   --------------  -----         \n",
      " 0   Entity                   2839 non-null   object        \n",
      " 1   Code                     2557 non-null   object        \n",
      " 2   Day                      2839 non-null   datetime64[ns]\n",
      " 3   people_fully_vaccinated  2839 non-null   int64         \n",
      " 4   Economy                  2543 non-null   object        \n",
      " 5   Region                   2543 non-null   object        \n",
      " 6   Income group             2543 non-null   object        \n",
      " 7   Lending category         2543 non-null   object        \n",
      "dtypes: datetime64[ns](1), int64(1), object(6)\n",
      "memory usage: 199.6+ KB\n"
     ]
    }
   ],
   "source": [
    "test2_all.info()"
   ]
  },
  {
   "cell_type": "code",
   "execution_count": 39,
   "metadata": {
    "ExecuteTime": {
     "end_time": "2021-03-24T17:50:10.683444Z",
     "start_time": "2021-03-24T17:50:10.673901Z"
    }
   },
   "outputs": [],
   "source": [
    "nullval = test2_all[test2_all.isnull().any(axis= 1)]"
   ]
  },
  {
   "cell_type": "code",
   "execution_count": 40,
   "metadata": {
    "ExecuteTime": {
     "end_time": "2021-03-24T17:50:10.689592Z",
     "start_time": "2021-03-24T17:50:10.685269Z"
    }
   },
   "outputs": [
    {
     "data": {
      "text/plain": [
       "array(['England', 'Wales', 'Scotland', 'Northern Ireland', 'Guernsey',\n",
       "       'Jersey', 'Montserrat'], dtype=object)"
      ]
     },
     "execution_count": 40,
     "metadata": {},
     "output_type": "execute_result"
    }
   ],
   "source": [
    "nullval.Entity.unique()"
   ]
  },
  {
   "cell_type": "code",
   "execution_count": 42,
   "metadata": {
    "ExecuteTime": {
     "end_time": "2021-03-24T19:14:52.716196Z",
     "start_time": "2021-03-24T19:14:52.701468Z"
    }
   },
   "outputs": [
    {
     "data": {
      "text/html": [
       "<div>\n",
       "<style scoped>\n",
       "    .dataframe tbody tr th:only-of-type {\n",
       "        vertical-align: middle;\n",
       "    }\n",
       "\n",
       "    .dataframe tbody tr th {\n",
       "        vertical-align: top;\n",
       "    }\n",
       "\n",
       "    .dataframe thead th {\n",
       "        text-align: right;\n",
       "    }\n",
       "</style>\n",
       "<table border=\"1\" class=\"dataframe\">\n",
       "  <thead>\n",
       "    <tr style=\"text-align: right;\">\n",
       "      <th></th>\n",
       "      <th>Entity</th>\n",
       "      <th>Code</th>\n",
       "      <th>Day</th>\n",
       "      <th>people_fully_vaccinated</th>\n",
       "      <th>Economy</th>\n",
       "      <th>Region</th>\n",
       "      <th>Income group</th>\n",
       "      <th>Lending category</th>\n",
       "    </tr>\n",
       "  </thead>\n",
       "  <tbody>\n",
       "    <tr>\n",
       "      <th>0</th>\n",
       "      <td>United States</td>\n",
       "      <td>USA</td>\n",
       "      <td>2021-03-21</td>\n",
       "      <td>44141228</td>\n",
       "      <td>United States</td>\n",
       "      <td>North America</td>\n",
       "      <td>High income</td>\n",
       "      <td>..</td>\n",
       "    </tr>\n",
       "    <tr>\n",
       "      <th>1</th>\n",
       "      <td>United States</td>\n",
       "      <td>USA</td>\n",
       "      <td>2021-03-20</td>\n",
       "      <td>43036818</td>\n",
       "      <td>United States</td>\n",
       "      <td>North America</td>\n",
       "      <td>High income</td>\n",
       "      <td>..</td>\n",
       "    </tr>\n",
       "    <tr>\n",
       "      <th>2</th>\n",
       "      <td>United States</td>\n",
       "      <td>USA</td>\n",
       "      <td>2021-03-19</td>\n",
       "      <td>41934629</td>\n",
       "      <td>United States</td>\n",
       "      <td>North America</td>\n",
       "      <td>High income</td>\n",
       "      <td>..</td>\n",
       "    </tr>\n",
       "    <tr>\n",
       "      <th>3</th>\n",
       "      <td>United States</td>\n",
       "      <td>USA</td>\n",
       "      <td>2021-03-18</td>\n",
       "      <td>40981464</td>\n",
       "      <td>United States</td>\n",
       "      <td>North America</td>\n",
       "      <td>High income</td>\n",
       "      <td>..</td>\n",
       "    </tr>\n",
       "    <tr>\n",
       "      <th>4</th>\n",
       "      <td>United States</td>\n",
       "      <td>USA</td>\n",
       "      <td>2021-03-17</td>\n",
       "      <td>39989196</td>\n",
       "      <td>United States</td>\n",
       "      <td>North America</td>\n",
       "      <td>High income</td>\n",
       "      <td>..</td>\n",
       "    </tr>\n",
       "    <tr>\n",
       "      <th>...</th>\n",
       "      <td>...</td>\n",
       "      <td>...</td>\n",
       "      <td>...</td>\n",
       "      <td>...</td>\n",
       "      <td>...</td>\n",
       "      <td>...</td>\n",
       "      <td>...</td>\n",
       "      <td>...</td>\n",
       "    </tr>\n",
       "    <tr>\n",
       "      <th>2834</th>\n",
       "      <td>Ukraine</td>\n",
       "      <td>UKR</td>\n",
       "      <td>2021-03-17</td>\n",
       "      <td>1</td>\n",
       "      <td>Ukraine</td>\n",
       "      <td>Europe &amp; Central Asia</td>\n",
       "      <td>Lower middle income</td>\n",
       "      <td>IBRD</td>\n",
       "    </tr>\n",
       "    <tr>\n",
       "      <th>2835</th>\n",
       "      <td>Faeroe Islands</td>\n",
       "      <td>FRO</td>\n",
       "      <td>2021-01-29</td>\n",
       "      <td>1</td>\n",
       "      <td>Faroe Islands</td>\n",
       "      <td>Europe &amp; Central Asia</td>\n",
       "      <td>High income</td>\n",
       "      <td>..</td>\n",
       "    </tr>\n",
       "    <tr>\n",
       "      <th>2836</th>\n",
       "      <td>Albania</td>\n",
       "      <td>ALB</td>\n",
       "      <td>2021-02-02</td>\n",
       "      <td>1</td>\n",
       "      <td>Albania</td>\n",
       "      <td>Europe &amp; Central Asia</td>\n",
       "      <td>Upper middle income</td>\n",
       "      <td>IBRD</td>\n",
       "    </tr>\n",
       "    <tr>\n",
       "      <th>2837</th>\n",
       "      <td>Ukraine</td>\n",
       "      <td>UKR</td>\n",
       "      <td>2021-03-20</td>\n",
       "      <td>1</td>\n",
       "      <td>Ukraine</td>\n",
       "      <td>Europe &amp; Central Asia</td>\n",
       "      <td>Lower middle income</td>\n",
       "      <td>IBRD</td>\n",
       "    </tr>\n",
       "    <tr>\n",
       "      <th>2838</th>\n",
       "      <td>Ukraine</td>\n",
       "      <td>UKR</td>\n",
       "      <td>2021-03-21</td>\n",
       "      <td>1</td>\n",
       "      <td>Ukraine</td>\n",
       "      <td>Europe &amp; Central Asia</td>\n",
       "      <td>Lower middle income</td>\n",
       "      <td>IBRD</td>\n",
       "    </tr>\n",
       "  </tbody>\n",
       "</table>\n",
       "<p>2839 rows × 8 columns</p>\n",
       "</div>"
      ],
      "text/plain": [
       "              Entity Code        Day  people_fully_vaccinated        Economy  \\\n",
       "0      United States  USA 2021-03-21                 44141228  United States   \n",
       "1      United States  USA 2021-03-20                 43036818  United States   \n",
       "2      United States  USA 2021-03-19                 41934629  United States   \n",
       "3      United States  USA 2021-03-18                 40981464  United States   \n",
       "4      United States  USA 2021-03-17                 39989196  United States   \n",
       "...              ...  ...        ...                      ...            ...   \n",
       "2834         Ukraine  UKR 2021-03-17                        1        Ukraine   \n",
       "2835  Faeroe Islands  FRO 2021-01-29                        1  Faroe Islands   \n",
       "2836         Albania  ALB 2021-02-02                        1        Albania   \n",
       "2837         Ukraine  UKR 2021-03-20                        1        Ukraine   \n",
       "2838         Ukraine  UKR 2021-03-21                        1        Ukraine   \n",
       "\n",
       "                     Region         Income group Lending category  \n",
       "0             North America          High income               ..  \n",
       "1             North America          High income               ..  \n",
       "2             North America          High income               ..  \n",
       "3             North America          High income               ..  \n",
       "4             North America          High income               ..  \n",
       "...                     ...                  ...              ...  \n",
       "2834  Europe & Central Asia  Lower middle income             IBRD  \n",
       "2835  Europe & Central Asia          High income               ..  \n",
       "2836  Europe & Central Asia  Upper middle income             IBRD  \n",
       "2837  Europe & Central Asia  Lower middle income             IBRD  \n",
       "2838  Europe & Central Asia  Lower middle income             IBRD  \n",
       "\n",
       "[2839 rows x 8 columns]"
      ]
     },
     "execution_count": 42,
     "metadata": {},
     "output_type": "execute_result"
    }
   ],
   "source": [
    "test2_all"
   ]
  },
  {
   "cell_type": "code",
   "execution_count": 44,
   "metadata": {
    "ExecuteTime": {
     "end_time": "2021-03-24T19:17:12.722655Z",
     "start_time": "2021-03-24T19:17:12.719152Z"
    }
   },
   "outputs": [],
   "source": [
    "test2_all['Income group'].fillna('High income', inplace= True)"
   ]
  },
  {
   "cell_type": "code",
   "execution_count": 45,
   "metadata": {
    "ExecuteTime": {
     "end_time": "2021-03-24T19:17:22.687097Z",
     "start_time": "2021-03-24T19:17:22.676492Z"
    },
    "scrolled": true
   },
   "outputs": [
    {
     "name": "stdout",
     "output_type": "stream",
     "text": [
      "<class 'pandas.core.frame.DataFrame'>\n",
      "Int64Index: 2839 entries, 0 to 2838\n",
      "Data columns (total 8 columns):\n",
      " #   Column                   Non-Null Count  Dtype         \n",
      "---  ------                   --------------  -----         \n",
      " 0   Entity                   2839 non-null   object        \n",
      " 1   Code                     2557 non-null   object        \n",
      " 2   Day                      2839 non-null   datetime64[ns]\n",
      " 3   people_fully_vaccinated  2839 non-null   int64         \n",
      " 4   Economy                  2543 non-null   object        \n",
      " 5   Region                   2543 non-null   object        \n",
      " 6   Income group             2839 non-null   object        \n",
      " 7   Lending category         2543 non-null   object        \n",
      "dtypes: datetime64[ns](1), int64(1), object(6)\n",
      "memory usage: 199.6+ KB\n"
     ]
    }
   ],
   "source": [
    "test2_all.info()"
   ]
  },
  {
   "cell_type": "code",
   "execution_count": 86,
   "metadata": {
    "ExecuteTime": {
     "end_time": "2021-03-24T20:51:09.050034Z",
     "start_time": "2021-03-24T20:51:09.039755Z"
    }
   },
   "outputs": [
    {
     "data": {
      "text/plain": [
       "Entity   Day       \n",
       "Albania  2021-02-02         1\n",
       "         2021-02-09       438\n",
       "         2021-02-17       611\n",
       "         2021-02-18       611\n",
       "         2021-02-22       655\n",
       "                        ...  \n",
       "Wales    2021-03-16    289185\n",
       "         2021-03-17    304411\n",
       "         2021-03-18    318976\n",
       "         2021-03-19    329530\n",
       "         2021-03-20    338959\n",
       "Name: people_fully_vaccinated, Length: 2839, dtype: int64"
      ]
     },
     "execution_count": 86,
     "metadata": {},
     "output_type": "execute_result"
    }
   ],
   "source": [
    "test2_all.groupby(['Entity', 'Day'])['people_fully_vaccinated'].sum()"
   ]
  },
  {
   "cell_type": "code",
   "execution_count": 90,
   "metadata": {
    "ExecuteTime": {
     "end_time": "2021-03-24T20:58:10.777402Z",
     "start_time": "2021-03-24T20:58:10.184330Z"
    }
   },
   "outputs": [
    {
     "data": {
      "text/plain": [
       "Entity                Income group       \n",
       "Albania               Upper middle income    AxesSubplot(0.125,0.125;0.775x0.755)\n",
       "Andorra               High income            AxesSubplot(0.125,0.125;0.775x0.755)\n",
       "Argentina             Upper middle income    AxesSubplot(0.125,0.125;0.775x0.755)\n",
       "Austria               High income            AxesSubplot(0.125,0.125;0.775x0.755)\n",
       "Bahrain               High income            AxesSubplot(0.125,0.125;0.775x0.755)\n",
       "                                                             ...                 \n",
       "Ukraine               Lower middle income    AxesSubplot(0.125,0.125;0.775x0.755)\n",
       "United Arab Emirates  High income            AxesSubplot(0.125,0.125;0.775x0.755)\n",
       "United Kingdom        High income            AxesSubplot(0.125,0.125;0.775x0.755)\n",
       "United States         High income            AxesSubplot(0.125,0.125;0.775x0.755)\n",
       "Wales                 High income            AxesSubplot(0.125,0.125;0.775x0.755)\n",
       "Name: people_fully_vaccinated, Length: 82, dtype: object"
      ]
     },
     "execution_count": 90,
     "metadata": {},
     "output_type": "execute_result"
    },
    {
     "data": {
      "image/png": "[encoded data removed]",
      "text/plain": [
       "<Figure size 432x288 with 1 Axes>"
      ]
     },
     "metadata": {},
     "output_type": "display_data"
    }
   ],
   "source": [
    "test2_all.groupby(['Entity', 'Income group'])['people_fully_vaccinated'].plot()"
   ]
  },
  {
   "cell_type": "code",
   "execution_count": 91,
   "metadata": {
    "ExecuteTime": {
     "end_time": "2021-03-24T20:59:41.966586Z",
     "start_time": "2021-03-24T20:59:41.963097Z"
    }
   },
   "outputs": [],
   "source": [
    "up_mid = test2_all[test2_all['Income group'] == 'Upper middle income']"
   ]
  },
  {
   "cell_type": "code",
   "execution_count": 92,
   "metadata": {
    "ExecuteTime": {
     "end_time": "2021-03-24T20:59:50.759137Z",
     "start_time": "2021-03-24T20:59:50.749254Z"
    }
   },
   "outputs": [
    {
     "name": "stdout",
     "output_type": "stream",
     "text": [
      "<class 'pandas.core.frame.DataFrame'>\n",
      "Int64Index: 455 entries, 60 to 2836\n",
      "Data columns (total 8 columns):\n",
      " #   Column                   Non-Null Count  Dtype         \n",
      "---  ------                   --------------  -----         \n",
      " 0   Entity                   455 non-null    object        \n",
      " 1   Code                     455 non-null    object        \n",
      " 2   Day                      455 non-null    datetime64[ns]\n",
      " 3   people_fully_vaccinated  455 non-null    int64         \n",
      " 4   Economy                  455 non-null    object        \n",
      " 5   Region                   455 non-null    object        \n",
      " 6   Income group             455 non-null    object        \n",
      " 7   Lending category         455 non-null    object        \n",
      "dtypes: datetime64[ns](1), int64(1), object(6)\n",
      "memory usage: 32.0+ KB\n"
     ]
    }
   ],
   "source": [
    "up_mid.info()"
   ]
  },
  {
   "cell_type": "code",
   "execution_count": null,
   "metadata": {
    "ExecuteTime": {
     "end_time": "2021-03-24T21:07:29.356031Z",
     "start_time": "2021-03-24T21:07:28.785010Z"
    },
    "scrolled": true
   },
   "outputs": [],
   "source": []
  },
  {
   "cell_type": "markdown",
   "metadata": {},
   "source": [
    "## Look at balance of income groups, which countries are in which group?"
   ]
  },
  {
   "cell_type": "code",
   "execution_count": 136,
   "metadata": {
    "ExecuteTime": {
     "end_time": "2021-03-24T21:45:50.568698Z",
     "start_time": "2021-03-24T21:45:50.473183Z"
    }
   },
   "outputs": [
    {
     "data": {
      "text/plain": [
       "<AxesSubplot:xlabel='Income group', ylabel='count'>"
      ]
     },
     "execution_count": 136,
     "metadata": {},
     "output_type": "execute_result"
    },
    {
     "data": {
      "image/png": "[encoded data removed]",
      "text/plain": [
       "<Figure size 432x288 with 1 Axes>"
      ]
     },
     "metadata": {},
     "output_type": "display_data"
    }
   ],
   "source": [
    "sns.countplot(x = 'Income group', data= test2_all)"
   ]
  },
  {
   "cell_type": "markdown",
   "metadata": {},
   "source": [
    "## Percent of population data stuff"
   ]
  },
  {
   "cell_type": "code",
   "execution_count": 142,
   "metadata": {
    "ExecuteTime": {
     "end_time": "2021-03-24T23:24:34.880650Z",
     "start_time": "2021-03-24T23:24:34.875932Z"
    }
   },
   "outputs": [],
   "source": [
    "owid_df['pop_vax_percent'] = owid_df['people_fully_vaccinated'] / owid_df['population'] *100"
   ]
  },
  {
   "cell_type": "code",
   "execution_count": 156,
   "metadata": {
    "ExecuteTime": {
     "end_time": "2021-03-24T23:29:02.291217Z",
     "start_time": "2021-03-24T23:29:02.286300Z"
    }
   },
   "outputs": [
    {
     "data": {
      "text/plain": [
       "0        2020-02-24\n",
       "1        2020-02-25\n",
       "2        2020-02-26\n",
       "3        2020-02-27\n",
       "4        2020-02-28\n",
       "            ...    \n",
       "76406    2021-03-17\n",
       "76407    2021-03-18\n",
       "76408    2021-03-19\n",
       "76409    2021-03-20\n",
       "76410    2021-03-21\n",
       "Name: date, Length: 76411, dtype: object"
      ]
     },
     "execution_count": 156,
     "metadata": {},
     "output_type": "execute_result"
    }
   ],
   "source": [
    "owid_df.date"
   ]
  },
  {
   "cell_type": "code",
   "execution_count": 157,
   "metadata": {
    "ExecuteTime": {
     "end_time": "2021-03-24T23:29:15.032069Z",
     "start_time": "2021-03-24T23:29:14.986628Z"
    }
   },
   "outputs": [],
   "source": [
    "ow_date = owid_df[owid_df['date'] == '2021-03-20']"
   ]
  },
  {
   "cell_type": "code",
   "execution_count": 160,
   "metadata": {
    "ExecuteTime": {
     "end_time": "2021-03-24T23:29:54.337865Z",
     "start_time": "2021-03-24T23:29:54.328096Z"
    },
    "scrolled": true
   },
   "outputs": [
    {
     "name": "stdout",
     "output_type": "stream",
     "text": [
      "<class 'pandas.core.frame.DataFrame'>\n",
      "Int64Index: 202 entries, 390 to 76409\n",
      "Data columns (total 60 columns):\n",
      " #   Column                                 Non-Null Count  Dtype  \n",
      "---  ------                                 --------------  -----  \n",
      " 0   iso_code                               202 non-null    object \n",
      " 1   continent                              193 non-null    object \n",
      " 2   location                               202 non-null    object \n",
      " 3   date                                   202 non-null    object \n",
      " 4   total_cases                            199 non-null    float64\n",
      " 5   new_cases                              199 non-null    float64\n",
      " 6   new_cases_smoothed                     199 non-null    float64\n",
      " 7   total_deaths                           189 non-null    float64\n",
      " 8   new_deaths                             189 non-null    float64\n",
      " 9   new_deaths_smoothed                    199 non-null    float64\n",
      " 10  total_cases_per_million                198 non-null    float64\n",
      " 11  new_cases_per_million                  198 non-null    float64\n",
      " 12  new_cases_smoothed_per_million         198 non-null    float64\n",
      " 13  total_deaths_per_million               188 non-null    float64\n",
      " 14  new_deaths_per_million                 188 non-null    float64\n",
      " 15  new_deaths_smoothed_per_million        198 non-null    float64\n",
      " 16  reproduction_rate                      182 non-null    float64\n",
      " 17  icu_patients                           0 non-null      float64\n",
      " 18  icu_patients_per_million               0 non-null      float64\n",
      " 19  hosp_patients                          0 non-null      float64\n",
      " 20  hosp_patients_per_million              0 non-null      float64\n",
      " 21  weekly_icu_admissions                  0 non-null      float64\n",
      " 22  weekly_icu_admissions_per_million      0 non-null      float64\n",
      " 23  weekly_hosp_admissions                 0 non-null      float64\n",
      " 24  weekly_hosp_admissions_per_million     0 non-null      float64\n",
      " 25  new_tests                              59 non-null     float64\n",
      " 26  total_tests                            58 non-null     float64\n",
      " 27  total_tests_per_thousand               58 non-null     float64\n",
      " 28  new_tests_per_thousand                 59 non-null     float64\n",
      " 29  new_tests_smoothed                     76 non-null     float64\n",
      " 30  new_tests_smoothed_per_thousand        76 non-null     float64\n",
      " 31  positive_rate                          74 non-null     float64\n",
      " 32  tests_per_case                         74 non-null     float64\n",
      " 33  tests_units                            78 non-null     object \n",
      " 34  total_vaccinations                     69 non-null     float64\n",
      " 35  people_vaccinated                      64 non-null     float64\n",
      " 36  people_fully_vaccinated                48 non-null     float64\n",
      " 37  new_vaccinations                       64 non-null     float64\n",
      " 38  new_vaccinations_smoothed              77 non-null     float64\n",
      " 39  total_vaccinations_per_hundred         69 non-null     float64\n",
      " 40  people_vaccinated_per_hundred          64 non-null     float64\n",
      " 41  people_fully_vaccinated_per_hundred    48 non-null     float64\n",
      " 42  new_vaccinations_smoothed_per_million  77 non-null     float64\n",
      " 43  stringency_index                       15 non-null     float64\n",
      " 44  population                             201 non-null    float64\n",
      " 45  population_density                     190 non-null    float64\n",
      " 46  median_age                             184 non-null    float64\n",
      " 47  aged_65_older                          182 non-null    float64\n",
      " 48  aged_70_older                          183 non-null    float64\n",
      " 49  gdp_per_capita                         185 non-null    float64\n",
      " 50  extreme_poverty                        125 non-null    float64\n",
      " 51  cardiovasc_death_rate                  185 non-null    float64\n",
      " 52  diabetes_prevalence                    188 non-null    float64\n",
      " 53  female_smokers                         143 non-null    float64\n",
      " 54  male_smokers                           141 non-null    float64\n",
      " 55  handwashing_facilities                 95 non-null     float64\n",
      " 56  hospital_beds_per_thousand             167 non-null    float64\n",
      " 57  life_expectancy                        193 non-null    float64\n",
      " 58  human_development_index                186 non-null    float64\n",
      " 59  pop_vax_percent                        48 non-null     float64\n",
      "dtypes: float64(55), object(5)\n",
      "memory usage: 96.3+ KB\n"
     ]
    }
   ],
   "source": [
    "ow_date.info()"
   ]
  },
  {
   "cell_type": "code",
   "execution_count": 165,
   "metadata": {
    "ExecuteTime": {
     "end_time": "2021-03-24T23:34:17.818209Z",
     "start_time": "2021-03-24T23:34:17.814983Z"
    }
   },
   "outputs": [],
   "source": [
    "ow_perc = ow_date[ow_date['pop_vax_percent'].notna()]"
   ]
  },
  {
   "cell_type": "code",
   "execution_count": 170,
   "metadata": {
    "ExecuteTime": {
     "end_time": "2021-03-24T23:36:11.661372Z",
     "start_time": "2021-03-24T23:36:11.656165Z"
    }
   },
   "outputs": [
    {
     "data": {
      "text/plain": [
       "793              Africa\n",
       "3191          Argentina\n",
       "4002               Asia\n",
       "4814            Austria\n",
       "5963            Bahrain\n",
       "7517            Belgium\n",
       "9074            Bolivia\n",
       "10203            Brazil\n",
       "10960          Bulgaria\n",
       "12915            Canada\n",
       "14499             Chile\n",
       "15305          Colombia\n",
       "17904            Cyprus\n",
       "18294           Czechia\n",
       "19073           Denmark\n",
       "22478           Estonia\n",
       "23649            Europe\n",
       "24073    European Union\n",
       "24973           Finland\n",
       "25396            France\n",
       "27393         Gibraltar\n",
       "27787            Greece\n",
       "30971           Hungary\n",
       "31778             India\n",
       "32163         Indonesia\n",
       "34205            Israel\n",
       "34621             Italy\n",
       "38894           Lebanon\n",
       "40732         Lithuania\n",
       "43464             Malta\n",
       "44797            Mexico\n",
       "46370        Montenegro\n",
       "46810           Morocco\n",
       "50658     North America\n",
       "55396            Poland\n",
       "55782          Portugal\n",
       "56559           Romania\n",
       "56975            Russia\n",
       "60523            Serbia\n",
       "62057          Slovakia\n",
       "62471          Slovenia\n",
       "63806     South America\n",
       "64232       South Korea\n",
       "70807            Turkey\n",
       "71587           Ukraine\n",
       "72421    United Kingdom\n",
       "72846     United States\n",
       "75327             World\n",
       "Name: location, dtype: object"
      ]
     },
     "execution_count": 170,
     "metadata": {},
     "output_type": "execute_result"
    }
   ],
   "source": [
    "ow_perc.location"
   ]
  },
  {
   "cell_type": "code",
   "execution_count": 173,
   "metadata": {
    "ExecuteTime": {
     "end_time": "2021-03-24T23:37:57.201424Z",
     "start_time": "2021-03-24T23:37:57.182880Z"
    }
   },
   "outputs": [
    {
     "data": {
      "text/html": [
       "<div>\n",
       "<style scoped>\n",
       "    .dataframe tbody tr th:only-of-type {\n",
       "        vertical-align: middle;\n",
       "    }\n",
       "\n",
       "    .dataframe tbody tr th {\n",
       "        vertical-align: top;\n",
       "    }\n",
       "\n",
       "    .dataframe thead th {\n",
       "        text-align: right;\n",
       "    }\n",
       "</style>\n",
       "<table border=\"1\" class=\"dataframe\">\n",
       "  <thead>\n",
       "    <tr style=\"text-align: right;\">\n",
       "      <th></th>\n",
       "      <th>iso_code</th>\n",
       "      <th>continent</th>\n",
       "      <th>location</th>\n",
       "      <th>date</th>\n",
       "      <th>total_cases</th>\n",
       "      <th>new_cases</th>\n",
       "      <th>new_cases_smoothed</th>\n",
       "      <th>total_deaths</th>\n",
       "      <th>new_deaths</th>\n",
       "      <th>new_deaths_smoothed</th>\n",
       "      <th>...</th>\n",
       "      <th>extreme_poverty</th>\n",
       "      <th>cardiovasc_death_rate</th>\n",
       "      <th>diabetes_prevalence</th>\n",
       "      <th>female_smokers</th>\n",
       "      <th>male_smokers</th>\n",
       "      <th>handwashing_facilities</th>\n",
       "      <th>hospital_beds_per_thousand</th>\n",
       "      <th>life_expectancy</th>\n",
       "      <th>human_development_index</th>\n",
       "      <th>pop_vax_percent</th>\n",
       "    </tr>\n",
       "  </thead>\n",
       "  <tbody>\n",
       "    <tr>\n",
       "      <th>75327</th>\n",
       "      <td>OWID_WRL</td>\n",
       "      <td>NaN</td>\n",
       "      <td>World</td>\n",
       "      <td>2021-03-20</td>\n",
       "      <td>122813796.0</td>\n",
       "      <td>498140.0</td>\n",
       "      <td>471249.143</td>\n",
       "      <td>2709640.0</td>\n",
       "      <td>8194.0</td>\n",
       "      <td>8716.286</td>\n",
       "      <td>...</td>\n",
       "      <td>10.0</td>\n",
       "      <td>233.07</td>\n",
       "      <td>8.51</td>\n",
       "      <td>6.434</td>\n",
       "      <td>34.635</td>\n",
       "      <td>60.13</td>\n",
       "      <td>2.705</td>\n",
       "      <td>72.58</td>\n",
       "      <td>0.737</td>\n",
       "      <td>1.285957</td>\n",
       "    </tr>\n",
       "  </tbody>\n",
       "</table>\n",
       "<p>1 rows × 60 columns</p>\n",
       "</div>"
      ],
      "text/plain": [
       "       iso_code continent location        date  total_cases  new_cases  \\\n",
       "75327  OWID_WRL       NaN    World  2021-03-20  122813796.0   498140.0   \n",
       "\n",
       "       new_cases_smoothed  total_deaths  new_deaths  new_deaths_smoothed  ...  \\\n",
       "75327          471249.143     2709640.0      8194.0             8716.286  ...   \n",
       "\n",
       "       extreme_poverty  cardiovasc_death_rate  diabetes_prevalence  \\\n",
       "75327             10.0                 233.07                 8.51   \n",
       "\n",
       "       female_smokers  male_smokers  handwashing_facilities  \\\n",
       "75327           6.434        34.635                   60.13   \n",
       "\n",
       "       hospital_beds_per_thousand  life_expectancy  human_development_index  \\\n",
       "75327                       2.705            72.58                    0.737   \n",
       "\n",
       "       pop_vax_percent  \n",
       "75327         1.285957  \n",
       "\n",
       "[1 rows x 60 columns]"
      ]
     },
     "execution_count": 173,
     "metadata": {},
     "output_type": "execute_result"
    }
   ],
   "source": [
    "ow_perc[ow_perc['location'] == 'World']"
   ]
  },
  {
   "cell_type": "code",
   "execution_count": 162,
   "metadata": {
    "ExecuteTime": {
     "end_time": "2021-03-24T23:31:10.245646Z",
     "start_time": "2021-03-24T23:31:09.219566Z"
    }
   },
   "outputs": [
    {
     "data": {
      "text/plain": [
       "location\n",
       "Afghanistan    AxesSubplot(0.125,0.125;0.775x0.755)\n",
       "Africa         AxesSubplot(0.125,0.125;0.775x0.755)\n",
       "Albania        AxesSubplot(0.125,0.125;0.775x0.755)\n",
       "Algeria        AxesSubplot(0.125,0.125;0.775x0.755)\n",
       "Andorra        AxesSubplot(0.125,0.125;0.775x0.755)\n",
       "                               ...                 \n",
       "Vietnam        AxesSubplot(0.125,0.125;0.775x0.755)\n",
       "World          AxesSubplot(0.125,0.125;0.775x0.755)\n",
       "Yemen          AxesSubplot(0.125,0.125;0.775x0.755)\n",
       "Zambia         AxesSubplot(0.125,0.125;0.775x0.755)\n",
       "Zimbabwe       AxesSubplot(0.125,0.125;0.775x0.755)\n",
       "Name: pop_vax_percent, Length: 202, dtype: object"
      ]
     },
     "execution_count": 162,
     "metadata": {},
     "output_type": "execute_result"
    },
    {
     "data": {
      "image/png": "[encoded data removed]",
      "text/plain": [
       "<Figure size 432x288 with 1 Axes>"
      ]
     },
     "metadata": {},
     "output_type": "display_data"
    }
   ],
   "source": [
    "ow_date.groupby('location')['pop_vax_percent'].plot(kind= 'bar')"
   ]
  },
  {
   "cell_type": "code",
   "execution_count": null,
   "metadata": {},
   "outputs": [],
   "source": []
  },
  {
   "cell_type": "code",
   "execution_count": null,
   "metadata": {},
   "outputs": [],
   "source": []
  },
  {
   "cell_type": "code",
   "execution_count": null,
   "metadata": {},
   "outputs": [],
   "source": []
  },
  {
   "cell_type": "code",
   "execution_count": null,
   "metadata": {},
   "outputs": [],
   "source": []
  },
  {
   "cell_type": "code",
   "execution_count": null,
   "metadata": {},
   "outputs": [],
   "source": []
  },
  {
   "cell_type": "markdown",
   "metadata": {},
   "source": [
    "# Excess / Notes:"
   ]
  },
  {
   "cell_type": "code",
   "execution_count": 41,
   "metadata": {
    "ExecuteTime": {
     "end_time": "2021-03-24T17:50:10.935017Z",
     "start_time": "2021-03-24T17:50:10.692363Z"
    }
   },
   "outputs": [
    {
     "ename": "ValueError",
     "evalue": "('Lengths must match to compare', (2839,), (5,))",
     "output_type": "error",
     "traceback": [
      "\u001b[0;31m---------------------------------------------------------------------------\u001b[0m",
      "\u001b[0;31mValueError\u001b[0m                                Traceback (most recent call last)",
      "\u001b[0;32m<ipython-input-41-a281b8619d51>\u001b[0m in \u001b[0;36m<module>\u001b[0;34m\u001b[0m\n\u001b[0;32m----> 1\u001b[0;31m \u001b[0mattempt\u001b[0m \u001b[0;34m=\u001b[0m \u001b[0mattempt\u001b[0m\u001b[0;34m[\u001b[0m\u001b[0mattempt\u001b[0m\u001b[0;34m.\u001b[0m\u001b[0mEntity\u001b[0m \u001b[0;34m!=\u001b[0m \u001b[0;34m[\u001b[0m\u001b[0;34m'North America'\u001b[0m\u001b[0;34m,\u001b[0m \u001b[0;34m'Europe'\u001b[0m\u001b[0;34m,\u001b[0m \u001b[0;34m'Asia'\u001b[0m\u001b[0;34m,\u001b[0m\u001b[0;34m'European Union'\u001b[0m\u001b[0;34m,\u001b[0m \u001b[0;34m'Africa'\u001b[0m\u001b[0;34m]\u001b[0m\u001b[0;34m]\u001b[0m\u001b[0;34m\u001b[0m\u001b[0;34m\u001b[0m\u001b[0m\n\u001b[0m\u001b[1;32m      2\u001b[0m \u001b[0mattempt\u001b[0m \u001b[0;34m=\u001b[0m \u001b[0mattempt\u001b[0m\u001b[0;34m[\u001b[0m\u001b[0mattempt\u001b[0m\u001b[0;34m.\u001b[0m\u001b[0mEntity\u001b[0m \u001b[0;34m!=\u001b[0m \u001b[0;34m'World'\u001b[0m\u001b[0;34m]\u001b[0m\u001b[0;34m\u001b[0m\u001b[0;34m\u001b[0m\u001b[0m\n",
      "\u001b[0;32m~/opt/anaconda3/envs/learn-env/lib/python3.8/site-packages/pandas/core/ops/common.py\u001b[0m in \u001b[0;36mnew_method\u001b[0;34m(self, other)\u001b[0m\n\u001b[1;32m     63\u001b[0m         \u001b[0mother\u001b[0m \u001b[0;34m=\u001b[0m \u001b[0mitem_from_zerodim\u001b[0m\u001b[0;34m(\u001b[0m\u001b[0mother\u001b[0m\u001b[0;34m)\u001b[0m\u001b[0;34m\u001b[0m\u001b[0;34m\u001b[0m\u001b[0m\n\u001b[1;32m     64\u001b[0m \u001b[0;34m\u001b[0m\u001b[0m\n\u001b[0;32m---> 65\u001b[0;31m         \u001b[0;32mreturn\u001b[0m \u001b[0mmethod\u001b[0m\u001b[0;34m(\u001b[0m\u001b[0mself\u001b[0m\u001b[0;34m,\u001b[0m \u001b[0mother\u001b[0m\u001b[0;34m)\u001b[0m\u001b[0;34m\u001b[0m\u001b[0;34m\u001b[0m\u001b[0m\n\u001b[0m\u001b[1;32m     66\u001b[0m \u001b[0;34m\u001b[0m\u001b[0m\n\u001b[1;32m     67\u001b[0m     \u001b[0;32mreturn\u001b[0m \u001b[0mnew_method\u001b[0m\u001b[0;34m\u001b[0m\u001b[0;34m\u001b[0m\u001b[0m\n",
      "\u001b[0;32m~/opt/anaconda3/envs/learn-env/lib/python3.8/site-packages/pandas/core/arraylike.py\u001b[0m in \u001b[0;36m__ne__\u001b[0;34m(self, other)\u001b[0m\n\u001b[1;32m     31\u001b[0m     \u001b[0;34m@\u001b[0m\u001b[0munpack_zerodim_and_defer\u001b[0m\u001b[0;34m(\u001b[0m\u001b[0;34m\"__ne__\"\u001b[0m\u001b[0;34m)\u001b[0m\u001b[0;34m\u001b[0m\u001b[0;34m\u001b[0m\u001b[0m\n\u001b[1;32m     32\u001b[0m     \u001b[0;32mdef\u001b[0m \u001b[0m__ne__\u001b[0m\u001b[0;34m(\u001b[0m\u001b[0mself\u001b[0m\u001b[0;34m,\u001b[0m \u001b[0mother\u001b[0m\u001b[0;34m)\u001b[0m\u001b[0;34m:\u001b[0m\u001b[0;34m\u001b[0m\u001b[0;34m\u001b[0m\u001b[0m\n\u001b[0;32m---> 33\u001b[0;31m         \u001b[0;32mreturn\u001b[0m \u001b[0mself\u001b[0m\u001b[0;34m.\u001b[0m\u001b[0m_cmp_method\u001b[0m\u001b[0;34m(\u001b[0m\u001b[0mother\u001b[0m\u001b[0;34m,\u001b[0m \u001b[0moperator\u001b[0m\u001b[0;34m.\u001b[0m\u001b[0mne\u001b[0m\u001b[0;34m)\u001b[0m\u001b[0;34m\u001b[0m\u001b[0;34m\u001b[0m\u001b[0m\n\u001b[0m\u001b[1;32m     34\u001b[0m \u001b[0;34m\u001b[0m\u001b[0m\n\u001b[1;32m     35\u001b[0m     \u001b[0;34m@\u001b[0m\u001b[0munpack_zerodim_and_defer\u001b[0m\u001b[0;34m(\u001b[0m\u001b[0;34m\"__lt__\"\u001b[0m\u001b[0;34m)\u001b[0m\u001b[0;34m\u001b[0m\u001b[0;34m\u001b[0m\u001b[0m\n",
      "\u001b[0;32m~/opt/anaconda3/envs/learn-env/lib/python3.8/site-packages/pandas/core/series.py\u001b[0m in \u001b[0;36m_cmp_method\u001b[0;34m(self, other, op)\u001b[0m\n\u001b[1;32m   4976\u001b[0m         \u001b[0mrvalues\u001b[0m \u001b[0;34m=\u001b[0m \u001b[0mextract_array\u001b[0m\u001b[0;34m(\u001b[0m\u001b[0mother\u001b[0m\u001b[0;34m,\u001b[0m \u001b[0mextract_numpy\u001b[0m\u001b[0;34m=\u001b[0m\u001b[0;32mTrue\u001b[0m\u001b[0;34m)\u001b[0m\u001b[0;34m\u001b[0m\u001b[0;34m\u001b[0m\u001b[0m\n\u001b[1;32m   4977\u001b[0m \u001b[0;34m\u001b[0m\u001b[0m\n\u001b[0;32m-> 4978\u001b[0;31m         \u001b[0mres_values\u001b[0m \u001b[0;34m=\u001b[0m \u001b[0mops\u001b[0m\u001b[0;34m.\u001b[0m\u001b[0mcomparison_op\u001b[0m\u001b[0;34m(\u001b[0m\u001b[0mlvalues\u001b[0m\u001b[0;34m,\u001b[0m \u001b[0mrvalues\u001b[0m\u001b[0;34m,\u001b[0m \u001b[0mop\u001b[0m\u001b[0;34m)\u001b[0m\u001b[0;34m\u001b[0m\u001b[0;34m\u001b[0m\u001b[0m\n\u001b[0m\u001b[1;32m   4979\u001b[0m \u001b[0;34m\u001b[0m\u001b[0m\n\u001b[1;32m   4980\u001b[0m         \u001b[0;32mreturn\u001b[0m \u001b[0mself\u001b[0m\u001b[0;34m.\u001b[0m\u001b[0m_construct_result\u001b[0m\u001b[0;34m(\u001b[0m\u001b[0mres_values\u001b[0m\u001b[0;34m,\u001b[0m \u001b[0mname\u001b[0m\u001b[0;34m=\u001b[0m\u001b[0mres_name\u001b[0m\u001b[0;34m)\u001b[0m\u001b[0;34m\u001b[0m\u001b[0;34m\u001b[0m\u001b[0m\n",
      "\u001b[0;32m~/opt/anaconda3/envs/learn-env/lib/python3.8/site-packages/pandas/core/ops/array_ops.py\u001b[0m in \u001b[0;36mcomparison_op\u001b[0;34m(left, right, op)\u001b[0m\n\u001b[1;32m    221\u001b[0m         \u001b[0;31m#  The ambiguous case is object-dtype.  See GH#27803\u001b[0m\u001b[0;34m\u001b[0m\u001b[0;34m\u001b[0m\u001b[0;34m\u001b[0m\u001b[0m\n\u001b[1;32m    222\u001b[0m         \u001b[0;32mif\u001b[0m \u001b[0mlen\u001b[0m\u001b[0;34m(\u001b[0m\u001b[0mlvalues\u001b[0m\u001b[0;34m)\u001b[0m \u001b[0;34m!=\u001b[0m \u001b[0mlen\u001b[0m\u001b[0;34m(\u001b[0m\u001b[0mrvalues\u001b[0m\u001b[0;34m)\u001b[0m\u001b[0;34m:\u001b[0m\u001b[0;34m\u001b[0m\u001b[0;34m\u001b[0m\u001b[0m\n\u001b[0;32m--> 223\u001b[0;31m             raise ValueError(\n\u001b[0m\u001b[1;32m    224\u001b[0m                 \u001b[0;34m\"Lengths must match to compare\"\u001b[0m\u001b[0;34m,\u001b[0m \u001b[0mlvalues\u001b[0m\u001b[0;34m.\u001b[0m\u001b[0mshape\u001b[0m\u001b[0;34m,\u001b[0m \u001b[0mrvalues\u001b[0m\u001b[0;34m.\u001b[0m\u001b[0mshape\u001b[0m\u001b[0;34m\u001b[0m\u001b[0;34m\u001b[0m\u001b[0m\n\u001b[1;32m    225\u001b[0m             )\n",
      "\u001b[0;31mValueError\u001b[0m: ('Lengths must match to compare', (2839,), (5,))"
     ]
    }
   ],
   "source": [
    "attempt = attempt[attempt.Entity != ['North America', 'Europe', 'Asia','European Union', 'Africa']]\n",
    "attempt = attempt[attempt.Entity != 'World']"
   ]
  },
  {
   "cell_type": "code",
   "execution_count": null,
   "metadata": {
    "ExecuteTime": {
     "end_time": "2021-03-24T17:50:10.955363Z",
     "start_time": "2021-03-24T17:50:06.270Z"
    }
   },
   "outputs": [],
   "source": [
    "attempt = attempt.query('Entity' != ['North America', 'South America', 'Europe', 'Asia','European Union', 'Africa'])"
   ]
  },
  {
   "cell_type": "code",
   "execution_count": null,
   "metadata": {
    "ExecuteTime": {
     "end_time": "2021-03-24T17:50:10.956859Z",
     "start_time": "2021-03-24T17:50:06.271Z"
    }
   },
   "outputs": [],
   "source": [
    "desired = [i for i in attempt.Entity if i not in continents]"
   ]
  },
  {
   "cell_type": "code",
   "execution_count": null,
   "metadata": {
    "ExecuteTime": {
     "end_time": "2021-03-24T17:50:10.958437Z",
     "start_time": "2021-03-24T17:50:06.273Z"
    }
   },
   "outputs": [],
   "source": [
    "desired"
   ]
  },
  {
   "cell_type": "code",
   "execution_count": 30,
   "metadata": {
    "ExecuteTime": {
     "end_time": "2021-03-24T17:50:10.585572Z",
     "start_time": "2021-03-24T17:50:10.579344Z"
    }
   },
   "outputs": [],
   "source": [
    "test_all = pd.merge(attempt, ci2, left_on = 'Entity', right_on= 'Economy', copy= True)"
   ]
  },
  {
   "cell_type": "code",
   "execution_count": 31,
   "metadata": {
    "ExecuteTime": {
     "end_time": "2021-03-24T17:50:10.593988Z",
     "start_time": "2021-03-24T17:50:10.587256Z"
    }
   },
   "outputs": [],
   "source": [
    "testing_all = pd.merge(attempt, ci2, how= 'left', left_on = 'Entity', right_on= 'Economy')"
   ]
  },
  {
   "cell_type": "code",
   "execution_count": 32,
   "metadata": {
    "ExecuteTime": {
     "end_time": "2021-03-24T17:50:10.607073Z",
     "start_time": "2021-03-24T17:50:10.596241Z"
    }
   },
   "outputs": [
    {
     "name": "stdout",
     "output_type": "stream",
     "text": [
      "<class 'pandas.core.frame.DataFrame'>\n",
      "Int64Index: 2839 entries, 0 to 2838\n",
      "Data columns (total 9 columns):\n",
      " #   Column                   Non-Null Count  Dtype         \n",
      "---  ------                   --------------  -----         \n",
      " 0   Entity                   2839 non-null   object        \n",
      " 1   Code_x                   2557 non-null   object        \n",
      " 2   Day                      2839 non-null   datetime64[ns]\n",
      " 3   people_fully_vaccinated  2839 non-null   int64         \n",
      " 4   Economy                  2379 non-null   object        \n",
      " 5   Code_y                   2379 non-null   object        \n",
      " 6   Region                   2379 non-null   object        \n",
      " 7   Income group             2379 non-null   object        \n",
      " 8   Lending category         2379 non-null   object        \n",
      "dtypes: datetime64[ns](1), int64(1), object(7)\n",
      "memory usage: 221.8+ KB\n"
     ]
    }
   ],
   "source": [
    "testing_all.info()"
   ]
  },
  {
   "cell_type": "code",
   "execution_count": 33,
   "metadata": {
    "ExecuteTime": {
     "end_time": "2021-03-24T17:50:10.628356Z",
     "start_time": "2021-03-24T17:50:10.608897Z"
    }
   },
   "outputs": [
    {
     "data": {
      "text/html": [
       "<div>\n",
       "<style scoped>\n",
       "    .dataframe tbody tr th:only-of-type {\n",
       "        vertical-align: middle;\n",
       "    }\n",
       "\n",
       "    .dataframe tbody tr th {\n",
       "        vertical-align: top;\n",
       "    }\n",
       "\n",
       "    .dataframe thead th {\n",
       "        text-align: right;\n",
       "    }\n",
       "</style>\n",
       "<table border=\"1\" class=\"dataframe\">\n",
       "  <thead>\n",
       "    <tr style=\"text-align: right;\">\n",
       "      <th></th>\n",
       "      <th>Entity</th>\n",
       "      <th>Code_x</th>\n",
       "      <th>Day</th>\n",
       "      <th>people_fully_vaccinated</th>\n",
       "      <th>Economy</th>\n",
       "      <th>Code_y</th>\n",
       "      <th>Region</th>\n",
       "      <th>Income group</th>\n",
       "      <th>Lending category</th>\n",
       "    </tr>\n",
       "  </thead>\n",
       "  <tbody>\n",
       "    <tr>\n",
       "      <th>140</th>\n",
       "      <td>Russia</td>\n",
       "      <td>RUS</td>\n",
       "      <td>2021-03-21</td>\n",
       "      <td>2751436</td>\n",
       "      <td>NaN</td>\n",
       "      <td>NaN</td>\n",
       "      <td>NaN</td>\n",
       "      <td>NaN</td>\n",
       "      <td>NaN</td>\n",
       "    </tr>\n",
       "    <tr>\n",
       "      <th>143</th>\n",
       "      <td>Russia</td>\n",
       "      <td>RUS</td>\n",
       "      <td>2021-03-20</td>\n",
       "      <td>2710605</td>\n",
       "      <td>NaN</td>\n",
       "      <td>NaN</td>\n",
       "      <td>NaN</td>\n",
       "      <td>NaN</td>\n",
       "      <td>NaN</td>\n",
       "    </tr>\n",
       "    <tr>\n",
       "      <th>149</th>\n",
       "      <td>Russia</td>\n",
       "      <td>RUS</td>\n",
       "      <td>2021-03-19</td>\n",
       "      <td>2641167</td>\n",
       "      <td>NaN</td>\n",
       "      <td>NaN</td>\n",
       "      <td>NaN</td>\n",
       "      <td>NaN</td>\n",
       "      <td>NaN</td>\n",
       "    </tr>\n",
       "    <tr>\n",
       "      <th>162</th>\n",
       "      <td>Russia</td>\n",
       "      <td>RUS</td>\n",
       "      <td>2021-03-18</td>\n",
       "      <td>2478390</td>\n",
       "      <td>NaN</td>\n",
       "      <td>NaN</td>\n",
       "      <td>NaN</td>\n",
       "      <td>NaN</td>\n",
       "      <td>NaN</td>\n",
       "    </tr>\n",
       "    <tr>\n",
       "      <th>169</th>\n",
       "      <td>Russia</td>\n",
       "      <td>RUS</td>\n",
       "      <td>2021-03-17</td>\n",
       "      <td>2438650</td>\n",
       "      <td>NaN</td>\n",
       "      <td>NaN</td>\n",
       "      <td>NaN</td>\n",
       "      <td>NaN</td>\n",
       "      <td>NaN</td>\n",
       "    </tr>\n",
       "    <tr>\n",
       "      <th>...</th>\n",
       "      <td>...</td>\n",
       "      <td>...</td>\n",
       "      <td>...</td>\n",
       "      <td>...</td>\n",
       "      <td>...</td>\n",
       "      <td>...</td>\n",
       "      <td>...</td>\n",
       "      <td>...</td>\n",
       "      <td>...</td>\n",
       "    </tr>\n",
       "    <tr>\n",
       "      <th>2809</th>\n",
       "      <td>Wales</td>\n",
       "      <td>NaN</td>\n",
       "      <td>2021-01-10</td>\n",
       "      <td>79</td>\n",
       "      <td>NaN</td>\n",
       "      <td>NaN</td>\n",
       "      <td>NaN</td>\n",
       "      <td>NaN</td>\n",
       "      <td>NaN</td>\n",
       "    </tr>\n",
       "    <tr>\n",
       "      <th>2813</th>\n",
       "      <td>Scotland</td>\n",
       "      <td>NaN</td>\n",
       "      <td>2021-01-03</td>\n",
       "      <td>44</td>\n",
       "      <td>NaN</td>\n",
       "      <td>NaN</td>\n",
       "      <td>NaN</td>\n",
       "      <td>NaN</td>\n",
       "      <td>NaN</td>\n",
       "    </tr>\n",
       "    <tr>\n",
       "      <th>2814</th>\n",
       "      <td>Montserrat</td>\n",
       "      <td>MSR</td>\n",
       "      <td>2021-03-10</td>\n",
       "      <td>40</td>\n",
       "      <td>NaN</td>\n",
       "      <td>NaN</td>\n",
       "      <td>NaN</td>\n",
       "      <td>NaN</td>\n",
       "      <td>NaN</td>\n",
       "    </tr>\n",
       "    <tr>\n",
       "      <th>2820</th>\n",
       "      <td>Wales</td>\n",
       "      <td>NaN</td>\n",
       "      <td>2021-01-03</td>\n",
       "      <td>27</td>\n",
       "      <td>NaN</td>\n",
       "      <td>NaN</td>\n",
       "      <td>NaN</td>\n",
       "      <td>NaN</td>\n",
       "      <td>NaN</td>\n",
       "    </tr>\n",
       "    <tr>\n",
       "      <th>2835</th>\n",
       "      <td>Faeroe Islands</td>\n",
       "      <td>FRO</td>\n",
       "      <td>2021-01-29</td>\n",
       "      <td>1</td>\n",
       "      <td>NaN</td>\n",
       "      <td>NaN</td>\n",
       "      <td>NaN</td>\n",
       "      <td>NaN</td>\n",
       "      <td>NaN</td>\n",
       "    </tr>\n",
       "  </tbody>\n",
       "</table>\n",
       "<p>460 rows × 9 columns</p>\n",
       "</div>"
      ],
      "text/plain": [
       "              Entity Code_x        Day  people_fully_vaccinated Economy  \\\n",
       "140           Russia    RUS 2021-03-21                  2751436     NaN   \n",
       "143           Russia    RUS 2021-03-20                  2710605     NaN   \n",
       "149           Russia    RUS 2021-03-19                  2641167     NaN   \n",
       "162           Russia    RUS 2021-03-18                  2478390     NaN   \n",
       "169           Russia    RUS 2021-03-17                  2438650     NaN   \n",
       "...              ...    ...        ...                      ...     ...   \n",
       "2809           Wales    NaN 2021-01-10                       79     NaN   \n",
       "2813        Scotland    NaN 2021-01-03                       44     NaN   \n",
       "2814      Montserrat    MSR 2021-03-10                       40     NaN   \n",
       "2820           Wales    NaN 2021-01-03                       27     NaN   \n",
       "2835  Faeroe Islands    FRO 2021-01-29                        1     NaN   \n",
       "\n",
       "     Code_y Region Income group Lending category  \n",
       "140     NaN    NaN          NaN              NaN  \n",
       "143     NaN    NaN          NaN              NaN  \n",
       "149     NaN    NaN          NaN              NaN  \n",
       "162     NaN    NaN          NaN              NaN  \n",
       "169     NaN    NaN          NaN              NaN  \n",
       "...     ...    ...          ...              ...  \n",
       "2809    NaN    NaN          NaN              NaN  \n",
       "2813    NaN    NaN          NaN              NaN  \n",
       "2814    NaN    NaN          NaN              NaN  \n",
       "2820    NaN    NaN          NaN              NaN  \n",
       "2835    NaN    NaN          NaN              NaN  \n",
       "\n",
       "[460 rows x 9 columns]"
      ]
     },
     "execution_count": 33,
     "metadata": {},
     "output_type": "execute_result"
    }
   ],
   "source": [
    "testing_all[testing_all.isnull().any(axis=1)]"
   ]
  }
 ],
 "metadata": {
  "kernelspec": {
   "display_name": "Python 3",
   "language": "python",
   "name": "python3"
  },
  "language_info": {
   "codemirror_mode": {
    "name": "ipython",
    "version": 3
   },
   "file_extension": ".py",
   "mimetype": "text/x-python",
   "name": "python",
   "nbconvert_exporter": "python",
   "pygments_lexer": "ipython3",
   "version": "3.8.5"
  },
  "toc": {
   "base_numbering": 1,
   "nav_menu": {},
   "number_sections": true,
   "sideBar": true,
   "skip_h1_title": true,
   "title_cell": "Table of Contents",
   "title_sidebar": "Contents",
   "toc_cell": false,
   "toc_position": {},
   "toc_section_display": true,
   "toc_window_display": false
  },
  "varInspector": {
   "cols": {
    "lenName": 16,
    "lenType": 16,
    "lenVar": 40
   },
   "kernels_config": {
    "python": {
     "delete_cmd_postfix": "",
     "delete_cmd_prefix": "del ",
     "library": "var_list.py",
     "varRefreshCmd": "print(var_dic_list())"
    },
    "r": {
     "delete_cmd_postfix": ") ",
     "delete_cmd_prefix": "rm(",
     "library": "var_list.r",
     "varRefreshCmd": "cat(var_dic_list()) "
    }
   },
   "types_to_exclude": [
    "module",
    "function",
    "builtin_function_or_method",
    "instance",
    "_Feature"
   ],
   "window_display": false
  }
 },
 "nbformat": 4,
 "nbformat_minor": 4
}
