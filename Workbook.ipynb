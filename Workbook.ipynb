{
 "cells": [
  {
   "cell_type": "code",
   "execution_count": 1,
   "metadata": {
    "ExecuteTime": {
     "end_time": "2021-04-09T15:20:17.483188Z",
     "start_time": "2021-04-09T15:20:16.447687Z"
    }
   },
   "outputs": [],
   "source": [
    "# Load libraries \n",
    "import numpy as np\n",
    "import pandas as pd\n",
    "import matplotlib.pyplot as plt\n",
    "%matplotlib inline\n",
    "import seaborn as sns\n",
    "sns.set_style('whitegrid')\n",
    "\n",
    "import os, shutil\n",
    "from matplotlib.ticker import FuncFormatter"
   ]
  },
  {
   "cell_type": "code",
   "execution_count": 2,
   "metadata": {
    "ExecuteTime": {
     "end_time": "2021-04-09T15:20:18.847114Z",
     "start_time": "2021-04-09T15:20:18.342178Z"
    }
   },
   "outputs": [],
   "source": [
    "owid_df = pd.read_csv('../data/owid-covid-data.csv')"
   ]
  },
  {
   "cell_type": "code",
   "execution_count": 3,
   "metadata": {
    "ExecuteTime": {
     "end_time": "2021-04-09T15:20:20.927172Z",
     "start_time": "2021-04-09T15:20:20.918429Z"
    }
   },
   "outputs": [],
   "source": [
    "# fully_vax_df = pd.read_csv('../data/people-fully-vaccinated-covid.csv')\n",
    "fully_vax_df = pd.read_csv('../data/new_people-fully-vaccinated-covid.csv')"
   ]
  },
  {
   "cell_type": "code",
   "execution_count": 4,
   "metadata": {
    "ExecuteTime": {
     "end_time": "2021-04-09T15:20:24.250007Z",
     "start_time": "2021-04-09T15:20:24.237451Z"
    }
   },
   "outputs": [
    {
     "data": {
      "text/html": [
       "<div>\n",
       "<style scoped>\n",
       "    .dataframe tbody tr th:only-of-type {\n",
       "        vertical-align: middle;\n",
       "    }\n",
       "\n",
       "    .dataframe tbody tr th {\n",
       "        vertical-align: top;\n",
       "    }\n",
       "\n",
       "    .dataframe thead th {\n",
       "        text-align: right;\n",
       "    }\n",
       "</style>\n",
       "<table border=\"1\" class=\"dataframe\">\n",
       "  <thead>\n",
       "    <tr style=\"text-align: right;\">\n",
       "      <th></th>\n",
       "      <th>Entity</th>\n",
       "      <th>Code</th>\n",
       "      <th>Day</th>\n",
       "      <th>people_fully_vaccinated</th>\n",
       "    </tr>\n",
       "  </thead>\n",
       "  <tbody>\n",
       "    <tr>\n",
       "      <th>0</th>\n",
       "      <td>Africa</td>\n",
       "      <td>NaN</td>\n",
       "      <td>2021-02-03</td>\n",
       "      <td>5</td>\n",
       "    </tr>\n",
       "    <tr>\n",
       "      <th>1</th>\n",
       "      <td>Africa</td>\n",
       "      <td>NaN</td>\n",
       "      <td>2021-02-04</td>\n",
       "      <td>5</td>\n",
       "    </tr>\n",
       "    <tr>\n",
       "      <th>2</th>\n",
       "      <td>Africa</td>\n",
       "      <td>NaN</td>\n",
       "      <td>2021-02-05</td>\n",
       "      <td>5</td>\n",
       "    </tr>\n",
       "    <tr>\n",
       "      <th>3</th>\n",
       "      <td>Africa</td>\n",
       "      <td>NaN</td>\n",
       "      <td>2021-02-06</td>\n",
       "      <td>1586</td>\n",
       "    </tr>\n",
       "    <tr>\n",
       "      <th>4</th>\n",
       "      <td>Africa</td>\n",
       "      <td>NaN</td>\n",
       "      <td>2021-02-08</td>\n",
       "      <td>3980</td>\n",
       "    </tr>\n",
       "  </tbody>\n",
       "</table>\n",
       "</div>"
      ],
      "text/plain": [
       "   Entity Code         Day  people_fully_vaccinated\n",
       "0  Africa  NaN  2021-02-03                        5\n",
       "1  Africa  NaN  2021-02-04                        5\n",
       "2  Africa  NaN  2021-02-05                        5\n",
       "3  Africa  NaN  2021-02-06                     1586\n",
       "4  Africa  NaN  2021-02-08                     3980"
      ]
     },
     "execution_count": 4,
     "metadata": {},
     "output_type": "execute_result"
    }
   ],
   "source": [
    "fully_vax_df.head()"
   ]
  },
  {
   "cell_type": "code",
   "execution_count": 5,
   "metadata": {
    "ExecuteTime": {
     "end_time": "2021-04-09T15:20:25.041564Z",
     "start_time": "2021-04-09T15:20:25.034908Z"
    }
   },
   "outputs": [],
   "source": [
    "fully_vax_df['Day'] = pd.to_datetime(fully_vax_df['Day'])"
   ]
  },
  {
   "cell_type": "code",
   "execution_count": 6,
   "metadata": {
    "ExecuteTime": {
     "end_time": "2021-04-09T15:20:25.863133Z",
     "start_time": "2021-04-09T15:20:25.845749Z"
    }
   },
   "outputs": [
    {
     "data": {
      "text/html": [
       "<div>\n",
       "<style scoped>\n",
       "    .dataframe tbody tr th:only-of-type {\n",
       "        vertical-align: middle;\n",
       "    }\n",
       "\n",
       "    .dataframe tbody tr th {\n",
       "        vertical-align: top;\n",
       "    }\n",
       "\n",
       "    .dataframe thead th {\n",
       "        text-align: right;\n",
       "    }\n",
       "</style>\n",
       "<table border=\"1\" class=\"dataframe\">\n",
       "  <thead>\n",
       "    <tr style=\"text-align: right;\">\n",
       "      <th></th>\n",
       "      <th>Entity</th>\n",
       "      <th>Code</th>\n",
       "      <th>Day</th>\n",
       "      <th>people_fully_vaccinated</th>\n",
       "    </tr>\n",
       "  </thead>\n",
       "  <tbody>\n",
       "    <tr>\n",
       "      <th>0</th>\n",
       "      <td>Africa</td>\n",
       "      <td>NaN</td>\n",
       "      <td>2021-02-03</td>\n",
       "      <td>5</td>\n",
       "    </tr>\n",
       "    <tr>\n",
       "      <th>1</th>\n",
       "      <td>Africa</td>\n",
       "      <td>NaN</td>\n",
       "      <td>2021-02-04</td>\n",
       "      <td>5</td>\n",
       "    </tr>\n",
       "    <tr>\n",
       "      <th>2</th>\n",
       "      <td>Africa</td>\n",
       "      <td>NaN</td>\n",
       "      <td>2021-02-05</td>\n",
       "      <td>5</td>\n",
       "    </tr>\n",
       "    <tr>\n",
       "      <th>3</th>\n",
       "      <td>Africa</td>\n",
       "      <td>NaN</td>\n",
       "      <td>2021-02-06</td>\n",
       "      <td>1586</td>\n",
       "    </tr>\n",
       "    <tr>\n",
       "      <th>4</th>\n",
       "      <td>Africa</td>\n",
       "      <td>NaN</td>\n",
       "      <td>2021-02-08</td>\n",
       "      <td>3980</td>\n",
       "    </tr>\n",
       "    <tr>\n",
       "      <th>...</th>\n",
       "      <td>...</td>\n",
       "      <td>...</td>\n",
       "      <td>...</td>\n",
       "      <td>...</td>\n",
       "    </tr>\n",
       "    <tr>\n",
       "      <th>4739</th>\n",
       "      <td>Zimbabwe</td>\n",
       "      <td>ZWE</td>\n",
       "      <td>2021-04-03</td>\n",
       "      <td>21327</td>\n",
       "    </tr>\n",
       "    <tr>\n",
       "      <th>4740</th>\n",
       "      <td>Zimbabwe</td>\n",
       "      <td>ZWE</td>\n",
       "      <td>2021-04-04</td>\n",
       "      <td>21603</td>\n",
       "    </tr>\n",
       "    <tr>\n",
       "      <th>4741</th>\n",
       "      <td>Zimbabwe</td>\n",
       "      <td>ZWE</td>\n",
       "      <td>2021-04-05</td>\n",
       "      <td>22056</td>\n",
       "    </tr>\n",
       "    <tr>\n",
       "      <th>4742</th>\n",
       "      <td>Zimbabwe</td>\n",
       "      <td>ZWE</td>\n",
       "      <td>2021-04-06</td>\n",
       "      <td>23500</td>\n",
       "    </tr>\n",
       "    <tr>\n",
       "      <th>4743</th>\n",
       "      <td>Zimbabwe</td>\n",
       "      <td>ZWE</td>\n",
       "      <td>2021-04-07</td>\n",
       "      <td>26179</td>\n",
       "    </tr>\n",
       "  </tbody>\n",
       "</table>\n",
       "<p>4744 rows × 4 columns</p>\n",
       "</div>"
      ],
      "text/plain": [
       "        Entity Code        Day  people_fully_vaccinated\n",
       "0       Africa  NaN 2021-02-03                        5\n",
       "1       Africa  NaN 2021-02-04                        5\n",
       "2       Africa  NaN 2021-02-05                        5\n",
       "3       Africa  NaN 2021-02-06                     1586\n",
       "4       Africa  NaN 2021-02-08                     3980\n",
       "...        ...  ...        ...                      ...\n",
       "4739  Zimbabwe  ZWE 2021-04-03                    21327\n",
       "4740  Zimbabwe  ZWE 2021-04-04                    21603\n",
       "4741  Zimbabwe  ZWE 2021-04-05                    22056\n",
       "4742  Zimbabwe  ZWE 2021-04-06                    23500\n",
       "4743  Zimbabwe  ZWE 2021-04-07                    26179\n",
       "\n",
       "[4744 rows x 4 columns]"
      ]
     },
     "execution_count": 6,
     "metadata": {},
     "output_type": "execute_result"
    }
   ],
   "source": [
    "fully_vax_df"
   ]
  },
  {
   "cell_type": "code",
   "execution_count": 8,
   "metadata": {
    "ExecuteTime": {
     "end_time": "2021-04-09T15:20:40.453471Z",
     "start_time": "2021-04-09T15:20:37.769150Z"
    }
   },
   "outputs": [
    {
     "data": {
      "image/png": "[encoded data removed]",
      "text/plain": [
       "<Figure size 1296x360 with 1 Axes>"
      ]
     },
     "metadata": {},
     "output_type": "display_data"
    }
   ],
   "source": [
    "fig, ax = plt.subplots()\n",
    "fully_vax_df.groupby('Entity').plot(x= 'Day', y= 'people_fully_vaccinated', ax= ax, legend= False, figsize= (18,5));"
   ]
  },
  {
   "cell_type": "code",
   "execution_count": 9,
   "metadata": {
    "ExecuteTime": {
     "end_time": "2021-04-09T15:20:42.914140Z",
     "start_time": "2021-04-09T15:20:42.910830Z"
    }
   },
   "outputs": [],
   "source": [
    "attempt = fully_vax_df.copy()"
   ]
  },
  {
   "cell_type": "code",
   "execution_count": 10,
   "metadata": {
    "ExecuteTime": {
     "end_time": "2021-04-09T15:20:43.846012Z",
     "start_time": "2021-04-09T15:20:43.835813Z"
    }
   },
   "outputs": [
    {
     "data": {
      "text/html": [
       "<div>\n",
       "<style scoped>\n",
       "    .dataframe tbody tr th:only-of-type {\n",
       "        vertical-align: middle;\n",
       "    }\n",
       "\n",
       "    .dataframe tbody tr th {\n",
       "        vertical-align: top;\n",
       "    }\n",
       "\n",
       "    .dataframe thead th {\n",
       "        text-align: right;\n",
       "    }\n",
       "</style>\n",
       "<table border=\"1\" class=\"dataframe\">\n",
       "  <thead>\n",
       "    <tr style=\"text-align: right;\">\n",
       "      <th></th>\n",
       "      <th>Entity</th>\n",
       "      <th>Code</th>\n",
       "      <th>Day</th>\n",
       "      <th>people_fully_vaccinated</th>\n",
       "    </tr>\n",
       "  </thead>\n",
       "  <tbody>\n",
       "    <tr>\n",
       "      <th>0</th>\n",
       "      <td>Africa</td>\n",
       "      <td>NaN</td>\n",
       "      <td>2021-02-03</td>\n",
       "      <td>5</td>\n",
       "    </tr>\n",
       "    <tr>\n",
       "      <th>1</th>\n",
       "      <td>Africa</td>\n",
       "      <td>NaN</td>\n",
       "      <td>2021-02-04</td>\n",
       "      <td>5</td>\n",
       "    </tr>\n",
       "    <tr>\n",
       "      <th>2</th>\n",
       "      <td>Africa</td>\n",
       "      <td>NaN</td>\n",
       "      <td>2021-02-05</td>\n",
       "      <td>5</td>\n",
       "    </tr>\n",
       "    <tr>\n",
       "      <th>3</th>\n",
       "      <td>Africa</td>\n",
       "      <td>NaN</td>\n",
       "      <td>2021-02-06</td>\n",
       "      <td>1586</td>\n",
       "    </tr>\n",
       "    <tr>\n",
       "      <th>4</th>\n",
       "      <td>Africa</td>\n",
       "      <td>NaN</td>\n",
       "      <td>2021-02-08</td>\n",
       "      <td>3980</td>\n",
       "    </tr>\n",
       "  </tbody>\n",
       "</table>\n",
       "</div>"
      ],
      "text/plain": [
       "   Entity Code        Day  people_fully_vaccinated\n",
       "0  Africa  NaN 2021-02-03                        5\n",
       "1  Africa  NaN 2021-02-04                        5\n",
       "2  Africa  NaN 2021-02-05                        5\n",
       "3  Africa  NaN 2021-02-06                     1586\n",
       "4  Africa  NaN 2021-02-08                     3980"
      ]
     },
     "execution_count": 10,
     "metadata": {},
     "output_type": "execute_result"
    }
   ],
   "source": [
    "attempt.head()"
   ]
  },
  {
   "cell_type": "code",
   "execution_count": 11,
   "metadata": {
    "ExecuteTime": {
     "end_time": "2021-04-09T15:20:46.509588Z",
     "start_time": "2021-04-09T15:20:46.502857Z"
    }
   },
   "outputs": [],
   "source": [
    "attempt.sort_values(by= ['people_fully_vaccinated'], ascending= False, inplace= True)"
   ]
  },
  {
   "cell_type": "code",
   "execution_count": 12,
   "metadata": {
    "ExecuteTime": {
     "end_time": "2021-04-09T15:20:52.683912Z",
     "start_time": "2021-04-09T15:20:52.678603Z"
    }
   },
   "outputs": [],
   "source": [
    "attempt = attempt[attempt.Entity != 'World']"
   ]
  },
  {
   "cell_type": "code",
   "execution_count": 13,
   "metadata": {
    "ExecuteTime": {
     "end_time": "2021-04-09T15:20:53.724622Z",
     "start_time": "2021-04-09T15:20:53.709534Z"
    }
   },
   "outputs": [
    {
     "data": {
      "text/html": [
       "<div>\n",
       "<style scoped>\n",
       "    .dataframe tbody tr th:only-of-type {\n",
       "        vertical-align: middle;\n",
       "    }\n",
       "\n",
       "    .dataframe tbody tr th {\n",
       "        vertical-align: top;\n",
       "    }\n",
       "\n",
       "    .dataframe thead th {\n",
       "        text-align: right;\n",
       "    }\n",
       "</style>\n",
       "<table border=\"1\" class=\"dataframe\">\n",
       "  <thead>\n",
       "    <tr style=\"text-align: right;\">\n",
       "      <th></th>\n",
       "      <th>Entity</th>\n",
       "      <th>Code</th>\n",
       "      <th>Day</th>\n",
       "      <th>people_fully_vaccinated</th>\n",
       "    </tr>\n",
       "  </thead>\n",
       "  <tbody>\n",
       "    <tr>\n",
       "      <th>3090</th>\n",
       "      <td>North America</td>\n",
       "      <td>NaN</td>\n",
       "      <td>2021-04-08</td>\n",
       "      <td>69148012</td>\n",
       "    </tr>\n",
       "    <tr>\n",
       "      <th>3089</th>\n",
       "      <td>North America</td>\n",
       "      <td>NaN</td>\n",
       "      <td>2021-04-07</td>\n",
       "      <td>67156749</td>\n",
       "    </tr>\n",
       "    <tr>\n",
       "      <th>4523</th>\n",
       "      <td>United States</td>\n",
       "      <td>USA</td>\n",
       "      <td>2021-04-08</td>\n",
       "      <td>66203123</td>\n",
       "    </tr>\n",
       "    <tr>\n",
       "      <th>3088</th>\n",
       "      <td>North America</td>\n",
       "      <td>NaN</td>\n",
       "      <td>2021-04-06</td>\n",
       "      <td>65564245</td>\n",
       "    </tr>\n",
       "    <tr>\n",
       "      <th>3087</th>\n",
       "      <td>North America</td>\n",
       "      <td>NaN</td>\n",
       "      <td>2021-04-05</td>\n",
       "      <td>64703517</td>\n",
       "    </tr>\n",
       "    <tr>\n",
       "      <th>4522</th>\n",
       "      <td>United States</td>\n",
       "      <td>USA</td>\n",
       "      <td>2021-04-07</td>\n",
       "      <td>64422618</td>\n",
       "    </tr>\n",
       "    <tr>\n",
       "      <th>3086</th>\n",
       "      <td>North America</td>\n",
       "      <td>NaN</td>\n",
       "      <td>2021-04-04</td>\n",
       "      <td>63651477</td>\n",
       "    </tr>\n",
       "    <tr>\n",
       "      <th>4521</th>\n",
       "      <td>United States</td>\n",
       "      <td>USA</td>\n",
       "      <td>2021-04-06</td>\n",
       "      <td>63016976</td>\n",
       "    </tr>\n",
       "    <tr>\n",
       "      <th>4520</th>\n",
       "      <td>United States</td>\n",
       "      <td>USA</td>\n",
       "      <td>2021-04-05</td>\n",
       "      <td>62392065</td>\n",
       "    </tr>\n",
       "    <tr>\n",
       "      <th>3085</th>\n",
       "      <td>North America</td>\n",
       "      <td>NaN</td>\n",
       "      <td>2021-04-03</td>\n",
       "      <td>62062859</td>\n",
       "    </tr>\n",
       "    <tr>\n",
       "      <th>4519</th>\n",
       "      <td>United States</td>\n",
       "      <td>USA</td>\n",
       "      <td>2021-04-04</td>\n",
       "      <td>61416536</td>\n",
       "    </tr>\n",
       "    <tr>\n",
       "      <th>3084</th>\n",
       "      <td>North America</td>\n",
       "      <td>NaN</td>\n",
       "      <td>2021-04-02</td>\n",
       "      <td>60160061</td>\n",
       "    </tr>\n",
       "    <tr>\n",
       "      <th>4518</th>\n",
       "      <td>United States</td>\n",
       "      <td>USA</td>\n",
       "      <td>2021-04-03</td>\n",
       "      <td>59858146</td>\n",
       "    </tr>\n",
       "    <tr>\n",
       "      <th>3083</th>\n",
       "      <td>North America</td>\n",
       "      <td>NaN</td>\n",
       "      <td>2021-04-01</td>\n",
       "      <td>58148365</td>\n",
       "    </tr>\n",
       "    <tr>\n",
       "      <th>4517</th>\n",
       "      <td>United States</td>\n",
       "      <td>USA</td>\n",
       "      <td>2021-04-02</td>\n",
       "      <td>57984785</td>\n",
       "    </tr>\n",
       "  </tbody>\n",
       "</table>\n",
       "</div>"
      ],
      "text/plain": [
       "             Entity Code        Day  people_fully_vaccinated\n",
       "3090  North America  NaN 2021-04-08                 69148012\n",
       "3089  North America  NaN 2021-04-07                 67156749\n",
       "4523  United States  USA 2021-04-08                 66203123\n",
       "3088  North America  NaN 2021-04-06                 65564245\n",
       "3087  North America  NaN 2021-04-05                 64703517\n",
       "4522  United States  USA 2021-04-07                 64422618\n",
       "3086  North America  NaN 2021-04-04                 63651477\n",
       "4521  United States  USA 2021-04-06                 63016976\n",
       "4520  United States  USA 2021-04-05                 62392065\n",
       "3085  North America  NaN 2021-04-03                 62062859\n",
       "4519  United States  USA 2021-04-04                 61416536\n",
       "3084  North America  NaN 2021-04-02                 60160061\n",
       "4518  United States  USA 2021-04-03                 59858146\n",
       "3083  North America  NaN 2021-04-01                 58148365\n",
       "4517  United States  USA 2021-04-02                 57984785"
      ]
     },
     "execution_count": 13,
     "metadata": {},
     "output_type": "execute_result"
    }
   ],
   "source": [
    "attempt.head(15)"
   ]
  },
  {
   "cell_type": "code",
   "execution_count": 14,
   "metadata": {
    "ExecuteTime": {
     "end_time": "2021-04-09T15:20:59.841949Z",
     "start_time": "2021-04-09T15:20:59.832074Z"
    }
   },
   "outputs": [
    {
     "data": {
      "text/plain": [
       "array(['North America', 'United States', 'Europe', 'Asia',\n",
       "       'European Union', 'India', 'South America', 'Turkey',\n",
       "       'United Kingdom', 'Brazil', 'Russia', 'England', 'Israel',\n",
       "       'Germany', 'Indonesia', 'Africa', 'Chile', 'Morocco', 'Italy',\n",
       "       'France', 'Spain', 'United Arab Emirates', 'Poland', 'Mexico',\n",
       "       'Romania', 'Serbia', 'Hungary', 'Canada', 'Argentina', 'Greece',\n",
       "       'Netherlands', 'Czechia', 'Belgium', 'Switzerland', 'Portugal',\n",
       "       'Austria', 'Sweden', 'Colombia', 'Singapore', 'Scotland', 'Wales',\n",
       "       'Denmark', 'Japan', 'Azerbaijan', 'Bahrain', 'Malaysia', 'Peru',\n",
       "       'Norway', 'South Africa', 'Slovakia', 'Ireland', 'Cambodia',\n",
       "       'Costa Rica', 'Lithuania', 'Northern Ireland', 'Hong Kong',\n",
       "       'Uruguay', 'Panama', 'Bolivia', 'Slovenia', 'Jordan', 'Ecuador',\n",
       "       'Bulgaria', 'Dominican Republic', 'Croatia', 'Lebanon', 'Finland',\n",
       "       'Estonia', 'Malta', 'Thailand', 'South Korea', 'Philippines',\n",
       "       'Cyprus', 'Northern Cyprus', 'Seychelles', 'Kuwait', 'Gibraltar',\n",
       "       'Luxembourg', 'Iceland', 'Zimbabwe', 'Belarus', 'Latvia',\n",
       "       'Cayman Islands', 'Jersey', 'Oceania', 'New Zealand', 'Kazakhstan',\n",
       "       'Oman', 'Macao', 'Bermuda', 'Isle of Man', 'Maldives', 'Palestine',\n",
       "       'Monaco', 'Guernsey', 'San Marino', 'Montenegro', 'Faeroe Islands',\n",
       "       'Tunisia', 'Equatorial Guinea', 'Paraguay', 'Guatemala', 'Andorra',\n",
       "       'Greenland', 'Albania', 'Dominica', 'Montserrat', 'Ukraine'],\n",
       "      dtype=object)"
      ]
     },
     "execution_count": 14,
     "metadata": {},
     "output_type": "execute_result"
    }
   ],
   "source": [
    "attempt.Entity.unique()"
   ]
  },
  {
   "cell_type": "code",
   "execution_count": 15,
   "metadata": {
    "ExecuteTime": {
     "end_time": "2021-04-09T15:21:04.411593Z",
     "start_time": "2021-04-09T15:21:04.408926Z"
    }
   },
   "outputs": [],
   "source": [
    "continents = ['North America', 'Europe', 'Asia', 'European Union', \n",
    "              'Africa', 'South America', 'World']"
   ]
  },
  {
   "cell_type": "code",
   "execution_count": 16,
   "metadata": {
    "ExecuteTime": {
     "end_time": "2021-04-09T15:21:05.116134Z",
     "start_time": "2021-04-09T15:21:05.109283Z"
    }
   },
   "outputs": [],
   "source": [
    "attempt = attempt[~attempt['Entity'].isin(continents)]"
   ]
  },
  {
   "cell_type": "code",
   "execution_count": 17,
   "metadata": {
    "ExecuteTime": {
     "end_time": "2021-04-09T15:21:05.880752Z",
     "start_time": "2021-04-09T15:21:05.872217Z"
    }
   },
   "outputs": [
    {
     "data": {
      "text/plain": [
       "array(['United States', 'India', 'Turkey', 'United Kingdom', 'Brazil',\n",
       "       'Russia', 'England', 'Israel', 'Germany', 'Indonesia', 'Chile',\n",
       "       'Morocco', 'Italy', 'France', 'Spain', 'United Arab Emirates',\n",
       "       'Poland', 'Mexico', 'Romania', 'Serbia', 'Hungary', 'Canada',\n",
       "       'Argentina', 'Greece', 'Netherlands', 'Czechia', 'Belgium',\n",
       "       'Switzerland', 'Portugal', 'Austria', 'Sweden', 'Colombia',\n",
       "       'Singapore', 'Scotland', 'Wales', 'Denmark', 'Japan', 'Azerbaijan',\n",
       "       'Bahrain', 'Malaysia', 'Peru', 'Norway', 'South Africa',\n",
       "       'Slovakia', 'Ireland', 'Cambodia', 'Costa Rica', 'Lithuania',\n",
       "       'Northern Ireland', 'Hong Kong', 'Uruguay', 'Panama', 'Bolivia',\n",
       "       'Slovenia', 'Jordan', 'Ecuador', 'Bulgaria', 'Dominican Republic',\n",
       "       'Croatia', 'Lebanon', 'Finland', 'Estonia', 'Malta', 'Thailand',\n",
       "       'South Korea', 'Philippines', 'Cyprus', 'Northern Cyprus',\n",
       "       'Seychelles', 'Kuwait', 'Gibraltar', 'Luxembourg', 'Iceland',\n",
       "       'Zimbabwe', 'Belarus', 'Latvia', 'Cayman Islands', 'Jersey',\n",
       "       'Oceania', 'New Zealand', 'Kazakhstan', 'Oman', 'Macao', 'Bermuda',\n",
       "       'Isle of Man', 'Maldives', 'Palestine', 'Monaco', 'Guernsey',\n",
       "       'San Marino', 'Montenegro', 'Faeroe Islands', 'Tunisia',\n",
       "       'Equatorial Guinea', 'Paraguay', 'Guatemala', 'Andorra',\n",
       "       'Greenland', 'Albania', 'Dominica', 'Montserrat', 'Ukraine'],\n",
       "      dtype=object)"
      ]
     },
     "execution_count": 17,
     "metadata": {},
     "output_type": "execute_result"
    }
   ],
   "source": [
    "attempt.Entity.unique()"
   ]
  },
  {
   "cell_type": "code",
   "execution_count": 18,
   "metadata": {
    "ExecuteTime": {
     "end_time": "2021-04-09T15:21:44.292301Z",
     "start_time": "2021-04-09T15:21:42.973136Z"
    }
   },
   "outputs": [
    {
     "data": {
      "text/plain": [
       "Entity\n",
       "Albania           AxesSubplot(0.125,0.2;0.775x0.68)\n",
       "Andorra           AxesSubplot(0.125,0.2;0.775x0.68)\n",
       "Argentina         AxesSubplot(0.125,0.2;0.775x0.68)\n",
       "Austria           AxesSubplot(0.125,0.2;0.775x0.68)\n",
       "Azerbaijan        AxesSubplot(0.125,0.2;0.775x0.68)\n",
       "                                ...                \n",
       "United Kingdom    AxesSubplot(0.125,0.2;0.775x0.68)\n",
       "United States     AxesSubplot(0.125,0.2;0.775x0.68)\n",
       "Uruguay           AxesSubplot(0.125,0.2;0.775x0.68)\n",
       "Wales             AxesSubplot(0.125,0.2;0.775x0.68)\n",
       "Zimbabwe          AxesSubplot(0.125,0.2;0.775x0.68)\n",
       "Length: 102, dtype: object"
      ]
     },
     "execution_count": 18,
     "metadata": {},
     "output_type": "execute_result"
    },
    {
     "data": {
      "image/png": "[encoded data removed]",
      "text/plain": [
       "<Figure size 1296x360 with 1 Axes>"
      ]
     },
     "metadata": {},
     "output_type": "display_data"
    }
   ],
   "source": [
    "fig, ax = plt.subplots()\n",
    "attempt.groupby('Entity').plot(x= 'Day', y= 'people_fully_vaccinated', ax= ax, \n",
    "                               figsize= (18,5), legend= False);"
   ]
  },
  {
   "cell_type": "code",
   "execution_count": null,
   "metadata": {
    "ExecuteTime": {
     "end_time": "2021-03-24T17:50:10.443104Z",
     "start_time": "2021-03-24T17:50:10.437332Z"
    }
   },
   "outputs": [],
   "source": [
    "fully_vax_df = pd.read_csv('../data/people-fully-vaccinated-covid.csv')"
   ]
  },
  {
   "cell_type": "code",
   "execution_count": null,
   "metadata": {
    "ExecuteTime": {
     "end_time": "2021-03-24T17:50:10.466159Z",
     "start_time": "2021-03-24T17:50:10.446941Z"
    }
   },
   "outputs": [],
   "source": [
    "country_incomes = pd.read_csv('../data/list-of-economies.csv', header= 4, index_col= False)\n",
    "country_incomes"
   ]
  },
  {
   "cell_type": "code",
   "execution_count": null,
   "metadata": {
    "ExecuteTime": {
     "end_time": "2021-03-24T17:50:10.477281Z",
     "start_time": "2021-03-24T17:50:10.467747Z"
    },
    "scrolled": true
   },
   "outputs": [],
   "source": [
    "country_incomes.columns"
   ]
  },
  {
   "cell_type": "code",
   "execution_count": null,
   "metadata": {
    "ExecuteTime": {
     "end_time": "2021-03-24T17:50:10.486744Z",
     "start_time": "2021-03-24T17:50:10.480628Z"
    },
    "scrolled": true
   },
   "outputs": [],
   "source": [
    "country_incomes.isna().sum()"
   ]
  },
  {
   "cell_type": "code",
   "execution_count": null,
   "metadata": {
    "ExecuteTime": {
     "end_time": "2021-03-24T17:50:10.501382Z",
     "start_time": "2021-03-24T17:50:10.488678Z"
    }
   },
   "outputs": [],
   "source": [
    "country_incomes.drop(columns= ['Unnamed: 0', 'Other'], inplace= True)\n",
    "country_incomes"
   ]
  },
  {
   "cell_type": "code",
   "execution_count": null,
   "metadata": {
    "ExecuteTime": {
     "end_time": "2021-03-24T17:50:10.506746Z",
     "start_time": "2021-03-24T17:50:10.503835Z"
    }
   },
   "outputs": [],
   "source": [
    "pd.set_option('display.max_rows', 50)"
   ]
  },
  {
   "cell_type": "code",
   "execution_count": null,
   "metadata": {
    "ExecuteTime": {
     "end_time": "2021-03-24T17:50:10.521742Z",
     "start_time": "2021-03-24T17:50:10.509205Z"
    },
    "scrolled": true
   },
   "outputs": [],
   "source": [
    "country_incomes.head(40)"
   ]
  },
  {
   "cell_type": "code",
   "execution_count": null,
   "metadata": {
    "ExecuteTime": {
     "end_time": "2021-03-24T17:50:10.526417Z",
     "start_time": "2021-03-24T17:50:10.523913Z"
    }
   },
   "outputs": [],
   "source": [
    "ci2 = country_incomes.copy()"
   ]
  },
  {
   "cell_type": "code",
   "execution_count": null,
   "metadata": {
    "ExecuteTime": {
     "end_time": "2021-03-24T17:50:10.531511Z",
     "start_time": "2021-03-24T17:50:10.529088Z"
    }
   },
   "outputs": [],
   "source": [
    "ci2 = ci2.iloc[:218]"
   ]
  },
  {
   "cell_type": "code",
   "execution_count": null,
   "metadata": {
    "ExecuteTime": {
     "end_time": "2021-03-24T17:50:10.547104Z",
     "start_time": "2021-03-24T17:50:10.534170Z"
    }
   },
   "outputs": [],
   "source": [
    "ci2.tail(15)"
   ]
  },
  {
   "cell_type": "code",
   "execution_count": null,
   "metadata": {
    "ExecuteTime": {
     "end_time": "2021-03-24T17:50:10.561446Z",
     "start_time": "2021-03-24T17:50:10.549427Z"
    },
    "scrolled": true
   },
   "outputs": [],
   "source": [
    "ci2.info()"
   ]
  },
  {
   "cell_type": "code",
   "execution_count": null,
   "metadata": {
    "ExecuteTime": {
     "end_time": "2021-03-24T17:50:10.577330Z",
     "start_time": "2021-03-24T17:50:10.564283Z"
    }
   },
   "outputs": [],
   "source": [
    "attempt.info()"
   ]
  },
  {
   "cell_type": "markdown",
   "metadata": {},
   "source": [
    "## Merge dfs then segment by income to plot TS"
   ]
  },
  {
   "cell_type": "code",
   "execution_count": null,
   "metadata": {
    "ExecuteTime": {
     "end_time": "2021-03-24T17:50:10.656835Z",
     "start_time": "2021-03-24T17:50:10.649948Z"
    }
   },
   "outputs": [],
   "source": [
    "test2_all = pd.merge(attempt, ci2, how= 'left', on= 'Code')"
   ]
  },
  {
   "cell_type": "code",
   "execution_count": null,
   "metadata": {
    "ExecuteTime": {
     "end_time": "2021-03-24T17:50:10.671515Z",
     "start_time": "2021-03-24T17:50:10.658708Z"
    }
   },
   "outputs": [],
   "source": [
    "test2_all.info()"
   ]
  },
  {
   "cell_type": "code",
   "execution_count": null,
   "metadata": {
    "ExecuteTime": {
     "end_time": "2021-03-24T17:50:10.683444Z",
     "start_time": "2021-03-24T17:50:10.673901Z"
    }
   },
   "outputs": [],
   "source": [
    "nullval = test2_all[test2_all.isnull().any(axis= 1)]"
   ]
  },
  {
   "cell_type": "code",
   "execution_count": null,
   "metadata": {
    "ExecuteTime": {
     "end_time": "2021-03-24T17:50:10.689592Z",
     "start_time": "2021-03-24T17:50:10.685269Z"
    }
   },
   "outputs": [],
   "source": [
    "nullval.Entity.unique()"
   ]
  },
  {
   "cell_type": "code",
   "execution_count": null,
   "metadata": {
    "ExecuteTime": {
     "end_time": "2021-03-24T19:14:52.716196Z",
     "start_time": "2021-03-24T19:14:52.701468Z"
    }
   },
   "outputs": [],
   "source": [
    "test2_all"
   ]
  },
  {
   "cell_type": "code",
   "execution_count": null,
   "metadata": {
    "ExecuteTime": {
     "end_time": "2021-03-24T19:17:12.722655Z",
     "start_time": "2021-03-24T19:17:12.719152Z"
    }
   },
   "outputs": [],
   "source": [
    "test2_all['Income group'].fillna('High income', inplace= True)"
   ]
  },
  {
   "cell_type": "code",
   "execution_count": null,
   "metadata": {
    "ExecuteTime": {
     "end_time": "2021-03-24T19:17:22.687097Z",
     "start_time": "2021-03-24T19:17:22.676492Z"
    },
    "scrolled": true
   },
   "outputs": [],
   "source": [
    "test2_all.info()"
   ]
  },
  {
   "cell_type": "code",
   "execution_count": null,
   "metadata": {
    "ExecuteTime": {
     "end_time": "2021-03-24T20:51:09.050034Z",
     "start_time": "2021-03-24T20:51:09.039755Z"
    }
   },
   "outputs": [],
   "source": [
    "test2_all.groupby(['Entity', 'Day'])['people_fully_vaccinated'].sum()"
   ]
  },
  {
   "cell_type": "code",
   "execution_count": null,
   "metadata": {
    "ExecuteTime": {
     "end_time": "2021-03-24T20:58:10.777402Z",
     "start_time": "2021-03-24T20:58:10.184330Z"
    }
   },
   "outputs": [],
   "source": [
    "test2_all.groupby(['Entity', 'Income group'])['people_fully_vaccinated'].plot()"
   ]
  },
  {
   "cell_type": "code",
   "execution_count": null,
   "metadata": {
    "ExecuteTime": {
     "end_time": "2021-03-24T20:59:41.966586Z",
     "start_time": "2021-03-24T20:59:41.963097Z"
    }
   },
   "outputs": [],
   "source": [
    "up_mid = test2_all[test2_all['Income group'] == 'Upper middle income']"
   ]
  },
  {
   "cell_type": "code",
   "execution_count": null,
   "metadata": {
    "ExecuteTime": {
     "end_time": "2021-03-24T20:59:50.759137Z",
     "start_time": "2021-03-24T20:59:50.749254Z"
    }
   },
   "outputs": [],
   "source": [
    "up_mid.info()"
   ]
  },
  {
   "cell_type": "code",
   "execution_count": null,
   "metadata": {
    "ExecuteTime": {
     "end_time": "2021-03-24T21:07:29.356031Z",
     "start_time": "2021-03-24T21:07:28.785010Z"
    },
    "scrolled": true
   },
   "outputs": [],
   "source": []
  },
  {
   "cell_type": "markdown",
   "metadata": {},
   "source": [
    "## Look at balance of income groups, which countries are in which group?"
   ]
  },
  {
   "cell_type": "code",
   "execution_count": null,
   "metadata": {
    "ExecuteTime": {
     "end_time": "2021-03-24T21:45:50.568698Z",
     "start_time": "2021-03-24T21:45:50.473183Z"
    }
   },
   "outputs": [],
   "source": [
    "sns.countplot(x = 'Income group', data= test2_all)"
   ]
  },
  {
   "cell_type": "markdown",
   "metadata": {},
   "source": [
    "## Percent of population data stuff"
   ]
  },
  {
   "cell_type": "code",
   "execution_count": null,
   "metadata": {
    "ExecuteTime": {
     "end_time": "2021-03-24T23:24:34.880650Z",
     "start_time": "2021-03-24T23:24:34.875932Z"
    }
   },
   "outputs": [],
   "source": [
    "owid_df['pop_vax_percent'] = owid_df['people_fully_vaccinated'] / owid_df['population'] *100"
   ]
  },
  {
   "cell_type": "code",
   "execution_count": null,
   "metadata": {
    "ExecuteTime": {
     "end_time": "2021-03-24T23:29:02.291217Z",
     "start_time": "2021-03-24T23:29:02.286300Z"
    }
   },
   "outputs": [],
   "source": [
    "owid_df.date"
   ]
  },
  {
   "cell_type": "code",
   "execution_count": null,
   "metadata": {
    "ExecuteTime": {
     "end_time": "2021-03-24T23:29:15.032069Z",
     "start_time": "2021-03-24T23:29:14.986628Z"
    }
   },
   "outputs": [],
   "source": [
    "ow_date = owid_df[owid_df['date'] == '2021-03-20']"
   ]
  },
  {
   "cell_type": "code",
   "execution_count": null,
   "metadata": {
    "ExecuteTime": {
     "end_time": "2021-03-24T23:29:54.337865Z",
     "start_time": "2021-03-24T23:29:54.328096Z"
    },
    "scrolled": true
   },
   "outputs": [],
   "source": [
    "ow_date.info()"
   ]
  },
  {
   "cell_type": "code",
   "execution_count": null,
   "metadata": {
    "ExecuteTime": {
     "end_time": "2021-03-24T23:34:17.818209Z",
     "start_time": "2021-03-24T23:34:17.814983Z"
    }
   },
   "outputs": [],
   "source": [
    "ow_perc = ow_date[ow_date['pop_vax_percent'].notna()]"
   ]
  },
  {
   "cell_type": "code",
   "execution_count": null,
   "metadata": {
    "ExecuteTime": {
     "end_time": "2021-03-24T23:36:11.661372Z",
     "start_time": "2021-03-24T23:36:11.656165Z"
    }
   },
   "outputs": [],
   "source": [
    "ow_perc.location"
   ]
  },
  {
   "cell_type": "code",
   "execution_count": null,
   "metadata": {
    "ExecuteTime": {
     "end_time": "2021-03-24T23:37:57.201424Z",
     "start_time": "2021-03-24T23:37:57.182880Z"
    }
   },
   "outputs": [],
   "source": [
    "ow_perc[ow_perc['location'] == 'World']"
   ]
  },
  {
   "cell_type": "code",
   "execution_count": null,
   "metadata": {
    "ExecuteTime": {
     "end_time": "2021-03-24T23:31:10.245646Z",
     "start_time": "2021-03-24T23:31:09.219566Z"
    }
   },
   "outputs": [],
   "source": [
    "ow_date.groupby('location')['pop_vax_percent'].plot(kind= 'bar')"
   ]
  },
  {
   "cell_type": "markdown",
   "metadata": {},
   "source": [
    "## LSTM"
   ]
  },
  {
   "cell_type": "code",
   "execution_count": 20,
   "metadata": {
    "ExecuteTime": {
     "end_time": "2021-04-09T19:01:39.028619Z",
     "start_time": "2021-04-09T19:01:39.009266Z"
    }
   },
   "outputs": [],
   "source": [
    "# Load libraries \n",
    "import numpy as np\n",
    "import pandas as pd\n",
    "import matplotlib.pyplot as plt\n",
    "%matplotlib inline\n",
    "import seaborn as sns\n",
    "sns.set_style('whitegrid')\n",
    "\n",
    "import os, shutil\n",
    "from matplotlib.ticker import FuncFormatter\n",
    "pd.set_option('display.max_rows', 55)\n",
    "\n",
    "import math\n",
    "from statsmodels.tsa.stattools import adfuller #Dickey-Fuller Test\n",
    "from statsmodels.tsa.seasonal import seasonal_decompose \n",
    "from statsmodels.graphics.tsaplots import plot_acf, plot_pacf\n",
    "import statsmodels.api as sm\n",
    "from pandas.plotting import autocorrelation_plot\n",
    "from sklearn.metrics import mean_squared_error\n",
    "from statsmodels.tsa.arima_model import ARIMA\n",
    "from pandas.tseries.offsets import DateOffset\n",
    "from statsmodels.tools.eval_measures import rmse\n",
    "import itertools\n",
    "\n",
    "import pmdarima as pm\n",
    "from pmdarima.model_selection import train_test_split\n",
    "from pmdarima.arima import ADFTest\n",
    "\n",
    "from statsmodels.tsa.holtwinters import Holt\n",
    "\n",
    "import plotly.express as px\n",
    "\n",
    "from sklearn.preprocessing import StandardScaler\n",
    "from sklearn.preprocessing import MinMaxScaler\n",
    "from keras.preprocessing.sequence import TimeseriesGenerator\n",
    "from keras.models import Sequential\n",
    "from keras.layers import Dense, LSTM, Dropout\n",
    "\n",
    "import warnings\n",
    "warnings.filterwarnings('ignore')"
   ]
  },
  {
   "cell_type": "code",
   "execution_count": 21,
   "metadata": {
    "ExecuteTime": {
     "end_time": "2021-04-09T19:01:40.164839Z",
     "start_time": "2021-04-09T19:01:40.151693Z"
    }
   },
   "outputs": [],
   "source": [
    "fully_vax_df = pd.read_csv('../data/new_people-fully-vaccinated-covid.csv')\n",
    "fully_vax_df['Day'] = pd.to_datetime(fully_vax_df['Day'])"
   ]
  },
  {
   "cell_type": "code",
   "execution_count": 22,
   "metadata": {
    "ExecuteTime": {
     "end_time": "2021-04-09T19:01:40.751815Z",
     "start_time": "2021-04-09T19:01:40.748601Z"
    }
   },
   "outputs": [],
   "source": [
    "fully_vax_ts = fully_vax_df.copy()\n",
    "fully_vax_ts.set_index('Day', inplace= True)"
   ]
  },
  {
   "cell_type": "code",
   "execution_count": 23,
   "metadata": {
    "ExecuteTime": {
     "end_time": "2021-04-09T19:01:41.368185Z",
     "start_time": "2021-04-09T19:01:41.357097Z"
    }
   },
   "outputs": [],
   "source": [
    "world_df = fully_vax_ts.where(fully_vax_ts['Entity'] == 'World')\n",
    "world_df.dropna(inplace= True)\n",
    "world_df.drop(['Code', 'Entity'], axis= 1, inplace= True)"
   ]
  },
  {
   "cell_type": "code",
   "execution_count": null,
   "metadata": {},
   "outputs": [],
   "source": []
  },
  {
   "cell_type": "markdown",
   "metadata": {},
   "source": [
    "### Started here"
   ]
  },
  {
   "cell_type": "code",
   "execution_count": null,
   "metadata": {
    "ExecuteTime": {
     "end_time": "2021-04-09T15:23:23.541744Z",
     "start_time": "2021-04-09T15:23:12.120Z"
    }
   },
   "outputs": [],
   "source": [
    "X = world_df.values"
   ]
  },
  {
   "cell_type": "code",
   "execution_count": null,
   "metadata": {
    "ExecuteTime": {
     "end_time": "2021-04-09T15:23:23.542658Z",
     "start_time": "2021-04-09T15:23:12.124Z"
    }
   },
   "outputs": [],
   "source": [
    "y = world_df.index\n",
    "y = y.strftime('%Y%m%d')\n",
    "y = np.asarray(y, dtype= 'int64')"
   ]
  },
  {
   "cell_type": "code",
   "execution_count": null,
   "metadata": {
    "ExecuteTime": {
     "end_time": "2021-04-09T15:23:23.543533Z",
     "start_time": "2021-04-09T15:23:12.127Z"
    }
   },
   "outputs": [],
   "source": [
    "scaler = MinMaxScaler(feature_range=(0, 1))\n",
    "scaled_X = scaler.fit_transform(X)\n",
    "\n",
    "# y = y.reshape(y.shape[0], 1)\n",
    "# scaled_y = scaler.transform(y)"
   ]
  },
  {
   "cell_type": "code",
   "execution_count": null,
   "metadata": {
    "ExecuteTime": {
     "end_time": "2021-04-09T15:23:23.544375Z",
     "start_time": "2021-04-09T15:23:12.130Z"
    }
   },
   "outputs": [],
   "source": [
    "# scaled_y"
   ]
  },
  {
   "cell_type": "code",
   "execution_count": null,
   "metadata": {
    "ExecuteTime": {
     "end_time": "2021-04-09T15:23:23.545239Z",
     "start_time": "2021-04-09T15:23:12.133Z"
    }
   },
   "outputs": [],
   "source": [
    "# X_train, X_test, y_train, y_test = train_test_split(scaled_X, scaled_y, test_size= 0.1)"
   ]
  },
  {
   "cell_type": "code",
   "execution_count": null,
   "metadata": {
    "ExecuteTime": {
     "end_time": "2021-04-09T15:23:23.546187Z",
     "start_time": "2021-04-09T15:23:12.137Z"
    }
   },
   "outputs": [],
   "source": [
    "X_train, X_test, y_train, y_test = train_test_split(scaled_X, y, test_size= 0.1)"
   ]
  },
  {
   "cell_type": "code",
   "execution_count": null,
   "metadata": {
    "ExecuteTime": {
     "end_time": "2021-04-09T15:23:23.547351Z",
     "start_time": "2021-04-09T15:23:12.140Z"
    }
   },
   "outputs": [],
   "source": [
    "X_train = X_train.reshape((X_train.shape[0], 1, X_train.shape[1]))\n",
    "X_test = X_test.reshape((X_test.shape[0], 1, X_test.shape[1]))"
   ]
  },
  {
   "cell_type": "code",
   "execution_count": null,
   "metadata": {
    "ExecuteTime": {
     "end_time": "2021-04-09T15:23:23.548360Z",
     "start_time": "2021-04-09T15:23:12.143Z"
    }
   },
   "outputs": [],
   "source": [
    "print (X_train.shape, y_train.shape, X_test.shape, y_test.shape)"
   ]
  },
  {
   "cell_type": "code",
   "execution_count": null,
   "metadata": {
    "ExecuteTime": {
     "end_time": "2021-04-09T15:23:23.549543Z",
     "start_time": "2021-04-09T15:23:12.146Z"
    }
   },
   "outputs": [],
   "source": [
    "lstm_model = Sequential()\n",
    "lstm_model.add(LSTM(32, activation= 'relu', input_shape= (X_train.shape[1], X_train.shape[2]), \n",
    "                    return_sequences= True))\n",
    "lstm_model.add(LSTM(64, activation= 'relu', return_sequences= True))\n",
    "lstm_model.add(LSTM(128, activation= 'relu', return_sequences= True))\n",
    "lstm_model.add(LSTM(64, activation= 'relu', return_sequences= True))\n",
    "lstm_model.add(LSTM(32, activation= 'relu', return_sequences= True))\n",
    "# lstm_model.add(Dropout(0.5))\n",
    "# lstm_model.add(Dense(6))\n",
    "# lstm_model.add(Dense(1))\n",
    "lstm_model.add(LSTM(1, activation= 'relu'))\n",
    "lstm_model.compile(optimizer= 'Adam', loss= 'mse')\n",
    "\n",
    "lstm_model.summary()"
   ]
  },
  {
   "cell_type": "code",
   "execution_count": null,
   "metadata": {
    "ExecuteTime": {
     "end_time": "2021-04-09T15:23:23.550481Z",
     "start_time": "2021-04-09T15:23:12.149Z"
    },
    "scrolled": true
   },
   "outputs": [],
   "source": [
    "history = lstm_model.fit(X_train, y_train, epochs= 20, batch_size= 1, validation_data= (X_test, y_test))"
   ]
  },
  {
   "cell_type": "code",
   "execution_count": null,
   "metadata": {
    "ExecuteTime": {
     "end_time": "2021-04-09T15:23:23.551383Z",
     "start_time": "2021-04-09T15:23:12.152Z"
    },
    "scrolled": true
   },
   "outputs": [],
   "source": [
    "plt.plot(history.history['loss'])\n",
    "plt.plot(history.history['val_loss'])\n",
    "plt.title('model loss')\n",
    "plt.ylabel('loss')\n",
    "plt.xlabel('epoch')\n",
    "plt.legend(['train', 'test'], loc='upper right')\n",
    "plt.show()"
   ]
  },
  {
   "cell_type": "code",
   "execution_count": null,
   "metadata": {},
   "outputs": [],
   "source": [
    "from numpy import newaxis\n",
    "def predict_sequence_full(model, data, window_size):\n",
    "    #Shift the window by 1 new prediction each time, re-run predictions on new window\n",
    "    curr_frame = data[0]\n",
    "    predicted = []\n",
    "    for i in range(len(data)):\n",
    "        predicted.append(model.predict(curr_frame[newaxis,:,:])[0,0])\n",
    "        curr_frame = curr_frame[1:]\n",
    "        curr_frame = np.insert(curr_frame, [window_size-1], predicted[-1], axis=0)\n",
    "    return predicted\n",
    "\n",
    "def plot_results(predicted_data, true_data): \n",
    "    fig = plt.figure(facecolor='white') \n",
    "    ax = fig.add_subplot(111) \n",
    "    ax.plot(true_data, label='True Data') \n",
    "    plt.plot(predicted_data, label='Prediction') \n",
    "    plt.legend() \n",
    "    plt.show() "
   ]
  },
  {
   "cell_type": "code",
   "execution_count": null,
   "metadata": {},
   "outputs": [],
   "source": [
    "X_test[0]"
   ]
  },
  {
   "cell_type": "code",
   "execution_count": null,
   "metadata": {},
   "outputs": [],
   "source": [
    "predictions = predict_sequence_full(lstm_model, X_test, 1)\n",
    "plot_results(predictions, y_test)"
   ]
  },
  {
   "cell_type": "code",
   "execution_count": null,
   "metadata": {
    "ExecuteTime": {
     "end_time": "2021-04-09T15:23:23.555319Z",
     "start_time": "2021-04-09T15:23:12.167Z"
    },
    "scrolled": true
   },
   "outputs": [],
   "source": [
    "y_pred = lstm_model.predict(X_test)\n",
    "X_test = X_test.reshape((X_test.shape[0], 1))\n",
    "\n",
    "print(X_test.shape)\n",
    "y_pred.shape"
   ]
  },
  {
   "cell_type": "code",
   "execution_count": null,
   "metadata": {
    "ExecuteTime": {
     "end_time": "2021-04-09T15:23:23.556298Z",
     "start_time": "2021-04-09T15:23:12.169Z"
    }
   },
   "outputs": [],
   "source": [
    "print (y_pred)\n",
    "# print(X_test.)"
   ]
  },
  {
   "cell_type": "code",
   "execution_count": null,
   "metadata": {
    "ExecuteTime": {
     "end_time": "2021-04-09T15:23:23.557079Z",
     "start_time": "2021-04-09T15:23:12.172Z"
    }
   },
   "outputs": [],
   "source": [
    "X_test_inversed = scaler.inverse_transform(X_test)"
   ]
  },
  {
   "cell_type": "code",
   "execution_count": null,
   "metadata": {
    "ExecuteTime": {
     "end_time": "2021-04-09T15:23:23.557993Z",
     "start_time": "2021-04-09T15:23:12.175Z"
    }
   },
   "outputs": [],
   "source": [
    "def plot_predictions(test,predicted):\n",
    "    plt.plot(test, color='red',label='Real Data')\n",
    "    plt.plot(predicted, color='blue',label='Predicted Data')\n",
    "    plt.title('Real vs Predicted Data')\n",
    "    plt.xlabel('Days')\n",
    "    plt.ylabel('People Vaccinated')\n",
    "    plt.legend()\n",
    "    plt.show()\n",
    "\n",
    "def return_rmse(test,predicted):\n",
    "    rmse = math.sqrt(mean_squared_error(test, predicted))\n",
    "    print(\"The root mean squared error is {}.\".format(rmse))"
   ]
  },
  {
   "cell_type": "code",
   "execution_count": null,
   "metadata": {
    "ExecuteTime": {
     "end_time": "2021-04-09T15:23:23.559315Z",
     "start_time": "2021-04-09T15:23:12.178Z"
    }
   },
   "outputs": [],
   "source": [
    "plot_predictions(X_test_inversed, y_pred)"
   ]
  },
  {
   "cell_type": "markdown",
   "metadata": {},
   "source": [
    "### Second start"
   ]
  },
  {
   "cell_type": "code",
   "execution_count": null,
   "metadata": {
    "ExecuteTime": {
     "end_time": "2021-04-09T15:23:23.561087Z",
     "start_time": "2021-04-09T15:23:12.202Z"
    }
   },
   "outputs": [],
   "source": [
    "lstm_predictions_scaled = list()\n",
    "\n",
    "\n",
    "batch = train_arr[-n_input:]\n",
    "current_batch = batch.reshape((1, n_input, n_features))\n",
    "\n",
    "for i in range(len(test)):\n",
    "    lstm_pred = lstm_model.predict(current_batch)[0]\n",
    "    lstm_predictions_scaled.append(lstm_pred)\n",
    "    current_batch = np.append(current_batch[:, 1:, :], [[lstm_pred]], axis= 1)"
   ]
  },
  {
   "cell_type": "code",
   "execution_count": null,
   "metadata": {
    "ExecuteTime": {
     "end_time": "2021-04-09T15:23:23.561933Z",
     "start_time": "2021-04-09T15:23:12.205Z"
    }
   },
   "outputs": [],
   "source": [
    "lstm_predictions_scaled = list()\n",
    "n_input = X_train.shape[0]\n",
    "n_features = 1\n",
    "\n",
    "batch = scaled_X[-n_input:]\n",
    "current_batch = batch.reshape((1, n_input, n_features))\n",
    "\n",
    "for i in range(len(y)):\n",
    "    lstm_pred = lstm_model.predict(current_batch)[0]\n",
    "    lstm_predictions_scaled.append(lstm_pred)\n",
    "    current_batch = np.append(current_batch[:, 1:, :], [[lstm_pred]], axis= 1)"
   ]
  },
  {
   "cell_type": "code",
   "execution_count": null,
   "metadata": {
    "ExecuteTime": {
     "end_time": "2021-04-09T15:23:23.562897Z",
     "start_time": "2021-04-09T15:23:12.209Z"
    }
   },
   "outputs": [],
   "source": [
    "lstm_predictions_scaled"
   ]
  },
  {
   "cell_type": "code",
   "execution_count": null,
   "metadata": {
    "ExecuteTime": {
     "end_time": "2021-04-09T15:23:23.564448Z",
     "start_time": "2021-04-09T15:23:12.212Z"
    }
   },
   "outputs": [],
   "source": [
    "lstm_predictions = scaler.inverse_transform(lstm_predictions_scaled)\n",
    "lstm_predictions"
   ]
  },
  {
   "cell_type": "code",
   "execution_count": null,
   "metadata": {
    "ExecuteTime": {
     "end_time": "2021-04-09T15:23:23.565736Z",
     "start_time": "2021-04-09T15:23:12.216Z"
    }
   },
   "outputs": [],
   "source": [
    "plt.plot(lstm_predictions)"
   ]
  },
  {
   "cell_type": "code",
   "execution_count": null,
   "metadata": {
    "ExecuteTime": {
     "end_time": "2021-04-09T15:23:23.566586Z",
     "start_time": "2021-04-09T15:23:12.220Z"
    }
   },
   "outputs": [],
   "source": [
    "#invert scaling for forecast\n",
    "inv_ypred = np.concatenate((y_pred, X_test), axis= 1)\n",
    "inv_ypred = scaler.inverse_transform(inv_ypred)\n",
    "inv_ypred = inv_ypred[:, 0]\n",
    "\n",
    "# invert scaling for actual data\n",
    "y_test = y_test.reshape((len(y_test), 1))\n",
    "inv_y = np.concatenate((y_test, X_test), axis= 1)\n",
    "inv_y = scaler.inverse_transform(inv_y)\n",
    "inv_y = inv_y[:, 0]\n",
    "\n",
    "# calculate RMSE\n",
    "lstm_rmse = mean_squared_error(inv_y, inv_ypred, squared= False)\n",
    "print('RMSE: {:,.2f}'.format(lstm_rmse))"
   ]
  },
  {
   "cell_type": "code",
   "execution_count": null,
   "metadata": {
    "ExecuteTime": {
     "end_time": "2021-04-09T15:23:23.567831Z",
     "start_time": "2021-04-09T15:23:12.223Z"
    },
    "scrolled": true
   },
   "outputs": [],
   "source": [
    "plt.plot(inv_y)"
   ]
  },
  {
   "cell_type": "code",
   "execution_count": null,
   "metadata": {
    "ExecuteTime": {
     "end_time": "2021-04-09T15:23:23.569005Z",
     "start_time": "2021-04-09T15:23:12.227Z"
    },
    "scrolled": true
   },
   "outputs": [],
   "source": [
    "inv_ypred"
   ]
  },
  {
   "cell_type": "code",
   "execution_count": null,
   "metadata": {
    "ExecuteTime": {
     "end_time": "2021-04-09T15:23:23.569889Z",
     "start_time": "2021-04-09T15:23:12.230Z"
    },
    "scrolled": true
   },
   "outputs": [],
   "source": [
    "plt.plot(y_pred)"
   ]
  },
  {
   "cell_type": "markdown",
   "metadata": {},
   "source": [
    "### 3rd start"
   ]
  },
  {
   "cell_type": "code",
   "execution_count": null,
   "metadata": {},
   "outputs": [],
   "source": [
    "training_set =  world_df"
   ]
  },
  {
   "cell_type": "code",
   "execution_count": 24,
   "metadata": {
    "ExecuteTime": {
     "end_time": "2021-04-09T19:02:19.138637Z",
     "start_time": "2021-04-09T19:02:19.128917Z"
    }
   },
   "outputs": [
    {
     "data": {
      "text/html": [
       "<div>\n",
       "<style scoped>\n",
       "    .dataframe tbody tr th:only-of-type {\n",
       "        vertical-align: middle;\n",
       "    }\n",
       "\n",
       "    .dataframe tbody tr th {\n",
       "        vertical-align: top;\n",
       "    }\n",
       "\n",
       "    .dataframe thead th {\n",
       "        text-align: right;\n",
       "    }\n",
       "</style>\n",
       "<table border=\"1\" class=\"dataframe\">\n",
       "  <thead>\n",
       "    <tr style=\"text-align: right;\">\n",
       "      <th></th>\n",
       "      <th>people_fully_vaccinated</th>\n",
       "    </tr>\n",
       "    <tr>\n",
       "      <th>Day</th>\n",
       "      <th></th>\n",
       "    </tr>\n",
       "  </thead>\n",
       "  <tbody>\n",
       "    <tr>\n",
       "      <th>2020-12-27</th>\n",
       "      <td>137.0</td>\n",
       "    </tr>\n",
       "    <tr>\n",
       "      <th>2020-12-28</th>\n",
       "      <td>137.0</td>\n",
       "    </tr>\n",
       "    <tr>\n",
       "      <th>2020-12-29</th>\n",
       "      <td>726.0</td>\n",
       "    </tr>\n",
       "    <tr>\n",
       "      <th>2020-12-30</th>\n",
       "      <td>730.0</td>\n",
       "    </tr>\n",
       "    <tr>\n",
       "      <th>2020-12-31</th>\n",
       "      <td>847.0</td>\n",
       "    </tr>\n",
       "    <tr>\n",
       "      <th>...</th>\n",
       "      <td>...</td>\n",
       "    </tr>\n",
       "    <tr>\n",
       "      <th>2021-04-04</th>\n",
       "      <td>145021166.0</td>\n",
       "    </tr>\n",
       "    <tr>\n",
       "      <th>2021-04-05</th>\n",
       "      <td>147595945.0</td>\n",
       "    </tr>\n",
       "    <tr>\n",
       "      <th>2021-04-06</th>\n",
       "      <td>150826834.0</td>\n",
       "    </tr>\n",
       "    <tr>\n",
       "      <th>2021-04-07</th>\n",
       "      <td>154926238.0</td>\n",
       "    </tr>\n",
       "    <tr>\n",
       "      <th>2021-04-08</th>\n",
       "      <td>158688128.0</td>\n",
       "    </tr>\n",
       "  </tbody>\n",
       "</table>\n",
       "<p>103 rows × 1 columns</p>\n",
       "</div>"
      ],
      "text/plain": [
       "            people_fully_vaccinated\n",
       "Day                                \n",
       "2020-12-27                    137.0\n",
       "2020-12-28                    137.0\n",
       "2020-12-29                    726.0\n",
       "2020-12-30                    730.0\n",
       "2020-12-31                    847.0\n",
       "...                             ...\n",
       "2021-04-04              145021166.0\n",
       "2021-04-05              147595945.0\n",
       "2021-04-06              150826834.0\n",
       "2021-04-07              154926238.0\n",
       "2021-04-08              158688128.0\n",
       "\n",
       "[103 rows x 1 columns]"
      ]
     },
     "execution_count": 24,
     "metadata": {},
     "output_type": "execute_result"
    }
   ],
   "source": [
    "world_df"
   ]
  },
  {
   "cell_type": "code",
   "execution_count": 26,
   "metadata": {
    "ExecuteTime": {
     "end_time": "2021-04-09T19:55:29.925029Z",
     "start_time": "2021-04-09T19:55:29.921456Z"
    }
   },
   "outputs": [],
   "source": [
    "training_set, testing_set = train_test_split(world_df, test_size= 0.1)"
   ]
  },
  {
   "cell_type": "code",
   "execution_count": 27,
   "metadata": {
    "ExecuteTime": {
     "end_time": "2021-04-09T19:55:50.027896Z",
     "start_time": "2021-04-09T19:55:49.778090Z"
    }
   },
   "outputs": [
    {
     "data": {
      "text/plain": [
       "[<matplotlib.lines.Line2D at 0x7f89c4d65550>]"
      ]
     },
     "execution_count": 27,
     "metadata": {},
     "output_type": "execute_result"
    },
    {
     "data": {
      "image/png": "[encoded data removed]",
      "text/plain": [
       "<Figure size 432x288 with 1 Axes>"
      ]
     },
     "metadata": {},
     "output_type": "display_data"
    }
   ],
   "source": [
    "plt.plot(training_set)\n",
    "plt.plot(testing_set)"
   ]
  },
  {
   "cell_type": "code",
   "execution_count": 28,
   "metadata": {
    "ExecuteTime": {
     "end_time": "2021-04-09T19:56:58.982874Z",
     "start_time": "2021-04-09T19:56:58.977389Z"
    }
   },
   "outputs": [],
   "source": [
    "mm_scaler = MinMaxScaler()\n",
    "train_set_scaled = mm_scaler.fit_transform(training_set)"
   ]
  },
  {
   "cell_type": "code",
   "execution_count": 29,
   "metadata": {
    "ExecuteTime": {
     "end_time": "2021-04-09T19:58:31.176873Z",
     "start_time": "2021-04-09T19:58:31.171375Z"
    },
    "scrolled": true
   },
   "outputs": [
    {
     "data": {
      "text/plain": [
       "array([[0.00000000e+00],\n",
       "       [0.00000000e+00],\n",
       "       [4.85121061e-06],\n",
       "       [4.88415601e-06],\n",
       "       [5.84780906e-06],\n",
       "       [5.84780906e-06],\n",
       "       [7.62686083e-06],\n",
       "       [1.88843051e-04],\n",
       "       [1.88859523e-04],\n",
       "       [1.89048960e-04],\n",
       "       [1.89057196e-04],\n",
       "       [2.07012441e-04],\n",
       "       [2.25000631e-04],\n",
       "       [2.40633224e-04],\n",
       "       [5.39159759e-03],\n",
       "       [5.72141402e-03],\n",
       "       [6.14893004e-03],\n",
       "       [6.79157955e-03],\n",
       "       [1.85362698e-02],\n",
       "       [2.11655354e-02],\n",
       "       [2.14302352e-02],\n",
       "       [2.23856684e-02],\n",
       "       [2.37754949e-02],\n",
       "       [2.90330706e-02],\n",
       "       [3.24417997e-02],\n",
       "       [3.70286482e-02],\n",
       "       [4.15064968e-02],\n",
       "       [4.51177742e-02],\n",
       "       [4.87614616e-02],\n",
       "       [5.29496542e-02],\n",
       "       [5.75468558e-02],\n",
       "       [6.31196202e-02],\n",
       "       [7.08550773e-02],\n",
       "       [7.82806746e-02],\n",
       "       [8.49416833e-02],\n",
       "       [9.12810707e-02],\n",
       "       [9.68781488e-02],\n",
       "       [1.01874163e-01],\n",
       "       [1.09854099e-01],\n",
       "       [1.19333052e-01],\n",
       "       [1.28075741e-01],\n",
       "       [1.37186825e-01],\n",
       "       [1.47612892e-01],\n",
       "       [1.54260055e-01],\n",
       "       [1.61511577e-01],\n",
       "       [1.85747410e-01],\n",
       "       [1.97634400e-01],\n",
       "       [2.12465234e-01],\n",
       "       [2.25014451e-01],\n",
       "       [2.38291745e-01],\n",
       "       [2.43921398e-01],\n",
       "       [2.57782065e-01],\n",
       "       [2.70544307e-01],\n",
       "       [2.85248894e-01],\n",
       "       [3.03345129e-01],\n",
       "       [3.16176046e-01],\n",
       "       [3.28861772e-01],\n",
       "       [3.38921560e-01],\n",
       "       [3.67969777e-01],\n",
       "       [3.81771043e-01],\n",
       "       [3.99404197e-01],\n",
       "       [4.18291830e-01],\n",
       "       [4.34302390e-01],\n",
       "       [4.46695824e-01],\n",
       "       [4.54138117e-01],\n",
       "       [4.66677788e-01],\n",
       "       [4.84548742e-01],\n",
       "       [5.04540062e-01],\n",
       "       [5.23361532e-01],\n",
       "       [5.40725061e-01],\n",
       "       [5.52046246e-01],\n",
       "       [5.67248836e-01],\n",
       "       [5.81964172e-01],\n",
       "       [6.02943303e-01],\n",
       "       [6.23544516e-01],\n",
       "       [6.49067370e-01],\n",
       "       [6.76813543e-01],\n",
       "       [6.85987496e-01],\n",
       "       [7.10107179e-01],\n",
       "       [7.31180781e-01],\n",
       "       [7.60285524e-01],\n",
       "       [7.83063523e-01],\n",
       "       [8.09447939e-01],\n",
       "       [8.28785944e-01],\n",
       "       [8.42843616e-01],\n",
       "       [8.64634924e-01],\n",
       "       [8.86020527e-01],\n",
       "       [9.09916742e-01],\n",
       "       [9.34150581e-01],\n",
       "       [9.61661747e-01],\n",
       "       [9.82221227e-01],\n",
       "       [1.00000000e+00]])"
      ]
     },
     "execution_count": 29,
     "metadata": {},
     "output_type": "execute_result"
    }
   ],
   "source": [
    "train_set_scaled"
   ]
  },
  {
   "cell_type": "code",
   "execution_count": 30,
   "metadata": {
    "ExecuteTime": {
     "end_time": "2021-04-09T20:10:12.401841Z",
     "start_time": "2021-04-09T20:10:12.398345Z"
    }
   },
   "outputs": [],
   "source": [
    "def create_train_dataset(dataset, window_size = 1):\n",
    "    data_X, data_Y = [], []\n",
    "    for i in range(len(dataset) - window_size - 1):\n",
    "        a = dataset[i:(i + window_size), 0]\n",
    "        data_X.append(a)\n",
    "        data_Y.append(dataset[i + window_size, 0])\n",
    "    return(np.array(data_X), np.array(data_Y))"
   ]
  },
  {
   "cell_type": "code",
   "execution_count": 32,
   "metadata": {
    "ExecuteTime": {
     "end_time": "2021-04-09T20:13:21.270828Z",
     "start_time": "2021-04-09T20:13:21.266511Z"
    }
   },
   "outputs": [
    {
     "name": "stdout",
     "output_type": "stream",
     "text": [
      "Original training data shape:\n",
      "(90, 1)\n",
      "New training data shape:\n",
      "(90, 1, 1)\n"
     ]
    }
   ],
   "source": [
    "window_size = 1\n",
    "train_X, train_y = create_dataset(train_set_scaled, window_size)\n",
    "# test_X, test_y = create_dataset(testing_set, window_size)\n",
    "print(\"Original training data shape:\")\n",
    "print(train_X.shape)\n",
    "\n",
    "# Reshape the input data into appropriate form for Keras.\n",
    "train_X = np.reshape(train_X, (train_X.shape[0], 1, train_X.shape[1]))\n",
    "# test_X = np.reshape(test_X, (test_X.shape[0], 1, test_X.shape[1]))\n",
    "print(\"New training data shape:\")\n",
    "print(train_X.shape)"
   ]
  },
  {
   "cell_type": "code",
   "execution_count": 34,
   "metadata": {
    "ExecuteTime": {
     "end_time": "2021-04-09T20:14:53.293701Z",
     "start_time": "2021-04-09T20:14:53.290478Z"
    }
   },
   "outputs": [
    {
     "data": {
      "text/plain": [
       "(90,)"
      ]
     },
     "execution_count": 34,
     "metadata": {},
     "output_type": "execute_result"
    }
   ],
   "source": [
    "train_y.shape"
   ]
  },
  {
   "cell_type": "code",
   "execution_count": 35,
   "metadata": {
    "ExecuteTime": {
     "end_time": "2021-04-09T20:15:28.014836Z",
     "start_time": "2021-04-09T20:15:27.976106Z"
    }
   },
   "outputs": [
    {
     "ename": "TypeError",
     "evalue": "'(slice(0, 1, None), 0)' is an invalid key",
     "output_type": "error",
     "traceback": [
      "\u001b[0;31m---------------------------------------------------------------------------\u001b[0m",
      "\u001b[0;31mTypeError\u001b[0m                                 Traceback (most recent call last)",
      "\u001b[0;32m<ipython-input-35-655d31ccf04d>\u001b[0m in \u001b[0;36m<module>\u001b[0;34m\u001b[0m\n\u001b[0;32m----> 1\u001b[0;31m \u001b[0mtest_X\u001b[0m\u001b[0;34m,\u001b[0m \u001b[0mtest_y\u001b[0m \u001b[0;34m=\u001b[0m \u001b[0mcreate_dataset\u001b[0m\u001b[0;34m(\u001b[0m\u001b[0mtesting_set\u001b[0m\u001b[0;34m,\u001b[0m \u001b[0mwindow_size\u001b[0m\u001b[0;34m)\u001b[0m\u001b[0;34m\u001b[0m\u001b[0;34m\u001b[0m\u001b[0m\n\u001b[0m\u001b[1;32m      2\u001b[0m \u001b[0mtest_X\u001b[0m \u001b[0;34m=\u001b[0m \u001b[0mnp\u001b[0m\u001b[0;34m.\u001b[0m\u001b[0mreshape\u001b[0m\u001b[0;34m(\u001b[0m\u001b[0mtest_X\u001b[0m\u001b[0;34m,\u001b[0m \u001b[0;34m(\u001b[0m\u001b[0mtest_X\u001b[0m\u001b[0;34m.\u001b[0m\u001b[0mshape\u001b[0m\u001b[0;34m[\u001b[0m\u001b[0;36m0\u001b[0m\u001b[0;34m]\u001b[0m\u001b[0;34m,\u001b[0m \u001b[0;36m1\u001b[0m\u001b[0;34m,\u001b[0m \u001b[0mtest_X\u001b[0m\u001b[0;34m.\u001b[0m\u001b[0mshape\u001b[0m\u001b[0;34m[\u001b[0m\u001b[0;36m1\u001b[0m\u001b[0;34m]\u001b[0m\u001b[0;34m)\u001b[0m\u001b[0;34m)\u001b[0m\u001b[0;34m\u001b[0m\u001b[0;34m\u001b[0m\u001b[0m\n",
      "\u001b[0;32m<ipython-input-30-fd1c648a3bb0>\u001b[0m in \u001b[0;36mcreate_dataset\u001b[0;34m(dataset, window_size)\u001b[0m\n\u001b[1;32m      2\u001b[0m     \u001b[0mdata_X\u001b[0m\u001b[0;34m,\u001b[0m \u001b[0mdata_Y\u001b[0m \u001b[0;34m=\u001b[0m \u001b[0;34m[\u001b[0m\u001b[0;34m]\u001b[0m\u001b[0;34m,\u001b[0m \u001b[0;34m[\u001b[0m\u001b[0;34m]\u001b[0m\u001b[0;34m\u001b[0m\u001b[0;34m\u001b[0m\u001b[0m\n\u001b[1;32m      3\u001b[0m     \u001b[0;32mfor\u001b[0m \u001b[0mi\u001b[0m \u001b[0;32min\u001b[0m \u001b[0mrange\u001b[0m\u001b[0;34m(\u001b[0m\u001b[0mlen\u001b[0m\u001b[0;34m(\u001b[0m\u001b[0mdataset\u001b[0m\u001b[0;34m)\u001b[0m \u001b[0;34m-\u001b[0m \u001b[0mwindow_size\u001b[0m \u001b[0;34m-\u001b[0m \u001b[0;36m1\u001b[0m\u001b[0;34m)\u001b[0m\u001b[0;34m:\u001b[0m\u001b[0;34m\u001b[0m\u001b[0;34m\u001b[0m\u001b[0m\n\u001b[0;32m----> 4\u001b[0;31m         \u001b[0ma\u001b[0m \u001b[0;34m=\u001b[0m \u001b[0mdataset\u001b[0m\u001b[0;34m[\u001b[0m\u001b[0mi\u001b[0m\u001b[0;34m:\u001b[0m\u001b[0;34m(\u001b[0m\u001b[0mi\u001b[0m \u001b[0;34m+\u001b[0m \u001b[0mwindow_size\u001b[0m\u001b[0;34m)\u001b[0m\u001b[0;34m,\u001b[0m \u001b[0;36m0\u001b[0m\u001b[0;34m]\u001b[0m\u001b[0;34m\u001b[0m\u001b[0;34m\u001b[0m\u001b[0m\n\u001b[0m\u001b[1;32m      5\u001b[0m         \u001b[0mdata_X\u001b[0m\u001b[0;34m.\u001b[0m\u001b[0mappend\u001b[0m\u001b[0;34m(\u001b[0m\u001b[0ma\u001b[0m\u001b[0;34m)\u001b[0m\u001b[0;34m\u001b[0m\u001b[0;34m\u001b[0m\u001b[0m\n\u001b[1;32m      6\u001b[0m         \u001b[0mdata_Y\u001b[0m\u001b[0;34m.\u001b[0m\u001b[0mappend\u001b[0m\u001b[0;34m(\u001b[0m\u001b[0mdataset\u001b[0m\u001b[0;34m[\u001b[0m\u001b[0mi\u001b[0m \u001b[0;34m+\u001b[0m \u001b[0mwindow_size\u001b[0m\u001b[0;34m,\u001b[0m \u001b[0;36m0\u001b[0m\u001b[0;34m]\u001b[0m\u001b[0;34m)\u001b[0m\u001b[0;34m\u001b[0m\u001b[0;34m\u001b[0m\u001b[0m\n",
      "\u001b[0;32m~/opt/anaconda3/envs/learn-env/lib/python3.8/site-packages/pandas/core/frame.py\u001b[0m in \u001b[0;36m__getitem__\u001b[0;34m(self, key)\u001b[0m\n\u001b[1;32m   3022\u001b[0m             \u001b[0;32mif\u001b[0m \u001b[0mself\u001b[0m\u001b[0;34m.\u001b[0m\u001b[0mcolumns\u001b[0m\u001b[0;34m.\u001b[0m\u001b[0mnlevels\u001b[0m \u001b[0;34m>\u001b[0m \u001b[0;36m1\u001b[0m\u001b[0;34m:\u001b[0m\u001b[0;34m\u001b[0m\u001b[0;34m\u001b[0m\u001b[0m\n\u001b[1;32m   3023\u001b[0m                 \u001b[0;32mreturn\u001b[0m \u001b[0mself\u001b[0m\u001b[0;34m.\u001b[0m\u001b[0m_getitem_multilevel\u001b[0m\u001b[0;34m(\u001b[0m\u001b[0mkey\u001b[0m\u001b[0;34m)\u001b[0m\u001b[0;34m\u001b[0m\u001b[0;34m\u001b[0m\u001b[0m\n\u001b[0;32m-> 3024\u001b[0;31m             \u001b[0mindexer\u001b[0m \u001b[0;34m=\u001b[0m \u001b[0mself\u001b[0m\u001b[0;34m.\u001b[0m\u001b[0mcolumns\u001b[0m\u001b[0;34m.\u001b[0m\u001b[0mget_loc\u001b[0m\u001b[0;34m(\u001b[0m\u001b[0mkey\u001b[0m\u001b[0;34m)\u001b[0m\u001b[0;34m\u001b[0m\u001b[0;34m\u001b[0m\u001b[0m\n\u001b[0m\u001b[1;32m   3025\u001b[0m             \u001b[0;32mif\u001b[0m \u001b[0mis_integer\u001b[0m\u001b[0;34m(\u001b[0m\u001b[0mindexer\u001b[0m\u001b[0;34m)\u001b[0m\u001b[0;34m:\u001b[0m\u001b[0;34m\u001b[0m\u001b[0;34m\u001b[0m\u001b[0m\n\u001b[1;32m   3026\u001b[0m                 \u001b[0mindexer\u001b[0m \u001b[0;34m=\u001b[0m \u001b[0;34m[\u001b[0m\u001b[0mindexer\u001b[0m\u001b[0;34m]\u001b[0m\u001b[0;34m\u001b[0m\u001b[0;34m\u001b[0m\u001b[0m\n",
      "\u001b[0;32m~/opt/anaconda3/envs/learn-env/lib/python3.8/site-packages/pandas/core/indexes/base.py\u001b[0m in \u001b[0;36mget_loc\u001b[0;34m(self, key, method, tolerance)\u001b[0m\n\u001b[1;32m   3078\u001b[0m             \u001b[0mcasted_key\u001b[0m \u001b[0;34m=\u001b[0m \u001b[0mself\u001b[0m\u001b[0;34m.\u001b[0m\u001b[0m_maybe_cast_indexer\u001b[0m\u001b[0;34m(\u001b[0m\u001b[0mkey\u001b[0m\u001b[0;34m)\u001b[0m\u001b[0;34m\u001b[0m\u001b[0;34m\u001b[0m\u001b[0m\n\u001b[1;32m   3079\u001b[0m             \u001b[0;32mtry\u001b[0m\u001b[0;34m:\u001b[0m\u001b[0;34m\u001b[0m\u001b[0;34m\u001b[0m\u001b[0m\n\u001b[0;32m-> 3080\u001b[0;31m                 \u001b[0;32mreturn\u001b[0m \u001b[0mself\u001b[0m\u001b[0;34m.\u001b[0m\u001b[0m_engine\u001b[0m\u001b[0;34m.\u001b[0m\u001b[0mget_loc\u001b[0m\u001b[0;34m(\u001b[0m\u001b[0mcasted_key\u001b[0m\u001b[0;34m)\u001b[0m\u001b[0;34m\u001b[0m\u001b[0;34m\u001b[0m\u001b[0m\n\u001b[0m\u001b[1;32m   3081\u001b[0m             \u001b[0;32mexcept\u001b[0m \u001b[0mKeyError\u001b[0m \u001b[0;32mas\u001b[0m \u001b[0merr\u001b[0m\u001b[0;34m:\u001b[0m\u001b[0;34m\u001b[0m\u001b[0;34m\u001b[0m\u001b[0m\n\u001b[1;32m   3082\u001b[0m                 \u001b[0;32mraise\u001b[0m \u001b[0mKeyError\u001b[0m\u001b[0;34m(\u001b[0m\u001b[0mkey\u001b[0m\u001b[0;34m)\u001b[0m \u001b[0;32mfrom\u001b[0m \u001b[0merr\u001b[0m\u001b[0;34m\u001b[0m\u001b[0;34m\u001b[0m\u001b[0m\n",
      "\u001b[0;32mpandas/_libs/index.pyx\u001b[0m in \u001b[0;36mpandas._libs.index.IndexEngine.get_loc\u001b[0;34m()\u001b[0m\n",
      "\u001b[0;32mpandas/_libs/index.pyx\u001b[0m in \u001b[0;36mpandas._libs.index.IndexEngine.get_loc\u001b[0;34m()\u001b[0m\n",
      "\u001b[0;31mTypeError\u001b[0m: '(slice(0, 1, None), 0)' is an invalid key"
     ]
    }
   ],
   "source": [
    "test_X, test_y = create_dataset(testing_set, window_size)\n",
    "test_X = np.reshape(test_X, (test_X.shape[0], 1, test_X.shape[1]))"
   ]
  },
  {
   "cell_type": "code",
   "execution_count": 36,
   "metadata": {
    "ExecuteTime": {
     "end_time": "2021-04-09T20:15:51.987720Z",
     "start_time": "2021-04-09T20:15:51.984046Z"
    }
   },
   "outputs": [
    {
     "data": {
      "text/plain": [
       "11"
      ]
     },
     "execution_count": 36,
     "metadata": {},
     "output_type": "execute_result"
    }
   ],
   "source": [
    "len(testing_set)"
   ]
  },
  {
   "cell_type": "code",
   "execution_count": 44,
   "metadata": {
    "ExecuteTime": {
     "end_time": "2021-04-09T20:24:44.650287Z",
     "start_time": "2021-04-09T20:24:44.637196Z"
    }
   },
   "outputs": [],
   "source": [
    "sc = MinMaxScaler(feature_range=(0,1))\n",
    "def load_data(datasetname, column, seq_len, normalise_window):\n",
    "    # A support function to help prepare datasets for an RNN/LSTM/GRU\n",
    "    data = datasetname.loc[:,column]\n",
    "\n",
    "    sequence_length = seq_len + 1\n",
    "    result = []\n",
    "    for index in range(len(data) - sequence_length):\n",
    "        result.append(data[index: index + sequence_length])\n",
    "    \n",
    "    if normalise_window:\n",
    "        #result = sc.fit_transform(result)\n",
    "        result = normalise_windows(result)\n",
    "\n",
    "    result = np.array(result)\n",
    "\n",
    "    #Last 10% is used for validation test, first 90% for training\n",
    "    row = round(0.9 * result.shape[0])\n",
    "    train = result[:int(row), :]\n",
    "    np.random.shuffle(train)\n",
    "    x_train = train[:, :-1]\n",
    "    y_train = train[:, -1]\n",
    "    x_test = result[int(row):, :-1]\n",
    "    y_test = result[int(row):, -1]\n",
    "\n",
    "    x_train = np.reshape(x_train, (x_train.shape[0], x_train.shape[1], 1))\n",
    "    x_test = np.reshape(x_test, (x_test.shape[0], x_test.shape[1], 1))  \n",
    "\n",
    "    return [x_train, y_train, x_test, y_test]\n",
    "\n",
    "def normalise_windows(window_data):\n",
    "    # A support function to normalize a dataset\n",
    "    normalised_data = []\n",
    "    for window in window_data:\n",
    "        normalised_window = [((float(p) / float(window[0])) - 1) for p in window]\n",
    "        normalised_data.append(normalised_window)\n",
    "    return normalised_data\n",
    "\n",
    "def predict_sequence_full(model, data, window_size):\n",
    "    #Shift the window by 1 new prediction each time, re-run predictions on new window\n",
    "    curr_frame = data[0]\n",
    "    predicted = []\n",
    "    for i in range(len(data)):\n",
    "        predicted.append(model.predict(curr_frame[np.newaxis,:,:])[0,0])\n",
    "        curr_frame = curr_frame[1:]\n",
    "        curr_frame = np.insert(curr_frame, [window_size-1], predicted[-1], axis=0)\n",
    "    return predicted\n",
    "\n",
    "def predict_sequences_multiple(model, data, window_size, prediction_len):\n",
    "    #Predict sequence of <prediction_len> steps before shifting prediction run forward by <prediction_len> steps\n",
    "    prediction_seqs = []\n",
    "    for i in range(int(len(data)/prediction_len)):\n",
    "        curr_frame = data[i*prediction_len]\n",
    "        predicted = []\n",
    "        for j in range(prediction_len):\n",
    "            predicted.append(model.predict(curr_frame[newaxis,:,:])[0,0])\n",
    "            curr_frame = curr_frame[1:]\n",
    "            curr_frame = np.insert(curr_frame, [window_size-1], predicted[-1], axis=0)\n",
    "        prediction_seqs.append(predicted)\n",
    "    return prediction_seqs\n",
    "\n",
    "def plot_results(predicted_data, true_data): \n",
    "    fig = plt.figure(facecolor='white') \n",
    "    ax = fig.add_subplot(111) \n",
    "    ax.plot(true_data, label='True Data') \n",
    "    plt.plot(predicted_data, label='Prediction') \n",
    "    plt.legend() \n",
    "    plt.show() \n",
    "    \n",
    "def plot_results_multiple(predicted_data, true_data, prediction_len):\n",
    "    fig = plt.figure(facecolor='white')\n",
    "    ax = fig.add_subplot(111)\n",
    "    ax.plot(true_data, label='True Data')\n",
    "    #Pad the list of predictions to shift it in the graph to it's correct start\n",
    "    for i, data in enumerate(predicted_data):\n",
    "        padding = [None for p in range(i * prediction_len)]\n",
    "        plt.plot(padding + data, label='Prediction')\n",
    "        plt.legend()\n",
    "    plt.show()\n"
   ]
  },
  {
   "cell_type": "code",
   "execution_count": 38,
   "metadata": {
    "ExecuteTime": {
     "end_time": "2021-04-09T20:19:43.033284Z",
     "start_time": "2021-04-09T20:19:43.017869Z"
    }
   },
   "outputs": [],
   "source": [
    "window = 1\n",
    "feature_train, label_train, feature_test, label_test = load_data(world_df, \n",
    "                                                                 'people_fully_vaccinated', \n",
    "                                                                 window, False)"
   ]
  },
  {
   "cell_type": "code",
   "execution_count": 48,
   "metadata": {
    "ExecuteTime": {
     "end_time": "2021-04-09T20:28:43.935912Z",
     "start_time": "2021-04-09T20:28:43.923637Z"
    }
   },
   "outputs": [
    {
     "ename": "NameError",
     "evalue": "name 'x_train' is not defined",
     "output_type": "error",
     "traceback": [
      "\u001b[0;31m---------------------------------------------------------------------------\u001b[0m",
      "\u001b[0;31mNameError\u001b[0m                                 Traceback (most recent call last)",
      "\u001b[0;32m<ipython-input-48-80784060c951>\u001b[0m in \u001b[0;36m<module>\u001b[0;34m\u001b[0m\n\u001b[0;32m----> 1\u001b[0;31m \u001b[0mx_train\u001b[0m\u001b[0;34m\u001b[0m\u001b[0;34m\u001b[0m\u001b[0m\n\u001b[0m",
      "\u001b[0;31mNameError\u001b[0m: name 'x_train' is not defined"
     ]
    }
   ],
   "source": [
    "x_train"
   ]
  },
  {
   "cell_type": "code",
   "execution_count": null,
   "metadata": {},
   "outputs": [],
   "source": []
  },
  {
   "cell_type": "code",
   "execution_count": null,
   "metadata": {},
   "outputs": [],
   "source": []
  },
  {
   "cell_type": "code",
   "execution_count": 39,
   "metadata": {
    "ExecuteTime": {
     "end_time": "2021-04-09T20:20:48.887818Z",
     "start_time": "2021-04-09T20:20:48.469905Z"
    }
   },
   "outputs": [
    {
     "name": "stdout",
     "output_type": "stream",
     "text": [
      "model compiled\n",
      "Model: \"sequential\"\n",
      "_________________________________________________________________\n",
      "Layer (type)                 Output Shape              Param #   \n",
      "=================================================================\n",
      "lstm (LSTM)                  (None, 1, 50)             10400     \n",
      "_________________________________________________________________\n",
      "dropout (Dropout)            (None, 1, 50)             0         \n",
      "_________________________________________________________________\n",
      "lstm_1 (LSTM)                (None, 100)               60400     \n",
      "_________________________________________________________________\n",
      "dropout_1 (Dropout)          (None, 100)               0         \n",
      "_________________________________________________________________\n",
      "dense (Dense)                (None, 1)                 101       \n",
      "=================================================================\n",
      "Total params: 70,901\n",
      "Trainable params: 70,901\n",
      "Non-trainable params: 0\n",
      "_________________________________________________________________\n",
      "None\n"
     ]
    }
   ],
   "source": [
    "model = Sequential()\n",
    "model.add(LSTM(50, return_sequences=True, input_shape=(feature_train.shape[1],1)))\n",
    "model.add(Dropout(0.2))\n",
    "model.add(LSTM(100, return_sequences=False))\n",
    "model.add(Dropout(0.2))\n",
    "model.add(Dense(1, activation = \"linear\"))\n",
    "\n",
    "model.compile(loss='mse', optimizer='adam')\n",
    "\n",
    "print ('model compiled')\n",
    "\n",
    "print (model.summary())"
   ]
  },
  {
   "cell_type": "code",
   "execution_count": 41,
   "metadata": {
    "ExecuteTime": {
     "end_time": "2021-04-09T20:21:35.741167Z",
     "start_time": "2021-04-09T20:21:30.356041Z"
    },
    "scrolled": true
   },
   "outputs": [
    {
     "name": "stdout",
     "output_type": "stream",
     "text": [
      "Epoch 1/20\n",
      "91/91 [==============================] - 1s 7ms/step - loss: 2766733643350016.0000 - val_loss: 19724390346260480.0000\n",
      "Epoch 2/20\n",
      "91/91 [==============================] - 0s 2ms/step - loss: 2766732838043648.0000 - val_loss: 19724388198776832.0000\n",
      "Epoch 3/20\n",
      "91/91 [==============================] - 0s 2ms/step - loss: 2766732838043648.0000 - val_loss: 19724383903809536.0000\n",
      "Epoch 4/20\n",
      "91/91 [==============================] - 0s 2ms/step - loss: 2766731227430912.0000 - val_loss: 19724383903809536.0000\n",
      "Epoch 5/20\n",
      "91/91 [==============================] - 0s 2ms/step - loss: 2766730958995456.0000 - val_loss: 19724383903809536.0000\n",
      "Epoch 6/20\n",
      "91/91 [==============================] - 0s 2ms/step - loss: 2766730958995456.0000 - val_loss: 19724379608842240.0000\n",
      "Epoch 7/20\n",
      "91/91 [==============================] - 0s 2ms/step - loss: 2766730422124544.0000 - val_loss: 19724379608842240.0000\n",
      "Epoch 8/20\n",
      "91/91 [==============================] - 0s 2ms/step - loss: 2766730690560000.0000 - val_loss: 19724379608842240.0000\n",
      "Epoch 9/20\n",
      "91/91 [==============================] - 0s 2ms/step - loss: 2766730153689088.0000 - val_loss: 19724375313874944.0000\n",
      "Epoch 10/20\n",
      "91/91 [==============================] - 0s 2ms/step - loss: 2766729885253632.0000 - val_loss: 19724375313874944.0000\n",
      "Epoch 11/20\n",
      "91/91 [==============================] - 0s 2ms/step - loss: 2766729079947264.0000 - val_loss: 19724375313874944.0000\n",
      "Epoch 12/20\n",
      "91/91 [==============================] - 0s 2ms/step - loss: 2766728811511808.0000 - val_loss: 19724371018907648.0000\n",
      "Epoch 13/20\n",
      "91/91 [==============================] - 0s 2ms/step - loss: 2766728543076352.0000 - val_loss: 19724371018907648.0000\n",
      "Epoch 14/20\n",
      "91/91 [==============================] - 0s 2ms/step - loss: 2766728543076352.0000 - val_loss: 19724371018907648.0000\n",
      "Epoch 15/20\n",
      "91/91 [==============================] - 0s 2ms/step - loss: 2766728274640896.0000 - val_loss: 19724368871424000.0000\n",
      "Epoch 16/20\n",
      "91/91 [==============================] - 0s 2ms/step - loss: 2766727737769984.0000 - val_loss: 19724366723940352.0000\n",
      "Epoch 17/20\n",
      "91/91 [==============================] - 0s 2ms/step - loss: 2766727200899072.0000 - val_loss: 19724366723940352.0000\n",
      "Epoch 18/20\n",
      "91/91 [==============================] - 0s 2ms/step - loss: 2766726395592704.0000 - val_loss: 19724366723940352.0000\n",
      "Epoch 19/20\n",
      "91/91 [==============================] - 0s 2ms/step - loss: 2766726127157248.0000 - val_loss: 19724362428973056.0000\n",
      "Epoch 20/20\n",
      "91/91 [==============================] - 0s 2ms/step - loss: 2766726664028160.0000 - val_loss: 19724362428973056.0000\n"
     ]
    },
    {
     "data": {
      "text/plain": [
       "<tensorflow.python.keras.callbacks.History at 0x7f89c27ac4c0>"
      ]
     },
     "execution_count": 41,
     "metadata": {},
     "output_type": "execute_result"
    }
   ],
   "source": [
    "model.fit(feature_train, label_train, batch_size=1, epochs=20, \n",
    "          validation_data = (feature_test, label_test))"
   ]
  },
  {
   "cell_type": "code",
   "execution_count": 45,
   "metadata": {
    "ExecuteTime": {
     "end_time": "2021-04-09T20:24:49.471643Z",
     "start_time": "2021-04-09T20:24:48.670381Z"
    }
   },
   "outputs": [
    {
     "data": {
      "image/png": "[encoded data removed]",
      "text/plain": [
       "<Figure size 432x288 with 1 Axes>"
      ]
     },
     "metadata": {},
     "output_type": "display_data"
    }
   ],
   "source": [
    "predictions= predict_sequence_full(model, feature_test, window)\n",
    "plot_results(predictions,label_test)"
   ]
  },
  {
   "cell_type": "markdown",
   "metadata": {},
   "source": [
    "# Excess / Notes:"
   ]
  },
  {
   "cell_type": "code",
   "execution_count": null,
   "metadata": {
    "ExecuteTime": {
     "end_time": "2021-03-24T17:50:10.935017Z",
     "start_time": "2021-03-24T17:50:10.692363Z"
    }
   },
   "outputs": [],
   "source": [
    "attempt = attempt[attempt.Entity != ['North America', 'Europe', 'Asia','European Union', 'Africa']]\n",
    "attempt = attempt[attempt.Entity != 'World']"
   ]
  },
  {
   "cell_type": "code",
   "execution_count": null,
   "metadata": {
    "ExecuteTime": {
     "end_time": "2021-03-24T17:50:10.955363Z",
     "start_time": "2021-03-24T17:50:06.270Z"
    }
   },
   "outputs": [],
   "source": [
    "attempt = attempt.query('Entity' != ['North America', 'South America', 'Europe', 'Asia','European Union', 'Africa'])"
   ]
  },
  {
   "cell_type": "code",
   "execution_count": null,
   "metadata": {
    "ExecuteTime": {
     "end_time": "2021-03-24T17:50:10.956859Z",
     "start_time": "2021-03-24T17:50:06.271Z"
    }
   },
   "outputs": [],
   "source": [
    "desired = [i for i in attempt.Entity if i not in continents]"
   ]
  },
  {
   "cell_type": "code",
   "execution_count": null,
   "metadata": {
    "ExecuteTime": {
     "end_time": "2021-03-24T17:50:10.958437Z",
     "start_time": "2021-03-24T17:50:06.273Z"
    }
   },
   "outputs": [],
   "source": [
    "desired"
   ]
  },
  {
   "cell_type": "code",
   "execution_count": null,
   "metadata": {
    "ExecuteTime": {
     "end_time": "2021-03-24T17:50:10.585572Z",
     "start_time": "2021-03-24T17:50:10.579344Z"
    }
   },
   "outputs": [],
   "source": [
    "test_all = pd.merge(attempt, ci2, left_on = 'Entity', right_on= 'Economy', copy= True)"
   ]
  },
  {
   "cell_type": "code",
   "execution_count": null,
   "metadata": {
    "ExecuteTime": {
     "end_time": "2021-03-24T17:50:10.593988Z",
     "start_time": "2021-03-24T17:50:10.587256Z"
    }
   },
   "outputs": [],
   "source": [
    "testing_all = pd.merge(attempt, ci2, how= 'left', left_on = 'Entity', right_on= 'Economy')"
   ]
  },
  {
   "cell_type": "code",
   "execution_count": null,
   "metadata": {
    "ExecuteTime": {
     "end_time": "2021-03-24T17:50:10.607073Z",
     "start_time": "2021-03-24T17:50:10.596241Z"
    }
   },
   "outputs": [],
   "source": [
    "testing_all.info()"
   ]
  },
  {
   "cell_type": "code",
   "execution_count": null,
   "metadata": {
    "ExecuteTime": {
     "end_time": "2021-03-24T17:50:10.628356Z",
     "start_time": "2021-03-24T17:50:10.608897Z"
    }
   },
   "outputs": [],
   "source": [
    "testing_all[testing_all.isnull().any(axis=1)]"
   ]
  }
 ],
 "metadata": {
  "kernelspec": {
   "display_name": "Python 3",
   "language": "python",
   "name": "python3"
  },
  "language_info": {
   "codemirror_mode": {
    "name": "ipython",
    "version": 3
   },
   "file_extension": ".py",
   "mimetype": "text/x-python",
   "name": "python",
   "nbconvert_exporter": "python",
   "pygments_lexer": "ipython3",
   "version": "3.8.5"
  },
  "toc": {
   "base_numbering": 1,
   "nav_menu": {},
   "number_sections": true,
   "sideBar": true,
   "skip_h1_title": true,
   "title_cell": "Table of Contents",
   "title_sidebar": "Contents",
   "toc_cell": false,
   "toc_position": {
    "height": "calc(100% - 180px)",
    "left": "10px",
    "top": "150px",
    "width": "281.797px"
   },
   "toc_section_display": true,
   "toc_window_display": true
  },
  "varInspector": {
   "cols": {
    "lenName": 16,
    "lenType": 16,
    "lenVar": 40
   },
   "kernels_config": {
    "python": {
     "delete_cmd_postfix": "",
     "delete_cmd_prefix": "del ",
     "library": "var_list.py",
     "varRefreshCmd": "print(var_dic_list())"
    },
    "r": {
     "delete_cmd_postfix": ") ",
     "delete_cmd_prefix": "rm(",
     "library": "var_list.r",
     "varRefreshCmd": "cat(var_dic_list()) "
    }
   },
   "types_to_exclude": [
    "module",
    "function",
    "builtin_function_or_method",
    "instance",
    "_Feature"
   ],
   "window_display": false
  }
 },
 "nbformat": 4,
 "nbformat_minor": 4
}
