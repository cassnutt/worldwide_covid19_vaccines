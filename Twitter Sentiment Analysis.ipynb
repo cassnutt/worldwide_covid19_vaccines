{
 "cells": [
  {
   "cell_type": "markdown",
   "metadata": {},
   "source": [
    "# Twitter Sentiment Analysis\n",
    "\n",
    "This notebook aims to analyze Tweets made about the COVID-19 vaccine and determine whether the sentiment of the Tweets is negative, positive, or neutral."
   ]
  },
  {
   "cell_type": "markdown",
   "metadata": {},
   "source": [
    "## Libraries"
   ]
  },
  {
   "cell_type": "code",
   "execution_count": 66,
   "metadata": {
    "ExecuteTime": {
     "end_time": "2021-04-04T21:46:19.075112Z",
     "start_time": "2021-04-04T21:46:18.653774Z"
    }
   },
   "outputs": [],
   "source": [
    "import tweepy\n",
    "import webbrowser\n",
    "import pandas as pd\n",
    "import matplotlib.pyplot as plt\n",
    "%matplotlib inline\n",
    "import seaborn as sns\n",
    "sns.set_style('whitegrid')\n",
    "\n",
    "import config\n",
    "pd.set_option('display.max_colwidth', None)\n",
    "\n",
    "from tweepy import OAuthHandler\n",
    "from tweepy import API\n",
    "\n",
    "import os\n",
    "from google.oauth2 import service_account\n",
    "from google.cloud import translate_v2 as translate\n",
    "\n",
    "import nltk\n",
    "from nltk.corpus import gutenberg, stopwords\n",
    "from nltk import FreqDist\n",
    "from nltk.tokenize import TweetTokenizer, word_tokenize\n",
    "import string\n",
    "\n",
    "import re\n",
    "from textblob import TextBlob\n",
    "from wordcloud import WordCloud"
   ]
  },
  {
   "cell_type": "markdown",
   "metadata": {},
   "source": [
    "## Gather data from Twitter API"
   ]
  },
  {
   "cell_type": "code",
   "execution_count": 2,
   "metadata": {
    "ExecuteTime": {
     "end_time": "2021-04-04T18:02:33.956563Z",
     "start_time": "2021-04-04T18:02:33.954731Z"
    }
   },
   "outputs": [],
   "source": [
    "# Developer API keys\n",
    "# API keys in config.py in .gitignore\n",
    "callback_uri = 'oob'"
   ]
  },
  {
   "cell_type": "code",
   "execution_count": 3,
   "metadata": {
    "ExecuteTime": {
     "end_time": "2021-04-04T18:02:33.961250Z",
     "start_time": "2021-04-04T18:02:33.958292Z"
    }
   },
   "outputs": [],
   "source": [
    "auth = OAuthHandler(config.consumer_key, config.consumer_secret, callback_uri)\n",
    "auth.set_access_token(config.access_token, config.access_token_secret)"
   ]
  },
  {
   "cell_type": "code",
   "execution_count": 4,
   "metadata": {
    "ExecuteTime": {
     "end_time": "2021-04-04T18:02:33.965208Z",
     "start_time": "2021-04-04T18:02:33.963048Z"
    }
   },
   "outputs": [],
   "source": [
    "api = API(auth, wait_on_rate_limit= True, wait_on_rate_limit_notify= True)"
   ]
  },
  {
   "cell_type": "code",
   "execution_count": 5,
   "metadata": {
    "ExecuteTime": {
     "end_time": "2021-04-04T18:02:34.373210Z",
     "start_time": "2021-04-04T18:02:33.966512Z"
    }
   },
   "outputs": [
    {
     "name": "stdout",
     "output_type": "stream",
     "text": [
      "cassienutter1\n"
     ]
    }
   ],
   "source": [
    "# show my Twitter handle\n",
    "me = api.me()\n",
    "print(me.screen_name)"
   ]
  },
  {
   "cell_type": "code",
   "execution_count": 45,
   "metadata": {
    "ExecuteTime": {
     "end_time": "2021-04-04T19:22:06.567300Z",
     "start_time": "2021-04-04T19:22:06.188790Z"
    }
   },
   "outputs": [
    {
     "name": "stdout",
     "output_type": "stream",
     "text": [
      "0 Just saw fully vaccinated in a Tinder bio. What a time to be alive. #covid #vaccine #tinder\n",
      "1 This. Ugh. #covid #vaccine  https://t.co/A3F1SkppjW\n",
      "2 #DearMother #AlternativeMetal #Metal #Album #Covid_19 #coronavirus #Pandemia #pandemic #vaccine https://t.co/szuSduwRTN\n",
      "3 THREAD #NYC #covid #vaccine https://t.co/cnorAyR6zk\n",
      "4 Until y’all understand that vaccination passports are only ok if the vaccine is equitably available, maybe shut the… https://t.co/4vqdzl7B0a\n",
      "5 Plan and prepare for your COVID-19 vaccination. #vaccine \n",
      "https://t.co/GVO3F2Bgfh https://t.co/EOj9374TEB\n",
      "6 DEAR MOTHER: Álbum De Estreia Da Banda Tem Lançamento Adiado\n",
      "\n",
      "Inscreva-se No #Blog, Compartilhe. Apoie o… https://t.co/rfiMz6U2Xf\n",
      "7 You must have ID to get a COVID vaccine.... just saying. \n",
      "\n",
      "#vaccine #VoterID #VoterIntegrity\n",
      "8 @sbattrawden Got shot #1 of Pfizer yesterday here in NYC @sbattrawden — it was at the big Javitts Center and was so… https://t.co/q81I3s5UFe\n",
      "9 @CA_OSG @ListosCA 💯 agree! I provide vaccinations in a healthcare clinic &amp; I am amazed about the stories of misinfo… https://t.co/slpn7A9rSR\n",
      "10 Current global #SARS_CoV_2\n",
      "#Vaccine #data https://t.co/pGzbrLvmO8\n",
      "11 120 people test positive after their vaccines #covid #vaccine https://t.co/p4Xh0C0hnY\n",
      "12 COMPARING THE VACCINES. #vaccine #covid_19 #covidvacccine #covid19 #coronaviruspandemic #coronavirus #pfizer… https://t.co/Us5AXR53N7\n",
      "13 COMPARING THE VACCINES. #vaccine #covid_19 #covidvacccine #covid19 #coronaviruspandemic #coronavirus #pfizer… https://t.co/pYKBf0FblD\n",
      "14 «Belgrado invita gli stranieri e si può anche scegliere il vaccino»-Corriere.it\n",
      "Il conte Simone Avogadro di Viglian… https://t.co/JiJmnMEZEO\n"
     ]
    }
   ],
   "source": [
    "# simple query to get the hang of it\n",
    "query = '#vaccine covid -RT -@ -http'\n",
    "for i, status in enumerate(tweepy.Cursor(api.search, q= query).items(15)):\n",
    "    print (i, status.text)\n",
    "\n",
    "# filter only English tweets    \n",
    "# query = '#vaccine covid'\n",
    "# for i, status in enumerate(tweepy.Cursor(api.search, q= query, lang= 'en').items(50)):\n",
    "#     print (i, status.text)"
   ]
  },
  {
   "cell_type": "code",
   "execution_count": 7,
   "metadata": {
    "ExecuteTime": {
     "end_time": "2021-04-04T18:02:36.039283Z",
     "start_time": "2021-04-04T18:02:36.034688Z"
    }
   },
   "outputs": [
    {
     "data": {
      "text/plain": [
       "\" This cell was run to collect the initial 5000 tweets and save them to a csv file\\nis commented out to prevent it from being run again\\n\\n\\n# collect 5000 tweets \\nnumber_of_tweets = 5000\\ntweets = []\\nlanguage = []\\ntime = []\\n\\n# only collect full text, language, and time it was posted\\n# remove any retweets '-RT'\\nfor i in tweepy.Cursor(api.search, q= 'vaccine covid -RT',  \\n                       tweet_mode = 'extended').items(number_of_tweets):\\n    tweets.append(i.full_text)\\n    language.append(i.lang)\\n    time.append(i.created_at)\\n\\n# turn tweets / lists into dataframe\\ndf = pd.DataFrame({'time': time, 'language': language, 'tweets': tweets})\\n\\n# save df to csv\\ndf.to_csv('data/tweets.csv', index= False)\\n\""
      ]
     },
     "execution_count": 7,
     "metadata": {},
     "output_type": "execute_result"
    }
   ],
   "source": [
    "''' This cell was run to collect the initial 5000 tweets and save them to a csv file\n",
    "is commented out to prevent it from being run again\n",
    "\n",
    "\n",
    "# collect 5000 tweets \n",
    "number_of_tweets = 5000\n",
    "tweets = []\n",
    "language = []\n",
    "time = []\n",
    "\n",
    "# only collect full text, language, and time it was posted\n",
    "# remove any retweets '-RT'\n",
    "for i in tweepy.Cursor(api.search, q= 'vaccine covid -RT',  \n",
    "                       tweet_mode = 'extended').items(number_of_tweets):\n",
    "    tweets.append(i.full_text)\n",
    "    language.append(i.lang)\n",
    "    time.append(i.created_at)\n",
    "\n",
    "# turn tweets / lists into dataframe\n",
    "df = pd.DataFrame({'time': time, 'language': language, 'tweets': tweets})\n",
    "\n",
    "# save df to csv\n",
    "df.to_csv('data/tweets.csv', index= False)\n",
    "'''"
   ]
  },
  {
   "cell_type": "markdown",
   "metadata": {},
   "source": [
    "Collect more tweets after waiting to avoid collecting the same tweets."
   ]
  },
  {
   "cell_type": "code",
   "execution_count": 8,
   "metadata": {
    "ExecuteTime": {
     "end_time": "2021-04-04T18:02:36.044776Z",
     "start_time": "2021-04-04T18:02:36.041261Z"
    }
   },
   "outputs": [],
   "source": [
    "# create function to get more tweets and add to existing csv\n",
    "def get_more_tweets(num_tweets):\n",
    "    number_of_tweets = num_tweets\n",
    "    tweets = []\n",
    "    language = []\n",
    "    time = []\n",
    "\n",
    "    # only collect full text, language, and time it was posted\n",
    "    # remove any retweets '-RT'\n",
    "    for i in tweepy.Cursor(api.search, q= 'vaccine covid -RT',  \n",
    "                           tweet_mode = 'extended').items(number_of_tweets):\n",
    "        tweets.append(i.full_text)\n",
    "        language.append(i.lang)\n",
    "        time.append(i.created_at)\n",
    "        \n",
    "    # turn tweets / lists into dataframe\n",
    "    df = pd.DataFrame({'time': time, 'language': language, 'tweets': tweets})\n",
    "    \n",
    "    # add to existing csv file\n",
    "    df.to_csv('data/tweets.csv', mode= 'a', index= False, header= False)"
   ]
  },
  {
   "cell_type": "code",
   "execution_count": 9,
   "metadata": {
    "ExecuteTime": {
     "end_time": "2021-04-04T18:02:36.047995Z",
     "start_time": "2021-04-04T18:02:36.046421Z"
    }
   },
   "outputs": [],
   "source": [
    "# get tweets and save to csv through function\n",
    "\n",
    "# n_tweets = 20\n",
    "# get_more_tweets(n_tweets)"
   ]
  },
  {
   "cell_type": "markdown",
   "metadata": {
    "ExecuteTime": {
     "end_time": "2021-04-01T14:14:15.835034Z",
     "start_time": "2021-04-01T14:14:15.833105Z"
    }
   },
   "source": [
    "### Search for Tweets from 30 Days Ago"
   ]
  },
  {
   "cell_type": "code",
   "execution_count": 10,
   "metadata": {
    "ExecuteTime": {
     "end_time": "2021-04-04T18:02:36.053794Z",
     "start_time": "2021-04-04T18:02:36.049633Z"
    }
   },
   "outputs": [],
   "source": [
    "# function to turn results into DataFrame\n",
    "def extract_text_as_df(text_list):\n",
    "    columns = set()\n",
    "    allowed_types = [str, int]\n",
    "    tweets_data = []\n",
    "    for status in text_list:\n",
    "        status_dict = dict(vars(status))\n",
    "        keys = status_dict.keys()\n",
    "        single_tweet_data = {\"author\": status.author.screen_name}\n",
    "        for k in keys:\n",
    "            try:\n",
    "                v_type = type(status_dict[k])\n",
    "            except:\n",
    "                v_type = None\n",
    "            if v_type != None:\n",
    "                if v_type in allowed_types:\n",
    "                    single_tweet_data[k] = status_dict[k]\n",
    "                    columns.add(k)\n",
    "        tweets_data.append(single_tweet_data)\n",
    "\n",
    "\n",
    "    header_cols = list(columns)\n",
    "    header_cols.append('author')\n",
    "    df = pd.DataFrame(tweets_data, columns=header_cols)\n",
    "    return df"
   ]
  },
  {
   "cell_type": "code",
   "execution_count": 11,
   "metadata": {
    "ExecuteTime": {
     "end_time": "2021-04-04T18:02:36.650544Z",
     "start_time": "2021-04-04T18:02:36.055735Z"
    }
   },
   "outputs": [],
   "source": [
    "query = 'vaccine covid -RT'\n",
    "results_30 = api.search_30_day('datacollection', query, maxResults= 100)"
   ]
  },
  {
   "cell_type": "code",
   "execution_count": 12,
   "metadata": {
    "ExecuteTime": {
     "end_time": "2021-04-04T18:02:36.658065Z",
     "start_time": "2021-04-04T18:02:36.652402Z"
    },
    "scrolled": true
   },
   "outputs": [],
   "source": [
    "old_results_df = extract_text_as_df(results_30)"
   ]
  },
  {
   "cell_type": "code",
   "execution_count": 13,
   "metadata": {
    "ExecuteTime": {
     "end_time": "2021-04-04T18:02:36.686439Z",
     "start_time": "2021-04-04T18:02:36.660062Z"
    },
    "scrolled": true
   },
   "outputs": [
    {
     "data": {
      "text/html": [
       "<div>\n",
       "<style scoped>\n",
       "    .dataframe tbody tr th:only-of-type {\n",
       "        vertical-align: middle;\n",
       "    }\n",
       "\n",
       "    .dataframe tbody tr th {\n",
       "        vertical-align: top;\n",
       "    }\n",
       "\n",
       "    .dataframe thead th {\n",
       "        text-align: right;\n",
       "    }\n",
       "</style>\n",
       "<table border=\"1\" class=\"dataframe\">\n",
       "  <thead>\n",
       "    <tr style=\"text-align: right;\">\n",
       "      <th></th>\n",
       "      <th>lang</th>\n",
       "      <th>source_url</th>\n",
       "      <th>id</th>\n",
       "      <th>quote_count</th>\n",
       "      <th>favorite_count</th>\n",
       "      <th>in_reply_to_screen_name</th>\n",
       "      <th>in_reply_to_user_id</th>\n",
       "      <th>in_reply_to_user_id_str</th>\n",
       "      <th>retweet_count</th>\n",
       "      <th>quoted_status_id</th>\n",
       "      <th>in_reply_to_status_id</th>\n",
       "      <th>filter_level</th>\n",
       "      <th>quoted_status_id_str</th>\n",
       "      <th>in_reply_to_status_id_str</th>\n",
       "      <th>source</th>\n",
       "      <th>reply_count</th>\n",
       "      <th>id_str</th>\n",
       "      <th>text</th>\n",
       "      <th>author</th>\n",
       "    </tr>\n",
       "  </thead>\n",
       "  <tbody>\n",
       "    <tr>\n",
       "      <th>0</th>\n",
       "      <td>hi</td>\n",
       "      <td>https://mobile.twitter.com</td>\n",
       "      <td>1378769944070868992</td>\n",
       "      <td>0</td>\n",
       "      <td>0</td>\n",
       "      <td>drdwivedisatish</td>\n",
       "      <td>1.680194e+09</td>\n",
       "      <td>1680193604</td>\n",
       "      <td>0</td>\n",
       "      <td>NaN</td>\n",
       "      <td>1.378671e+18</td>\n",
       "      <td>low</td>\n",
       "      <td>NaN</td>\n",
       "      <td>1378671071239401472</td>\n",
       "      <td>Twitter Web App</td>\n",
       "      <td>0</td>\n",
       "      <td>1378769944070868992</td>\n",
       "      <td>@drdwivedisatish @BJP4UP सर जिन विद्यालयों में कोई प्रशाशनिक कार्य लंबित नही है वहाँ भी शिक्षक को प्रतिदिन जाना है?… https://t.co/rPiDBfj0Ix</td>\n",
       "      <td>kamalna26924906</td>\n",
       "    </tr>\n",
       "    <tr>\n",
       "      <th>1</th>\n",
       "      <td>en</td>\n",
       "      <td>https://mobile.twitter.com</td>\n",
       "      <td>1378769938555539456</td>\n",
       "      <td>0</td>\n",
       "      <td>0</td>\n",
       "      <td>Logjeet</td>\n",
       "      <td>7.413575e+17</td>\n",
       "      <td>741357450817736704</td>\n",
       "      <td>0</td>\n",
       "      <td>NaN</td>\n",
       "      <td>1.378617e+18</td>\n",
       "      <td>low</td>\n",
       "      <td>NaN</td>\n",
       "      <td>1378617383242268675</td>\n",
       "      <td>Twitter Web App</td>\n",
       "      <td>0</td>\n",
       "      <td>1378769938555539456</td>\n",
       "      <td>@Logjeet @KEEMSTAR Yall acting like covid is The black plague. If it was more deadly people would want the vaccine… https://t.co/lBxaySBTy7</td>\n",
       "      <td>dudeman89179543</td>\n",
       "    </tr>\n",
       "    <tr>\n",
       "      <th>2</th>\n",
       "      <td>en</td>\n",
       "      <td>http://twitter.com/download/iphone</td>\n",
       "      <td>1378769891138867201</td>\n",
       "      <td>0</td>\n",
       "      <td>0</td>\n",
       "      <td>NaN</td>\n",
       "      <td>NaN</td>\n",
       "      <td>NaN</td>\n",
       "      <td>0</td>\n",
       "      <td>NaN</td>\n",
       "      <td>NaN</td>\n",
       "      <td>low</td>\n",
       "      <td>NaN</td>\n",
       "      <td>NaN</td>\n",
       "      <td>Twitter for iPhone</td>\n",
       "      <td>0</td>\n",
       "      <td>1378769891138867201</td>\n",
       "      <td>J&amp;amp;J’s COVID-19 vaccine emerges as preferred shot for homeless - The Wall Street Journal https://t.co/Q2EGVgV7V8</td>\n",
       "      <td>DimitriLyon</td>\n",
       "    </tr>\n",
       "    <tr>\n",
       "      <th>3</th>\n",
       "      <td>en</td>\n",
       "      <td>https://mobile.twitter.com</td>\n",
       "      <td>1378769877176086530</td>\n",
       "      <td>0</td>\n",
       "      <td>0</td>\n",
       "      <td>suepeac</td>\n",
       "      <td>1.836074e+07</td>\n",
       "      <td>18360735</td>\n",
       "      <td>0</td>\n",
       "      <td>NaN</td>\n",
       "      <td>1.378768e+18</td>\n",
       "      <td>low</td>\n",
       "      <td>NaN</td>\n",
       "      <td>1378768302927867905</td>\n",
       "      <td>Twitter Web App</td>\n",
       "      <td>0</td>\n",
       "      <td>1378769877176086530</td>\n",
       "      <td>@suepeac @TedDixon @SouthMacedonian @lisa_iannattone @KashPrime so why so far behind other countries?  and now igno… https://t.co/iU5AgjUkdj</td>\n",
       "      <td>awri125</td>\n",
       "    </tr>\n",
       "    <tr>\n",
       "      <th>4</th>\n",
       "      <td>en</td>\n",
       "      <td>https://mobile.twitter.com</td>\n",
       "      <td>1378769873094987777</td>\n",
       "      <td>0</td>\n",
       "      <td>0</td>\n",
       "      <td>NaN</td>\n",
       "      <td>NaN</td>\n",
       "      <td>NaN</td>\n",
       "      <td>0</td>\n",
       "      <td>NaN</td>\n",
       "      <td>NaN</td>\n",
       "      <td>low</td>\n",
       "      <td>NaN</td>\n",
       "      <td>NaN</td>\n",
       "      <td>Twitter Web App</td>\n",
       "      <td>0</td>\n",
       "      <td>1378769873094987777</td>\n",
       "      <td>Can everyone please differentiate between domestic covid status certificates and international vaccine passports fo… https://t.co/heJ706wsMI</td>\n",
       "      <td>rockmeamadeus6</td>\n",
       "    </tr>\n",
       "    <tr>\n",
       "      <th>...</th>\n",
       "      <td>...</td>\n",
       "      <td>...</td>\n",
       "      <td>...</td>\n",
       "      <td>...</td>\n",
       "      <td>...</td>\n",
       "      <td>...</td>\n",
       "      <td>...</td>\n",
       "      <td>...</td>\n",
       "      <td>...</td>\n",
       "      <td>...</td>\n",
       "      <td>...</td>\n",
       "      <td>...</td>\n",
       "      <td>...</td>\n",
       "      <td>...</td>\n",
       "      <td>...</td>\n",
       "      <td>...</td>\n",
       "      <td>...</td>\n",
       "      <td>...</td>\n",
       "      <td>...</td>\n",
       "    </tr>\n",
       "    <tr>\n",
       "      <th>95</th>\n",
       "      <td>und</td>\n",
       "      <td>http://twitter.com/download/android</td>\n",
       "      <td>1378769258956652544</td>\n",
       "      <td>0</td>\n",
       "      <td>1</td>\n",
       "      <td>swizze_gfrank</td>\n",
       "      <td>7.388900e+17</td>\n",
       "      <td>738889961429176320</td>\n",
       "      <td>0</td>\n",
       "      <td>NaN</td>\n",
       "      <td>1.378712e+18</td>\n",
       "      <td>low</td>\n",
       "      <td>NaN</td>\n",
       "      <td>1378711876339703808</td>\n",
       "      <td>Twitter for Android</td>\n",
       "      <td>0</td>\n",
       "      <td>1378769258956652544</td>\n",
       "      <td>@swizze_gfrank @AlexBerenson https://t.co/tMOh4aPlAL</td>\n",
       "      <td>melico24</td>\n",
       "    </tr>\n",
       "    <tr>\n",
       "      <th>96</th>\n",
       "      <td>en</td>\n",
       "      <td>http://twitter.com/download/iphone</td>\n",
       "      <td>1378769251343929350</td>\n",
       "      <td>0</td>\n",
       "      <td>0</td>\n",
       "      <td>NaN</td>\n",
       "      <td>NaN</td>\n",
       "      <td>NaN</td>\n",
       "      <td>0</td>\n",
       "      <td>NaN</td>\n",
       "      <td>NaN</td>\n",
       "      <td>low</td>\n",
       "      <td>NaN</td>\n",
       "      <td>NaN</td>\n",
       "      <td>Twitter for iPhone</td>\n",
       "      <td>0</td>\n",
       "      <td>1378769251343929350</td>\n",
       "      <td>U.S. puts J&amp;amp;J in charge of plant that botched COVID vaccine, removes AstraZeneca - Reuters Smart move ! This should… https://t.co/ZU1s50Fn6w</td>\n",
       "      <td>Thelast_try</td>\n",
       "    </tr>\n",
       "    <tr>\n",
       "      <th>97</th>\n",
       "      <td>fr</td>\n",
       "      <td>https://mobile.twitter.com</td>\n",
       "      <td>1378769248147886087</td>\n",
       "      <td>0</td>\n",
       "      <td>1</td>\n",
       "      <td>NaN</td>\n",
       "      <td>NaN</td>\n",
       "      <td>NaN</td>\n",
       "      <td>0</td>\n",
       "      <td>NaN</td>\n",
       "      <td>NaN</td>\n",
       "      <td>low</td>\n",
       "      <td>NaN</td>\n",
       "      <td>NaN</td>\n",
       "      <td>Twitter Web App</td>\n",
       "      <td>0</td>\n",
       "      <td>1378769248147886087</td>\n",
       "      <td>COVID-19 : (tjrs) pris pour des cons !\\nLe bal des masqués !\\nLe vaccin, le vaccin ! #StopVaccination \\nLe QR code en… https://t.co/2oWGV7Qlwg</td>\n",
       "      <td>MartinaDeBX</td>\n",
       "    </tr>\n",
       "    <tr>\n",
       "      <th>98</th>\n",
       "      <td>en</td>\n",
       "      <td>http://twitter.com/download/android</td>\n",
       "      <td>1378769244477927427</td>\n",
       "      <td>0</td>\n",
       "      <td>0</td>\n",
       "      <td>NaN</td>\n",
       "      <td>NaN</td>\n",
       "      <td>NaN</td>\n",
       "      <td>0</td>\n",
       "      <td>1.378763e+18</td>\n",
       "      <td>NaN</td>\n",
       "      <td>low</td>\n",
       "      <td>1378762538708566019</td>\n",
       "      <td>NaN</td>\n",
       "      <td>Twitter for Android</td>\n",
       "      <td>0</td>\n",
       "      <td>1378769244477927427</td>\n",
       "      <td>Chief @Riqblaze see what we were discussing the other day! Yes, Covid-19 is bad but the wartime effort it generated… https://t.co/JToyqq3LEQ</td>\n",
       "      <td>David_Biyi</td>\n",
       "    </tr>\n",
       "    <tr>\n",
       "      <th>99</th>\n",
       "      <td>en</td>\n",
       "      <td>http://twitter.com/download/iphone</td>\n",
       "      <td>1378769240749039616</td>\n",
       "      <td>0</td>\n",
       "      <td>0</td>\n",
       "      <td>ibeshello</td>\n",
       "      <td>7.143132e+17</td>\n",
       "      <td>714313232924549120</td>\n",
       "      <td>0</td>\n",
       "      <td>NaN</td>\n",
       "      <td>1.378768e+18</td>\n",
       "      <td>low</td>\n",
       "      <td>NaN</td>\n",
       "      <td>1378767943803170819</td>\n",
       "      <td>Twitter for iPhone</td>\n",
       "      <td>0</td>\n",
       "      <td>1378769240749039616</td>\n",
       "      <td>@ibeshello @thesweetlycool @CBSSports Manage the pandemic? Like shutting down for 2 weeks? Like producing a vaccine… https://t.co/CKTOCQwdwv</td>\n",
       "      <td>sirLantz_a_Lot</td>\n",
       "    </tr>\n",
       "  </tbody>\n",
       "</table>\n",
       "<p>100 rows × 19 columns</p>\n",
       "</div>"
      ],
      "text/plain": [
       "   lang                           source_url                   id  \\\n",
       "0    hi           https://mobile.twitter.com  1378769944070868992   \n",
       "1    en           https://mobile.twitter.com  1378769938555539456   \n",
       "2    en   http://twitter.com/download/iphone  1378769891138867201   \n",
       "3    en           https://mobile.twitter.com  1378769877176086530   \n",
       "4    en           https://mobile.twitter.com  1378769873094987777   \n",
       "..  ...                                  ...                  ...   \n",
       "95  und  http://twitter.com/download/android  1378769258956652544   \n",
       "96   en   http://twitter.com/download/iphone  1378769251343929350   \n",
       "97   fr           https://mobile.twitter.com  1378769248147886087   \n",
       "98   en  http://twitter.com/download/android  1378769244477927427   \n",
       "99   en   http://twitter.com/download/iphone  1378769240749039616   \n",
       "\n",
       "    quote_count  favorite_count in_reply_to_screen_name  in_reply_to_user_id  \\\n",
       "0             0               0         drdwivedisatish         1.680194e+09   \n",
       "1             0               0                 Logjeet         7.413575e+17   \n",
       "2             0               0                     NaN                  NaN   \n",
       "3             0               0                 suepeac         1.836074e+07   \n",
       "4             0               0                     NaN                  NaN   \n",
       "..          ...             ...                     ...                  ...   \n",
       "95            0               1           swizze_gfrank         7.388900e+17   \n",
       "96            0               0                     NaN                  NaN   \n",
       "97            0               1                     NaN                  NaN   \n",
       "98            0               0                     NaN                  NaN   \n",
       "99            0               0               ibeshello         7.143132e+17   \n",
       "\n",
       "   in_reply_to_user_id_str  retweet_count  quoted_status_id  \\\n",
       "0               1680193604              0               NaN   \n",
       "1       741357450817736704              0               NaN   \n",
       "2                      NaN              0               NaN   \n",
       "3                 18360735              0               NaN   \n",
       "4                      NaN              0               NaN   \n",
       "..                     ...            ...               ...   \n",
       "95      738889961429176320              0               NaN   \n",
       "96                     NaN              0               NaN   \n",
       "97                     NaN              0               NaN   \n",
       "98                     NaN              0      1.378763e+18   \n",
       "99      714313232924549120              0               NaN   \n",
       "\n",
       "    in_reply_to_status_id filter_level quoted_status_id_str  \\\n",
       "0            1.378671e+18          low                  NaN   \n",
       "1            1.378617e+18          low                  NaN   \n",
       "2                     NaN          low                  NaN   \n",
       "3            1.378768e+18          low                  NaN   \n",
       "4                     NaN          low                  NaN   \n",
       "..                    ...          ...                  ...   \n",
       "95           1.378712e+18          low                  NaN   \n",
       "96                    NaN          low                  NaN   \n",
       "97                    NaN          low                  NaN   \n",
       "98                    NaN          low  1378762538708566019   \n",
       "99           1.378768e+18          low                  NaN   \n",
       "\n",
       "   in_reply_to_status_id_str               source  reply_count  \\\n",
       "0        1378671071239401472      Twitter Web App            0   \n",
       "1        1378617383242268675      Twitter Web App            0   \n",
       "2                        NaN   Twitter for iPhone            0   \n",
       "3        1378768302927867905      Twitter Web App            0   \n",
       "4                        NaN      Twitter Web App            0   \n",
       "..                       ...                  ...          ...   \n",
       "95       1378711876339703808  Twitter for Android            0   \n",
       "96                       NaN   Twitter for iPhone            0   \n",
       "97                       NaN      Twitter Web App            0   \n",
       "98                       NaN  Twitter for Android            0   \n",
       "99       1378767943803170819   Twitter for iPhone            0   \n",
       "\n",
       "                 id_str  \\\n",
       "0   1378769944070868992   \n",
       "1   1378769938555539456   \n",
       "2   1378769891138867201   \n",
       "3   1378769877176086530   \n",
       "4   1378769873094987777   \n",
       "..                  ...   \n",
       "95  1378769258956652544   \n",
       "96  1378769251343929350   \n",
       "97  1378769248147886087   \n",
       "98  1378769244477927427   \n",
       "99  1378769240749039616   \n",
       "\n",
       "                                                                                                                                                text  \\\n",
       "0       @drdwivedisatish @BJP4UP सर जिन विद्यालयों में कोई प्रशाशनिक कार्य लंबित नही है वहाँ भी शिक्षक को प्रतिदिन जाना है?… https://t.co/rPiDBfj0Ix   \n",
       "1        @Logjeet @KEEMSTAR Yall acting like covid is The black plague. If it was more deadly people would want the vaccine… https://t.co/lBxaySBTy7   \n",
       "2                                J&amp;J’s COVID-19 vaccine emerges as preferred shot for homeless - The Wall Street Journal https://t.co/Q2EGVgV7V8   \n",
       "3       @suepeac @TedDixon @SouthMacedonian @lisa_iannattone @KashPrime so why so far behind other countries?  and now igno… https://t.co/iU5AgjUkdj   \n",
       "4       Can everyone please differentiate between domestic covid status certificates and international vaccine passports fo… https://t.co/heJ706wsMI   \n",
       "..                                                                                                                                               ...   \n",
       "95                                                                                              @swizze_gfrank @AlexBerenson https://t.co/tMOh4aPlAL   \n",
       "96  U.S. puts J&amp;J in charge of plant that botched COVID vaccine, removes AstraZeneca - Reuters Smart move ! This should… https://t.co/ZU1s50Fn6w   \n",
       "97    COVID-19 : (tjrs) pris pour des cons !\\nLe bal des masqués !\\nLe vaccin, le vaccin ! #StopVaccination \\nLe QR code en… https://t.co/2oWGV7Qlwg   \n",
       "98      Chief @Riqblaze see what we were discussing the other day! Yes, Covid-19 is bad but the wartime effort it generated… https://t.co/JToyqq3LEQ   \n",
       "99      @ibeshello @thesweetlycool @CBSSports Manage the pandemic? Like shutting down for 2 weeks? Like producing a vaccine… https://t.co/CKTOCQwdwv   \n",
       "\n",
       "             author  \n",
       "0   kamalna26924906  \n",
       "1   dudeman89179543  \n",
       "2       DimitriLyon  \n",
       "3           awri125  \n",
       "4    rockmeamadeus6  \n",
       "..              ...  \n",
       "95         melico24  \n",
       "96      Thelast_try  \n",
       "97      MartinaDeBX  \n",
       "98       David_Biyi  \n",
       "99   sirLantz_a_Lot  \n",
       "\n",
       "[100 rows x 19 columns]"
      ]
     },
     "execution_count": 13,
     "metadata": {},
     "output_type": "execute_result"
    }
   ],
   "source": [
    "old_results_df"
   ]
  },
  {
   "cell_type": "markdown",
   "metadata": {},
   "source": [
    "## Data Cleaning & EDA"
   ]
  },
  {
   "cell_type": "code",
   "execution_count": 14,
   "metadata": {
    "ExecuteTime": {
     "end_time": "2021-04-04T18:02:36.745906Z",
     "start_time": "2021-04-04T18:02:36.687759Z"
    }
   },
   "outputs": [],
   "source": [
    "df = pd.read_csv('data/tweets.csv')"
   ]
  },
  {
   "cell_type": "code",
   "execution_count": 15,
   "metadata": {
    "ExecuteTime": {
     "end_time": "2021-04-04T18:02:36.763079Z",
     "start_time": "2021-04-04T18:02:36.748634Z"
    },
    "scrolled": false
   },
   "outputs": [
    {
     "name": "stdout",
     "output_type": "stream",
     "text": [
      "<class 'pandas.core.frame.DataFrame'>\n",
      "RangeIndex: 19450 entries, 0 to 19449\n",
      "Data columns (total 3 columns):\n",
      " #   Column    Non-Null Count  Dtype \n",
      "---  ------    --------------  ----- \n",
      " 0   time      19450 non-null  object\n",
      " 1   language  19450 non-null  object\n",
      " 2   tweets    19450 non-null  object\n",
      "dtypes: object(3)\n",
      "memory usage: 456.0+ KB\n"
     ]
    }
   ],
   "source": [
    "df.info()"
   ]
  },
  {
   "cell_type": "markdown",
   "metadata": {},
   "source": [
    "### Check and Remove Duplicates"
   ]
  },
  {
   "cell_type": "code",
   "execution_count": 16,
   "metadata": {
    "ExecuteTime": {
     "end_time": "2021-04-04T18:02:36.788428Z",
     "start_time": "2021-04-04T18:02:36.765524Z"
    }
   },
   "outputs": [
    {
     "name": "stdout",
     "output_type": "stream",
     "text": [
      "<class 'pandas.core.frame.DataFrame'>\n",
      "Int64Index: 52 entries, 812 to 19444\n",
      "Data columns (total 3 columns):\n",
      " #   Column    Non-Null Count  Dtype \n",
      "---  ------    --------------  ----- \n",
      " 0   time      52 non-null     object\n",
      " 1   language  52 non-null     object\n",
      " 2   tweets    52 non-null     object\n",
      "dtypes: object(3)\n",
      "memory usage: 1.6+ KB\n"
     ]
    }
   ],
   "source": [
    "# check for duplicated tweets\n",
    "duped = df[df.duplicated(subset= 'tweets')]\n",
    "duped.info()"
   ]
  },
  {
   "cell_type": "code",
   "execution_count": 17,
   "metadata": {
    "ExecuteTime": {
     "end_time": "2021-04-04T18:02:36.810340Z",
     "start_time": "2021-04-04T18:02:36.790223Z"
    }
   },
   "outputs": [
    {
     "data": {
      "text/plain": [
       "0"
      ]
     },
     "execution_count": 17,
     "metadata": {},
     "output_type": "execute_result"
    }
   ],
   "source": [
    "# remove duplicates\n",
    "df.drop_duplicates(subset= 'tweets', keep= 'first', inplace= True)\n",
    "df.reset_index(drop= True, inplace= True)\n",
    "\n",
    "# make sure they are gone\n",
    "df.tweets.duplicated().sum()"
   ]
  },
  {
   "cell_type": "markdown",
   "metadata": {},
   "source": [
    "### Looking at Languages"
   ]
  },
  {
   "cell_type": "code",
   "execution_count": 18,
   "metadata": {
    "ExecuteTime": {
     "end_time": "2021-04-04T18:02:36.829354Z",
     "start_time": "2021-04-04T18:02:36.816383Z"
    }
   },
   "outputs": [],
   "source": [
    "lang_df = df.sort_values('language')"
   ]
  },
  {
   "cell_type": "code",
   "execution_count": 19,
   "metadata": {
    "ExecuteTime": {
     "end_time": "2021-04-04T18:02:37.231620Z",
     "start_time": "2021-04-04T18:02:36.834557Z"
    }
   },
   "outputs": [
    {
     "data": {
      "image/png": "[encoded data removed]",
      "text/plain": [
       "<Figure size 864x576 with 1 Axes>"
      ]
     },
     "metadata": {},
     "output_type": "display_data"
    }
   ],
   "source": [
    "plt.figure(figsize= (12, 8))\n",
    "lang_df.language.value_counts(normalize=True).plot(kind= 'barh')\n",
    "plt.title('Proportion of Languages Collected')\n",
    "plt.xlim(-.01, 1)\n",
    "plt.show()"
   ]
  },
  {
   "cell_type": "code",
   "execution_count": 20,
   "metadata": {
    "ExecuteTime": {
     "end_time": "2021-04-04T18:02:37.239789Z",
     "start_time": "2021-04-04T18:02:37.233447Z"
    }
   },
   "outputs": [
    {
     "data": {
      "text/plain": [
       "en     0.926333\n",
       "und    0.035725\n",
       "fr     0.011857\n",
       "es     0.004485\n",
       "tl     0.002371\n",
       "ja     0.002062\n",
       "hi     0.002011\n",
       "it     0.001392\n",
       "de     0.001340\n",
       "pt     0.001186\n",
       "et     0.001083\n",
       "nl     0.000928\n",
       "pl     0.000722\n",
       "tr     0.000670\n",
       "ar     0.000619\n",
       "ro     0.000464\n",
       "zh     0.000464\n",
       "el     0.000464\n",
       "vi     0.000412\n",
       "in     0.000412\n",
       "ur     0.000412\n",
       "ca     0.000412\n",
       "ru     0.000361\n",
       "gu     0.000361\n",
       "kn     0.000309\n",
       "da     0.000309\n",
       "bn     0.000309\n",
       "fi     0.000258\n",
       "mr     0.000258\n",
       "fa     0.000206\n",
       "hu     0.000206\n",
       "cs     0.000155\n",
       "ml     0.000155\n",
       "te     0.000155\n",
       "th     0.000155\n",
       "cy     0.000155\n",
       "or     0.000155\n",
       "lv     0.000103\n",
       "sv     0.000103\n",
       "ko     0.000103\n",
       "pa     0.000103\n",
       "ta     0.000103\n",
       "sr     0.000052\n",
       "no     0.000052\n",
       "ht     0.000052\n",
       "Name: language, dtype: float64"
      ]
     },
     "execution_count": 20,
     "metadata": {},
     "output_type": "execute_result"
    }
   ],
   "source": [
    "lang_df.language.value_counts(normalize=True)"
   ]
  },
  {
   "cell_type": "code",
   "execution_count": 21,
   "metadata": {
    "ExecuteTime": {
     "end_time": "2021-04-04T18:02:37.589494Z",
     "start_time": "2021-04-04T18:02:37.241895Z"
    }
   },
   "outputs": [
    {
     "name": "stdout",
     "output_type": "stream",
     "text": [
      "There are :  1  tables\n",
      "                        0              1\n",
      "0                    Name  Language code\n",
      "1       English (default)             en\n",
      "2                  Arabic             ar\n",
      "3                 Bengali             bn\n",
      "4                   Czech             cs\n",
      "5                  Danish             da\n",
      "6                  German             de\n",
      "7                   Greek             el\n",
      "8                 Spanish             es\n",
      "9                 Persian             fa\n",
      "10                Finnish             fi\n",
      "11               Filipino            fil\n",
      "12                 French             fr\n",
      "13                 Hebrew             he\n",
      "14                  Hindi             hi\n",
      "15              Hungarian             hu\n",
      "16             Indonesian             id\n",
      "17                Italian             it\n",
      "18               Japanese             ja\n",
      "19                 Korean             ko\n",
      "20                  Malay            msa\n",
      "21                  Dutch             nl\n",
      "22              Norwegian             no\n",
      "23                 Polish             pl\n",
      "24             Portuguese             pt\n",
      "25               Romanian             ro\n",
      "26                Russian             ru\n",
      "27                Swedish             sv\n",
      "28                   Thai             th\n",
      "29                Turkish             tr\n",
      "30              Ukrainian             uk\n",
      "31                   Urdu             ur\n",
      "32             Vietnamese             vi\n",
      "33   Chinese (Simplified)          zh-cn\n",
      "34  Chinese (Traditional)          zh-tw\n"
     ]
    }
   ],
   "source": [
    "# what are these languages? get table from url\n",
    "URL = 'https://developer.twitter.com/en/docs/twitter-for-websites/supported-languages'\n",
    "tables = pd.read_html(URL)\n",
    "print(\"There are : \",len(tables),\" tables\")\n",
    "print(tables[0])\n",
    "\n",
    "lang_table = tables[0]"
   ]
  },
  {
   "cell_type": "code",
   "execution_count": 22,
   "metadata": {
    "ExecuteTime": {
     "end_time": "2021-04-04T18:02:37.599227Z",
     "start_time": "2021-04-04T18:02:37.591336Z"
    }
   },
   "outputs": [],
   "source": [
    "# format table\n",
    "header_row = 0\n",
    "lang_table.columns = lang_table.iloc[header_row]\n",
    "lang_table = lang_table.drop(header_row)\n",
    "lang_table.reset_index(drop= True, inplace= True)\n",
    "\n",
    "lang_table.replace('English (default)', 'English', inplace= True)\n",
    "# lang_table"
   ]
  },
  {
   "cell_type": "code",
   "execution_count": 23,
   "metadata": {
    "ExecuteTime": {
     "end_time": "2021-04-04T18:02:37.604683Z",
     "start_time": "2021-04-04T18:02:37.600856Z"
    }
   },
   "outputs": [],
   "source": [
    "# save as csv in data folder\n",
    "lang_table.to_csv('data/languages.csv', index= False)"
   ]
  },
  {
   "cell_type": "code",
   "execution_count": 24,
   "metadata": {
    "ExecuteTime": {
     "end_time": "2021-04-04T18:02:37.615677Z",
     "start_time": "2021-04-04T18:02:37.606293Z"
    }
   },
   "outputs": [
    {
     "data": {
      "text/html": [
       "<div>\n",
       "<style scoped>\n",
       "    .dataframe tbody tr th:only-of-type {\n",
       "        vertical-align: middle;\n",
       "    }\n",
       "\n",
       "    .dataframe tbody tr th {\n",
       "        vertical-align: top;\n",
       "    }\n",
       "\n",
       "    .dataframe thead th {\n",
       "        text-align: right;\n",
       "    }\n",
       "</style>\n",
       "<table border=\"1\" class=\"dataframe\">\n",
       "  <thead>\n",
       "    <tr style=\"text-align: right;\">\n",
       "      <th></th>\n",
       "      <th>time</th>\n",
       "      <th>language</th>\n",
       "      <th>tweets</th>\n",
       "    </tr>\n",
       "  </thead>\n",
       "  <tbody>\n",
       "    <tr>\n",
       "      <th>1</th>\n",
       "      <td>2021-04-01 21:58:44</td>\n",
       "      <td>und</td>\n",
       "      <td>@and_kell @ds13_manon https://t.co/sKnTctMKcF</td>\n",
       "    </tr>\n",
       "    <tr>\n",
       "      <th>19</th>\n",
       "      <td>2021-04-01 21:58:14</td>\n",
       "      <td>und</td>\n",
       "      <td>https://t.co/j2braq4wFx</td>\n",
       "    </tr>\n",
       "    <tr>\n",
       "      <th>29</th>\n",
       "      <td>2021-04-01 21:57:58</td>\n",
       "      <td>und</td>\n",
       "      <td>@Pavlos80322302 @ds13_manon https://t.co/sKnTctMKcF</td>\n",
       "    </tr>\n",
       "    <tr>\n",
       "      <th>79</th>\n",
       "      <td>2021-04-01 21:56:21</td>\n",
       "      <td>und</td>\n",
       "      <td>👍🏼👍🏼👍🏼👍🏼 https://t.co/m68KkEqpOe</td>\n",
       "    </tr>\n",
       "    <tr>\n",
       "      <th>97</th>\n",
       "      <td>2021-04-01 21:55:44</td>\n",
       "      <td>und</td>\n",
       "      <td>https://t.co/Stomi0I13k</td>\n",
       "    </tr>\n",
       "    <tr>\n",
       "      <th>...</th>\n",
       "      <td>...</td>\n",
       "      <td>...</td>\n",
       "      <td>...</td>\n",
       "    </tr>\n",
       "    <tr>\n",
       "      <th>19289</th>\n",
       "      <td>2021-04-04 16:40:46</td>\n",
       "      <td>und</td>\n",
       "      <td>@deniseramosm https://t.co/Hi3OGdXTeP\\n⬇️</td>\n",
       "    </tr>\n",
       "    <tr>\n",
       "      <th>19317</th>\n",
       "      <td>2021-04-04 16:39:30</td>\n",
       "      <td>und</td>\n",
       "      <td>https://t.co/WRugcVZRqr</td>\n",
       "    </tr>\n",
       "    <tr>\n",
       "      <th>19372</th>\n",
       "      <td>2021-04-04 16:37:17</td>\n",
       "      <td>und</td>\n",
       "      <td>الحمدلله 🙏🏽💉 (@ COVID-19 Vaccine Center - @saudimoh in الرياض) https://t.co/zfzBWyp4Tg</td>\n",
       "    </tr>\n",
       "    <tr>\n",
       "      <th>19373</th>\n",
       "      <td>2021-04-04 16:37:14</td>\n",
       "      <td>und</td>\n",
       "      <td>https://t.co/J54pSG93KG</td>\n",
       "    </tr>\n",
       "    <tr>\n",
       "      <th>19394</th>\n",
       "      <td>2021-04-04 16:36:16</td>\n",
       "      <td>und</td>\n",
       "      <td>@nbcsnl https://t.co/9Nc87paM14</td>\n",
       "    </tr>\n",
       "  </tbody>\n",
       "</table>\n",
       "<p>693 rows × 3 columns</p>\n",
       "</div>"
      ],
      "text/plain": [
       "                      time language  \\\n",
       "1      2021-04-01 21:58:44      und   \n",
       "19     2021-04-01 21:58:14      und   \n",
       "29     2021-04-01 21:57:58      und   \n",
       "79     2021-04-01 21:56:21      und   \n",
       "97     2021-04-01 21:55:44      und   \n",
       "...                    ...      ...   \n",
       "19289  2021-04-04 16:40:46      und   \n",
       "19317  2021-04-04 16:39:30      und   \n",
       "19372  2021-04-04 16:37:17      und   \n",
       "19373  2021-04-04 16:37:14      und   \n",
       "19394  2021-04-04 16:36:16      und   \n",
       "\n",
       "                                                                                       tweets  \n",
       "1                                               @and_kell @ds13_manon https://t.co/sKnTctMKcF  \n",
       "19                                                                    https://t.co/j2braq4wFx  \n",
       "29                                        @Pavlos80322302 @ds13_manon https://t.co/sKnTctMKcF  \n",
       "79                                                           👍🏼👍🏼👍🏼👍🏼 https://t.co/m68KkEqpOe  \n",
       "97                                                                    https://t.co/Stomi0I13k  \n",
       "...                                                                                       ...  \n",
       "19289                                               @deniseramosm https://t.co/Hi3OGdXTeP\\n⬇️  \n",
       "19317                                                                 https://t.co/WRugcVZRqr  \n",
       "19372  الحمدلله 🙏🏽💉 (@ COVID-19 Vaccine Center - @saudimoh in الرياض) https://t.co/zfzBWyp4Tg  \n",
       "19373                                                                 https://t.co/J54pSG93KG  \n",
       "19394                                                         @nbcsnl https://t.co/9Nc87paM14  \n",
       "\n",
       "[693 rows x 3 columns]"
      ]
     },
     "execution_count": 24,
     "metadata": {},
     "output_type": "execute_result"
    }
   ],
   "source": [
    "# look at 'und' language \n",
    "df[df['language'] == 'und']"
   ]
  },
  {
   "cell_type": "markdown",
   "metadata": {},
   "source": [
    "It appears that the 'und' or possibly 'undetermined' language are tweets that do not include text to help us with our sentiment analysis. We will remove those from our DataFrame."
   ]
  },
  {
   "cell_type": "code",
   "execution_count": 25,
   "metadata": {
    "ExecuteTime": {
     "end_time": "2021-04-04T18:02:37.623041Z",
     "start_time": "2021-04-04T18:02:37.617291Z"
    }
   },
   "outputs": [],
   "source": [
    "df = df[df['language'] != 'und']\n",
    "# df.info()"
   ]
  },
  {
   "cell_type": "markdown",
   "metadata": {},
   "source": [
    "Merge the data with the languages to see the whole name of languages"
   ]
  },
  {
   "cell_type": "code",
   "execution_count": 26,
   "metadata": {
    "ExecuteTime": {
     "end_time": "2021-04-04T18:02:37.641420Z",
     "start_time": "2021-04-04T18:02:37.625011Z"
    }
   },
   "outputs": [
    {
     "name": "stdout",
     "output_type": "stream",
     "text": [
      "<class 'pandas.core.frame.DataFrame'>\n",
      "Int64Index: 18575 entries, 0 to 18574\n",
      "Data columns (total 5 columns):\n",
      " #   Column         Non-Null Count  Dtype \n",
      "---  ------         --------------  ----- \n",
      " 0   time           18575 non-null  object\n",
      " 1   language       18575 non-null  object\n",
      " 2   tweets         18575 non-null  object\n",
      " 3   Name           18575 non-null  object\n",
      " 4   Language code  18575 non-null  object\n",
      "dtypes: object(5)\n",
      "memory usage: 870.7+ KB\n"
     ]
    }
   ],
   "source": [
    "# merge data with language names\n",
    "df2 = df.merge(lang_table, how= 'inner', left_on= 'language', right_on= 'Language code')\n",
    "df2.info()"
   ]
  },
  {
   "cell_type": "code",
   "execution_count": 27,
   "metadata": {
    "ExecuteTime": {
     "end_time": "2021-04-04T18:02:37.657653Z",
     "start_time": "2021-04-04T18:02:37.643225Z"
    },
    "scrolled": true
   },
   "outputs": [],
   "source": [
    "# drop extra columns and rename them and change dates to datetime and drop time\n",
    "df2.drop(columns = ['language', 'Language code'], inplace= True)\n",
    "df2.rename(columns={'Name': 'language'}, inplace= True)\n",
    "df2['time'] = pd.to_datetime(df2['time']).dt.date\n",
    "# df2"
   ]
  },
  {
   "cell_type": "markdown",
   "metadata": {},
   "source": [
    "Let's see how many Tweets are in each language?"
   ]
  },
  {
   "cell_type": "code",
   "execution_count": 28,
   "metadata": {
    "ExecuteTime": {
     "end_time": "2021-04-04T18:02:37.892556Z",
     "start_time": "2021-04-04T18:02:37.659175Z"
    }
   },
   "outputs": [
    {
     "data": {
      "text/plain": [
       "<AxesSubplot:xlabel='count', ylabel='language'>"
      ]
     },
     "execution_count": 28,
     "metadata": {},
     "output_type": "execute_result"
    },
    {
     "data": {
      "image/png": "[encoded data removed]",
      "text/plain": [
       "<Figure size 432x288 with 1 Axes>"
      ]
     },
     "metadata": {},
     "output_type": "display_data"
    }
   ],
   "source": [
    "sns.countplot(y= 'language', data= df2)"
   ]
  },
  {
   "cell_type": "markdown",
   "metadata": {},
   "source": [
    "The majority of Tweets are in English. Let's see what the other languages are."
   ]
  },
  {
   "cell_type": "code",
   "execution_count": 29,
   "metadata": {
    "ExecuteTime": {
     "end_time": "2021-04-04T18:02:38.107888Z",
     "start_time": "2021-04-04T18:02:37.894744Z"
    },
    "scrolled": false
   },
   "outputs": [
    {
     "data": {
      "image/png": "[encoded data removed]",
      "text/plain": [
       "<Figure size 720x576 with 1 Axes>"
      ]
     },
     "metadata": {},
     "output_type": "display_data"
    }
   ],
   "source": [
    "# countplot that excludes English to see detail\n",
    "plt.figure(figsize= (10, 8))\n",
    "sns.countplot(y= 'language', data= df2, palette='plasma',\n",
    "              order= df2.language.value_counts().iloc[1:].index)\n",
    "plt.title('Count of Tweets, Excluding English', fontsize= 14)\n",
    "plt.xlabel('# of Tweets')\n",
    "plt.ylabel('Language')\n",
    "plt.show()"
   ]
  },
  {
   "cell_type": "markdown",
   "metadata": {},
   "source": [
    "After English, the top 3 languages for Tweets about the COVID-19 vaccine are in French, Spanish, and Japanese."
   ]
  },
  {
   "cell_type": "code",
   "execution_count": 43,
   "metadata": {
    "ExecuteTime": {
     "end_time": "2021-04-04T19:07:06.133626Z",
     "start_time": "2021-04-04T19:07:06.125273Z"
    }
   },
   "outputs": [
    {
     "data": {
      "text/html": [
       "<div>\n",
       "<style scoped>\n",
       "    .dataframe tbody tr th:only-of-type {\n",
       "        vertical-align: middle;\n",
       "    }\n",
       "\n",
       "    .dataframe tbody tr th {\n",
       "        vertical-align: top;\n",
       "    }\n",
       "\n",
       "    .dataframe thead th {\n",
       "        text-align: right;\n",
       "    }\n",
       "</style>\n",
       "<table border=\"1\" class=\"dataframe\">\n",
       "  <thead>\n",
       "    <tr style=\"text-align: right;\">\n",
       "      <th></th>\n",
       "      <th>time</th>\n",
       "      <th>tweets</th>\n",
       "      <th>language</th>\n",
       "    </tr>\n",
       "  </thead>\n",
       "  <tbody>\n",
       "    <tr>\n",
       "      <th>0</th>\n",
       "      <td>2021-04-01</td>\n",
       "      <td>Concerning the use of aborted baby tissue in the J&amp;amp;J Covid vaccine:\\n\\n“The J&amp;amp;J vaccine has sparked debate among some religious communities because it was developed from stem cells obtained during two abortions decades ago.”\\n\\nEvil is still evil, even if it was decades ago.</td>\n",
       "      <td>English</td>\n",
       "    </tr>\n",
       "    <tr>\n",
       "      <th>1</th>\n",
       "      <td>2021-04-01</td>\n",
       "      <td>imagine an animal getting the covid-19 vaccine b4 a human</td>\n",
       "      <td>English</td>\n",
       "    </tr>\n",
       "    <tr>\n",
       "      <th>2</th>\n",
       "      <td>2021-04-01</td>\n",
       "      <td>Definition of a microstate: https://t.co/8N0R8Mhl73\\n\\nSource of vaccine data: https://t.co/0RQFJPTrZZ</td>\n",
       "      <td>English</td>\n",
       "    </tr>\n",
       "    <tr>\n",
       "      <th>3</th>\n",
       "      <td>2021-04-01</td>\n",
       "      <td>If I’ve Had COVID-19, Do I Still Need Two Doses of Vaccine? https://t.co/08AiBgfEHQ</td>\n",
       "      <td>English</td>\n",
       "    </tr>\n",
       "    <tr>\n",
       "      <th>4</th>\n",
       "      <td>2021-04-01</td>\n",
       "      <td>My epidural was delayed again, somehow my covid vaccine does not interact well with an epidural. SOOOOO I should be getting it on my birthday. Yay. \\n\\n So far I have 1-2 dr appointments a week this entire month.\\n  \\nOn the upside they've given me proper muscle relaxers this time.</td>\n",
       "      <td>English</td>\n",
       "    </tr>\n",
       "    <tr>\n",
       "      <th>5</th>\n",
       "      <td>2021-04-01</td>\n",
       "      <td>Blake Lively hilariously called out her husband Ryan Reynolds for what he posted after they got their COVID-19 vaccine shots https://t.co/GixfzNnHBc</td>\n",
       "      <td>English</td>\n",
       "    </tr>\n",
       "    <tr>\n",
       "      <th>6</th>\n",
       "      <td>2021-04-01</td>\n",
       "      <td>@Kit_Yates_Maths Tests\\n1. Vax deployment ✅✅\\n2. Vax reduces hospitalisation ✅✅\\n3. Infection rates unsubstantiated pressure on NHS ✅\\n4. Variants of concern ☑️\\n\\nSo not measured but very conservative \\nhttps://t.co/iVMKF2pPsF https://t.co/ta4t21HH9s</td>\n",
       "      <td>English</td>\n",
       "    </tr>\n",
       "    <tr>\n",
       "      <th>7</th>\n",
       "      <td>2021-04-01</td>\n",
       "      <td>Here’s how you can be forced to get the Covid vaccine in the US https://t.co/dparLwxbq2</td>\n",
       "      <td>English</td>\n",
       "    </tr>\n",
       "    <tr>\n",
       "      <th>8</th>\n",
       "      <td>2021-04-01</td>\n",
       "      <td>I received my second dose of the Covid-19 vaccine today. I’m grateful, and hopeful for a return to normalcy on the horizon. I want to thank everyone working so hard to get folks vaccinated. Get your vaccine here: https://t.co/YAl9dOBkLo #GetYourShot #vaccinated https://t.co/WH5AdwbgkP</td>\n",
       "      <td>English</td>\n",
       "    </tr>\n",
       "    <tr>\n",
       "      <th>9</th>\n",
       "      <td>2021-04-01</td>\n",
       "      <td>@JoshMatlow Ok how many times has this How do we have vaccine clinics in areas where Covid cases are highest ?\\nOr most important paid sick leave?\\nPlease Mr Matlow what we can we the ordinary citizen do? It seems you are unable to do anything?  I am pleading with you do something!</td>\n",
       "      <td>English</td>\n",
       "    </tr>\n",
       "  </tbody>\n",
       "</table>\n",
       "</div>"
      ],
      "text/plain": [
       "         time  \\\n",
       "0  2021-04-01   \n",
       "1  2021-04-01   \n",
       "2  2021-04-01   \n",
       "3  2021-04-01   \n",
       "4  2021-04-01   \n",
       "5  2021-04-01   \n",
       "6  2021-04-01   \n",
       "7  2021-04-01   \n",
       "8  2021-04-01   \n",
       "9  2021-04-01   \n",
       "\n",
       "                                                                                                                                                                                                                                                                                          tweets  \\\n",
       "0    Concerning the use of aborted baby tissue in the J&amp;J Covid vaccine:\\n\\n“The J&amp;J vaccine has sparked debate among some religious communities because it was developed from stem cells obtained during two abortions decades ago.”\\n\\nEvil is still evil, even if it was decades ago.   \n",
       "1                                                                                                                                                                                                                                      imagine an animal getting the covid-19 vaccine b4 a human   \n",
       "2                                                                                                                                                                                         Definition of a microstate: https://t.co/8N0R8Mhl73\\n\\nSource of vaccine data: https://t.co/0RQFJPTrZZ   \n",
       "3                                                                                                                                                                                                            If I’ve Had COVID-19, Do I Still Need Two Doses of Vaccine? https://t.co/08AiBgfEHQ   \n",
       "4     My epidural was delayed again, somehow my covid vaccine does not interact well with an epidural. SOOOOO I should be getting it on my birthday. Yay. \\n\\n So far I have 1-2 dr appointments a week this entire month.\\n  \\nOn the upside they've given me proper muscle relaxers this time.   \n",
       "5                                                                                                                                           Blake Lively hilariously called out her husband Ryan Reynolds for what he posted after they got their COVID-19 vaccine shots https://t.co/GixfzNnHBc   \n",
       "6                                    @Kit_Yates_Maths Tests\\n1. Vax deployment ✅✅\\n2. Vax reduces hospitalisation ✅✅\\n3. Infection rates unsubstantiated pressure on NHS ✅\\n4. Variants of concern ☑️\\n\\nSo not measured but very conservative \\nhttps://t.co/iVMKF2pPsF https://t.co/ta4t21HH9s   \n",
       "7                                                                                                                                                                                                        Here’s how you can be forced to get the Covid vaccine in the US https://t.co/dparLwxbq2   \n",
       "8  I received my second dose of the Covid-19 vaccine today. I’m grateful, and hopeful for a return to normalcy on the horizon. I want to thank everyone working so hard to get folks vaccinated. Get your vaccine here: https://t.co/YAl9dOBkLo #GetYourShot #vaccinated https://t.co/WH5AdwbgkP   \n",
       "9     @JoshMatlow Ok how many times has this How do we have vaccine clinics in areas where Covid cases are highest ?\\nOr most important paid sick leave?\\nPlease Mr Matlow what we can we the ordinary citizen do? It seems you are unable to do anything?  I am pleading with you do something!   \n",
       "\n",
       "  language  \n",
       "0  English  \n",
       "1  English  \n",
       "2  English  \n",
       "3  English  \n",
       "4  English  \n",
       "5  English  \n",
       "6  English  \n",
       "7  English  \n",
       "8  English  \n",
       "9  English  "
      ]
     },
     "execution_count": 43,
     "metadata": {},
     "output_type": "execute_result"
    }
   ],
   "source": [
    "df2.head(10)"
   ]
  },
  {
   "cell_type": "markdown",
   "metadata": {},
   "source": [
    "#### Translate to English using Google Cloud Platform's API"
   ]
  },
  {
   "cell_type": "code",
   "execution_count": 30,
   "metadata": {
    "ExecuteTime": {
     "end_time": "2021-04-04T18:02:38.116421Z",
     "start_time": "2021-04-04T18:02:38.109917Z"
    }
   },
   "outputs": [],
   "source": [
    "# send in credentials that are saved on local computer\n",
    "credentials = service_account.Credentials.from_service_account_file('../GCP_service_account.json')\n",
    "translate_client = translate.Client(credentials= credentials)"
   ]
  },
  {
   "cell_type": "code",
   "execution_count": 31,
   "metadata": {
    "ExecuteTime": {
     "end_time": "2021-04-04T18:02:38.351532Z",
     "start_time": "2021-04-04T18:02:38.117853Z"
    },
    "scrolled": true
   },
   "outputs": [
    {
     "name": "stdout",
     "output_type": "stream",
     "text": [
      "[{'language': 'af', 'name': 'Afrikaans'}, {'language': 'sq', 'name': 'Albanian'}, {'language': 'am', 'name': 'Amharic'}, {'language': 'ar', 'name': 'Arabic'}, {'language': 'hy', 'name': 'Armenian'}, {'language': 'az', 'name': 'Azerbaijani'}, {'language': 'eu', 'name': 'Basque'}, {'language': 'be', 'name': 'Belarusian'}, {'language': 'bn', 'name': 'Bengali'}, {'language': 'bs', 'name': 'Bosnian'}, {'language': 'bg', 'name': 'Bulgarian'}, {'language': 'ca', 'name': 'Catalan'}, {'language': 'ceb', 'name': 'Cebuano'}, {'language': 'ny', 'name': 'Chichewa'}, {'language': 'zh-CN', 'name': 'Chinese (Simplified)'}, {'language': 'zh-TW', 'name': 'Chinese (Traditional)'}, {'language': 'co', 'name': 'Corsican'}, {'language': 'hr', 'name': 'Croatian'}, {'language': 'cs', 'name': 'Czech'}, {'language': 'da', 'name': 'Danish'}, {'language': 'nl', 'name': 'Dutch'}, {'language': 'en', 'name': 'English'}, {'language': 'eo', 'name': 'Esperanto'}, {'language': 'et', 'name': 'Estonian'}, {'language': 'tl', 'name': 'Filipino'}, {'language': 'fi', 'name': 'Finnish'}, {'language': 'fr', 'name': 'French'}, {'language': 'fy', 'name': 'Frisian'}, {'language': 'gl', 'name': 'Galician'}, {'language': 'ka', 'name': 'Georgian'}, {'language': 'de', 'name': 'German'}, {'language': 'el', 'name': 'Greek'}, {'language': 'gu', 'name': 'Gujarati'}, {'language': 'ht', 'name': 'Haitian Creole'}, {'language': 'ha', 'name': 'Hausa'}, {'language': 'haw', 'name': 'Hawaiian'}, {'language': 'iw', 'name': 'Hebrew'}, {'language': 'hi', 'name': 'Hindi'}, {'language': 'hmn', 'name': 'Hmong'}, {'language': 'hu', 'name': 'Hungarian'}, {'language': 'is', 'name': 'Icelandic'}, {'language': 'ig', 'name': 'Igbo'}, {'language': 'id', 'name': 'Indonesian'}, {'language': 'ga', 'name': 'Irish'}, {'language': 'it', 'name': 'Italian'}, {'language': 'ja', 'name': 'Japanese'}, {'language': 'jw', 'name': 'Javanese'}, {'language': 'kn', 'name': 'Kannada'}, {'language': 'kk', 'name': 'Kazakh'}, {'language': 'km', 'name': 'Khmer'}, {'language': 'rw', 'name': 'Kinyarwanda'}, {'language': 'ko', 'name': 'Korean'}, {'language': 'ku', 'name': 'Kurdish (Kurmanji)'}, {'language': 'ky', 'name': 'Kyrgyz'}, {'language': 'lo', 'name': 'Lao'}, {'language': 'la', 'name': 'Latin'}, {'language': 'lv', 'name': 'Latvian'}, {'language': 'lt', 'name': 'Lithuanian'}, {'language': 'lb', 'name': 'Luxembourgish'}, {'language': 'mk', 'name': 'Macedonian'}, {'language': 'mg', 'name': 'Malagasy'}, {'language': 'ms', 'name': 'Malay'}, {'language': 'ml', 'name': 'Malayalam'}, {'language': 'mt', 'name': 'Maltese'}, {'language': 'mi', 'name': 'Maori'}, {'language': 'mr', 'name': 'Marathi'}, {'language': 'mn', 'name': 'Mongolian'}, {'language': 'my', 'name': 'Myanmar (Burmese)'}, {'language': 'ne', 'name': 'Nepali'}, {'language': 'no', 'name': 'Norwegian'}, {'language': 'or', 'name': 'Odia (Oriya)'}, {'language': 'ps', 'name': 'Pashto'}, {'language': 'fa', 'name': 'Persian'}, {'language': 'pl', 'name': 'Polish'}, {'language': 'pt', 'name': 'Portuguese'}, {'language': 'pa', 'name': 'Punjabi'}, {'language': 'ro', 'name': 'Romanian'}, {'language': 'ru', 'name': 'Russian'}, {'language': 'sm', 'name': 'Samoan'}, {'language': 'gd', 'name': 'Scots Gaelic'}, {'language': 'sr', 'name': 'Serbian'}, {'language': 'st', 'name': 'Sesotho'}, {'language': 'sn', 'name': 'Shona'}, {'language': 'sd', 'name': 'Sindhi'}, {'language': 'si', 'name': 'Sinhala'}, {'language': 'sk', 'name': 'Slovak'}, {'language': 'sl', 'name': 'Slovenian'}, {'language': 'so', 'name': 'Somali'}, {'language': 'es', 'name': 'Spanish'}, {'language': 'su', 'name': 'Sundanese'}, {'language': 'sw', 'name': 'Swahili'}, {'language': 'sv', 'name': 'Swedish'}, {'language': 'tg', 'name': 'Tajik'}, {'language': 'ta', 'name': 'Tamil'}, {'language': 'tt', 'name': 'Tatar'}, {'language': 'te', 'name': 'Telugu'}, {'language': 'th', 'name': 'Thai'}, {'language': 'tr', 'name': 'Turkish'}, {'language': 'tk', 'name': 'Turkmen'}, {'language': 'uk', 'name': 'Ukrainian'}, {'language': 'ur', 'name': 'Urdu'}, {'language': 'ug', 'name': 'Uyghur'}, {'language': 'uz', 'name': 'Uzbek'}, {'language': 'vi', 'name': 'Vietnamese'}, {'language': 'cy', 'name': 'Welsh'}, {'language': 'xh', 'name': 'Xhosa'}, {'language': 'yi', 'name': 'Yiddish'}, {'language': 'yo', 'name': 'Yoruba'}, {'language': 'zu', 'name': 'Zulu'}, {'language': 'he', 'name': 'Hebrew'}, {'language': 'zh', 'name': 'Chinese (Simplified)'}]\n"
     ]
    }
   ],
   "source": [
    "# see all languages that Google can translate\n",
    "print(translate_client.get_languages())"
   ]
  },
  {
   "cell_type": "code",
   "execution_count": 32,
   "metadata": {
    "ExecuteTime": {
     "end_time": "2021-04-04T18:02:38.357132Z",
     "start_time": "2021-04-04T18:02:38.354121Z"
    }
   },
   "outputs": [],
   "source": [
    "# separate non-English tweets for faster translating\n",
    "part_df = df2.loc[16100:]\n",
    "# part_df.language.value_counts(normalize= True)"
   ]
  },
  {
   "cell_type": "code",
   "execution_count": 33,
   "metadata": {
    "ExecuteTime": {
     "end_time": "2021-04-04T18:04:20.838159Z",
     "start_time": "2021-04-04T18:02:38.359241Z"
    }
   },
   "outputs": [],
   "source": [
    "# create dictionary to save original tweet and translated one\n",
    "results = {}\n",
    "\n",
    "# translate tweets into English\n",
    "for i in part_df.tweets.loc[:]:\n",
    "    result = translate_client.translate(i, target_language= 'en')\n",
    "    results[i] = result['translatedText']"
   ]
  },
  {
   "cell_type": "code",
   "execution_count": 34,
   "metadata": {
    "ExecuteTime": {
     "end_time": "2021-04-04T18:04:21.855318Z",
     "start_time": "2021-04-04T18:04:20.841714Z"
    }
   },
   "outputs": [],
   "source": [
    "# replace with English translation\n",
    "df2.tweets.replace(results, inplace= True)"
   ]
  },
  {
   "cell_type": "code",
   "execution_count": 35,
   "metadata": {
    "ExecuteTime": {
     "end_time": "2021-04-04T18:04:21.867167Z",
     "start_time": "2021-04-04T18:04:21.857486Z"
    }
   },
   "outputs": [
    {
     "data": {
      "text/html": [
       "<div>\n",
       "<style scoped>\n",
       "    .dataframe tbody tr th:only-of-type {\n",
       "        vertical-align: middle;\n",
       "    }\n",
       "\n",
       "    .dataframe tbody tr th {\n",
       "        vertical-align: top;\n",
       "    }\n",
       "\n",
       "    .dataframe thead th {\n",
       "        text-align: right;\n",
       "    }\n",
       "</style>\n",
       "<table border=\"1\" class=\"dataframe\">\n",
       "  <thead>\n",
       "    <tr style=\"text-align: right;\">\n",
       "      <th></th>\n",
       "      <th>time</th>\n",
       "      <th>tweets</th>\n",
       "      <th>language</th>\n",
       "    </tr>\n",
       "  </thead>\n",
       "  <tbody>\n",
       "    <tr>\n",
       "      <th>18200</th>\n",
       "      <td>2021-04-01</td>\n",
       "      <td>@ BenoitG70293865 @francoislegault Haha! This guy is my spiritual animal 🤣 No, but do you have to be thick to ask a vaccinated guy if he&amp;#39;s afraid of the Covid?</td>\n",
       "      <td>French</td>\n",
       "    </tr>\n",
       "    <tr>\n",
       "      <th>18201</th>\n",
       "      <td>2021-04-01</td>\n",
       "      <td>So my father, who has been fighting multiple sclerosis for over 10 years now, must be vaccinated against covid on the pretext that he is a person at risk ?? A PERSON AT RISK ???? It&amp;#39;s not like he got this damn disease from a FUCKING VACCINE !!</td>\n",
       "      <td>French</td>\n",
       "    </tr>\n",
       "    <tr>\n",
       "      <th>18202</th>\n",
       "      <td>2021-04-01</td>\n",
       "      <td>@ Latnaille77 They are quite right! Had he had a serological check before his vaccination! Perhaps he had already had an asymptomatic form of covid and was immune. We do not vaccinate in this case. But hey, since everything is done in spite of common sense, how many victims to deplore 😪</td>\n",
       "      <td>French</td>\n",
       "    </tr>\n",
       "    <tr>\n",
       "      <th>18203</th>\n",
       "      <td>2021-04-01</td>\n",
       "      <td>@ Digitalchaos8 @ Poulin2012 My neighbor duly vaccinated in the 1st serious Covid ...</td>\n",
       "      <td>French</td>\n",
       "    </tr>\n",
       "    <tr>\n",
       "      <th>18204</th>\n",
       "      <td>2021-04-01</td>\n",
       "      <td>Gold D Roger is said to have actually died after being vaccinated against Covid-19. https://t.co/OvoulfUryJ</td>\n",
       "      <td>French</td>\n",
       "    </tr>\n",
       "    <tr>\n",
       "      <th>...</th>\n",
       "      <td>...</td>\n",
       "      <td>...</td>\n",
       "      <td>...</td>\n",
       "    </tr>\n",
       "    <tr>\n",
       "      <th>18425</th>\n",
       "      <td>2021-04-04</td>\n",
       "      <td>@LeHuffPost Do you have measles? Yes, but I&amp;#39;m vaccinated against covid so it&amp;#39;s okay.</td>\n",
       "      <td>French</td>\n",
       "    </tr>\n",
       "    <tr>\n",
       "      <th>18426</th>\n",
       "      <td>2021-04-04</td>\n",
       "      <td>@MontsarratJ @BFMTV But when you vaccinate you could be in asymptomatic incubation .. you tell me about people who we know are covid + and there yes it takes 3 months before vaccinated .... the probability of being vaccinated and in incubation and minimal</td>\n",
       "      <td>French</td>\n",
       "    </tr>\n",
       "    <tr>\n",
       "      <th>18427</th>\n",
       "      <td>2021-04-04</td>\n",
       "      <td>@CampagnolTVL but why was he vaccinated? I thought that having had the covid exempted from the vaccination because of the antibodies?</td>\n",
       "      <td>French</td>\n",
       "    </tr>\n",
       "    <tr>\n",
       "      <th>18428</th>\n",
       "      <td>2021-04-04</td>\n",
       "      <td>Nice Russian vaccine that @cestrosi And @MLP_officiel want to inoculate us. Once again a good pick for the geniuses of the far right. BFMTV: Vaccinated with Sputnik V, the Argentine president tested positive for Covid-19. https://t.co/k7wcFyaxTP</td>\n",
       "      <td>French</td>\n",
       "    </tr>\n",
       "    <tr>\n",
       "      <th>18429</th>\n",
       "      <td>2021-04-04</td>\n",
       "      <td>Vaccinated with Sputnik V, the Argentine president tested positive for Covid-19 https://t.co/vltbcRz76p</td>\n",
       "      <td>French</td>\n",
       "    </tr>\n",
       "  </tbody>\n",
       "</table>\n",
       "<p>230 rows × 3 columns</p>\n",
       "</div>"
      ],
      "text/plain": [
       "             time  \\\n",
       "18200  2021-04-01   \n",
       "18201  2021-04-01   \n",
       "18202  2021-04-01   \n",
       "18203  2021-04-01   \n",
       "18204  2021-04-01   \n",
       "...           ...   \n",
       "18425  2021-04-04   \n",
       "18426  2021-04-04   \n",
       "18427  2021-04-04   \n",
       "18428  2021-04-04   \n",
       "18429  2021-04-04   \n",
       "\n",
       "                                                                                                                                                                                                                                                                                                tweets  \\\n",
       "18200                                                                                                                              @ BenoitG70293865 @francoislegault Haha! This guy is my spiritual animal 🤣 No, but do you have to be thick to ask a vaccinated guy if he&#39;s afraid of the Covid?   \n",
       "18201                                          So my father, who has been fighting multiple sclerosis for over 10 years now, must be vaccinated against covid on the pretext that he is a person at risk ?? A PERSON AT RISK ???? It&#39;s not like he got this damn disease from a FUCKING VACCINE !!   \n",
       "18202  @ Latnaille77 They are quite right! Had he had a serological check before his vaccination! Perhaps he had already had an asymptomatic form of covid and was immune. We do not vaccinate in this case. But hey, since everything is done in spite of common sense, how many victims to deplore 😪   \n",
       "18203                                                                                                                                                                                                            @ Digitalchaos8 @ Poulin2012 My neighbor duly vaccinated in the 1st serious Covid ...   \n",
       "18204                                                                                                                                                                                      Gold D Roger is said to have actually died after being vaccinated against Covid-19. https://t.co/OvoulfUryJ   \n",
       "...                                                                                                                                                                                                                                                                                                ...   \n",
       "18425                                                                                                                                                                                                     @LeHuffPost Do you have measles? Yes, but I&#39;m vaccinated against covid so it&#39;s okay.   \n",
       "18426                                  @MontsarratJ @BFMTV But when you vaccinate you could be in asymptomatic incubation .. you tell me about people who we know are covid + and there yes it takes 3 months before vaccinated .... the probability of being vaccinated and in incubation and minimal   \n",
       "18427                                                                                                                                                            @CampagnolTVL but why was he vaccinated? I thought that having had the covid exempted from the vaccination because of the antibodies?   \n",
       "18428                                            Nice Russian vaccine that @cestrosi And @MLP_officiel want to inoculate us. Once again a good pick for the geniuses of the far right. BFMTV: Vaccinated with Sputnik V, the Argentine president tested positive for Covid-19. https://t.co/k7wcFyaxTP   \n",
       "18429                                                                                                                                                                                          Vaccinated with Sputnik V, the Argentine president tested positive for Covid-19 https://t.co/vltbcRz76p   \n",
       "\n",
       "      language  \n",
       "18200   French  \n",
       "18201   French  \n",
       "18202   French  \n",
       "18203   French  \n",
       "18204   French  \n",
       "...        ...  \n",
       "18425   French  \n",
       "18426   French  \n",
       "18427   French  \n",
       "18428   French  \n",
       "18429   French  \n",
       "\n",
       "[230 rows x 3 columns]"
      ]
     },
     "execution_count": 35,
     "metadata": {},
     "output_type": "execute_result"
    }
   ],
   "source": [
    "# preview previously French Tweets\n",
    "df2[df2['language'] == 'French']"
   ]
  },
  {
   "cell_type": "code",
   "execution_count": 36,
   "metadata": {
    "ExecuteTime": {
     "end_time": "2021-04-04T18:04:21.977407Z",
     "start_time": "2021-04-04T18:04:21.868667Z"
    }
   },
   "outputs": [],
   "source": [
    "# save to csv file\n",
    "df2.to_csv('data/tweets_translated.csv', index= False)"
   ]
  },
  {
   "cell_type": "markdown",
   "metadata": {},
   "source": [
    "## Text Sentiment\n",
    "---\n",
    "Does the tweet have a positive, negative, or neutral tone?"
   ]
  },
  {
   "cell_type": "markdown",
   "metadata": {},
   "source": [
    "### Feature Engineering for Text Data\n",
    "--- \n",
    "stopword removal\n",
    "frequency distributions\n",
    "lemmatization\n",
    "bigramsm n-grams, and mutal information score"
   ]
  },
  {
   "cell_type": "code",
   "execution_count": 37,
   "metadata": {
    "ExecuteTime": {
     "end_time": "2021-04-04T18:04:21.982578Z",
     "start_time": "2021-04-04T18:04:21.979234Z"
    }
   },
   "outputs": [],
   "source": [
    "sentiment_df = df2[['time', 'tweets']]"
   ]
  },
  {
   "cell_type": "code",
   "execution_count": 38,
   "metadata": {
    "ExecuteTime": {
     "end_time": "2021-04-04T18:04:21.990409Z",
     "start_time": "2021-04-04T18:04:21.984219Z"
    },
    "scrolled": true
   },
   "outputs": [
    {
     "data": {
      "text/html": [
       "<div>\n",
       "<style scoped>\n",
       "    .dataframe tbody tr th:only-of-type {\n",
       "        vertical-align: middle;\n",
       "    }\n",
       "\n",
       "    .dataframe tbody tr th {\n",
       "        vertical-align: top;\n",
       "    }\n",
       "\n",
       "    .dataframe thead th {\n",
       "        text-align: right;\n",
       "    }\n",
       "</style>\n",
       "<table border=\"1\" class=\"dataframe\">\n",
       "  <thead>\n",
       "    <tr style=\"text-align: right;\">\n",
       "      <th></th>\n",
       "      <th>time</th>\n",
       "      <th>tweets</th>\n",
       "    </tr>\n",
       "  </thead>\n",
       "  <tbody>\n",
       "    <tr>\n",
       "      <th>0</th>\n",
       "      <td>2021-04-01</td>\n",
       "      <td>Concerning the use of aborted baby tissue in the J&amp;amp;J Covid vaccine:\\n\\n“The J&amp;amp;J vaccine has sparked debate among some religious communities because it was developed from stem cells obtained during two abortions decades ago.”\\n\\nEvil is still evil, even if it was decades ago.</td>\n",
       "    </tr>\n",
       "    <tr>\n",
       "      <th>1</th>\n",
       "      <td>2021-04-01</td>\n",
       "      <td>imagine an animal getting the covid-19 vaccine b4 a human</td>\n",
       "    </tr>\n",
       "    <tr>\n",
       "      <th>2</th>\n",
       "      <td>2021-04-01</td>\n",
       "      <td>Definition of a microstate: https://t.co/8N0R8Mhl73\\n\\nSource of vaccine data: https://t.co/0RQFJPTrZZ</td>\n",
       "    </tr>\n",
       "    <tr>\n",
       "      <th>3</th>\n",
       "      <td>2021-04-01</td>\n",
       "      <td>If I’ve Had COVID-19, Do I Still Need Two Doses of Vaccine? https://t.co/08AiBgfEHQ</td>\n",
       "    </tr>\n",
       "    <tr>\n",
       "      <th>4</th>\n",
       "      <td>2021-04-01</td>\n",
       "      <td>My epidural was delayed again, somehow my covid vaccine does not interact well with an epidural. SOOOOO I should be getting it on my birthday. Yay. \\n\\n So far I have 1-2 dr appointments a week this entire month.\\n  \\nOn the upside they've given me proper muscle relaxers this time.</td>\n",
       "    </tr>\n",
       "  </tbody>\n",
       "</table>\n",
       "</div>"
      ],
      "text/plain": [
       "         time  \\\n",
       "0  2021-04-01   \n",
       "1  2021-04-01   \n",
       "2  2021-04-01   \n",
       "3  2021-04-01   \n",
       "4  2021-04-01   \n",
       "\n",
       "                                                                                                                                                                                                                                                                                        tweets  \n",
       "0  Concerning the use of aborted baby tissue in the J&amp;J Covid vaccine:\\n\\n“The J&amp;J vaccine has sparked debate among some religious communities because it was developed from stem cells obtained during two abortions decades ago.”\\n\\nEvil is still evil, even if it was decades ago.  \n",
       "1                                                                                                                                                                                                                                    imagine an animal getting the covid-19 vaccine b4 a human  \n",
       "2                                                                                                                                                                                       Definition of a microstate: https://t.co/8N0R8Mhl73\\n\\nSource of vaccine data: https://t.co/0RQFJPTrZZ  \n",
       "3                                                                                                                                                                                                          If I’ve Had COVID-19, Do I Still Need Two Doses of Vaccine? https://t.co/08AiBgfEHQ  \n",
       "4   My epidural was delayed again, somehow my covid vaccine does not interact well with an epidural. SOOOOO I should be getting it on my birthday. Yay. \\n\\n So far I have 1-2 dr appointments a week this entire month.\\n  \\nOn the upside they've given me proper muscle relaxers this time.  "
      ]
     },
     "execution_count": 38,
     "metadata": {},
     "output_type": "execute_result"
    }
   ],
   "source": [
    "sentiment_df.head()"
   ]
  },
  {
   "cell_type": "code",
   "execution_count": null,
   "metadata": {},
   "outputs": [],
   "source": [
    "# remove amp; and @ and https then run through Google NLP"
   ]
  },
  {
   "cell_type": "markdown",
   "metadata": {},
   "source": [
    "### Google Cloud Platform Natural Language Processing"
   ]
  },
  {
   "cell_type": "code",
   "execution_count": null,
   "metadata": {},
   "outputs": [],
   "source": [
    "nlp_client = language.Client(credentials = credentials)"
   ]
  },
  {
   "cell_type": "code",
   "execution_count": null,
   "metadata": {},
   "outputs": [],
   "source": []
  },
  {
   "cell_type": "code",
   "execution_count": null,
   "metadata": {},
   "outputs": [],
   "source": []
  },
  {
   "cell_type": "code",
   "execution_count": 39,
   "metadata": {
    "ExecuteTime": {
     "end_time": "2021-04-04T18:04:21.994905Z",
     "start_time": "2021-04-04T18:04:21.992365Z"
    }
   },
   "outputs": [],
   "source": [
    "# convert text to lowercase and remove stopwords\n",
    "def process_tweets(tweet):\n",
    "    tokens = nltk.word_tokenize(tweet)\n",
    "    stopwords_removed = [token.lower() for token in tokens if token.lower() not in stopwords_list]\n",
    "    return stopwords_removed"
   ]
  },
  {
   "cell_type": "code",
   "execution_count": 40,
   "metadata": {
    "ExecuteTime": {
     "end_time": "2021-04-04T18:04:21.998264Z",
     "start_time": "2021-04-04T18:04:21.996575Z"
    }
   },
   "outputs": [],
   "source": [
    "# import nltk\n",
    "# nltk.download('punkt')"
   ]
  },
  {
   "cell_type": "code",
   "execution_count": 41,
   "metadata": {
    "ExecuteTime": {
     "end_time": "2021-04-04T18:04:22.302267Z",
     "start_time": "2021-04-04T18:04:22.000559Z"
    }
   },
   "outputs": [
    {
     "ename": "TypeError",
     "evalue": "expected string or bytes-like object",
     "output_type": "error",
     "traceback": [
      "\u001b[0;31m---------------------------------------------------------------------------\u001b[0m",
      "\u001b[0;31mTypeError\u001b[0m                                 Traceback (most recent call last)",
      "\u001b[0;32m<ipython-input-41-636690cbbf12>\u001b[0m in \u001b[0;36m<module>\u001b[0;34m\u001b[0m\n\u001b[0;32m----> 1\u001b[0;31m \u001b[0msentiment_df\u001b[0m \u001b[0;34m=\u001b[0m \u001b[0msentiment_df\u001b[0m\u001b[0;34m.\u001b[0m\u001b[0mapply\u001b[0m\u001b[0;34m(\u001b[0m\u001b[0;32mlambda\u001b[0m \u001b[0mx\u001b[0m\u001b[0;34m:\u001b[0m \u001b[0mprocess_tweets\u001b[0m\u001b[0;34m(\u001b[0m\u001b[0mx\u001b[0m\u001b[0;34m)\u001b[0m \u001b[0;32mif\u001b[0m \u001b[0mx\u001b[0m\u001b[0;34m.\u001b[0m\u001b[0mname\u001b[0m \u001b[0;34m==\u001b[0m \u001b[0;34m'tweets'\u001b[0m \u001b[0;32melse\u001b[0m \u001b[0mx\u001b[0m\u001b[0;34m)\u001b[0m\u001b[0;34m\u001b[0m\u001b[0;34m\u001b[0m\u001b[0m\n\u001b[0m",
      "\u001b[0;32m~/opt/anaconda3/envs/learn-env/lib/python3.8/site-packages/pandas/core/frame.py\u001b[0m in \u001b[0;36mapply\u001b[0;34m(self, func, axis, raw, result_type, args, **kwds)\u001b[0m\n\u001b[1;32m   7766\u001b[0m             \u001b[0mkwds\u001b[0m\u001b[0;34m=\u001b[0m\u001b[0mkwds\u001b[0m\u001b[0;34m,\u001b[0m\u001b[0;34m\u001b[0m\u001b[0;34m\u001b[0m\u001b[0m\n\u001b[1;32m   7767\u001b[0m         )\n\u001b[0;32m-> 7768\u001b[0;31m         \u001b[0;32mreturn\u001b[0m \u001b[0mop\u001b[0m\u001b[0;34m.\u001b[0m\u001b[0mget_result\u001b[0m\u001b[0;34m(\u001b[0m\u001b[0;34m)\u001b[0m\u001b[0;34m\u001b[0m\u001b[0;34m\u001b[0m\u001b[0m\n\u001b[0m\u001b[1;32m   7769\u001b[0m \u001b[0;34m\u001b[0m\u001b[0m\n\u001b[1;32m   7770\u001b[0m     \u001b[0;32mdef\u001b[0m \u001b[0mapplymap\u001b[0m\u001b[0;34m(\u001b[0m\u001b[0mself\u001b[0m\u001b[0;34m,\u001b[0m \u001b[0mfunc\u001b[0m\u001b[0;34m,\u001b[0m \u001b[0mna_action\u001b[0m\u001b[0;34m:\u001b[0m \u001b[0mOptional\u001b[0m\u001b[0;34m[\u001b[0m\u001b[0mstr\u001b[0m\u001b[0;34m]\u001b[0m \u001b[0;34m=\u001b[0m \u001b[0;32mNone\u001b[0m\u001b[0;34m)\u001b[0m \u001b[0;34m->\u001b[0m \u001b[0mDataFrame\u001b[0m\u001b[0;34m:\u001b[0m\u001b[0;34m\u001b[0m\u001b[0;34m\u001b[0m\u001b[0m\n",
      "\u001b[0;32m~/opt/anaconda3/envs/learn-env/lib/python3.8/site-packages/pandas/core/apply.py\u001b[0m in \u001b[0;36mget_result\u001b[0;34m(self)\u001b[0m\n\u001b[1;32m    183\u001b[0m             \u001b[0;32mreturn\u001b[0m \u001b[0mself\u001b[0m\u001b[0;34m.\u001b[0m\u001b[0mapply_raw\u001b[0m\u001b[0;34m(\u001b[0m\u001b[0;34m)\u001b[0m\u001b[0;34m\u001b[0m\u001b[0;34m\u001b[0m\u001b[0m\n\u001b[1;32m    184\u001b[0m \u001b[0;34m\u001b[0m\u001b[0m\n\u001b[0;32m--> 185\u001b[0;31m         \u001b[0;32mreturn\u001b[0m \u001b[0mself\u001b[0m\u001b[0;34m.\u001b[0m\u001b[0mapply_standard\u001b[0m\u001b[0;34m(\u001b[0m\u001b[0;34m)\u001b[0m\u001b[0;34m\u001b[0m\u001b[0;34m\u001b[0m\u001b[0m\n\u001b[0m\u001b[1;32m    186\u001b[0m \u001b[0;34m\u001b[0m\u001b[0m\n\u001b[1;32m    187\u001b[0m     \u001b[0;32mdef\u001b[0m \u001b[0mapply_empty_result\u001b[0m\u001b[0;34m(\u001b[0m\u001b[0mself\u001b[0m\u001b[0;34m)\u001b[0m\u001b[0;34m:\u001b[0m\u001b[0;34m\u001b[0m\u001b[0;34m\u001b[0m\u001b[0m\n",
      "\u001b[0;32m~/opt/anaconda3/envs/learn-env/lib/python3.8/site-packages/pandas/core/apply.py\u001b[0m in \u001b[0;36mapply_standard\u001b[0;34m(self)\u001b[0m\n\u001b[1;32m    274\u001b[0m \u001b[0;34m\u001b[0m\u001b[0m\n\u001b[1;32m    275\u001b[0m     \u001b[0;32mdef\u001b[0m \u001b[0mapply_standard\u001b[0m\u001b[0;34m(\u001b[0m\u001b[0mself\u001b[0m\u001b[0;34m)\u001b[0m\u001b[0;34m:\u001b[0m\u001b[0;34m\u001b[0m\u001b[0;34m\u001b[0m\u001b[0m\n\u001b[0;32m--> 276\u001b[0;31m         \u001b[0mresults\u001b[0m\u001b[0;34m,\u001b[0m \u001b[0mres_index\u001b[0m \u001b[0;34m=\u001b[0m \u001b[0mself\u001b[0m\u001b[0;34m.\u001b[0m\u001b[0mapply_series_generator\u001b[0m\u001b[0;34m(\u001b[0m\u001b[0;34m)\u001b[0m\u001b[0;34m\u001b[0m\u001b[0;34m\u001b[0m\u001b[0m\n\u001b[0m\u001b[1;32m    277\u001b[0m \u001b[0;34m\u001b[0m\u001b[0m\n\u001b[1;32m    278\u001b[0m         \u001b[0;31m# wrap results\u001b[0m\u001b[0;34m\u001b[0m\u001b[0;34m\u001b[0m\u001b[0;34m\u001b[0m\u001b[0m\n",
      "\u001b[0;32m~/opt/anaconda3/envs/learn-env/lib/python3.8/site-packages/pandas/core/apply.py\u001b[0m in \u001b[0;36mapply_series_generator\u001b[0;34m(self)\u001b[0m\n\u001b[1;32m    288\u001b[0m             \u001b[0;32mfor\u001b[0m \u001b[0mi\u001b[0m\u001b[0;34m,\u001b[0m \u001b[0mv\u001b[0m \u001b[0;32min\u001b[0m \u001b[0menumerate\u001b[0m\u001b[0;34m(\u001b[0m\u001b[0mseries_gen\u001b[0m\u001b[0;34m)\u001b[0m\u001b[0;34m:\u001b[0m\u001b[0;34m\u001b[0m\u001b[0;34m\u001b[0m\u001b[0m\n\u001b[1;32m    289\u001b[0m                 \u001b[0;31m# ignore SettingWithCopy here in case the user mutates\u001b[0m\u001b[0;34m\u001b[0m\u001b[0;34m\u001b[0m\u001b[0;34m\u001b[0m\u001b[0m\n\u001b[0;32m--> 290\u001b[0;31m                 \u001b[0mresults\u001b[0m\u001b[0;34m[\u001b[0m\u001b[0mi\u001b[0m\u001b[0;34m]\u001b[0m \u001b[0;34m=\u001b[0m \u001b[0mself\u001b[0m\u001b[0;34m.\u001b[0m\u001b[0mf\u001b[0m\u001b[0;34m(\u001b[0m\u001b[0mv\u001b[0m\u001b[0;34m)\u001b[0m\u001b[0;34m\u001b[0m\u001b[0;34m\u001b[0m\u001b[0m\n\u001b[0m\u001b[1;32m    291\u001b[0m                 \u001b[0;32mif\u001b[0m \u001b[0misinstance\u001b[0m\u001b[0;34m(\u001b[0m\u001b[0mresults\u001b[0m\u001b[0;34m[\u001b[0m\u001b[0mi\u001b[0m\u001b[0;34m]\u001b[0m\u001b[0;34m,\u001b[0m \u001b[0mABCSeries\u001b[0m\u001b[0;34m)\u001b[0m\u001b[0;34m:\u001b[0m\u001b[0;34m\u001b[0m\u001b[0;34m\u001b[0m\u001b[0m\n\u001b[1;32m    292\u001b[0m                     \u001b[0;31m# If we have a view on v, we need to make a copy because\u001b[0m\u001b[0;34m\u001b[0m\u001b[0;34m\u001b[0m\u001b[0;34m\u001b[0m\u001b[0m\n",
      "\u001b[0;32m<ipython-input-41-636690cbbf12>\u001b[0m in \u001b[0;36m<lambda>\u001b[0;34m(x)\u001b[0m\n\u001b[0;32m----> 1\u001b[0;31m \u001b[0msentiment_df\u001b[0m \u001b[0;34m=\u001b[0m \u001b[0msentiment_df\u001b[0m\u001b[0;34m.\u001b[0m\u001b[0mapply\u001b[0m\u001b[0;34m(\u001b[0m\u001b[0;32mlambda\u001b[0m \u001b[0mx\u001b[0m\u001b[0;34m:\u001b[0m \u001b[0mprocess_tweets\u001b[0m\u001b[0;34m(\u001b[0m\u001b[0mx\u001b[0m\u001b[0;34m)\u001b[0m \u001b[0;32mif\u001b[0m \u001b[0mx\u001b[0m\u001b[0;34m.\u001b[0m\u001b[0mname\u001b[0m \u001b[0;34m==\u001b[0m \u001b[0;34m'tweets'\u001b[0m \u001b[0;32melse\u001b[0m \u001b[0mx\u001b[0m\u001b[0;34m)\u001b[0m\u001b[0;34m\u001b[0m\u001b[0;34m\u001b[0m\u001b[0m\n\u001b[0m",
      "\u001b[0;32m<ipython-input-39-62e4acaae707>\u001b[0m in \u001b[0;36mprocess_tweets\u001b[0;34m(tweet)\u001b[0m\n\u001b[1;32m      1\u001b[0m \u001b[0;31m# convert text to lowercase and remove stopwords\u001b[0m\u001b[0;34m\u001b[0m\u001b[0;34m\u001b[0m\u001b[0;34m\u001b[0m\u001b[0m\n\u001b[1;32m      2\u001b[0m \u001b[0;32mdef\u001b[0m \u001b[0mprocess_tweets\u001b[0m\u001b[0;34m(\u001b[0m\u001b[0mtweet\u001b[0m\u001b[0;34m)\u001b[0m\u001b[0;34m:\u001b[0m\u001b[0;34m\u001b[0m\u001b[0;34m\u001b[0m\u001b[0m\n\u001b[0;32m----> 3\u001b[0;31m     \u001b[0mtokens\u001b[0m \u001b[0;34m=\u001b[0m \u001b[0mnltk\u001b[0m\u001b[0;34m.\u001b[0m\u001b[0mword_tokenize\u001b[0m\u001b[0;34m(\u001b[0m\u001b[0mtweet\u001b[0m\u001b[0;34m)\u001b[0m\u001b[0;34m\u001b[0m\u001b[0;34m\u001b[0m\u001b[0m\n\u001b[0m\u001b[1;32m      4\u001b[0m     \u001b[0mstopwords_removed\u001b[0m \u001b[0;34m=\u001b[0m \u001b[0;34m[\u001b[0m\u001b[0mtoken\u001b[0m\u001b[0;34m.\u001b[0m\u001b[0mlower\u001b[0m\u001b[0;34m(\u001b[0m\u001b[0;34m)\u001b[0m \u001b[0;32mfor\u001b[0m \u001b[0mtoken\u001b[0m \u001b[0;32min\u001b[0m \u001b[0mtokens\u001b[0m \u001b[0;32mif\u001b[0m \u001b[0mtoken\u001b[0m\u001b[0;34m.\u001b[0m\u001b[0mlower\u001b[0m\u001b[0;34m(\u001b[0m\u001b[0;34m)\u001b[0m \u001b[0;32mnot\u001b[0m \u001b[0;32min\u001b[0m \u001b[0mstopwords_list\u001b[0m\u001b[0;34m]\u001b[0m\u001b[0;34m\u001b[0m\u001b[0;34m\u001b[0m\u001b[0m\n\u001b[1;32m      5\u001b[0m     \u001b[0;32mreturn\u001b[0m \u001b[0mstopwords_removed\u001b[0m\u001b[0;34m\u001b[0m\u001b[0;34m\u001b[0m\u001b[0m\n",
      "\u001b[0;32m~/opt/anaconda3/envs/learn-env/lib/python3.8/site-packages/nltk/tokenize/__init__.py\u001b[0m in \u001b[0;36mword_tokenize\u001b[0;34m(text, language, preserve_line)\u001b[0m\n\u001b[1;32m    127\u001b[0m     \u001b[0;34m:\u001b[0m\u001b[0mtype\u001b[0m \u001b[0mpreserve_line\u001b[0m\u001b[0;34m:\u001b[0m \u001b[0mbool\u001b[0m\u001b[0;34m\u001b[0m\u001b[0;34m\u001b[0m\u001b[0m\n\u001b[1;32m    128\u001b[0m     \"\"\"\n\u001b[0;32m--> 129\u001b[0;31m     \u001b[0msentences\u001b[0m \u001b[0;34m=\u001b[0m \u001b[0;34m[\u001b[0m\u001b[0mtext\u001b[0m\u001b[0;34m]\u001b[0m \u001b[0;32mif\u001b[0m \u001b[0mpreserve_line\u001b[0m \u001b[0;32melse\u001b[0m \u001b[0msent_tokenize\u001b[0m\u001b[0;34m(\u001b[0m\u001b[0mtext\u001b[0m\u001b[0;34m,\u001b[0m \u001b[0mlanguage\u001b[0m\u001b[0;34m)\u001b[0m\u001b[0;34m\u001b[0m\u001b[0;34m\u001b[0m\u001b[0m\n\u001b[0m\u001b[1;32m    130\u001b[0m     return [\n\u001b[1;32m    131\u001b[0m         \u001b[0mtoken\u001b[0m \u001b[0;32mfor\u001b[0m \u001b[0msent\u001b[0m \u001b[0;32min\u001b[0m \u001b[0msentences\u001b[0m \u001b[0;32mfor\u001b[0m \u001b[0mtoken\u001b[0m \u001b[0;32min\u001b[0m \u001b[0m_treebank_word_tokenizer\u001b[0m\u001b[0;34m.\u001b[0m\u001b[0mtokenize\u001b[0m\u001b[0;34m(\u001b[0m\u001b[0msent\u001b[0m\u001b[0;34m)\u001b[0m\u001b[0;34m\u001b[0m\u001b[0;34m\u001b[0m\u001b[0m\n",
      "\u001b[0;32m~/opt/anaconda3/envs/learn-env/lib/python3.8/site-packages/nltk/tokenize/__init__.py\u001b[0m in \u001b[0;36msent_tokenize\u001b[0;34m(text, language)\u001b[0m\n\u001b[1;32m    105\u001b[0m     \"\"\"\n\u001b[1;32m    106\u001b[0m     \u001b[0mtokenizer\u001b[0m \u001b[0;34m=\u001b[0m \u001b[0mload\u001b[0m\u001b[0;34m(\u001b[0m\u001b[0;34m\"tokenizers/punkt/{0}.pickle\"\u001b[0m\u001b[0;34m.\u001b[0m\u001b[0mformat\u001b[0m\u001b[0;34m(\u001b[0m\u001b[0mlanguage\u001b[0m\u001b[0;34m)\u001b[0m\u001b[0;34m)\u001b[0m\u001b[0;34m\u001b[0m\u001b[0;34m\u001b[0m\u001b[0m\n\u001b[0;32m--> 107\u001b[0;31m     \u001b[0;32mreturn\u001b[0m \u001b[0mtokenizer\u001b[0m\u001b[0;34m.\u001b[0m\u001b[0mtokenize\u001b[0m\u001b[0;34m(\u001b[0m\u001b[0mtext\u001b[0m\u001b[0;34m)\u001b[0m\u001b[0;34m\u001b[0m\u001b[0;34m\u001b[0m\u001b[0m\n\u001b[0m\u001b[1;32m    108\u001b[0m \u001b[0;34m\u001b[0m\u001b[0m\n\u001b[1;32m    109\u001b[0m \u001b[0;34m\u001b[0m\u001b[0m\n",
      "\u001b[0;32m~/opt/anaconda3/envs/learn-env/lib/python3.8/site-packages/nltk/tokenize/punkt.py\u001b[0m in \u001b[0;36mtokenize\u001b[0;34m(self, text, realign_boundaries)\u001b[0m\n\u001b[1;32m   1270\u001b[0m         \u001b[0mGiven\u001b[0m \u001b[0ma\u001b[0m \u001b[0mtext\u001b[0m\u001b[0;34m,\u001b[0m \u001b[0mreturns\u001b[0m \u001b[0ma\u001b[0m \u001b[0mlist\u001b[0m \u001b[0mof\u001b[0m \u001b[0mthe\u001b[0m \u001b[0msentences\u001b[0m \u001b[0;32min\u001b[0m \u001b[0mthat\u001b[0m \u001b[0mtext\u001b[0m\u001b[0;34m.\u001b[0m\u001b[0;34m\u001b[0m\u001b[0;34m\u001b[0m\u001b[0m\n\u001b[1;32m   1271\u001b[0m         \"\"\"\n\u001b[0;32m-> 1272\u001b[0;31m         \u001b[0;32mreturn\u001b[0m \u001b[0mlist\u001b[0m\u001b[0;34m(\u001b[0m\u001b[0mself\u001b[0m\u001b[0;34m.\u001b[0m\u001b[0msentences_from_text\u001b[0m\u001b[0;34m(\u001b[0m\u001b[0mtext\u001b[0m\u001b[0;34m,\u001b[0m \u001b[0mrealign_boundaries\u001b[0m\u001b[0;34m)\u001b[0m\u001b[0;34m)\u001b[0m\u001b[0;34m\u001b[0m\u001b[0;34m\u001b[0m\u001b[0m\n\u001b[0m\u001b[1;32m   1273\u001b[0m \u001b[0;34m\u001b[0m\u001b[0m\n\u001b[1;32m   1274\u001b[0m     \u001b[0;32mdef\u001b[0m \u001b[0mdebug_decisions\u001b[0m\u001b[0;34m(\u001b[0m\u001b[0mself\u001b[0m\u001b[0;34m,\u001b[0m \u001b[0mtext\u001b[0m\u001b[0;34m)\u001b[0m\u001b[0;34m:\u001b[0m\u001b[0;34m\u001b[0m\u001b[0;34m\u001b[0m\u001b[0m\n",
      "\u001b[0;32m~/opt/anaconda3/envs/learn-env/lib/python3.8/site-packages/nltk/tokenize/punkt.py\u001b[0m in \u001b[0;36msentences_from_text\u001b[0;34m(self, text, realign_boundaries)\u001b[0m\n\u001b[1;32m   1324\u001b[0m         \u001b[0mfollows\u001b[0m \u001b[0mthe\u001b[0m \u001b[0mperiod\u001b[0m\u001b[0;34m.\u001b[0m\u001b[0;34m\u001b[0m\u001b[0;34m\u001b[0m\u001b[0m\n\u001b[1;32m   1325\u001b[0m         \"\"\"\n\u001b[0;32m-> 1326\u001b[0;31m         \u001b[0;32mreturn\u001b[0m \u001b[0;34m[\u001b[0m\u001b[0mtext\u001b[0m\u001b[0;34m[\u001b[0m\u001b[0ms\u001b[0m\u001b[0;34m:\u001b[0m\u001b[0me\u001b[0m\u001b[0;34m]\u001b[0m \u001b[0;32mfor\u001b[0m \u001b[0ms\u001b[0m\u001b[0;34m,\u001b[0m \u001b[0me\u001b[0m \u001b[0;32min\u001b[0m \u001b[0mself\u001b[0m\u001b[0;34m.\u001b[0m\u001b[0mspan_tokenize\u001b[0m\u001b[0;34m(\u001b[0m\u001b[0mtext\u001b[0m\u001b[0;34m,\u001b[0m \u001b[0mrealign_boundaries\u001b[0m\u001b[0;34m)\u001b[0m\u001b[0;34m]\u001b[0m\u001b[0;34m\u001b[0m\u001b[0;34m\u001b[0m\u001b[0m\n\u001b[0m\u001b[1;32m   1327\u001b[0m \u001b[0;34m\u001b[0m\u001b[0m\n\u001b[1;32m   1328\u001b[0m     \u001b[0;32mdef\u001b[0m \u001b[0m_slices_from_text\u001b[0m\u001b[0;34m(\u001b[0m\u001b[0mself\u001b[0m\u001b[0;34m,\u001b[0m \u001b[0mtext\u001b[0m\u001b[0;34m)\u001b[0m\u001b[0;34m:\u001b[0m\u001b[0;34m\u001b[0m\u001b[0;34m\u001b[0m\u001b[0m\n",
      "\u001b[0;32m~/opt/anaconda3/envs/learn-env/lib/python3.8/site-packages/nltk/tokenize/punkt.py\u001b[0m in \u001b[0;36m<listcomp>\u001b[0;34m(.0)\u001b[0m\n\u001b[1;32m   1324\u001b[0m         \u001b[0mfollows\u001b[0m \u001b[0mthe\u001b[0m \u001b[0mperiod\u001b[0m\u001b[0;34m.\u001b[0m\u001b[0;34m\u001b[0m\u001b[0;34m\u001b[0m\u001b[0m\n\u001b[1;32m   1325\u001b[0m         \"\"\"\n\u001b[0;32m-> 1326\u001b[0;31m         \u001b[0;32mreturn\u001b[0m \u001b[0;34m[\u001b[0m\u001b[0mtext\u001b[0m\u001b[0;34m[\u001b[0m\u001b[0ms\u001b[0m\u001b[0;34m:\u001b[0m\u001b[0me\u001b[0m\u001b[0;34m]\u001b[0m \u001b[0;32mfor\u001b[0m \u001b[0ms\u001b[0m\u001b[0;34m,\u001b[0m \u001b[0me\u001b[0m \u001b[0;32min\u001b[0m \u001b[0mself\u001b[0m\u001b[0;34m.\u001b[0m\u001b[0mspan_tokenize\u001b[0m\u001b[0;34m(\u001b[0m\u001b[0mtext\u001b[0m\u001b[0;34m,\u001b[0m \u001b[0mrealign_boundaries\u001b[0m\u001b[0;34m)\u001b[0m\u001b[0;34m]\u001b[0m\u001b[0;34m\u001b[0m\u001b[0;34m\u001b[0m\u001b[0m\n\u001b[0m\u001b[1;32m   1327\u001b[0m \u001b[0;34m\u001b[0m\u001b[0m\n\u001b[1;32m   1328\u001b[0m     \u001b[0;32mdef\u001b[0m \u001b[0m_slices_from_text\u001b[0m\u001b[0;34m(\u001b[0m\u001b[0mself\u001b[0m\u001b[0;34m,\u001b[0m \u001b[0mtext\u001b[0m\u001b[0;34m)\u001b[0m\u001b[0;34m:\u001b[0m\u001b[0;34m\u001b[0m\u001b[0;34m\u001b[0m\u001b[0m\n",
      "\u001b[0;32m~/opt/anaconda3/envs/learn-env/lib/python3.8/site-packages/nltk/tokenize/punkt.py\u001b[0m in \u001b[0;36mspan_tokenize\u001b[0;34m(self, text, realign_boundaries)\u001b[0m\n\u001b[1;32m   1314\u001b[0m         \u001b[0;32mif\u001b[0m \u001b[0mrealign_boundaries\u001b[0m\u001b[0;34m:\u001b[0m\u001b[0;34m\u001b[0m\u001b[0;34m\u001b[0m\u001b[0m\n\u001b[1;32m   1315\u001b[0m             \u001b[0mslices\u001b[0m \u001b[0;34m=\u001b[0m \u001b[0mself\u001b[0m\u001b[0;34m.\u001b[0m\u001b[0m_realign_boundaries\u001b[0m\u001b[0;34m(\u001b[0m\u001b[0mtext\u001b[0m\u001b[0;34m,\u001b[0m \u001b[0mslices\u001b[0m\u001b[0;34m)\u001b[0m\u001b[0;34m\u001b[0m\u001b[0;34m\u001b[0m\u001b[0m\n\u001b[0;32m-> 1316\u001b[0;31m         \u001b[0;32mfor\u001b[0m \u001b[0msl\u001b[0m \u001b[0;32min\u001b[0m \u001b[0mslices\u001b[0m\u001b[0;34m:\u001b[0m\u001b[0;34m\u001b[0m\u001b[0;34m\u001b[0m\u001b[0m\n\u001b[0m\u001b[1;32m   1317\u001b[0m             \u001b[0;32myield\u001b[0m \u001b[0;34m(\u001b[0m\u001b[0msl\u001b[0m\u001b[0;34m.\u001b[0m\u001b[0mstart\u001b[0m\u001b[0;34m,\u001b[0m \u001b[0msl\u001b[0m\u001b[0;34m.\u001b[0m\u001b[0mstop\u001b[0m\u001b[0;34m)\u001b[0m\u001b[0;34m\u001b[0m\u001b[0;34m\u001b[0m\u001b[0m\n\u001b[1;32m   1318\u001b[0m \u001b[0;34m\u001b[0m\u001b[0m\n",
      "\u001b[0;32m~/opt/anaconda3/envs/learn-env/lib/python3.8/site-packages/nltk/tokenize/punkt.py\u001b[0m in \u001b[0;36m_realign_boundaries\u001b[0;34m(self, text, slices)\u001b[0m\n\u001b[1;32m   1355\u001b[0m         \"\"\"\n\u001b[1;32m   1356\u001b[0m         \u001b[0mrealign\u001b[0m \u001b[0;34m=\u001b[0m \u001b[0;36m0\u001b[0m\u001b[0;34m\u001b[0m\u001b[0;34m\u001b[0m\u001b[0m\n\u001b[0;32m-> 1357\u001b[0;31m         \u001b[0;32mfor\u001b[0m \u001b[0msl1\u001b[0m\u001b[0;34m,\u001b[0m \u001b[0msl2\u001b[0m \u001b[0;32min\u001b[0m \u001b[0m_pair_iter\u001b[0m\u001b[0;34m(\u001b[0m\u001b[0mslices\u001b[0m\u001b[0;34m)\u001b[0m\u001b[0;34m:\u001b[0m\u001b[0;34m\u001b[0m\u001b[0;34m\u001b[0m\u001b[0m\n\u001b[0m\u001b[1;32m   1358\u001b[0m             \u001b[0msl1\u001b[0m \u001b[0;34m=\u001b[0m \u001b[0mslice\u001b[0m\u001b[0;34m(\u001b[0m\u001b[0msl1\u001b[0m\u001b[0;34m.\u001b[0m\u001b[0mstart\u001b[0m \u001b[0;34m+\u001b[0m \u001b[0mrealign\u001b[0m\u001b[0;34m,\u001b[0m \u001b[0msl1\u001b[0m\u001b[0;34m.\u001b[0m\u001b[0mstop\u001b[0m\u001b[0;34m)\u001b[0m\u001b[0;34m\u001b[0m\u001b[0;34m\u001b[0m\u001b[0m\n\u001b[1;32m   1359\u001b[0m             \u001b[0;32mif\u001b[0m \u001b[0;32mnot\u001b[0m \u001b[0msl2\u001b[0m\u001b[0;34m:\u001b[0m\u001b[0;34m\u001b[0m\u001b[0;34m\u001b[0m\u001b[0m\n",
      "\u001b[0;32m~/opt/anaconda3/envs/learn-env/lib/python3.8/site-packages/nltk/tokenize/punkt.py\u001b[0m in \u001b[0;36m_pair_iter\u001b[0;34m(it)\u001b[0m\n\u001b[1;32m    312\u001b[0m     \u001b[0mit\u001b[0m \u001b[0;34m=\u001b[0m \u001b[0miter\u001b[0m\u001b[0;34m(\u001b[0m\u001b[0mit\u001b[0m\u001b[0;34m)\u001b[0m\u001b[0;34m\u001b[0m\u001b[0;34m\u001b[0m\u001b[0m\n\u001b[1;32m    313\u001b[0m     \u001b[0;32mtry\u001b[0m\u001b[0;34m:\u001b[0m\u001b[0;34m\u001b[0m\u001b[0;34m\u001b[0m\u001b[0m\n\u001b[0;32m--> 314\u001b[0;31m         \u001b[0mprev\u001b[0m \u001b[0;34m=\u001b[0m \u001b[0mnext\u001b[0m\u001b[0;34m(\u001b[0m\u001b[0mit\u001b[0m\u001b[0;34m)\u001b[0m\u001b[0;34m\u001b[0m\u001b[0;34m\u001b[0m\u001b[0m\n\u001b[0m\u001b[1;32m    315\u001b[0m     \u001b[0;32mexcept\u001b[0m \u001b[0mStopIteration\u001b[0m\u001b[0;34m:\u001b[0m\u001b[0;34m\u001b[0m\u001b[0;34m\u001b[0m\u001b[0m\n\u001b[1;32m    316\u001b[0m         \u001b[0;32mreturn\u001b[0m\u001b[0;34m\u001b[0m\u001b[0;34m\u001b[0m\u001b[0m\n",
      "\u001b[0;32m~/opt/anaconda3/envs/learn-env/lib/python3.8/site-packages/nltk/tokenize/punkt.py\u001b[0m in \u001b[0;36m_slices_from_text\u001b[0;34m(self, text)\u001b[0m\n\u001b[1;32m   1328\u001b[0m     \u001b[0;32mdef\u001b[0m \u001b[0m_slices_from_text\u001b[0m\u001b[0;34m(\u001b[0m\u001b[0mself\u001b[0m\u001b[0;34m,\u001b[0m \u001b[0mtext\u001b[0m\u001b[0;34m)\u001b[0m\u001b[0;34m:\u001b[0m\u001b[0;34m\u001b[0m\u001b[0;34m\u001b[0m\u001b[0m\n\u001b[1;32m   1329\u001b[0m         \u001b[0mlast_break\u001b[0m \u001b[0;34m=\u001b[0m \u001b[0;36m0\u001b[0m\u001b[0;34m\u001b[0m\u001b[0;34m\u001b[0m\u001b[0m\n\u001b[0;32m-> 1330\u001b[0;31m         \u001b[0;32mfor\u001b[0m \u001b[0mmatch\u001b[0m \u001b[0;32min\u001b[0m \u001b[0mself\u001b[0m\u001b[0;34m.\u001b[0m\u001b[0m_lang_vars\u001b[0m\u001b[0;34m.\u001b[0m\u001b[0mperiod_context_re\u001b[0m\u001b[0;34m(\u001b[0m\u001b[0;34m)\u001b[0m\u001b[0;34m.\u001b[0m\u001b[0mfinditer\u001b[0m\u001b[0;34m(\u001b[0m\u001b[0mtext\u001b[0m\u001b[0;34m)\u001b[0m\u001b[0;34m:\u001b[0m\u001b[0;34m\u001b[0m\u001b[0;34m\u001b[0m\u001b[0m\n\u001b[0m\u001b[1;32m   1331\u001b[0m             \u001b[0mcontext\u001b[0m \u001b[0;34m=\u001b[0m \u001b[0mmatch\u001b[0m\u001b[0;34m.\u001b[0m\u001b[0mgroup\u001b[0m\u001b[0;34m(\u001b[0m\u001b[0;34m)\u001b[0m \u001b[0;34m+\u001b[0m \u001b[0mmatch\u001b[0m\u001b[0;34m.\u001b[0m\u001b[0mgroup\u001b[0m\u001b[0;34m(\u001b[0m\u001b[0;34m\"after_tok\"\u001b[0m\u001b[0;34m)\u001b[0m\u001b[0;34m\u001b[0m\u001b[0;34m\u001b[0m\u001b[0m\n\u001b[1;32m   1332\u001b[0m             \u001b[0;32mif\u001b[0m \u001b[0mself\u001b[0m\u001b[0;34m.\u001b[0m\u001b[0mtext_contains_sentbreak\u001b[0m\u001b[0;34m(\u001b[0m\u001b[0mcontext\u001b[0m\u001b[0;34m)\u001b[0m\u001b[0;34m:\u001b[0m\u001b[0;34m\u001b[0m\u001b[0;34m\u001b[0m\u001b[0m\n",
      "\u001b[0;31mTypeError\u001b[0m: expected string or bytes-like object"
     ]
    }
   ],
   "source": [
    "sentiment_df = sentiment_df.apply(lambda x: process_tweets(x) if x.name == 'tweets' else x)"
   ]
  },
  {
   "cell_type": "markdown",
   "metadata": {},
   "source": [
    "### Sentiment Analysis with TextBlob"
   ]
  },
  {
   "cell_type": "code",
   "execution_count": 56,
   "metadata": {
    "ExecuteTime": {
     "end_time": "2021-04-04T21:38:40.458734Z",
     "start_time": "2021-04-04T21:38:40.455207Z"
    }
   },
   "outputs": [],
   "source": [
    "# functions to clean tweets, get subjectivity and polarity scores and sentiment\n",
    "def cleanTweet(txt):\n",
    "    return ' '.join(re.sub(\"(@[A-Za-z0-9]+)|([^0-9A-Za-z \\t])|(\\w+:\\/\\/\\S+)\", \n",
    "                           \" \", txt).split())\n",
    "\n",
    "def getTextSubjectivity(txt):\n",
    "    return TextBlob(txt).sentiment.subjectivity\n",
    "\n",
    "def getTextPolarity(txt):\n",
    "    return TextBlob(txt).sentiment.polarity\n",
    "\n",
    "def getTextAnalysis(p):\n",
    "    if p < 0:\n",
    "        return \"Negative\"\n",
    "    elif p == 0:\n",
    "        return \"Neutral\"\n",
    "    else:\n",
    "        return \"Positive\""
   ]
  },
  {
   "cell_type": "code",
   "execution_count": 57,
   "metadata": {
    "ExecuteTime": {
     "end_time": "2021-04-04T21:38:51.112555Z",
     "start_time": "2021-04-04T21:38:44.010005Z"
    }
   },
   "outputs": [
    {
     "data": {
      "text/html": [
       "<div>\n",
       "<style scoped>\n",
       "    .dataframe tbody tr th:only-of-type {\n",
       "        vertical-align: middle;\n",
       "    }\n",
       "\n",
       "    .dataframe tbody tr th {\n",
       "        vertical-align: top;\n",
       "    }\n",
       "\n",
       "    .dataframe thead th {\n",
       "        text-align: right;\n",
       "    }\n",
       "</style>\n",
       "<table border=\"1\" class=\"dataframe\">\n",
       "  <thead>\n",
       "    <tr style=\"text-align: right;\">\n",
       "      <th></th>\n",
       "      <th>time</th>\n",
       "      <th>tweets</th>\n",
       "      <th>TB sentiment</th>\n",
       "      <th>Subjectivity</th>\n",
       "      <th>Polarity</th>\n",
       "      <th>TextBlob Score</th>\n",
       "    </tr>\n",
       "  </thead>\n",
       "  <tbody>\n",
       "    <tr>\n",
       "      <th>0</th>\n",
       "      <td>2021-04-01</td>\n",
       "      <td>Concerning the use of aborted baby tissue in the J amp J Covid vaccine The J amp J vaccine has sparked debate among some religious communities because it was developed from stem cells obtained during two abortions decades ago Evil is still evil even if it was decades ago</td>\n",
       "      <td>negative</td>\n",
       "      <td>0.637500</td>\n",
       "      <td>-0.475000</td>\n",
       "      <td>Negative</td>\n",
       "    </tr>\n",
       "    <tr>\n",
       "      <th>1</th>\n",
       "      <td>2021-04-01</td>\n",
       "      <td>imagine an animal getting the covid 19 vaccine b4 a human</td>\n",
       "      <td>neutral</td>\n",
       "      <td>0.100000</td>\n",
       "      <td>0.000000</td>\n",
       "      <td>Neutral</td>\n",
       "    </tr>\n",
       "    <tr>\n",
       "      <th>2</th>\n",
       "      <td>2021-04-01</td>\n",
       "      <td>Definition of a microstate Source of vaccine data</td>\n",
       "      <td>neutral</td>\n",
       "      <td>0.000000</td>\n",
       "      <td>0.000000</td>\n",
       "      <td>Neutral</td>\n",
       "    </tr>\n",
       "    <tr>\n",
       "      <th>3</th>\n",
       "      <td>2021-04-01</td>\n",
       "      <td>If I ve Had COVID 19 Do I Still Need Two Doses of Vaccine</td>\n",
       "      <td>neutral</td>\n",
       "      <td>0.000000</td>\n",
       "      <td>0.000000</td>\n",
       "      <td>Neutral</td>\n",
       "    </tr>\n",
       "    <tr>\n",
       "      <th>4</th>\n",
       "      <td>2021-04-01</td>\n",
       "      <td>My epidural was delayed again somehow my covid vaccine does not interact well with an epidural SOOOOO I should be getting it on my birthday Yay So far I have 1 2 dr appointments a week this entire month On the upside they ve given me proper muscle relaxers this time</td>\n",
       "      <td>positive</td>\n",
       "      <td>0.575000</td>\n",
       "      <td>0.033333</td>\n",
       "      <td>Positive</td>\n",
       "    </tr>\n",
       "    <tr>\n",
       "      <th>...</th>\n",
       "      <td>...</td>\n",
       "      <td>...</td>\n",
       "      <td>...</td>\n",
       "      <td>...</td>\n",
       "      <td>...</td>\n",
       "      <td>...</td>\n",
       "    </tr>\n",
       "    <tr>\n",
       "      <th>18570</th>\n",
       "      <td>2021-04-02</td>\n",
       "      <td>Umrah can be performed without vaccination in Ramadan PuberKalom umrah Hajj Ramdan SaudiArabia Covid Vaccine</td>\n",
       "      <td>neutral</td>\n",
       "      <td>0.000000</td>\n",
       "      <td>0.000000</td>\n",
       "      <td>Neutral</td>\n",
       "    </tr>\n",
       "    <tr>\n",
       "      <th>18571</th>\n",
       "      <td>2021-04-03</td>\n",
       "      <td>Nurse busy on mobile one person was vaccinated twice PuberKalom Mobile Covid vaccine UttarPradesh nurses</td>\n",
       "      <td>positive</td>\n",
       "      <td>0.300000</td>\n",
       "      <td>0.100000</td>\n",
       "      <td>Positive</td>\n",
       "    </tr>\n",
       "    <tr>\n",
       "      <th>18572</th>\n",
       "      <td>2021-04-03</td>\n",
       "      <td>While talking on the phone the nurse vaccinated the woman not to take 2 doses at once then Coronavirus CoronaVaccine News18Bangla</td>\n",
       "      <td>neutral</td>\n",
       "      <td>0.000000</td>\n",
       "      <td>0.000000</td>\n",
       "      <td>Neutral</td>\n",
       "    </tr>\n",
       "    <tr>\n",
       "      <th>18573</th>\n",
       "      <td>2021-04-04</td>\n",
       "      <td>Covid 19 Vaccine Registration Easy way to register for Corona Vaccine Coronavirus Covid 19 AagrogyaSetu</td>\n",
       "      <td>positive</td>\n",
       "      <td>0.833333</td>\n",
       "      <td>0.433333</td>\n",
       "      <td>Positive</td>\n",
       "    </tr>\n",
       "    <tr>\n",
       "      <th>18574</th>\n",
       "      <td>2021-04-03</td>\n",
       "      <td>of course the number says something now I am most concerned with comparing with countries in Europe that could have some similar conditions the usa is its own planet anyway the goes slow even the WHO thinks it</td>\n",
       "      <td>positive</td>\n",
       "      <td>0.575000</td>\n",
       "      <td>0.200000</td>\n",
       "      <td>Positive</td>\n",
       "    </tr>\n",
       "  </tbody>\n",
       "</table>\n",
       "<p>18575 rows × 6 columns</p>\n",
       "</div>"
      ],
      "text/plain": [
       "             time  \\\n",
       "0      2021-04-01   \n",
       "1      2021-04-01   \n",
       "2      2021-04-01   \n",
       "3      2021-04-01   \n",
       "4      2021-04-01   \n",
       "...           ...   \n",
       "18570  2021-04-02   \n",
       "18571  2021-04-03   \n",
       "18572  2021-04-03   \n",
       "18573  2021-04-04   \n",
       "18574  2021-04-03   \n",
       "\n",
       "                                                                                                                                                                                                                                                                                tweets  \\\n",
       "0      Concerning the use of aborted baby tissue in the J amp J Covid vaccine The J amp J vaccine has sparked debate among some religious communities because it was developed from stem cells obtained during two abortions decades ago Evil is still evil even if it was decades ago   \n",
       "1                                                                                                                                                                                                                            imagine an animal getting the covid 19 vaccine b4 a human   \n",
       "2                                                                                                                                                                                                                                    Definition of a microstate Source of vaccine data   \n",
       "3                                                                                                                                                                                                                            If I ve Had COVID 19 Do I Still Need Two Doses of Vaccine   \n",
       "4           My epidural was delayed again somehow my covid vaccine does not interact well with an epidural SOOOOO I should be getting it on my birthday Yay So far I have 1 2 dr appointments a week this entire month On the upside they ve given me proper muscle relaxers this time   \n",
       "...                                                                                                                                                                                                                                                                                ...   \n",
       "18570                                                                                                                                                                     Umrah can be performed without vaccination in Ramadan PuberKalom umrah Hajj Ramdan SaudiArabia Covid Vaccine   \n",
       "18571                                                                                                                                                                         Nurse busy on mobile one person was vaccinated twice PuberKalom Mobile Covid vaccine UttarPradesh nurses   \n",
       "18572                                                                                                                                                While talking on the phone the nurse vaccinated the woman not to take 2 doses at once then Coronavirus CoronaVaccine News18Bangla   \n",
       "18573                                                                                                                                                                          Covid 19 Vaccine Registration Easy way to register for Corona Vaccine Coronavirus Covid 19 AagrogyaSetu   \n",
       "18574                                                                of course the number says something now I am most concerned with comparing with countries in Europe that could have some similar conditions the usa is its own planet anyway the goes slow even the WHO thinks it   \n",
       "\n",
       "      TB sentiment  Subjectivity  Polarity TextBlob Score  \n",
       "0         negative      0.637500 -0.475000       Negative  \n",
       "1          neutral      0.100000  0.000000        Neutral  \n",
       "2          neutral      0.000000  0.000000        Neutral  \n",
       "3          neutral      0.000000  0.000000        Neutral  \n",
       "4         positive      0.575000  0.033333       Positive  \n",
       "...            ...           ...       ...            ...  \n",
       "18570      neutral      0.000000  0.000000        Neutral  \n",
       "18571     positive      0.300000  0.100000       Positive  \n",
       "18572      neutral      0.000000  0.000000        Neutral  \n",
       "18573     positive      0.833333  0.433333       Positive  \n",
       "18574     positive      0.575000  0.200000       Positive  \n",
       "\n",
       "[18575 rows x 6 columns]"
      ]
     },
     "execution_count": 57,
     "metadata": {},
     "output_type": "execute_result"
    }
   ],
   "source": [
    "# apply functions to tweets\n",
    "sentiment_df['tweets'] = sentiment_df['tweets'].apply(clean_tweet)\n",
    "sentiment_df['Subjectivity'] = sentiment_df['tweets'].apply(getTextSubjectivity)\n",
    "sentiment_df['Polarity'] = sentiment_df['tweets'].apply(getTextPolarity)\n",
    "sentiment_df['TextBlob Score'] = sentiment_df['Polarity'].apply(getTextAnalysis)\n",
    "sentiment_df"
   ]
  },
  {
   "cell_type": "code",
   "execution_count": 62,
   "metadata": {
    "ExecuteTime": {
     "end_time": "2021-04-04T21:41:22.213223Z",
     "start_time": "2021-04-04T21:41:22.107600Z"
    }
   },
   "outputs": [
    {
     "data": {
      "image/png": "[encoded data removed]",
      "text/plain": [
       "<Figure size 720x432 with 1 Axes>"
      ]
     },
     "metadata": {},
     "output_type": "display_data"
    }
   ],
   "source": [
    "# plot as bar graph\n",
    "plt.figure(figsize= (10, 6))\n",
    "sns.countplot(data= sentiment_df, x = 'TextBlob Score')\n",
    "plt.title('Sentiment Analysis of Tweets about COVID-19 Vaccine', fontsize = 14)\n",
    "plt.xlabel('Score')\n",
    "plt.show()"
   ]
  },
  {
   "cell_type": "code",
   "execution_count": 64,
   "metadata": {
    "ExecuteTime": {
     "end_time": "2021-04-04T21:45:01.830918Z",
     "start_time": "2021-04-04T21:42:09.931608Z"
    }
   },
   "outputs": [
    {
     "ename": "KeyboardInterrupt",
     "evalue": "",
     "output_type": "error",
     "traceback": [
      "\u001b[0;31m---------------------------------------------------------------------------\u001b[0m",
      "\u001b[0;31mKeyboardInterrupt\u001b[0m                         Traceback (most recent call last)",
      "\u001b[0;32m<ipython-input-64-a31611b45cf4>\u001b[0m in \u001b[0;36m<module>\u001b[0;34m\u001b[0m\n\u001b[1;32m      1\u001b[0m \u001b[0;32mfor\u001b[0m \u001b[0mindex\u001b[0m\u001b[0;34m,\u001b[0m \u001b[0mrow\u001b[0m \u001b[0;32min\u001b[0m \u001b[0msentiment_df\u001b[0m\u001b[0;34m.\u001b[0m\u001b[0miterrows\u001b[0m\u001b[0;34m(\u001b[0m\u001b[0;34m)\u001b[0m\u001b[0;34m:\u001b[0m\u001b[0;34m\u001b[0m\u001b[0;34m\u001b[0m\u001b[0m\n\u001b[1;32m      2\u001b[0m     \u001b[0;32mif\u001b[0m \u001b[0mrow\u001b[0m\u001b[0;34m[\u001b[0m\u001b[0;34m'TextBlob Score'\u001b[0m\u001b[0;34m]\u001b[0m \u001b[0;34m==\u001b[0m \u001b[0;34m'Positive'\u001b[0m\u001b[0;34m:\u001b[0m\u001b[0;34m\u001b[0m\u001b[0;34m\u001b[0m\u001b[0m\n\u001b[0;32m----> 3\u001b[0;31m         \u001b[0mplt\u001b[0m\u001b[0;34m.\u001b[0m\u001b[0mscatter\u001b[0m\u001b[0;34m(\u001b[0m\u001b[0mrow\u001b[0m\u001b[0;34m[\u001b[0m\u001b[0;34m'Polarity'\u001b[0m\u001b[0;34m]\u001b[0m\u001b[0;34m,\u001b[0m \u001b[0mrow\u001b[0m\u001b[0;34m[\u001b[0m\u001b[0;34m'Subjectivity'\u001b[0m\u001b[0;34m]\u001b[0m\u001b[0;34m,\u001b[0m \u001b[0mcolor\u001b[0m\u001b[0;34m=\u001b[0m\u001b[0;34m\"green\"\u001b[0m\u001b[0;34m)\u001b[0m\u001b[0;34m\u001b[0m\u001b[0;34m\u001b[0m\u001b[0m\n\u001b[0m\u001b[1;32m      4\u001b[0m     \u001b[0;32melif\u001b[0m \u001b[0mrow\u001b[0m\u001b[0;34m[\u001b[0m\u001b[0;34m'TextBlob Score'\u001b[0m\u001b[0;34m]\u001b[0m \u001b[0;34m==\u001b[0m \u001b[0;34m'Negative'\u001b[0m\u001b[0;34m:\u001b[0m\u001b[0;34m\u001b[0m\u001b[0;34m\u001b[0m\u001b[0m\n\u001b[1;32m      5\u001b[0m         \u001b[0mplt\u001b[0m\u001b[0;34m.\u001b[0m\u001b[0mscatter\u001b[0m\u001b[0;34m(\u001b[0m\u001b[0mrow\u001b[0m\u001b[0;34m[\u001b[0m\u001b[0;34m'Polarity'\u001b[0m\u001b[0;34m]\u001b[0m\u001b[0;34m,\u001b[0m \u001b[0mrow\u001b[0m\u001b[0;34m[\u001b[0m\u001b[0;34m'Subjectivity'\u001b[0m\u001b[0;34m]\u001b[0m\u001b[0;34m,\u001b[0m \u001b[0mcolor\u001b[0m\u001b[0;34m=\u001b[0m\u001b[0;34m\"red\"\u001b[0m\u001b[0;34m)\u001b[0m\u001b[0;34m\u001b[0m\u001b[0;34m\u001b[0m\u001b[0m\n",
      "\u001b[0;32m~/opt/anaconda3/envs/learn-env/lib/python3.8/site-packages/matplotlib/pyplot.py\u001b[0m in \u001b[0;36mscatter\u001b[0;34m(x, y, s, c, marker, cmap, norm, vmin, vmax, alpha, linewidths, verts, edgecolors, plotnonfinite, data, **kwargs)\u001b[0m\n\u001b[1;32m   2872\u001b[0m         \u001b[0mverts\u001b[0m\u001b[0;34m=\u001b[0m\u001b[0mcbook\u001b[0m\u001b[0;34m.\u001b[0m\u001b[0mdeprecation\u001b[0m\u001b[0;34m.\u001b[0m\u001b[0m_deprecated_parameter\u001b[0m\u001b[0;34m,\u001b[0m\u001b[0;34m\u001b[0m\u001b[0;34m\u001b[0m\u001b[0m\n\u001b[1;32m   2873\u001b[0m         edgecolors=None, *, plotnonfinite=False, data=None, **kwargs):\n\u001b[0;32m-> 2874\u001b[0;31m     __ret = gca().scatter(\n\u001b[0m\u001b[1;32m   2875\u001b[0m         \u001b[0mx\u001b[0m\u001b[0;34m,\u001b[0m \u001b[0my\u001b[0m\u001b[0;34m,\u001b[0m \u001b[0ms\u001b[0m\u001b[0;34m=\u001b[0m\u001b[0ms\u001b[0m\u001b[0;34m,\u001b[0m \u001b[0mc\u001b[0m\u001b[0;34m=\u001b[0m\u001b[0mc\u001b[0m\u001b[0;34m,\u001b[0m \u001b[0mmarker\u001b[0m\u001b[0;34m=\u001b[0m\u001b[0mmarker\u001b[0m\u001b[0;34m,\u001b[0m \u001b[0mcmap\u001b[0m\u001b[0;34m=\u001b[0m\u001b[0mcmap\u001b[0m\u001b[0;34m,\u001b[0m \u001b[0mnorm\u001b[0m\u001b[0;34m=\u001b[0m\u001b[0mnorm\u001b[0m\u001b[0;34m,\u001b[0m\u001b[0;34m\u001b[0m\u001b[0;34m\u001b[0m\u001b[0m\n\u001b[1;32m   2876\u001b[0m         \u001b[0mvmin\u001b[0m\u001b[0;34m=\u001b[0m\u001b[0mvmin\u001b[0m\u001b[0;34m,\u001b[0m \u001b[0mvmax\u001b[0m\u001b[0;34m=\u001b[0m\u001b[0mvmax\u001b[0m\u001b[0;34m,\u001b[0m \u001b[0malpha\u001b[0m\u001b[0;34m=\u001b[0m\u001b[0malpha\u001b[0m\u001b[0;34m,\u001b[0m \u001b[0mlinewidths\u001b[0m\u001b[0;34m=\u001b[0m\u001b[0mlinewidths\u001b[0m\u001b[0;34m,\u001b[0m\u001b[0;34m\u001b[0m\u001b[0;34m\u001b[0m\u001b[0m\n",
      "\u001b[0;32m~/opt/anaconda3/envs/learn-env/lib/python3.8/site-packages/matplotlib/__init__.py\u001b[0m in \u001b[0;36minner\u001b[0;34m(ax, data, *args, **kwargs)\u001b[0m\n\u001b[1;32m   1436\u001b[0m     \u001b[0;32mdef\u001b[0m \u001b[0minner\u001b[0m\u001b[0;34m(\u001b[0m\u001b[0max\u001b[0m\u001b[0;34m,\u001b[0m \u001b[0;34m*\u001b[0m\u001b[0margs\u001b[0m\u001b[0;34m,\u001b[0m \u001b[0mdata\u001b[0m\u001b[0;34m=\u001b[0m\u001b[0;32mNone\u001b[0m\u001b[0;34m,\u001b[0m \u001b[0;34m**\u001b[0m\u001b[0mkwargs\u001b[0m\u001b[0;34m)\u001b[0m\u001b[0;34m:\u001b[0m\u001b[0;34m\u001b[0m\u001b[0;34m\u001b[0m\u001b[0m\n\u001b[1;32m   1437\u001b[0m         \u001b[0;32mif\u001b[0m \u001b[0mdata\u001b[0m \u001b[0;32mis\u001b[0m \u001b[0;32mNone\u001b[0m\u001b[0;34m:\u001b[0m\u001b[0;34m\u001b[0m\u001b[0;34m\u001b[0m\u001b[0m\n\u001b[0;32m-> 1438\u001b[0;31m             \u001b[0;32mreturn\u001b[0m \u001b[0mfunc\u001b[0m\u001b[0;34m(\u001b[0m\u001b[0max\u001b[0m\u001b[0;34m,\u001b[0m \u001b[0;34m*\u001b[0m\u001b[0mmap\u001b[0m\u001b[0;34m(\u001b[0m\u001b[0msanitize_sequence\u001b[0m\u001b[0;34m,\u001b[0m \u001b[0margs\u001b[0m\u001b[0;34m)\u001b[0m\u001b[0;34m,\u001b[0m \u001b[0;34m**\u001b[0m\u001b[0mkwargs\u001b[0m\u001b[0;34m)\u001b[0m\u001b[0;34m\u001b[0m\u001b[0;34m\u001b[0m\u001b[0m\n\u001b[0m\u001b[1;32m   1439\u001b[0m \u001b[0;34m\u001b[0m\u001b[0m\n\u001b[1;32m   1440\u001b[0m         \u001b[0mbound\u001b[0m \u001b[0;34m=\u001b[0m \u001b[0mnew_sig\u001b[0m\u001b[0;34m.\u001b[0m\u001b[0mbind\u001b[0m\u001b[0;34m(\u001b[0m\u001b[0max\u001b[0m\u001b[0;34m,\u001b[0m \u001b[0;34m*\u001b[0m\u001b[0margs\u001b[0m\u001b[0;34m,\u001b[0m \u001b[0;34m**\u001b[0m\u001b[0mkwargs\u001b[0m\u001b[0;34m)\u001b[0m\u001b[0;34m\u001b[0m\u001b[0;34m\u001b[0m\u001b[0m\n",
      "\u001b[0;32m~/opt/anaconda3/envs/learn-env/lib/python3.8/site-packages/matplotlib/cbook/deprecation.py\u001b[0m in \u001b[0;36mwrapper\u001b[0;34m(*inner_args, **inner_kwargs)\u001b[0m\n\u001b[1;32m    409\u001b[0m                          \u001b[0;32melse\u001b[0m \u001b[0mdeprecation_addendum\u001b[0m\u001b[0;34m,\u001b[0m\u001b[0;34m\u001b[0m\u001b[0;34m\u001b[0m\u001b[0m\n\u001b[1;32m    410\u001b[0m                 **kwargs)\n\u001b[0;32m--> 411\u001b[0;31m         \u001b[0;32mreturn\u001b[0m \u001b[0mfunc\u001b[0m\u001b[0;34m(\u001b[0m\u001b[0;34m*\u001b[0m\u001b[0minner_args\u001b[0m\u001b[0;34m,\u001b[0m \u001b[0;34m**\u001b[0m\u001b[0minner_kwargs\u001b[0m\u001b[0;34m)\u001b[0m\u001b[0;34m\u001b[0m\u001b[0;34m\u001b[0m\u001b[0m\n\u001b[0m\u001b[1;32m    412\u001b[0m \u001b[0;34m\u001b[0m\u001b[0m\n\u001b[1;32m    413\u001b[0m     \u001b[0;32mreturn\u001b[0m \u001b[0mwrapper\u001b[0m\u001b[0;34m\u001b[0m\u001b[0;34m\u001b[0m\u001b[0m\n",
      "\u001b[0;32m~/opt/anaconda3/envs/learn-env/lib/python3.8/site-packages/matplotlib/axes/_axes.py\u001b[0m in \u001b[0;36mscatter\u001b[0;34m(self, x, y, s, c, marker, cmap, norm, vmin, vmax, alpha, linewidths, verts, edgecolors, plotnonfinite, **kwargs)\u001b[0m\n\u001b[1;32m   4515\u001b[0m                 \u001b[0mself\u001b[0m\u001b[0;34m.\u001b[0m\u001b[0mset_ymargin\u001b[0m\u001b[0;34m(\u001b[0m\u001b[0;36m0.05\u001b[0m\u001b[0;34m)\u001b[0m\u001b[0;34m\u001b[0m\u001b[0;34m\u001b[0m\u001b[0m\n\u001b[1;32m   4516\u001b[0m \u001b[0;34m\u001b[0m\u001b[0m\n\u001b[0;32m-> 4517\u001b[0;31m         \u001b[0mself\u001b[0m\u001b[0;34m.\u001b[0m\u001b[0madd_collection\u001b[0m\u001b[0;34m(\u001b[0m\u001b[0mcollection\u001b[0m\u001b[0;34m)\u001b[0m\u001b[0;34m\u001b[0m\u001b[0;34m\u001b[0m\u001b[0m\n\u001b[0m\u001b[1;32m   4518\u001b[0m         \u001b[0mself\u001b[0m\u001b[0;34m.\u001b[0m\u001b[0m_request_autoscale_view\u001b[0m\u001b[0;34m(\u001b[0m\u001b[0;34m)\u001b[0m\u001b[0;34m\u001b[0m\u001b[0;34m\u001b[0m\u001b[0m\n\u001b[1;32m   4519\u001b[0m \u001b[0;34m\u001b[0m\u001b[0m\n",
      "\u001b[0;32m~/opt/anaconda3/envs/learn-env/lib/python3.8/site-packages/matplotlib/axes/_base.py\u001b[0m in \u001b[0;36madd_collection\u001b[0;34m(self, collection, autolim)\u001b[0m\n\u001b[1;32m   1937\u001b[0m             \u001b[0;31m# Make sure viewLim is not stale (mostly to match\u001b[0m\u001b[0;34m\u001b[0m\u001b[0;34m\u001b[0m\u001b[0;34m\u001b[0m\u001b[0m\n\u001b[1;32m   1938\u001b[0m             \u001b[0;31m# pre-lazy-autoscale behavior, which is not really better).\u001b[0m\u001b[0;34m\u001b[0m\u001b[0;34m\u001b[0m\u001b[0;34m\u001b[0m\u001b[0m\n\u001b[0;32m-> 1939\u001b[0;31m             \u001b[0mself\u001b[0m\u001b[0;34m.\u001b[0m\u001b[0m_unstale_viewLim\u001b[0m\u001b[0;34m(\u001b[0m\u001b[0;34m)\u001b[0m\u001b[0;34m\u001b[0m\u001b[0;34m\u001b[0m\u001b[0m\n\u001b[0m\u001b[1;32m   1940\u001b[0m             \u001b[0mself\u001b[0m\u001b[0;34m.\u001b[0m\u001b[0mupdate_datalim\u001b[0m\u001b[0;34m(\u001b[0m\u001b[0mcollection\u001b[0m\u001b[0;34m.\u001b[0m\u001b[0mget_datalim\u001b[0m\u001b[0;34m(\u001b[0m\u001b[0mself\u001b[0m\u001b[0;34m.\u001b[0m\u001b[0mtransData\u001b[0m\u001b[0;34m)\u001b[0m\u001b[0;34m)\u001b[0m\u001b[0;34m\u001b[0m\u001b[0;34m\u001b[0m\u001b[0m\n\u001b[1;32m   1941\u001b[0m \u001b[0;34m\u001b[0m\u001b[0m\n",
      "\u001b[0;32m~/opt/anaconda3/envs/learn-env/lib/python3.8/site-packages/matplotlib/axes/_base.py\u001b[0m in \u001b[0;36m_unstale_viewLim\u001b[0;34m(self)\u001b[0m\n\u001b[1;32m    650\u001b[0m             \u001b[0;32mfor\u001b[0m \u001b[0max\u001b[0m \u001b[0;32min\u001b[0m \u001b[0mself\u001b[0m\u001b[0;34m.\u001b[0m\u001b[0m_shared_y_axes\u001b[0m\u001b[0;34m.\u001b[0m\u001b[0mget_siblings\u001b[0m\u001b[0;34m(\u001b[0m\u001b[0mself\u001b[0m\u001b[0;34m)\u001b[0m\u001b[0;34m:\u001b[0m\u001b[0;34m\u001b[0m\u001b[0;34m\u001b[0m\u001b[0m\n\u001b[1;32m    651\u001b[0m                 \u001b[0max\u001b[0m\u001b[0;34m.\u001b[0m\u001b[0m_stale_viewlim_y\u001b[0m \u001b[0;34m=\u001b[0m \u001b[0;32mFalse\u001b[0m\u001b[0;34m\u001b[0m\u001b[0;34m\u001b[0m\u001b[0m\n\u001b[0;32m--> 652\u001b[0;31m             \u001b[0mself\u001b[0m\u001b[0;34m.\u001b[0m\u001b[0mautoscale_view\u001b[0m\u001b[0;34m(\u001b[0m\u001b[0mscalex\u001b[0m\u001b[0;34m=\u001b[0m\u001b[0mscalex\u001b[0m\u001b[0;34m,\u001b[0m \u001b[0mscaley\u001b[0m\u001b[0;34m=\u001b[0m\u001b[0mscaley\u001b[0m\u001b[0;34m)\u001b[0m\u001b[0;34m\u001b[0m\u001b[0;34m\u001b[0m\u001b[0m\n\u001b[0m\u001b[1;32m    653\u001b[0m \u001b[0;34m\u001b[0m\u001b[0m\n\u001b[1;32m    654\u001b[0m     \u001b[0;34m@\u001b[0m\u001b[0mproperty\u001b[0m\u001b[0;34m\u001b[0m\u001b[0;34m\u001b[0m\u001b[0m\n",
      "\u001b[0;32m~/opt/anaconda3/envs/learn-env/lib/python3.8/site-packages/matplotlib/axes/_base.py\u001b[0m in \u001b[0;36mautoscale_view\u001b[0;34m(self, tight, scalex, scaley)\u001b[0m\n\u001b[1;32m   2499\u001b[0m             \u001b[0;31m# `get_children` would raise an AttributeError.\u001b[0m\u001b[0;34m\u001b[0m\u001b[0;34m\u001b[0m\u001b[0;34m\u001b[0m\u001b[0m\n\u001b[1;32m   2500\u001b[0m             \u001b[0;32mif\u001b[0m \u001b[0mself\u001b[0m\u001b[0;34m.\u001b[0m\u001b[0m_xmargin\u001b[0m \u001b[0;32mand\u001b[0m \u001b[0mscalex\u001b[0m \u001b[0;32mand\u001b[0m \u001b[0mself\u001b[0m\u001b[0;34m.\u001b[0m\u001b[0m_autoscaleXon\u001b[0m\u001b[0;34m:\u001b[0m\u001b[0;34m\u001b[0m\u001b[0;34m\u001b[0m\u001b[0m\n\u001b[0;32m-> 2501\u001b[0;31m                 x_stickies = np.sort(np.concatenate([\n\u001b[0m\u001b[1;32m   2502\u001b[0m                     \u001b[0martist\u001b[0m\u001b[0;34m.\u001b[0m\u001b[0msticky_edges\u001b[0m\u001b[0;34m.\u001b[0m\u001b[0mx\u001b[0m\u001b[0;34m\u001b[0m\u001b[0;34m\u001b[0m\u001b[0m\n\u001b[1;32m   2503\u001b[0m                     \u001b[0;32mfor\u001b[0m \u001b[0max\u001b[0m \u001b[0;32min\u001b[0m \u001b[0mself\u001b[0m\u001b[0;34m.\u001b[0m\u001b[0m_shared_x_axes\u001b[0m\u001b[0;34m.\u001b[0m\u001b[0mget_siblings\u001b[0m\u001b[0;34m(\u001b[0m\u001b[0mself\u001b[0m\u001b[0;34m)\u001b[0m\u001b[0;34m\u001b[0m\u001b[0;34m\u001b[0m\u001b[0m\n",
      "\u001b[0;32m<__array_function__ internals>\u001b[0m in \u001b[0;36mconcatenate\u001b[0;34m(*args, **kwargs)\u001b[0m\n",
      "\u001b[0;31mKeyboardInterrupt\u001b[0m: "
     ]
    },
    {
     "data": {
      "image/png": "[encoded data removed]",
      "text/plain": [
       "<Figure size 432x288 with 1 Axes>"
      ]
     },
     "metadata": {},
     "output_type": "display_data"
    }
   ],
   "source": [
    "for index, row in sentiment_df.iterrows():\n",
    "    if row['TextBlob Score'] == 'Positive':\n",
    "        plt.scatter(row['Polarity'], row['Subjectivity'], color=\"green\")\n",
    "    elif row['TextBlob Score'] == 'Negative':\n",
    "        plt.scatter(row['Polarity'], row['Subjectivity'], color=\"red\")\n",
    "    elif row['TextBlob Score'] == 'Neutral':\n",
    "        plt.scatter(row['Polarity'], row['Subjectivity'], color=\"blue\")\n",
    "\n",
    "plt.title('Twitter Sentiment Analysis')\n",
    "plt.xlabel('Polarity')\n",
    "plt.ylabel('Subjectivity')\n",
    "# add legend\n",
    "plt.show()"
   ]
  },
  {
   "cell_type": "code",
   "execution_count": null,
   "metadata": {},
   "outputs": [],
   "source": []
  },
  {
   "cell_type": "code",
   "execution_count": null,
   "metadata": {},
   "outputs": [],
   "source": []
  },
  {
   "cell_type": "code",
   "execution_count": null,
   "metadata": {},
   "outputs": [],
   "source": []
  },
  {
   "cell_type": "code",
   "execution_count": null,
   "metadata": {},
   "outputs": [],
   "source": []
  },
  {
   "cell_type": "markdown",
   "metadata": {},
   "source": [
    "### Word Cloud"
   ]
  },
  {
   "cell_type": "code",
   "execution_count": 70,
   "metadata": {
    "ExecuteTime": {
     "end_time": "2021-04-04T21:54:39.015055Z",
     "start_time": "2021-04-04T21:54:37.410310Z"
    }
   },
   "outputs": [
    {
     "data": {
      "image/png": "[encoded data removed]",
      "text/plain": [
       "<Figure size 720x432 with 1 Axes>"
      ]
     },
     "metadata": {},
     "output_type": "display_data"
    }
   ],
   "source": [
    "words = ' '.join([tweet for tweet in sentiment_df['tweets']])\n",
    "wc = WordCloud(width=600, height=400).generate(words)\n",
    "plt.figure(figsize= (10, 6))\n",
    "plt.imshow(wc.recolor(colormap= 'autumn'))\n",
    "plt.axis('off')\n",
    "plt.title('COVID-19 Vaccine Word Cloud')\n",
    "plt.show()"
   ]
  },
  {
   "cell_type": "code",
   "execution_count": null,
   "metadata": {},
   "outputs": [],
   "source": []
  }
 ],
 "metadata": {
  "kernelspec": {
   "display_name": "Python 3",
   "language": "python",
   "name": "python3"
  },
  "language_info": {
   "codemirror_mode": {
    "name": "ipython",
    "version": 3
   },
   "file_extension": ".py",
   "mimetype": "text/x-python",
   "name": "python",
   "nbconvert_exporter": "python",
   "pygments_lexer": "ipython3",
   "version": "3.8.5"
  },
  "toc": {
   "base_numbering": 1,
   "nav_menu": {},
   "number_sections": true,
   "sideBar": true,
   "skip_h1_title": true,
   "title_cell": "Table of Contents",
   "title_sidebar": "Contents",
   "toc_cell": false,
   "toc_position": {
    "height": "calc(100% - 180px)",
    "left": "10px",
    "top": "150px",
    "width": "282.797px"
   },
   "toc_section_display": true,
   "toc_window_display": true
  },
  "varInspector": {
   "cols": {
    "lenName": 16,
    "lenType": 16,
    "lenVar": 40
   },
   "kernels_config": {
    "python": {
     "delete_cmd_postfix": "",
     "delete_cmd_prefix": "del ",
     "library": "var_list.py",
     "varRefreshCmd": "print(var_dic_list())"
    },
    "r": {
     "delete_cmd_postfix": ") ",
     "delete_cmd_prefix": "rm(",
     "library": "var_list.r",
     "varRefreshCmd": "cat(var_dic_list()) "
    }
   },
   "types_to_exclude": [
    "module",
    "function",
    "builtin_function_or_method",
    "instance",
    "_Feature"
   ],
   "window_display": false
  }
 },
 "nbformat": 4,
 "nbformat_minor": 4
}
