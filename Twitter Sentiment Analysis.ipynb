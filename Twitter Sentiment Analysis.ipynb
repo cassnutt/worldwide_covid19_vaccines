{
 "cells": [
  {
   "cell_type": "markdown",
   "metadata": {},
   "source": [
    "# Twitter Sentiment Analysis\n",
    "\n",
    "This notebook aims to analyze Tweets made about the COVID-19 vaccine and determine whether the sentiment of the Tweets is negative, positive, or neutral."
   ]
  },
  {
   "cell_type": "markdown",
   "metadata": {},
   "source": [
    "## Libraries"
   ]
  },
  {
   "cell_type": "code",
   "execution_count": 2,
   "metadata": {
    "ExecuteTime": {
     "end_time": "2021-04-06T16:49:59.613196Z",
     "start_time": "2021-04-06T16:49:58.231501Z"
    }
   },
   "outputs": [
    {
     "name": "stderr",
     "output_type": "stream",
     "text": [
      "[nltk_data] Downloading package stopwords to\n",
      "[nltk_data]     /Users/cassienutter/nltk_data...\n",
      "[nltk_data]   Package stopwords is already up-to-date!\n"
     ]
    }
   ],
   "source": [
    "import tweepy\n",
    "import webbrowser\n",
    "import pandas as pd\n",
    "import matplotlib.pyplot as plt\n",
    "%matplotlib inline\n",
    "import seaborn as sns\n",
    "sns.set_style('whitegrid')\n",
    "import time\n",
    "\n",
    "import config\n",
    "pd.set_option('display.max_colwidth', None)\n",
    "\n",
    "from tweepy import OAuthHandler\n",
    "from tweepy import API\n",
    "\n",
    "import os\n",
    "from google.oauth2 import service_account\n",
    "from google.cloud import translate_v2 as translate\n",
    "from google.cloud import language\n",
    "\n",
    "import nltk\n",
    "from nltk.corpus import stopwords\n",
    "nltk.download('stopwords')\n",
    "from nltk import FreqDist\n",
    "from nltk.tokenize import TweetTokenizer, word_tokenize\n",
    "from nltk import word_tokenize, TweetTokenizer, FreqDist\n",
    "import string\n",
    "\n",
    "import re\n",
    "from textblob import TextBlob\n",
    "from wordcloud import WordCloud\n",
    "\n",
    "from sklearn.model_selection import train_test_split\n",
    "from sklearn.feature_extraction.text import TfidfVectorizer"
   ]
  },
  {
   "cell_type": "markdown",
   "metadata": {},
   "source": [
    "## Gather data from Twitter API"
   ]
  },
  {
   "cell_type": "code",
   "execution_count": null,
   "metadata": {
    "ExecuteTime": {
     "end_time": "2021-04-06T15:42:40.841233Z",
     "start_time": "2021-04-06T15:42:40.836193Z"
    }
   },
   "outputs": [],
   "source": [
    "# Developer API keys\n",
    "# API keys in config.py in .gitignore\n",
    "callback_uri = 'oob'"
   ]
  },
  {
   "cell_type": "code",
   "execution_count": null,
   "metadata": {
    "ExecuteTime": {
     "end_time": "2021-04-06T15:42:40.845777Z",
     "start_time": "2021-04-06T15:42:40.843473Z"
    }
   },
   "outputs": [],
   "source": [
    "auth = OAuthHandler(config.consumer_key, config.consumer_secret, callback_uri)\n",
    "auth.set_access_token(config.access_token, config.access_token_secret)"
   ]
  },
  {
   "cell_type": "code",
   "execution_count": null,
   "metadata": {
    "ExecuteTime": {
     "end_time": "2021-04-06T15:42:40.849250Z",
     "start_time": "2021-04-06T15:42:40.847495Z"
    }
   },
   "outputs": [],
   "source": [
    "api = API(auth, wait_on_rate_limit= True, wait_on_rate_limit_notify= True)"
   ]
  },
  {
   "cell_type": "code",
   "execution_count": null,
   "metadata": {
    "ExecuteTime": {
     "end_time": "2021-04-06T15:42:41.264244Z",
     "start_time": "2021-04-06T15:42:40.850843Z"
    }
   },
   "outputs": [],
   "source": [
    "# show my Twitter handle\n",
    "me = api.me()\n",
    "print(me.screen_name)"
   ]
  },
  {
   "cell_type": "code",
   "execution_count": null,
   "metadata": {
    "ExecuteTime": {
     "end_time": "2021-04-06T15:42:41.665974Z",
     "start_time": "2021-04-06T15:42:41.266130Z"
    }
   },
   "outputs": [],
   "source": [
    "# simple query to get the hang of it\n",
    "query = '#vaccine covid -RT -@ -http'\n",
    "for i, status in enumerate(tweepy.Cursor(api.search, q= query).items(15)):\n",
    "    print (i, status.text)\n",
    "\n",
    "# filter only English tweets    \n",
    "# query = '#vaccine covid'\n",
    "# for i, status in enumerate(tweepy.Cursor(api.search, q= query, lang= 'en').items(50)):\n",
    "#     print (i, status.text)"
   ]
  },
  {
   "cell_type": "code",
   "execution_count": null,
   "metadata": {
    "ExecuteTime": {
     "end_time": "2021-04-06T15:42:41.673358Z",
     "start_time": "2021-04-06T15:42:41.667867Z"
    }
   },
   "outputs": [],
   "source": [
    "''' This cell was run to collect the initial 5000 tweets and save them to a csv file\n",
    "is commented out to prevent it from being run again\n",
    "\n",
    "\n",
    "# collect 5000 tweets \n",
    "number_of_tweets = 5000\n",
    "tweets = []\n",
    "language = []\n",
    "time = []\n",
    "\n",
    "# only collect full text, language, and time it was posted\n",
    "# remove any retweets '-RT'\n",
    "for i in tweepy.Cursor(api.search, q= 'vaccine covid -RT',  \n",
    "                       tweet_mode = 'extended').items(number_of_tweets):\n",
    "    tweets.append(i.full_text)\n",
    "    language.append(i.lang)\n",
    "    time.append(i.created_at)\n",
    "\n",
    "# turn tweets / lists into dataframe\n",
    "df = pd.DataFrame({'time': time, 'language': language, 'tweets': tweets})\n",
    "\n",
    "# save df to csv\n",
    "df.to_csv('data/tweets.csv', index= False)\n",
    "'''"
   ]
  },
  {
   "cell_type": "markdown",
   "metadata": {},
   "source": [
    "Collect more tweets after waiting to avoid collecting the same tweets."
   ]
  },
  {
   "cell_type": "code",
   "execution_count": null,
   "metadata": {
    "ExecuteTime": {
     "end_time": "2021-04-06T15:42:41.682273Z",
     "start_time": "2021-04-06T15:42:41.678498Z"
    }
   },
   "outputs": [],
   "source": [
    "# create function to get more tweets and add to existing csv\n",
    "def get_more_tweets(num_tweets):\n",
    "    number_of_tweets = num_tweets\n",
    "    tweets = []\n",
    "    language = []\n",
    "    time = []\n",
    "\n",
    "    # only collect full text, language, and time it was posted\n",
    "    # remove any retweets '-RT'\n",
    "    for i in tweepy.Cursor(api.search, q= 'vaccine covid -RT',  \n",
    "                           tweet_mode = 'extended').items(number_of_tweets):\n",
    "        tweets.append(i.full_text)\n",
    "        language.append(i.lang)\n",
    "        time.append(i.created_at)\n",
    "        \n",
    "    # turn tweets / lists into dataframe\n",
    "    df = pd.DataFrame({'time': time, 'language': language, 'tweets': tweets})\n",
    "    \n",
    "    # add to existing csv file\n",
    "    df.to_csv('data/tweets.csv', mode= 'a', index= False, header= False)"
   ]
  },
  {
   "cell_type": "code",
   "execution_count": null,
   "metadata": {
    "ExecuteTime": {
     "end_time": "2021-04-06T15:42:41.687007Z",
     "start_time": "2021-04-06T15:42:41.684973Z"
    }
   },
   "outputs": [],
   "source": [
    "# get tweets and save to csv through function\n",
    "\n",
    "# n_tweets = 20\n",
    "# get_more_tweets(n_tweets)"
   ]
  },
  {
   "cell_type": "markdown",
   "metadata": {
    "ExecuteTime": {
     "end_time": "2021-04-01T14:14:15.835034Z",
     "start_time": "2021-04-01T14:14:15.833105Z"
    }
   },
   "source": [
    "### Search for Tweets from 30 Days Ago"
   ]
  },
  {
   "cell_type": "code",
   "execution_count": null,
   "metadata": {
    "ExecuteTime": {
     "end_time": "2021-04-06T15:42:41.692144Z",
     "start_time": "2021-04-06T15:42:41.688555Z"
    }
   },
   "outputs": [],
   "source": [
    "# function to turn results into DataFrame\n",
    "def extract_text_as_df(text_list):\n",
    "    columns = set()\n",
    "    allowed_types = [str, int]\n",
    "    tweets_data = []\n",
    "    for status in text_list:\n",
    "        status_dict = dict(vars(status))\n",
    "        keys = status_dict.keys()\n",
    "        single_tweet_data = {\"author\": status.author.screen_name}\n",
    "        for k in keys:\n",
    "            try:\n",
    "                v_type = type(status_dict[k])\n",
    "            except:\n",
    "                v_type = None\n",
    "            if v_type != None:\n",
    "                if v_type in allowed_types:\n",
    "                    single_tweet_data[k] = status_dict[k]\n",
    "                    columns.add(k)\n",
    "        tweets_data.append(single_tweet_data)\n",
    "\n",
    "\n",
    "    header_cols = list(columns)\n",
    "    header_cols.append('author')\n",
    "    df = pd.DataFrame(tweets_data, columns=header_cols)\n",
    "    return df"
   ]
  },
  {
   "cell_type": "code",
   "execution_count": null,
   "metadata": {
    "ExecuteTime": {
     "end_time": "2021-04-06T15:42:42.362415Z",
     "start_time": "2021-04-06T15:42:41.693309Z"
    }
   },
   "outputs": [],
   "source": [
    "query = 'vaccine covid -RT'\n",
    "results_30 = api.search_30_day('datacollection', query, maxResults= 100)"
   ]
  },
  {
   "cell_type": "code",
   "execution_count": null,
   "metadata": {
    "ExecuteTime": {
     "end_time": "2021-04-06T15:42:42.370462Z",
     "start_time": "2021-04-06T15:42:42.363967Z"
    },
    "scrolled": true
   },
   "outputs": [],
   "source": [
    "old_results_df = extract_text_as_df(results_30)"
   ]
  },
  {
   "cell_type": "code",
   "execution_count": null,
   "metadata": {
    "ExecuteTime": {
     "end_time": "2021-04-06T15:42:42.408628Z",
     "start_time": "2021-04-06T15:42:42.372512Z"
    },
    "scrolled": true
   },
   "outputs": [],
   "source": [
    "old_results_df"
   ]
  },
  {
   "cell_type": "markdown",
   "metadata": {},
   "source": [
    "## Data Cleaning & EDA"
   ]
  },
  {
   "cell_type": "code",
   "execution_count": null,
   "metadata": {
    "ExecuteTime": {
     "end_time": "2021-04-06T15:42:42.479684Z",
     "start_time": "2021-04-06T15:42:42.410986Z"
    }
   },
   "outputs": [],
   "source": [
    "df = pd.read_csv('data/tweets.csv')"
   ]
  },
  {
   "cell_type": "code",
   "execution_count": null,
   "metadata": {
    "ExecuteTime": {
     "end_time": "2021-04-06T15:42:42.494123Z",
     "start_time": "2021-04-06T15:42:42.481910Z"
    },
    "scrolled": false
   },
   "outputs": [],
   "source": [
    "df.info()"
   ]
  },
  {
   "cell_type": "markdown",
   "metadata": {},
   "source": [
    "### Check and Remove Duplicates"
   ]
  },
  {
   "cell_type": "code",
   "execution_count": null,
   "metadata": {
    "ExecuteTime": {
     "end_time": "2021-04-06T15:42:42.532032Z",
     "start_time": "2021-04-06T15:42:42.496393Z"
    }
   },
   "outputs": [],
   "source": [
    "# check for duplicated tweets\n",
    "duped = df[df.duplicated(subset= 'tweets')]\n",
    "duped.info()"
   ]
  },
  {
   "cell_type": "code",
   "execution_count": null,
   "metadata": {
    "ExecuteTime": {
     "end_time": "2021-04-06T15:42:42.560190Z",
     "start_time": "2021-04-06T15:42:42.534353Z"
    }
   },
   "outputs": [],
   "source": [
    "# remove duplicates\n",
    "df.drop_duplicates(subset= 'tweets', keep= 'first', inplace= True)\n",
    "df.reset_index(drop= True, inplace= True)\n",
    "\n",
    "# make sure they are gone\n",
    "df.tweets.duplicated().sum()"
   ]
  },
  {
   "cell_type": "code",
   "execution_count": null,
   "metadata": {
    "ExecuteTime": {
     "end_time": "2021-04-06T15:42:42.594565Z",
     "start_time": "2021-04-06T15:42:42.562320Z"
    }
   },
   "outputs": [],
   "source": [
    "df.head(15)"
   ]
  },
  {
   "cell_type": "markdown",
   "metadata": {},
   "source": [
    "### Looking at Languages"
   ]
  },
  {
   "cell_type": "code",
   "execution_count": null,
   "metadata": {
    "ExecuteTime": {
     "end_time": "2021-04-06T15:42:42.625407Z",
     "start_time": "2021-04-06T15:42:42.597544Z"
    }
   },
   "outputs": [],
   "source": [
    "lang_df = df.sort_values('language')"
   ]
  },
  {
   "cell_type": "code",
   "execution_count": null,
   "metadata": {
    "ExecuteTime": {
     "end_time": "2021-04-06T15:42:43.163976Z",
     "start_time": "2021-04-06T15:42:42.629130Z"
    }
   },
   "outputs": [],
   "source": [
    "plt.figure(figsize= (12, 8))\n",
    "lang_df.language.value_counts(normalize=True).plot(kind= 'barh')\n",
    "plt.title('Proportion of Languages Collected')\n",
    "plt.xlim(-.01, 1)\n",
    "plt.show()"
   ]
  },
  {
   "cell_type": "code",
   "execution_count": null,
   "metadata": {
    "ExecuteTime": {
     "end_time": "2021-04-06T15:42:43.172455Z",
     "start_time": "2021-04-06T15:42:43.165910Z"
    }
   },
   "outputs": [],
   "source": [
    "lang_df.language.value_counts(normalize=True)"
   ]
  },
  {
   "cell_type": "code",
   "execution_count": null,
   "metadata": {
    "ExecuteTime": {
     "end_time": "2021-04-06T15:42:43.525065Z",
     "start_time": "2021-04-06T15:42:43.174386Z"
    }
   },
   "outputs": [],
   "source": [
    "# what are these languages? get table from url\n",
    "URL = 'https://developer.twitter.com/en/docs/twitter-for-websites/supported-languages'\n",
    "tables = pd.read_html(URL)\n",
    "print(\"There are : \",len(tables),\" tables\")\n",
    "print(tables[0])\n",
    "\n",
    "lang_table = tables[0]"
   ]
  },
  {
   "cell_type": "code",
   "execution_count": null,
   "metadata": {
    "ExecuteTime": {
     "end_time": "2021-04-06T15:42:43.536017Z",
     "start_time": "2021-04-06T15:42:43.532096Z"
    }
   },
   "outputs": [],
   "source": [
    "# format table\n",
    "header_row = 0\n",
    "lang_table.columns = lang_table.iloc[header_row]\n",
    "lang_table = lang_table.drop(header_row)\n",
    "lang_table.reset_index(drop= True, inplace= True)\n",
    "\n",
    "lang_table.replace('English (default)', 'English', inplace= True)\n",
    "# lang_table"
   ]
  },
  {
   "cell_type": "code",
   "execution_count": null,
   "metadata": {
    "ExecuteTime": {
     "end_time": "2021-04-06T15:42:43.544871Z",
     "start_time": "2021-04-06T15:42:43.540129Z"
    }
   },
   "outputs": [],
   "source": [
    "# save as csv in data folder\n",
    "lang_table.to_csv('data/languages.csv', index= False)"
   ]
  },
  {
   "cell_type": "code",
   "execution_count": null,
   "metadata": {
    "ExecuteTime": {
     "end_time": "2021-04-06T15:42:43.555753Z",
     "start_time": "2021-04-06T15:42:43.546375Z"
    }
   },
   "outputs": [],
   "source": [
    "# look at 'und' language \n",
    "df[df['language'] == 'und']"
   ]
  },
  {
   "cell_type": "markdown",
   "metadata": {},
   "source": [
    "It appears that the 'und' or possibly 'undetermined' language are tweets that do not include text to help us with our sentiment analysis. We will remove those from our DataFrame."
   ]
  },
  {
   "cell_type": "code",
   "execution_count": null,
   "metadata": {
    "ExecuteTime": {
     "end_time": "2021-04-06T15:42:43.561652Z",
     "start_time": "2021-04-06T15:42:43.557135Z"
    }
   },
   "outputs": [],
   "source": [
    "df = df[df['language'] != 'und']\n",
    "# df.info()"
   ]
  },
  {
   "cell_type": "markdown",
   "metadata": {},
   "source": [
    "Merge the data with the languages to see the whole name of languages"
   ]
  },
  {
   "cell_type": "code",
   "execution_count": null,
   "metadata": {
    "ExecuteTime": {
     "end_time": "2021-04-06T15:42:43.578220Z",
     "start_time": "2021-04-06T15:42:43.562947Z"
    }
   },
   "outputs": [],
   "source": [
    "# merge data with language names\n",
    "df2 = df.merge(lang_table, how= 'inner', left_on= 'language', right_on= 'Language code')\n",
    "df2.info()"
   ]
  },
  {
   "cell_type": "code",
   "execution_count": null,
   "metadata": {
    "ExecuteTime": {
     "end_time": "2021-04-06T15:42:43.594500Z",
     "start_time": "2021-04-06T15:42:43.579632Z"
    },
    "scrolled": true
   },
   "outputs": [],
   "source": [
    "# drop extra columns and rename them and change dates to datetime and drop time\n",
    "df2.drop(columns = ['language', 'Language code'], inplace= True)\n",
    "df2.rename(columns={'Name': 'language'}, inplace= True)\n",
    "df2['time'] = pd.to_datetime(df2['time']).dt.date\n",
    "# df2"
   ]
  },
  {
   "cell_type": "markdown",
   "metadata": {},
   "source": [
    "Let's see how many Tweets are in each language?"
   ]
  },
  {
   "cell_type": "code",
   "execution_count": null,
   "metadata": {
    "ExecuteTime": {
     "end_time": "2021-04-06T15:42:43.897106Z",
     "start_time": "2021-04-06T15:42:43.596449Z"
    }
   },
   "outputs": [],
   "source": [
    "sns.countplot(y= 'language', data= df2)"
   ]
  },
  {
   "cell_type": "markdown",
   "metadata": {},
   "source": [
    "The majority of Tweets are in English. Let's see what the other languages are."
   ]
  },
  {
   "cell_type": "code",
   "execution_count": null,
   "metadata": {
    "ExecuteTime": {
     "end_time": "2021-04-06T15:42:44.193508Z",
     "start_time": "2021-04-06T15:42:43.899008Z"
    },
    "scrolled": false
   },
   "outputs": [],
   "source": [
    "# countplot that excludes English to see detail\n",
    "plt.figure(figsize= (10, 8))\n",
    "sns.countplot(y= 'language', data= df2, palette='plasma',\n",
    "              order= df2.language.value_counts().iloc[1:].index)\n",
    "plt.title('Count of Tweets, Excluding English', fontsize= 14)\n",
    "plt.xlabel('# of Tweets')\n",
    "plt.ylabel('Language')\n",
    "plt.show()"
   ]
  },
  {
   "cell_type": "markdown",
   "metadata": {},
   "source": [
    "After English, the top 3 languages for Tweets about the COVID-19 vaccine are in French, Spanish, and Japanese."
   ]
  },
  {
   "cell_type": "code",
   "execution_count": null,
   "metadata": {
    "ExecuteTime": {
     "end_time": "2021-04-06T15:42:44.203888Z",
     "start_time": "2021-04-06T15:42:44.195409Z"
    }
   },
   "outputs": [],
   "source": [
    "df2.head(10)"
   ]
  },
  {
   "cell_type": "markdown",
   "metadata": {},
   "source": [
    "#### Translate to English using Google Cloud Platform's API\n",
    "\n",
    "**Most of this section has been commented out to prevent running on Google Cloud.**"
   ]
  },
  {
   "cell_type": "code",
   "execution_count": null,
   "metadata": {
    "ExecuteTime": {
     "end_time": "2021-04-06T15:42:44.214269Z",
     "start_time": "2021-04-06T15:42:44.206898Z"
    }
   },
   "outputs": [],
   "source": [
    "# send in credentials that are saved on local computer\n",
    "credentials = service_account.Credentials.from_service_account_file('../GCP_service_account.json')\n",
    "translate_client = translate.Client(credentials = credentials)"
   ]
  },
  {
   "cell_type": "code",
   "execution_count": null,
   "metadata": {
    "ExecuteTime": {
     "end_time": "2021-04-06T15:42:44.423096Z",
     "start_time": "2021-04-06T15:42:44.215986Z"
    },
    "scrolled": true
   },
   "outputs": [],
   "source": [
    "# see all languages that Google can translate\n",
    "print(translate_client.get_languages())"
   ]
  },
  {
   "cell_type": "code",
   "execution_count": null,
   "metadata": {
    "ExecuteTime": {
     "end_time": "2021-04-06T15:42:44.427706Z",
     "start_time": "2021-04-06T15:42:44.425028Z"
    }
   },
   "outputs": [],
   "source": [
    "# separate non-English tweets for faster translating\n",
    "part_df = df2.loc[16100:]\n",
    "# part_df.language.value_counts(normalize= True)"
   ]
  },
  {
   "cell_type": "code",
   "execution_count": null,
   "metadata": {
    "ExecuteTime": {
     "end_time": "2021-04-06T15:42:44.433146Z",
     "start_time": "2021-04-06T15:42:44.429550Z"
    }
   },
   "outputs": [],
   "source": [
    "# create dictionary to save original tweet and translated one\n",
    "# commented out to prevent re-running on Google Cloud\n",
    "'''\n",
    "results = {}\n",
    "\n",
    "# translate tweets into English\n",
    "for i in part_df.tweets.loc[:]:\n",
    "    result = translate_client.translate(i, target_language= 'en')\n",
    "    results[i] = result['translatedText']\n",
    "'''"
   ]
  },
  {
   "cell_type": "code",
   "execution_count": null,
   "metadata": {
    "ExecuteTime": {
     "end_time": "2021-04-06T15:42:44.437612Z",
     "start_time": "2021-04-06T15:42:44.435048Z"
    }
   },
   "outputs": [],
   "source": [
    "# replace with English translation\n",
    "# df2.tweets.replace(results, inplace= True)"
   ]
  },
  {
   "cell_type": "code",
   "execution_count": null,
   "metadata": {
    "ExecuteTime": {
     "end_time": "2021-04-06T15:42:44.442024Z",
     "start_time": "2021-04-06T15:42:44.439988Z"
    }
   },
   "outputs": [],
   "source": [
    "# preview previously French Tweets\n",
    "# df2[df2['language'] == 'French']"
   ]
  },
  {
   "cell_type": "code",
   "execution_count": null,
   "metadata": {
    "ExecuteTime": {
     "end_time": "2021-04-06T15:42:44.446155Z",
     "start_time": "2021-04-06T15:42:44.444064Z"
    }
   },
   "outputs": [],
   "source": [
    "# save to csv file\n",
    "# df2.to_csv('data/tweets_translated.csv', index= False)"
   ]
  },
  {
   "cell_type": "markdown",
   "metadata": {},
   "source": [
    "## Text Sentiment\n",
    "---\n",
    "Does the tweet have a positive, negative, or neutral tone?"
   ]
  },
  {
   "cell_type": "markdown",
   "metadata": {},
   "source": [
    "### Feature Engineering for Text Data\n",
    "--- \n",
    "stopword removal\n",
    "frequency distributions\n",
    "lemmatization\n",
    "bigramsm n-grams, and mutal information score"
   ]
  },
  {
   "cell_type": "code",
   "execution_count": null,
   "metadata": {
    "ExecuteTime": {
     "end_time": "2021-04-06T15:42:44.512150Z",
     "start_time": "2021-04-06T15:42:44.448155Z"
    }
   },
   "outputs": [],
   "source": [
    "# load data from csv\n",
    "df2 = pd.read_csv('data/tweets_translated.csv')"
   ]
  },
  {
   "cell_type": "code",
   "execution_count": null,
   "metadata": {
    "ExecuteTime": {
     "end_time": "2021-04-06T15:42:44.523121Z",
     "start_time": "2021-04-06T15:42:44.514091Z"
    }
   },
   "outputs": [],
   "source": [
    "# remove language column\n",
    "sentiment_df = df2[['time', 'tweets']]\n",
    "sentiment_df.head()"
   ]
  },
  {
   "cell_type": "markdown",
   "metadata": {},
   "source": [
    "### Google Cloud Platform Natural Language Processing"
   ]
  },
  {
   "cell_type": "code",
   "execution_count": null,
   "metadata": {
    "ExecuteTime": {
     "end_time": "2021-04-06T15:42:44.532271Z",
     "start_time": "2021-04-06T15:42:44.525189Z"
    }
   },
   "outputs": [],
   "source": [
    "# input credentials from local file to access Google Cloud Platform\n",
    "credentials = service_account.Credentials.from_service_account_file('../GCP_service_account.json')\n",
    "nlp_client = language.Client(credentials = credentials)"
   ]
  },
  {
   "cell_type": "code",
   "execution_count": null,
   "metadata": {
    "ExecuteTime": {
     "end_time": "2021-04-06T15:42:44.537796Z",
     "start_time": "2021-04-06T15:42:44.534205Z"
    }
   },
   "outputs": [],
   "source": [
    "# function to collect sentiment from Google Cloud\n",
    "scores = []\n",
    "magnitudes = []\n",
    "\n",
    "def getGoogleSentiments(txt):\n",
    "    document = nlp_client.document_from_text(txt)\n",
    "    \n",
    "    sent_analysis = document.analyze_sentiment()\n",
    "    sentiment = sent_analysis.sentiment\n",
    "    \n",
    "    # get score and magnitude and add to list\n",
    "    score = sentiment.score\n",
    "    scores.append(score)\n",
    "    magnitude = sentiment.magnitude\n",
    "    magnitudes.append(magnitude)\n",
    "    # add delay to prevent hitting rate limit\n",
    "    time.sleep(5)\n"
   ]
  },
  {
   "cell_type": "code",
   "execution_count": null,
   "metadata": {
    "ExecuteTime": {
     "end_time": "2021-04-06T15:42:44.542205Z",
     "start_time": "2021-04-06T15:42:44.539878Z"
    },
    "scrolled": true
   },
   "outputs": [],
   "source": [
    "# get sentiment score and magnitude from function\n",
    "# google_sent = sentiment_df.tweets.apply(getGoogleSentiments)"
   ]
  },
  {
   "cell_type": "markdown",
   "metadata": {},
   "source": [
    "Unfortunately, I hit the free trial limit and was unable to utilize the service. There were 5546 scores and magnitudes that were added to a partial DataFrame."
   ]
  },
  {
   "cell_type": "markdown",
   "metadata": {},
   "source": [
    "_Google Cloud's Natural Language sentiment analysis markers:_\n",
    "\n",
    "**Score** of the sentiment ranges between -1.0 (negative) and 1.0 (positive) and corresponds to the overall emotional leaning of the text.\n",
    "\n",
    "**Magnitude** indicates the overall strength of emotion (both positive and negative) within the given text, between 0.0 and +inf. Unlike score, magnitude is not normalized; each expression of emotion within the text (both positive and negative) contributes to the text's magnitude (so longer text blocks may have greater magnitudes)."
   ]
  },
  {
   "cell_type": "code",
   "execution_count": null,
   "metadata": {
    "ExecuteTime": {
     "end_time": "2021-04-06T15:42:44.889291Z",
     "start_time": "2021-04-06T15:42:38.486Z"
    }
   },
   "outputs": [],
   "source": [
    "''' This cell has been commented out, was created when Google Cloud code ran -  \n",
    "saved list items to DataFrame and saved to csv\n",
    "\n",
    "sentiment_part = sentiment_df[:5546]\n",
    "sentiment_partial = sentiment_part.copy()\n",
    "\n",
    "# add lists to DataFrame as new columns\n",
    "sentiment_partial['Google Score'] = scores\n",
    "sentiment_partial['Google Magnitude'] = magnitudes\n",
    "\n",
    "# function to determine if Tweet was positive, negative, or neutral\n",
    "def getTextAnalysis(p):\n",
    "    if p < 0:\n",
    "        return 'Negative'\n",
    "    elif p == 0:\n",
    "        return 'Neutral'\n",
    "    else:\n",
    "        return 'Positive'\n",
    "\n",
    "sentiment_partial['Google Sentiment'] = sentiment_partial['Google Score'].apply(getTextAnalysis)\n",
    "\n",
    "# save to csv file\n",
    "sentiment_partial.to_csv('data/tweets_google_sentiment.csv', index= False)\n",
    "'''"
   ]
  },
  {
   "cell_type": "code",
   "execution_count": 3,
   "metadata": {
    "ExecuteTime": {
     "end_time": "2021-04-06T16:50:07.910955Z",
     "start_time": "2021-04-06T16:50:07.886987Z"
    }
   },
   "outputs": [],
   "source": [
    "# load csv file to plot\n",
    "google_partial = pd.read_csv('data/tweets_google_sentiment.csv')"
   ]
  },
  {
   "cell_type": "code",
   "execution_count": 16,
   "metadata": {
    "ExecuteTime": {
     "end_time": "2021-04-06T17:01:35.710958Z",
     "start_time": "2021-04-06T17:01:35.590899Z"
    }
   },
   "outputs": [
    {
     "data": {
      "image/png": "[encoded data removed]",
      "text/plain": [
       "<Figure size 720x432 with 1 Axes>"
      ]
     },
     "metadata": {},
     "output_type": "display_data"
    }
   ],
   "source": [
    "# plot as bar graph\n",
    "plt.figure(figsize= (10, 6))\n",
    "sns.countplot(data= google_partial, x = 'Google Sentiment')\n",
    "plt.title('Sentiment Analysis of Tweets about COVID-19 Vaccine', fontsize = 14)\n",
    "plt.xlabel('Score')\n",
    "plt.show()"
   ]
  },
  {
   "cell_type": "markdown",
   "metadata": {},
   "source": [
    "The classifications are fairly balanced."
   ]
  },
  {
   "cell_type": "code",
   "execution_count": 17,
   "metadata": {
    "ExecuteTime": {
     "end_time": "2021-04-06T17:01:39.923263Z",
     "start_time": "2021-04-06T17:01:39.641933Z"
    },
    "scrolled": false
   },
   "outputs": [
    {
     "data": {
      "image/png": "[encoded data removed]",
      "text/plain": [
       "<Figure size 720x576 with 1 Axes>"
      ]
     },
     "metadata": {},
     "output_type": "display_data"
    }
   ],
   "source": [
    "# plot polarity and subjectivity and sentiment of the Tweet\n",
    "plt.figure(figsize= (10,8))\n",
    "sns.scatterplot(x= 'Google Score', y= 'Google Magnitude', data= google_partial, hue= 'Google Sentiment')\n",
    "plt.title('Polarity and Subjectivity of COVID-19 Vaccine Tweets by Sentiment', \n",
    "          fontsize = 14, fontweight= 'bold')\n",
    "plt.show()"
   ]
  },
  {
   "cell_type": "markdown",
   "metadata": {},
   "source": [
    "The symmetry of scores and magnitudes is impressive!"
   ]
  },
  {
   "cell_type": "code",
   "execution_count": 39,
   "metadata": {
    "ExecuteTime": {
     "end_time": "2021-04-06T17:25:31.322270Z",
     "start_time": "2021-04-06T17:25:31.088110Z"
    }
   },
   "outputs": [
    {
     "data": {
      "image/png": "[encoded data removed]",
      "text/plain": [
       "<Figure size 1080x576 with 2 Axes>"
      ]
     },
     "metadata": {},
     "output_type": "display_data"
    }
   ],
   "source": [
    "# make boxplot\n",
    "fig, (ax1, ax2) = plt.subplots(1, 2, figsize= (15,8))\n",
    "\n",
    "sns.boxplot(x= 'Google Sentiment', y= 'Google Score', \n",
    "            data= google_partial, ax= ax1)\n",
    "\n",
    "sns.boxplot(x= 'Google Sentiment', y= 'Google Magnitude', \n",
    "            data= google_partial, ax= ax2)\n",
    "ax1.set_title('Google Score Analysis by Sentiment')\n",
    "ax2.set_title('Google Magnitude Analysis by Sentiment')\n",
    "plt.show()"
   ]
  },
  {
   "cell_type": "markdown",
   "metadata": {},
   "source": [
    "### Sentiment Analysis with TextBlob"
   ]
  },
  {
   "cell_type": "code",
   "execution_count": 4,
   "metadata": {
    "ExecuteTime": {
     "end_time": "2021-04-06T16:50:24.087261Z",
     "start_time": "2021-04-06T16:50:24.032742Z"
    }
   },
   "outputs": [],
   "source": [
    "sentiment_df = pd.read_csv('data/tweets_translated.csv')"
   ]
  },
  {
   "cell_type": "code",
   "execution_count": null,
   "metadata": {
    "ExecuteTime": {
     "end_time": "2021-04-06T15:48:48.608623Z",
     "start_time": "2021-04-06T15:48:48.605150Z"
    }
   },
   "outputs": [],
   "source": [
    "# functions to clean tweets, get subjectivity and polarity scores and sentiment\n",
    "def cleanTweet(txt):\n",
    "    return ' '.join(re.sub(\"(@[A-Za-z0-9]+)|([^0-9A-Za-z \\t])|(\\w+:\\/\\/\\S+)|(amp)\", \n",
    "                           \" \", str(txt)).split())\n",
    "\n",
    "def getTextSubjectivity(txt):\n",
    "    return TextBlob(txt).sentiment.subjectivity\n",
    "\n",
    "def getTextPolarity(txt):\n",
    "    return TextBlob(txt).sentiment.polarity\n",
    "\n",
    "# function to determine if Tweet was positive, negative, or neutral\n",
    "def getTextAnalysis(p):\n",
    "    if p < 0:\n",
    "        return 'Negative'\n",
    "    elif p == 0:\n",
    "        return 'Neutral'\n",
    "    else:\n",
    "        return 'Positive'"
   ]
  },
  {
   "cell_type": "markdown",
   "metadata": {},
   "source": [
    "_In TextBlob:_\n",
    "\n",
    "**Subjectivity** - Subjective sentences generally refer to personal opinion, emotion \n",
    "    or judgment whereas objective refers to factual information. \n",
    "    Subjectivity is also a float which lies in the range of (0,1)\n",
    "    \n",
    "**Polarity** - a float which lies in the range of (-1,1) \n",
    "    where 1 means positive statement and -1 means a negative statement"
   ]
  },
  {
   "cell_type": "code",
   "execution_count": null,
   "metadata": {
    "ExecuteTime": {
     "end_time": "2021-04-06T15:49:13.471939Z",
     "start_time": "2021-04-06T15:49:06.124190Z"
    }
   },
   "outputs": [],
   "source": [
    "# apply functions to tweets\n",
    "sentiment_df['tweets'] = sentiment_df['tweets'].apply(cleanTweet)\n",
    "sentiment_df['TB Subjectivity'] = sentiment_df['tweets'].apply(getTextSubjectivity)\n",
    "sentiment_df['TB Polarity'] = sentiment_df['tweets'].apply(getTextPolarity)\n",
    "sentiment_df['TB Sentiment'] = sentiment_df['TB Polarity'].apply(getTextAnalysis)\n",
    "sentiment_df"
   ]
  },
  {
   "cell_type": "code",
   "execution_count": null,
   "metadata": {
    "ExecuteTime": {
     "end_time": "2021-04-06T15:49:19.918020Z",
     "start_time": "2021-04-06T15:49:19.816812Z"
    }
   },
   "outputs": [],
   "source": [
    "# plot as bar graph\n",
    "plt.figure(figsize= (10, 6))\n",
    "sns.countplot(data= sentiment_df, x = 'TB Sentiment')\n",
    "plt.title('Sentiment Analysis of Tweets about COVID-19 Vaccine', fontsize = 14)\n",
    "plt.xlabel('Score')\n",
    "plt.show()"
   ]
  },
  {
   "cell_type": "code",
   "execution_count": null,
   "metadata": {
    "ExecuteTime": {
     "end_time": "2021-04-06T15:50:07.486417Z",
     "start_time": "2021-04-06T15:50:06.918999Z"
    },
    "scrolled": false
   },
   "outputs": [],
   "source": [
    "# plot polarity and subjectivity and sentiment of the Tweet\n",
    "plt.figure(figsize= (10,8))\n",
    "sns.scatterplot(x= 'TB Polarity', y= 'TB Subjectivity', data= sentiment_df, hue= 'TB Sentiment')\n",
    "plt.title('Polarity and Subjectivity of COVID-19 Vaccine Tweets by Sentiment', \n",
    "          fontsize = 14, fontweight= 'bold')\n",
    "plt.show()"
   ]
  },
  {
   "cell_type": "code",
   "execution_count": 22,
   "metadata": {
    "ExecuteTime": {
     "end_time": "2021-04-06T17:07:26.072322Z",
     "start_time": "2021-04-06T17:07:25.904738Z"
    },
    "scrolled": false
   },
   "outputs": [
    {
     "data": {
      "image/png": "[encoded data removed]",
      "text/plain": [
       "<Figure size 864x504 with 1 Axes>"
      ]
     },
     "metadata": {},
     "output_type": "display_data"
    }
   ],
   "source": [
    "# plot averages\n",
    "sentiment_df.groupby(['TB Sentiment']).mean().plot(kind= 'barh', \n",
    "                                                   figsize= (12,7), \n",
    "                                                   color= ['#f49103', '#c2213a'])\n",
    "\n",
    "plt.title('Average Subjectivity and Polarity by Sentiment', fontsize = 12)\n",
    "plt.ylabel('Sentiment')\n",
    "plt.xlabel('Average')\n",
    "plt.legend(loc= 'lower right', bbox_to_anchor= (1.2, .75))\n",
    "plt.show()"
   ]
  },
  {
   "cell_type": "markdown",
   "metadata": {},
   "source": [
    "Since the criteria for a neutral Tweet was a polarity = 0, neutral Tweets have no polarity"
   ]
  },
  {
   "cell_type": "code",
   "execution_count": 26,
   "metadata": {
    "ExecuteTime": {
     "end_time": "2021-04-06T17:11:05.998294Z",
     "start_time": "2021-04-06T17:11:05.864681Z"
    }
   },
   "outputs": [
    {
     "data": {
      "image/png": "[encoded data removed]",
      "text/plain": [
       "<Figure size 576x432 with 1 Axes>"
      ]
     },
     "metadata": {},
     "output_type": "display_data"
    }
   ],
   "source": [
    "# other way to view above chart without subjectivity\n",
    "plt.figure(figsize= (8, 6))\n",
    "sns.boxplot(x= 'TB Sentiment', y= 'TB Polarity', data= sentiment_df)\n",
    "plt.show()"
   ]
  },
  {
   "cell_type": "code",
   "execution_count": null,
   "metadata": {
    "ExecuteTime": {
     "end_time": "2021-04-06T16:12:31.874184Z",
     "start_time": "2021-04-06T16:12:31.863232Z"
    }
   },
   "outputs": [],
   "source": [
    "sentiment_df.groupby(['TB Sentiment']).mean()"
   ]
  },
  {
   "cell_type": "markdown",
   "metadata": {},
   "source": [
    "* There are about 3 times more positive Tweets than negative ones\n",
    "* Positive and negative Tweets have very similar Subjectivity scores (referring to opinions rather than facts)\n",
    "* Positive Tweets have a higher polarity than negative Tweets (positive Tweets are more positive than negative Tweets are negative)"
   ]
  },
  {
   "cell_type": "code",
   "execution_count": null,
   "metadata": {
    "ExecuteTime": {
     "end_time": "2021-04-06T15:48:48.623210Z",
     "start_time": "2021-04-06T15:48:48.560Z"
    }
   },
   "outputs": [],
   "source": [
    "# save all to csv\n",
    "# sentiment_df.to_csv('data/tweets_sentiment_data.csv', index= False)"
   ]
  },
  {
   "cell_type": "markdown",
   "metadata": {},
   "source": [
    "### Word Cloud, Word Freqency and Bigram"
   ]
  },
  {
   "cell_type": "code",
   "execution_count": null,
   "metadata": {
    "ExecuteTime": {
     "end_time": "2021-04-06T15:57:26.896299Z",
     "start_time": "2021-04-06T15:57:25.459264Z"
    }
   },
   "outputs": [],
   "source": [
    "# create word cloud\n",
    "words = ' '.join([tweet for tweet in sentiment_df['tweets']])\n",
    "wc = WordCloud(background_color= '#222222').generate(words)\n",
    "plt.figure(figsize= (10, 6))\n",
    "plt.imshow(wc.recolor(colormap= 'spring'))\n",
    "plt.axis('off')\n",
    "plt.title('COVID-19 Vaccine Word Cloud')\n",
    "plt.show()"
   ]
  },
  {
   "cell_type": "code",
   "execution_count": null,
   "metadata": {
    "ExecuteTime": {
     "end_time": "2021-04-06T15:58:06.983733Z",
     "start_time": "2021-04-06T15:58:05.002653Z"
    },
    "scrolled": true
   },
   "outputs": [],
   "source": [
    "# tokenizing\n",
    "tokens = sentiment_df['tweets'].map(word_tokenize)\n",
    "tokens"
   ]
  },
  {
   "cell_type": "code",
   "execution_count": null,
   "metadata": {
    "ExecuteTime": {
     "end_time": "2021-04-06T15:58:14.567774Z",
     "start_time": "2021-04-06T15:58:14.563788Z"
    }
   },
   "outputs": [],
   "source": [
    "# create stopwords list\n",
    "stopwords_list = stopwords.words('english')\n",
    "stopwords_list += list(string.punctuation)"
   ]
  },
  {
   "cell_type": "code",
   "execution_count": null,
   "metadata": {
    "ExecuteTime": {
     "end_time": "2021-04-06T15:58:16.880314Z",
     "start_time": "2021-04-06T15:58:16.004998Z"
    }
   },
   "outputs": [],
   "source": [
    " # remove stop words make make all words lowercase\n",
    "stopped_data = [w.lower() for l in tokens for w in l if w not in stopwords_list]\n",
    "print(len(stopped_data))\n",
    "stopped_data"
   ]
  },
  {
   "cell_type": "code",
   "execution_count": null,
   "metadata": {
    "ExecuteTime": {
     "end_time": "2021-04-06T15:58:17.405785Z",
     "start_time": "2021-04-06T15:58:17.229497Z"
    }
   },
   "outputs": [],
   "source": [
    "# show 20 most common words\n",
    "words_freq = FreqDist(stopped_data)\n",
    "freq_words_20 = words_freq.most_common(20)"
   ]
  },
  {
   "cell_type": "code",
   "execution_count": null,
   "metadata": {
    "ExecuteTime": {
     "end_time": "2021-04-06T16:18:33.909909Z",
     "start_time": "2021-04-06T16:18:33.905285Z"
    },
    "scrolled": true
   },
   "outputs": [],
   "source": [
    "freq_words_20"
   ]
  },
  {
   "cell_type": "code",
   "execution_count": null,
   "metadata": {
    "ExecuteTime": {
     "end_time": "2021-04-06T16:20:59.336003Z",
     "start_time": "2021-04-06T16:20:59.333092Z"
    }
   },
   "outputs": [],
   "source": [
    "# separate elements to plot\n",
    "x_val = [x[0] for x in freq_words_20]\n",
    "y_val = [x[1] for x in freq_words_20]\n",
    "\n",
    "# plot 20 most frequent words\n",
    "plt.figure(figsize= (15, 10))\n",
    "sns.barplot(y = x_val, x= y_val, palette= 'RdYlBu')\n",
    "\n",
    "plt.title('20 Most Common Words')\n",
    "plt.xlabel('Times Used')\n",
    "plt.yticks(fontsize= 14)\n",
    "plt.ylabel('Word')\n",
    "plt.show()"
   ]
  },
  {
   "cell_type": "code",
   "execution_count": null,
   "metadata": {
    "ExecuteTime": {
     "end_time": "2021-04-06T16:20:36.514341Z",
     "start_time": "2021-04-06T16:20:35.325901Z"
    }
   },
   "outputs": [],
   "source": [
    "#bigrams\n",
    "bigram_measures = nltk.collocations.BigramAssocMeasures()\n",
    "\n",
    "tweets_finder = nltk.collocations.BigramCollocationFinder.from_words(stopped_data)\n",
    "\n",
    "tweets_scored = tweets_finder.score_ngrams(bigram_measures.raw_freq)\n",
    "tweets_scored[:10]"
   ]
  },
  {
   "cell_type": "markdown",
   "metadata": {},
   "source": [
    "### Differences from Google and TextBlob"
   ]
  },
  {
   "cell_type": "code",
   "execution_count": 6,
   "metadata": {
    "ExecuteTime": {
     "end_time": "2021-04-06T16:51:41.196039Z",
     "start_time": "2021-04-06T16:51:41.151210Z"
    }
   },
   "outputs": [],
   "source": [
    "# sentiment_df = pd.read_csv('data/text_sentiment_TextBlob.csv')"
   ]
  },
  {
   "cell_type": "code",
   "execution_count": 9,
   "metadata": {
    "ExecuteTime": {
     "end_time": "2021-04-06T16:52:17.300720Z",
     "start_time": "2021-04-06T16:52:17.296735Z"
    }
   },
   "outputs": [],
   "source": [
    "temp_part = sentiment_df[:5546]\n",
    "tb_part = temp_part[['TB Sentiment']]\n",
    "tb_partial = tb_part.copy()"
   ]
  },
  {
   "cell_type": "code",
   "execution_count": 10,
   "metadata": {
    "ExecuteTime": {
     "end_time": "2021-04-06T16:52:18.272486Z",
     "start_time": "2021-04-06T16:52:18.264543Z"
    }
   },
   "outputs": [
    {
     "name": "stdout",
     "output_type": "stream",
     "text": [
      "<class 'pandas.core.frame.DataFrame'>\n",
      "RangeIndex: 5546 entries, 0 to 5545\n",
      "Data columns (total 1 columns):\n",
      " #   Column        Non-Null Count  Dtype \n",
      "---  ------        --------------  ----- \n",
      " 0   TB Sentiment  5546 non-null   object\n",
      "dtypes: object(1)\n",
      "memory usage: 43.5+ KB\n"
     ]
    }
   ],
   "source": [
    "tb_partial.info()"
   ]
  },
  {
   "cell_type": "code",
   "execution_count": 11,
   "metadata": {
    "ExecuteTime": {
     "end_time": "2021-04-06T16:52:23.552367Z",
     "start_time": "2021-04-06T16:52:23.541791Z"
    },
    "scrolled": true
   },
   "outputs": [
    {
     "name": "stdout",
     "output_type": "stream",
     "text": [
      "<class 'pandas.core.frame.DataFrame'>\n",
      "RangeIndex: 5546 entries, 0 to 5545\n",
      "Data columns (total 5 columns):\n",
      " #   Column            Non-Null Count  Dtype  \n",
      "---  ------            --------------  -----  \n",
      " 0   time              5546 non-null   object \n",
      " 1   tweets            5546 non-null   object \n",
      " 2   Google Score      5546 non-null   float64\n",
      " 3   Google Magnitude  5546 non-null   float64\n",
      " 4   Google Sentiment  5546 non-null   object \n",
      "dtypes: float64(2), object(3)\n",
      "memory usage: 216.8+ KB\n"
     ]
    }
   ],
   "source": [
    "google_partial.info()"
   ]
  },
  {
   "cell_type": "code",
   "execution_count": 14,
   "metadata": {
    "ExecuteTime": {
     "end_time": "2021-04-06T16:53:00.846673Z",
     "start_time": "2021-04-06T16:53:00.842112Z"
    }
   },
   "outputs": [],
   "source": [
    "# join dfs together\n",
    "together_df = pd.concat([google_partial, tb_partial], axis= 1, join= 'outer')\n",
    "together_df.info()"
   ]
  },
  {
   "cell_type": "code",
   "execution_count": 15,
   "metadata": {
    "ExecuteTime": {
     "end_time": "2021-04-06T16:53:01.510537Z",
     "start_time": "2021-04-06T16:53:01.499832Z"
    }
   },
   "outputs": [
    {
     "name": "stdout",
     "output_type": "stream",
     "text": [
      "<class 'pandas.core.frame.DataFrame'>\n",
      "RangeIndex: 5546 entries, 0 to 5545\n",
      "Data columns (total 6 columns):\n",
      " #   Column            Non-Null Count  Dtype  \n",
      "---  ------            --------------  -----  \n",
      " 0   time              5546 non-null   object \n",
      " 1   tweets            5546 non-null   object \n",
      " 2   Google Score      5546 non-null   float64\n",
      " 3   Google Magnitude  5546 non-null   float64\n",
      " 4   Google Sentiment  5546 non-null   object \n",
      " 5   TB Sentiment      5546 non-null   object \n",
      "dtypes: float64(2), object(4)\n",
      "memory usage: 260.1+ KB\n"
     ]
    }
   ],
   "source": [
    "together_df.plot(x = [])"
   ]
  },
  {
   "cell_type": "code",
   "execution_count": 44,
   "metadata": {
    "ExecuteTime": {
     "end_time": "2021-04-06T17:30:11.871940Z",
     "start_time": "2021-04-06T17:30:11.856817Z"
    },
    "scrolled": true
   },
   "outputs": [
    {
     "data": {
      "text/html": [
       "<div>\n",
       "<style scoped>\n",
       "    .dataframe tbody tr th:only-of-type {\n",
       "        vertical-align: middle;\n",
       "    }\n",
       "\n",
       "    .dataframe tbody tr th {\n",
       "        vertical-align: top;\n",
       "    }\n",
       "\n",
       "    .dataframe thead th {\n",
       "        text-align: right;\n",
       "    }\n",
       "</style>\n",
       "<table border=\"1\" class=\"dataframe\">\n",
       "  <thead>\n",
       "    <tr style=\"text-align: right;\">\n",
       "      <th></th>\n",
       "      <th>time</th>\n",
       "      <th>tweets</th>\n",
       "      <th>Google Score</th>\n",
       "      <th>Google Magnitude</th>\n",
       "      <th>Google Sentiment</th>\n",
       "      <th>TB Sentiment</th>\n",
       "    </tr>\n",
       "  </thead>\n",
       "  <tbody>\n",
       "    <tr>\n",
       "      <th>0</th>\n",
       "      <td>2021-04-01</td>\n",
       "      <td>Concerning the use of aborted baby tissue in the J&amp;amp;J Covid vaccine:\\n\\n“The J&amp;amp;J vaccine has sparked debate among some religious communities because it was developed from stem cells obtained during two abortions decades ago.”\\n\\nEvil is still evil, even if it was decades ago.</td>\n",
       "      <td>-0.4</td>\n",
       "      <td>1.2</td>\n",
       "      <td>Negative</td>\n",
       "      <td>Negative</td>\n",
       "    </tr>\n",
       "    <tr>\n",
       "      <th>1</th>\n",
       "      <td>2021-04-01</td>\n",
       "      <td>imagine an animal getting the covid-19 vaccine b4 a human</td>\n",
       "      <td>0.0</td>\n",
       "      <td>0.0</td>\n",
       "      <td>Neutral</td>\n",
       "      <td>Neutral</td>\n",
       "    </tr>\n",
       "    <tr>\n",
       "      <th>2</th>\n",
       "      <td>2021-04-01</td>\n",
       "      <td>Definition of a microstate: https://t.co/8N0R8Mhl73\\n\\nSource of vaccine data: https://t.co/0RQFJPTrZZ</td>\n",
       "      <td>0.0</td>\n",
       "      <td>0.2</td>\n",
       "      <td>Neutral</td>\n",
       "      <td>Neutral</td>\n",
       "    </tr>\n",
       "    <tr>\n",
       "      <th>3</th>\n",
       "      <td>2021-04-01</td>\n",
       "      <td>If I’ve Had COVID-19, Do I Still Need Two Doses of Vaccine? https://t.co/08AiBgfEHQ</td>\n",
       "      <td>0.0</td>\n",
       "      <td>0.5</td>\n",
       "      <td>Neutral</td>\n",
       "      <td>Neutral</td>\n",
       "    </tr>\n",
       "    <tr>\n",
       "      <th>4</th>\n",
       "      <td>2021-04-01</td>\n",
       "      <td>My epidural was delayed again, somehow my covid vaccine does not interact well with an epidural. SOOOOO I should be getting it on my birthday. Yay. \\n\\n So far I have 1-2 dr appointments a week this entire month.\\n  \\nOn the upside they've given me proper muscle relaxers this time.</td>\n",
       "      <td>0.1</td>\n",
       "      <td>3.1</td>\n",
       "      <td>Positive</td>\n",
       "      <td>Positive</td>\n",
       "    </tr>\n",
       "    <tr>\n",
       "      <th>...</th>\n",
       "      <td>...</td>\n",
       "      <td>...</td>\n",
       "      <td>...</td>\n",
       "      <td>...</td>\n",
       "      <td>...</td>\n",
       "      <td>...</td>\n",
       "    </tr>\n",
       "    <tr>\n",
       "      <th>5541</th>\n",
       "      <td>2021-04-02</td>\n",
       "      <td>@Ladyjustice1312 @StephenBevan15 @mcfunny @fredwibblington @PierreKory @krebiozen @Kathmarval @BreezerGalway @crabb_vicki @KubeCatherine @GarySlegg @LauraSc72529359 @sim0n40 @dave_odo @agent_deadfool @BottomleyFiona @Theonew16516042 @CoralBlob @rossmarwood @jneill @silversynergy @Adelere @BaileInis @AdamBlayney @thewibblemovem1 @nickdalton1972 @_johnbye @UnjustSociety1 @MrsSarahMurray @CpnSindbad @k_b_lvi @KAS118 @gordonrlove @braidedmanga @1ohreally @timbofive @mancunianmedic @AsItIs13658173 @William25844148 @botvolution @detroutspinner1 @fiski70 @marmite @LucifersTweetz @bbcquestiontime @Covid19Critical @BIRDGroupUK I have had the Astra Zeneca vaccine and feel fine. I now have protection against Covid 19 and reduced ability to pass it on to anyone else. \\n\\nThe world has not gone insane, we are just trying to stop a virus that has killed at least 2.8M people so far. Covid is real.</td>\n",
       "      <td>0.2</td>\n",
       "      <td>2.3</td>\n",
       "      <td>Positive</td>\n",
       "      <td>Negative</td>\n",
       "    </tr>\n",
       "    <tr>\n",
       "      <th>5542</th>\n",
       "      <td>2021-04-02</td>\n",
       "      <td>@simsy1977 Related topic - insurance companies say that if the EU insists on a vaccine certificate to travel to an EU state, they will have make it compulsory as a condition of obtaining travel insurance, at a higher price to cover the cost of Covid treatment.\\nThey can’t wait to rip us off.</td>\n",
       "      <td>-0.6</td>\n",
       "      <td>1.2</td>\n",
       "      <td>Negative</td>\n",
       "      <td>Positive</td>\n",
       "    </tr>\n",
       "    <tr>\n",
       "      <th>5543</th>\n",
       "      <td>2021-04-02</td>\n",
       "      <td>How one state is tracing 'vaccine breakthrough' cases: fully vaccinated people who test positive for COVID-19 https://t.co/Pz9qlGJ4G5</td>\n",
       "      <td>0.0</td>\n",
       "      <td>0.0</td>\n",
       "      <td>Neutral</td>\n",
       "      <td>Positive</td>\n",
       "    </tr>\n",
       "    <tr>\n",
       "      <th>5544</th>\n",
       "      <td>2021-04-02</td>\n",
       "      <td>How one state is tracing 'vaccine breakthrough' cases: fully vaccinated people who test positive for COVID-19 https://t.co/k3GeG7dEzv</td>\n",
       "      <td>0.0</td>\n",
       "      <td>0.0</td>\n",
       "      <td>Neutral</td>\n",
       "      <td>Positive</td>\n",
       "    </tr>\n",
       "    <tr>\n",
       "      <th>5545</th>\n",
       "      <td>2021-04-02</td>\n",
       "      <td>Mayor de Blasio &amp;amp; Gov Cuomo are still being bulldozed by unions. Even though all teachers in NYC who wanted a Covid vaccine have had one, many schools are closed\\n\\nSimilar gov’t incompetence &amp;amp; corruption are causing harm to kids &amp;amp; families throughout the US that can’t be undone</td>\n",
       "      <td>-0.5</td>\n",
       "      <td>1.7</td>\n",
       "      <td>Negative</td>\n",
       "      <td>Positive</td>\n",
       "    </tr>\n",
       "  </tbody>\n",
       "</table>\n",
       "<p>5546 rows × 6 columns</p>\n",
       "</div>"
      ],
      "text/plain": [
       "            time  \\\n",
       "0     2021-04-01   \n",
       "1     2021-04-01   \n",
       "2     2021-04-01   \n",
       "3     2021-04-01   \n",
       "4     2021-04-01   \n",
       "...          ...   \n",
       "5541  2021-04-02   \n",
       "5542  2021-04-02   \n",
       "5543  2021-04-02   \n",
       "5544  2021-04-02   \n",
       "5545  2021-04-02   \n",
       "\n",
       "                                                                                                                                                                                                                                                                                                                                                                                                                                                                                                                                                                                                                                                                                                                                                                                                                                                                                                                               tweets  \\\n",
       "0                                                                                                                                                                                                                                                                                                                                                                                                                                                                                                                                                                                                                                         Concerning the use of aborted baby tissue in the J&amp;J Covid vaccine:\\n\\n“The J&amp;J vaccine has sparked debate among some religious communities because it was developed from stem cells obtained during two abortions decades ago.”\\n\\nEvil is still evil, even if it was decades ago.   \n",
       "1                                                                                                                                                                                                                                                                                                                                                                                                                                                                                                                                                                                                                                                                                                                                                                                                                                                                           imagine an animal getting the covid-19 vaccine b4 a human   \n",
       "2                                                                                                                                                                                                                                                                                                                                                                                                                                                                                                                                                                                                                                                                                                                                                                                                                              Definition of a microstate: https://t.co/8N0R8Mhl73\\n\\nSource of vaccine data: https://t.co/0RQFJPTrZZ   \n",
       "3                                                                                                                                                                                                                                                                                                                                                                                                                                                                                                                                                                                                                                                                                                                                                                                                                                                 If I’ve Had COVID-19, Do I Still Need Two Doses of Vaccine? https://t.co/08AiBgfEHQ   \n",
       "4                                                                                                                                                                                                                                                                                                                                                                                                                                                                                                                                                                                                                                          My epidural was delayed again, somehow my covid vaccine does not interact well with an epidural. SOOOOO I should be getting it on my birthday. Yay. \\n\\n So far I have 1-2 dr appointments a week this entire month.\\n  \\nOn the upside they've given me proper muscle relaxers this time.   \n",
       "...                                                                                                                                                                                                                                                                                                                                                                                                                                                                                                                                                                                                                                                                                                                                                                                                                                                                                                                               ...   \n",
       "5541  @Ladyjustice1312 @StephenBevan15 @mcfunny @fredwibblington @PierreKory @krebiozen @Kathmarval @BreezerGalway @crabb_vicki @KubeCatherine @GarySlegg @LauraSc72529359 @sim0n40 @dave_odo @agent_deadfool @BottomleyFiona @Theonew16516042 @CoralBlob @rossmarwood @jneill @silversynergy @Adelere @BaileInis @AdamBlayney @thewibblemovem1 @nickdalton1972 @_johnbye @UnjustSociety1 @MrsSarahMurray @CpnSindbad @k_b_lvi @KAS118 @gordonrlove @braidedmanga @1ohreally @timbofive @mancunianmedic @AsItIs13658173 @William25844148 @botvolution @detroutspinner1 @fiski70 @marmite @LucifersTweetz @bbcquestiontime @Covid19Critical @BIRDGroupUK I have had the Astra Zeneca vaccine and feel fine. I now have protection against Covid 19 and reduced ability to pass it on to anyone else. \\n\\nThe world has not gone insane, we are just trying to stop a virus that has killed at least 2.8M people so far. Covid is real.   \n",
       "5542                                                                                                                                                                                                                                                                                                                                                                                                                                                                                                                                                                                                                             @simsy1977 Related topic - insurance companies say that if the EU insists on a vaccine certificate to travel to an EU state, they will have make it compulsory as a condition of obtaining travel insurance, at a higher price to cover the cost of Covid treatment.\\nThey can’t wait to rip us off.   \n",
       "5543                                                                                                                                                                                                                                                                                                                                                                                                                                                                                                                                                                                                                                                                                                                                                                                            How one state is tracing 'vaccine breakthrough' cases: fully vaccinated people who test positive for COVID-19 https://t.co/Pz9qlGJ4G5   \n",
       "5544                                                                                                                                                                                                                                                                                                                                                                                                                                                                                                                                                                                                                                                                                                                                                                                            How one state is tracing 'vaccine breakthrough' cases: fully vaccinated people who test positive for COVID-19 https://t.co/k3GeG7dEzv   \n",
       "5545                                                                                                                                                                                                                                                                                                                                                                                                                                                                                                                                                                                                                              Mayor de Blasio &amp; Gov Cuomo are still being bulldozed by unions. Even though all teachers in NYC who wanted a Covid vaccine have had one, many schools are closed\\n\\nSimilar gov’t incompetence &amp; corruption are causing harm to kids &amp; families throughout the US that can’t be undone   \n",
       "\n",
       "      Google Score  Google Magnitude Google Sentiment TB Sentiment  \n",
       "0             -0.4               1.2         Negative     Negative  \n",
       "1              0.0               0.0          Neutral      Neutral  \n",
       "2              0.0               0.2          Neutral      Neutral  \n",
       "3              0.0               0.5          Neutral      Neutral  \n",
       "4              0.1               3.1         Positive     Positive  \n",
       "...            ...               ...              ...          ...  \n",
       "5541           0.2               2.3         Positive     Negative  \n",
       "5542          -0.6               1.2         Negative     Positive  \n",
       "5543           0.0               0.0          Neutral     Positive  \n",
       "5544           0.0               0.0          Neutral     Positive  \n",
       "5545          -0.5               1.7         Negative     Positive  \n",
       "\n",
       "[5546 rows x 6 columns]"
      ]
     },
     "execution_count": 44,
     "metadata": {},
     "output_type": "execute_result"
    }
   ],
   "source": [
    "together_df"
   ]
  },
  {
   "cell_type": "markdown",
   "metadata": {},
   "source": [
    "For fun, let's see some Tweets that TextBlob and Google ranked differently."
   ]
  },
  {
   "cell_type": "code",
   "execution_count": 95,
   "metadata": {
    "ExecuteTime": {
     "end_time": "2021-04-06T18:25:56.346453Z",
     "start_time": "2021-04-06T18:25:56.333602Z"
    }
   },
   "outputs": [
    {
     "data": {
      "text/html": [
       "<div>\n",
       "<style scoped>\n",
       "    .dataframe tbody tr th:only-of-type {\n",
       "        vertical-align: middle;\n",
       "    }\n",
       "\n",
       "    .dataframe tbody tr th {\n",
       "        vertical-align: top;\n",
       "    }\n",
       "\n",
       "    .dataframe thead th {\n",
       "        text-align: right;\n",
       "    }\n",
       "</style>\n",
       "<table border=\"1\" class=\"dataframe\">\n",
       "  <thead>\n",
       "    <tr style=\"text-align: right;\">\n",
       "      <th></th>\n",
       "      <th>time</th>\n",
       "      <th>tweets</th>\n",
       "      <th>Google Score</th>\n",
       "      <th>Google Magnitude</th>\n",
       "      <th>Google Sentiment</th>\n",
       "      <th>TB Sentiment</th>\n",
       "    </tr>\n",
       "  </thead>\n",
       "  <tbody>\n",
       "    <tr>\n",
       "      <th>5</th>\n",
       "      <td>2021-04-01</td>\n",
       "      <td>Blake Lively hilariously called out her husband Ryan Reynolds for what he posted after they got their COVID-19 vaccine shots https://t.co/GixfzNnHBc</td>\n",
       "      <td>0.0</td>\n",
       "      <td>0.0</td>\n",
       "      <td>Neutral</td>\n",
       "      <td>Positive</td>\n",
       "    </tr>\n",
       "    <tr>\n",
       "      <th>6</th>\n",
       "      <td>2021-04-01</td>\n",
       "      <td>@Kit_Yates_Maths Tests\\n1. Vax deployment ✅✅\\n2. Vax reduces hospitalisation ✅✅\\n3. Infection rates unsubstantiated pressure on NHS ✅\\n4. Variants of concern ☑️\\n\\nSo not measured but very conservative \\nhttps://t.co/iVMKF2pPsF https://t.co/ta4t21HH9s</td>\n",
       "      <td>0.0</td>\n",
       "      <td>1.7</td>\n",
       "      <td>Neutral</td>\n",
       "      <td>Positive</td>\n",
       "    </tr>\n",
       "    <tr>\n",
       "      <th>8</th>\n",
       "      <td>2021-04-01</td>\n",
       "      <td>I received my second dose of the Covid-19 vaccine today. I’m grateful, and hopeful for a return to normalcy on the horizon. I want to thank everyone working so hard to get folks vaccinated. Get your vaccine here: https://t.co/YAl9dOBkLo #GetYourShot #vaccinated https://t.co/WH5AdwbgkP</td>\n",
       "      <td>0.4</td>\n",
       "      <td>1.7</td>\n",
       "      <td>Positive</td>\n",
       "      <td>Negative</td>\n",
       "    </tr>\n",
       "    <tr>\n",
       "      <th>9</th>\n",
       "      <td>2021-04-01</td>\n",
       "      <td>@JoshMatlow Ok how many times has this How do we have vaccine clinics in areas where Covid cases are highest ?\\nOr most important paid sick leave?\\nPlease Mr Matlow what we can we the ordinary citizen do? It seems you are unable to do anything?  I am pleading with you do something!</td>\n",
       "      <td>-0.2</td>\n",
       "      <td>1.6</td>\n",
       "      <td>Negative</td>\n",
       "      <td>Positive</td>\n",
       "    </tr>\n",
       "    <tr>\n",
       "      <th>11</th>\n",
       "      <td>2021-04-01</td>\n",
       "      <td>@Pfizer @moderna_tx @FDA @J&amp;amp;J @AstraZeneca when will the children ages 1-12 Covid vaccine trial be completed? 3 boys aged 5 to 9 waiting with rolled up sleeves. #GetTheShot #GetVaccinated #COVID19</td>\n",
       "      <td>0.0</td>\n",
       "      <td>0.5</td>\n",
       "      <td>Neutral</td>\n",
       "      <td>Negative</td>\n",
       "    </tr>\n",
       "    <tr>\n",
       "      <th>12</th>\n",
       "      <td>2021-04-01</td>\n",
       "      <td>Over 5M Canadians given at least one COVID-19 vaccine dose as rollout picks up steam https://t.co/zk9dQd3mRU</td>\n",
       "      <td>0.0</td>\n",
       "      <td>0.0</td>\n",
       "      <td>Neutral</td>\n",
       "      <td>Negative</td>\n",
       "    </tr>\n",
       "    <tr>\n",
       "      <th>13</th>\n",
       "      <td>2021-04-01</td>\n",
       "      <td>@Bobbyyo48025095 @mtgreenee Exercise is NOT a vaccine. I have students who are young and healthy but got Covid. They survived but now have ongoing lung problems. Everyone needs to vaccinate</td>\n",
       "      <td>-0.2</td>\n",
       "      <td>2.3</td>\n",
       "      <td>Negative</td>\n",
       "      <td>Positive</td>\n",
       "    </tr>\n",
       "    <tr>\n",
       "      <th>14</th>\n",
       "      <td>2021-04-01</td>\n",
       "      <td>Spain’s Madrid region halts COVID-19 vaccinations at health centers for four days so medical staff can rest over the Easter holiday, despite pleas from the national government not to pause the fight against surging infections. https://t.co/m6bKky2u1C</td>\n",
       "      <td>0.1</td>\n",
       "      <td>0.5</td>\n",
       "      <td>Positive</td>\n",
       "      <td>Neutral</td>\n",
       "    </tr>\n",
       "    <tr>\n",
       "      <th>16</th>\n",
       "      <td>2021-04-01</td>\n",
       "      <td>@ZaidJilani Vermont has different formal eligibility rules based on whether you are a BIPOC household. \\n\\nhttps://t.co/eZbrFlIBsS</td>\n",
       "      <td>0.1</td>\n",
       "      <td>0.4</td>\n",
       "      <td>Positive</td>\n",
       "      <td>Neutral</td>\n",
       "    </tr>\n",
       "    <tr>\n",
       "      <th>17</th>\n",
       "      <td>2021-04-01</td>\n",
       "      <td>COVID cases spiking in Massachusetts, more communities now at high-risk\\n\\n\"... B.1.1.7 is widespread in Massachusetts and is circulating within communities...It is critical to do everything possible to keep variants of concern from becoming more widespread\"\\nhttps://t.co/4u2WNwhsjp</td>\n",
       "      <td>-0.2</td>\n",
       "      <td>0.6</td>\n",
       "      <td>Negative</td>\n",
       "      <td>Positive</td>\n",
       "    </tr>\n",
       "  </tbody>\n",
       "</table>\n",
       "</div>"
      ],
      "text/plain": [
       "          time  \\\n",
       "5   2021-04-01   \n",
       "6   2021-04-01   \n",
       "8   2021-04-01   \n",
       "9   2021-04-01   \n",
       "11  2021-04-01   \n",
       "12  2021-04-01   \n",
       "13  2021-04-01   \n",
       "14  2021-04-01   \n",
       "16  2021-04-01   \n",
       "17  2021-04-01   \n",
       "\n",
       "                                                                                                                                                                                                                                                                                           tweets  \\\n",
       "5                                                                                                                                            Blake Lively hilariously called out her husband Ryan Reynolds for what he posted after they got their COVID-19 vaccine shots https://t.co/GixfzNnHBc   \n",
       "6                                     @Kit_Yates_Maths Tests\\n1. Vax deployment ✅✅\\n2. Vax reduces hospitalisation ✅✅\\n3. Infection rates unsubstantiated pressure on NHS ✅\\n4. Variants of concern ☑️\\n\\nSo not measured but very conservative \\nhttps://t.co/iVMKF2pPsF https://t.co/ta4t21HH9s   \n",
       "8   I received my second dose of the Covid-19 vaccine today. I’m grateful, and hopeful for a return to normalcy on the horizon. I want to thank everyone working so hard to get folks vaccinated. Get your vaccine here: https://t.co/YAl9dOBkLo #GetYourShot #vaccinated https://t.co/WH5AdwbgkP   \n",
       "9      @JoshMatlow Ok how many times has this How do we have vaccine clinics in areas where Covid cases are highest ?\\nOr most important paid sick leave?\\nPlease Mr Matlow what we can we the ordinary citizen do? It seems you are unable to do anything?  I am pleading with you do something!   \n",
       "11                                                                                       @Pfizer @moderna_tx @FDA @J&amp;J @AstraZeneca when will the children ages 1-12 Covid vaccine trial be completed? 3 boys aged 5 to 9 waiting with rolled up sleeves. #GetTheShot #GetVaccinated #COVID19   \n",
       "12                                                                                                                                                                                   Over 5M Canadians given at least one COVID-19 vaccine dose as rollout picks up steam https://t.co/zk9dQd3mRU   \n",
       "13                                                                                                  @Bobbyyo48025095 @mtgreenee Exercise is NOT a vaccine. I have students who are young and healthy but got Covid. They survived but now have ongoing lung problems. Everyone needs to vaccinate   \n",
       "14                                     Spain’s Madrid region halts COVID-19 vaccinations at health centers for four days so medical staff can rest over the Easter holiday, despite pleas from the national government not to pause the fight against surging infections. https://t.co/m6bKky2u1C   \n",
       "16                                                                                                                                                             @ZaidJilani Vermont has different formal eligibility rules based on whether you are a BIPOC household. \\n\\nhttps://t.co/eZbrFlIBsS   \n",
       "17    COVID cases spiking in Massachusetts, more communities now at high-risk\\n\\n\"... B.1.1.7 is widespread in Massachusetts and is circulating within communities...It is critical to do everything possible to keep variants of concern from becoming more widespread\"\\nhttps://t.co/4u2WNwhsjp   \n",
       "\n",
       "    Google Score  Google Magnitude Google Sentiment TB Sentiment  \n",
       "5            0.0               0.0          Neutral     Positive  \n",
       "6            0.0               1.7          Neutral     Positive  \n",
       "8            0.4               1.7         Positive     Negative  \n",
       "9           -0.2               1.6         Negative     Positive  \n",
       "11           0.0               0.5          Neutral     Negative  \n",
       "12           0.0               0.0          Neutral     Negative  \n",
       "13          -0.2               2.3         Negative     Positive  \n",
       "14           0.1               0.5         Positive      Neutral  \n",
       "16           0.1               0.4         Positive      Neutral  \n",
       "17          -0.2               0.6         Negative     Positive  "
      ]
     },
     "execution_count": 95,
     "metadata": {},
     "output_type": "execute_result"
    }
   ],
   "source": [
    "different = together_df[together_df['TB Sentiment'] != together_df['Google Sentiment']]\n",
    "different.head(10)"
   ]
  },
  {
   "cell_type": "code",
   "execution_count": 94,
   "metadata": {
    "ExecuteTime": {
     "end_time": "2021-04-06T18:24:12.261642Z",
     "start_time": "2021-04-06T18:24:12.258176Z"
    }
   },
   "outputs": [
    {
     "data": {
      "text/plain": [
       "0.5394879192210602"
      ]
     },
     "execution_count": 94,
     "metadata": {},
     "output_type": "execute_result"
    }
   ],
   "source": [
    "# percent of tweets rated differently\n",
    "len(different) / len(together_df)"
   ]
  },
  {
   "cell_type": "markdown",
   "metadata": {},
   "source": [
    "53% of Tweets were given different sentiments from Google and TextBlob"
   ]
  },
  {
   "cell_type": "code",
   "execution_count": 82,
   "metadata": {
    "ExecuteTime": {
     "end_time": "2021-04-06T18:10:28.220246Z",
     "start_time": "2021-04-06T18:10:28.214515Z"
    },
    "scrolled": true
   },
   "outputs": [
    {
     "name": "stdout",
     "output_type": "stream",
     "text": [
      "Google: \n",
      "Negative    2068\n",
      "Positive    1976\n",
      "Neutral     1502\n",
      "Name: Google Sentiment, dtype: int64 \n",
      "\n",
      "TextBlob: \n",
      "Positive    2704\n",
      "Neutral     1790\n",
      "Negative    1052\n",
      "Name: TB Sentiment, dtype: int64\n"
     ]
    }
   ],
   "source": [
    "ggl_vals = together_df['Google Sentiment'].value_counts()\n",
    "tb_vals = together_df['TB Sentiment'].value_counts()\n",
    "print ('Google: \\n{} \\n\\nTextBlob: \\n{}'.format(ggl_vals, tb_vals))"
   ]
  },
  {
   "cell_type": "markdown",
   "metadata": {},
   "source": [
    "Since values are in a different order, they will be re-ordered before plotted."
   ]
  },
  {
   "cell_type": "code",
   "execution_count": 96,
   "metadata": {
    "ExecuteTime": {
     "end_time": "2021-04-06T18:26:52.509932Z",
     "start_time": "2021-04-06T18:26:52.380419Z"
    }
   },
   "outputs": [
    {
     "data": {
      "image/png": "[encoded data removed]",
      "text/plain": [
       "<Figure size 792x504 with 1 Axes>"
      ]
     },
     "metadata": {},
     "output_type": "display_data"
    }
   ],
   "source": [
    "index = np.arange(3)\n",
    "bar_width = 0.35\n",
    "\n",
    "# get values in same order\n",
    "g_vals = [ggl_vals[0], ggl_vals[2], ggl_vals[1]]\n",
    "t_vals = [tb_vals[2], tb_vals[1], tb_vals[0]]\n",
    "\n",
    "#plot\n",
    "fig, ax = plt.subplots(figsize= (11,7))\n",
    "google = ax.bar(index, g_vals, bar_width, label= 'Google')\n",
    "textbb = ax.bar(index + bar_width, t_vals, bar_width, label= 'TextBlob', color='#f49103')\n",
    "\n",
    "# set labels\n",
    "ax.set_xlabel('Sentiment')\n",
    "ax.set_ylabel('Counts')\n",
    "ax.set_title('Google vs TextBlob Sentiments', fontsize = 15)\n",
    "ax.set_xticks(index + bar_width / 2)\n",
    "ax.set_xticklabels(['Negative', 'Neutral', 'Positive'])\n",
    "\n",
    "plt.legend()\n",
    "plt.show()"
   ]
  },
  {
   "cell_type": "markdown",
   "metadata": {},
   "source": [
    "We can see that Google's Natural Language Analysis and TextBlob's analysis yield different results.\n",
    "* Google had almost twice as many negative Tweets as TextBlob\n",
    "* TextBlob ranked 25% more Tweets as 'Positive'"
   ]
  },
  {
   "cell_type": "code",
   "execution_count": 110,
   "metadata": {
    "ExecuteTime": {
     "end_time": "2021-04-06T18:31:08.340247Z",
     "start_time": "2021-04-06T18:31:08.295308Z"
    }
   },
   "outputs": [],
   "source": [
    "# together_df.to_csv('data/google_tb_sentiments.csv', index= False)"
   ]
  },
  {
   "cell_type": "markdown",
   "metadata": {},
   "source": [
    "## Classification Modeling\n",
    "---\n",
    "Time to vectorize and build some models!"
   ]
  },
  {
   "cell_type": "code",
   "execution_count": 99,
   "metadata": {
    "ExecuteTime": {
     "end_time": "2021-04-06T18:28:13.243446Z",
     "start_time": "2021-04-06T18:28:13.201582Z"
    }
   },
   "outputs": [],
   "source": [
    "data = pd.read_csv('data/text_sentiment_TextBlob.csv')"
   ]
  },
  {
   "cell_type": "code",
   "execution_count": 101,
   "metadata": {
    "ExecuteTime": {
     "end_time": "2021-04-06T18:28:42.083166Z",
     "start_time": "2021-04-06T18:28:42.079910Z"
    }
   },
   "outputs": [],
   "source": [
    "# create lists of only tweets or labels, convert tweets to unicode\n",
    "X = data['tweets'].astype('U')\n",
    "y = data['TB Sentiment']"
   ]
  },
  {
   "cell_type": "code",
   "execution_count": 102,
   "metadata": {
    "ExecuteTime": {
     "end_time": "2021-04-06T18:28:43.831119Z",
     "start_time": "2021-04-06T18:28:43.825331Z"
    }
   },
   "outputs": [],
   "source": [
    "X_train, X_test, y_train, y_test = train_test_split(X, y, test_size = .2)"
   ]
  },
  {
   "cell_type": "code",
   "execution_count": 103,
   "metadata": {
    "ExecuteTime": {
     "end_time": "2021-04-06T18:28:44.626019Z",
     "start_time": "2021-04-06T18:28:44.622998Z"
    }
   },
   "outputs": [],
   "source": [
    "# use TweetTokenizer and TF IDF Vectorizer\n",
    "def tokenize(tweet):\n",
    "    tknzr = TweetTokenizer(strip_handles=True, reduce_len=True, preserve_case=False)\n",
    "    return tknzr.tokenize(tweet)\n",
    "\n",
    "tfidf_vect = TfidfVectorizer(stop_words= 'english', tokenizer= tokenize)"
   ]
  },
  {
   "cell_type": "code",
   "execution_count": 104,
   "metadata": {
    "ExecuteTime": {
     "end_time": "2021-04-06T18:28:48.198440Z",
     "start_time": "2021-04-06T18:28:45.355325Z"
    }
   },
   "outputs": [],
   "source": [
    "tfidf_Xtrain = tfidf_vect.fit_transform(X_train)\n",
    "tfidf_Xtest = tfidf_vect.transform(X_test)"
   ]
  },
  {
   "cell_type": "code",
   "execution_count": 105,
   "metadata": {
    "ExecuteTime": {
     "end_time": "2021-04-06T18:28:48.423681Z",
     "start_time": "2021-04-06T18:28:48.420268Z"
    }
   },
   "outputs": [
    {
     "name": "stdout",
     "output_type": "stream",
     "text": [
      "Xtest shape: (3715, 19879)\n",
      "Xtrain shape: (14860, 19879)\n"
     ]
    }
   ],
   "source": [
    "print('Xtest shape:', tfidf_Xtest.shape)\n",
    "print('Xtrain shape:', tfidf_Xtrain.shape)"
   ]
  },
  {
   "cell_type": "markdown",
   "metadata": {},
   "source": [
    "### Building Models"
   ]
  },
  {
   "cell_type": "code",
   "execution_count": 116,
   "metadata": {
    "ExecuteTime": {
     "end_time": "2021-04-06T18:34:13.533515Z",
     "start_time": "2021-04-06T18:34:13.530487Z"
    }
   },
   "outputs": [],
   "source": [
    "# import necessary libraries for modeling\n",
    "from sklearn.metrics import f1_score, accuracy_score, classification_report,\\\n",
    "confusion_matrix, roc_auc_score, plot_confusion_matrix, plot_roc_curve\n",
    "\n",
    "from sklearn.naive_bayes import MultinomialNB\n",
    "from sklearn.linear_model import LogisticRegression\n",
    "from sklearn.ensemble import RandomForestClassifier\n",
    "from xgboost import XGBClassifier\n",
    "from sklearn.svm import SVC\n",
    "\n",
    "from sklearn.model_selection import GridSearchCV, RandomizedSearchCV"
   ]
  },
  {
   "cell_type": "code",
   "execution_count": 107,
   "metadata": {
    "ExecuteTime": {
     "end_time": "2021-04-06T18:28:49.981466Z",
     "start_time": "2021-04-06T18:28:49.978845Z"
    }
   },
   "outputs": [],
   "source": [
    "# instantiate classifiers for vanilla models\n",
    "classifiers = {\n",
    "    'Logistic Regression' : LogisticRegression(max_iter=200), \n",
    "    'Random Forest' : RandomForestClassifier(), \n",
    "    'Support Vector Machine' : SVC(), \n",
    "    'XGBoost' : XGBClassifier(), \n",
    "    'Naive Bayes' : MultinomialNB()\n",
    "}"
   ]
  },
  {
   "cell_type": "code",
   "execution_count": 111,
   "metadata": {
    "ExecuteTime": {
     "end_time": "2021-04-06T18:33:18.874912Z",
     "start_time": "2021-04-06T18:31:48.933198Z"
    }
   },
   "outputs": [],
   "source": [
    "# create DataFrame to hold results from vanilla models\n",
    "# takes approx 2 mins to run\n",
    "results = pd.DataFrame(columns= ['Train_accuracy', 'Test_accuracy', \n",
    "                                 'Weighted_F1_score'])\n",
    "\n",
    "# predict, get accuracy and f1 scores and add to dataframe\n",
    "conf_matrices = []\n",
    "for key, value in classifiers.items():\n",
    "    # fit models\n",
    "    value.fit(tfidf_Xtrain, y_train)\n",
    "    train_pred = value.predict(tfidf_Xtrain)\n",
    "    y_pred = value.predict(tfidf_Xtest)\n",
    "    \n",
    "    # get accuracy, f1 score\n",
    "    train_acc = accuracy_score(y_train, train_pred) * 100\n",
    "    test_acc = accuracy_score(y_test, y_pred) * 100\n",
    "    weight_f1 = f1_score(y_test, y_pred, average= 'weighted')\n",
    "    \n",
    "    # get false neg and true positive\n",
    "    # add to confusion matrices list to view later if desired\n",
    "    cm = confusion_matrix(y_test, y_pred)\n",
    "    conf_matrices.append(cm)\n",
    "    \n",
    "    # add measurements to datafram\n",
    "    results.loc[key] = [round(train_acc, 2), round(test_acc, 2), \n",
    "                        round(weight_f1, 2)]"
   ]
  },
  {
   "cell_type": "code",
   "execution_count": 112,
   "metadata": {
    "ExecuteTime": {
     "end_time": "2021-04-06T18:33:19.174195Z",
     "start_time": "2021-04-06T18:33:19.165991Z"
    }
   },
   "outputs": [
    {
     "data": {
      "text/html": [
       "<div>\n",
       "<style scoped>\n",
       "    .dataframe tbody tr th:only-of-type {\n",
       "        vertical-align: middle;\n",
       "    }\n",
       "\n",
       "    .dataframe tbody tr th {\n",
       "        vertical-align: top;\n",
       "    }\n",
       "\n",
       "    .dataframe thead th {\n",
       "        text-align: right;\n",
       "    }\n",
       "</style>\n",
       "<table border=\"1\" class=\"dataframe\">\n",
       "  <thead>\n",
       "    <tr style=\"text-align: right;\">\n",
       "      <th></th>\n",
       "      <th>Train_accuracy</th>\n",
       "      <th>Test_accuracy</th>\n",
       "      <th>Weighted_F1_score</th>\n",
       "    </tr>\n",
       "  </thead>\n",
       "  <tbody>\n",
       "    <tr>\n",
       "      <th>Logistic Regression</th>\n",
       "      <td>90.49</td>\n",
       "      <td>77.95</td>\n",
       "      <td>0.77</td>\n",
       "    </tr>\n",
       "    <tr>\n",
       "      <th>XGBoost</th>\n",
       "      <td>85.28</td>\n",
       "      <td>77.39</td>\n",
       "      <td>0.77</td>\n",
       "    </tr>\n",
       "    <tr>\n",
       "      <th>Support Vector Machine</th>\n",
       "      <td>98.45</td>\n",
       "      <td>77.28</td>\n",
       "      <td>0.76</td>\n",
       "    </tr>\n",
       "    <tr>\n",
       "      <th>Random Forest</th>\n",
       "      <td>99.90</td>\n",
       "      <td>75.40</td>\n",
       "      <td>0.74</td>\n",
       "    </tr>\n",
       "    <tr>\n",
       "      <th>Naive Bayes</th>\n",
       "      <td>71.06</td>\n",
       "      <td>61.75</td>\n",
       "      <td>0.55</td>\n",
       "    </tr>\n",
       "  </tbody>\n",
       "</table>\n",
       "</div>"
      ],
      "text/plain": [
       "                        Train_accuracy  Test_accuracy  Weighted_F1_score\n",
       "Logistic Regression              90.49          77.95               0.77\n",
       "XGBoost                          85.28          77.39               0.77\n",
       "Support Vector Machine           98.45          77.28               0.76\n",
       "Random Forest                    99.90          75.40               0.74\n",
       "Naive Bayes                      71.06          61.75               0.55"
      ]
     },
     "execution_count": 112,
     "metadata": {},
     "output_type": "execute_result"
    }
   ],
   "source": [
    "results.sort_values(by= ['Test_accuracy', 'Weighted_F1_score'], ascending= False)"
   ]
  },
  {
   "cell_type": "markdown",
   "metadata": {},
   "source": [
    "Naive Bayes performed the worst while XGBoost performed the best with the least amount of overfitting. \n",
    "\n",
    "Next, let's tune some hyperparameters and see if we can get better results."
   ]
  },
  {
   "cell_type": "markdown",
   "metadata": {},
   "source": [
    "#### Hyperparameter Tuning"
   ]
  },
  {
   "cell_type": "code",
   "execution_count": 113,
   "metadata": {
    "ExecuteTime": {
     "end_time": "2021-04-06T18:33:19.480571Z",
     "start_time": "2021-04-06T18:33:19.443882Z"
    }
   },
   "outputs": [],
   "source": [
    "# function to get results after each model\n",
    "\n",
    "def get_results(model, model_name):\n",
    "    train_pred = model.predict(tfidf_Xtrain)\n",
    "    y_pred = model.predict(tfidf_Xtest)\n",
    "    \n",
    "    # get classification report\n",
    "    print('{} Classification Report'.format(model_name))\n",
    "    print(classification_report(y_test, y_pred))\n",
    "    \n",
    "    # get confusion matrix\n",
    "    plot_confusion_matrix(model, tfidf_Xtest, y_test, cmap= \"Blues\", \n",
    "                          values_format= '.5g')\n",
    "    plt.grid(False)\n",
    "    plt.title('{} Confusion Matrix'.format(model_name))\n",
    "    plt.show()\n",
    "    \n",
    "    # get accuracy and F1 scores\n",
    "    train_acc = accuracy_score(y_train, train_pred) * 100\n",
    "    test_acc = accuracy_score(y_test, y_pred) * 100\n",
    "    macro_f1 = f1_score(y_test, y_pred, average= 'macro')\n",
    "    weight_f1 = f1_score(y_test, y_pred, average= 'weighted')\n",
    "    \n",
    "    #get false neg and true positive\n",
    "    cm = confusion_matrix(y_test, y_pred)\n",
    "    \n",
    "    # save measurements into results df\n",
    "    results.loc[model_name] = [round(train_acc, 2), round(test_acc, 2), \n",
    "                               round(macro_f1, 2), round(weight_f1, 2)]"
   ]
  },
  {
   "cell_type": "markdown",
   "metadata": {},
   "source": [
    "**XGBoost**"
   ]
  },
  {
   "cell_type": "code",
   "execution_count": 114,
   "metadata": {
    "ExecuteTime": {
     "end_time": "2021-04-06T18:33:19.743441Z",
     "start_time": "2021-04-06T18:33:19.740775Z"
    }
   },
   "outputs": [],
   "source": [
    "# set up hyperparameter grid\n",
    "param_grid_xgb = {\n",
    "    'learning_rate' : [0.05, 0.08, 0.1, 0.2],\n",
    "    'max_depth' : [3, 4, 6, 8], \n",
    "    'min_child_weight' : [1, 2, 3]\n",
    "}"
   ]
  },
  {
   "cell_type": "code",
   "execution_count": null,
   "metadata": {
    "ExecuteTime": {
     "start_time": "2021-04-06T18:34:19.221Z"
    }
   },
   "outputs": [],
   "source": [
    "# instantiate classifer, fit on model through randomized search\n",
    "xgb = XGBClassifier(objective= 'softmax')\n",
    "RS_xgb = RandomizedSearchCV(xgb, param_grid_xgb, scoring= 'f1_weighted', random_state= 27)\n",
    "RS_xgb.fit(tfidf_Xtrain, y_train)"
   ]
  },
  {
   "cell_type": "code",
   "execution_count": null,
   "metadata": {
    "ExecuteTime": {
     "start_time": "2021-04-06T18:34:19.325Z"
    }
   },
   "outputs": [],
   "source": [
    "RS_xgb.fit(tfidf_Xtrain, y_train)"
   ]
  },
  {
   "cell_type": "code",
   "execution_count": null,
   "metadata": {
    "ExecuteTime": {
     "start_time": "2021-04-06T18:34:26.775Z"
    }
   },
   "outputs": [],
   "source": [
    "RS_xgb.best_params_"
   ]
  },
  {
   "cell_type": "code",
   "execution_count": null,
   "metadata": {
    "ExecuteTime": {
     "start_time": "2021-04-06T18:34:27.463Z"
    }
   },
   "outputs": [],
   "source": [
    "get_results(RS_xgb, 'RS XGBoost')"
   ]
  },
  {
   "cell_type": "code",
   "execution_count": null,
   "metadata": {
    "ExecuteTime": {
     "start_time": "2021-04-06T18:34:28.307Z"
    }
   },
   "outputs": [],
   "source": [
    "# original confusion matrix that was not tuned\n",
    "conf_matrices[3]"
   ]
  },
  {
   "cell_type": "markdown",
   "metadata": {},
   "source": [
    "**Random Forest**"
   ]
  },
  {
   "cell_type": "code",
   "execution_count": null,
   "metadata": {
    "ExecuteTime": {
     "end_time": "2021-04-06T18:28:22.386824Z",
     "start_time": "2021-04-06T18:28:22.382Z"
    }
   },
   "outputs": [],
   "source": [
    "param_grid_rf = {\n",
    "    'n_estimators' : [100, 150], \n",
    "    'max_depth' : [100, 120], \n",
    "    'min_samples_split' : [2, 4, 8], \n",
    "    'min_samples_leaf' : [3, 5]\n",
    "}"
   ]
  },
  {
   "cell_type": "code",
   "execution_count": null,
   "metadata": {
    "ExecuteTime": {
     "end_time": "2021-04-06T18:28:22.389460Z",
     "start_time": "2021-04-06T18:28:22.385Z"
    }
   },
   "outputs": [],
   "source": [
    "rf = RandomForestClassifier()\n",
    "RS_rf = RandomizedSearchCV(rf, param_grid_rf, n_iter= 20, scoring= 'f1_weighted', \n",
    "                          random_state= 27)\n",
    "RS_rf.fit(tfidf_Xtrain, y_train)"
   ]
  },
  {
   "cell_type": "code",
   "execution_count": null,
   "metadata": {
    "ExecuteTime": {
     "end_time": "2021-04-06T18:28:22.390553Z",
     "start_time": "2021-04-06T18:28:22.387Z"
    }
   },
   "outputs": [],
   "source": [
    "RS_rf.best_params_"
   ]
  },
  {
   "cell_type": "code",
   "execution_count": null,
   "metadata": {
    "ExecuteTime": {
     "end_time": "2021-04-06T18:28:22.393118Z",
     "start_time": "2021-04-06T18:28:22.390Z"
    }
   },
   "outputs": [],
   "source": [
    "get_results(RS_rf, 'RS Random Forest')"
   ]
  },
  {
   "cell_type": "markdown",
   "metadata": {},
   "source": [
    "**Support Vector Machines**"
   ]
  },
  {
   "cell_type": "code",
   "execution_count": null,
   "metadata": {
    "ExecuteTime": {
     "end_time": "2021-04-06T18:28:22.398132Z",
     "start_time": "2021-04-06T18:28:22.393Z"
    }
   },
   "outputs": [],
   "source": [
    "param_grid_svc = {\n",
    "    'kernel': ['rbf'], \n",
    "    'gamma': ['scale', 1e-3, 1e-4, 1e-5],\n",
    "    'C': [1, 10, 100]\n",
    "}"
   ]
  },
  {
   "cell_type": "code",
   "execution_count": null,
   "metadata": {
    "ExecuteTime": {
     "end_time": "2021-04-06T18:28:22.399569Z",
     "start_time": "2021-04-06T18:28:22.396Z"
    }
   },
   "outputs": [],
   "source": [
    "svc = SVC()\n",
    "RS_svc = RandomizedSearchCV(svc, param_grid_svc, scoring= 'f1_weighted')\n",
    "RS_svc.fit(tfidf_Xtrain, y_train)"
   ]
  },
  {
   "cell_type": "code",
   "execution_count": null,
   "metadata": {
    "ExecuteTime": {
     "end_time": "2021-04-06T18:28:22.401930Z",
     "start_time": "2021-04-06T18:28:22.398Z"
    }
   },
   "outputs": [],
   "source": [
    "RS_svc.best_params_"
   ]
  },
  {
   "cell_type": "code",
   "execution_count": null,
   "metadata": {
    "ExecuteTime": {
     "end_time": "2021-04-06T18:28:22.405450Z",
     "start_time": "2021-04-06T18:28:22.401Z"
    }
   },
   "outputs": [],
   "source": [
    "get_results(RS_svc, 'RS Support VM')"
   ]
  },
  {
   "cell_type": "markdown",
   "metadata": {},
   "source": [
    "**Logistic Regression**"
   ]
  },
  {
   "cell_type": "code",
   "execution_count": null,
   "metadata": {
    "ExecuteTime": {
     "end_time": "2021-04-06T18:28:22.408643Z",
     "start_time": "2021-04-06T18:28:22.404Z"
    }
   },
   "outputs": [],
   "source": [
    "param_grid_lg = {\n",
    "    'penalty' : ['l1', 'l2'], \n",
    "    'C': [0.05, 0.1, 1], \n",
    "    'class_weight' : [None, 'balanced']\n",
    "    'random_state' : [27]\n",
    "}"
   ]
  },
  {
   "cell_type": "code",
   "execution_count": null,
   "metadata": {
    "ExecuteTime": {
     "end_time": "2021-04-06T18:28:22.412336Z",
     "start_time": "2021-04-06T18:28:22.407Z"
    }
   },
   "outputs": [],
   "source": [
    "lg = LogisticRegression()\n",
    "GS_lg = GridSearchCV(lg, param_grid_lg, scoring= 'f1_weighted')\n",
    "GS_lg.fit(tfidf_Xtrain, y_train)"
   ]
  },
  {
   "cell_type": "code",
   "execution_count": null,
   "metadata": {
    "ExecuteTime": {
     "end_time": "2021-04-06T18:28:22.413663Z",
     "start_time": "2021-04-06T18:28:22.409Z"
    }
   },
   "outputs": [],
   "source": [
    "GS_lg.best_params_"
   ]
  },
  {
   "cell_type": "code",
   "execution_count": null,
   "metadata": {
    "ExecuteTime": {
     "end_time": "2021-04-06T18:28:22.417097Z",
     "start_time": "2021-04-06T18:28:22.412Z"
    }
   },
   "outputs": [],
   "source": [
    "get_results(GS_lg, 'GS Logistic Regression')"
   ]
  },
  {
   "cell_type": "markdown",
   "metadata": {},
   "source": [
    "## Results"
   ]
  },
  {
   "cell_type": "code",
   "execution_count": null,
   "metadata": {
    "ExecuteTime": {
     "end_time": "2021-04-06T18:28:22.420248Z",
     "start_time": "2021-04-06T18:28:22.416Z"
    },
    "scrolled": true
   },
   "outputs": [],
   "source": [
    "results = results.sort_values(by= ['Test_accuracy', 'Weighted_F1_score'], ascending= False)\n",
    "results"
   ]
  },
  {
   "cell_type": "markdown",
   "metadata": {},
   "source": [
    "### Plots"
   ]
  },
  {
   "cell_type": "code",
   "execution_count": null,
   "metadata": {
    "ExecuteTime": {
     "end_time": "2021-04-06T18:28:22.423774Z",
     "start_time": "2021-04-06T18:28:22.419Z"
    }
   },
   "outputs": [],
   "source": [
    "# plot test accuracy\n",
    "fig, ax = plt.subplots(figsize=(12,8))\n",
    "sns.barplot(x= results['Test_accuracy'], y= results.index, palette = 'twilight')\n",
    "plt.vlines(x= 79.03, ymin = -.5, ymax= 8.25, linestyles= 'dashed', color = 'r', label= 'Test Accuracy 79.03')\n",
    "plt.title('Test Accuracy of all Models', fontsize= 15)\n",
    "plt.ylabel('Model')\n",
    "plt.xlabel('Accuracy in %')\n",
    "plt.xlim(55, 82)\n",
    "ax.legend(loc = 'lower right')\n",
    "plt.show()"
   ]
  },
  {
   "cell_type": "code",
   "execution_count": null,
   "metadata": {
    "ExecuteTime": {
     "end_time": "2021-04-06T18:28:22.427231Z",
     "start_time": "2021-04-06T18:28:22.422Z"
    }
   },
   "outputs": [],
   "source": [
    "# plot weighted f1 score\n",
    "fig, ax = plt.subplots(figsize=(12,8))\n",
    "sns.barplot(x= results['Weighted_F1_score'], y= results.index, \n",
    "            palette = 'twilight')\n",
    "plt.title('Weighted F1 Score of all Models', fontsize= 15)\n",
    "plt.ylabel('Model')\n",
    "plt.xlabel('Weighted F1 Score')\n",
    "plt.xlim(0.45, 0.83)\n",
    "plt.show()"
   ]
  },
  {
   "cell_type": "markdown",
   "metadata": {},
   "source": [
    "### Feature Extraction "
   ]
  },
  {
   "cell_type": "code",
   "execution_count": null,
   "metadata": {},
   "outputs": [],
   "source": []
  },
  {
   "cell_type": "code",
   "execution_count": null,
   "metadata": {},
   "outputs": [],
   "source": []
  },
  {
   "cell_type": "code",
   "execution_count": null,
   "metadata": {},
   "outputs": [],
   "source": []
  },
  {
   "cell_type": "code",
   "execution_count": null,
   "metadata": {},
   "outputs": [],
   "source": []
  },
  {
   "cell_type": "code",
   "execution_count": null,
   "metadata": {},
   "outputs": [],
   "source": []
  },
  {
   "cell_type": "code",
   "execution_count": null,
   "metadata": {},
   "outputs": [],
   "source": []
  }
 ],
 "metadata": {
  "kernelspec": {
   "display_name": "Python 3",
   "language": "python",
   "name": "python3"
  },
  "language_info": {
   "codemirror_mode": {
    "name": "ipython",
    "version": 3
   },
   "file_extension": ".py",
   "mimetype": "text/x-python",
   "name": "python",
   "nbconvert_exporter": "python",
   "pygments_lexer": "ipython3",
   "version": "3.8.5"
  },
  "toc": {
   "base_numbering": 1,
   "nav_menu": {},
   "number_sections": true,
   "sideBar": true,
   "skip_h1_title": true,
   "title_cell": "Table of Contents",
   "title_sidebar": "Contents",
   "toc_cell": false,
   "toc_position": {
    "height": "calc(100% - 180px)",
    "left": "10px",
    "top": "150px",
    "width": "282.797px"
   },
   "toc_section_display": true,
   "toc_window_display": true
  },
  "varInspector": {
   "cols": {
    "lenName": 16,
    "lenType": 16,
    "lenVar": 40
   },
   "kernels_config": {
    "python": {
     "delete_cmd_postfix": "",
     "delete_cmd_prefix": "del ",
     "library": "var_list.py",
     "varRefreshCmd": "print(var_dic_list())"
    },
    "r": {
     "delete_cmd_postfix": ") ",
     "delete_cmd_prefix": "rm(",
     "library": "var_list.r",
     "varRefreshCmd": "cat(var_dic_list()) "
    }
   },
   "types_to_exclude": [
    "module",
    "function",
    "builtin_function_or_method",
    "instance",
    "_Feature"
   ],
   "window_display": false
  }
 },
 "nbformat": 4,
 "nbformat_minor": 4
}
