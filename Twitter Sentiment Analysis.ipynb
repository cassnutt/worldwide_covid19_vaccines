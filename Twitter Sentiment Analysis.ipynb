{
 "cells": [
  {
   "cell_type": "markdown",
   "metadata": {},
   "source": [
    "# Twitter Sentiment Analysis\n",
    "\n",
    "This notebook aims to analyze Tweets made about the COVID-19 vaccine and determine whether the sentiment of the Tweets is negative, positive, or neutral."
   ]
  },
  {
   "cell_type": "markdown",
   "metadata": {},
   "source": [
    "## Libraries"
   ]
  },
  {
   "cell_type": "code",
   "execution_count": 72,
   "metadata": {
    "ExecuteTime": {
     "end_time": "2021-04-03T22:31:39.144085Z",
     "start_time": "2021-04-03T22:31:39.135352Z"
    }
   },
   "outputs": [],
   "source": [
    "import tweepy\n",
    "import webbrowser\n",
    "import pandas as pd\n",
    "import matplotlib.pyplot as plt\n",
    "%matplotlib inline\n",
    "import seaborn as sns\n",
    "sns.set_style('whitegrid')\n",
    "\n",
    "import config\n",
    "pd.set_option('display.max_colwidth', None)\n",
    "\n",
    "from tweepy import OAuthHandler\n",
    "from tweepy import API\n",
    "\n",
    "import os\n",
    "from google.oauth2 import service_account\n",
    "from google.cloud import translate_v2 as translate\n",
    "\n",
    "import nltk\n",
    "from nltk.corpus import gutenberg, stopwords\n",
    "from nltk import FreqDist, word_tokenize\n",
    "import string\n",
    "import re"
   ]
  },
  {
   "cell_type": "markdown",
   "metadata": {},
   "source": [
    "## Gather data from Twitter API"
   ]
  },
  {
   "cell_type": "code",
   "execution_count": 2,
   "metadata": {
    "ExecuteTime": {
     "end_time": "2021-04-03T22:06:10.014455Z",
     "start_time": "2021-04-03T22:06:10.012447Z"
    }
   },
   "outputs": [],
   "source": [
    "# Developer API keys\n",
    "# API keys in config.py in .gitignore\n",
    "callback_uri = 'oob'"
   ]
  },
  {
   "cell_type": "code",
   "execution_count": 3,
   "metadata": {
    "ExecuteTime": {
     "end_time": "2021-04-03T22:06:10.019463Z",
     "start_time": "2021-04-03T22:06:10.016754Z"
    }
   },
   "outputs": [],
   "source": [
    "auth = OAuthHandler(config.consumer_key, config.consumer_secret, callback_uri)\n",
    "auth.set_access_token(config.access_token, config.access_token_secret)"
   ]
  },
  {
   "cell_type": "code",
   "execution_count": 4,
   "metadata": {
    "ExecuteTime": {
     "end_time": "2021-04-03T22:06:10.023665Z",
     "start_time": "2021-04-03T22:06:10.021268Z"
    }
   },
   "outputs": [],
   "source": [
    "api = API(auth, wait_on_rate_limit= True, wait_on_rate_limit_notify= True)"
   ]
  },
  {
   "cell_type": "code",
   "execution_count": 5,
   "metadata": {
    "ExecuteTime": {
     "end_time": "2021-04-03T22:06:10.441283Z",
     "start_time": "2021-04-03T22:06:10.025417Z"
    }
   },
   "outputs": [
    {
     "name": "stdout",
     "output_type": "stream",
     "text": [
      "cassienutter1\n"
     ]
    }
   ],
   "source": [
    "# show my Twitter handle\n",
    "me = api.me()\n",
    "print(me.screen_name)"
   ]
  },
  {
   "cell_type": "code",
   "execution_count": 6,
   "metadata": {
    "ExecuteTime": {
     "end_time": "2021-04-03T22:06:11.945524Z",
     "start_time": "2021-04-03T22:06:10.443531Z"
    }
   },
   "outputs": [
    {
     "name": "stdout",
     "output_type": "stream",
     "text": [
      "0 RT @TOKATODAY: The U.K. has recorded its lowest Covid death rate in six months this week as the vaccine rollout continues to advance.\n",
      "\n",
      "#COV…\n",
      "1 Kenya stops the private importation of COVID-19 vaccines https://t.co/GcVsD2dH4P  #TodaysMedicalUpdate #Medicine… https://t.co/lU1IFACsBD\n",
      "2 I once read a paper where it showed how Covid is a vascular disease and contributes to blood clotting. People with… https://t.co/0TjQyd4bva\n",
      "3 RT @Redpainter1: I fully support your right to not get the COVID vaccine.\n",
      "\n",
      "I also fully support businesses, schools, sporting events, movie…\n",
      "4 2 free webinars next week on0\" COVID-19 Vaccination and Reaching People with Disabilities\" by the Association of Un… https://t.co/zhyYOksyx3\n",
      "5 👏 Well done, Google.\n",
      "\n",
      "\"While there’s still uncertainty ahead, the #vaccine gives us the reason for hope. As the vac… https://t.co/c2aUTHBIpW\n",
      "6 Well, good luck if doctors can spot something so rare and complicated prior to issuing the jab. Better to go for a… https://t.co/2qtNtuYAkD\n",
      "7 15 million J&amp;J COVID Vaccines Thrown Away After Ingredient Mix-Up With AstraZeneca • Children's Health Defense… https://t.co/Ng86HjdCBO\n",
      "8 RT @Redpainter1: I fully support your right to not get the COVID vaccine.\n",
      "\n",
      "I also fully support businesses, schools, sporting events, movie…\n",
      "9 #propaganda #scamdemic #covid #vaccine @ukcolumn https://t.co/NRFrrhp5EO\n",
      "10 Now That You're Vaccinated Against COVID-19, Here's What You Should And Shouldn't Do\n",
      "@ScienceAlert #SARSCoV2… https://t.co/SZLd2z8Bmk\n",
      "11 RT @Redpainter1: I fully support your right to not get the COVID vaccine.\n",
      "\n",
      "I also fully support businesses, schools, sporting events, movie…\n",
      "12 RT @Redpainter1: I fully support your right to not get the COVID vaccine.\n",
      "\n",
      "I also fully support businesses, schools, sporting events, movie…\n",
      "13 As we enter the #vaccination against #covid phase. The #vaccine card given after the process will hold immense impo… https://t.co/IE9cXEj5Nx\n",
      "14 RT @Redpainter1: I fully support your right to not get the COVID vaccine.\n",
      "\n",
      "I also fully support businesses, schools, sporting events, movie…\n",
      "15 RT @Redpainter1: I fully support your right to not get the COVID vaccine.\n",
      "\n",
      "I also fully support businesses, schools, sporting events, movie…\n",
      "16 💉  COVID-19 Vaccination: Social Story online now.\n",
      "\n",
      "Download and view the COVID-19 Vaccination Social Story now👇 👇… https://t.co/qvKE4Bt1C9\n",
      "17 Anyone else that got the COVID vaccine have the immediate side effect of wanting to belt out some @JessicaVosk tunes? #vaccine #livelife\n",
      "18 RT @Redpainter1: I fully support your right to not get the COVID vaccine.\n",
      "\n",
      "I also fully support businesses, schools, sporting events, movie…\n",
      "19 RT @Redpainter1: I fully support your right to not get the COVID vaccine.\n",
      "\n",
      "I also fully support businesses, schools, sporting events, movie…\n",
      "20 RT @WCVB: Nearly 96,000 new doses of #COVID19 #vaccine administered in Massachusetts, the highest daily report yet. https://t.co/Y0XdDngBm9…\n",
      "21 Please tell a friend...or give them a copy of this book. #stopCovid\n",
      "#vaccine #Pfizer #moderna\n",
      "#JohnsonandJohnson\n",
      "Ch… https://t.co/NZnx7xsLQN\n",
      "22 RT @Redpainter1: I fully support your right to not get the COVID vaccine.\n",
      "\n",
      "I also fully support businesses, schools, sporting events, movie…\n",
      "23 Don't freak out if you get these side effects from a Covid-19 #vaccine. They can actually be a good sign  https://t.co/WAXVJwu0iH\n",
      "24 RT @Redpainter1: I fully support your right to not get the COVID vaccine.\n",
      "\n",
      "I also fully support businesses, schools, sporting events, movie…\n",
      "25 How to talk to friends and family who are unsure about getting the COVID-19 vaccine | The New Daily… https://t.co/IlVDzNwwji\n",
      "26 RT @carbonlawptnrs: No jab, no job! \n",
      "\n",
      "But what does the law say? \n",
      "\n",
      "Matthew Huggett, an employment lawyer at Carbon Law Partners, explains t…\n",
      "27 Comparing Japan's #Pfizer  #vaccine side effect rate with elsewhere tough, panel says-JP \n",
      "\n",
      "According to the health… https://t.co/KkurD8DPRR\n",
      "28 RT @Redpainter1: I fully support your right to not get the COVID vaccine.\n",
      "\n",
      "I also fully support businesses, schools, sporting events, movie…\n",
      "29 🔥🔥🔥BREAKING NEWS🔥🔥🔥\n",
      "\n",
      "A source informs me this woman, @SherylCrow , recently attempted, AND SUCCEEDED, in obtaining… https://t.co/hbWqW9M64S\n",
      "30 RT @MicrobesInfo: At least one dose of #COVID-19 #coronavirus #vaccine has been given to over 100 million #Americans ... \n",
      "\n",
      "| #Immunization…\n",
      "31 RT @Redpainter1: I fully support your right to not get the COVID vaccine.\n",
      "\n",
      "I also fully support businesses, schools, sporting events, movie…\n",
      "32 Heading into what seems to be another #COVID19 #surge, some scientists are advocating getting more people at least… https://t.co/wG7slWsQGz\n",
      "33 RT @Redpainter1: I fully support your right to not get the COVID vaccine.\n",
      "\n",
      "I also fully support businesses, schools, sporting events, movie…\n",
      "34 #COVID #찜n진 #skijumpingfamily #SuezCrisis #covid #vaccine #Corona #healt #help #healthylifestyle #healthy… https://t.co/dizYzcbxY9\n",
      "35 #COVID #찜n진 #skijumpingfamily #SuezCrisis #covid #vaccine #Corona #healt #help #healthylifestyle #healthy… https://t.co/v0gtCMQDKf\n",
      "36 RT @BrowseMode: Silicon Valley and #WEF-Backed Foundation Announce Global Initiative for #COVID-19 #Vaccine Records - https://t.co/2TSqvHEE…\n",
      "37 3/ The US &amp; now many health xperts are being as foolish, reckless as #covid deniers, relax everything as if good US… https://t.co/tiDF57GapP\n",
      "38 See How the #Vaccine Rollout Is Going in Your County and State. https://t.co/AvLWAh0nfs\n",
      "39 RT @Redpainter1: I fully support your right to not get the COVID vaccine.\n",
      "\n",
      "I also fully support businesses, schools, sporting events, movie…\n",
      "40 RT @Redpainter1: I fully support your right to not get the COVID vaccine.\n",
      "\n",
      "I also fully support businesses, schools, sporting events, movie…\n",
      "41 RT @Redpainter1: I fully support your right to not get the COVID vaccine.\n",
      "\n",
      "I also fully support businesses, schools, sporting events, movie…\n",
      "42 RT @WCVB: Nearly 96,000 new doses of #COVID19 #vaccine administered in Massachusetts, the highest daily report yet. https://t.co/Y0XdDngBm9…\n",
      "43 RT @Redpainter1: I fully support your right to not get the COVID vaccine.\n",
      "\n",
      "I also fully support businesses, schools, sporting events, movie…\n",
      "44 RT @TomClonan: 👇 Eoghan Clonan got his #Covid #CovidVaccine #Vaccine today in @AVIVAStadium⁩ Heartfelt Thank You &amp; 💚 to all the Lovely Volu…\n",
      "45 Trust us for your COVID-19 vaccine. We are now taking appointments in accordance with the state, KDHE guidelines.… https://t.co/Zn5iw29vZw\n",
      "46 RT @Redpainter1: I fully support your right to not get the COVID vaccine.\n",
      "\n",
      "I also fully support businesses, schools, sporting events, movie…\n",
      "47 RT @Gtv_Luna: #COVID19 #CCPVirus #vaccine #CovidVaccine #sideeffects\n",
      "Listen and think about it before you get any Covid vaccine: https://t.…\n",
      "48 Learn more about our COVID-19 testing, treatment and vaccine clinics! #covid19 #coronavirus #vaccine\n",
      "\n",
      "https://t.co/wvLDlDbiBa\n",
      "49 \"#honest #error\" #EmoryUniversity (#Atlanta, #Georgia) MD or more fittingly, #fraudulent #researcher, #conspirator… https://t.co/pd8AcBShMq\n"
     ]
    }
   ],
   "source": [
    "# simple query to get the hang of it\n",
    "query = '#vaccine covid'\n",
    "for i, status in enumerate(tweepy.Cursor(api.search, q= query).items(50)):\n",
    "    print (i, status.text)\n",
    "\n",
    "# filter only English tweets    \n",
    "# query = '#vaccine covid'\n",
    "# for i, status in enumerate(tweepy.Cursor(api.search, q= query, lang= 'en').items(50)):\n",
    "#     print (i, status.text)"
   ]
  },
  {
   "cell_type": "code",
   "execution_count": 7,
   "metadata": {
    "ExecuteTime": {
     "end_time": "2021-04-03T22:06:11.956170Z",
     "start_time": "2021-04-03T22:06:11.950782Z"
    }
   },
   "outputs": [
    {
     "data": {
      "text/plain": [
       "\" This cell was run to collect the initial 5000 tweets and save them to a csv file\\nis commented out to prevent it from being run again\\n\\n\\n# collect 5000 tweets \\nnumber_of_tweets = 5000\\ntweets = []\\nlanguage = []\\ntime = []\\n\\n# only collect full text, language, and time it was posted\\n# remove any retweets '-RT'\\nfor i in tweepy.Cursor(api.search, q= 'vaccine covid -RT',  \\n                       tweet_mode = 'extended').items(number_of_tweets):\\n    tweets.append(i.full_text)\\n    language.append(i.lang)\\n    time.append(i.created_at)\\n\\n# turn tweets / lists into dataframe\\ndf = pd.DataFrame({'time': time, 'language': language, 'tweets': tweets})\\n\\n# save df to csv\\ndf.to_csv('data/tweets.csv', index= False)\\n\""
      ]
     },
     "execution_count": 7,
     "metadata": {},
     "output_type": "execute_result"
    }
   ],
   "source": [
    "''' This cell was run to collect the initial 5000 tweets and save them to a csv file\n",
    "is commented out to prevent it from being run again\n",
    "\n",
    "\n",
    "# collect 5000 tweets \n",
    "number_of_tweets = 5000\n",
    "tweets = []\n",
    "language = []\n",
    "time = []\n",
    "\n",
    "# only collect full text, language, and time it was posted\n",
    "# remove any retweets '-RT'\n",
    "for i in tweepy.Cursor(api.search, q= 'vaccine covid -RT',  \n",
    "                       tweet_mode = 'extended').items(number_of_tweets):\n",
    "    tweets.append(i.full_text)\n",
    "    language.append(i.lang)\n",
    "    time.append(i.created_at)\n",
    "\n",
    "# turn tweets / lists into dataframe\n",
    "df = pd.DataFrame({'time': time, 'language': language, 'tweets': tweets})\n",
    "\n",
    "# save df to csv\n",
    "df.to_csv('data/tweets.csv', index= False)\n",
    "'''"
   ]
  },
  {
   "cell_type": "markdown",
   "metadata": {},
   "source": [
    "Collect more tweets after waiting to avoid collecting the same tweets."
   ]
  },
  {
   "cell_type": "code",
   "execution_count": 8,
   "metadata": {
    "ExecuteTime": {
     "end_time": "2021-04-03T22:06:11.961961Z",
     "start_time": "2021-04-03T22:06:11.958728Z"
    }
   },
   "outputs": [],
   "source": [
    "# create function to get more tweets and add to existing csv\n",
    "def get_more_tweets(num_tweets):\n",
    "    number_of_tweets = num_tweets\n",
    "    tweets = []\n",
    "    language = []\n",
    "    time = []\n",
    "\n",
    "    # only collect full text, language, and time it was posted\n",
    "    # remove any retweets '-RT'\n",
    "    for i in tweepy.Cursor(api.search, q= 'vaccine covid -RT',  \n",
    "                           tweet_mode = 'extended').items(number_of_tweets):\n",
    "        tweets.append(i.full_text)\n",
    "        language.append(i.lang)\n",
    "        time.append(i.created_at)\n",
    "        \n",
    "    # turn tweets / lists into dataframe\n",
    "    df = pd.DataFrame({'time': time, 'language': language, 'tweets': tweets})\n",
    "    \n",
    "    # add to existing csv file\n",
    "    df.to_csv('data/tweets.csv', mode= 'a', index= False, header= False)"
   ]
  },
  {
   "cell_type": "code",
   "execution_count": 9,
   "metadata": {
    "ExecuteTime": {
     "end_time": "2021-04-03T22:06:13.460801Z",
     "start_time": "2021-04-03T22:06:11.963803Z"
    }
   },
   "outputs": [],
   "source": [
    "get_more_tweets(50)"
   ]
  },
  {
   "cell_type": "markdown",
   "metadata": {
    "ExecuteTime": {
     "end_time": "2021-04-01T14:14:15.835034Z",
     "start_time": "2021-04-01T14:14:15.833105Z"
    }
   },
   "source": [
    "### Search for Tweets from 30 Days Ago"
   ]
  },
  {
   "cell_type": "code",
   "execution_count": 10,
   "metadata": {
    "ExecuteTime": {
     "end_time": "2021-04-03T22:06:13.467951Z",
     "start_time": "2021-04-03T22:06:13.462932Z"
    }
   },
   "outputs": [],
   "source": [
    "# function to turn results into DataFrame\n",
    "def extract_text_as_df(text_list):\n",
    "    columns = set()\n",
    "    allowed_types = [str, int]\n",
    "    tweets_data = []\n",
    "    for status in text_list:\n",
    "        status_dict = dict(vars(status))\n",
    "        keys = status_dict.keys()\n",
    "        single_tweet_data = {\"author\": status.author.screen_name}\n",
    "        for k in keys:\n",
    "            try:\n",
    "                v_type = type(status_dict[k])\n",
    "            except:\n",
    "                v_type = None\n",
    "            if v_type != None:\n",
    "                if v_type in allowed_types:\n",
    "                    single_tweet_data[k] = status_dict[k]\n",
    "                    columns.add(k)\n",
    "        tweets_data.append(single_tweet_data)\n",
    "\n",
    "\n",
    "    header_cols = list(columns)\n",
    "    header_cols.append('author')\n",
    "    df = pd.DataFrame(tweets_data, columns=header_cols)\n",
    "    return df"
   ]
  },
  {
   "cell_type": "code",
   "execution_count": 11,
   "metadata": {
    "ExecuteTime": {
     "end_time": "2021-04-03T22:06:14.086728Z",
     "start_time": "2021-04-03T22:06:13.469998Z"
    }
   },
   "outputs": [],
   "source": [
    "query = 'vaccine covid -RT'\n",
    "results_30 = api.search_30_day('datacollection', query, maxResults= 100)"
   ]
  },
  {
   "cell_type": "code",
   "execution_count": 12,
   "metadata": {
    "ExecuteTime": {
     "end_time": "2021-04-03T22:06:14.093613Z",
     "start_time": "2021-04-03T22:06:14.088521Z"
    },
    "scrolled": true
   },
   "outputs": [],
   "source": [
    "old_results_df = extract_text_as_df(results_30)"
   ]
  },
  {
   "cell_type": "code",
   "execution_count": 13,
   "metadata": {
    "ExecuteTime": {
     "end_time": "2021-04-03T22:06:14.123584Z",
     "start_time": "2021-04-03T22:06:14.095661Z"
    },
    "scrolled": true
   },
   "outputs": [
    {
     "data": {
      "text/html": [
       "<div>\n",
       "<style scoped>\n",
       "    .dataframe tbody tr th:only-of-type {\n",
       "        vertical-align: middle;\n",
       "    }\n",
       "\n",
       "    .dataframe tbody tr th {\n",
       "        vertical-align: top;\n",
       "    }\n",
       "\n",
       "    .dataframe thead th {\n",
       "        text-align: right;\n",
       "    }\n",
       "</style>\n",
       "<table border=\"1\" class=\"dataframe\">\n",
       "  <thead>\n",
       "    <tr style=\"text-align: right;\">\n",
       "      <th></th>\n",
       "      <th>filter_level</th>\n",
       "      <th>id</th>\n",
       "      <th>favorite_count</th>\n",
       "      <th>in_reply_to_status_id</th>\n",
       "      <th>reply_count</th>\n",
       "      <th>id_str</th>\n",
       "      <th>quoted_status_id_str</th>\n",
       "      <th>in_reply_to_user_id_str</th>\n",
       "      <th>retweet_count</th>\n",
       "      <th>in_reply_to_user_id</th>\n",
       "      <th>source_url</th>\n",
       "      <th>in_reply_to_screen_name</th>\n",
       "      <th>lang</th>\n",
       "      <th>quote_count</th>\n",
       "      <th>in_reply_to_status_id_str</th>\n",
       "      <th>quoted_status_id</th>\n",
       "      <th>source</th>\n",
       "      <th>text</th>\n",
       "      <th>author</th>\n",
       "    </tr>\n",
       "  </thead>\n",
       "  <tbody>\n",
       "    <tr>\n",
       "      <th>0</th>\n",
       "      <td>low</td>\n",
       "      <td>1378468859976552448</td>\n",
       "      <td>0</td>\n",
       "      <td>NaN</td>\n",
       "      <td>0</td>\n",
       "      <td>1378468859976552448</td>\n",
       "      <td>NaN</td>\n",
       "      <td>NaN</td>\n",
       "      <td>0</td>\n",
       "      <td>NaN</td>\n",
       "      <td>http://www.socialflow.com</td>\n",
       "      <td>NaN</td>\n",
       "      <td>en</td>\n",
       "      <td>0</td>\n",
       "      <td>NaN</td>\n",
       "      <td>NaN</td>\n",
       "      <td>SocialFlow</td>\n",
       "      <td>Since people have three vaccine options to choose from for protection against COVID-19, they may be wondering which… https://t.co/JFBMjm3lhI</td>\n",
       "      <td>KLFY</td>\n",
       "    </tr>\n",
       "    <tr>\n",
       "      <th>1</th>\n",
       "      <td>low</td>\n",
       "      <td>1378468843438403584</td>\n",
       "      <td>0</td>\n",
       "      <td>NaN</td>\n",
       "      <td>0</td>\n",
       "      <td>1378468843438403584</td>\n",
       "      <td>NaN</td>\n",
       "      <td>NaN</td>\n",
       "      <td>0</td>\n",
       "      <td>NaN</td>\n",
       "      <td>https://mobile.twitter.com</td>\n",
       "      <td>NaN</td>\n",
       "      <td>en</td>\n",
       "      <td>0</td>\n",
       "      <td>NaN</td>\n",
       "      <td>NaN</td>\n",
       "      <td>Twitter Web App</td>\n",
       "      <td>Pharmacies score customer data in vaccine effort. Some are crying foul.  https://t.co/rNbfk1w92h via @politico</td>\n",
       "      <td>AllOnMedicare</td>\n",
       "    </tr>\n",
       "    <tr>\n",
       "      <th>2</th>\n",
       "      <td>low</td>\n",
       "      <td>1378468843266445318</td>\n",
       "      <td>0</td>\n",
       "      <td>NaN</td>\n",
       "      <td>0</td>\n",
       "      <td>1378468843266445318</td>\n",
       "      <td>NaN</td>\n",
       "      <td>NaN</td>\n",
       "      <td>0</td>\n",
       "      <td>NaN</td>\n",
       "      <td>NaN</td>\n",
       "      <td>NaN</td>\n",
       "      <td>en</td>\n",
       "      <td>0</td>\n",
       "      <td>NaN</td>\n",
       "      <td>NaN</td>\n",
       "      <td></td>\n",
       "      <td>New availability: Centura\\nColorado State Fairgrounds (Pfizer Vaccine): 1001 Beulah Ave, Pueblo, CO 81004\\nAccess her… https://t.co/uwcNRLUDP4</td>\n",
       "      <td>COVaxAlerts</td>\n",
       "    </tr>\n",
       "    <tr>\n",
       "      <th>3</th>\n",
       "      <td>low</td>\n",
       "      <td>1378468842255618052</td>\n",
       "      <td>0</td>\n",
       "      <td>NaN</td>\n",
       "      <td>0</td>\n",
       "      <td>1378468842255618052</td>\n",
       "      <td>NaN</td>\n",
       "      <td>NaN</td>\n",
       "      <td>0</td>\n",
       "      <td>NaN</td>\n",
       "      <td>NaN</td>\n",
       "      <td>NaN</td>\n",
       "      <td>en</td>\n",
       "      <td>0</td>\n",
       "      <td>NaN</td>\n",
       "      <td>NaN</td>\n",
       "      <td></td>\n",
       "      <td>New availability: Centura\\nDicks Sporting Goods Park Lot H (J&amp;amp;J Vaccine): 6000 Victory Way, Commerce City, CO 80022… https://t.co/4A7uU4Zwse</td>\n",
       "      <td>COVaxAlerts</td>\n",
       "    </tr>\n",
       "    <tr>\n",
       "      <th>4</th>\n",
       "      <td>low</td>\n",
       "      <td>1378468802753617929</td>\n",
       "      <td>0</td>\n",
       "      <td>1.378468e+18</td>\n",
       "      <td>0</td>\n",
       "      <td>1378468802753617929</td>\n",
       "      <td>NaN</td>\n",
       "      <td>622969430</td>\n",
       "      <td>0</td>\n",
       "      <td>6.229694e+08</td>\n",
       "      <td>http://twitter.com/download/android</td>\n",
       "      <td>BlackIrishI</td>\n",
       "      <td>en</td>\n",
       "      <td>0</td>\n",
       "      <td>1378467871328624641</td>\n",
       "      <td>NaN</td>\n",
       "      <td>Twitter for Android</td>\n",
       "      <td>@BlackIrishI @PotatoSmug @my4loves5 I haven't had covid and will not be taking the vaccine.</td>\n",
       "      <td>bozena_kania</td>\n",
       "    </tr>\n",
       "    <tr>\n",
       "      <th>...</th>\n",
       "      <td>...</td>\n",
       "      <td>...</td>\n",
       "      <td>...</td>\n",
       "      <td>...</td>\n",
       "      <td>...</td>\n",
       "      <td>...</td>\n",
       "      <td>...</td>\n",
       "      <td>...</td>\n",
       "      <td>...</td>\n",
       "      <td>...</td>\n",
       "      <td>...</td>\n",
       "      <td>...</td>\n",
       "      <td>...</td>\n",
       "      <td>...</td>\n",
       "      <td>...</td>\n",
       "      <td>...</td>\n",
       "      <td>...</td>\n",
       "      <td>...</td>\n",
       "      <td>...</td>\n",
       "    </tr>\n",
       "    <tr>\n",
       "      <th>95</th>\n",
       "      <td>low</td>\n",
       "      <td>1378468017638608904</td>\n",
       "      <td>1</td>\n",
       "      <td>1.378468e+18</td>\n",
       "      <td>1</td>\n",
       "      <td>1378468017638608904</td>\n",
       "      <td>NaN</td>\n",
       "      <td>35825117</td>\n",
       "      <td>0</td>\n",
       "      <td>3.582512e+07</td>\n",
       "      <td>http://twitter.com/download/android</td>\n",
       "      <td>gauchoeddy</td>\n",
       "      <td>en</td>\n",
       "      <td>0</td>\n",
       "      <td>1378467789325824003</td>\n",
       "      <td>NaN</td>\n",
       "      <td>Twitter for Android</td>\n",
       "      <td>@gauchoeddy @bougatsas1 @TheBlueMatt Exactly my reaction to anyone who wants a covid vaccine.</td>\n",
       "      <td>RickV3D</td>\n",
       "    </tr>\n",
       "    <tr>\n",
       "      <th>96</th>\n",
       "      <td>low</td>\n",
       "      <td>1378467994075074564</td>\n",
       "      <td>0</td>\n",
       "      <td>NaN</td>\n",
       "      <td>0</td>\n",
       "      <td>1378467994075074564</td>\n",
       "      <td>1378320862588329987</td>\n",
       "      <td>NaN</td>\n",
       "      <td>0</td>\n",
       "      <td>NaN</td>\n",
       "      <td>http://twitter.com/#!/download/ipad</td>\n",
       "      <td>NaN</td>\n",
       "      <td>en</td>\n",
       "      <td>0</td>\n",
       "      <td>NaN</td>\n",
       "      <td>1.378321e+18</td>\n",
       "      <td>Twitter for iPad</td>\n",
       "      <td>Talking to a friend and he reminded me about the time when Blair wanted to introduce ID cards!\\nNow Blair is telling… https://t.co/pqxOz4ZxlE</td>\n",
       "      <td>PatriciaDiane5</td>\n",
       "    </tr>\n",
       "    <tr>\n",
       "      <th>97</th>\n",
       "      <td>low</td>\n",
       "      <td>1378467964333264900</td>\n",
       "      <td>0</td>\n",
       "      <td>NaN</td>\n",
       "      <td>0</td>\n",
       "      <td>1378467964333264900</td>\n",
       "      <td>NaN</td>\n",
       "      <td>NaN</td>\n",
       "      <td>0</td>\n",
       "      <td>NaN</td>\n",
       "      <td>http://twitter.com/download/android</td>\n",
       "      <td>NaN</td>\n",
       "      <td>en</td>\n",
       "      <td>0</td>\n",
       "      <td>NaN</td>\n",
       "      <td>NaN</td>\n",
       "      <td>Twitter for Android</td>\n",
       "      <td>1. No - not a ducking chance.\\n2. I'm not using the NHS app as it doesn't work properly  -ive seen 1st hand.\\n3. I ha… https://t.co/OgYim0rA1Q</td>\n",
       "      <td>Running_Far</td>\n",
       "    </tr>\n",
       "    <tr>\n",
       "      <th>98</th>\n",
       "      <td>low</td>\n",
       "      <td>1378467963699933186</td>\n",
       "      <td>0</td>\n",
       "      <td>1.378316e+18</td>\n",
       "      <td>0</td>\n",
       "      <td>1378467963699933186</td>\n",
       "      <td>NaN</td>\n",
       "      <td>10215212</td>\n",
       "      <td>0</td>\n",
       "      <td>1.021521e+07</td>\n",
       "      <td>https://mobile.twitter.com</td>\n",
       "      <td>NHSuk</td>\n",
       "      <td>en</td>\n",
       "      <td>0</td>\n",
       "      <td>1378316438906269697</td>\n",
       "      <td>NaN</td>\n",
       "      <td>Twitter Web App</td>\n",
       "      <td>@NHSuk This article says otherwise. The mainstream media and bodies like the NHS are under-reporting Covid-19 vacci… https://t.co/mp46cwSgAn</td>\n",
       "      <td>MarkJudeGlover2</td>\n",
       "    </tr>\n",
       "    <tr>\n",
       "      <th>99</th>\n",
       "      <td>low</td>\n",
       "      <td>1378467938399891459</td>\n",
       "      <td>0</td>\n",
       "      <td>1.378467e+18</td>\n",
       "      <td>0</td>\n",
       "      <td>1378467938399891459</td>\n",
       "      <td>NaN</td>\n",
       "      <td>1355620664707837959</td>\n",
       "      <td>0</td>\n",
       "      <td>1.355621e+18</td>\n",
       "      <td>http://twitter.com/download/android</td>\n",
       "      <td>goatsbollocks28</td>\n",
       "      <td>en</td>\n",
       "      <td>0</td>\n",
       "      <td>1378467446475132934</td>\n",
       "      <td>NaN</td>\n",
       "      <td>Twitter for Android</td>\n",
       "      <td>@goatsbollocks28 Eye opening stuff mate 🤯\\nJoin the COVID VACCINE VICTIMS 😱</td>\n",
       "      <td>jemcook69</td>\n",
       "    </tr>\n",
       "  </tbody>\n",
       "</table>\n",
       "<p>100 rows × 19 columns</p>\n",
       "</div>"
      ],
      "text/plain": [
       "   filter_level                   id  favorite_count  in_reply_to_status_id  \\\n",
       "0           low  1378468859976552448               0                    NaN   \n",
       "1           low  1378468843438403584               0                    NaN   \n",
       "2           low  1378468843266445318               0                    NaN   \n",
       "3           low  1378468842255618052               0                    NaN   \n",
       "4           low  1378468802753617929               0           1.378468e+18   \n",
       "..          ...                  ...             ...                    ...   \n",
       "95          low  1378468017638608904               1           1.378468e+18   \n",
       "96          low  1378467994075074564               0                    NaN   \n",
       "97          low  1378467964333264900               0                    NaN   \n",
       "98          low  1378467963699933186               0           1.378316e+18   \n",
       "99          low  1378467938399891459               0           1.378467e+18   \n",
       "\n",
       "    reply_count               id_str quoted_status_id_str  \\\n",
       "0             0  1378468859976552448                  NaN   \n",
       "1             0  1378468843438403584                  NaN   \n",
       "2             0  1378468843266445318                  NaN   \n",
       "3             0  1378468842255618052                  NaN   \n",
       "4             0  1378468802753617929                  NaN   \n",
       "..          ...                  ...                  ...   \n",
       "95            1  1378468017638608904                  NaN   \n",
       "96            0  1378467994075074564  1378320862588329987   \n",
       "97            0  1378467964333264900                  NaN   \n",
       "98            0  1378467963699933186                  NaN   \n",
       "99            0  1378467938399891459                  NaN   \n",
       "\n",
       "   in_reply_to_user_id_str  retweet_count  in_reply_to_user_id  \\\n",
       "0                      NaN              0                  NaN   \n",
       "1                      NaN              0                  NaN   \n",
       "2                      NaN              0                  NaN   \n",
       "3                      NaN              0                  NaN   \n",
       "4                622969430              0         6.229694e+08   \n",
       "..                     ...            ...                  ...   \n",
       "95                35825117              0         3.582512e+07   \n",
       "96                     NaN              0                  NaN   \n",
       "97                     NaN              0                  NaN   \n",
       "98                10215212              0         1.021521e+07   \n",
       "99     1355620664707837959              0         1.355621e+18   \n",
       "\n",
       "                             source_url in_reply_to_screen_name lang  \\\n",
       "0             http://www.socialflow.com                     NaN   en   \n",
       "1            https://mobile.twitter.com                     NaN   en   \n",
       "2                                   NaN                     NaN   en   \n",
       "3                                   NaN                     NaN   en   \n",
       "4   http://twitter.com/download/android             BlackIrishI   en   \n",
       "..                                  ...                     ...  ...   \n",
       "95  http://twitter.com/download/android              gauchoeddy   en   \n",
       "96  http://twitter.com/#!/download/ipad                     NaN   en   \n",
       "97  http://twitter.com/download/android                     NaN   en   \n",
       "98           https://mobile.twitter.com                   NHSuk   en   \n",
       "99  http://twitter.com/download/android         goatsbollocks28   en   \n",
       "\n",
       "    quote_count in_reply_to_status_id_str  quoted_status_id  \\\n",
       "0             0                       NaN               NaN   \n",
       "1             0                       NaN               NaN   \n",
       "2             0                       NaN               NaN   \n",
       "3             0                       NaN               NaN   \n",
       "4             0       1378467871328624641               NaN   \n",
       "..          ...                       ...               ...   \n",
       "95            0       1378467789325824003               NaN   \n",
       "96            0                       NaN      1.378321e+18   \n",
       "97            0                       NaN               NaN   \n",
       "98            0       1378316438906269697               NaN   \n",
       "99            0       1378467446475132934               NaN   \n",
       "\n",
       "                 source  \\\n",
       "0            SocialFlow   \n",
       "1       Twitter Web App   \n",
       "2                         \n",
       "3                         \n",
       "4   Twitter for Android   \n",
       "..                  ...   \n",
       "95  Twitter for Android   \n",
       "96     Twitter for iPad   \n",
       "97  Twitter for Android   \n",
       "98      Twitter Web App   \n",
       "99  Twitter for Android   \n",
       "\n",
       "                                                                                                                                                text  \\\n",
       "0       Since people have three vaccine options to choose from for protection against COVID-19, they may be wondering which… https://t.co/JFBMjm3lhI   \n",
       "1                                     Pharmacies score customer data in vaccine effort. Some are crying foul.  https://t.co/rNbfk1w92h via @politico   \n",
       "2     New availability: Centura\\nColorado State Fairgrounds (Pfizer Vaccine): 1001 Beulah Ave, Pueblo, CO 81004\\nAccess her… https://t.co/uwcNRLUDP4   \n",
       "3   New availability: Centura\\nDicks Sporting Goods Park Lot H (J&amp;J Vaccine): 6000 Victory Way, Commerce City, CO 80022… https://t.co/4A7uU4Zwse   \n",
       "4                                                        @BlackIrishI @PotatoSmug @my4loves5 I haven't had covid and will not be taking the vaccine.   \n",
       "..                                                                                                                                               ...   \n",
       "95                                                     @gauchoeddy @bougatsas1 @TheBlueMatt Exactly my reaction to anyone who wants a covid vaccine.   \n",
       "96     Talking to a friend and he reminded me about the time when Blair wanted to introduce ID cards!\\nNow Blair is telling… https://t.co/pqxOz4ZxlE   \n",
       "97    1. No - not a ducking chance.\\n2. I'm not using the NHS app as it doesn't work properly  -ive seen 1st hand.\\n3. I ha… https://t.co/OgYim0rA1Q   \n",
       "98      @NHSuk This article says otherwise. The mainstream media and bodies like the NHS are under-reporting Covid-19 vacci… https://t.co/mp46cwSgAn   \n",
       "99                                                                       @goatsbollocks28 Eye opening stuff mate 🤯\\nJoin the COVID VACCINE VICTIMS 😱   \n",
       "\n",
       "             author  \n",
       "0              KLFY  \n",
       "1     AllOnMedicare  \n",
       "2       COVaxAlerts  \n",
       "3       COVaxAlerts  \n",
       "4      bozena_kania  \n",
       "..              ...  \n",
       "95          RickV3D  \n",
       "96   PatriciaDiane5  \n",
       "97      Running_Far  \n",
       "98  MarkJudeGlover2  \n",
       "99        jemcook69  \n",
       "\n",
       "[100 rows x 19 columns]"
      ]
     },
     "execution_count": 13,
     "metadata": {},
     "output_type": "execute_result"
    }
   ],
   "source": [
    "old_results_df"
   ]
  },
  {
   "cell_type": "markdown",
   "metadata": {},
   "source": [
    "## Data Cleaning & EDA"
   ]
  },
  {
   "cell_type": "code",
   "execution_count": 14,
   "metadata": {
    "ExecuteTime": {
     "end_time": "2021-04-03T22:06:14.178669Z",
     "start_time": "2021-04-03T22:06:14.125582Z"
    }
   },
   "outputs": [],
   "source": [
    "df = pd.read_csv('data/tweets.csv')"
   ]
  },
  {
   "cell_type": "code",
   "execution_count": 15,
   "metadata": {
    "ExecuteTime": {
     "end_time": "2021-04-03T22:06:14.193926Z",
     "start_time": "2021-04-03T22:06:14.180630Z"
    },
    "scrolled": true
   },
   "outputs": [
    {
     "name": "stdout",
     "output_type": "stream",
     "text": [
      "<class 'pandas.core.frame.DataFrame'>\n",
      "RangeIndex: 17450 entries, 0 to 17449\n",
      "Data columns (total 3 columns):\n",
      " #   Column    Non-Null Count  Dtype \n",
      "---  ------    --------------  ----- \n",
      " 0   time      17450 non-null  object\n",
      " 1   language  17450 non-null  object\n",
      " 2   tweets    17450 non-null  object\n",
      "dtypes: object(3)\n",
      "memory usage: 409.1+ KB\n"
     ]
    }
   ],
   "source": [
    "df.info()"
   ]
  },
  {
   "cell_type": "markdown",
   "metadata": {},
   "source": [
    "### Check and Remove Duplicates"
   ]
  },
  {
   "cell_type": "code",
   "execution_count": 16,
   "metadata": {
    "ExecuteTime": {
     "end_time": "2021-04-03T22:06:14.223136Z",
     "start_time": "2021-04-03T22:06:14.196480Z"
    }
   },
   "outputs": [
    {
     "name": "stdout",
     "output_type": "stream",
     "text": [
      "<class 'pandas.core.frame.DataFrame'>\n",
      "Int64Index: 39 entries, 812 to 16476\n",
      "Data columns (total 3 columns):\n",
      " #   Column    Non-Null Count  Dtype \n",
      "---  ------    --------------  ----- \n",
      " 0   time      39 non-null     object\n",
      " 1   language  39 non-null     object\n",
      " 2   tweets    39 non-null     object\n",
      "dtypes: object(3)\n",
      "memory usage: 1.2+ KB\n"
     ]
    }
   ],
   "source": [
    "# check for duplicated tweets\n",
    "duped = df[df.duplicated(subset= 'tweets')]\n",
    "duped.info()"
   ]
  },
  {
   "cell_type": "code",
   "execution_count": 17,
   "metadata": {
    "ExecuteTime": {
     "end_time": "2021-04-03T22:06:14.248496Z",
     "start_time": "2021-04-03T22:06:14.225411Z"
    }
   },
   "outputs": [
    {
     "data": {
      "text/plain": [
       "0"
      ]
     },
     "execution_count": 17,
     "metadata": {},
     "output_type": "execute_result"
    }
   ],
   "source": [
    "# remove duplicates\n",
    "df.drop_duplicates(subset= 'tweets', keep= 'first', inplace= True)\n",
    "df.reset_index(drop= True, inplace= True)\n",
    "\n",
    "# make sure they are gone\n",
    "df.tweets.duplicated().sum()"
   ]
  },
  {
   "cell_type": "markdown",
   "metadata": {},
   "source": [
    "### Looking at Languages"
   ]
  },
  {
   "cell_type": "code",
   "execution_count": 18,
   "metadata": {
    "ExecuteTime": {
     "end_time": "2021-04-03T22:06:14.261985Z",
     "start_time": "2021-04-03T22:06:14.250435Z"
    }
   },
   "outputs": [],
   "source": [
    "lang_df = df.sort_values('language')"
   ]
  },
  {
   "cell_type": "code",
   "execution_count": 19,
   "metadata": {
    "ExecuteTime": {
     "end_time": "2021-04-03T22:06:14.661697Z",
     "start_time": "2021-04-03T22:06:14.265241Z"
    }
   },
   "outputs": [
    {
     "data": {
      "image/png": "[encoded data removed]",
      "text/plain": [
       "<Figure size 864x576 with 1 Axes>"
      ]
     },
     "metadata": {},
     "output_type": "display_data"
    }
   ],
   "source": [
    "plt.figure(figsize= (12, 8))\n",
    "lang_df.language.value_counts(normalize=True).plot(kind= 'barh')\n",
    "plt.title('Proportion of Languages Collected')\n",
    "plt.xlim(-.01, 1)\n",
    "plt.show()"
   ]
  },
  {
   "cell_type": "code",
   "execution_count": 20,
   "metadata": {
    "ExecuteTime": {
     "end_time": "2021-04-03T22:06:14.670358Z",
     "start_time": "2021-04-03T22:06:14.663813Z"
    }
   },
   "outputs": [
    {
     "data": {
      "text/plain": [
       "en     0.927977\n",
       "und    0.035495\n",
       "fr     0.011430\n",
       "es     0.004480\n",
       "tl     0.002297\n",
       "ja     0.001953\n",
       "hi     0.001608\n",
       "it     0.001436\n",
       "de     0.001321\n",
       "pt     0.001264\n",
       "et     0.000976\n",
       "nl     0.000862\n",
       "tr     0.000747\n",
       "pl     0.000747\n",
       "ar     0.000632\n",
       "ro     0.000517\n",
       "el     0.000517\n",
       "ur     0.000459\n",
       "vi     0.000459\n",
       "zh     0.000402\n",
       "ca     0.000402\n",
       "in     0.000345\n",
       "da     0.000345\n",
       "bn     0.000287\n",
       "ru     0.000230\n",
       "mr     0.000230\n",
       "hu     0.000230\n",
       "fa     0.000230\n",
       "fi     0.000230\n",
       "te     0.000172\n",
       "kn     0.000172\n",
       "cy     0.000172\n",
       "or     0.000172\n",
       "cs     0.000172\n",
       "ko     0.000115\n",
       "lv     0.000115\n",
       "sv     0.000115\n",
       "ta     0.000115\n",
       "ml     0.000115\n",
       "th     0.000115\n",
       "pa     0.000115\n",
       "no     0.000057\n",
       "sr     0.000057\n",
       "gu     0.000057\n",
       "ht     0.000057\n",
       "Name: language, dtype: float64"
      ]
     },
     "execution_count": 20,
     "metadata": {},
     "output_type": "execute_result"
    }
   ],
   "source": [
    "lang_df.language.value_counts(normalize=True)"
   ]
  },
  {
   "cell_type": "code",
   "execution_count": 21,
   "metadata": {
    "ExecuteTime": {
     "end_time": "2021-04-03T22:06:15.037563Z",
     "start_time": "2021-04-03T22:06:14.672409Z"
    }
   },
   "outputs": [
    {
     "name": "stdout",
     "output_type": "stream",
     "text": [
      "There are :  1  tables\n",
      "                        0              1\n",
      "0                    Name  Language code\n",
      "1       English (default)             en\n",
      "2                  Arabic             ar\n",
      "3                 Bengali             bn\n",
      "4                   Czech             cs\n",
      "5                  Danish             da\n",
      "6                  German             de\n",
      "7                   Greek             el\n",
      "8                 Spanish             es\n",
      "9                 Persian             fa\n",
      "10                Finnish             fi\n",
      "11               Filipino            fil\n",
      "12                 French             fr\n",
      "13                 Hebrew             he\n",
      "14                  Hindi             hi\n",
      "15              Hungarian             hu\n",
      "16             Indonesian             id\n",
      "17                Italian             it\n",
      "18               Japanese             ja\n",
      "19                 Korean             ko\n",
      "20                  Malay            msa\n",
      "21                  Dutch             nl\n",
      "22              Norwegian             no\n",
      "23                 Polish             pl\n",
      "24             Portuguese             pt\n",
      "25               Romanian             ro\n",
      "26                Russian             ru\n",
      "27                Swedish             sv\n",
      "28                   Thai             th\n",
      "29                Turkish             tr\n",
      "30              Ukrainian             uk\n",
      "31                   Urdu             ur\n",
      "32             Vietnamese             vi\n",
      "33   Chinese (Simplified)          zh-cn\n",
      "34  Chinese (Traditional)          zh-tw\n"
     ]
    }
   ],
   "source": [
    "# what are these languages? get table from url\n",
    "URL = 'https://developer.twitter.com/en/docs/twitter-for-websites/supported-languages'\n",
    "tables = pd.read_html(URL)\n",
    "print(\"There are : \",len(tables),\" tables\")\n",
    "print(tables[0])\n",
    "\n",
    "lang_table = tables[0]"
   ]
  },
  {
   "cell_type": "code",
   "execution_count": 22,
   "metadata": {
    "ExecuteTime": {
     "end_time": "2021-04-03T22:06:15.050000Z",
     "start_time": "2021-04-03T22:06:15.045540Z"
    }
   },
   "outputs": [],
   "source": [
    "# format table\n",
    "header_row = 0\n",
    "lang_table.columns = lang_table.iloc[header_row]\n",
    "lang_table = lang_table.drop(header_row)\n",
    "lang_table.reset_index(drop= True, inplace= True)\n",
    "\n",
    "lang_table.replace('English (default)', 'English', inplace= True)\n",
    "# lang_table"
   ]
  },
  {
   "cell_type": "code",
   "execution_count": 23,
   "metadata": {
    "ExecuteTime": {
     "end_time": "2021-04-03T22:06:15.057281Z",
     "start_time": "2021-04-03T22:06:15.054011Z"
    }
   },
   "outputs": [],
   "source": [
    "# save as csv in data folder\n",
    "lang_table.to_csv('data/languages.csv', index= False)"
   ]
  },
  {
   "cell_type": "code",
   "execution_count": 24,
   "metadata": {
    "ExecuteTime": {
     "end_time": "2021-04-03T22:06:15.068039Z",
     "start_time": "2021-04-03T22:06:15.058554Z"
    }
   },
   "outputs": [
    {
     "data": {
      "text/html": [
       "<div>\n",
       "<style scoped>\n",
       "    .dataframe tbody tr th:only-of-type {\n",
       "        vertical-align: middle;\n",
       "    }\n",
       "\n",
       "    .dataframe tbody tr th {\n",
       "        vertical-align: top;\n",
       "    }\n",
       "\n",
       "    .dataframe thead th {\n",
       "        text-align: right;\n",
       "    }\n",
       "</style>\n",
       "<table border=\"1\" class=\"dataframe\">\n",
       "  <thead>\n",
       "    <tr style=\"text-align: right;\">\n",
       "      <th></th>\n",
       "      <th>time</th>\n",
       "      <th>language</th>\n",
       "      <th>tweets</th>\n",
       "    </tr>\n",
       "  </thead>\n",
       "  <tbody>\n",
       "    <tr>\n",
       "      <th>1</th>\n",
       "      <td>2021-04-01 21:58:44</td>\n",
       "      <td>und</td>\n",
       "      <td>@and_kell @ds13_manon https://t.co/sKnTctMKcF</td>\n",
       "    </tr>\n",
       "    <tr>\n",
       "      <th>19</th>\n",
       "      <td>2021-04-01 21:58:14</td>\n",
       "      <td>und</td>\n",
       "      <td>https://t.co/j2braq4wFx</td>\n",
       "    </tr>\n",
       "    <tr>\n",
       "      <th>29</th>\n",
       "      <td>2021-04-01 21:57:58</td>\n",
       "      <td>und</td>\n",
       "      <td>@Pavlos80322302 @ds13_manon https://t.co/sKnTctMKcF</td>\n",
       "    </tr>\n",
       "    <tr>\n",
       "      <th>79</th>\n",
       "      <td>2021-04-01 21:56:21</td>\n",
       "      <td>und</td>\n",
       "      <td>👍🏼👍🏼👍🏼👍🏼 https://t.co/m68KkEqpOe</td>\n",
       "    </tr>\n",
       "    <tr>\n",
       "      <th>97</th>\n",
       "      <td>2021-04-01 21:55:44</td>\n",
       "      <td>und</td>\n",
       "      <td>https://t.co/Stomi0I13k</td>\n",
       "    </tr>\n",
       "    <tr>\n",
       "      <th>...</th>\n",
       "      <td>...</td>\n",
       "      <td>...</td>\n",
       "      <td>...</td>\n",
       "    </tr>\n",
       "    <tr>\n",
       "      <th>17163</th>\n",
       "      <td>2021-04-03 20:34:00</td>\n",
       "      <td>und</td>\n",
       "      <td>@DuncH39862069 https://t.co/yFjpUBMTEk</td>\n",
       "    </tr>\n",
       "    <tr>\n",
       "      <th>17167</th>\n",
       "      <td>2021-04-03 20:33:42</td>\n",
       "      <td>und</td>\n",
       "      <td>https://t.co/IDsdhJE4EJ</td>\n",
       "    </tr>\n",
       "    <tr>\n",
       "      <th>17182</th>\n",
       "      <td>2021-04-03 20:33:19</td>\n",
       "      <td>und</td>\n",
       "      <td>@JayantBhandari5 https://t.co/OT2LAibkFF</td>\n",
       "    </tr>\n",
       "    <tr>\n",
       "      <th>17324</th>\n",
       "      <td>2021-04-03 20:27:36</td>\n",
       "      <td>und</td>\n",
       "      <td>https://t.co/rksYeOs5y3</td>\n",
       "    </tr>\n",
       "    <tr>\n",
       "      <th>17348</th>\n",
       "      <td>2021-04-03 20:26:39</td>\n",
       "      <td>und</td>\n",
       "      <td>https://t.co/WQK0npKRP8</td>\n",
       "    </tr>\n",
       "  </tbody>\n",
       "</table>\n",
       "<p>618 rows × 3 columns</p>\n",
       "</div>"
      ],
      "text/plain": [
       "                      time language  \\\n",
       "1      2021-04-01 21:58:44      und   \n",
       "19     2021-04-01 21:58:14      und   \n",
       "29     2021-04-01 21:57:58      und   \n",
       "79     2021-04-01 21:56:21      und   \n",
       "97     2021-04-01 21:55:44      und   \n",
       "...                    ...      ...   \n",
       "17163  2021-04-03 20:34:00      und   \n",
       "17167  2021-04-03 20:33:42      und   \n",
       "17182  2021-04-03 20:33:19      und   \n",
       "17324  2021-04-03 20:27:36      und   \n",
       "17348  2021-04-03 20:26:39      und   \n",
       "\n",
       "                                                    tweets  \n",
       "1            @and_kell @ds13_manon https://t.co/sKnTctMKcF  \n",
       "19                                 https://t.co/j2braq4wFx  \n",
       "29     @Pavlos80322302 @ds13_manon https://t.co/sKnTctMKcF  \n",
       "79                        👍🏼👍🏼👍🏼👍🏼 https://t.co/m68KkEqpOe  \n",
       "97                                 https://t.co/Stomi0I13k  \n",
       "...                                                    ...  \n",
       "17163               @DuncH39862069 https://t.co/yFjpUBMTEk  \n",
       "17167                              https://t.co/IDsdhJE4EJ  \n",
       "17182             @JayantBhandari5 https://t.co/OT2LAibkFF  \n",
       "17324                              https://t.co/rksYeOs5y3  \n",
       "17348                              https://t.co/WQK0npKRP8  \n",
       "\n",
       "[618 rows x 3 columns]"
      ]
     },
     "execution_count": 24,
     "metadata": {},
     "output_type": "execute_result"
    }
   ],
   "source": [
    "# look at 'und' language \n",
    "df[df['language'] == 'und']"
   ]
  },
  {
   "cell_type": "markdown",
   "metadata": {},
   "source": [
    "It appears that the 'und' or possibly 'undetermined' language are tweets that do not include text to help us with our sentiment analysis. We will remove those from our DataFrame."
   ]
  },
  {
   "cell_type": "code",
   "execution_count": 25,
   "metadata": {
    "ExecuteTime": {
     "end_time": "2021-04-03T22:06:15.073839Z",
     "start_time": "2021-04-03T22:06:15.069295Z"
    }
   },
   "outputs": [],
   "source": [
    "df = df[df['language'] != 'und']\n",
    "# df.info()"
   ]
  },
  {
   "cell_type": "markdown",
   "metadata": {},
   "source": [
    "Merge the data with the languages to see the whole name of languages"
   ]
  },
  {
   "cell_type": "code",
   "execution_count": 26,
   "metadata": {
    "ExecuteTime": {
     "end_time": "2021-04-03T22:06:15.092756Z",
     "start_time": "2021-04-03T22:06:15.075810Z"
    }
   },
   "outputs": [
    {
     "name": "stdout",
     "output_type": "stream",
     "text": [
      "<class 'pandas.core.frame.DataFrame'>\n",
      "Int64Index: 16689 entries, 0 to 16688\n",
      "Data columns (total 5 columns):\n",
      " #   Column         Non-Null Count  Dtype \n",
      "---  ------         --------------  ----- \n",
      " 0   time           16689 non-null  object\n",
      " 1   language       16689 non-null  object\n",
      " 2   tweets         16689 non-null  object\n",
      " 3   Name           16689 non-null  object\n",
      " 4   Language code  16689 non-null  object\n",
      "dtypes: object(5)\n",
      "memory usage: 782.3+ KB\n"
     ]
    }
   ],
   "source": [
    "# merge data with language names\n",
    "df2 = df.merge(lang_table, how= 'inner', left_on= 'language', right_on= 'Language code')\n",
    "df2.info()"
   ]
  },
  {
   "cell_type": "code",
   "execution_count": 27,
   "metadata": {
    "ExecuteTime": {
     "end_time": "2021-04-03T22:06:15.108471Z",
     "start_time": "2021-04-03T22:06:15.094431Z"
    },
    "scrolled": true
   },
   "outputs": [],
   "source": [
    "# drop extra columns and rename them and change dates to datetime and drop time\n",
    "df2.drop(columns = ['language', 'Language code'], inplace= True)\n",
    "df2.rename(columns={'Name': 'language'}, inplace= True)\n",
    "df2['time'] = pd.to_datetime(df2['time']).dt.date\n",
    "# df2"
   ]
  },
  {
   "cell_type": "markdown",
   "metadata": {},
   "source": [
    "Let's see how many Tweets are in each language?"
   ]
  },
  {
   "cell_type": "code",
   "execution_count": 28,
   "metadata": {
    "ExecuteTime": {
     "end_time": "2021-04-03T22:06:15.346520Z",
     "start_time": "2021-04-03T22:06:15.110012Z"
    }
   },
   "outputs": [
    {
     "data": {
      "text/plain": [
       "<AxesSubplot:xlabel='count', ylabel='language'>"
      ]
     },
     "execution_count": 28,
     "metadata": {},
     "output_type": "execute_result"
    },
    {
     "data": {
      "image/png": "[encoded data removed]",
      "text/plain": [
       "<Figure size 432x288 with 1 Axes>"
      ]
     },
     "metadata": {},
     "output_type": "display_data"
    }
   ],
   "source": [
    "sns.countplot(y= 'language', data= df2)"
   ]
  },
  {
   "cell_type": "markdown",
   "metadata": {},
   "source": [
    "The majority of Tweets are in English. Let's see what the other languages are."
   ]
  },
  {
   "cell_type": "code",
   "execution_count": 29,
   "metadata": {
    "ExecuteTime": {
     "end_time": "2021-04-03T22:06:15.586981Z",
     "start_time": "2021-04-03T22:06:15.348491Z"
    },
    "scrolled": false
   },
   "outputs": [
    {
     "data": {
      "image/png": "[encoded data removed]",
      "text/plain": [
       "<Figure size 720x576 with 1 Axes>"
      ]
     },
     "metadata": {},
     "output_type": "display_data"
    }
   ],
   "source": [
    "# countplot that excludes English to see detail\n",
    "plt.figure(figsize= (10, 8))\n",
    "sns.countplot(y= 'language', data= df2, palette='plasma',\n",
    "              order= df2.language.value_counts().iloc[1:].index)\n",
    "plt.title('Count of Tweets, Excluding English', fontsize= 14)\n",
    "plt.xlabel('# of Tweets')\n",
    "plt.ylabel('Language')\n",
    "plt.show()"
   ]
  },
  {
   "cell_type": "markdown",
   "metadata": {},
   "source": [
    "After English, the top 3 languages for Tweets about the COVID-19 vaccine are in French, Spanish, and Japanese."
   ]
  },
  {
   "cell_type": "markdown",
   "metadata": {},
   "source": [
    "#### Translate to English using Google Cloud Platform's API"
   ]
  },
  {
   "cell_type": "code",
   "execution_count": 30,
   "metadata": {
    "ExecuteTime": {
     "end_time": "2021-04-03T22:06:16.036441Z",
     "start_time": "2021-04-03T22:06:15.588890Z"
    }
   },
   "outputs": [],
   "source": [
    "# send in credentials that are saved on local computer\n",
    "credentials = service_account.Credentials.from_service_account_file('../GCP_service_account.json')\n",
    "translate_client = translate.Client(credentials= credentials)"
   ]
  },
  {
   "cell_type": "code",
   "execution_count": 31,
   "metadata": {
    "ExecuteTime": {
     "end_time": "2021-04-03T22:06:16.260315Z",
     "start_time": "2021-04-03T22:06:16.038757Z"
    },
    "scrolled": true
   },
   "outputs": [
    {
     "name": "stdout",
     "output_type": "stream",
     "text": [
      "[{'language': 'af', 'name': 'Afrikaans'}, {'language': 'sq', 'name': 'Albanian'}, {'language': 'am', 'name': 'Amharic'}, {'language': 'ar', 'name': 'Arabic'}, {'language': 'hy', 'name': 'Armenian'}, {'language': 'az', 'name': 'Azerbaijani'}, {'language': 'eu', 'name': 'Basque'}, {'language': 'be', 'name': 'Belarusian'}, {'language': 'bn', 'name': 'Bengali'}, {'language': 'bs', 'name': 'Bosnian'}, {'language': 'bg', 'name': 'Bulgarian'}, {'language': 'ca', 'name': 'Catalan'}, {'language': 'ceb', 'name': 'Cebuano'}, {'language': 'ny', 'name': 'Chichewa'}, {'language': 'zh-CN', 'name': 'Chinese (Simplified)'}, {'language': 'zh-TW', 'name': 'Chinese (Traditional)'}, {'language': 'co', 'name': 'Corsican'}, {'language': 'hr', 'name': 'Croatian'}, {'language': 'cs', 'name': 'Czech'}, {'language': 'da', 'name': 'Danish'}, {'language': 'nl', 'name': 'Dutch'}, {'language': 'en', 'name': 'English'}, {'language': 'eo', 'name': 'Esperanto'}, {'language': 'et', 'name': 'Estonian'}, {'language': 'tl', 'name': 'Filipino'}, {'language': 'fi', 'name': 'Finnish'}, {'language': 'fr', 'name': 'French'}, {'language': 'fy', 'name': 'Frisian'}, {'language': 'gl', 'name': 'Galician'}, {'language': 'ka', 'name': 'Georgian'}, {'language': 'de', 'name': 'German'}, {'language': 'el', 'name': 'Greek'}, {'language': 'gu', 'name': 'Gujarati'}, {'language': 'ht', 'name': 'Haitian Creole'}, {'language': 'ha', 'name': 'Hausa'}, {'language': 'haw', 'name': 'Hawaiian'}, {'language': 'iw', 'name': 'Hebrew'}, {'language': 'hi', 'name': 'Hindi'}, {'language': 'hmn', 'name': 'Hmong'}, {'language': 'hu', 'name': 'Hungarian'}, {'language': 'is', 'name': 'Icelandic'}, {'language': 'ig', 'name': 'Igbo'}, {'language': 'id', 'name': 'Indonesian'}, {'language': 'ga', 'name': 'Irish'}, {'language': 'it', 'name': 'Italian'}, {'language': 'ja', 'name': 'Japanese'}, {'language': 'jw', 'name': 'Javanese'}, {'language': 'kn', 'name': 'Kannada'}, {'language': 'kk', 'name': 'Kazakh'}, {'language': 'km', 'name': 'Khmer'}, {'language': 'rw', 'name': 'Kinyarwanda'}, {'language': 'ko', 'name': 'Korean'}, {'language': 'ku', 'name': 'Kurdish (Kurmanji)'}, {'language': 'ky', 'name': 'Kyrgyz'}, {'language': 'lo', 'name': 'Lao'}, {'language': 'la', 'name': 'Latin'}, {'language': 'lv', 'name': 'Latvian'}, {'language': 'lt', 'name': 'Lithuanian'}, {'language': 'lb', 'name': 'Luxembourgish'}, {'language': 'mk', 'name': 'Macedonian'}, {'language': 'mg', 'name': 'Malagasy'}, {'language': 'ms', 'name': 'Malay'}, {'language': 'ml', 'name': 'Malayalam'}, {'language': 'mt', 'name': 'Maltese'}, {'language': 'mi', 'name': 'Maori'}, {'language': 'mr', 'name': 'Marathi'}, {'language': 'mn', 'name': 'Mongolian'}, {'language': 'my', 'name': 'Myanmar (Burmese)'}, {'language': 'ne', 'name': 'Nepali'}, {'language': 'no', 'name': 'Norwegian'}, {'language': 'or', 'name': 'Odia (Oriya)'}, {'language': 'ps', 'name': 'Pashto'}, {'language': 'fa', 'name': 'Persian'}, {'language': 'pl', 'name': 'Polish'}, {'language': 'pt', 'name': 'Portuguese'}, {'language': 'pa', 'name': 'Punjabi'}, {'language': 'ro', 'name': 'Romanian'}, {'language': 'ru', 'name': 'Russian'}, {'language': 'sm', 'name': 'Samoan'}, {'language': 'gd', 'name': 'Scots Gaelic'}, {'language': 'sr', 'name': 'Serbian'}, {'language': 'st', 'name': 'Sesotho'}, {'language': 'sn', 'name': 'Shona'}, {'language': 'sd', 'name': 'Sindhi'}, {'language': 'si', 'name': 'Sinhala'}, {'language': 'sk', 'name': 'Slovak'}, {'language': 'sl', 'name': 'Slovenian'}, {'language': 'so', 'name': 'Somali'}, {'language': 'es', 'name': 'Spanish'}, {'language': 'su', 'name': 'Sundanese'}, {'language': 'sw', 'name': 'Swahili'}, {'language': 'sv', 'name': 'Swedish'}, {'language': 'tg', 'name': 'Tajik'}, {'language': 'ta', 'name': 'Tamil'}, {'language': 'tt', 'name': 'Tatar'}, {'language': 'te', 'name': 'Telugu'}, {'language': 'th', 'name': 'Thai'}, {'language': 'tr', 'name': 'Turkish'}, {'language': 'tk', 'name': 'Turkmen'}, {'language': 'uk', 'name': 'Ukrainian'}, {'language': 'ur', 'name': 'Urdu'}, {'language': 'ug', 'name': 'Uyghur'}, {'language': 'uz', 'name': 'Uzbek'}, {'language': 'vi', 'name': 'Vietnamese'}, {'language': 'cy', 'name': 'Welsh'}, {'language': 'xh', 'name': 'Xhosa'}, {'language': 'yi', 'name': 'Yiddish'}, {'language': 'yo', 'name': 'Yoruba'}, {'language': 'zu', 'name': 'Zulu'}, {'language': 'he', 'name': 'Hebrew'}, {'language': 'zh', 'name': 'Chinese (Simplified)'}]\n"
     ]
    }
   ],
   "source": [
    "# see all languages that Google can translate\n",
    "print(translate_client.get_languages())"
   ]
  },
  {
   "cell_type": "code",
   "execution_count": 62,
   "metadata": {
    "ExecuteTime": {
     "end_time": "2021-04-03T22:22:57.547331Z",
     "start_time": "2021-04-03T22:22:57.544533Z"
    }
   },
   "outputs": [],
   "source": [
    "# separate non-English tweets for faster translating\n",
    "part_df = df2.loc[16100:]\n",
    "# part_df.language.value_counts(normalize= True)"
   ]
  },
  {
   "cell_type": "code",
   "execution_count": 68,
   "metadata": {
    "ExecuteTime": {
     "end_time": "2021-04-03T22:26:45.707653Z",
     "start_time": "2021-04-03T22:26:23.600057Z"
    }
   },
   "outputs": [],
   "source": [
    "# create dictionary to save original tweet and translated one\n",
    "results = {}\n",
    "\n",
    "# translate tweets into English\n",
    "for i in part_df.tweets.loc[:]:\n",
    "    result = translate_client.translate(i, target_language= 'en')\n",
    "    results[i] = result['translatedText']"
   ]
  },
  {
   "cell_type": "code",
   "execution_count": 69,
   "metadata": {
    "ExecuteTime": {
     "end_time": "2021-04-03T22:26:47.791215Z",
     "start_time": "2021-04-03T22:26:47.562682Z"
    }
   },
   "outputs": [],
   "source": [
    "# replace with English translation\n",
    "df2.tweets.replace(results, inplace= True)"
   ]
  },
  {
   "cell_type": "code",
   "execution_count": 70,
   "metadata": {
    "ExecuteTime": {
     "end_time": "2021-04-03T22:26:58.315088Z",
     "start_time": "2021-04-03T22:26:58.305562Z"
    }
   },
   "outputs": [
    {
     "data": {
      "text/html": [
       "<div>\n",
       "<style scoped>\n",
       "    .dataframe tbody tr th:only-of-type {\n",
       "        vertical-align: middle;\n",
       "    }\n",
       "\n",
       "    .dataframe tbody tr th {\n",
       "        vertical-align: top;\n",
       "    }\n",
       "\n",
       "    .dataframe thead th {\n",
       "        text-align: right;\n",
       "    }\n",
       "</style>\n",
       "<table border=\"1\" class=\"dataframe\">\n",
       "  <thead>\n",
       "    <tr style=\"text-align: right;\">\n",
       "      <th></th>\n",
       "      <th>time</th>\n",
       "      <th>tweets</th>\n",
       "      <th>language</th>\n",
       "    </tr>\n",
       "  </thead>\n",
       "  <tbody>\n",
       "    <tr>\n",
       "      <th>16359</th>\n",
       "      <td>2021-04-01</td>\n",
       "      <td>@ BenoitG70293865 @francoislegault Haha! This guy is my spiritual animal 🤣 No, but do you have to be thick to ask a vaccinated guy if he&amp;#39;s afraid of the Covid?</td>\n",
       "      <td>French</td>\n",
       "    </tr>\n",
       "    <tr>\n",
       "      <th>16360</th>\n",
       "      <td>2021-04-01</td>\n",
       "      <td>So my father, who has been fighting multiple sclerosis for over 10 years now, must be vaccinated against covid on the pretext that he is a person at risk ?? A PERSON AT RISK ???? It&amp;#39;s not like he got this damn disease from a FUCKING VACCINE !!</td>\n",
       "      <td>French</td>\n",
       "    </tr>\n",
       "    <tr>\n",
       "      <th>16361</th>\n",
       "      <td>2021-04-01</td>\n",
       "      <td>@ Latnaille77 They are quite right! Had he had a serological check before his vaccination! Perhaps he had already had an asymptomatic form of covid and was immune. We do not vaccinate in this case. But hey, since everything is done in spite of common sense, how many victims to deplore 😪</td>\n",
       "      <td>French</td>\n",
       "    </tr>\n",
       "    <tr>\n",
       "      <th>16362</th>\n",
       "      <td>2021-04-01</td>\n",
       "      <td>@ Digitalchaos8 @ Poulin2012 My neighbor duly vaccinated in the 1st serious Covid ...</td>\n",
       "      <td>French</td>\n",
       "    </tr>\n",
       "    <tr>\n",
       "      <th>16363</th>\n",
       "      <td>2021-04-01</td>\n",
       "      <td>Gold D Roger is said to have actually died after being vaccinated against Covid-19. https://t.co/OvoulfUryJ</td>\n",
       "      <td>French</td>\n",
       "    </tr>\n",
       "    <tr>\n",
       "      <th>...</th>\n",
       "      <td>...</td>\n",
       "      <td>...</td>\n",
       "      <td>...</td>\n",
       "    </tr>\n",
       "    <tr>\n",
       "      <th>16553</th>\n",
       "      <td>2021-04-03</td>\n",
       "      <td>Vaccinated, the Argentine president tested positive for Covid-19 - Le Point https://t.co/hMiSG4V2BY via @LePoint</td>\n",
       "      <td>French</td>\n",
       "    </tr>\n",
       "    <tr>\n",
       "      <th>16554</th>\n",
       "      <td>2021-04-03</td>\n",
       "      <td>The Argentine president, although vaccinated, tested positive for Covid-19 https://t.co/LlrUizXVgT https://t.co/JuccC3VnbP</td>\n",
       "      <td>French</td>\n",
       "    </tr>\n",
       "    <tr>\n",
       "      <th>16555</th>\n",
       "      <td>2021-04-03</td>\n",
       "      <td>Covid - An 8-year-old child &amp;quot;vaccinated&amp;quot; by mistake Dallas County obliges to register online to be bitten (with date of birth to be informed) The father believed it normal that his son be vaccinated, after receiving a QR code. VF right click https://t.co/8KkpHEr3Sr</td>\n",
       "      <td>French</td>\n",
       "    </tr>\n",
       "    <tr>\n",
       "      <th>16556</th>\n",
       "      <td>2021-04-03</td>\n",
       "      <td>They want us to get vaccinated so that doesn&amp;#39;t prevent you from having the virus or being a carrier of the virus ... Its just decreases the severity if you have covid.</td>\n",
       "      <td>French</td>\n",
       "    </tr>\n",
       "    <tr>\n",
       "      <th>16557</th>\n",
       "      <td>2021-04-03</td>\n",
       "      <td>💉After receiving two doses of the Sputnik V vaccine, Argentine President Alberto Fernandez tested positive for the coronavirus and placed in isolation. https://t.co/8s7bJ2Xx Or</td>\n",
       "      <td>French</td>\n",
       "    </tr>\n",
       "  </tbody>\n",
       "</table>\n",
       "<p>199 rows × 3 columns</p>\n",
       "</div>"
      ],
      "text/plain": [
       "             time  \\\n",
       "16359  2021-04-01   \n",
       "16360  2021-04-01   \n",
       "16361  2021-04-01   \n",
       "16362  2021-04-01   \n",
       "16363  2021-04-01   \n",
       "...           ...   \n",
       "16553  2021-04-03   \n",
       "16554  2021-04-03   \n",
       "16555  2021-04-03   \n",
       "16556  2021-04-03   \n",
       "16557  2021-04-03   \n",
       "\n",
       "                                                                                                                                                                                                                                                                                                tweets  \\\n",
       "16359                                                                                                                              @ BenoitG70293865 @francoislegault Haha! This guy is my spiritual animal 🤣 No, but do you have to be thick to ask a vaccinated guy if he&#39;s afraid of the Covid?   \n",
       "16360                                          So my father, who has been fighting multiple sclerosis for over 10 years now, must be vaccinated against covid on the pretext that he is a person at risk ?? A PERSON AT RISK ???? It&#39;s not like he got this damn disease from a FUCKING VACCINE !!   \n",
       "16361  @ Latnaille77 They are quite right! Had he had a serological check before his vaccination! Perhaps he had already had an asymptomatic form of covid and was immune. We do not vaccinate in this case. But hey, since everything is done in spite of common sense, how many victims to deplore 😪   \n",
       "16362                                                                                                                                                                                                            @ Digitalchaos8 @ Poulin2012 My neighbor duly vaccinated in the 1st serious Covid ...   \n",
       "16363                                                                                                                                                                                      Gold D Roger is said to have actually died after being vaccinated against Covid-19. https://t.co/OvoulfUryJ   \n",
       "...                                                                                                                                                                                                                                                                                                ...   \n",
       "16553                                                                                                                                                                                 Vaccinated, the Argentine president tested positive for Covid-19 - Le Point https://t.co/hMiSG4V2BY via @LePoint   \n",
       "16554                                                                                                                                                                       The Argentine president, although vaccinated, tested positive for Covid-19 https://t.co/LlrUizXVgT https://t.co/JuccC3VnbP   \n",
       "16555              Covid - An 8-year-old child &quot;vaccinated&quot; by mistake Dallas County obliges to register online to be bitten (with date of birth to be informed) The father believed it normal that his son be vaccinated, after receiving a QR code. VF right click https://t.co/8KkpHEr3Sr   \n",
       "16556                                                                                                                      They want us to get vaccinated so that doesn&#39;t prevent you from having the virus or being a carrier of the virus ... Its just decreases the severity if you have covid.   \n",
       "16557                                                                                                                 💉After receiving two doses of the Sputnik V vaccine, Argentine President Alberto Fernandez tested positive for the coronavirus and placed in isolation. https://t.co/8s7bJ2Xx Or   \n",
       "\n",
       "      language  \n",
       "16359   French  \n",
       "16360   French  \n",
       "16361   French  \n",
       "16362   French  \n",
       "16363   French  \n",
       "...        ...  \n",
       "16553   French  \n",
       "16554   French  \n",
       "16555   French  \n",
       "16556   French  \n",
       "16557   French  \n",
       "\n",
       "[199 rows x 3 columns]"
      ]
     },
     "execution_count": 70,
     "metadata": {},
     "output_type": "execute_result"
    }
   ],
   "source": [
    "# preview previously French Tweets\n",
    "df2[df2['language'] == 'French']"
   ]
  },
  {
   "cell_type": "code",
   "execution_count": 71,
   "metadata": {
    "ExecuteTime": {
     "end_time": "2021-04-03T22:27:08.096547Z",
     "start_time": "2021-04-03T22:27:07.981261Z"
    }
   },
   "outputs": [],
   "source": [
    "# save to csv file\n",
    "df2.to_csv('data/tweets_translated.csv', index= False)"
   ]
  },
  {
   "cell_type": "markdown",
   "metadata": {},
   "source": [
    "## Text Sentiment\n",
    "---\n",
    "Does the tweet have a positive, negative, or neutral tone?"
   ]
  },
  {
   "cell_type": "markdown",
   "metadata": {},
   "source": [
    "### Feature Engineering for Text Data\n",
    "--- \n",
    "stopword removal\n",
    "frequency distributions\n",
    "lemmatization\n",
    "bigramsm n-grams, and mutal information score"
   ]
  },
  {
   "cell_type": "code",
   "execution_count": 79,
   "metadata": {
    "ExecuteTime": {
     "end_time": "2021-04-03T23:11:11.660903Z",
     "start_time": "2021-04-03T23:11:11.657187Z"
    }
   },
   "outputs": [],
   "source": [
    "sentiment_df = df2[['time', 'tweets']]"
   ]
  },
  {
   "cell_type": "code",
   "execution_count": 81,
   "metadata": {
    "ExecuteTime": {
     "end_time": "2021-04-03T23:11:34.230894Z",
     "start_time": "2021-04-03T23:11:34.223948Z"
    }
   },
   "outputs": [
    {
     "data": {
      "text/html": [
       "<div>\n",
       "<style scoped>\n",
       "    .dataframe tbody tr th:only-of-type {\n",
       "        vertical-align: middle;\n",
       "    }\n",
       "\n",
       "    .dataframe tbody tr th {\n",
       "        vertical-align: top;\n",
       "    }\n",
       "\n",
       "    .dataframe thead th {\n",
       "        text-align: right;\n",
       "    }\n",
       "</style>\n",
       "<table border=\"1\" class=\"dataframe\">\n",
       "  <thead>\n",
       "    <tr style=\"text-align: right;\">\n",
       "      <th></th>\n",
       "      <th>time</th>\n",
       "      <th>tweets</th>\n",
       "    </tr>\n",
       "  </thead>\n",
       "  <tbody>\n",
       "    <tr>\n",
       "      <th>0</th>\n",
       "      <td>2021-04-01</td>\n",
       "      <td>Concerning the use of aborted baby tissue in the J&amp;amp;J Covid vaccine:\\n\\n“The J&amp;amp;J vaccine has sparked debate among some religious communities because it was developed from stem cells obtained during two abortions decades ago.”\\n\\nEvil is still evil, even if it was decades ago.</td>\n",
       "    </tr>\n",
       "    <tr>\n",
       "      <th>1</th>\n",
       "      <td>2021-04-01</td>\n",
       "      <td>imagine an animal getting the covid-19 vaccine b4 a human</td>\n",
       "    </tr>\n",
       "    <tr>\n",
       "      <th>2</th>\n",
       "      <td>2021-04-01</td>\n",
       "      <td>Definition of a microstate: https://t.co/8N0R8Mhl73\\n\\nSource of vaccine data: https://t.co/0RQFJPTrZZ</td>\n",
       "    </tr>\n",
       "    <tr>\n",
       "      <th>3</th>\n",
       "      <td>2021-04-01</td>\n",
       "      <td>If I’ve Had COVID-19, Do I Still Need Two Doses of Vaccine? https://t.co/08AiBgfEHQ</td>\n",
       "    </tr>\n",
       "    <tr>\n",
       "      <th>4</th>\n",
       "      <td>2021-04-01</td>\n",
       "      <td>My epidural was delayed again, somehow my covid vaccine does not interact well with an epidural. SOOOOO I should be getting it on my birthday. Yay. \\n\\n So far I have 1-2 dr appointments a week this entire month.\\n  \\nOn the upside they've given me proper muscle relaxers this time.</td>\n",
       "    </tr>\n",
       "  </tbody>\n",
       "</table>\n",
       "</div>"
      ],
      "text/plain": [
       "         time  \\\n",
       "0  2021-04-01   \n",
       "1  2021-04-01   \n",
       "2  2021-04-01   \n",
       "3  2021-04-01   \n",
       "4  2021-04-01   \n",
       "\n",
       "                                                                                                                                                                                                                                                                                        tweets  \n",
       "0  Concerning the use of aborted baby tissue in the J&amp;J Covid vaccine:\\n\\n“The J&amp;J vaccine has sparked debate among some religious communities because it was developed from stem cells obtained during two abortions decades ago.”\\n\\nEvil is still evil, even if it was decades ago.  \n",
       "1                                                                                                                                                                                                                                    imagine an animal getting the covid-19 vaccine b4 a human  \n",
       "2                                                                                                                                                                                       Definition of a microstate: https://t.co/8N0R8Mhl73\\n\\nSource of vaccine data: https://t.co/0RQFJPTrZZ  \n",
       "3                                                                                                                                                                                                          If I’ve Had COVID-19, Do I Still Need Two Doses of Vaccine? https://t.co/08AiBgfEHQ  \n",
       "4   My epidural was delayed again, somehow my covid vaccine does not interact well with an epidural. SOOOOO I should be getting it on my birthday. Yay. \\n\\n So far I have 1-2 dr appointments a week this entire month.\\n  \\nOn the upside they've given me proper muscle relaxers this time.  "
      ]
     },
     "execution_count": 81,
     "metadata": {},
     "output_type": "execute_result"
    }
   ],
   "source": [
    "sentiment_df.head()"
   ]
  },
  {
   "cell_type": "code",
   "execution_count": 82,
   "metadata": {
    "ExecuteTime": {
     "end_time": "2021-04-03T23:11:58.020105Z",
     "start_time": "2021-04-03T23:11:58.017112Z"
    }
   },
   "outputs": [],
   "source": [
    "# convert text to lowercase and remove stopwords\n",
    "def process_tweets(tweet):\n",
    "    tokens = nltk.word_tokenize(tweet)\n",
    "    stopwords_removed = [token.lower() for token in tokens if token.lower() not in stopwords_list]\n",
    "    return stopwords_removed"
   ]
  },
  {
   "cell_type": "code",
   "execution_count": 84,
   "metadata": {
    "ExecuteTime": {
     "end_time": "2021-04-03T23:17:44.755328Z",
     "start_time": "2021-04-03T23:17:43.900138Z"
    }
   },
   "outputs": [
    {
     "name": "stderr",
     "output_type": "stream",
     "text": [
      "[nltk_data] Downloading package punkt to\n",
      "[nltk_data]     /Users/cassienutter/nltk_data...\n",
      "[nltk_data]   Unzipping tokenizers/punkt.zip.\n"
     ]
    },
    {
     "data": {
      "text/plain": [
       "True"
      ]
     },
     "execution_count": 84,
     "metadata": {},
     "output_type": "execute_result"
    }
   ],
   "source": [
    "# import nltk\n",
    "# nltk.download('punkt')"
   ]
  },
  {
   "cell_type": "code",
   "execution_count": 85,
   "metadata": {
    "ExecuteTime": {
     "end_time": "2021-04-03T23:17:53.735606Z",
     "start_time": "2021-04-03T23:17:53.698703Z"
    }
   },
   "outputs": [
    {
     "ename": "TypeError",
     "evalue": "expected string or bytes-like object",
     "output_type": "error",
     "traceback": [
      "\u001b[0;31m---------------------------------------------------------------------------\u001b[0m",
      "\u001b[0;31mTypeError\u001b[0m                                 Traceback (most recent call last)",
      "\u001b[0;32m<ipython-input-85-636690cbbf12>\u001b[0m in \u001b[0;36m<module>\u001b[0;34m\u001b[0m\n\u001b[0;32m----> 1\u001b[0;31m \u001b[0msentiment_df\u001b[0m \u001b[0;34m=\u001b[0m \u001b[0msentiment_df\u001b[0m\u001b[0;34m.\u001b[0m\u001b[0mapply\u001b[0m\u001b[0;34m(\u001b[0m\u001b[0;32mlambda\u001b[0m \u001b[0mx\u001b[0m\u001b[0;34m:\u001b[0m \u001b[0mprocess_tweets\u001b[0m\u001b[0;34m(\u001b[0m\u001b[0mx\u001b[0m\u001b[0;34m)\u001b[0m \u001b[0;32mif\u001b[0m \u001b[0mx\u001b[0m\u001b[0;34m.\u001b[0m\u001b[0mname\u001b[0m \u001b[0;34m==\u001b[0m \u001b[0;34m'tweets'\u001b[0m \u001b[0;32melse\u001b[0m \u001b[0mx\u001b[0m\u001b[0;34m)\u001b[0m\u001b[0;34m\u001b[0m\u001b[0;34m\u001b[0m\u001b[0m\n\u001b[0m",
      "\u001b[0;32m~/opt/anaconda3/envs/learn-env/lib/python3.8/site-packages/pandas/core/frame.py\u001b[0m in \u001b[0;36mapply\u001b[0;34m(self, func, axis, raw, result_type, args, **kwds)\u001b[0m\n\u001b[1;32m   7766\u001b[0m             \u001b[0mkwds\u001b[0m\u001b[0;34m=\u001b[0m\u001b[0mkwds\u001b[0m\u001b[0;34m,\u001b[0m\u001b[0;34m\u001b[0m\u001b[0;34m\u001b[0m\u001b[0m\n\u001b[1;32m   7767\u001b[0m         )\n\u001b[0;32m-> 7768\u001b[0;31m         \u001b[0;32mreturn\u001b[0m \u001b[0mop\u001b[0m\u001b[0;34m.\u001b[0m\u001b[0mget_result\u001b[0m\u001b[0;34m(\u001b[0m\u001b[0;34m)\u001b[0m\u001b[0;34m\u001b[0m\u001b[0;34m\u001b[0m\u001b[0m\n\u001b[0m\u001b[1;32m   7769\u001b[0m \u001b[0;34m\u001b[0m\u001b[0m\n\u001b[1;32m   7770\u001b[0m     \u001b[0;32mdef\u001b[0m \u001b[0mapplymap\u001b[0m\u001b[0;34m(\u001b[0m\u001b[0mself\u001b[0m\u001b[0;34m,\u001b[0m \u001b[0mfunc\u001b[0m\u001b[0;34m,\u001b[0m \u001b[0mna_action\u001b[0m\u001b[0;34m:\u001b[0m \u001b[0mOptional\u001b[0m\u001b[0;34m[\u001b[0m\u001b[0mstr\u001b[0m\u001b[0;34m]\u001b[0m \u001b[0;34m=\u001b[0m \u001b[0;32mNone\u001b[0m\u001b[0;34m)\u001b[0m \u001b[0;34m->\u001b[0m \u001b[0mDataFrame\u001b[0m\u001b[0;34m:\u001b[0m\u001b[0;34m\u001b[0m\u001b[0;34m\u001b[0m\u001b[0m\n",
      "\u001b[0;32m~/opt/anaconda3/envs/learn-env/lib/python3.8/site-packages/pandas/core/apply.py\u001b[0m in \u001b[0;36mget_result\u001b[0;34m(self)\u001b[0m\n\u001b[1;32m    183\u001b[0m             \u001b[0;32mreturn\u001b[0m \u001b[0mself\u001b[0m\u001b[0;34m.\u001b[0m\u001b[0mapply_raw\u001b[0m\u001b[0;34m(\u001b[0m\u001b[0;34m)\u001b[0m\u001b[0;34m\u001b[0m\u001b[0;34m\u001b[0m\u001b[0m\n\u001b[1;32m    184\u001b[0m \u001b[0;34m\u001b[0m\u001b[0m\n\u001b[0;32m--> 185\u001b[0;31m         \u001b[0;32mreturn\u001b[0m \u001b[0mself\u001b[0m\u001b[0;34m.\u001b[0m\u001b[0mapply_standard\u001b[0m\u001b[0;34m(\u001b[0m\u001b[0;34m)\u001b[0m\u001b[0;34m\u001b[0m\u001b[0;34m\u001b[0m\u001b[0m\n\u001b[0m\u001b[1;32m    186\u001b[0m \u001b[0;34m\u001b[0m\u001b[0m\n\u001b[1;32m    187\u001b[0m     \u001b[0;32mdef\u001b[0m \u001b[0mapply_empty_result\u001b[0m\u001b[0;34m(\u001b[0m\u001b[0mself\u001b[0m\u001b[0;34m)\u001b[0m\u001b[0;34m:\u001b[0m\u001b[0;34m\u001b[0m\u001b[0;34m\u001b[0m\u001b[0m\n",
      "\u001b[0;32m~/opt/anaconda3/envs/learn-env/lib/python3.8/site-packages/pandas/core/apply.py\u001b[0m in \u001b[0;36mapply_standard\u001b[0;34m(self)\u001b[0m\n\u001b[1;32m    274\u001b[0m \u001b[0;34m\u001b[0m\u001b[0m\n\u001b[1;32m    275\u001b[0m     \u001b[0;32mdef\u001b[0m \u001b[0mapply_standard\u001b[0m\u001b[0;34m(\u001b[0m\u001b[0mself\u001b[0m\u001b[0;34m)\u001b[0m\u001b[0;34m:\u001b[0m\u001b[0;34m\u001b[0m\u001b[0;34m\u001b[0m\u001b[0m\n\u001b[0;32m--> 276\u001b[0;31m         \u001b[0mresults\u001b[0m\u001b[0;34m,\u001b[0m \u001b[0mres_index\u001b[0m \u001b[0;34m=\u001b[0m \u001b[0mself\u001b[0m\u001b[0;34m.\u001b[0m\u001b[0mapply_series_generator\u001b[0m\u001b[0;34m(\u001b[0m\u001b[0;34m)\u001b[0m\u001b[0;34m\u001b[0m\u001b[0;34m\u001b[0m\u001b[0m\n\u001b[0m\u001b[1;32m    277\u001b[0m \u001b[0;34m\u001b[0m\u001b[0m\n\u001b[1;32m    278\u001b[0m         \u001b[0;31m# wrap results\u001b[0m\u001b[0;34m\u001b[0m\u001b[0;34m\u001b[0m\u001b[0;34m\u001b[0m\u001b[0m\n",
      "\u001b[0;32m~/opt/anaconda3/envs/learn-env/lib/python3.8/site-packages/pandas/core/apply.py\u001b[0m in \u001b[0;36mapply_series_generator\u001b[0;34m(self)\u001b[0m\n\u001b[1;32m    288\u001b[0m             \u001b[0;32mfor\u001b[0m \u001b[0mi\u001b[0m\u001b[0;34m,\u001b[0m \u001b[0mv\u001b[0m \u001b[0;32min\u001b[0m \u001b[0menumerate\u001b[0m\u001b[0;34m(\u001b[0m\u001b[0mseries_gen\u001b[0m\u001b[0;34m)\u001b[0m\u001b[0;34m:\u001b[0m\u001b[0;34m\u001b[0m\u001b[0;34m\u001b[0m\u001b[0m\n\u001b[1;32m    289\u001b[0m                 \u001b[0;31m# ignore SettingWithCopy here in case the user mutates\u001b[0m\u001b[0;34m\u001b[0m\u001b[0;34m\u001b[0m\u001b[0;34m\u001b[0m\u001b[0m\n\u001b[0;32m--> 290\u001b[0;31m                 \u001b[0mresults\u001b[0m\u001b[0;34m[\u001b[0m\u001b[0mi\u001b[0m\u001b[0;34m]\u001b[0m \u001b[0;34m=\u001b[0m \u001b[0mself\u001b[0m\u001b[0;34m.\u001b[0m\u001b[0mf\u001b[0m\u001b[0;34m(\u001b[0m\u001b[0mv\u001b[0m\u001b[0;34m)\u001b[0m\u001b[0;34m\u001b[0m\u001b[0;34m\u001b[0m\u001b[0m\n\u001b[0m\u001b[1;32m    291\u001b[0m                 \u001b[0;32mif\u001b[0m \u001b[0misinstance\u001b[0m\u001b[0;34m(\u001b[0m\u001b[0mresults\u001b[0m\u001b[0;34m[\u001b[0m\u001b[0mi\u001b[0m\u001b[0;34m]\u001b[0m\u001b[0;34m,\u001b[0m \u001b[0mABCSeries\u001b[0m\u001b[0;34m)\u001b[0m\u001b[0;34m:\u001b[0m\u001b[0;34m\u001b[0m\u001b[0;34m\u001b[0m\u001b[0m\n\u001b[1;32m    292\u001b[0m                     \u001b[0;31m# If we have a view on v, we need to make a copy because\u001b[0m\u001b[0;34m\u001b[0m\u001b[0;34m\u001b[0m\u001b[0;34m\u001b[0m\u001b[0m\n",
      "\u001b[0;32m<ipython-input-85-636690cbbf12>\u001b[0m in \u001b[0;36m<lambda>\u001b[0;34m(x)\u001b[0m\n\u001b[0;32m----> 1\u001b[0;31m \u001b[0msentiment_df\u001b[0m \u001b[0;34m=\u001b[0m \u001b[0msentiment_df\u001b[0m\u001b[0;34m.\u001b[0m\u001b[0mapply\u001b[0m\u001b[0;34m(\u001b[0m\u001b[0;32mlambda\u001b[0m \u001b[0mx\u001b[0m\u001b[0;34m:\u001b[0m \u001b[0mprocess_tweets\u001b[0m\u001b[0;34m(\u001b[0m\u001b[0mx\u001b[0m\u001b[0;34m)\u001b[0m \u001b[0;32mif\u001b[0m \u001b[0mx\u001b[0m\u001b[0;34m.\u001b[0m\u001b[0mname\u001b[0m \u001b[0;34m==\u001b[0m \u001b[0;34m'tweets'\u001b[0m \u001b[0;32melse\u001b[0m \u001b[0mx\u001b[0m\u001b[0;34m)\u001b[0m\u001b[0;34m\u001b[0m\u001b[0;34m\u001b[0m\u001b[0m\n\u001b[0m",
      "\u001b[0;32m<ipython-input-82-62e4acaae707>\u001b[0m in \u001b[0;36mprocess_tweets\u001b[0;34m(tweet)\u001b[0m\n\u001b[1;32m      1\u001b[0m \u001b[0;31m# convert text to lowercase and remove stopwords\u001b[0m\u001b[0;34m\u001b[0m\u001b[0;34m\u001b[0m\u001b[0;34m\u001b[0m\u001b[0m\n\u001b[1;32m      2\u001b[0m \u001b[0;32mdef\u001b[0m \u001b[0mprocess_tweets\u001b[0m\u001b[0;34m(\u001b[0m\u001b[0mtweet\u001b[0m\u001b[0;34m)\u001b[0m\u001b[0;34m:\u001b[0m\u001b[0;34m\u001b[0m\u001b[0;34m\u001b[0m\u001b[0m\n\u001b[0;32m----> 3\u001b[0;31m     \u001b[0mtokens\u001b[0m \u001b[0;34m=\u001b[0m \u001b[0mnltk\u001b[0m\u001b[0;34m.\u001b[0m\u001b[0mword_tokenize\u001b[0m\u001b[0;34m(\u001b[0m\u001b[0mtweet\u001b[0m\u001b[0;34m)\u001b[0m\u001b[0;34m\u001b[0m\u001b[0;34m\u001b[0m\u001b[0m\n\u001b[0m\u001b[1;32m      4\u001b[0m     \u001b[0mstopwords_removed\u001b[0m \u001b[0;34m=\u001b[0m \u001b[0;34m[\u001b[0m\u001b[0mtoken\u001b[0m\u001b[0;34m.\u001b[0m\u001b[0mlower\u001b[0m\u001b[0;34m(\u001b[0m\u001b[0;34m)\u001b[0m \u001b[0;32mfor\u001b[0m \u001b[0mtoken\u001b[0m \u001b[0;32min\u001b[0m \u001b[0mtokens\u001b[0m \u001b[0;32mif\u001b[0m \u001b[0mtoken\u001b[0m\u001b[0;34m.\u001b[0m\u001b[0mlower\u001b[0m\u001b[0;34m(\u001b[0m\u001b[0;34m)\u001b[0m \u001b[0;32mnot\u001b[0m \u001b[0;32min\u001b[0m \u001b[0mstopwords_list\u001b[0m\u001b[0;34m]\u001b[0m\u001b[0;34m\u001b[0m\u001b[0;34m\u001b[0m\u001b[0m\n\u001b[1;32m      5\u001b[0m     \u001b[0;32mreturn\u001b[0m \u001b[0mstopwords_removed\u001b[0m\u001b[0;34m\u001b[0m\u001b[0;34m\u001b[0m\u001b[0m\n",
      "\u001b[0;32m~/opt/anaconda3/envs/learn-env/lib/python3.8/site-packages/nltk/tokenize/__init__.py\u001b[0m in \u001b[0;36mword_tokenize\u001b[0;34m(text, language, preserve_line)\u001b[0m\n\u001b[1;32m    127\u001b[0m     \u001b[0;34m:\u001b[0m\u001b[0mtype\u001b[0m \u001b[0mpreserve_line\u001b[0m\u001b[0;34m:\u001b[0m \u001b[0mbool\u001b[0m\u001b[0;34m\u001b[0m\u001b[0;34m\u001b[0m\u001b[0m\n\u001b[1;32m    128\u001b[0m     \"\"\"\n\u001b[0;32m--> 129\u001b[0;31m     \u001b[0msentences\u001b[0m \u001b[0;34m=\u001b[0m \u001b[0;34m[\u001b[0m\u001b[0mtext\u001b[0m\u001b[0;34m]\u001b[0m \u001b[0;32mif\u001b[0m \u001b[0mpreserve_line\u001b[0m \u001b[0;32melse\u001b[0m \u001b[0msent_tokenize\u001b[0m\u001b[0;34m(\u001b[0m\u001b[0mtext\u001b[0m\u001b[0;34m,\u001b[0m \u001b[0mlanguage\u001b[0m\u001b[0;34m)\u001b[0m\u001b[0;34m\u001b[0m\u001b[0;34m\u001b[0m\u001b[0m\n\u001b[0m\u001b[1;32m    130\u001b[0m     return [\n\u001b[1;32m    131\u001b[0m         \u001b[0mtoken\u001b[0m \u001b[0;32mfor\u001b[0m \u001b[0msent\u001b[0m \u001b[0;32min\u001b[0m \u001b[0msentences\u001b[0m \u001b[0;32mfor\u001b[0m \u001b[0mtoken\u001b[0m \u001b[0;32min\u001b[0m \u001b[0m_treebank_word_tokenizer\u001b[0m\u001b[0;34m.\u001b[0m\u001b[0mtokenize\u001b[0m\u001b[0;34m(\u001b[0m\u001b[0msent\u001b[0m\u001b[0;34m)\u001b[0m\u001b[0;34m\u001b[0m\u001b[0;34m\u001b[0m\u001b[0m\n",
      "\u001b[0;32m~/opt/anaconda3/envs/learn-env/lib/python3.8/site-packages/nltk/tokenize/__init__.py\u001b[0m in \u001b[0;36msent_tokenize\u001b[0;34m(text, language)\u001b[0m\n\u001b[1;32m    105\u001b[0m     \"\"\"\n\u001b[1;32m    106\u001b[0m     \u001b[0mtokenizer\u001b[0m \u001b[0;34m=\u001b[0m \u001b[0mload\u001b[0m\u001b[0;34m(\u001b[0m\u001b[0;34m\"tokenizers/punkt/{0}.pickle\"\u001b[0m\u001b[0;34m.\u001b[0m\u001b[0mformat\u001b[0m\u001b[0;34m(\u001b[0m\u001b[0mlanguage\u001b[0m\u001b[0;34m)\u001b[0m\u001b[0;34m)\u001b[0m\u001b[0;34m\u001b[0m\u001b[0;34m\u001b[0m\u001b[0m\n\u001b[0;32m--> 107\u001b[0;31m     \u001b[0;32mreturn\u001b[0m \u001b[0mtokenizer\u001b[0m\u001b[0;34m.\u001b[0m\u001b[0mtokenize\u001b[0m\u001b[0;34m(\u001b[0m\u001b[0mtext\u001b[0m\u001b[0;34m)\u001b[0m\u001b[0;34m\u001b[0m\u001b[0;34m\u001b[0m\u001b[0m\n\u001b[0m\u001b[1;32m    108\u001b[0m \u001b[0;34m\u001b[0m\u001b[0m\n\u001b[1;32m    109\u001b[0m \u001b[0;34m\u001b[0m\u001b[0m\n",
      "\u001b[0;32m~/opt/anaconda3/envs/learn-env/lib/python3.8/site-packages/nltk/tokenize/punkt.py\u001b[0m in \u001b[0;36mtokenize\u001b[0;34m(self, text, realign_boundaries)\u001b[0m\n\u001b[1;32m   1270\u001b[0m         \u001b[0mGiven\u001b[0m \u001b[0ma\u001b[0m \u001b[0mtext\u001b[0m\u001b[0;34m,\u001b[0m \u001b[0mreturns\u001b[0m \u001b[0ma\u001b[0m \u001b[0mlist\u001b[0m \u001b[0mof\u001b[0m \u001b[0mthe\u001b[0m \u001b[0msentences\u001b[0m \u001b[0;32min\u001b[0m \u001b[0mthat\u001b[0m \u001b[0mtext\u001b[0m\u001b[0;34m.\u001b[0m\u001b[0;34m\u001b[0m\u001b[0;34m\u001b[0m\u001b[0m\n\u001b[1;32m   1271\u001b[0m         \"\"\"\n\u001b[0;32m-> 1272\u001b[0;31m         \u001b[0;32mreturn\u001b[0m \u001b[0mlist\u001b[0m\u001b[0;34m(\u001b[0m\u001b[0mself\u001b[0m\u001b[0;34m.\u001b[0m\u001b[0msentences_from_text\u001b[0m\u001b[0;34m(\u001b[0m\u001b[0mtext\u001b[0m\u001b[0;34m,\u001b[0m \u001b[0mrealign_boundaries\u001b[0m\u001b[0;34m)\u001b[0m\u001b[0;34m)\u001b[0m\u001b[0;34m\u001b[0m\u001b[0;34m\u001b[0m\u001b[0m\n\u001b[0m\u001b[1;32m   1273\u001b[0m \u001b[0;34m\u001b[0m\u001b[0m\n\u001b[1;32m   1274\u001b[0m     \u001b[0;32mdef\u001b[0m \u001b[0mdebug_decisions\u001b[0m\u001b[0;34m(\u001b[0m\u001b[0mself\u001b[0m\u001b[0;34m,\u001b[0m \u001b[0mtext\u001b[0m\u001b[0;34m)\u001b[0m\u001b[0;34m:\u001b[0m\u001b[0;34m\u001b[0m\u001b[0;34m\u001b[0m\u001b[0m\n",
      "\u001b[0;32m~/opt/anaconda3/envs/learn-env/lib/python3.8/site-packages/nltk/tokenize/punkt.py\u001b[0m in \u001b[0;36msentences_from_text\u001b[0;34m(self, text, realign_boundaries)\u001b[0m\n\u001b[1;32m   1324\u001b[0m         \u001b[0mfollows\u001b[0m \u001b[0mthe\u001b[0m \u001b[0mperiod\u001b[0m\u001b[0;34m.\u001b[0m\u001b[0;34m\u001b[0m\u001b[0;34m\u001b[0m\u001b[0m\n\u001b[1;32m   1325\u001b[0m         \"\"\"\n\u001b[0;32m-> 1326\u001b[0;31m         \u001b[0;32mreturn\u001b[0m \u001b[0;34m[\u001b[0m\u001b[0mtext\u001b[0m\u001b[0;34m[\u001b[0m\u001b[0ms\u001b[0m\u001b[0;34m:\u001b[0m\u001b[0me\u001b[0m\u001b[0;34m]\u001b[0m \u001b[0;32mfor\u001b[0m \u001b[0ms\u001b[0m\u001b[0;34m,\u001b[0m \u001b[0me\u001b[0m \u001b[0;32min\u001b[0m \u001b[0mself\u001b[0m\u001b[0;34m.\u001b[0m\u001b[0mspan_tokenize\u001b[0m\u001b[0;34m(\u001b[0m\u001b[0mtext\u001b[0m\u001b[0;34m,\u001b[0m \u001b[0mrealign_boundaries\u001b[0m\u001b[0;34m)\u001b[0m\u001b[0;34m]\u001b[0m\u001b[0;34m\u001b[0m\u001b[0;34m\u001b[0m\u001b[0m\n\u001b[0m\u001b[1;32m   1327\u001b[0m \u001b[0;34m\u001b[0m\u001b[0m\n\u001b[1;32m   1328\u001b[0m     \u001b[0;32mdef\u001b[0m \u001b[0m_slices_from_text\u001b[0m\u001b[0;34m(\u001b[0m\u001b[0mself\u001b[0m\u001b[0;34m,\u001b[0m \u001b[0mtext\u001b[0m\u001b[0;34m)\u001b[0m\u001b[0;34m:\u001b[0m\u001b[0;34m\u001b[0m\u001b[0;34m\u001b[0m\u001b[0m\n",
      "\u001b[0;32m~/opt/anaconda3/envs/learn-env/lib/python3.8/site-packages/nltk/tokenize/punkt.py\u001b[0m in \u001b[0;36m<listcomp>\u001b[0;34m(.0)\u001b[0m\n\u001b[1;32m   1324\u001b[0m         \u001b[0mfollows\u001b[0m \u001b[0mthe\u001b[0m \u001b[0mperiod\u001b[0m\u001b[0;34m.\u001b[0m\u001b[0;34m\u001b[0m\u001b[0;34m\u001b[0m\u001b[0m\n\u001b[1;32m   1325\u001b[0m         \"\"\"\n\u001b[0;32m-> 1326\u001b[0;31m         \u001b[0;32mreturn\u001b[0m \u001b[0;34m[\u001b[0m\u001b[0mtext\u001b[0m\u001b[0;34m[\u001b[0m\u001b[0ms\u001b[0m\u001b[0;34m:\u001b[0m\u001b[0me\u001b[0m\u001b[0;34m]\u001b[0m \u001b[0;32mfor\u001b[0m \u001b[0ms\u001b[0m\u001b[0;34m,\u001b[0m \u001b[0me\u001b[0m \u001b[0;32min\u001b[0m \u001b[0mself\u001b[0m\u001b[0;34m.\u001b[0m\u001b[0mspan_tokenize\u001b[0m\u001b[0;34m(\u001b[0m\u001b[0mtext\u001b[0m\u001b[0;34m,\u001b[0m \u001b[0mrealign_boundaries\u001b[0m\u001b[0;34m)\u001b[0m\u001b[0;34m]\u001b[0m\u001b[0;34m\u001b[0m\u001b[0;34m\u001b[0m\u001b[0m\n\u001b[0m\u001b[1;32m   1327\u001b[0m \u001b[0;34m\u001b[0m\u001b[0m\n\u001b[1;32m   1328\u001b[0m     \u001b[0;32mdef\u001b[0m \u001b[0m_slices_from_text\u001b[0m\u001b[0;34m(\u001b[0m\u001b[0mself\u001b[0m\u001b[0;34m,\u001b[0m \u001b[0mtext\u001b[0m\u001b[0;34m)\u001b[0m\u001b[0;34m:\u001b[0m\u001b[0;34m\u001b[0m\u001b[0;34m\u001b[0m\u001b[0m\n",
      "\u001b[0;32m~/opt/anaconda3/envs/learn-env/lib/python3.8/site-packages/nltk/tokenize/punkt.py\u001b[0m in \u001b[0;36mspan_tokenize\u001b[0;34m(self, text, realign_boundaries)\u001b[0m\n\u001b[1;32m   1314\u001b[0m         \u001b[0;32mif\u001b[0m \u001b[0mrealign_boundaries\u001b[0m\u001b[0;34m:\u001b[0m\u001b[0;34m\u001b[0m\u001b[0;34m\u001b[0m\u001b[0m\n\u001b[1;32m   1315\u001b[0m             \u001b[0mslices\u001b[0m \u001b[0;34m=\u001b[0m \u001b[0mself\u001b[0m\u001b[0;34m.\u001b[0m\u001b[0m_realign_boundaries\u001b[0m\u001b[0;34m(\u001b[0m\u001b[0mtext\u001b[0m\u001b[0;34m,\u001b[0m \u001b[0mslices\u001b[0m\u001b[0;34m)\u001b[0m\u001b[0;34m\u001b[0m\u001b[0;34m\u001b[0m\u001b[0m\n\u001b[0;32m-> 1316\u001b[0;31m         \u001b[0;32mfor\u001b[0m \u001b[0msl\u001b[0m \u001b[0;32min\u001b[0m \u001b[0mslices\u001b[0m\u001b[0;34m:\u001b[0m\u001b[0;34m\u001b[0m\u001b[0;34m\u001b[0m\u001b[0m\n\u001b[0m\u001b[1;32m   1317\u001b[0m             \u001b[0;32myield\u001b[0m \u001b[0;34m(\u001b[0m\u001b[0msl\u001b[0m\u001b[0;34m.\u001b[0m\u001b[0mstart\u001b[0m\u001b[0;34m,\u001b[0m \u001b[0msl\u001b[0m\u001b[0;34m.\u001b[0m\u001b[0mstop\u001b[0m\u001b[0;34m)\u001b[0m\u001b[0;34m\u001b[0m\u001b[0;34m\u001b[0m\u001b[0m\n\u001b[1;32m   1318\u001b[0m \u001b[0;34m\u001b[0m\u001b[0m\n",
      "\u001b[0;32m~/opt/anaconda3/envs/learn-env/lib/python3.8/site-packages/nltk/tokenize/punkt.py\u001b[0m in \u001b[0;36m_realign_boundaries\u001b[0;34m(self, text, slices)\u001b[0m\n\u001b[1;32m   1355\u001b[0m         \"\"\"\n\u001b[1;32m   1356\u001b[0m         \u001b[0mrealign\u001b[0m \u001b[0;34m=\u001b[0m \u001b[0;36m0\u001b[0m\u001b[0;34m\u001b[0m\u001b[0;34m\u001b[0m\u001b[0m\n\u001b[0;32m-> 1357\u001b[0;31m         \u001b[0;32mfor\u001b[0m \u001b[0msl1\u001b[0m\u001b[0;34m,\u001b[0m \u001b[0msl2\u001b[0m \u001b[0;32min\u001b[0m \u001b[0m_pair_iter\u001b[0m\u001b[0;34m(\u001b[0m\u001b[0mslices\u001b[0m\u001b[0;34m)\u001b[0m\u001b[0;34m:\u001b[0m\u001b[0;34m\u001b[0m\u001b[0;34m\u001b[0m\u001b[0m\n\u001b[0m\u001b[1;32m   1358\u001b[0m             \u001b[0msl1\u001b[0m \u001b[0;34m=\u001b[0m \u001b[0mslice\u001b[0m\u001b[0;34m(\u001b[0m\u001b[0msl1\u001b[0m\u001b[0;34m.\u001b[0m\u001b[0mstart\u001b[0m \u001b[0;34m+\u001b[0m \u001b[0mrealign\u001b[0m\u001b[0;34m,\u001b[0m \u001b[0msl1\u001b[0m\u001b[0;34m.\u001b[0m\u001b[0mstop\u001b[0m\u001b[0;34m)\u001b[0m\u001b[0;34m\u001b[0m\u001b[0;34m\u001b[0m\u001b[0m\n\u001b[1;32m   1359\u001b[0m             \u001b[0;32mif\u001b[0m \u001b[0;32mnot\u001b[0m \u001b[0msl2\u001b[0m\u001b[0;34m:\u001b[0m\u001b[0;34m\u001b[0m\u001b[0;34m\u001b[0m\u001b[0m\n",
      "\u001b[0;32m~/opt/anaconda3/envs/learn-env/lib/python3.8/site-packages/nltk/tokenize/punkt.py\u001b[0m in \u001b[0;36m_pair_iter\u001b[0;34m(it)\u001b[0m\n\u001b[1;32m    312\u001b[0m     \u001b[0mit\u001b[0m \u001b[0;34m=\u001b[0m \u001b[0miter\u001b[0m\u001b[0;34m(\u001b[0m\u001b[0mit\u001b[0m\u001b[0;34m)\u001b[0m\u001b[0;34m\u001b[0m\u001b[0;34m\u001b[0m\u001b[0m\n\u001b[1;32m    313\u001b[0m     \u001b[0;32mtry\u001b[0m\u001b[0;34m:\u001b[0m\u001b[0;34m\u001b[0m\u001b[0;34m\u001b[0m\u001b[0m\n\u001b[0;32m--> 314\u001b[0;31m         \u001b[0mprev\u001b[0m \u001b[0;34m=\u001b[0m \u001b[0mnext\u001b[0m\u001b[0;34m(\u001b[0m\u001b[0mit\u001b[0m\u001b[0;34m)\u001b[0m\u001b[0;34m\u001b[0m\u001b[0;34m\u001b[0m\u001b[0m\n\u001b[0m\u001b[1;32m    315\u001b[0m     \u001b[0;32mexcept\u001b[0m \u001b[0mStopIteration\u001b[0m\u001b[0;34m:\u001b[0m\u001b[0;34m\u001b[0m\u001b[0;34m\u001b[0m\u001b[0m\n\u001b[1;32m    316\u001b[0m         \u001b[0;32mreturn\u001b[0m\u001b[0;34m\u001b[0m\u001b[0;34m\u001b[0m\u001b[0m\n",
      "\u001b[0;32m~/opt/anaconda3/envs/learn-env/lib/python3.8/site-packages/nltk/tokenize/punkt.py\u001b[0m in \u001b[0;36m_slices_from_text\u001b[0;34m(self, text)\u001b[0m\n\u001b[1;32m   1328\u001b[0m     \u001b[0;32mdef\u001b[0m \u001b[0m_slices_from_text\u001b[0m\u001b[0;34m(\u001b[0m\u001b[0mself\u001b[0m\u001b[0;34m,\u001b[0m \u001b[0mtext\u001b[0m\u001b[0;34m)\u001b[0m\u001b[0;34m:\u001b[0m\u001b[0;34m\u001b[0m\u001b[0;34m\u001b[0m\u001b[0m\n\u001b[1;32m   1329\u001b[0m         \u001b[0mlast_break\u001b[0m \u001b[0;34m=\u001b[0m \u001b[0;36m0\u001b[0m\u001b[0;34m\u001b[0m\u001b[0;34m\u001b[0m\u001b[0m\n\u001b[0;32m-> 1330\u001b[0;31m         \u001b[0;32mfor\u001b[0m \u001b[0mmatch\u001b[0m \u001b[0;32min\u001b[0m \u001b[0mself\u001b[0m\u001b[0;34m.\u001b[0m\u001b[0m_lang_vars\u001b[0m\u001b[0;34m.\u001b[0m\u001b[0mperiod_context_re\u001b[0m\u001b[0;34m(\u001b[0m\u001b[0;34m)\u001b[0m\u001b[0;34m.\u001b[0m\u001b[0mfinditer\u001b[0m\u001b[0;34m(\u001b[0m\u001b[0mtext\u001b[0m\u001b[0;34m)\u001b[0m\u001b[0;34m:\u001b[0m\u001b[0;34m\u001b[0m\u001b[0;34m\u001b[0m\u001b[0m\n\u001b[0m\u001b[1;32m   1331\u001b[0m             \u001b[0mcontext\u001b[0m \u001b[0;34m=\u001b[0m \u001b[0mmatch\u001b[0m\u001b[0;34m.\u001b[0m\u001b[0mgroup\u001b[0m\u001b[0;34m(\u001b[0m\u001b[0;34m)\u001b[0m \u001b[0;34m+\u001b[0m \u001b[0mmatch\u001b[0m\u001b[0;34m.\u001b[0m\u001b[0mgroup\u001b[0m\u001b[0;34m(\u001b[0m\u001b[0;34m\"after_tok\"\u001b[0m\u001b[0;34m)\u001b[0m\u001b[0;34m\u001b[0m\u001b[0;34m\u001b[0m\u001b[0m\n\u001b[1;32m   1332\u001b[0m             \u001b[0;32mif\u001b[0m \u001b[0mself\u001b[0m\u001b[0;34m.\u001b[0m\u001b[0mtext_contains_sentbreak\u001b[0m\u001b[0;34m(\u001b[0m\u001b[0mcontext\u001b[0m\u001b[0;34m)\u001b[0m\u001b[0;34m:\u001b[0m\u001b[0;34m\u001b[0m\u001b[0;34m\u001b[0m\u001b[0m\n",
      "\u001b[0;31mTypeError\u001b[0m: expected string or bytes-like object"
     ]
    }
   ],
   "source": [
    "sentiment_df = sentiment_df.apply(lambda x: process_tweets(x) if x.name == 'tweets' else x)"
   ]
  },
  {
   "cell_type": "code",
   "execution_count": null,
   "metadata": {
    "ExecuteTime": {
     "end_time": "2021-04-03T22:06:16.598244Z",
     "start_time": "2021-04-03T22:06:09.108Z"
    }
   },
   "outputs": [],
   "source": [
    "# remove punctuation"
   ]
  },
  {
   "cell_type": "code",
   "execution_count": null,
   "metadata": {
    "ExecuteTime": {
     "end_time": "2021-04-03T22:06:16.599261Z",
     "start_time": "2021-04-03T22:06:09.110Z"
    }
   },
   "outputs": [],
   "source": [
    "# tokenization"
   ]
  },
  {
   "cell_type": "code",
   "execution_count": null,
   "metadata": {
    "ExecuteTime": {
     "end_time": "2021-04-03T22:06:16.600214Z",
     "start_time": "2021-04-03T22:06:09.112Z"
    }
   },
   "outputs": [],
   "source": []
  },
  {
   "cell_type": "code",
   "execution_count": null,
   "metadata": {
    "ExecuteTime": {
     "end_time": "2021-04-03T22:06:16.601100Z",
     "start_time": "2021-04-03T22:06:09.115Z"
    }
   },
   "outputs": [],
   "source": [
    "# lemmatization"
   ]
  },
  {
   "cell_type": "code",
   "execution_count": null,
   "metadata": {
    "ExecuteTime": {
     "end_time": "2021-04-03T22:06:16.601954Z",
     "start_time": "2021-04-03T22:06:09.117Z"
    }
   },
   "outputs": [],
   "source": [
    "# Part of speech (POS) tagging"
   ]
  },
  {
   "cell_type": "code",
   "execution_count": null,
   "metadata": {},
   "outputs": [],
   "source": []
  }
 ],
 "metadata": {
  "kernelspec": {
   "display_name": "Python 3",
   "language": "python",
   "name": "python3"
  },
  "language_info": {
   "codemirror_mode": {
    "name": "ipython",
    "version": 3
   },
   "file_extension": ".py",
   "mimetype": "text/x-python",
   "name": "python",
   "nbconvert_exporter": "python",
   "pygments_lexer": "ipython3",
   "version": "3.8.5"
  },
  "toc": {
   "base_numbering": 1,
   "nav_menu": {},
   "number_sections": true,
   "sideBar": true,
   "skip_h1_title": true,
   "title_cell": "Table of Contents",
   "title_sidebar": "Contents",
   "toc_cell": false,
   "toc_position": {
    "height": "calc(100% - 180px)",
    "left": "10px",
    "top": "150px",
    "width": "282.797px"
   },
   "toc_section_display": true,
   "toc_window_display": true
  },
  "varInspector": {
   "cols": {
    "lenName": 16,
    "lenType": 16,
    "lenVar": 40
   },
   "kernels_config": {
    "python": {
     "delete_cmd_postfix": "",
     "delete_cmd_prefix": "del ",
     "library": "var_list.py",
     "varRefreshCmd": "print(var_dic_list())"
    },
    "r": {
     "delete_cmd_postfix": ") ",
     "delete_cmd_prefix": "rm(",
     "library": "var_list.r",
     "varRefreshCmd": "cat(var_dic_list()) "
    }
   },
   "types_to_exclude": [
    "module",
    "function",
    "builtin_function_or_method",
    "instance",
    "_Feature"
   ],
   "window_display": false
  }
 },
 "nbformat": 4,
 "nbformat_minor": 4
}
