{
 "cells": [
  {
   "cell_type": "markdown",
   "metadata": {},
   "source": [
    "# Twitter Sentiment Analysis\n",
    "\n",
    "This notebook aims to analyze Tweets made about the COVID-19 vaccine and determine whether the sentiment of the Tweets is negative, positive, or neutral."
   ]
  },
  {
   "cell_type": "markdown",
   "metadata": {},
   "source": [
    "## Libraries"
   ]
  },
  {
   "cell_type": "code",
   "execution_count": 1,
   "metadata": {
    "ExecuteTime": {
     "end_time": "2021-04-03T20:36:41.317615Z",
     "start_time": "2021-04-03T20:36:40.402102Z"
    }
   },
   "outputs": [],
   "source": [
    "import tweepy\n",
    "import webbrowser\n",
    "import pandas as pd\n",
    "import matplotlib.pyplot as plt\n",
    "%matplotlib inline\n",
    "import seaborn as sns\n",
    "sns.set_style('whitegrid')\n",
    "\n",
    "import config\n",
    "pd.set_option('display.max_colwidth', None)\n",
    "\n",
    "from tweepy import OAuthHandler\n",
    "from tweepy import API\n",
    "\n",
    "import googletrans"
   ]
  },
  {
   "cell_type": "markdown",
   "metadata": {},
   "source": [
    "## Gather data from Twitter API"
   ]
  },
  {
   "cell_type": "code",
   "execution_count": 2,
   "metadata": {
    "ExecuteTime": {
     "end_time": "2021-04-03T20:36:41.743094Z",
     "start_time": "2021-04-03T20:36:41.740935Z"
    }
   },
   "outputs": [],
   "source": [
    "# Developer API keys\n",
    "# API keys in config.py in .gitignore\n",
    "callback_uri = 'oob'"
   ]
  },
  {
   "cell_type": "code",
   "execution_count": 3,
   "metadata": {
    "ExecuteTime": {
     "end_time": "2021-04-03T20:36:42.239265Z",
     "start_time": "2021-04-03T20:36:42.236484Z"
    }
   },
   "outputs": [],
   "source": [
    "auth = OAuthHandler(config.consumer_key, config.consumer_secret, callback_uri)\n",
    "auth.set_access_token(config.access_token, config.access_token_secret)"
   ]
  },
  {
   "cell_type": "code",
   "execution_count": 4,
   "metadata": {
    "ExecuteTime": {
     "end_time": "2021-04-03T20:36:42.687908Z",
     "start_time": "2021-04-03T20:36:42.685451Z"
    }
   },
   "outputs": [],
   "source": [
    "api = API(auth, wait_on_rate_limit= True, wait_on_rate_limit_notify= True)"
   ]
  },
  {
   "cell_type": "code",
   "execution_count": 5,
   "metadata": {
    "ExecuteTime": {
     "end_time": "2021-04-03T20:36:43.804199Z",
     "start_time": "2021-04-03T20:36:43.360779Z"
    }
   },
   "outputs": [
    {
     "name": "stdout",
     "output_type": "stream",
     "text": [
      "cassienutter1\n"
     ]
    }
   ],
   "source": [
    "# show my Twitter handle\n",
    "me = api.me()\n",
    "print(me.screen_name)"
   ]
  },
  {
   "cell_type": "code",
   "execution_count": null,
   "metadata": {
    "ExecuteTime": {
     "end_time": "2021-04-03T19:11:40.630568Z",
     "start_time": "2021-04-03T19:11:39.112597Z"
    }
   },
   "outputs": [],
   "source": [
    "# simple query to get the hang of it\n",
    "query = '#vaccine covid'\n",
    "for i, status in enumerate(tweepy.Cursor(api.search, q= query).items(50)):\n",
    "    print (i, status.text)\n",
    "\n",
    "# filter only English tweets    \n",
    "# query = '#vaccine covid'\n",
    "# for i, status in enumerate(tweepy.Cursor(api.search, q= query, lang= 'en').items(50)):\n",
    "#     print (i, status.text)"
   ]
  },
  {
   "cell_type": "code",
   "execution_count": null,
   "metadata": {
    "ExecuteTime": {
     "end_time": "2021-04-03T18:44:24.683918Z",
     "start_time": "2021-04-03T18:44:24.677357Z"
    }
   },
   "outputs": [],
   "source": [
    "''' This cell was run to collect the initial 5000 tweets and save them to a csv file\n",
    "is commented out to prevent it from being run again\n",
    "\n",
    "\n",
    "# collect 5000 tweets \n",
    "number_of_tweets = 5000\n",
    "tweets = []\n",
    "language = []\n",
    "time = []\n",
    "\n",
    "# only collect full text, language, and time it was posted\n",
    "# remove any retweets '-RT'\n",
    "for i in tweepy.Cursor(api.search, q= 'vaccine covid -RT',  \n",
    "                       tweet_mode = 'extended').items(number_of_tweets):\n",
    "    tweets.append(i.full_text)\n",
    "    language.append(i.lang)\n",
    "    time.append(i.created_at)\n",
    "\n",
    "# turn tweets / lists into dataframe\n",
    "df = pd.DataFrame({'time': time, 'language': language, 'tweets': tweets})\n",
    "\n",
    "# save df to csv\n",
    "df.to_csv('data/tweets.csv', index= False)\n",
    "'''"
   ]
  },
  {
   "cell_type": "markdown",
   "metadata": {},
   "source": [
    "Collect more tweets after waiting to avoid collecting the same tweets."
   ]
  },
  {
   "cell_type": "code",
   "execution_count": null,
   "metadata": {
    "ExecuteTime": {
     "end_time": "2021-04-03T18:44:24.689447Z",
     "start_time": "2021-04-03T18:44:24.685808Z"
    }
   },
   "outputs": [],
   "source": [
    "# create function to get more tweets and add to existing csv\n",
    "def get_more_tweets(num_tweets):\n",
    "    number_of_tweets = num_tweets\n",
    "    tweets = []\n",
    "    language = []\n",
    "    time = []\n",
    "\n",
    "    # only collect full text, language, and time it was posted\n",
    "    # remove any retweets '-RT'\n",
    "    for i in tweepy.Cursor(api.search, q= 'vaccine covid -RT',  \n",
    "                           tweet_mode = 'extended').items(number_of_tweets):\n",
    "        tweets.append(i.full_text)\n",
    "        language.append(i.lang)\n",
    "        time.append(i.created_at)\n",
    "        \n",
    "    # turn tweets / lists into dataframe\n",
    "    df = pd.DataFrame({'time': time, 'language': language, 'tweets': tweets})\n",
    "    \n",
    "    # add to existing csv file\n",
    "    df.to_csv('data/tweets.csv', mode= 'a', index= False, header= False)"
   ]
  },
  {
   "cell_type": "code",
   "execution_count": null,
   "metadata": {
    "ExecuteTime": {
     "end_time": "2021-04-03T18:44:26.216945Z",
     "start_time": "2021-04-03T18:44:24.691186Z"
    }
   },
   "outputs": [],
   "source": [
    "get_more_tweets(50)"
   ]
  },
  {
   "cell_type": "markdown",
   "metadata": {
    "ExecuteTime": {
     "end_time": "2021-04-01T14:14:15.835034Z",
     "start_time": "2021-04-01T14:14:15.833105Z"
    }
   },
   "source": [
    "### Search for Tweets from 30 Days Ago"
   ]
  },
  {
   "cell_type": "code",
   "execution_count": null,
   "metadata": {
    "ExecuteTime": {
     "end_time": "2021-04-03T18:44:26.223994Z",
     "start_time": "2021-04-03T18:44:26.219051Z"
    }
   },
   "outputs": [],
   "source": [
    "# function to turn results into DataFrame\n",
    "def extract_text_as_df(text_list):\n",
    "    columns = set()\n",
    "    allowed_types = [str, int]\n",
    "    tweets_data = []\n",
    "    for status in text_list:\n",
    "        status_dict = dict(vars(status))\n",
    "        keys = status_dict.keys()\n",
    "        single_tweet_data = {\"author\": status.author.screen_name}\n",
    "        for k in keys:\n",
    "            try:\n",
    "                v_type = type(status_dict[k])\n",
    "            except:\n",
    "                v_type = None\n",
    "            if v_type != None:\n",
    "                if v_type in allowed_types:\n",
    "                    single_tweet_data[k] = status_dict[k]\n",
    "                    columns.add(k)\n",
    "        tweets_data.append(single_tweet_data)\n",
    "\n",
    "\n",
    "    header_cols = list(columns)\n",
    "    header_cols.append('author')\n",
    "    df = pd.DataFrame(tweets_data, columns=header_cols)\n",
    "    return df"
   ]
  },
  {
   "cell_type": "code",
   "execution_count": null,
   "metadata": {
    "ExecuteTime": {
     "end_time": "2021-04-03T18:44:26.921433Z",
     "start_time": "2021-04-03T18:44:26.226331Z"
    }
   },
   "outputs": [],
   "source": [
    "query = 'vaccine covid -RT'\n",
    "results_30 = api.search_30_day('datacollection', query, maxResults= 100)"
   ]
  },
  {
   "cell_type": "code",
   "execution_count": null,
   "metadata": {
    "ExecuteTime": {
     "end_time": "2021-04-03T18:44:26.928570Z",
     "start_time": "2021-04-03T18:44:26.923266Z"
    },
    "scrolled": true
   },
   "outputs": [],
   "source": [
    "old_results_df = extract_text_as_df(results_30)"
   ]
  },
  {
   "cell_type": "code",
   "execution_count": null,
   "metadata": {
    "ExecuteTime": {
     "end_time": "2021-04-03T18:44:26.959172Z",
     "start_time": "2021-04-03T18:44:26.930436Z"
    }
   },
   "outputs": [],
   "source": [
    "old_results_df"
   ]
  },
  {
   "cell_type": "markdown",
   "metadata": {},
   "source": [
    "## Data Cleaning & EDA"
   ]
  },
  {
   "cell_type": "code",
   "execution_count": 6,
   "metadata": {
    "ExecuteTime": {
     "end_time": "2021-04-03T20:36:49.519383Z",
     "start_time": "2021-04-03T20:36:49.470319Z"
    }
   },
   "outputs": [],
   "source": [
    "df = pd.read_csv('data/tweets.csv')"
   ]
  },
  {
   "cell_type": "code",
   "execution_count": 7,
   "metadata": {
    "ExecuteTime": {
     "end_time": "2021-04-03T20:36:51.440526Z",
     "start_time": "2021-04-03T20:36:51.427329Z"
    },
    "scrolled": true
   },
   "outputs": [
    {
     "name": "stdout",
     "output_type": "stream",
     "text": [
      "<class 'pandas.core.frame.DataFrame'>\n",
      "RangeIndex: 15400 entries, 0 to 15399\n",
      "Data columns (total 3 columns):\n",
      " #   Column    Non-Null Count  Dtype \n",
      "---  ------    --------------  ----- \n",
      " 0   time      15400 non-null  object\n",
      " 1   language  15400 non-null  object\n",
      " 2   tweets    15400 non-null  object\n",
      "dtypes: object(3)\n",
      "memory usage: 361.1+ KB\n"
     ]
    }
   ],
   "source": [
    "df.info()"
   ]
  },
  {
   "cell_type": "markdown",
   "metadata": {},
   "source": [
    "### Check and Remove Duplicates"
   ]
  },
  {
   "cell_type": "code",
   "execution_count": 8,
   "metadata": {
    "ExecuteTime": {
     "end_time": "2021-04-03T20:36:53.499165Z",
     "start_time": "2021-04-03T20:36:53.474664Z"
    }
   },
   "outputs": [
    {
     "name": "stdout",
     "output_type": "stream",
     "text": [
      "<class 'pandas.core.frame.DataFrame'>\n",
      "Int64Index: 37 entries, 812 to 15142\n",
      "Data columns (total 3 columns):\n",
      " #   Column    Non-Null Count  Dtype \n",
      "---  ------    --------------  ----- \n",
      " 0   time      37 non-null     object\n",
      " 1   language  37 non-null     object\n",
      " 2   tweets    37 non-null     object\n",
      "dtypes: object(3)\n",
      "memory usage: 1.2+ KB\n"
     ]
    }
   ],
   "source": [
    "# check for duplicated tweets\n",
    "duped = df[df.duplicated(subset= 'tweets')]\n",
    "duped.info()"
   ]
  },
  {
   "cell_type": "code",
   "execution_count": 9,
   "metadata": {
    "ExecuteTime": {
     "end_time": "2021-04-03T20:36:53.879284Z",
     "start_time": "2021-04-03T20:36:53.856574Z"
    }
   },
   "outputs": [
    {
     "data": {
      "text/plain": [
       "0"
      ]
     },
     "execution_count": 9,
     "metadata": {},
     "output_type": "execute_result"
    }
   ],
   "source": [
    "# remove duplicates\n",
    "df.drop_duplicates(subset= 'tweets', keep= 'first', inplace= True)\n",
    "df.reset_index(drop= True, inplace= True)\n",
    "\n",
    "# make sure they are gone\n",
    "df.tweets.duplicated().sum()"
   ]
  },
  {
   "cell_type": "code",
   "execution_count": null,
   "metadata": {},
   "outputs": [],
   "source": []
  },
  {
   "cell_type": "code",
   "execution_count": null,
   "metadata": {},
   "outputs": [],
   "source": []
  },
  {
   "cell_type": "code",
   "execution_count": null,
   "metadata": {},
   "outputs": [],
   "source": []
  },
  {
   "cell_type": "markdown",
   "metadata": {},
   "source": [
    "### Looking at Languages"
   ]
  },
  {
   "cell_type": "code",
   "execution_count": 10,
   "metadata": {
    "ExecuteTime": {
     "end_time": "2021-04-03T20:36:56.968868Z",
     "start_time": "2021-04-03T20:36:56.958833Z"
    }
   },
   "outputs": [],
   "source": [
    "lang_df = df.sort_values('language')"
   ]
  },
  {
   "cell_type": "code",
   "execution_count": 11,
   "metadata": {
    "ExecuteTime": {
     "end_time": "2021-04-03T20:36:57.703231Z",
     "start_time": "2021-04-03T20:36:57.433012Z"
    }
   },
   "outputs": [
    {
     "data": {
      "image/png": "[encoded data removed]",
      "text/plain": [
       "<Figure size 864x576 with 1 Axes>"
      ]
     },
     "metadata": {},
     "output_type": "display_data"
    }
   ],
   "source": [
    "plt.figure(figsize= (12, 8))\n",
    "lang_df.language.value_counts(normalize=True).plot(kind= 'barh')\n",
    "plt.title('Proportion of Languages Collected')\n",
    "plt.xlim(-.01, 1)\n",
    "plt.show()"
   ]
  },
  {
   "cell_type": "code",
   "execution_count": 12,
   "metadata": {
    "ExecuteTime": {
     "end_time": "2021-04-03T20:36:57.972156Z",
     "start_time": "2021-04-03T20:36:57.964679Z"
    }
   },
   "outputs": [
    {
     "data": {
      "text/plain": [
       "en     0.928139\n",
       "und    0.034954\n",
       "fr     0.010935\n",
       "es     0.004687\n",
       "tl     0.002539\n",
       "ja     0.002213\n",
       "hi     0.001757\n",
       "de     0.001367\n",
       "it     0.001237\n",
       "pt     0.001237\n",
       "et     0.000976\n",
       "nl     0.000911\n",
       "pl     0.000781\n",
       "tr     0.000716\n",
       "ar     0.000586\n",
       "ur     0.000521\n",
       "ro     0.000521\n",
       "el     0.000521\n",
       "vi     0.000521\n",
       "ca     0.000456\n",
       "zh     0.000391\n",
       "bn     0.000325\n",
       "in     0.000325\n",
       "da     0.000325\n",
       "fa     0.000260\n",
       "ru     0.000260\n",
       "mr     0.000260\n",
       "hu     0.000260\n",
       "or     0.000195\n",
       "cs     0.000195\n",
       "kn     0.000195\n",
       "fi     0.000195\n",
       "ko     0.000130\n",
       "pa     0.000130\n",
       "th     0.000130\n",
       "te     0.000130\n",
       "ml     0.000130\n",
       "ta     0.000130\n",
       "lv     0.000130\n",
       "sv     0.000130\n",
       "ht     0.000065\n",
       "sr     0.000065\n",
       "gu     0.000065\n",
       "Name: language, dtype: float64"
      ]
     },
     "execution_count": 12,
     "metadata": {},
     "output_type": "execute_result"
    }
   ],
   "source": [
    "lang_df.language.value_counts(normalize=True)"
   ]
  },
  {
   "cell_type": "code",
   "execution_count": 13,
   "metadata": {
    "ExecuteTime": {
     "end_time": "2021-04-03T20:37:00.155184Z",
     "start_time": "2021-04-03T20:36:59.763500Z"
    }
   },
   "outputs": [
    {
     "name": "stdout",
     "output_type": "stream",
     "text": [
      "There are :  1  tables\n",
      "                        0              1\n",
      "0                    Name  Language code\n",
      "1       English (default)             en\n",
      "2                  Arabic             ar\n",
      "3                 Bengali             bn\n",
      "4                   Czech             cs\n",
      "5                  Danish             da\n",
      "6                  German             de\n",
      "7                   Greek             el\n",
      "8                 Spanish             es\n",
      "9                 Persian             fa\n",
      "10                Finnish             fi\n",
      "11               Filipino            fil\n",
      "12                 French             fr\n",
      "13                 Hebrew             he\n",
      "14                  Hindi             hi\n",
      "15              Hungarian             hu\n",
      "16             Indonesian             id\n",
      "17                Italian             it\n",
      "18               Japanese             ja\n",
      "19                 Korean             ko\n",
      "20                  Malay            msa\n",
      "21                  Dutch             nl\n",
      "22              Norwegian             no\n",
      "23                 Polish             pl\n",
      "24             Portuguese             pt\n",
      "25               Romanian             ro\n",
      "26                Russian             ru\n",
      "27                Swedish             sv\n",
      "28                   Thai             th\n",
      "29                Turkish             tr\n",
      "30              Ukrainian             uk\n",
      "31                   Urdu             ur\n",
      "32             Vietnamese             vi\n",
      "33   Chinese (Simplified)          zh-cn\n",
      "34  Chinese (Traditional)          zh-tw\n"
     ]
    }
   ],
   "source": [
    "# what are these languages? get table from url\n",
    "URL = 'https://developer.twitter.com/en/docs/twitter-for-websites/supported-languages'\n",
    "tables = pd.read_html(URL)\n",
    "print(\"There are : \",len(tables),\" tables\")\n",
    "print(tables[0])\n",
    "\n",
    "lang_table = tables[0]"
   ]
  },
  {
   "cell_type": "code",
   "execution_count": 14,
   "metadata": {
    "ExecuteTime": {
     "end_time": "2021-04-03T20:37:00.487398Z",
     "start_time": "2021-04-03T20:37:00.483717Z"
    }
   },
   "outputs": [],
   "source": [
    "# format table\n",
    "header_row = 0\n",
    "lang_table.columns = lang_table.iloc[header_row]\n",
    "lang_table = lang_table.drop(header_row)\n",
    "lang_table.reset_index(drop= True, inplace= True)\n",
    "\n",
    "lang_table.replace('English (default)', 'English', inplace= True)\n",
    "# lang_table"
   ]
  },
  {
   "cell_type": "code",
   "execution_count": 15,
   "metadata": {
    "ExecuteTime": {
     "end_time": "2021-04-03T20:37:02.469596Z",
     "start_time": "2021-04-03T20:37:02.464936Z"
    }
   },
   "outputs": [],
   "source": [
    "# save as csv in data folder\n",
    "lang_table.to_csv('data/languages.csv', index= False)"
   ]
  },
  {
   "cell_type": "code",
   "execution_count": 16,
   "metadata": {
    "ExecuteTime": {
     "end_time": "2021-04-03T20:37:03.183998Z",
     "start_time": "2021-04-03T20:37:03.172485Z"
    }
   },
   "outputs": [
    {
     "data": {
      "text/html": [
       "<div>\n",
       "<style scoped>\n",
       "    .dataframe tbody tr th:only-of-type {\n",
       "        vertical-align: middle;\n",
       "    }\n",
       "\n",
       "    .dataframe tbody tr th {\n",
       "        vertical-align: top;\n",
       "    }\n",
       "\n",
       "    .dataframe thead th {\n",
       "        text-align: right;\n",
       "    }\n",
       "</style>\n",
       "<table border=\"1\" class=\"dataframe\">\n",
       "  <thead>\n",
       "    <tr style=\"text-align: right;\">\n",
       "      <th></th>\n",
       "      <th>time</th>\n",
       "      <th>language</th>\n",
       "      <th>tweets</th>\n",
       "    </tr>\n",
       "  </thead>\n",
       "  <tbody>\n",
       "    <tr>\n",
       "      <th>1</th>\n",
       "      <td>2021-04-01 21:58:44</td>\n",
       "      <td>und</td>\n",
       "      <td>@and_kell @ds13_manon https://t.co/sKnTctMKcF</td>\n",
       "    </tr>\n",
       "    <tr>\n",
       "      <th>19</th>\n",
       "      <td>2021-04-01 21:58:14</td>\n",
       "      <td>und</td>\n",
       "      <td>https://t.co/j2braq4wFx</td>\n",
       "    </tr>\n",
       "    <tr>\n",
       "      <th>29</th>\n",
       "      <td>2021-04-01 21:57:58</td>\n",
       "      <td>und</td>\n",
       "      <td>@Pavlos80322302 @ds13_manon https://t.co/sKnTctMKcF</td>\n",
       "    </tr>\n",
       "    <tr>\n",
       "      <th>79</th>\n",
       "      <td>2021-04-01 21:56:21</td>\n",
       "      <td>und</td>\n",
       "      <td>👍🏼👍🏼👍🏼👍🏼 https://t.co/m68KkEqpOe</td>\n",
       "    </tr>\n",
       "    <tr>\n",
       "      <th>97</th>\n",
       "      <td>2021-04-01 21:55:44</td>\n",
       "      <td>und</td>\n",
       "      <td>https://t.co/Stomi0I13k</td>\n",
       "    </tr>\n",
       "    <tr>\n",
       "      <th>...</th>\n",
       "      <td>...</td>\n",
       "      <td>...</td>\n",
       "      <td>...</td>\n",
       "    </tr>\n",
       "    <tr>\n",
       "      <th>15238</th>\n",
       "      <td>2021-04-03 14:00:47</td>\n",
       "      <td>und</td>\n",
       "      <td>hmm #police #city #officers #department #capitol #biden #covid #vaccine #health #trump https://t.co/efCUe81TeR</td>\n",
       "    </tr>\n",
       "    <tr>\n",
       "      <th>15321</th>\n",
       "      <td>2021-04-03 18:44:00</td>\n",
       "      <td>und</td>\n",
       "      <td>https://t.co/r5EHFfzStE</td>\n",
       "    </tr>\n",
       "    <tr>\n",
       "      <th>15329</th>\n",
       "      <td>2021-04-03 18:43:52</td>\n",
       "      <td>und</td>\n",
       "      <td>https://t.co/z2wWjCiLyZ</td>\n",
       "    </tr>\n",
       "    <tr>\n",
       "      <th>15348</th>\n",
       "      <td>2021-04-03 18:42:50</td>\n",
       "      <td>und</td>\n",
       "      <td>https://t.co/drBoskkaEX</td>\n",
       "    </tr>\n",
       "    <tr>\n",
       "      <th>15351</th>\n",
       "      <td>2021-04-03 18:42:36</td>\n",
       "      <td>und</td>\n",
       "      <td>https://t.co/0NU1rTzRAr</td>\n",
       "    </tr>\n",
       "  </tbody>\n",
       "</table>\n",
       "<p>537 rows × 3 columns</p>\n",
       "</div>"
      ],
      "text/plain": [
       "                      time language  \\\n",
       "1      2021-04-01 21:58:44      und   \n",
       "19     2021-04-01 21:58:14      und   \n",
       "29     2021-04-01 21:57:58      und   \n",
       "79     2021-04-01 21:56:21      und   \n",
       "97     2021-04-01 21:55:44      und   \n",
       "...                    ...      ...   \n",
       "15238  2021-04-03 14:00:47      und   \n",
       "15321  2021-04-03 18:44:00      und   \n",
       "15329  2021-04-03 18:43:52      und   \n",
       "15348  2021-04-03 18:42:50      und   \n",
       "15351  2021-04-03 18:42:36      und   \n",
       "\n",
       "                                                                                                               tweets  \n",
       "1                                                                       @and_kell @ds13_manon https://t.co/sKnTctMKcF  \n",
       "19                                                                                            https://t.co/j2braq4wFx  \n",
       "29                                                                @Pavlos80322302 @ds13_manon https://t.co/sKnTctMKcF  \n",
       "79                                                                                   👍🏼👍🏼👍🏼👍🏼 https://t.co/m68KkEqpOe  \n",
       "97                                                                                            https://t.co/Stomi0I13k  \n",
       "...                                                                                                               ...  \n",
       "15238  hmm #police #city #officers #department #capitol #biden #covid #vaccine #health #trump https://t.co/efCUe81TeR  \n",
       "15321                                                                                         https://t.co/r5EHFfzStE  \n",
       "15329                                                                                         https://t.co/z2wWjCiLyZ  \n",
       "15348                                                                                         https://t.co/drBoskkaEX  \n",
       "15351                                                                                         https://t.co/0NU1rTzRAr  \n",
       "\n",
       "[537 rows x 3 columns]"
      ]
     },
     "execution_count": 16,
     "metadata": {},
     "output_type": "execute_result"
    }
   ],
   "source": [
    "# look at 'und' language \n",
    "df[df['language'] == 'und']"
   ]
  },
  {
   "cell_type": "markdown",
   "metadata": {},
   "source": [
    "It appears that the 'und' or possibly 'undetermined' language are tweets that only include links. We will remove those from our DataFrame."
   ]
  },
  {
   "cell_type": "code",
   "execution_count": 17,
   "metadata": {
    "ExecuteTime": {
     "end_time": "2021-04-03T20:37:04.549927Z",
     "start_time": "2021-04-03T20:37:04.545048Z"
    }
   },
   "outputs": [],
   "source": [
    "df = df[df['language'] != 'und']\n",
    "# df.info()"
   ]
  },
  {
   "cell_type": "markdown",
   "metadata": {},
   "source": [
    "Merge the data with the languages to see the whole name of languages"
   ]
  },
  {
   "cell_type": "code",
   "execution_count": 18,
   "metadata": {
    "ExecuteTime": {
     "end_time": "2021-04-03T20:37:07.546531Z",
     "start_time": "2021-04-03T20:37:07.527307Z"
    }
   },
   "outputs": [
    {
     "name": "stdout",
     "output_type": "stream",
     "text": [
      "<class 'pandas.core.frame.DataFrame'>\n",
      "Int64Index: 14731 entries, 0 to 14730\n",
      "Data columns (total 5 columns):\n",
      " #   Column         Non-Null Count  Dtype \n",
      "---  ------         --------------  ----- \n",
      " 0   time           14731 non-null  object\n",
      " 1   language       14731 non-null  object\n",
      " 2   tweets         14731 non-null  object\n",
      " 3   Name           14731 non-null  object\n",
      " 4   Language code  14731 non-null  object\n",
      "dtypes: object(5)\n",
      "memory usage: 690.5+ KB\n"
     ]
    }
   ],
   "source": [
    "# merge data with language names\n",
    "df2 = df.merge(lang_table, how= 'inner', left_on= 'language', right_on= 'Language code')\n",
    "df2.info()"
   ]
  },
  {
   "cell_type": "code",
   "execution_count": 19,
   "metadata": {
    "ExecuteTime": {
     "end_time": "2021-04-03T20:37:08.339711Z",
     "start_time": "2021-04-03T20:37:08.325772Z"
    },
    "scrolled": true
   },
   "outputs": [],
   "source": [
    "# drop extra columns and rename them and change dates to datetime and drop time\n",
    "df2.drop(columns = ['language', 'Language code'], inplace= True)\n",
    "df2.rename(columns={'Name': 'language'}, inplace= True)\n",
    "df2['time'] = pd.to_datetime(df2['time']).dt.date\n",
    "# df2"
   ]
  },
  {
   "cell_type": "markdown",
   "metadata": {},
   "source": [
    "Let's see how many Tweets are in each language?"
   ]
  },
  {
   "cell_type": "code",
   "execution_count": 20,
   "metadata": {
    "ExecuteTime": {
     "end_time": "2021-04-03T20:37:10.058046Z",
     "start_time": "2021-04-03T20:37:09.844625Z"
    }
   },
   "outputs": [
    {
     "data": {
      "text/plain": [
       "<AxesSubplot:xlabel='count', ylabel='language'>"
      ]
     },
     "execution_count": 20,
     "metadata": {},
     "output_type": "execute_result"
    },
    {
     "data": {
      "image/png": "[encoded data removed]",
      "text/plain": [
       "<Figure size 432x288 with 1 Axes>"
      ]
     },
     "metadata": {},
     "output_type": "display_data"
    }
   ],
   "source": [
    "sns.countplot(y= 'language', data= df2)"
   ]
  },
  {
   "cell_type": "markdown",
   "metadata": {},
   "source": [
    "The majority of Tweets are in English. Let's see what the other languages are."
   ]
  },
  {
   "cell_type": "code",
   "execution_count": 21,
   "metadata": {
    "ExecuteTime": {
     "end_time": "2021-04-03T20:37:14.639616Z",
     "start_time": "2021-04-03T20:37:14.423627Z"
    },
    "scrolled": false
   },
   "outputs": [
    {
     "data": {
      "image/png": "[encoded data removed]",
      "text/plain": [
       "<Figure size 720x576 with 1 Axes>"
      ]
     },
     "metadata": {},
     "output_type": "display_data"
    }
   ],
   "source": [
    "# countplot that excludes English to see detail\n",
    "plt.figure(figsize= (10, 8))\n",
    "sns.countplot(y= 'language', data= df2, palette='plasma',\n",
    "              order= df2.language.value_counts().iloc[1:].index)\n",
    "plt.title('Count of Tweets, Excluding English', fontsize= 14)\n",
    "plt.xlabel('# of Tweets')\n",
    "plt.ylabel('Language')\n",
    "plt.show()"
   ]
  },
  {
   "cell_type": "markdown",
   "metadata": {},
   "source": [
    "After English, the top 3 languages for Tweets about the COVID-19 vaccine are in French, Spanish, and Japanese."
   ]
  },
  {
   "cell_type": "code",
   "execution_count": null,
   "metadata": {},
   "outputs": [],
   "source": []
  },
  {
   "cell_type": "code",
   "execution_count": null,
   "metadata": {
    "ExecuteTime": {
     "end_time": "2021-04-03T18:44:28.472998Z",
     "start_time": "2021-04-03T18:44:28.471278Z"
    }
   },
   "outputs": [],
   "source": [
    "##translate all to english?\n",
    "# googletrans?"
   ]
  },
  {
   "cell_type": "code",
   "execution_count": 39,
   "metadata": {
    "ExecuteTime": {
     "end_time": "2021-04-03T20:58:19.329418Z",
     "start_time": "2021-04-03T20:58:19.325508Z"
    }
   },
   "outputs": [],
   "source": [
    "fr_df = df2[df2['language'] == 'French']"
   ]
  },
  {
   "cell_type": "code",
   "execution_count": 40,
   "metadata": {
    "ExecuteTime": {
     "end_time": "2021-04-03T20:58:20.035261Z",
     "start_time": "2021-04-03T20:58:20.027006Z"
    }
   },
   "outputs": [
    {
     "data": {
      "text/html": [
       "<div>\n",
       "<style scoped>\n",
       "    .dataframe tbody tr th:only-of-type {\n",
       "        vertical-align: middle;\n",
       "    }\n",
       "\n",
       "    .dataframe tbody tr th {\n",
       "        vertical-align: top;\n",
       "    }\n",
       "\n",
       "    .dataframe thead th {\n",
       "        text-align: right;\n",
       "    }\n",
       "</style>\n",
       "<table border=\"1\" class=\"dataframe\">\n",
       "  <thead>\n",
       "    <tr style=\"text-align: right;\">\n",
       "      <th></th>\n",
       "      <th>time</th>\n",
       "      <th>tweets</th>\n",
       "      <th>language</th>\n",
       "    </tr>\n",
       "  </thead>\n",
       "  <tbody>\n",
       "    <tr>\n",
       "      <th>14443</th>\n",
       "      <td>2021-04-01</td>\n",
       "      <td>@BenoitG70293865 @francoislegault Haha!  Ça gars là c'est mon animal spirituel 🤣 Non mais faut tu être épaisse pour demander à un gars vacciné si ya peur de la Covid?</td>\n",
       "      <td>French</td>\n",
       "    </tr>\n",
       "    <tr>\n",
       "      <th>14444</th>\n",
       "      <td>2021-04-01</td>\n",
       "      <td>Donc mon père qui se bat maintenant depuis plus de 10 ans contre la sclérose en plaque doit se faire vacciné contre le covid  sous prétexte que c'est une personne à risque ?? UNE PERSONNE À RISQUE ????\\nC'est pas comme si il avait eu cette fichue maladie par un PUTAIN DE VACCIN !!</td>\n",
       "      <td>French</td>\n",
       "    </tr>\n",
       "    <tr>\n",
       "      <th>14445</th>\n",
       "      <td>2021-04-01</td>\n",
       "      <td>@Latnaille77 Ils ont bien raison ! Avait il eu un contrôle sérologique avant sa vaccination ! Peut être avait-il eu déjà une forme asymptomatique du covid et était immunisé. On ne vaccine pas dans ce cas. Mais bon comme tout est fait en dépit du bon sens, combien de victimes à déplorer 😪</td>\n",
       "      <td>French</td>\n",
       "    </tr>\n",
       "    <tr>\n",
       "      <th>14446</th>\n",
       "      <td>2021-04-01</td>\n",
       "      <td>@Digitalchaos8 @Poulin2012 Mon voisin dûment vacciné dans les 1er Covid grave...</td>\n",
       "      <td>French</td>\n",
       "    </tr>\n",
       "    <tr>\n",
       "      <th>14447</th>\n",
       "      <td>2021-04-01</td>\n",
       "      <td>Gold D Roger serait en réalité mort après s'être vacciné contre la Covid-19. https://t.co/OvoulfUryJ</td>\n",
       "      <td>French</td>\n",
       "    </tr>\n",
       "    <tr>\n",
       "      <th>...</th>\n",
       "      <td>...</td>\n",
       "      <td>...</td>\n",
       "      <td>...</td>\n",
       "    </tr>\n",
       "    <tr>\n",
       "      <th>14606</th>\n",
       "      <td>2021-04-03</td>\n",
       "      <td>Vacciné, le Président argentin positif au Covid: commentaire du concepteur du Spoutnik V: https://t.co/2fz8vLAVmL via @sputnik_fr</td>\n",
       "      <td>French</td>\n",
       "    </tr>\n",
       "    <tr>\n",
       "      <th>14607</th>\n",
       "      <td>2021-04-03</td>\n",
       "      <td>Le président argentin, bien que vacciné, testé positif au Covid-19  https://t.co/lF6uxexcc2</td>\n",
       "      <td>French</td>\n",
       "    </tr>\n",
       "    <tr>\n",
       "      <th>14608</th>\n",
       "      <td>2021-04-03</td>\n",
       "      <td>@QtScience \"Covid-19 : un octogénaire vacciné demande au Conseil d’État de ne plus être confiné\"\\n31.3.21 Mémoire de réponse :\\nhttps://t.co/s9Gqa2Gjiq https://t.co/YG3K7D5C6c</td>\n",
       "      <td>French</td>\n",
       "    </tr>\n",
       "    <tr>\n",
       "      <th>14609</th>\n",
       "      <td>2021-04-03</td>\n",
       "      <td>Le président argentin, vacciné, testé positif au virus du Covid-19 – franceinfo https://t.co/mpow3bjdfy</td>\n",
       "      <td>French</td>\n",
       "    </tr>\n",
       "    <tr>\n",
       "      <th>14610</th>\n",
       "      <td>2021-04-03</td>\n",
       "      <td>@Parcamatt Non, pas sur Doctolib. Ce sera sur I-prof. Tu seras vacciné contre la Covid-1 (comme dirait le philoéditorialiste Onfray) puis pourras être promu au Grand Choix à la vaccination contre la Covid-2, etc. Si tu passes un entretien qualifiant, tu pourras sauter des étapes...</td>\n",
       "      <td>French</td>\n",
       "    </tr>\n",
       "  </tbody>\n",
       "</table>\n",
       "<p>168 rows × 3 columns</p>\n",
       "</div>"
      ],
      "text/plain": [
       "             time  \\\n",
       "14443  2021-04-01   \n",
       "14444  2021-04-01   \n",
       "14445  2021-04-01   \n",
       "14446  2021-04-01   \n",
       "14447  2021-04-01   \n",
       "...           ...   \n",
       "14606  2021-04-03   \n",
       "14607  2021-04-03   \n",
       "14608  2021-04-03   \n",
       "14609  2021-04-03   \n",
       "14610  2021-04-03   \n",
       "\n",
       "                                                                                                                                                                                                                                                                                                 tweets  \\\n",
       "14443                                                                                                                            @BenoitG70293865 @francoislegault Haha!  Ça gars là c'est mon animal spirituel 🤣 Non mais faut tu être épaisse pour demander à un gars vacciné si ya peur de la Covid?   \n",
       "14444         Donc mon père qui se bat maintenant depuis plus de 10 ans contre la sclérose en plaque doit se faire vacciné contre le covid  sous prétexte que c'est une personne à risque ?? UNE PERSONNE À RISQUE ????\\nC'est pas comme si il avait eu cette fichue maladie par un PUTAIN DE VACCIN !!   \n",
       "14445  @Latnaille77 Ils ont bien raison ! Avait il eu un contrôle sérologique avant sa vaccination ! Peut être avait-il eu déjà une forme asymptomatique du covid et était immunisé. On ne vaccine pas dans ce cas. Mais bon comme tout est fait en dépit du bon sens, combien de victimes à déplorer 😪   \n",
       "14446                                                                                                                                                                                                                  @Digitalchaos8 @Poulin2012 Mon voisin dûment vacciné dans les 1er Covid grave...   \n",
       "14447                                                                                                                                                                                              Gold D Roger serait en réalité mort après s'être vacciné contre la Covid-19. https://t.co/OvoulfUryJ   \n",
       "...                                                                                                                                                                                                                                                                                                 ...   \n",
       "14606                                                                                                                                                                 Vacciné, le Président argentin positif au Covid: commentaire du concepteur du Spoutnik V: https://t.co/2fz8vLAVmL via @sputnik_fr   \n",
       "14607                                                                                                                                                                                                       Le président argentin, bien que vacciné, testé positif au Covid-19  https://t.co/lF6uxexcc2   \n",
       "14608                                                                                                                   @QtScience \"Covid-19 : un octogénaire vacciné demande au Conseil d’État de ne plus être confiné\"\\n31.3.21 Mémoire de réponse :\\nhttps://t.co/s9Gqa2Gjiq https://t.co/YG3K7D5C6c   \n",
       "14609                                                                                                                                                                                           Le président argentin, vacciné, testé positif au virus du Covid-19 – franceinfo https://t.co/mpow3bjdfy   \n",
       "14610        @Parcamatt Non, pas sur Doctolib. Ce sera sur I-prof. Tu seras vacciné contre la Covid-1 (comme dirait le philoéditorialiste Onfray) puis pourras être promu au Grand Choix à la vaccination contre la Covid-2, etc. Si tu passes un entretien qualifiant, tu pourras sauter des étapes...   \n",
       "\n",
       "      language  \n",
       "14443   French  \n",
       "14444   French  \n",
       "14445   French  \n",
       "14446   French  \n",
       "14447   French  \n",
       "...        ...  \n",
       "14606   French  \n",
       "14607   French  \n",
       "14608   French  \n",
       "14609   French  \n",
       "14610   French  \n",
       "\n",
       "[168 rows x 3 columns]"
      ]
     },
     "execution_count": 40,
     "metadata": {},
     "output_type": "execute_result"
    }
   ],
   "source": [
    "fr_df"
   ]
  },
  {
   "cell_type": "code",
   "execution_count": null,
   "metadata": {
    "ExecuteTime": {
     "end_time": "2021-04-03T19:15:24.907442Z",
     "start_time": "2021-04-03T19:13:26.017672Z"
    }
   },
   "outputs": [],
   "source": [
    "# translator = Translator()\n",
    "# translations = {}\n",
    "# for column in fr_df.columns:\n",
    "#     unique_elements = df[column].unique()\n",
    "#     for element in unique_elements:\n",
    "#         translations[element] = translator.translate(element).text\n",
    "\n",
    "        \n",
    "# translations"
   ]
  },
  {
   "cell_type": "code",
   "execution_count": 41,
   "metadata": {
    "ExecuteTime": {
     "end_time": "2021-04-03T20:58:23.242351Z",
     "start_time": "2021-04-03T20:58:23.238570Z"
    },
    "scrolled": false
   },
   "outputs": [
    {
     "data": {
      "text/plain": [
       "'@Parcamatt Non, pas sur Doctolib. Ce sera sur I-prof. Tu seras vacciné contre la Covid-1 (comme dirait le philoéditorialiste Onfray) puis pourras être promu au Grand Choix à la vaccination contre la Covid-2, etc. Si tu passes un entretien qualifiant, tu pourras sauter des étapes...'"
      ]
     },
     "execution_count": 41,
     "metadata": {},
     "output_type": "execute_result"
    }
   ],
   "source": [
    "text = fr_df.tweets.loc[14610]\n",
    "text"
   ]
  },
  {
   "cell_type": "code",
   "execution_count": 36,
   "metadata": {
    "ExecuteTime": {
     "end_time": "2021-04-03T20:54:41.395421Z",
     "start_time": "2021-04-03T20:54:41.388528Z"
    }
   },
   "outputs": [],
   "source": [
    "import os\n",
    "from google.oauth2 import service_account\n",
    "from google.cloud import translate_v2 as translate\n",
    "\n",
    "credentials = service_account.Credentials.from_service_account_file('../GCP_service_account.json')\n",
    "translate_client = translate.Client(credentials= credentials)"
   ]
  },
  {
   "cell_type": "code",
   "execution_count": 37,
   "metadata": {
    "ExecuteTime": {
     "end_time": "2021-04-03T20:54:57.016682Z",
     "start_time": "2021-04-03T20:54:56.812640Z"
    },
    "scrolled": true
   },
   "outputs": [
    {
     "name": "stdout",
     "output_type": "stream",
     "text": [
      "[{'language': 'af', 'name': 'Afrikaans'}, {'language': 'sq', 'name': 'Albanian'}, {'language': 'am', 'name': 'Amharic'}, {'language': 'ar', 'name': 'Arabic'}, {'language': 'hy', 'name': 'Armenian'}, {'language': 'az', 'name': 'Azerbaijani'}, {'language': 'eu', 'name': 'Basque'}, {'language': 'be', 'name': 'Belarusian'}, {'language': 'bn', 'name': 'Bengali'}, {'language': 'bs', 'name': 'Bosnian'}, {'language': 'bg', 'name': 'Bulgarian'}, {'language': 'ca', 'name': 'Catalan'}, {'language': 'ceb', 'name': 'Cebuano'}, {'language': 'ny', 'name': 'Chichewa'}, {'language': 'zh-CN', 'name': 'Chinese (Simplified)'}, {'language': 'zh-TW', 'name': 'Chinese (Traditional)'}, {'language': 'co', 'name': 'Corsican'}, {'language': 'hr', 'name': 'Croatian'}, {'language': 'cs', 'name': 'Czech'}, {'language': 'da', 'name': 'Danish'}, {'language': 'nl', 'name': 'Dutch'}, {'language': 'en', 'name': 'English'}, {'language': 'eo', 'name': 'Esperanto'}, {'language': 'et', 'name': 'Estonian'}, {'language': 'tl', 'name': 'Filipino'}, {'language': 'fi', 'name': 'Finnish'}, {'language': 'fr', 'name': 'French'}, {'language': 'fy', 'name': 'Frisian'}, {'language': 'gl', 'name': 'Galician'}, {'language': 'ka', 'name': 'Georgian'}, {'language': 'de', 'name': 'German'}, {'language': 'el', 'name': 'Greek'}, {'language': 'gu', 'name': 'Gujarati'}, {'language': 'ht', 'name': 'Haitian Creole'}, {'language': 'ha', 'name': 'Hausa'}, {'language': 'haw', 'name': 'Hawaiian'}, {'language': 'iw', 'name': 'Hebrew'}, {'language': 'hi', 'name': 'Hindi'}, {'language': 'hmn', 'name': 'Hmong'}, {'language': 'hu', 'name': 'Hungarian'}, {'language': 'is', 'name': 'Icelandic'}, {'language': 'ig', 'name': 'Igbo'}, {'language': 'id', 'name': 'Indonesian'}, {'language': 'ga', 'name': 'Irish'}, {'language': 'it', 'name': 'Italian'}, {'language': 'ja', 'name': 'Japanese'}, {'language': 'jw', 'name': 'Javanese'}, {'language': 'kn', 'name': 'Kannada'}, {'language': 'kk', 'name': 'Kazakh'}, {'language': 'km', 'name': 'Khmer'}, {'language': 'rw', 'name': 'Kinyarwanda'}, {'language': 'ko', 'name': 'Korean'}, {'language': 'ku', 'name': 'Kurdish (Kurmanji)'}, {'language': 'ky', 'name': 'Kyrgyz'}, {'language': 'lo', 'name': 'Lao'}, {'language': 'la', 'name': 'Latin'}, {'language': 'lv', 'name': 'Latvian'}, {'language': 'lt', 'name': 'Lithuanian'}, {'language': 'lb', 'name': 'Luxembourgish'}, {'language': 'mk', 'name': 'Macedonian'}, {'language': 'mg', 'name': 'Malagasy'}, {'language': 'ms', 'name': 'Malay'}, {'language': 'ml', 'name': 'Malayalam'}, {'language': 'mt', 'name': 'Maltese'}, {'language': 'mi', 'name': 'Maori'}, {'language': 'mr', 'name': 'Marathi'}, {'language': 'mn', 'name': 'Mongolian'}, {'language': 'my', 'name': 'Myanmar (Burmese)'}, {'language': 'ne', 'name': 'Nepali'}, {'language': 'no', 'name': 'Norwegian'}, {'language': 'or', 'name': 'Odia (Oriya)'}, {'language': 'ps', 'name': 'Pashto'}, {'language': 'fa', 'name': 'Persian'}, {'language': 'pl', 'name': 'Polish'}, {'language': 'pt', 'name': 'Portuguese'}, {'language': 'pa', 'name': 'Punjabi'}, {'language': 'ro', 'name': 'Romanian'}, {'language': 'ru', 'name': 'Russian'}, {'language': 'sm', 'name': 'Samoan'}, {'language': 'gd', 'name': 'Scots Gaelic'}, {'language': 'sr', 'name': 'Serbian'}, {'language': 'st', 'name': 'Sesotho'}, {'language': 'sn', 'name': 'Shona'}, {'language': 'sd', 'name': 'Sindhi'}, {'language': 'si', 'name': 'Sinhala'}, {'language': 'sk', 'name': 'Slovak'}, {'language': 'sl', 'name': 'Slovenian'}, {'language': 'so', 'name': 'Somali'}, {'language': 'es', 'name': 'Spanish'}, {'language': 'su', 'name': 'Sundanese'}, {'language': 'sw', 'name': 'Swahili'}, {'language': 'sv', 'name': 'Swedish'}, {'language': 'tg', 'name': 'Tajik'}, {'language': 'ta', 'name': 'Tamil'}, {'language': 'tt', 'name': 'Tatar'}, {'language': 'te', 'name': 'Telugu'}, {'language': 'th', 'name': 'Thai'}, {'language': 'tr', 'name': 'Turkish'}, {'language': 'tk', 'name': 'Turkmen'}, {'language': 'uk', 'name': 'Ukrainian'}, {'language': 'ur', 'name': 'Urdu'}, {'language': 'ug', 'name': 'Uyghur'}, {'language': 'uz', 'name': 'Uzbek'}, {'language': 'vi', 'name': 'Vietnamese'}, {'language': 'cy', 'name': 'Welsh'}, {'language': 'xh', 'name': 'Xhosa'}, {'language': 'yi', 'name': 'Yiddish'}, {'language': 'yo', 'name': 'Yoruba'}, {'language': 'zu', 'name': 'Zulu'}, {'language': 'he', 'name': 'Hebrew'}, {'language': 'zh', 'name': 'Chinese (Simplified)'}]\n"
     ]
    }
   ],
   "source": [
    "# translate_client = translate.Client()\n",
    "print(translate_client.get_languages())"
   ]
  },
  {
   "cell_type": "code",
   "execution_count": 44,
   "metadata": {
    "ExecuteTime": {
     "end_time": "2021-04-03T20:59:03.932535Z",
     "start_time": "2021-04-03T20:59:03.549547Z"
    }
   },
   "outputs": [],
   "source": [
    "# translate_client = translate.Client()\n",
    "result = translate_client.translate(text, target_language= 'en')"
   ]
  },
  {
   "cell_type": "code",
   "execution_count": 46,
   "metadata": {
    "ExecuteTime": {
     "end_time": "2021-04-03T20:59:54.337849Z",
     "start_time": "2021-04-03T20:59:54.334601Z"
    },
    "scrolled": true
   },
   "outputs": [
    {
     "data": {
      "text/plain": [
       "'@Parcamatt No, not on Doctolib. It will be on I-prof. You will be vaccinated against Covid-1 (as the philo-editorialist Onfray would say) then you will be able to be promoted to the Grand Choix for vaccination against Covid-2, etc. If you pass a qualifying interview, you will be able to skip steps ...'"
      ]
     },
     "execution_count": 46,
     "metadata": {},
     "output_type": "execute_result"
    }
   ],
   "source": [
    "result['translatedText']"
   ]
  },
  {
   "cell_type": "code",
   "execution_count": 48,
   "metadata": {
    "ExecuteTime": {
     "end_time": "2021-04-03T21:04:23.949707Z",
     "start_time": "2021-04-03T21:03:55.950665Z"
    }
   },
   "outputs": [],
   "source": [
    "fr_en_tweets = []\n",
    "for i in fr_df.tweets.loc[:]:\n",
    "    result = translate_client.translate(i, target_language= 'en')\n",
    "    fr_en_tweets.append(result['translatedText'])"
   ]
  },
  {
   "cell_type": "code",
   "execution_count": 49,
   "metadata": {
    "ExecuteTime": {
     "end_time": "2021-04-03T21:04:38.447342Z",
     "start_time": "2021-04-03T21:04:38.441253Z"
    }
   },
   "outputs": [
    {
     "data": {
      "text/plain": [
       "['@ BenoitG70293865 @francoislegault Haha! This guy is my spiritual animal 🤣 No, but do you have to be thick to ask a vaccinated guy if he&#39;s afraid of the Covid?',\n",
       " 'So my father, who has been fighting multiple sclerosis for over 10 years now, must be vaccinated against covid on the pretext that he is a person at risk ?? A PERSON AT RISK ???? It&#39;s not like he got this damn disease from a FUCKING VACCINE !!',\n",
       " '@ Latnaille77 They are quite right! Had he had a serological check before his vaccination! Perhaps he had already had an asymptomatic form of covid and was immune. We do not vaccinate in this case. But hey, since everything is done in spite of common sense, how many victims to deplore 😪',\n",
       " '@ Digitalchaos8 @ Poulin2012 My neighbor duly vaccinated in the 1st serious Covid ...',\n",
       " 'Gold D Roger is said to have actually died after being vaccinated against Covid-19. https://t.co/OvoulfUryJ',\n",
       " 'Kamala Harris unveils ‘Covid-19 Community Corps’ to battle vaccine misinformation https://t.co/fk8ZtYijnx',\n",
       " 'Kamala Harris unveils ‘Covid-19 Community Corps’ to battle vaccine misinformation https://t.co/HnBi1R2Byv',\n",
       " 'ILLEGAL!  https://t.co/5ZdZtYdFvb',\n",
       " '@pepereboily 1 / I had read, skeptical, the prion / vaccine article https://t.co/LzOxrlOWSq 2 / And Josep Baselga&gt; 60 years old, big figure of AstraZeneca, died of a ... Creutzfeld-Jacob Extremely rare Has he been vaccinated? 3 / Then this factcheck which does not reassure https://t.co/wsEjzV68iM TO BE FOLLOWED https://t.co/6A5Dnt8A4X',\n",
       " 'https://t.co/9C3SKpcoMK The provisional president of the #EU_Commission, António Costa, remains silent after learning that the Vaxzevria vaccine is reserved for people over 60 years old. #UnitedNations #WHO #EU_Commission #EU_parliament # COVID19 # COVID19Vaccine # Covid_19 #COVID https://t.co/s8OvGHYF9r',\n",
       " 'Here is a man who names real things. What is a married man most afraid of? It&#39;s not covid. Vaccinated or not. @francoislegault take notes. https://t.co/GgbzIJMikj',\n",
       " '@ PENELOPPE192 If, a vaccinated octogenarian seized the Council of State to ask for the end of the containment measures for the vaccinated people. https://t.co/sybHIVJgfj',\n",
       " 'New availability: Centura\\nColorado State Fairgrounds (J&amp;J Vaccine): 1001 Beulah Ave, Pueblo, CO 81004\\nAccess here: https://t.co/Fs1JHpmy5X\\nApr 01, 03:06 PM',\n",
       " '@JeMouth Vaccinated or not ex. Mrs. Bachelot received a 1st dose and hospitalized Covid SO TREAT, TREAT, TREAT MUST BE THE STANDARD ... NOT VACCINATE WITH SO LITTLE BACK.',\n",
       " 'Current situation of # COVID-19 in #RDC -&gt; Confirmed: 28199 -&gt; Healings: 25508 -&gt; Dead: 745 Update every 3 hours # COVID19 #vaccine @MinSanteRDC @politicocd',\n",
       " '@CaPiriBr @ Mathis2410 @cigale_provence @EmmanuelMacron No, the vaccine is the belt. If you have COVID (an accident) and you are not vaccinated (you do not have your belt) assume the consequences.',\n",
       " 'Kamala Harris unveils ‘Covid-19 Community Corps’ to battle vaccine\\xa0misinformation https://t.co/lJdsn0QWD0',\n",
       " 'The day when a vaccinated person will nab the covid there we will enter into serious leases',\n",
       " '@valouassmat @franceinfo So everyone at Papi Mami not yet vaccinated ... And the nanny who has already had the covid we do what she has a right pass?',\n",
       " '@ Depress36092654 @ ADv_in21 @fonssdalle @EmmanuelMacron ???? If they die of cancer and positive for the covid cause of these covid ........ If I agree with your reasoning my uncle 75 years old in good shape vaccinated dies after 48 hours, no cause and effect link, that is it ??? While waiting for his son calls for a lawyer ....',\n",
       " '@Kalie_mero @olivierveran @HAS_sante Apparently there are still serious avenues to understand the problem with this vaccine. If what is described in this article is true we should be able to resume for everyone in a short time, right? https://t.co/zOiL8EKj0T',\n",
       " 'To those who swear by the vaccine ➡️Read veran&#39;s answers: &quot;the vaccine does not prevent transmission of the virus to third parties. The impact of vaccination on the spread of the virus is not yet known&quot; @MichelSain ... to read https://t.co/61P7ghUDKG',\n",
       " 'And There you go ! Major and vaccinated 💉 COVID-19 Excellent organization! https://t.co/yCZd9W6yv0',\n",
       " '@ TheEqualizer08 @ VbV75011 @ ledruide19 Between studies and the opinion of your wife and your dog I would always prefer studies 😂 https://t.co/GYnM6vIVCP',\n",
       " 'The Russian military claims to have vaccinated more than 413,000 military personnel against COVID-19 with at least 1 dose of Sputnik V. This certainly gives serious leeway to organize large operations. Interesting ... https://t.co/ZRMMLLB2HE',\n",
       " '@AxelVvv This is not a dose error, the vaccine in no way prevents having covid it only prevents having a serious form, once vaccinated, barrier gestures should not be banned. Then I explained to you why some are reluctant.',\n",
       " 'the vaccine to regain the life before? naannnnn #DictatureSanitaire https://t.co/p4hfYpNs67',\n",
       " '@vieuxhab Meanwhile, in the real world: the effectiveness of vaccines at 6 months is demonstrated ... https://t.co/QuY9KBEdqk',\n",
       " 'The vaccine allows, in theory, to limit severe cases but does not necessarily prevent contracting Covid-19. He said what #Macron Vaccinated, Vaccinated, Vaccinated .. #Vaccine #AstraZeneca https://t.co/lfiJ0k5LPi',\n",
       " '. @ Jefffillion, did you know that we vaccinate * animals &quot;in zoos in Oakland? Https://t.co/WOu4UDh9CC',\n",
       " '@GodImFlawless Mdlrlr It smokes me like OK you&#39;re scared but suddenly you still plan to go to the restaurant without being vaccinated ??? And the covid doesn&#39;t scare you ?? Unbelievable that',\n",
       " '@ JusteMilieu3 Ah yeah, not efficient ... beautiful April Fool&#39;s Day. Studies say the opposite: still 95% effective at 6 months. Epicétou. https://t.co/QuY9KBEdqk',\n",
       " '@GilbertDeray And are we vaccinating we do not check if they have antibodies because we can have had the covid without necessarily positive test',\n",
       " 'USA: 15 million vaxxins discarded after mixing J&amp;J COVID ingredients with AstraZeneca https://t.co/6wc0W5qnti',\n",
       " '@ Pat77432407 Again, if this vaccine doesn&#39;t prevent having the Covid and spreading it, why are people pushing so much on the vaccine or the @vaccines passport? Haven&#39;t they read the information? The vaccine only reduces the intensity of symptoms for the vaccinee.',\n",
       " '#Pfizer and #BioNTech confirm high efficacy and no serious safety concerns for up to six months after the ==&gt; second dose. https://t.co/au2jQ0ake7',\n",
       " 'Pfizer says COVID-19 vaccine 91% effective after 6 months https://t.co/KBf45DjhZF a través de @upi',\n",
       " 'New availability: Centura\\nColorado State Fairgrounds (J&amp;J Vaccine): 1001 Beulah Ave, Pueblo, CO 81004\\nAccess here: https://t.co/Fs1JHpmy5X\\nApr 01, 02:04 PM',\n",
       " 'Fifteen million doses of the Johnson &amp; Johnson (J&amp;J) vaccine failed quality control after workers at a Baltimore manufacturing plant negligently combined ingredients for the COVID vaccine from AstraZeneca and J&amp;J. https://t.co/vYuyE5y7nX',\n",
       " '@savajicl Don&#39;t get excited, Coco, and educate yourself instead of yelling like a skunk being vaccinated. The latest studies show that vaccination reduces the risk of contamination ... https://t.co/Vd9aa4HO3J',\n",
       " '@revoltes There is that from Israel, it seems to me quite alarming seen from the 2nd message that I put then ... The precautionary principle has lead in the wing https://t.co/8aNUKH54lO',\n",
       " '@JosieLaRelou @ ledruide19 The AHS decided that it was necessary to wait 6 months after being positive to be vaccinated ... it greatly limits those who can do so given the rate of caregivers in hospitals who have had the covid ... but shhht must not talk about it ...',\n",
       " '&quot;15M doses of J &amp; J&#39;s vaccine failed quality control after workers at a manufacturing plant in Baltimore negligently combined ingredients from AstraZeneca and J &amp; J&quot; ... 😱😱 puzzling 😳 anyway https : //t.co/PQcl34jqie',\n",
       " 'is the vaccine for covid intramuscular? if not go ahead I have 99 injections that I can do eh I vaccinate my building if you want I sit in the hall all those who pass have an injection',\n",
       " '@LevyAntoine translates @ATabarrok into French: &quot;Such tender and circumspect prudence is a deadly enemy of high executions&quot;. See also: https://t.co/H2FN3SAj9W https://t.co/KY82AUFCrF',\n",
       " 'New availability: Centura\\nColorado State Fairgrounds (J&amp;J Vaccine): 1001 Beulah Ave, Pueblo, CO 81004\\nAccess here: https://t.co/Fs1JHpmy5X\\nApr 01, 05:05 PM',\n",
       " '@ 1er_emmanuel Ben no # Véran declares: &quot;&quot; the vaccine does not prevent transmission of the virus to third parties. The impact of vaccination on the spread of the virus is not yet known &quot;https://t.co/ywnjvKPDQN',\n",
       " '@DrEricDing @ Chamade69 @ MonicaGandhi9 🤣🤣🤣 he is explaining to us that even vaccinated, we will only be able to remove our mask when there are no more cases of Covid. We swim in full delirium!',\n",
       " 'The Pfizer vaccine will remain over 91% effective against the disease for at least six months, which is good news. https://t.co/Ng8uyAos3G',\n",
       " '#Monaco has so far vaccinated a little more than a quarter of its population # Covid19 https://t.co/AQu0Yq6pNV',\n",
       " '@ Jennife52899700 And when the parents are separated? I&#39;ve been paying attention to my Ass mat for 1 year, the covid is his child who brought him back from school. I did everything to ensure that she was vaccinated so I find it normal that she can help me in turn by keeping mine',\n",
       " 'A baby died after breastfeeding. The reason ? Her mother is said to have received her second dose of a COVID vaccine, which would have caused something to the likely taint of her breast milk, causing the baby to burst into a rash. https://t.co/0LouSL4EEV',\n",
       " 'That&#39;s it: I&#39;m vaccinated against Covid-19. No persistent side effects. Long live Bill Gates! Long live 5G! 🤣🤣🤣 #vaccine # Covid19 #BillGates # 5G #nanchips #BigReset https://t.co/bykUbCTztz',\n",
       " '@ YNK1726 @mohamedbouhafsi @MathieuHanotin I don&#39;t call it to do politics but propaganda or the apology of the vaccine of which we do not know the effects or the success rate, and moreover vaccinated, you can get sick covid and pass it on ...',\n",
       " 'I will be VACCINATED NEXT WEEK 🤩🤩🤩🤩 I signed up for a phase 3 trial for a vaccine 15 days ago (I don&#39;t know which one but it must be one on the market since it is phase 3). Sign up for the waiting list here: https://t.co/aZyJvwZlvH',\n",
       " 'The low storage temperatures of mRNA vaccines are a difficulty for their deployment. Some ideas to remedy this, from the composition of the vaccines themselves to the refrigerators ⤵️ https://t.co/qrdXFkrrwm',\n",
       " '@ fandeSega1191 well it&#39;s starting to reopen in the USA and in other countries so I think that when there are enough people vaccinated and that it will decrease the number of people who have COVID it will reopen',\n",
       " 'Covid-19: a vaccinated octogenarian asks the Council of State to no longer be confined https://t.co/A1yT3iLhaI',\n",
       " 'COVID-19 vaccination appointments are available to those 70 and over from Friday, April 2. https://t.co/FJWbXrWn30 COVID-19 Vaccine Appointment Booking for Individuals 70 Years of Age and Older Available Starting Friday April 2.https: //t.co/ybFGRTDPT5',\n",
       " '@ yoda044 @ululeFR As said here it&#39;s a bit more complicated than that but it&#39;s a step in the right direction ^^ https://t.co/cDk9AmPu1r',\n",
       " 'New availability: Centura\\nColorado State Fairgrounds (J&amp;J Vaccine): 1001 Beulah Ave, Pueblo, CO 81004\\nAccess here: https://t.co/Fs1JHpmy5X\\nApr 02, 08:05 AM',\n",
       " '@francoislegault Too easy to say all this when you are vaccinated; you are in this privileged situation; I must tell you that people aged 60 and under are doing their part to protect the older population. It&#39;s time to protect them too because long COVID is a fact!',\n",
       " 'Vaccinated or not for @olivierveran It&#39;s the same, no exception, everyone must be confined. Uh, what is the vaccine for? Nothing https://t.co/knVDLz3N95',\n",
       " 'Kamala Harris unveils ‘Covid-19 Community Corps’ to battle vaccine misinformation https://t.co/n8w90laJxs @picardonhealth @CaulfieldTim @StanKutcher @FriendsOfSciMed @CPHO_Canada @VaccineSafetyN',\n",
       " 'via @franceinfo: You lack good faith. &quot;There is a lack of studies&quot; 1. The studies promised (Discovery) a year ago were a flop 2. The AZ Vaccine studies are not finished and yet we vaccinate by the million. Why ban IV as a treatment? https://t.co/1d6dvItJXo',\n",
       " 'This extremely enlightening paper (almost) makes you want to nab a serious covid and end it once and for all https://t.co/yppmUysIsq',\n",
       " 'It&#39;s a bit like putting &quot;the cart before the horse&quot;. If everyone (whole world) is vaccinated, no need for a covid passport anymore !!! https://t.co/PZZxeUPBwR',\n",
       " 'Update from the British🇬🇧 on rare thrombosis cases #VIPIT after vaccine # AstraZeneca💉: 30 cases for 15.8 million doses received. &quot;The benefits of vaccines outweigh the risks&quot; says the national health authority https://t.co/Vy6lyqwukn https://t.co/ucU7UUh4Pf',\n",
       " '@ kallagan50 @SnakePenchak @vaccinologie @lo_kto @CaudeHenrion @amine_umlil @EmmanuelMacron @gouvernementFR @ctiap_cholet We do not know because to be able to know it we have to test it well, right? And you know what, magic, we know that 6 months later it&#39;s still good. https://t.co/B5cWtSLN6Q Now we will wait 1 year to see?',\n",
       " '@cfhinor @lolilapopa @ Ganmor4 @ lePlaymobil28 @BlauBaron @fquedeville In Israel, they no longer die from covid, since everyone is vaccinated, it would be hard to admit it. No, they die because of the vaccine, but they hide it. Israel is the only country in the developed world that is currently recording an increase in its overall mortality.',\n",
       " '@EmmPont @Hugues_Serraf And there is also that which criticizes the bureaucratic slowness. If we add the vaccination problems in each country it starts to do https://t.co/BihTYRYK6M',\n",
       " '@pensesots @ FireInTheSky11 @GG_RMC @ThierryBreton From the moment when people at risk protect their everything is fine. The lethality of the covid is 0.025 with 81 years as the average age. Someone in this case the side effects in 10 years he may not see them so yes he has to be vaccinated.',\n",
       " 'they were vaccinated in mid-January 2021, they caught the covid at the end of March https://t.co/5MzgfbQV1y',\n",
       " '🔴Representative Marjorie Taylor Greene (R-Ga.) Presented a proposal on April 1 that would ban any mandatory COVID-19 vaccination as well as so-called vaccine passports. 👍 📢 @ ADv_in21 @ComploTisss https://t.co/16ix7jHzHz?',\n",
       " 'Giant vaccination center vaccinates twice as fast in Red Deer https://t.co/h0uDQEgAzj',\n",
       " '&quot;Yesterday, I vaccinated forty people in four hours&quot;: in Lyon, in the largest vaccination center in France against Covid-19 https://t.co/FHcWSh7Er5 via @lemondefr',\n",
       " 'New availability: Centura\\nColorado State Fairgrounds (J&amp;J Vaccine): 1001 Beulah Ave, Pueblo, CO 81004\\nAccess here: https://t.co/Fs1JHpmy5X\\nApr 02, 07:05 AM',\n",
       " '@Dhaferl is the same BioNTech vaccine / Pfizer example: https://t.co/yQ0CCZFkpT',\n",
       " '@ReinfoCovid @revoltes Yes and Veranda confirmed the vaccinated are the same or even worse https://t.co/ca6spF82qm',\n",
       " '@julbross @AlainRayes @KarlBelanger @JustinTrudeau Latest Bloomberg count. Canada still far from collective immunity. https://t.co/Ab4wN2Sj8F',\n",
       " '💉 1st #Moderna injection made ✅ Myositis patient on Rituximab (at 4 months of D1 injection). 💉 First Covid vaccine with Moderna done ✅ #Myositis patient on Rituximab (at 4 months injection D1). #COVID ー 19 #myosites https://t.co/WjR8QIOMmi',\n",
       " 'Sultan Hassanal Bolkiah of Brunei initiates the vaccination campaign in his country. https://t.co/DKkuuadOR8',\n",
       " '@ lugdunum70 @LaureGonlezamar @ mista98berk It&#39;s nice, I&#39;m already vaccinated. I also had the covid. And between the 2, I sincerely recommend the vaccine, it hurts much less. (But hey I&#39;m controlled by Bill Gates now that&#39;s why I&#39;m saying this)',\n",
       " '“Being vaccinated does not free travel restrictions, judges the Council of State. The highest court considers that the vaccine does not eliminate the risk of contamination. In the footsteps of the president, administrative justice acquires expertise. https://t.co/WyVQnz7QHo',\n",
       " 'The USA Today this morning which explains and promotes the Covid passport. https://t.co/oGlEoUeqVM',\n",
       " 'I don&#39;t want a vaccinated person next to me, he could give me the Covid 🥴',\n",
       " '@DocArnica Bad luck, the only covid patient I know of was vaccinated with Astrazeneca and is hospitalized.',\n",
       " 'ASTRAZENECA VACCINE - A new system before the next arrivals #lapresseplus Is the time in controversy? No! So we vaccinate in big boils. All vaccines fight against COVID-19, so we bite Ovide. #PAlianza https://t.co/FqRmk8fXd4',\n",
       " 'It&#39;s time to stop the Russian vaccine story, Sputnik V. It&#39;s not a vaccine. This is why in the countries which use this vaccine, the rates of contaminations and deaths do not drop. Vaccinated, the Argentine president tested positive for Covid-19 https://t.co/Yn4l7ajFBe',\n",
       " '@ GattoRobin3 @ Eacharn1 In fact people don&#39;t even understand French .. that&#39;s the real problem in France‼ ️ The media have been saying since January &quot;even vaccinated we risk catching the covid, we will keep the gesture barrier mask, we continues to be contagious &quot;But you still have people going there',\n",
       " '@CNEWS Argentine President vaccinated 2 doses: positive for covid',\n",
       " '@ michels1215 @cdube_sante Another covid-anxious, stay home, get vaccinated, and you&#39;ll be fine. There are people who cannot work and operate their business at the time, health hysteria has no place, it&#39;s time to move on',\n",
       " 'Remember, and I&#39;m not saying this to come to the aid of the Russian vaccine, that you can be contaminated again after being vaccinated (or after having already been sick with COVID). We just generally have a mild and temporary form (therefore normally not very contaminating too). https://t.co/19VGVeufvM',\n",
       " 'Vaccinated, the Argentine president tested positive for Covid-19 https://t.co/Yn4l7ajFBe',\n",
       " 'Vaccinated, the Argentine president tested positive for Covid-19 https://t.co/E6kdUg6ye2',\n",
       " '1st dose on 01/21 2021, 2nd on 02/11/2021. 04/03 2021, declared victim of covid-19. Sputnik V is not a trusted vaccine. The opposition LR, RN, EELV, LFI, seeks to kill us. Vaccinated, the Argentine president tested positive for Covid-19 https://t.co/Yn4l7ajFBe',\n",
       " '#Coronavirus #Argentina - Although fully vaccinated since February (2 doses of #SpoutnikV), Argentine President Alberto #Fernandez tested positive for #COVID ー 19. #Vaccine #COVID # COVID19 # Covid_19 https://t.co/DAdwsz74mQ',\n",
       " 'Vaccinated, the Argentine President positive for Covid: comment from the designer of Sputnik V: https://t.co/b0NvWcZMZZ via @sputnik_fr',\n",
       " '🇦🇷 FLASH - Argentine President Alberto Fernandez who had been vaccinated with #Sputnik V, tested positive for the Covid-19 virus. #franceinfo #Argentina https://t.co/gbAvFLYQRQ',\n",
       " '🔴THAILAND - A 71-year-old Buddhist monk died just hours after receiving the Covid-19 vaccine while 3 other monks from the same temple were hospitalized. 📢 ⚡️⚡️⚡️ @ ADv_in21 @ComploTisss https://t.co/tpfdvQedFp',\n",
       " '🇦🇷 Vaccinated, the Argentine president tested positive for Covid-19 #Argentina https://t.co/TgvKwwwK1j',\n",
       " 'I am vaccinated against COVID-19 https://t.co/b81nK8ZvP7',\n",
       " 'Fauci admits that the covid &quot;vaccine&quot; is not safe. It is for this reason that it will be &quot;tested on several hundred or even a few thousand children&quot;. https://t.co/wYVRLC1ele https://t.co/dWvf0UEWxO',\n",
       " '@ 13Sandel 55 € for covid consultations paid by the security! In short, their financial health is doing well. An unhealed patient is a won client ... a vaccinated client and that is the icing on the cake. 🍾🍾🥂 https://t.co/qCqCw5OI4G',\n",
       " 'Covid-19: a vaccinated octogenarian asks the Council of State to no longer be confined And Véreux who quietly announces that vaccinated people risk nabbing the most serious forms of variants, in other words that it is better not to be vaccinated ! https://t.co/6hlIv4sptN',\n",
       " 'COVID-19 - “Let&#39;s brake before it&#39;s too late” Hahahahaha It&#39;s already too late. We do not vaccinate quickly enough. Vaccination windows are almost empty. https://t.co/fI7A054HET',\n",
       " 'Truth be told, this COVID vaccine is a symbol of rebellion against God. Humans don&#39;t want to repent of their big sin and continue rebellion. So for us, one must know the spiritual significance behind this vaccine. We never vaccinate unless he forces us to do so.',\n",
       " '@ Daumard10 @JLMelenchon What would the guru have bellowed if, without approval from the scientific authorities, we had vaccinated Russian? https://t.co/j4zA3wXcn7',\n",
       " '@vivere_svizzera @WarnBahra_jezzi @AnneVanmaercke But of course! Because, if these people won&#39;t develop covid, they can pass it on ... and not everyone is vaccinated! And besides, how to recognize the vaccinated? Health passport? 😬',\n",
       " 'Vaccinated with Sputnik V, the Argentine president tested positive for Covid-19 https://t.co/mxwtlUpGOW But it is possible and despite vaccines everywhere in the world and the virus will be even stronger and full of countries like the English will continue to have deaths?',\n",
       " '@KaplanBen_Fr There is this phase 3 trial in UK of heterologous vaccination, which is looking at 8 vaccine combinations. The HAS will surely align with the end results. https://t.co/SG8sRfukbI',\n",
       " '@ sodz625 Of course, but the covid is a race against time, the faster we get vaccinated, the faster the economy picks up and the greater the competitive advantage. Once again we do everything backwards',\n",
       " '@LaureGonlezamar The vaccine &quot;protects&quot; from a serious form of the disease but in no case prevents contamination or the fact of transmitting the Covid !!! This is why the equation more vaccinated = more positive cases !!! This may be why once vaccinated you have to keep the mask !!!!',\n",
       " 'Name change of astrazeneca vaccine = VAXZEVRIA https://t.co/popT25Bjhl',\n",
       " 'If you are fed up with the Covid, the day you are vaccinated, you can finally say that you have had your dose!',\n",
       " '@ZeClint Don&#39;t confine but keep trusting governments. 1 year that we repeat it to be accused of &quot;conspirator&quot;. The mask is useless (see Sweden vs France) https://t.co/J82sUTL1cV',\n",
       " '@olivier_grenaut @ChrisMcCandl And so they stopped being idiots and they vaccinated on a large scale. Britain alone has spent as much as the EU as a whole on vaccination. FYI, yesterday was the first day without death from COVID in Israel. There&#39;s no hazard.',\n",
       " 'Vaccinated, the Argentine President positive for Covid: comment from the designer of Sputnik V: https://t.co/ekDY1EV2qn via @sputnik_fr We vaccinate and this creates new positives',\n",
       " 'Vaccination. Part deux! (@ Moscone Center South Covid-19 Vaccine Site in San Francisco, CA) https://t.co/A4L6DhmOwr',\n",
       " 'GVN Ron DeSantis has kept his promise to take executive action to prevent the highly controversial COVID-19 vaccine passport system currently being created by the Biden regime and corporate interests from being allowed in the state. https://t.co/Hihnj7REMF',\n",
       " '@ PENELOPPE192 Oh yes, Twitter is vaccinated with COVID? 😁',\n",
       " '&quot;The Alpes-Maritimes is one of the departments where we have vaccinated the most against Covid-19 (https://t.co/lbOq2CDp7e)&quot; https://t.co/0KqIqmbUIZ',\n",
       " '@NBPSDHealthUnit There appears to be either false information or confusion about your vaccine clinics. Is your page up to date? https://t.co/d00uDZzr3O',\n",
       " '@ PierreCharline8 @EmmanuelMacron the state council says no, you can transmit and have covid by being vaccinated, so same punishment, mask, confinement included',\n",
       " '@wargonm And yes me too I&#39;m tired of staying at home, of not having a social life outside of my professional life Tired of watching out for the covid every day (I too am vaccinated) and of take charge without stopping at work',\n",
       " '@aragon_jb the real reason for this vaccine and all the cinema .. the biological data linked to Identity given to Big Data companies https://t.co/EcBmhGEVja',\n",
       " '#Corsica is the region that vaccinates the most: “Vaccination was the option we chose as soon as possible” # Covid_19 https://t.co/0XooTLgbso',\n",
       " 'Vaccinated with Sputnik V, the Argentine president tested positive for Covid-19 https://t.co/thFKFSXKU5 via @BFMTV',\n",
       " 'Reading the subject, two doses of Sputnik V vaccine after contaminated? There is a big problem with the Russian vaccine. Be careful, be careful, it&#39;s not good. Vaccinated with Sputnik V, the Argentine president tested positive for Covid-19 https://t.co/thFKFSXKU5 via @BFMTV',\n",
       " '@lereveildatlas @kari_sten The “vaccine passport”, a document certifying that its holder has been vaccinated against Covid-19, has been banned in Florida in the name of respect for “individual freedoms”, announced Friday, April 2 the Republican governor of this Very touristy state.',\n",
       " '@ADuferret @asticot_floflo The &quot;vaccine passport&quot;, a document certifying that its holder has been vaccinated against Covid-19, has been banned in Florida in the name of respect for &quot;individual freedoms&quot;, announced Friday, April 2 the Republican governor of this Very touristy state.',\n",
       " '@cid_uB @MoraneKB_ The “vaccine passport”, a document certifying that its holder has been vaccinated against Covid-19, has been banned in Florida in the name of respect for “individual freedoms”, announced Friday, April 2, the Republican governor of this Very touristy state.',\n",
       " '@ ediec_4185 @AgenceRecherche @UJML @ Droit_Lyon3 @UnivDroitInter @BalanGaetan @depaivatoledo @AlmodisP The “vaccine passport”, a document certifying that its holder has been vaccinated against Covid-19, has been banned in Florida in the name of respect for “individual freedoms », Announced Friday, April 2 the republican governor of this very touristy state.',\n",
       " '@CourUEPresse @RUE_Dalloz The “vaccine passport”, a document certifying that its holder has been vaccinated against Covid-19, has been banned in Florida in the name of respect for “individual freedoms”, announced Friday, April 2, the Republican governor of this Very touristy state.',\n",
       " '@MaljeanDubois @RUE_Dalloz @FdspAmu @CERIC_UMR_DICE @ Dice_UMR7318 The “vaccine passport”, a document certifying that its holder has been vaccinated against Covid-19, was banned in Florida in the name of respect for “individual freedoms”, announced on Friday 2 April the republican governor of this very touristy state.',\n",
       " '@UEenguinee @GuineeIntegra The &quot;vaccine passport&quot;, a document certifying that its holder has been vaccinated against Covid-19, has been banned in Florida in the name of respect for &quot;individual freedoms&quot;, announced Friday, April 2 the Republican governor of this Very touristy state.',\n",
       " 'Vaccinated with Sputnik V, the Argentine president tested positive for Covid-19 https://t.co/TatbgzqG5R',\n",
       " 'Vaccinated with Sputnik V, the Argentine president tested positive for Covid-19 https://t.co/5XcRG5YMvp',\n",
       " 'Vaccinated by the Russian vaccine #SputnikV the Argentine president tested positive for Covid-19 Allo #lfi #Melenchon @JLMelenchon who keeps harping on us with the Russian vaccine 🧐🤐 https://t.co/5ryfL1crbP',\n",
       " 'Number of COVID vaccine injuries reported to VAERS exceeds 50,000, CDC data shows https://t.co/nGLVs3Iqs9',\n",
       " 'Argentine President Alberto Fernandez, who has been vaccinated against Covid-19, announced that he was positive according to an antigen test. The Argentine president received 2 doses of the Sputnik V vaccine from the Russian laboratory Gamaleïa, the first on January 21, the second on February 11.',\n",
       " 'Vaccinated, the Argentine president tested positive for Covid-19 https://t.co/p7cpQWHxiD #International via @LePoint',\n",
       " 'Vaccinated, the Argentine president tested positive for Covid-19 https://t.co/NMaqHWNgHf #International via @LePoint - NB # Sputnik-V at work.',\n",
       " \"China's #COVID-19  #vaccine obtains EU GMP certification https://t.co/jOH4Wy11VQ\",\n",
       " 'Clear proof of the effectiveness of the Poutin vaccine! Le Pen, Melonchon, Chioti and other Vultures will soon deny this information ... Vaccinated in Sputnik V, the Argentine president tested positive for Covid-19 https://t.co/VXx2KOWWg6 via @SquidAppFR',\n",
       " '@brutofficiel @olivierveran @RemyBuisine The “vaccine passport”, a document certifying that its holder has been vaccinated against Covid-19, has been banned in Florida in the name of respect for “individual freedoms”, the Republican governor announced on Friday April 2 of this very touristy state.',\n",
       " '@olivierveran The “vaccine passport”, a document certifying that its holder has been vaccinated against Covid-19, has been banned in Florida in the name of respect for “individual freedoms”, announced Friday, April 2 the Republican governor of this very touristic.',\n",
       " 'Vaccinated, the Argentine President positive for Covid: comment from the designer of Sputnik V: https://t.co/74pCcP9eOA via @sputnik_fr',\n",
       " '@Arwen_Grey @franceinfo The “vaccine passport”, a document certifying that its holder has been vaccinated against Covid-19, has been banned in Florida in the name of respect for “individual freedoms”, announced Friday, April 2 the Republican governor of this Very touristy state.',\n",
       " '@janyabadi @franceinfo The &quot;vaccine passport&quot;, a document certifying that its holder has been vaccinated against Covid-19, has been banned in Florida in the name of respect for &quot;individual freedoms&quot;, announced Friday, April 2 the Republican governor of this Very touristy state.',\n",
       " '@ElianeCarrier @franceinfo The “vaccine passport”, a document certifying that its holder has been vaccinated against Covid-19, has been banned in Florida in the name of respect for “individual freedoms”, announced Friday, April 2 the Republican governor of this Very touristy state.',\n",
       " '@M_Pierre_Fr @franceinfo The “vaccine passport”, a document certifying that its holder has been vaccinated against Covid-19, has been banned in Florida in the name of respect for “individual freedoms”, announced Friday, April 2 the Republican governor of this Very touristy state.',\n",
       " '@franceinfo The &quot;vaccine passport&quot;, a document certifying that its holder has been vaccinated against Covid-19, has been banned in Florida in the name of respect for &quot;individual freedoms&quot;, announced Friday, April 2 the Republican governor of this very touristic.',\n",
       " '@JeanCASTEX @gouvernementFR @Sante_Gouv @CH_Perigueux @ Prefet24 @ARS_NAquit @olivierveran @Interieur_Gouv @SecCivileFrance The &quot;vaccine passport&quot;, a document certifying that its holder has been vaccinated against Covid-19, has been banned in Florida in the name of respect for &quot; individual freedoms ”, announced Friday, April 2 the republican governor of this very touristy State.',\n",
       " '@Gendarmerie @JeanCASTEX @GDarmanin @Ch_RGZ The “vaccine passport”, a document certifying that its holder has been vaccinated against Covid-19, has been banned in Florida in the name of respect for “individual freedoms”, announced on Friday April 2 on Republican governor of this very touristy state.',\n",
       " '#World #Argentina #Politics # Health # Covid19 The Argentine President, vaccinated, tested positive for the Covid-19 virus. https://t.co/GywSntcfgF',\n",
       " 'The “vaccine passport”, a document certifying that its holder has been vaccinated against Covid-19, has been banned in Florida in the name of respect for “individual freedoms”, the Republican governor of this very touristy state announced on Friday April 2.',\n",
       " 'The “vaccine passport”, a document certifying that its holder has been vaccinated against Covid-19, has been banned in Florida in the name of respect for “individual freedoms”, the Republican governor of this very touristy state announced on Friday April 2. !!',\n",
       " 'An 83-year-old retiree, vaccinated filed an appeal with the Council of State Olivier Véran the Minister of Health “the vaccine does not prevent transmitting the virus to third parties. The impact of vaccination on the spread of the virus is not yet known. &quot;Https://t.co/c0dgsE5C2Y',\n",
       " 'Thank you Doctor @MLP_officiel ... 🤦\\u200d♂️ We will add that to the list of your bullshit. 😘 https://t.co/AEvZtv8hW2 https://t.co/Bm7bTSN3iS',\n",
       " '@EmmanuelMacron The “vaccine passport”, a document certifying that its holder has been vaccinated against Covid-19, has been banned in Florida in the name of respect for “individual freedoms”, announced Friday April 2 the Republican governor of this very touristic.',\n",
       " '🤔🤣 The great epidiomologist lepen wanted all of us vaccinated with sputnik 🤣🤣 that will not have protected us from covid but that would have paid off the debts of rhaine! https://t.co/ufzM5eLoGo',\n",
       " '@meloxiaoyuart @BeiLevesque @TrumpFrance The article talks about a mark under the skin to check if an individual is vaccinated, especially in poor countries I&#39;m not saying I&#39;m in favor, but it has nothing to do with anti-vaccines -covid, universal income or poisoning people 🤷🏻\\u200d♂️',\n",
       " 'Vaccinated, the Argentine President positive for Covid: comment from the designer of Sputnik V: https://t.co/2fz8vLAVmL via @sputnik_fr',\n",
       " 'The Argentine president, although vaccinated, tested positive for Covid-19 https://t.co/lF6uxexcc2',\n",
       " '@QtScience &quot;Covid-19: a vaccinated octogenarian asks the Council of State to no longer be confined&quot; 31.3.21 Response brief: https://t.co/s9Gqa2Gjiq https://t.co/YG3K7D5C6c',\n",
       " 'The Argentine president, vaccinated, tested positive for the Covid-19 virus - franceinfo https://t.co/mpow3bjdfy',\n",
       " '@Parcamatt No, not on Doctolib. It will be on I-prof. You will be vaccinated against Covid-1 (as the philo-editorialist Onfray would say) then you will be able to be promoted to the Grand Choix for vaccination against Covid-2, etc. If you pass a qualifying interview, you will be able to skip steps ...']"
      ]
     },
     "execution_count": 49,
     "metadata": {},
     "output_type": "execute_result"
    }
   ],
   "source": [
    "fr_en_tweets"
   ]
  },
  {
   "cell_type": "code",
   "execution_count": null,
   "metadata": {
    "ExecuteTime": {
     "end_time": "2021-04-03T19:46:07.271500Z",
     "start_time": "2021-04-03T19:46:06.713694Z"
    }
   },
   "outputs": [],
   "source": [
    "from google.cloud import translate_v2"
   ]
  },
  {
   "cell_type": "code",
   "execution_count": 23,
   "metadata": {
    "ExecuteTime": {
     "end_time": "2021-04-03T20:37:36.599901Z",
     "start_time": "2021-04-03T20:37:36.597358Z"
    }
   },
   "outputs": [],
   "source": [
    "from os import environ"
   ]
  },
  {
   "cell_type": "code",
   "execution_count": 24,
   "metadata": {
    "ExecuteTime": {
     "end_time": "2021-04-03T20:37:37.023484Z",
     "start_time": "2021-04-03T20:37:37.021488Z"
    }
   },
   "outputs": [],
   "source": [
    "project_id = environ.get('My First Project-a16389cc11b5.json')"
   ]
  },
  {
   "cell_type": "code",
   "execution_count": null,
   "metadata": {
    "ExecuteTime": {
     "end_time": "2021-04-03T19:55:57.074451Z",
     "start_time": "2021-04-03T19:55:57.042902Z"
    },
    "scrolled": true
   },
   "outputs": [],
   "source": [
    "assert project_id\n",
    "parent = f'projects/{project_id}'\n",
    "client = translate.TranslationServiceClient()"
   ]
  },
  {
   "cell_type": "code",
   "execution_count": null,
   "metadata": {},
   "outputs": [],
   "source": []
  },
  {
   "cell_type": "markdown",
   "metadata": {},
   "source": [
    "### Start here:"
   ]
  },
  {
   "cell_type": "code",
   "execution_count": 36,
   "metadata": {
    "ExecuteTime": {
     "end_time": "2021-04-03T20:54:41.395421Z",
     "start_time": "2021-04-03T20:54:41.388528Z"
    }
   },
   "outputs": [],
   "source": [
    "import os\n",
    "from google.oauth2 import service_account\n",
    "from google.cloud import translate_v2 as translate\n",
    "\n",
    "credentials = service_account.Credentials.from_service_account_file('../GCP_service_account.json')\n",
    "translate_client = translate.Client(credentials= credentials)"
   ]
  },
  {
   "cell_type": "code",
   "execution_count": 37,
   "metadata": {
    "ExecuteTime": {
     "end_time": "2021-04-03T20:54:57.016682Z",
     "start_time": "2021-04-03T20:54:56.812640Z"
    },
    "scrolled": true
   },
   "outputs": [
    {
     "name": "stdout",
     "output_type": "stream",
     "text": [
      "[{'language': 'af', 'name': 'Afrikaans'}, {'language': 'sq', 'name': 'Albanian'}, {'language': 'am', 'name': 'Amharic'}, {'language': 'ar', 'name': 'Arabic'}, {'language': 'hy', 'name': 'Armenian'}, {'language': 'az', 'name': 'Azerbaijani'}, {'language': 'eu', 'name': 'Basque'}, {'language': 'be', 'name': 'Belarusian'}, {'language': 'bn', 'name': 'Bengali'}, {'language': 'bs', 'name': 'Bosnian'}, {'language': 'bg', 'name': 'Bulgarian'}, {'language': 'ca', 'name': 'Catalan'}, {'language': 'ceb', 'name': 'Cebuano'}, {'language': 'ny', 'name': 'Chichewa'}, {'language': 'zh-CN', 'name': 'Chinese (Simplified)'}, {'language': 'zh-TW', 'name': 'Chinese (Traditional)'}, {'language': 'co', 'name': 'Corsican'}, {'language': 'hr', 'name': 'Croatian'}, {'language': 'cs', 'name': 'Czech'}, {'language': 'da', 'name': 'Danish'}, {'language': 'nl', 'name': 'Dutch'}, {'language': 'en', 'name': 'English'}, {'language': 'eo', 'name': 'Esperanto'}, {'language': 'et', 'name': 'Estonian'}, {'language': 'tl', 'name': 'Filipino'}, {'language': 'fi', 'name': 'Finnish'}, {'language': 'fr', 'name': 'French'}, {'language': 'fy', 'name': 'Frisian'}, {'language': 'gl', 'name': 'Galician'}, {'language': 'ka', 'name': 'Georgian'}, {'language': 'de', 'name': 'German'}, {'language': 'el', 'name': 'Greek'}, {'language': 'gu', 'name': 'Gujarati'}, {'language': 'ht', 'name': 'Haitian Creole'}, {'language': 'ha', 'name': 'Hausa'}, {'language': 'haw', 'name': 'Hawaiian'}, {'language': 'iw', 'name': 'Hebrew'}, {'language': 'hi', 'name': 'Hindi'}, {'language': 'hmn', 'name': 'Hmong'}, {'language': 'hu', 'name': 'Hungarian'}, {'language': 'is', 'name': 'Icelandic'}, {'language': 'ig', 'name': 'Igbo'}, {'language': 'id', 'name': 'Indonesian'}, {'language': 'ga', 'name': 'Irish'}, {'language': 'it', 'name': 'Italian'}, {'language': 'ja', 'name': 'Japanese'}, {'language': 'jw', 'name': 'Javanese'}, {'language': 'kn', 'name': 'Kannada'}, {'language': 'kk', 'name': 'Kazakh'}, {'language': 'km', 'name': 'Khmer'}, {'language': 'rw', 'name': 'Kinyarwanda'}, {'language': 'ko', 'name': 'Korean'}, {'language': 'ku', 'name': 'Kurdish (Kurmanji)'}, {'language': 'ky', 'name': 'Kyrgyz'}, {'language': 'lo', 'name': 'Lao'}, {'language': 'la', 'name': 'Latin'}, {'language': 'lv', 'name': 'Latvian'}, {'language': 'lt', 'name': 'Lithuanian'}, {'language': 'lb', 'name': 'Luxembourgish'}, {'language': 'mk', 'name': 'Macedonian'}, {'language': 'mg', 'name': 'Malagasy'}, {'language': 'ms', 'name': 'Malay'}, {'language': 'ml', 'name': 'Malayalam'}, {'language': 'mt', 'name': 'Maltese'}, {'language': 'mi', 'name': 'Maori'}, {'language': 'mr', 'name': 'Marathi'}, {'language': 'mn', 'name': 'Mongolian'}, {'language': 'my', 'name': 'Myanmar (Burmese)'}, {'language': 'ne', 'name': 'Nepali'}, {'language': 'no', 'name': 'Norwegian'}, {'language': 'or', 'name': 'Odia (Oriya)'}, {'language': 'ps', 'name': 'Pashto'}, {'language': 'fa', 'name': 'Persian'}, {'language': 'pl', 'name': 'Polish'}, {'language': 'pt', 'name': 'Portuguese'}, {'language': 'pa', 'name': 'Punjabi'}, {'language': 'ro', 'name': 'Romanian'}, {'language': 'ru', 'name': 'Russian'}, {'language': 'sm', 'name': 'Samoan'}, {'language': 'gd', 'name': 'Scots Gaelic'}, {'language': 'sr', 'name': 'Serbian'}, {'language': 'st', 'name': 'Sesotho'}, {'language': 'sn', 'name': 'Shona'}, {'language': 'sd', 'name': 'Sindhi'}, {'language': 'si', 'name': 'Sinhala'}, {'language': 'sk', 'name': 'Slovak'}, {'language': 'sl', 'name': 'Slovenian'}, {'language': 'so', 'name': 'Somali'}, {'language': 'es', 'name': 'Spanish'}, {'language': 'su', 'name': 'Sundanese'}, {'language': 'sw', 'name': 'Swahili'}, {'language': 'sv', 'name': 'Swedish'}, {'language': 'tg', 'name': 'Tajik'}, {'language': 'ta', 'name': 'Tamil'}, {'language': 'tt', 'name': 'Tatar'}, {'language': 'te', 'name': 'Telugu'}, {'language': 'th', 'name': 'Thai'}, {'language': 'tr', 'name': 'Turkish'}, {'language': 'tk', 'name': 'Turkmen'}, {'language': 'uk', 'name': 'Ukrainian'}, {'language': 'ur', 'name': 'Urdu'}, {'language': 'ug', 'name': 'Uyghur'}, {'language': 'uz', 'name': 'Uzbek'}, {'language': 'vi', 'name': 'Vietnamese'}, {'language': 'cy', 'name': 'Welsh'}, {'language': 'xh', 'name': 'Xhosa'}, {'language': 'yi', 'name': 'Yiddish'}, {'language': 'yo', 'name': 'Yoruba'}, {'language': 'zu', 'name': 'Zulu'}, {'language': 'he', 'name': 'Hebrew'}, {'language': 'zh', 'name': 'Chinese (Simplified)'}]\n"
     ]
    }
   ],
   "source": [
    "# translate_client = translate.Client()\n",
    "print(translate_client.get_languages())"
   ]
  },
  {
   "cell_type": "code",
   "execution_count": 42,
   "metadata": {
    "ExecuteTime": {
     "end_time": "2021-04-03T20:58:50.987331Z",
     "start_time": "2021-04-03T20:58:50.983628Z"
    }
   },
   "outputs": [
    {
     "data": {
      "text/plain": [
       "'@Parcamatt Non, pas sur Doctolib. Ce sera sur I-prof. Tu seras vacciné contre la Covid-1 (comme dirait le philoéditorialiste Onfray) puis pourras être promu au Grand Choix à la vaccination contre la Covid-2, etc. Si tu passes un entretien qualifiant, tu pourras sauter des étapes...'"
      ]
     },
     "execution_count": 42,
     "metadata": {},
     "output_type": "execute_result"
    }
   ],
   "source": [
    "text = fr_df.tweets.loc[14610]\n",
    "text"
   ]
  },
  {
   "cell_type": "code",
   "execution_count": 44,
   "metadata": {
    "ExecuteTime": {
     "end_time": "2021-04-03T20:59:03.932535Z",
     "start_time": "2021-04-03T20:59:03.549547Z"
    }
   },
   "outputs": [],
   "source": [
    "# translate_client = translate.Client()\n",
    "result = translate_client.translate(text, target_language= 'en')"
   ]
  },
  {
   "cell_type": "code",
   "execution_count": 46,
   "metadata": {
    "ExecuteTime": {
     "end_time": "2021-04-03T20:59:54.337849Z",
     "start_time": "2021-04-03T20:59:54.334601Z"
    }
   },
   "outputs": [
    {
     "data": {
      "text/plain": [
       "'@Parcamatt No, not on Doctolib. It will be on I-prof. You will be vaccinated against Covid-1 (as the philo-editorialist Onfray would say) then you will be able to be promoted to the Grand Choix for vaccination against Covid-2, etc. If you pass a qualifying interview, you will be able to skip steps ...'"
      ]
     },
     "execution_count": 46,
     "metadata": {},
     "output_type": "execute_result"
    }
   ],
   "source": [
    "result['translatedText']"
   ]
  },
  {
   "cell_type": "code",
   "execution_count": null,
   "metadata": {},
   "outputs": [],
   "source": []
  },
  {
   "cell_type": "code",
   "execution_count": null,
   "metadata": {},
   "outputs": [],
   "source": []
  },
  {
   "cell_type": "code",
   "execution_count": null,
   "metadata": {},
   "outputs": [],
   "source": []
  },
  {
   "cell_type": "code",
   "execution_count": null,
   "metadata": {},
   "outputs": [],
   "source": []
  },
  {
   "cell_type": "code",
   "execution_count": null,
   "metadata": {},
   "outputs": [],
   "source": []
  },
  {
   "cell_type": "code",
   "execution_count": null,
   "metadata": {},
   "outputs": [],
   "source": []
  },
  {
   "cell_type": "code",
   "execution_count": null,
   "metadata": {},
   "outputs": [],
   "source": []
  },
  {
   "cell_type": "markdown",
   "metadata": {},
   "source": [
    "## Text Sentiment\n",
    "---\n",
    "Does the tweet have a positive, negative, or neutral tone?"
   ]
  },
  {
   "cell_type": "markdown",
   "metadata": {},
   "source": [
    "### Feature Engineering for Text Data\n",
    "--- \n",
    "stopword removal\n",
    "frequency distributions\n",
    "lemmatization\n",
    "bigramsm n-grams, and mutal information score"
   ]
  },
  {
   "cell_type": "code",
   "execution_count": null,
   "metadata": {
    "ExecuteTime": {
     "end_time": "2021-04-03T18:44:28.476646Z",
     "start_time": "2021-04-03T18:44:28.474872Z"
    }
   },
   "outputs": [],
   "source": [
    "# convert text to lowercase"
   ]
  },
  {
   "cell_type": "code",
   "execution_count": null,
   "metadata": {
    "ExecuteTime": {
     "end_time": "2021-04-03T18:44:28.479792Z",
     "start_time": "2021-04-03T18:44:28.477886Z"
    }
   },
   "outputs": [],
   "source": [
    "# remove punctuation"
   ]
  },
  {
   "cell_type": "code",
   "execution_count": null,
   "metadata": {
    "ExecuteTime": {
     "end_time": "2021-04-03T18:44:28.483036Z",
     "start_time": "2021-04-03T18:44:28.481394Z"
    }
   },
   "outputs": [],
   "source": [
    "# tokenization"
   ]
  },
  {
   "cell_type": "code",
   "execution_count": null,
   "metadata": {
    "ExecuteTime": {
     "end_time": "2021-04-03T18:44:28.486082Z",
     "start_time": "2021-04-03T18:44:28.484471Z"
    }
   },
   "outputs": [],
   "source": [
    "# stop words removal"
   ]
  },
  {
   "cell_type": "code",
   "execution_count": null,
   "metadata": {
    "ExecuteTime": {
     "end_time": "2021-04-03T18:44:28.489195Z",
     "start_time": "2021-04-03T18:44:28.487598Z"
    }
   },
   "outputs": [],
   "source": [
    "# lemmatization"
   ]
  },
  {
   "cell_type": "code",
   "execution_count": null,
   "metadata": {
    "ExecuteTime": {
     "end_time": "2021-04-03T18:44:28.492047Z",
     "start_time": "2021-04-03T18:44:28.490436Z"
    }
   },
   "outputs": [],
   "source": [
    "# Part of speech (POS) tagging"
   ]
  },
  {
   "cell_type": "code",
   "execution_count": null,
   "metadata": {},
   "outputs": [],
   "source": []
  }
 ],
 "metadata": {
  "kernelspec": {
   "display_name": "Python 3",
   "language": "python",
   "name": "python3"
  },
  "language_info": {
   "codemirror_mode": {
    "name": "ipython",
    "version": 3
   },
   "file_extension": ".py",
   "mimetype": "text/x-python",
   "name": "python",
   "nbconvert_exporter": "python",
   "pygments_lexer": "ipython3",
   "version": "3.8.5"
  },
  "toc": {
   "base_numbering": 1,
   "nav_menu": {},
   "number_sections": true,
   "sideBar": true,
   "skip_h1_title": true,
   "title_cell": "Table of Contents",
   "title_sidebar": "Contents",
   "toc_cell": false,
   "toc_position": {
    "height": "calc(100% - 180px)",
    "left": "10px",
    "top": "150px",
    "width": "282.797px"
   },
   "toc_section_display": true,
   "toc_window_display": true
  },
  "varInspector": {
   "cols": {
    "lenName": 16,
    "lenType": 16,
    "lenVar": 40
   },
   "kernels_config": {
    "python": {
     "delete_cmd_postfix": "",
     "delete_cmd_prefix": "del ",
     "library": "var_list.py",
     "varRefreshCmd": "print(var_dic_list())"
    },
    "r": {
     "delete_cmd_postfix": ") ",
     "delete_cmd_prefix": "rm(",
     "library": "var_list.r",
     "varRefreshCmd": "cat(var_dic_list()) "
    }
   },
   "types_to_exclude": [
    "module",
    "function",
    "builtin_function_or_method",
    "instance",
    "_Feature"
   ],
   "window_display": false
  }
 },
 "nbformat": 4,
 "nbformat_minor": 4
}
