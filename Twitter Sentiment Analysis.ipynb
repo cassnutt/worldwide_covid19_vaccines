{
 "cells": [
  {
   "cell_type": "markdown",
   "metadata": {},
   "source": [
    "# Twitter Sentiment Analysis\n",
    "\n",
    "This notebook aims to analyze Tweets made about the COVID-19 vaccine and determine whether the sentiment of the Tweets is negative, positive, or neutral."
   ]
  },
  {
   "cell_type": "markdown",
   "metadata": {},
   "source": [
    "## Libraries"
   ]
  },
  {
   "cell_type": "code",
   "execution_count": 12,
   "metadata": {
    "ExecuteTime": {
     "end_time": "2021-04-02T16:44:28.700849Z",
     "start_time": "2021-04-02T16:44:28.316621Z"
    }
   },
   "outputs": [],
   "source": [
    "import tweepy\n",
    "import webbrowser\n",
    "import pandas as pd\n",
    "import matplotlib.pyplot as plt\n",
    "%matplotlib inline\n",
    "import seaborn as sns\n",
    "sns.set_style('whitegrid')\n",
    "\n",
    "import config\n",
    "pd.set_option('display.max_colwidth', None)\n",
    "\n",
    "from tweepy import OAuthHandler\n",
    "from tweepy import API\n",
    "\n",
    "import googletrans"
   ]
  },
  {
   "cell_type": "markdown",
   "metadata": {},
   "source": [
    "## Gather data from Twitter API"
   ]
  },
  {
   "cell_type": "code",
   "execution_count": 2,
   "metadata": {
    "ExecuteTime": {
     "end_time": "2021-04-02T15:02:52.090500Z",
     "start_time": "2021-04-02T15:02:52.088155Z"
    }
   },
   "outputs": [],
   "source": [
    "# Developer API keys\n",
    "# API keys in config.py in .gitignore\n",
    "callback_uri = 'oob'"
   ]
  },
  {
   "cell_type": "code",
   "execution_count": 3,
   "metadata": {
    "ExecuteTime": {
     "end_time": "2021-04-02T15:02:53.079388Z",
     "start_time": "2021-04-02T15:02:53.076719Z"
    }
   },
   "outputs": [],
   "source": [
    "auth = OAuthHandler(config.consumer_key, config.consumer_secret, callback_uri)\n",
    "auth.set_access_token(config.access_token, config.access_token_secret)"
   ]
  },
  {
   "cell_type": "code",
   "execution_count": 4,
   "metadata": {
    "ExecuteTime": {
     "end_time": "2021-04-02T15:02:54.621322Z",
     "start_time": "2021-04-02T15:02:54.619038Z"
    }
   },
   "outputs": [],
   "source": [
    "api = API(auth, wait_on_rate_limit= True, wait_on_rate_limit_notify= True)"
   ]
  },
  {
   "cell_type": "code",
   "execution_count": 5,
   "metadata": {
    "ExecuteTime": {
     "end_time": "2021-04-02T15:02:55.866333Z",
     "start_time": "2021-04-02T15:02:55.405369Z"
    }
   },
   "outputs": [
    {
     "name": "stdout",
     "output_type": "stream",
     "text": [
      "cassienutter1\n"
     ]
    }
   ],
   "source": [
    "# show my Twitter handle\n",
    "me = api.me()\n",
    "print(me.screen_name)"
   ]
  },
  {
   "cell_type": "code",
   "execution_count": null,
   "metadata": {
    "ExecuteTime": {
     "end_time": "2021-04-01T20:42:00.976415Z",
     "start_time": "2021-04-01T20:41:59.215061Z"
    }
   },
   "outputs": [],
   "source": [
    "# simple query to get the hang of it\n",
    "query = '#vaccine covid'\n",
    "for i, status in enumerate(tweepy.Cursor(api.search, q= query).items(50)):\n",
    "    print (i, status.text)\n",
    "\n",
    "# filter only English tweets    \n",
    "# query = '#vaccine covid'\n",
    "# for i, status in enumerate(tweepy.Cursor(api.search, q= query, lang= 'en').items(50)):\n",
    "#     print (i, status.text)"
   ]
  },
  {
   "cell_type": "code",
   "execution_count": null,
   "metadata": {
    "ExecuteTime": {
     "end_time": "2021-04-01T22:14:48.598432Z",
     "start_time": "2021-04-01T21:58:46.892503Z"
    }
   },
   "outputs": [],
   "source": [
    "''' This cell was run to collect the initial 5000 tweets and save them to a csv file\n",
    "is commented out to prevent it from being run again\n",
    "\n",
    "\n",
    "# collect 5000 tweets \n",
    "number_of_tweets = 5000\n",
    "tweets = []\n",
    "language = []\n",
    "time = []\n",
    "\n",
    "# only collect full text, language, and time it was posted\n",
    "# remove any retweets '-RT'\n",
    "for i in tweepy.Cursor(api.search, q= 'vaccine covid -RT',  \n",
    "                       tweet_mode = 'extended').items(number_of_tweets):\n",
    "    tweets.append(i.full_text)\n",
    "    language.append(i.lang)\n",
    "    time.append(i.created_at)\n",
    "\n",
    "# turn tweets / lists into dataframe\n",
    "df = pd.DataFrame({'time': time, 'language': language, 'tweets': tweets})\n",
    "\n",
    "# save df to csv\n",
    "df.to_csv('data/tweets.csv', index= False)\n",
    "'''"
   ]
  },
  {
   "cell_type": "markdown",
   "metadata": {},
   "source": [
    "Collect more tweets after waiting to avoid collecting the same tweets."
   ]
  },
  {
   "cell_type": "code",
   "execution_count": 6,
   "metadata": {
    "ExecuteTime": {
     "end_time": "2021-04-02T15:29:27.413511Z",
     "start_time": "2021-04-02T15:29:27.409564Z"
    }
   },
   "outputs": [],
   "source": [
    "# create function to get more tweets and add to existing csv\n",
    "def get_more_tweets(num_tweets):\n",
    "    number_of_tweets = num_tweets\n",
    "    tweets = []\n",
    "    language = []\n",
    "    time = []\n",
    "\n",
    "    # only collect full text, language, and time it was posted\n",
    "    # remove any retweets '-RT'\n",
    "    for i in tweepy.Cursor(api.search, q= 'vaccine covid -RT',  \n",
    "                           tweet_mode = 'extended').items(number_of_tweets):\n",
    "        tweets.append(i.full_text)\n",
    "        language.append(i.lang)\n",
    "        time.append(i.created_at)\n",
    "        \n",
    "    # turn tweets / lists into dataframe\n",
    "    df = pd.DataFrame({'time': time, 'language': language, 'tweets': tweets})\n",
    "    \n",
    "    # add to existing csv file\n",
    "    df.to_csv('data/tweets.csv', mode= 'a', index= False, header= False)"
   ]
  },
  {
   "cell_type": "code",
   "execution_count": 7,
   "metadata": {
    "ExecuteTime": {
     "end_time": "2021-04-02T15:29:43.552964Z",
     "start_time": "2021-04-02T15:29:42.068290Z"
    }
   },
   "outputs": [],
   "source": [
    "get_more_tweets(50)"
   ]
  },
  {
   "cell_type": "markdown",
   "metadata": {
    "ExecuteTime": {
     "end_time": "2021-04-01T14:14:15.835034Z",
     "start_time": "2021-04-01T14:14:15.833105Z"
    }
   },
   "source": [
    "### Search for Tweets from 30 Days Ago"
   ]
  },
  {
   "cell_type": "code",
   "execution_count": null,
   "metadata": {
    "ExecuteTime": {
     "end_time": "2021-04-01T22:51:15.455875Z",
     "start_time": "2021-04-01T22:51:15.451253Z"
    }
   },
   "outputs": [],
   "source": [
    "# function to turn results into DataFrame\n",
    "def extract_text_as_df(text_list):\n",
    "    columns = set()\n",
    "    allowed_types = [str, int]\n",
    "    tweets_data = []\n",
    "    for status in text_list:\n",
    "        status_dict = dict(vars(status))\n",
    "        keys = status_dict.keys()\n",
    "        single_tweet_data = {\"author\": status.author.screen_name}\n",
    "        for k in keys:\n",
    "            try:\n",
    "                v_type = type(status_dict[k])\n",
    "            except:\n",
    "                v_type = None\n",
    "            if v_type != None:\n",
    "                if v_type in allowed_types:\n",
    "                    single_tweet_data[k] = status_dict[k]\n",
    "                    columns.add(k)\n",
    "        tweets_data.append(single_tweet_data)\n",
    "\n",
    "\n",
    "    header_cols = list(columns)\n",
    "    header_cols.append('author')\n",
    "    df = pd.DataFrame(tweets_data, columns=header_cols)\n",
    "    return df"
   ]
  },
  {
   "cell_type": "code",
   "execution_count": null,
   "metadata": {
    "ExecuteTime": {
     "end_time": "2021-04-01T22:45:54.876411Z",
     "start_time": "2021-04-01T22:45:54.148468Z"
    }
   },
   "outputs": [],
   "source": [
    "query = 'vaccine covid -RT'\n",
    "results_30 = api.search_30_day('datacollection', query, maxResults= 100)"
   ]
  },
  {
   "cell_type": "code",
   "execution_count": null,
   "metadata": {
    "ExecuteTime": {
     "end_time": "2021-04-01T22:49:38.346537Z",
     "start_time": "2021-04-01T22:49:38.340988Z"
    },
    "scrolled": true
   },
   "outputs": [],
   "source": [
    "old_results_df = extract_text_as_df(results_30)"
   ]
  },
  {
   "cell_type": "code",
   "execution_count": null,
   "metadata": {
    "ExecuteTime": {
     "end_time": "2021-04-01T22:49:44.973936Z",
     "start_time": "2021-04-01T22:49:44.947030Z"
    }
   },
   "outputs": [],
   "source": [
    "old_results_df"
   ]
  },
  {
   "cell_type": "markdown",
   "metadata": {},
   "source": [
    "## Data Cleaning"
   ]
  },
  {
   "cell_type": "code",
   "execution_count": 9,
   "metadata": {
    "ExecuteTime": {
     "end_time": "2021-04-02T15:30:01.219620Z",
     "start_time": "2021-04-02T15:30:01.183987Z"
    }
   },
   "outputs": [],
   "source": [
    "df = pd.read_csv('data/tweets.csv')"
   ]
  },
  {
   "cell_type": "code",
   "execution_count": 10,
   "metadata": {
    "ExecuteTime": {
     "end_time": "2021-04-02T15:30:03.001733Z",
     "start_time": "2021-04-02T15:30:02.991005Z"
    }
   },
   "outputs": [
    {
     "name": "stdout",
     "output_type": "stream",
     "text": [
      "<class 'pandas.core.frame.DataFrame'>\n",
      "RangeIndex: 10350 entries, 0 to 10349\n",
      "Data columns (total 3 columns):\n",
      " #   Column    Non-Null Count  Dtype \n",
      "---  ------    --------------  ----- \n",
      " 0   time      10350 non-null  object\n",
      " 1   language  10350 non-null  object\n",
      " 2   tweets    10350 non-null  object\n",
      "dtypes: object(3)\n",
      "memory usage: 242.7+ KB\n"
     ]
    }
   ],
   "source": [
    "df.info()"
   ]
  },
  {
   "cell_type": "code",
   "execution_count": 13,
   "metadata": {
    "ExecuteTime": {
     "end_time": "2021-04-02T16:54:14.926139Z",
     "start_time": "2021-04-02T16:54:14.906718Z"
    }
   },
   "outputs": [
    {
     "data": {
      "text/html": [
       "<div>\n",
       "<style scoped>\n",
       "    .dataframe tbody tr th:only-of-type {\n",
       "        vertical-align: middle;\n",
       "    }\n",
       "\n",
       "    .dataframe tbody tr th {\n",
       "        vertical-align: top;\n",
       "    }\n",
       "\n",
       "    .dataframe thead th {\n",
       "        text-align: right;\n",
       "    }\n",
       "</style>\n",
       "<table border=\"1\" class=\"dataframe\">\n",
       "  <thead>\n",
       "    <tr style=\"text-align: right;\">\n",
       "      <th></th>\n",
       "      <th>time</th>\n",
       "      <th>language</th>\n",
       "      <th>tweets</th>\n",
       "    </tr>\n",
       "  </thead>\n",
       "  <tbody>\n",
       "    <tr>\n",
       "      <th>812</th>\n",
       "      <td>2021-04-01 21:33:38</td>\n",
       "      <td>en</td>\n",
       "      <td>⚠By scheduling your COVID-19 vaccine appointment you are confirming that you are eligible for a COVID-19 vaccine and that you are at least 16 years of age⚠️\\nThis event is for anyone eligible in Phase 1A Tiers 1 &amp;amp; 2, Phase 1B Tiers 1, 2, 3, and 4.</td>\n",
       "    </tr>\n",
       "    <tr>\n",
       "      <th>905</th>\n",
       "      <td>2021-04-01 21:30:59</td>\n",
       "      <td>en</td>\n",
       "      <td>Having trouble getting an appointment for the COVID vaccine? If you're willing to drive to Salisbury, starting tomorrow any eligible Marylander will be able to get the shot without an appointment. @GovLarryHogan says they plan to add walk-up lines at other mass vaccination sites</td>\n",
       "    </tr>\n",
       "    <tr>\n",
       "      <th>1281</th>\n",
       "      <td>2021-04-01 21:21:57</td>\n",
       "      <td>en</td>\n",
       "      <td>@annezinkmd Oops. \\n\\nI'm sure they caught any previous mix-ups...it's not like J&amp;amp;J ever lied about product ingredients before....what's that? \\n\\nCancer causing asbestos in powder for decades? They knew all along? 4 Billion $ settlement? Oh. Welllll...\\n\\nhttps://t.co/CYUDPtLCn3</td>\n",
       "    </tr>\n",
       "    <tr>\n",
       "      <th>2502</th>\n",
       "      <td>2021-04-01 20:50:38</td>\n",
       "      <td>en</td>\n",
       "      <td>@GovParsonMO 57 we’ve no need to thank for\\nhis vaccine distribution stank.\\nLengthy drives he endorsed;\\ncities underresourced. No state-\\nwide mask mandate? Still his plank!\\nPublic health Parson failed to police;\\nCOVID cases he caused to increase.\\n\\n@COVIDOversight 👇🏼 @VP\\nhttps://t.co/DPzYEbX1Es</td>\n",
       "    </tr>\n",
       "    <tr>\n",
       "      <th>2506</th>\n",
       "      <td>2021-04-01 20:50:27</td>\n",
       "      <td>en</td>\n",
       "      <td>@GovParsonMO 57 we’ve no need to thank for\\nhis vaccine distribution stank.\\nLengthy drives he endorsed;\\ncities underresourced. No state-\\nwide mask mandate? Still his plank!\\nPublic health Parson failed to police;\\nCOVID cases he caused to increase.\\n\\n@COVIDOversight 👇🏼 @VP\\nhttps://t.co/DPzYEbX1Es</td>\n",
       "    </tr>\n",
       "    <tr>\n",
       "      <th>2515</th>\n",
       "      <td>2021-04-01 20:50:14</td>\n",
       "      <td>en</td>\n",
       "      <td>@GovParsonMO 57 we’ve no need to thank for\\nhis vaccine distribution stank.\\nLengthy drives he endorsed;\\ncities underresourced. No state-\\nwide mask mandate? Still his plank!\\nPublic health Parson failed to police;\\nCOVID cases he caused to increase.\\n\\n@COVIDOversight 👇🏼 @VP\\nhttps://t.co/DPzYEbX1Es</td>\n",
       "    </tr>\n",
       "    <tr>\n",
       "      <th>2523</th>\n",
       "      <td>2021-04-01 20:50:05</td>\n",
       "      <td>en</td>\n",
       "      <td>@GovParsonMO 57 we’ve no need to thank for\\nhis vaccine distribution stank.\\nLengthy drives he endorsed;\\ncities underresourced. No state-\\nwide mask mandate? Still his plank!\\nPublic health Parson failed to police;\\nCOVID cases he caused to increase.\\n\\n@COVIDOversight 👇🏼 @VP\\nhttps://t.co/DPzYEbX1Es</td>\n",
       "    </tr>\n",
       "    <tr>\n",
       "      <th>2535</th>\n",
       "      <td>2021-04-01 20:49:51</td>\n",
       "      <td>en</td>\n",
       "      <td>hopefully getting discharged today! and starting therapy, new medicine and im getting a covid vaccine referral 💕</td>\n",
       "    </tr>\n",
       "    <tr>\n",
       "      <th>3464</th>\n",
       "      <td>2021-04-01 20:26:27</td>\n",
       "      <td>en</td>\n",
       "      <td>Information about COVID-19 vaccine eligibility and availability can change quickly. Please always check with the health unit or the health organization before you try to book an appointment.</td>\n",
       "    </tr>\n",
       "    <tr>\n",
       "      <th>4455</th>\n",
       "      <td>2021-04-01 20:00:14</td>\n",
       "      <td>en</td>\n",
       "      <td>For more information on COVID-19 vaccine clinics please visit: https://t.co/hbF0NyDM5a</td>\n",
       "    </tr>\n",
       "    <tr>\n",
       "      <th>6274</th>\n",
       "      <td>2021-04-02 14:20:03</td>\n",
       "      <td>en</td>\n",
       "      <td>30 Million People In UK Receive First Dose Of Coronavirus (Covid-19) Vaccine #covid19 #vaccines #coronavirus\\nhttps://t.co/xx9iqkj3al</td>\n",
       "    </tr>\n",
       "    <tr>\n",
       "      <th>6278</th>\n",
       "      <td>2021-04-02 14:20:02</td>\n",
       "      <td>en</td>\n",
       "      <td>30 Million People In UK Receive First Dose Of Coronavirus (Covid-19) Vaccine #covid19 #vaccines #coronavirus\\nhttps://t.co/XVd2hszNNh</td>\n",
       "    </tr>\n",
       "    <tr>\n",
       "      <th>6411</th>\n",
       "      <td>2021-04-02 14:16:54</td>\n",
       "      <td>en</td>\n",
       "      <td>The Government of Kenya has banned the private sector from importation and distribution of the Covid-19 Vaccine.</td>\n",
       "    </tr>\n",
       "    <tr>\n",
       "      <th>6958</th>\n",
       "      <td>2021-04-02 14:02:30</td>\n",
       "      <td>en</td>\n",
       "      <td>@CTurnerFCDO This is hilarious. So we export the UK Strain, possibly the Kent variant, to Pakistan &amp;amp; then we penalise them for the spread. India doesn't count coz they are vaccine manufacturers hoarding supply for their own out of control covid infections. Neither France, Germany, USA, ETC.</td>\n",
       "    </tr>\n",
       "    <tr>\n",
       "      <th>7453</th>\n",
       "      <td>2021-04-02 13:49:53</td>\n",
       "      <td>en</td>\n",
       "      <td>Just got my first COVID vaccine</td>\n",
       "    </tr>\n",
       "    <tr>\n",
       "      <th>8198</th>\n",
       "      <td>2021-04-02 13:30:00</td>\n",
       "      <td>en</td>\n",
       "      <td>Ohio college students can get the COVID-19 vaccine on campus starting next week, while local businesses can begin hosting vaccination clinics for their employees. https://t.co/i4ivYSERIz</td>\n",
       "    </tr>\n",
       "    <tr>\n",
       "      <th>10311</th>\n",
       "      <td>2021-04-02 15:29:33</td>\n",
       "      <td>en</td>\n",
       "      <td>A person is considered fully vaccinated two weeks after their last dose of Covid-19 vaccine.\\n\\nMitigation measures remain for vaccinated travelers: wear masks, avoid large crowds and wash hands frequently.</td>\n",
       "    </tr>\n",
       "  </tbody>\n",
       "</table>\n",
       "</div>"
      ],
      "text/plain": [
       "                      time language  \\\n",
       "812    2021-04-01 21:33:38       en   \n",
       "905    2021-04-01 21:30:59       en   \n",
       "1281   2021-04-01 21:21:57       en   \n",
       "2502   2021-04-01 20:50:38       en   \n",
       "2506   2021-04-01 20:50:27       en   \n",
       "2515   2021-04-01 20:50:14       en   \n",
       "2523   2021-04-01 20:50:05       en   \n",
       "2535   2021-04-01 20:49:51       en   \n",
       "3464   2021-04-01 20:26:27       en   \n",
       "4455   2021-04-01 20:00:14       en   \n",
       "6274   2021-04-02 14:20:03       en   \n",
       "6278   2021-04-02 14:20:02       en   \n",
       "6411   2021-04-02 14:16:54       en   \n",
       "6958   2021-04-02 14:02:30       en   \n",
       "7453   2021-04-02 13:49:53       en   \n",
       "8198   2021-04-02 13:30:00       en   \n",
       "10311  2021-04-02 15:29:33       en   \n",
       "\n",
       "                                                                                                                                                                                                                                                                                                               tweets  \n",
       "812                                                       ⚠By scheduling your COVID-19 vaccine appointment you are confirming that you are eligible for a COVID-19 vaccine and that you are at least 16 years of age⚠️\\nThis event is for anyone eligible in Phase 1A Tiers 1 &amp; 2, Phase 1B Tiers 1, 2, 3, and 4.  \n",
       "905                           Having trouble getting an appointment for the COVID vaccine? If you're willing to drive to Salisbury, starting tomorrow any eligible Marylander will be able to get the shot without an appointment. @GovLarryHogan says they plan to add walk-up lines at other mass vaccination sites  \n",
       "1281                     @annezinkmd Oops. \\n\\nI'm sure they caught any previous mix-ups...it's not like J&amp;J ever lied about product ingredients before....what's that? \\n\\nCancer causing asbestos in powder for decades? They knew all along? 4 Billion $ settlement? Oh. Welllll...\\n\\nhttps://t.co/CYUDPtLCn3  \n",
       "2502   @GovParsonMO 57 we’ve no need to thank for\\nhis vaccine distribution stank.\\nLengthy drives he endorsed;\\ncities underresourced. No state-\\nwide mask mandate? Still his plank!\\nPublic health Parson failed to police;\\nCOVID cases he caused to increase.\\n\\n@COVIDOversight 👇🏼 @VP\\nhttps://t.co/DPzYEbX1Es  \n",
       "2506   @GovParsonMO 57 we’ve no need to thank for\\nhis vaccine distribution stank.\\nLengthy drives he endorsed;\\ncities underresourced. No state-\\nwide mask mandate? Still his plank!\\nPublic health Parson failed to police;\\nCOVID cases he caused to increase.\\n\\n@COVIDOversight 👇🏼 @VP\\nhttps://t.co/DPzYEbX1Es  \n",
       "2515   @GovParsonMO 57 we’ve no need to thank for\\nhis vaccine distribution stank.\\nLengthy drives he endorsed;\\ncities underresourced. No state-\\nwide mask mandate? Still his plank!\\nPublic health Parson failed to police;\\nCOVID cases he caused to increase.\\n\\n@COVIDOversight 👇🏼 @VP\\nhttps://t.co/DPzYEbX1Es  \n",
       "2523   @GovParsonMO 57 we’ve no need to thank for\\nhis vaccine distribution stank.\\nLengthy drives he endorsed;\\ncities underresourced. No state-\\nwide mask mandate? Still his plank!\\nPublic health Parson failed to police;\\nCOVID cases he caused to increase.\\n\\n@COVIDOversight 👇🏼 @VP\\nhttps://t.co/DPzYEbX1Es  \n",
       "2535                                                                                                                                                                                                 hopefully getting discharged today! and starting therapy, new medicine and im getting a covid vaccine referral 💕  \n",
       "3464                                                                                                                   Information about COVID-19 vaccine eligibility and availability can change quickly. Please always check with the health unit or the health organization before you try to book an appointment.  \n",
       "4455                                                                                                                                                                                                                           For more information on COVID-19 vaccine clinics please visit: https://t.co/hbF0NyDM5a  \n",
       "6274                                                                                                                                                                            30 Million People In UK Receive First Dose Of Coronavirus (Covid-19) Vaccine #covid19 #vaccines #coronavirus\\nhttps://t.co/xx9iqkj3al  \n",
       "6278                                                                                                                                                                            30 Million People In UK Receive First Dose Of Coronavirus (Covid-19) Vaccine #covid19 #vaccines #coronavirus\\nhttps://t.co/XVd2hszNNh  \n",
       "6411                                                                                                                                                                                                 The Government of Kenya has banned the private sector from importation and distribution of the Covid-19 Vaccine.  \n",
       "6958          @CTurnerFCDO This is hilarious. So we export the UK Strain, possibly the Kent variant, to Pakistan &amp; then we penalise them for the spread. India doesn't count coz they are vaccine manufacturers hoarding supply for their own out of control covid infections. Neither France, Germany, USA, ETC.  \n",
       "7453                                                                                                                                                                                                                                                                                  Just got my first COVID vaccine  \n",
       "8198                                                                                                                       Ohio college students can get the COVID-19 vaccine on campus starting next week, while local businesses can begin hosting vaccination clinics for their employees. https://t.co/i4ivYSERIz  \n",
       "10311                                                                                                  A person is considered fully vaccinated two weeks after their last dose of Covid-19 vaccine.\\n\\nMitigation measures remain for vaccinated travelers: wear masks, avoid large crowds and wash hands frequently.  "
      ]
     },
     "execution_count": 13,
     "metadata": {},
     "output_type": "execute_result"
    }
   ],
   "source": [
    "# check for duplicated tweets\n",
    "duped = df[df.duplicated(subset= 'tweets')]\n",
    "duped"
   ]
  },
  {
   "cell_type": "code",
   "execution_count": 14,
   "metadata": {
    "ExecuteTime": {
     "end_time": "2021-04-02T16:54:18.018107Z",
     "start_time": "2021-04-02T16:54:18.003855Z"
    }
   },
   "outputs": [
    {
     "data": {
      "text/plain": [
       "0"
      ]
     },
     "execution_count": 14,
     "metadata": {},
     "output_type": "execute_result"
    }
   ],
   "source": [
    "# remove duplicates\n",
    "df.drop_duplicates(subset= 'tweets', keep= 'first', inplace= True)\n",
    "df.reset_index(drop= True, inplace= True)\n",
    "\n",
    "# make sure they are gone\n",
    "df.tweets.duplicated().sum()"
   ]
  },
  {
   "cell_type": "code",
   "execution_count": null,
   "metadata": {},
   "outputs": [],
   "source": []
  },
  {
   "cell_type": "code",
   "execution_count": null,
   "metadata": {},
   "outputs": [],
   "source": []
  },
  {
   "cell_type": "code",
   "execution_count": null,
   "metadata": {},
   "outputs": [],
   "source": []
  },
  {
   "cell_type": "markdown",
   "metadata": {},
   "source": [
    "## EDA"
   ]
  },
  {
   "cell_type": "markdown",
   "metadata": {},
   "source": [
    "### Looking at Languages"
   ]
  },
  {
   "cell_type": "code",
   "execution_count": 15,
   "metadata": {
    "ExecuteTime": {
     "end_time": "2021-04-02T16:55:04.847565Z",
     "start_time": "2021-04-02T16:55:04.839185Z"
    }
   },
   "outputs": [],
   "source": [
    "lang_df = df.sort_values('language')"
   ]
  },
  {
   "cell_type": "code",
   "execution_count": 16,
   "metadata": {
    "ExecuteTime": {
     "end_time": "2021-04-02T16:55:07.723806Z",
     "start_time": "2021-04-02T16:55:07.451393Z"
    }
   },
   "outputs": [
    {
     "data": {
      "image/png": "[encoded data removed]",
      "text/plain": [
       "<Figure size 864x576 with 1 Axes>"
      ]
     },
     "metadata": {},
     "output_type": "display_data"
    }
   ],
   "source": [
    "plt.figure(figsize= (12, 8))\n",
    "lang_df.language.value_counts(normalize=True).plot(kind= 'barh')\n",
    "plt.title('Proportion of Languages Collected')\n",
    "plt.xlim(-.01, 1)\n",
    "plt.show()"
   ]
  },
  {
   "cell_type": "code",
   "execution_count": 17,
   "metadata": {
    "ExecuteTime": {
     "end_time": "2021-04-02T16:55:19.207677Z",
     "start_time": "2021-04-02T16:55:19.200402Z"
    }
   },
   "outputs": [
    {
     "data": {
      "text/plain": [
       "en     0.934288\n",
       "und    0.032614\n",
       "fr     0.008516\n",
       "es     0.004065\n",
       "ja     0.002419\n",
       "tl     0.001936\n",
       "de     0.001548\n",
       "it     0.001452\n",
       "pt     0.001355\n",
       "hi     0.001161\n",
       "nl     0.001065\n",
       "et     0.000968\n",
       "pl     0.000871\n",
       "el     0.000677\n",
       "tr     0.000677\n",
       "ro     0.000581\n",
       "da     0.000484\n",
       "vi     0.000484\n",
       "ar     0.000387\n",
       "in     0.000387\n",
       "zh     0.000387\n",
       "mr     0.000290\n",
       "ca     0.000290\n",
       "ru     0.000290\n",
       "ur     0.000290\n",
       "bn     0.000290\n",
       "ko     0.000194\n",
       "th     0.000194\n",
       "fi     0.000194\n",
       "pa     0.000194\n",
       "sv     0.000194\n",
       "ta     0.000194\n",
       "kn     0.000194\n",
       "fa     0.000194\n",
       "hu     0.000194\n",
       "cs     0.000097\n",
       "ht     0.000097\n",
       "te     0.000097\n",
       "ml     0.000097\n",
       "lv     0.000097\n",
       "Name: language, dtype: float64"
      ]
     },
     "execution_count": 17,
     "metadata": {},
     "output_type": "execute_result"
    }
   ],
   "source": [
    "lang_df.language.value_counts(normalize=True)"
   ]
  },
  {
   "cell_type": "code",
   "execution_count": 18,
   "metadata": {
    "ExecuteTime": {
     "end_time": "2021-04-02T16:55:31.026348Z",
     "start_time": "2021-04-02T16:55:30.514357Z"
    }
   },
   "outputs": [
    {
     "name": "stdout",
     "output_type": "stream",
     "text": [
      "There are :  1  tables\n",
      "                        0              1\n",
      "0                    Name  Language code\n",
      "1       English (default)             en\n",
      "2                  Arabic             ar\n",
      "3                 Bengali             bn\n",
      "4                   Czech             cs\n",
      "5                  Danish             da\n",
      "6                  German             de\n",
      "7                   Greek             el\n",
      "8                 Spanish             es\n",
      "9                 Persian             fa\n",
      "10                Finnish             fi\n",
      "11               Filipino            fil\n",
      "12                 French             fr\n",
      "13                 Hebrew             he\n",
      "14                  Hindi             hi\n",
      "15              Hungarian             hu\n",
      "16             Indonesian             id\n",
      "17                Italian             it\n",
      "18               Japanese             ja\n",
      "19                 Korean             ko\n",
      "20                  Malay            msa\n",
      "21                  Dutch             nl\n",
      "22              Norwegian             no\n",
      "23                 Polish             pl\n",
      "24             Portuguese             pt\n",
      "25               Romanian             ro\n",
      "26                Russian             ru\n",
      "27                Swedish             sv\n",
      "28                   Thai             th\n",
      "29                Turkish             tr\n",
      "30              Ukrainian             uk\n",
      "31                   Urdu             ur\n",
      "32             Vietnamese             vi\n",
      "33   Chinese (Simplified)          zh-cn\n",
      "34  Chinese (Traditional)          zh-tw\n"
     ]
    }
   ],
   "source": [
    "# what are these languages? get table from url\n",
    "URL = 'https://developer.twitter.com/en/docs/twitter-for-websites/supported-languages'\n",
    "tables = pd.read_html(URL)\n",
    "print(\"There are : \",len(tables),\" tables\")\n",
    "print(tables[0])\n",
    "\n",
    "lang_table = tables[0]"
   ]
  },
  {
   "cell_type": "code",
   "execution_count": 19,
   "metadata": {
    "ExecuteTime": {
     "end_time": "2021-04-02T16:55:33.034202Z",
     "start_time": "2021-04-02T16:55:33.023275Z"
    }
   },
   "outputs": [
    {
     "data": {
      "text/html": [
       "<div>\n",
       "<style scoped>\n",
       "    .dataframe tbody tr th:only-of-type {\n",
       "        vertical-align: middle;\n",
       "    }\n",
       "\n",
       "    .dataframe tbody tr th {\n",
       "        vertical-align: top;\n",
       "    }\n",
       "\n",
       "    .dataframe thead th {\n",
       "        text-align: right;\n",
       "    }\n",
       "</style>\n",
       "<table border=\"1\" class=\"dataframe\">\n",
       "  <thead>\n",
       "    <tr style=\"text-align: right;\">\n",
       "      <th></th>\n",
       "      <th>Name</th>\n",
       "      <th>Language code</th>\n",
       "    </tr>\n",
       "  </thead>\n",
       "  <tbody>\n",
       "    <tr>\n",
       "      <th>0</th>\n",
       "      <td>English</td>\n",
       "      <td>en</td>\n",
       "    </tr>\n",
       "    <tr>\n",
       "      <th>1</th>\n",
       "      <td>Arabic</td>\n",
       "      <td>ar</td>\n",
       "    </tr>\n",
       "    <tr>\n",
       "      <th>2</th>\n",
       "      <td>Bengali</td>\n",
       "      <td>bn</td>\n",
       "    </tr>\n",
       "    <tr>\n",
       "      <th>3</th>\n",
       "      <td>Czech</td>\n",
       "      <td>cs</td>\n",
       "    </tr>\n",
       "    <tr>\n",
       "      <th>4</th>\n",
       "      <td>Danish</td>\n",
       "      <td>da</td>\n",
       "    </tr>\n",
       "    <tr>\n",
       "      <th>5</th>\n",
       "      <td>German</td>\n",
       "      <td>de</td>\n",
       "    </tr>\n",
       "    <tr>\n",
       "      <th>6</th>\n",
       "      <td>Greek</td>\n",
       "      <td>el</td>\n",
       "    </tr>\n",
       "    <tr>\n",
       "      <th>7</th>\n",
       "      <td>Spanish</td>\n",
       "      <td>es</td>\n",
       "    </tr>\n",
       "    <tr>\n",
       "      <th>8</th>\n",
       "      <td>Persian</td>\n",
       "      <td>fa</td>\n",
       "    </tr>\n",
       "    <tr>\n",
       "      <th>9</th>\n",
       "      <td>Finnish</td>\n",
       "      <td>fi</td>\n",
       "    </tr>\n",
       "    <tr>\n",
       "      <th>10</th>\n",
       "      <td>Filipino</td>\n",
       "      <td>fil</td>\n",
       "    </tr>\n",
       "    <tr>\n",
       "      <th>11</th>\n",
       "      <td>French</td>\n",
       "      <td>fr</td>\n",
       "    </tr>\n",
       "    <tr>\n",
       "      <th>12</th>\n",
       "      <td>Hebrew</td>\n",
       "      <td>he</td>\n",
       "    </tr>\n",
       "    <tr>\n",
       "      <th>13</th>\n",
       "      <td>Hindi</td>\n",
       "      <td>hi</td>\n",
       "    </tr>\n",
       "    <tr>\n",
       "      <th>14</th>\n",
       "      <td>Hungarian</td>\n",
       "      <td>hu</td>\n",
       "    </tr>\n",
       "    <tr>\n",
       "      <th>15</th>\n",
       "      <td>Indonesian</td>\n",
       "      <td>id</td>\n",
       "    </tr>\n",
       "    <tr>\n",
       "      <th>16</th>\n",
       "      <td>Italian</td>\n",
       "      <td>it</td>\n",
       "    </tr>\n",
       "    <tr>\n",
       "      <th>17</th>\n",
       "      <td>Japanese</td>\n",
       "      <td>ja</td>\n",
       "    </tr>\n",
       "    <tr>\n",
       "      <th>18</th>\n",
       "      <td>Korean</td>\n",
       "      <td>ko</td>\n",
       "    </tr>\n",
       "    <tr>\n",
       "      <th>19</th>\n",
       "      <td>Malay</td>\n",
       "      <td>msa</td>\n",
       "    </tr>\n",
       "    <tr>\n",
       "      <th>20</th>\n",
       "      <td>Dutch</td>\n",
       "      <td>nl</td>\n",
       "    </tr>\n",
       "    <tr>\n",
       "      <th>21</th>\n",
       "      <td>Norwegian</td>\n",
       "      <td>no</td>\n",
       "    </tr>\n",
       "    <tr>\n",
       "      <th>22</th>\n",
       "      <td>Polish</td>\n",
       "      <td>pl</td>\n",
       "    </tr>\n",
       "    <tr>\n",
       "      <th>23</th>\n",
       "      <td>Portuguese</td>\n",
       "      <td>pt</td>\n",
       "    </tr>\n",
       "    <tr>\n",
       "      <th>24</th>\n",
       "      <td>Romanian</td>\n",
       "      <td>ro</td>\n",
       "    </tr>\n",
       "    <tr>\n",
       "      <th>25</th>\n",
       "      <td>Russian</td>\n",
       "      <td>ru</td>\n",
       "    </tr>\n",
       "    <tr>\n",
       "      <th>26</th>\n",
       "      <td>Swedish</td>\n",
       "      <td>sv</td>\n",
       "    </tr>\n",
       "    <tr>\n",
       "      <th>27</th>\n",
       "      <td>Thai</td>\n",
       "      <td>th</td>\n",
       "    </tr>\n",
       "    <tr>\n",
       "      <th>28</th>\n",
       "      <td>Turkish</td>\n",
       "      <td>tr</td>\n",
       "    </tr>\n",
       "    <tr>\n",
       "      <th>29</th>\n",
       "      <td>Ukrainian</td>\n",
       "      <td>uk</td>\n",
       "    </tr>\n",
       "    <tr>\n",
       "      <th>30</th>\n",
       "      <td>Urdu</td>\n",
       "      <td>ur</td>\n",
       "    </tr>\n",
       "    <tr>\n",
       "      <th>31</th>\n",
       "      <td>Vietnamese</td>\n",
       "      <td>vi</td>\n",
       "    </tr>\n",
       "    <tr>\n",
       "      <th>32</th>\n",
       "      <td>Chinese (Simplified)</td>\n",
       "      <td>zh-cn</td>\n",
       "    </tr>\n",
       "    <tr>\n",
       "      <th>33</th>\n",
       "      <td>Chinese (Traditional)</td>\n",
       "      <td>zh-tw</td>\n",
       "    </tr>\n",
       "  </tbody>\n",
       "</table>\n",
       "</div>"
      ],
      "text/plain": [
       "0                    Name Language code\n",
       "0                 English            en\n",
       "1                  Arabic            ar\n",
       "2                 Bengali            bn\n",
       "3                   Czech            cs\n",
       "4                  Danish            da\n",
       "5                  German            de\n",
       "6                   Greek            el\n",
       "7                 Spanish            es\n",
       "8                 Persian            fa\n",
       "9                 Finnish            fi\n",
       "10               Filipino           fil\n",
       "11                 French            fr\n",
       "12                 Hebrew            he\n",
       "13                  Hindi            hi\n",
       "14              Hungarian            hu\n",
       "15             Indonesian            id\n",
       "16                Italian            it\n",
       "17               Japanese            ja\n",
       "18                 Korean            ko\n",
       "19                  Malay           msa\n",
       "20                  Dutch            nl\n",
       "21              Norwegian            no\n",
       "22                 Polish            pl\n",
       "23             Portuguese            pt\n",
       "24               Romanian            ro\n",
       "25                Russian            ru\n",
       "26                Swedish            sv\n",
       "27                   Thai            th\n",
       "28                Turkish            tr\n",
       "29              Ukrainian            uk\n",
       "30                   Urdu            ur\n",
       "31             Vietnamese            vi\n",
       "32   Chinese (Simplified)         zh-cn\n",
       "33  Chinese (Traditional)         zh-tw"
      ]
     },
     "execution_count": 19,
     "metadata": {},
     "output_type": "execute_result"
    }
   ],
   "source": [
    "# format table\n",
    "header_row = 0\n",
    "lang_table.columns = lang_table.iloc[header_row]\n",
    "lang_table = lang_table.drop(header_row)\n",
    "lang_table.reset_index(drop= True, inplace= True)\n",
    "\n",
    "lang_table.replace('English (default)', 'English', inplace= True)\n",
    "# lang_table"
   ]
  },
  {
   "cell_type": "code",
   "execution_count": null,
   "metadata": {},
   "outputs": [],
   "source": [
    "# save as csv in data folder\n",
    "lang_table.to_csv('data/languages.csv', index= False)"
   ]
  },
  {
   "cell_type": "code",
   "execution_count": 20,
   "metadata": {
    "ExecuteTime": {
     "end_time": "2021-04-02T16:56:19.011956Z",
     "start_time": "2021-04-02T16:56:19.000213Z"
    }
   },
   "outputs": [
    {
     "data": {
      "text/html": [
       "<div>\n",
       "<style scoped>\n",
       "    .dataframe tbody tr th:only-of-type {\n",
       "        vertical-align: middle;\n",
       "    }\n",
       "\n",
       "    .dataframe tbody tr th {\n",
       "        vertical-align: top;\n",
       "    }\n",
       "\n",
       "    .dataframe thead th {\n",
       "        text-align: right;\n",
       "    }\n",
       "</style>\n",
       "<table border=\"1\" class=\"dataframe\">\n",
       "  <thead>\n",
       "    <tr style=\"text-align: right;\">\n",
       "      <th></th>\n",
       "      <th>time</th>\n",
       "      <th>language</th>\n",
       "      <th>tweets</th>\n",
       "    </tr>\n",
       "  </thead>\n",
       "  <tbody>\n",
       "    <tr>\n",
       "      <th>1</th>\n",
       "      <td>2021-04-01 21:58:44</td>\n",
       "      <td>und</td>\n",
       "      <td>@and_kell @ds13_manon https://t.co/sKnTctMKcF</td>\n",
       "    </tr>\n",
       "    <tr>\n",
       "      <th>19</th>\n",
       "      <td>2021-04-01 21:58:14</td>\n",
       "      <td>und</td>\n",
       "      <td>https://t.co/j2braq4wFx</td>\n",
       "    </tr>\n",
       "    <tr>\n",
       "      <th>29</th>\n",
       "      <td>2021-04-01 21:57:58</td>\n",
       "      <td>und</td>\n",
       "      <td>@Pavlos80322302 @ds13_manon https://t.co/sKnTctMKcF</td>\n",
       "    </tr>\n",
       "    <tr>\n",
       "      <th>79</th>\n",
       "      <td>2021-04-01 21:56:21</td>\n",
       "      <td>und</td>\n",
       "      <td>👍🏼👍🏼👍🏼👍🏼 https://t.co/m68KkEqpOe</td>\n",
       "    </tr>\n",
       "    <tr>\n",
       "      <th>97</th>\n",
       "      <td>2021-04-01 21:55:44</td>\n",
       "      <td>und</td>\n",
       "      <td>https://t.co/Stomi0I13k</td>\n",
       "    </tr>\n",
       "    <tr>\n",
       "      <th>...</th>\n",
       "      <td>...</td>\n",
       "      <td>...</td>\n",
       "      <td>...</td>\n",
       "    </tr>\n",
       "    <tr>\n",
       "      <th>10156</th>\n",
       "      <td>2021-04-02 12:34:01</td>\n",
       "      <td>und</td>\n",
       "      <td>@NaddiiaB @Flobga @Conseil_Etat https://t.co/ca6spF82qm</td>\n",
       "    </tr>\n",
       "    <tr>\n",
       "      <th>10184</th>\n",
       "      <td>2021-04-02 12:33:06</td>\n",
       "      <td>und</td>\n",
       "      <td>@annika1021 \\n\\nhttps://t.co/oN4rAXUfCc</td>\n",
       "    </tr>\n",
       "    <tr>\n",
       "      <th>10207</th>\n",
       "      <td>2021-04-02 12:32:21</td>\n",
       "      <td>und</td>\n",
       "      <td>https://t.co/6OsrUyOdNi</td>\n",
       "    </tr>\n",
       "    <tr>\n",
       "      <th>10268</th>\n",
       "      <td>2021-04-02 12:30:19</td>\n",
       "      <td>und</td>\n",
       "      <td>https://t.co/EJqUgZK6fI</td>\n",
       "    </tr>\n",
       "    <tr>\n",
       "      <th>10303</th>\n",
       "      <td>2021-04-02 15:29:20</td>\n",
       "      <td>und</td>\n",
       "      <td>https://t.co/OuaBUmpEH3</td>\n",
       "    </tr>\n",
       "  </tbody>\n",
       "</table>\n",
       "<p>337 rows × 3 columns</p>\n",
       "</div>"
      ],
      "text/plain": [
       "                      time language  \\\n",
       "1      2021-04-01 21:58:44      und   \n",
       "19     2021-04-01 21:58:14      und   \n",
       "29     2021-04-01 21:57:58      und   \n",
       "79     2021-04-01 21:56:21      und   \n",
       "97     2021-04-01 21:55:44      und   \n",
       "...                    ...      ...   \n",
       "10156  2021-04-02 12:34:01      und   \n",
       "10184  2021-04-02 12:33:06      und   \n",
       "10207  2021-04-02 12:32:21      und   \n",
       "10268  2021-04-02 12:30:19      und   \n",
       "10303  2021-04-02 15:29:20      und   \n",
       "\n",
       "                                                        tweets  \n",
       "1                @and_kell @ds13_manon https://t.co/sKnTctMKcF  \n",
       "19                                     https://t.co/j2braq4wFx  \n",
       "29         @Pavlos80322302 @ds13_manon https://t.co/sKnTctMKcF  \n",
       "79                            👍🏼👍🏼👍🏼👍🏼 https://t.co/m68KkEqpOe  \n",
       "97                                     https://t.co/Stomi0I13k  \n",
       "...                                                        ...  \n",
       "10156  @NaddiiaB @Flobga @Conseil_Etat https://t.co/ca6spF82qm  \n",
       "10184                  @annika1021 \\n\\nhttps://t.co/oN4rAXUfCc  \n",
       "10207                                  https://t.co/6OsrUyOdNi  \n",
       "10268                                  https://t.co/EJqUgZK6fI  \n",
       "10303                                  https://t.co/OuaBUmpEH3  \n",
       "\n",
       "[337 rows x 3 columns]"
      ]
     },
     "execution_count": 20,
     "metadata": {},
     "output_type": "execute_result"
    }
   ],
   "source": [
    "# look at 'und' language \n",
    "df[df['language'] == 'und']"
   ]
  },
  {
   "cell_type": "markdown",
   "metadata": {},
   "source": [
    "It appears that the 'und' or possibly 'undetermined' language are tweets that only include links. We will remove those from our DataFrame."
   ]
  },
  {
   "cell_type": "code",
   "execution_count": 21,
   "metadata": {
    "ExecuteTime": {
     "end_time": "2021-04-02T16:56:23.956390Z",
     "start_time": "2021-04-02T16:56:23.951346Z"
    }
   },
   "outputs": [],
   "source": [
    "df = df[df['language'] != 'und']\n",
    "# df.info()"
   ]
  },
  {
   "cell_type": "markdown",
   "metadata": {},
   "source": [
    "Merge the data with the languages to see the whole name of languages"
   ]
  },
  {
   "cell_type": "code",
   "execution_count": 22,
   "metadata": {
    "ExecuteTime": {
     "end_time": "2021-04-02T16:56:26.411524Z",
     "start_time": "2021-04-02T16:56:26.395446Z"
    }
   },
   "outputs": [
    {
     "name": "stdout",
     "output_type": "stream",
     "text": [
      "<class 'pandas.core.frame.DataFrame'>\n",
      "Int64Index: 9942 entries, 0 to 9941\n",
      "Data columns (total 5 columns):\n",
      " #   Column         Non-Null Count  Dtype \n",
      "---  ------         --------------  ----- \n",
      " 0   time           9942 non-null   object\n",
      " 1   language       9942 non-null   object\n",
      " 2   tweets         9942 non-null   object\n",
      " 3   Name           9942 non-null   object\n",
      " 4   Language code  9942 non-null   object\n",
      "dtypes: object(5)\n",
      "memory usage: 466.0+ KB\n"
     ]
    }
   ],
   "source": [
    "# merge data with language names\n",
    "df2 = df.merge(lang_table, how= 'inner', left_on= 'language', right_on= 'Language code')\n",
    "df2.info()"
   ]
  },
  {
   "cell_type": "code",
   "execution_count": 23,
   "metadata": {
    "ExecuteTime": {
     "end_time": "2021-04-02T16:57:10.289581Z",
     "start_time": "2021-04-02T16:57:10.270166Z"
    },
    "scrolled": true
   },
   "outputs": [
    {
     "data": {
      "text/html": [
       "<div>\n",
       "<style scoped>\n",
       "    .dataframe tbody tr th:only-of-type {\n",
       "        vertical-align: middle;\n",
       "    }\n",
       "\n",
       "    .dataframe tbody tr th {\n",
       "        vertical-align: top;\n",
       "    }\n",
       "\n",
       "    .dataframe thead th {\n",
       "        text-align: right;\n",
       "    }\n",
       "</style>\n",
       "<table border=\"1\" class=\"dataframe\">\n",
       "  <thead>\n",
       "    <tr style=\"text-align: right;\">\n",
       "      <th></th>\n",
       "      <th>time</th>\n",
       "      <th>tweets</th>\n",
       "      <th>language</th>\n",
       "    </tr>\n",
       "  </thead>\n",
       "  <tbody>\n",
       "    <tr>\n",
       "      <th>0</th>\n",
       "      <td>2021-04-01</td>\n",
       "      <td>Concerning the use of aborted baby tissue in the J&amp;amp;J Covid vaccine:\\n\\n“The J&amp;amp;J vaccine has sparked debate among some religious communities because it was developed from stem cells obtained during two abortions decades ago.”\\n\\nEvil is still evil, even if it was decades ago.</td>\n",
       "      <td>English</td>\n",
       "    </tr>\n",
       "    <tr>\n",
       "      <th>1</th>\n",
       "      <td>2021-04-01</td>\n",
       "      <td>imagine an animal getting the covid-19 vaccine b4 a human</td>\n",
       "      <td>English</td>\n",
       "    </tr>\n",
       "    <tr>\n",
       "      <th>2</th>\n",
       "      <td>2021-04-01</td>\n",
       "      <td>Definition of a microstate: https://t.co/8N0R8Mhl73\\n\\nSource of vaccine data: https://t.co/0RQFJPTrZZ</td>\n",
       "      <td>English</td>\n",
       "    </tr>\n",
       "    <tr>\n",
       "      <th>3</th>\n",
       "      <td>2021-04-01</td>\n",
       "      <td>If I’ve Had COVID-19, Do I Still Need Two Doses of Vaccine? https://t.co/08AiBgfEHQ</td>\n",
       "      <td>English</td>\n",
       "    </tr>\n",
       "    <tr>\n",
       "      <th>4</th>\n",
       "      <td>2021-04-01</td>\n",
       "      <td>My epidural was delayed again, somehow my covid vaccine does not interact well with an epidural. SOOOOO I should be getting it on my birthday. Yay. \\n\\n So far I have 1-2 dr appointments a week this entire month.\\n  \\nOn the upside they've given me proper muscle relaxers this time.</td>\n",
       "      <td>English</td>\n",
       "    </tr>\n",
       "    <tr>\n",
       "      <th>...</th>\n",
       "      <td>...</td>\n",
       "      <td>...</td>\n",
       "      <td>...</td>\n",
       "    </tr>\n",
       "    <tr>\n",
       "      <th>9937</th>\n",
       "      <td>2021-04-02</td>\n",
       "      <td>ایم ایس سیرل کمپنی لمیٹڈ کاچینی کمپنی لیوزون مافارم انکارپوریشن کے ساتھ ملک میں کورونا وائرس ویکسین (V-01) کی تیاری کا معاہدہ ہو گیا\\nhttps://t.co/6M4DwiC5Fn</td>\n",
       "      <td>Urdu</td>\n",
       "    </tr>\n",
       "    <tr>\n",
       "      <th>9938</th>\n",
       "      <td>2021-04-02</td>\n",
       "      <td>سیاسی رہنما ڈاکٹر فاروق ستار نے کورونا ویکسین لگوا لی\\n\\nسیاسی رہنما ڈاکٹر فاروق ستار نے بھی کورونا ویکسین لگوا لی۔  ڈاکٹر فاروق ستار نے ایم ایس سروسز اسپتال کراچی میں قائم ویکسین سینٹر کا دورہ کیا اور کورونا سے بچاؤ کی ویکسین لگوائی۔\\n\\nویکسین لگوانے کے ب… https://t.co/iI7vlEOyBJ https://t.co/HQ50p7BuDz</td>\n",
       "      <td>Urdu</td>\n",
       "    </tr>\n",
       "    <tr>\n",
       "      <th>9939</th>\n",
       "      <td>2021-04-02</td>\n",
       "      <td>টিকা নিলেও নিতে হবে সাবধানতা।\\n#coronavirus #CoronavirusVaccine #UttarPradesh \\n\\nhttps://t.co/nHoUZKkSRV</td>\n",
       "      <td>Bengali</td>\n",
       "    </tr>\n",
       "    <tr>\n",
       "      <th>9940</th>\n",
       "      <td>2021-04-02</td>\n",
       "      <td>সপরিবার কোভিড টিকা নিলেন অমিতাভ, বাকি শুধু অভিষেক \\n@SrBachchan \\n\\nhttps://t.co/JdietMQ2xU</td>\n",
       "      <td>Bengali</td>\n",
       "    </tr>\n",
       "    <tr>\n",
       "      <th>9941</th>\n",
       "      <td>2021-04-02</td>\n",
       "      <td>টিকা ছাড়াই উমরাহ করা যাবে রমযানে \\nhttps://t.co/T27VTe39WH \\n#PuberKalom #umrah #Hajj #Ramdan #SaudiArabia #Covid #Vaccine</td>\n",
       "      <td>Bengali</td>\n",
       "    </tr>\n",
       "  </tbody>\n",
       "</table>\n",
       "<p>9942 rows × 3 columns</p>\n",
       "</div>"
      ],
      "text/plain": [
       "            time  \\\n",
       "0     2021-04-01   \n",
       "1     2021-04-01   \n",
       "2     2021-04-01   \n",
       "3     2021-04-01   \n",
       "4     2021-04-01   \n",
       "...          ...   \n",
       "9937  2021-04-02   \n",
       "9938  2021-04-02   \n",
       "9939  2021-04-02   \n",
       "9940  2021-04-02   \n",
       "9941  2021-04-02   \n",
       "\n",
       "                                                                                                                                                                                                                                                                                                                 tweets  \\\n",
       "0                           Concerning the use of aborted baby tissue in the J&amp;J Covid vaccine:\\n\\n“The J&amp;J vaccine has sparked debate among some religious communities because it was developed from stem cells obtained during two abortions decades ago.”\\n\\nEvil is still evil, even if it was decades ago.   \n",
       "1                                                                                                                                                                                                                                                             imagine an animal getting the covid-19 vaccine b4 a human   \n",
       "2                                                                                                                                                                                                                Definition of a microstate: https://t.co/8N0R8Mhl73\\n\\nSource of vaccine data: https://t.co/0RQFJPTrZZ   \n",
       "3                                                                                                                                                                                                                                   If I’ve Had COVID-19, Do I Still Need Two Doses of Vaccine? https://t.co/08AiBgfEHQ   \n",
       "4                            My epidural was delayed again, somehow my covid vaccine does not interact well with an epidural. SOOOOO I should be getting it on my birthday. Yay. \\n\\n So far I have 1-2 dr appointments a week this entire month.\\n  \\nOn the upside they've given me proper muscle relaxers this time.   \n",
       "...                                                                                                                                                                                                                                                                                                                 ...   \n",
       "9937                                                                                                                                                      ایم ایس سیرل کمپنی لمیٹڈ کاچینی کمپنی لیوزون مافارم انکارپوریشن کے ساتھ ملک میں کورونا وائرس ویکسین (V-01) کی تیاری کا معاہدہ ہو گیا\\nhttps://t.co/6M4DwiC5Fn   \n",
       "9938  سیاسی رہنما ڈاکٹر فاروق ستار نے کورونا ویکسین لگوا لی\\n\\nسیاسی رہنما ڈاکٹر فاروق ستار نے بھی کورونا ویکسین لگوا لی۔  ڈاکٹر فاروق ستار نے ایم ایس سروسز اسپتال کراچی میں قائم ویکسین سینٹر کا دورہ کیا اور کورونا سے بچاؤ کی ویکسین لگوائی۔\\n\\nویکسین لگوانے کے ب… https://t.co/iI7vlEOyBJ https://t.co/HQ50p7BuDz   \n",
       "9939                                                                                                                                                                                                          টিকা নিলেও নিতে হবে সাবধানতা।\\n#coronavirus #CoronavirusVaccine #UttarPradesh \\n\\nhttps://t.co/nHoUZKkSRV   \n",
       "9940                                                                                                                                                                                                                        সপরিবার কোভিড টিকা নিলেন অমিতাভ, বাকি শুধু অভিষেক \\n@SrBachchan \\n\\nhttps://t.co/JdietMQ2xU   \n",
       "9941                                                                                                                                                                                        টিকা ছাড়াই উমরাহ করা যাবে রমযানে \\nhttps://t.co/T27VTe39WH \\n#PuberKalom #umrah #Hajj #Ramdan #SaudiArabia #Covid #Vaccine   \n",
       "\n",
       "     language  \n",
       "0     English  \n",
       "1     English  \n",
       "2     English  \n",
       "3     English  \n",
       "4     English  \n",
       "...       ...  \n",
       "9937     Urdu  \n",
       "9938     Urdu  \n",
       "9939  Bengali  \n",
       "9940  Bengali  \n",
       "9941  Bengali  \n",
       "\n",
       "[9942 rows x 3 columns]"
      ]
     },
     "execution_count": 23,
     "metadata": {},
     "output_type": "execute_result"
    }
   ],
   "source": [
    "# drop extra columns and rename them and change dates to datetime and drop time\n",
    "df2.drop(columns = ['language', 'Language code'], inplace= True)\n",
    "df2.rename(columns={'Name': 'language'}, inplace= True)\n",
    "df2['time'] = pd.to_datetime(df2['time']).dt.date\n",
    "# df2"
   ]
  },
  {
   "cell_type": "markdown",
   "metadata": {},
   "source": [
    "Let's see how many Tweets are in each language?"
   ]
  },
  {
   "cell_type": "code",
   "execution_count": 24,
   "metadata": {
    "ExecuteTime": {
     "end_time": "2021-04-02T16:57:22.386326Z",
     "start_time": "2021-04-02T16:57:22.149184Z"
    }
   },
   "outputs": [
    {
     "data": {
      "text/plain": [
       "<AxesSubplot:xlabel='count', ylabel='language'>"
      ]
     },
     "execution_count": 24,
     "metadata": {},
     "output_type": "execute_result"
    },
    {
     "data": {
      "image/png": "[encoded data removed]",
      "text/plain": [
       "<Figure size 432x288 with 1 Axes>"
      ]
     },
     "metadata": {},
     "output_type": "display_data"
    }
   ],
   "source": [
    "sns.countplot(y= 'language', data= df2)"
   ]
  },
  {
   "cell_type": "markdown",
   "metadata": {},
   "source": [
    "The majority of Tweets are in English. Let's see what the other languages are."
   ]
  },
  {
   "cell_type": "code",
   "execution_count": 29,
   "metadata": {
    "ExecuteTime": {
     "end_time": "2021-04-02T16:59:07.283159Z",
     "start_time": "2021-04-02T16:59:07.056181Z"
    },
    "scrolled": false
   },
   "outputs": [
    {
     "data": {
      "image/png": "[encoded data removed]",
      "text/plain": [
       "<Figure size 720x576 with 1 Axes>"
      ]
     },
     "metadata": {},
     "output_type": "display_data"
    }
   ],
   "source": [
    "# countplot that excludes English to see detail\n",
    "plt.figure(figsize= (10, 8))\n",
    "sns.countplot(y= 'language', data= df2, palette='plasma',\n",
    "              order= df2.language.value_counts().iloc[1:].index)\n",
    "plt.title('Count of Tweets, Excluding English', fontsize= 14)\n",
    "plt.xlabel('# of Tweets')\n",
    "plt.ylabel('Language')\n",
    "plt.show()"
   ]
  },
  {
   "cell_type": "markdown",
   "metadata": {},
   "source": [
    "After English, the top 3 languages for Tweets about the COVID-19 vaccine are in French, Spanish, and Japanese."
   ]
  },
  {
   "cell_type": "code",
   "execution_count": null,
   "metadata": {},
   "outputs": [],
   "source": []
  },
  {
   "cell_type": "code",
   "execution_count": null,
   "metadata": {
    "ExecuteTime": {
     "end_time": "2021-04-01T22:49:44.973936Z",
     "start_time": "2021-04-01T22:49:44.947030Z"
    }
   },
   "outputs": [],
   "source": [
    "##translate all to english?\n",
    "# googletrans?"
   ]
  },
  {
   "cell_type": "code",
   "execution_count": null,
   "metadata": {},
   "outputs": [],
   "source": []
  },
  {
   "cell_type": "code",
   "execution_count": null,
   "metadata": {},
   "outputs": [],
   "source": []
  },
  {
   "cell_type": "code",
   "execution_count": null,
   "metadata": {},
   "outputs": [],
   "source": []
  },
  {
   "cell_type": "code",
   "execution_count": null,
   "metadata": {},
   "outputs": [],
   "source": []
  },
  {
   "cell_type": "code",
   "execution_count": null,
   "metadata": {},
   "outputs": [],
   "source": []
  },
  {
   "cell_type": "code",
   "execution_count": null,
   "metadata": {},
   "outputs": [],
   "source": []
  },
  {
   "cell_type": "code",
   "execution_count": null,
   "metadata": {},
   "outputs": [],
   "source": []
  },
  {
   "cell_type": "code",
   "execution_count": null,
   "metadata": {},
   "outputs": [],
   "source": []
  },
  {
   "cell_type": "markdown",
   "metadata": {},
   "source": [
    "## Text Sentiment\n",
    "---\n",
    "Does the tweet have a positive, negative, or neutral tone?"
   ]
  },
  {
   "cell_type": "markdown",
   "metadata": {},
   "source": [
    "### Feature Engineering for Text Data\n",
    "--- \n",
    "stopword removal\n",
    "frequency distributions\n",
    "lemmatization\n",
    "bigramsm n-grams, and mutal information score"
   ]
  },
  {
   "cell_type": "code",
   "execution_count": null,
   "metadata": {
    "ExecuteTime": {
     "end_time": "2021-04-01T14:14:15.841288Z",
     "start_time": "2021-04-01T14:14:15.839924Z"
    }
   },
   "outputs": [],
   "source": [
    "# convert text to lowercase"
   ]
  },
  {
   "cell_type": "code",
   "execution_count": null,
   "metadata": {},
   "outputs": [],
   "source": [
    "# remove punctuation"
   ]
  },
  {
   "cell_type": "code",
   "execution_count": null,
   "metadata": {},
   "outputs": [],
   "source": [
    "# tokenization"
   ]
  },
  {
   "cell_type": "code",
   "execution_count": null,
   "metadata": {},
   "outputs": [],
   "source": [
    "# stop words removal"
   ]
  },
  {
   "cell_type": "code",
   "execution_count": null,
   "metadata": {},
   "outputs": [],
   "source": [
    "# lemmatization"
   ]
  },
  {
   "cell_type": "code",
   "execution_count": null,
   "metadata": {},
   "outputs": [],
   "source": [
    "# Part of speech (POS) tagging"
   ]
  },
  {
   "cell_type": "code",
   "execution_count": null,
   "metadata": {},
   "outputs": [],
   "source": []
  }
 ],
 "metadata": {
  "kernelspec": {
   "display_name": "Python 3",
   "language": "python",
   "name": "python3"
  },
  "language_info": {
   "codemirror_mode": {
    "name": "ipython",
    "version": 3
   },
   "file_extension": ".py",
   "mimetype": "text/x-python",
   "name": "python",
   "nbconvert_exporter": "python",
   "pygments_lexer": "ipython3",
   "version": "3.8.5"
  },
  "toc": {
   "base_numbering": 1,
   "nav_menu": {},
   "number_sections": true,
   "sideBar": true,
   "skip_h1_title": true,
   "title_cell": "Table of Contents",
   "title_sidebar": "Contents",
   "toc_cell": false,
   "toc_position": {
    "height": "calc(100% - 180px)",
    "left": "10px",
    "top": "150px",
    "width": "282.797px"
   },
   "toc_section_display": true,
   "toc_window_display": true
  },
  "varInspector": {
   "cols": {
    "lenName": 16,
    "lenType": 16,
    "lenVar": 40
   },
   "kernels_config": {
    "python": {
     "delete_cmd_postfix": "",
     "delete_cmd_prefix": "del ",
     "library": "var_list.py",
     "varRefreshCmd": "print(var_dic_list())"
    },
    "r": {
     "delete_cmd_postfix": ") ",
     "delete_cmd_prefix": "rm(",
     "library": "var_list.r",
     "varRefreshCmd": "cat(var_dic_list()) "
    }
   },
   "types_to_exclude": [
    "module",
    "function",
    "builtin_function_or_method",
    "instance",
    "_Feature"
   ],
   "window_display": false
  }
 },
 "nbformat": 4,
 "nbformat_minor": 4
}
