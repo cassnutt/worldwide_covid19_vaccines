{
 "cells": [
  {
   "cell_type": "markdown",
   "metadata": {},
   "source": [
    "# Worldwide COVID-19 Vaccine Exploration\n",
    "\n",
    "By Cassie Nutter"
   ]
  },
  {
   "cell_type": "markdown",
   "metadata": {
    "ExecuteTime": {
     "end_time": "2021-04-14T14:28:46.347608Z",
     "start_time": "2021-04-14T14:28:46.223998Z"
    }
   },
   "source": [
    "![welcome_image](images/README/welcome2.jpg)\n",
    "\n",
    "<br>\n",
    "<div style=\"text-align: right\"> \n",
    "image from Unsplash\n",
    "</div>"
   ]
  },
  {
   "cell_type": "markdown",
   "metadata": {},
   "source": [
    "# Description\n",
    "\n",
    "The coronavirus disease (COVID-19) is an infectious disease caused by a newly discovered coronavirus.\n",
    "\n",
    "Most people infected with the COVID-19 virus will experience mild to moderate respiratory illness and recover without requiring special treatment.  Older people, and those with underlying medical problems like cardiovascular disease, diabetes, chronic respiratory disease, and cancer are more likely to develop serious illness.\n",
    "\n",
    "The best way to prevent and slow down transmission is to be well informed about the COVID-19 virus, the disease it causes and how it spreads. Protect yourself and others from infection by washing your hands or using an alcohol based rub frequently and not touching your face. \n",
    "\n",
    "The COVID-19 virus spreads primarily through droplets of saliva or discharge from the nose when an infected person coughs or sneezes, so it’s important that you also practice respiratory etiquette (for example, by coughing into a flexed elbow).\n",
    "\n",
    "[Source: World Health Organization](https://www.who.int/health-topics/coronavirus#tab=tab_1)\n",
    "\n",
    "---\n",
    "\n",
    "When writing this in April 2021, it has been over a year since the pandemic was formally announced. While there are still unknowns regarding COVID-19, we are much more familiar than in the beginning. So much more that a few vaccines have been created and released. \n",
    "\n",
    "Again, the cycle of unknowns continues because we do not know how long these vaccines will protect us, but many are hopeful that it will return the world to some semblance of normalcy. \n",
    "\n",
    "While looking at the statistics for one's own country is important, others may be concerned about the global economy and wonder when international travel and trade will resume unencumbered. **Herd immunity** has been tossed around as the goal post for when we can move about the way we used to. _Herd immunity_ is resistance to the spread of infectious disease based on the immunity of a high proportion of individuals being exposed to the disease or vaccinated. The percent of people that need to be exposed or vaccinated differs from expert to expert, but most fall within the 70-80% range.\n",
    "\n",
    "---\n",
    "\n",
    "This project aims to look at the data on worldwide vaccinations. It will look at the progress that has been made, which countries are ahead and which are not. In addition,this project contains an analysis of COVID-19 vaccine sentiments collected from Twitter. Lastly, it looks at when the world might reach 70% herd immunity based on the data available for fully vaccinated people."
   ]
  },
  {
   "cell_type": "markdown",
   "metadata": {},
   "source": [
    "# Data\n",
    "\n",
    "The data for the project was obtained from [Our World in Data](https://ourworldindata.org/covid-vaccinations). There are multiple different datasets available at the site. \n",
    "\n",
    "_Datasets used from OWID include:_\n",
    "* all COVID data, containing over 80,000 data points\n",
    "* all vaccination data\n",
    "* people fully vaccinated data\n",
    "\n",
    "\n",
    "_Other sites used include:_\n",
    "* World Bank Group\n",
    "    * List of Countries and their respective income group\n",
    "* API's\n",
    "    * Twitter\n",
    "    * Google Cloud Platform - specifically Cloud Translation and Cloud Natural Language "
   ]
  },
  {
   "cell_type": "markdown",
   "metadata": {},
   "source": [
    "# Data Cleaning and Exploration"
   ]
  },
  {
   "cell_type": "markdown",
   "metadata": {},
   "source": [
    "Since data reporting is not the same in all countries, there was a lot of missing data. This project focused on fully vaccinated individuals, which is fairly new and emerging. Because of this, not a lot of data exists, and countries start vaccinating at different times. \n",
    "\n",
    "Data cleaning primarily involved making sure the data was accurate to each country.\n",
    "Continents and the 'world' were removed when analyzing countries as well as the United Kingdom, which encompasses several smaller countries that were accounted for in the data.\n",
    "\n",
    "Income groups were added to the countries to add another dimension to the analysis."
   ]
  },
  {
   "cell_type": "markdown",
   "metadata": {},
   "source": [
    "![income_analysis](images/README/incomes.png)"
   ]
  },
  {
   "cell_type": "markdown",
   "metadata": {},
   "source": [
    "The image above shows the number of countries that have and have not started vaccinating residents by their income groups. A little over 80% of high income countries have begun vaccinations while only 38% of low income countries have started vaccinating people. \n",
    "\n",
    "Addressing global travel and trade will include the need to make sure all countries are around 70% vaccinated. Unfortunately, the lower income countries have been left behind and this will need to be remedied to resume globalization."
   ]
  },
  {
   "cell_type": "markdown",
   "metadata": {},
   "source": [
    "![top_5](images/README/top_five.png)"
   ]
  },
  {
   "cell_type": "markdown",
   "metadata": {},
   "source": [
    "As of April 10, 2021, these were the five countries that have vaccinated the largest percent of their populations. \n",
    "* Gibraltar: has a small population and access to vaccines from Britain\n",
    "* Israel: the Prime Minister negotiated early with Pfizer and already had an efficient health-care system in place enabling a quick vaccine rollout"
   ]
  },
  {
   "cell_type": "markdown",
   "metadata": {},
   "source": [
    "# Market Segmentation\n",
    "\n",
    "K-Means clustering and Hierarchical Agglomerative clustering were both used to attempt segment countries. The segments could then be used to identify countries strengths and weaknesses when vaccinating residents. \n",
    "\n",
    "Below is an image of K-Means cluster using PCA(principal component analysis) and five clusters on only vaccine data."
   ]
  },
  {
   "cell_type": "markdown",
   "metadata": {},
   "source": [
    "![world_cluster](images/README/world_cluster.png)"
   ]
  },
  {
   "cell_type": "markdown",
   "metadata": {},
   "source": [
    "The unsupervised learning method separated the India, China and the United States into their own clusters. The two remaining clusters are contain multiple countries.\n",
    "\n",
    "Upon inspection, the algorithm found that India, China, and the U.S. have the three highest daily vaccinations and the highest total vaccinations. Other countries that have given millions of doses, like Brazil, Turkey, Russia and Chile were clustered together. Countries with lower vaccinations were clustered together as well."
   ]
  },
  {
   "cell_type": "markdown",
   "metadata": {},
   "source": [
    "More data was added, this time including COVID-19 data such as:\n",
    "* new cases\n",
    "* new deaths\n",
    "* gdp per capita\n",
    "* median age\n",
    "* cardiovascular death rate\n",
    "* human development index\n",
    "* percent of population vaccinated\n",
    "* etc, more quantitative data\n",
    "\n",
    "From this, K-Means was run again, this time using 8 clusters. The photo below only shows a portion of the map to show detail."
   ]
  },
  {
   "cell_type": "markdown",
   "metadata": {},
   "source": [
    "![detailed_8_clusters](images/README/detail_map.png)"
   ]
  },
  {
   "cell_type": "markdown",
   "metadata": {},
   "source": [
    "# Twitter Sentiment Analysis"
   ]
  },
  {
   "cell_type": "markdown",
   "metadata": {},
   "source": [
    "![word_cloud](images/README/word_cloud2.png)"
   ]
  },
  {
   "cell_type": "markdown",
   "metadata": {},
   "source": [
    "Using the Twitter API, I gathered almost 20,000 Tweets using the keywords \"covid\" and \"vaccine\". Some Tweets were removed because they only contained links.\n",
    "\n",
    "Not all Tweets were in English. There were 1,429 Tweets in different languages ranging from French, Spanish and Japanese to Swedish, Korean, and Norwegian. Google Cloud Platform's Cloud Translation API was used to translate to English.\n",
    "\n",
    "From there Google Cloud Natural Language and TextBlob were used to analyze the sentiment of the Tweets as \"Positive\", \"Negative\" or \"Neutral\"."
   ]
  },
  {
   "cell_type": "markdown",
   "metadata": {},
   "source": [
    "![tb_sentiment](images/README/TB_sentiment.png)"
   ]
  },
  {
   "cell_type": "markdown",
   "metadata": {},
   "source": [
    "This photo shows that not only are there more positive Tweets than negative ones (9431 vs. 3329 to be exact), but that the positive Tweets are **more** positive than the negative Tweets are negative. If you look between the black and blue lines and even past the black lines, you will see that the positive Tweets stretch further out. \n",
    "\n",
    "After the sentiment analysis, models were built to see if they could learn and predict the classification of the Tweets. A hyperparameter tuned Support Vector Machine model was able to get up to 80% accuracy on the unseen data."
   ]
  },
  {
   "cell_type": "markdown",
   "metadata": {},
   "source": [
    "# Time Series Analysis\n",
    "\n",
    "The data used to complete the time series analysis looked only at the number of people fully vaccinated in the world.\n",
    "Multiple different algorithms were used to attempt to forecast when the world might hit a 70% herd immunity.\n",
    "\n",
    "The different models used were:\n",
    "- PMD's Auto ARIMA\n",
    "- statsmodel's ARIMA\n",
    "- statsmodel's SARIMAX with GridSearch\n",
    "- LSTM neural network\n",
    "<br>\n",
    "---\n",
    "\n",
    "Unfortunately, because the vaccine is so new, there was not a lot of data to use when attempting to forecast a date.\n",
    "The most recent data was obtained and the last date with data was April 10, 2021. There were only 103 data points available for this analysis."
   ]
  },
  {
   "cell_type": "markdown",
   "metadata": {},
   "source": [
    "![time_series_results](images/README/results.png)"
   ]
  },
  {
   "cell_type": "markdown",
   "metadata": {},
   "source": [
    "Using Root Mean Squared Error(RMSE) and Mean Absolute Percentage Error(MAPE), the model that did the best at forecasting a herd immunity date was statsmodel's ARIMA. It has the lowest RMSE of all the models and the MAPE is only  .2% higher than the lowest score. \n",
    "\n",
    "It also predicts the world will reach herd immunity in May 2022. I am not sure if this is likely or not, but seems plausible."
   ]
  },
  {
   "cell_type": "markdown",
   "metadata": {},
   "source": [
    "![predicted_herd_dates](images/README/pred_dates.png)"
   ]
  },
  {
   "cell_type": "markdown",
   "metadata": {},
   "source": [
    "**Disclaimer**\n",
    "Predicting a date for herd immunity is very complex. There are many factors that were not included in the prediction. For example:\n",
    "- population was adjusted to exclude people under 16 (some vaccines have been approved, but not all)\n",
    "- fully vaccinated was defined as an individual receiving two doses, while some vaccines only require one dose\n",
    "- potential approval of new vaccines was not accounted for\n",
    "- herd immunity assumes vaccines will continue to be effective longer than 6 months"
   ]
  }
 ],
 "metadata": {
  "kernelspec": {
   "display_name": "Python 3",
   "language": "python",
   "name": "python3"
  },
  "language_info": {
   "codemirror_mode": {
    "name": "ipython",
    "version": 3
   },
   "file_extension": ".py",
   "mimetype": "text/x-python",
   "name": "python",
   "nbconvert_exporter": "python",
   "pygments_lexer": "ipython3",
   "version": "3.8.5"
  },
  "toc": {
   "base_numbering": 1,
   "nav_menu": {},
   "number_sections": true,
   "sideBar": true,
   "skip_h1_title": true,
   "title_cell": "Table of Contents",
   "title_sidebar": "Contents",
   "toc_cell": false,
   "toc_position": {},
   "toc_section_display": true,
   "toc_window_display": false
  },
  "varInspector": {
   "cols": {
    "lenName": 16,
    "lenType": 16,
    "lenVar": 40
   },
   "kernels_config": {
    "python": {
     "delete_cmd_postfix": "",
     "delete_cmd_prefix": "del ",
     "library": "var_list.py",
     "varRefreshCmd": "print(var_dic_list())"
    },
    "r": {
     "delete_cmd_postfix": ") ",
     "delete_cmd_prefix": "rm(",
     "library": "var_list.r",
     "varRefreshCmd": "cat(var_dic_list()) "
    }
   },
   "types_to_exclude": [
    "module",
    "function",
    "builtin_function_or_method",
    "instance",
    "_Feature"
   ],
   "window_display": false
  }
 },
 "nbformat": 4,
 "nbformat_minor": 4
}
