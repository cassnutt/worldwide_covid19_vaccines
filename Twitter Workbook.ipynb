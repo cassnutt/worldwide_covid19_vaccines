{
 "cells": [
  {
   "cell_type": "markdown",
   "metadata": {},
   "source": [
    "# Twitter Workbook\n",
    "\n",
    "# Twitter Sentiment Analysis\n",
    "\n",
    "This notebook aims to predict whether a person does or does not intend to get the COVID-19 vaccine by looking at Tweets."
   ]
  },
  {
   "cell_type": "code",
   "execution_count": 6,
   "metadata": {
    "ExecuteTime": {
     "end_time": "2021-04-02T15:19:08.383032Z",
     "start_time": "2021-04-02T15:19:08.380681Z"
    }
   },
   "outputs": [],
   "source": [
    "import tweepy\n",
    "import webbrowser\n",
    "import time\n",
    "\n",
    "import pandas as pd\n",
    "\n",
    "from tweepy import OAuthHandler\n",
    "from tweepy import API\n",
    "\n",
    "import config\n",
    "\n",
    "# auth.set_access_token(access_token, access_token_secret)\n",
    "\n"
   ]
  },
  {
   "cell_type": "code",
   "execution_count": 7,
   "metadata": {
    "ExecuteTime": {
     "end_time": "2021-04-02T15:19:13.987951Z",
     "start_time": "2021-04-02T15:19:13.985662Z"
    }
   },
   "outputs": [],
   "source": [
    "callback_uri = 'oob'"
   ]
  },
  {
   "cell_type": "code",
   "execution_count": 8,
   "metadata": {
    "ExecuteTime": {
     "end_time": "2021-04-02T15:19:14.528430Z",
     "start_time": "2021-04-02T15:19:14.525488Z"
    }
   },
   "outputs": [],
   "source": [
    "auth = OAuthHandler(config.consumer_key, config.consumer_secret, callback_uri)\n",
    "auth.set_access_token(config.access_token, config.access_token_secret)\n",
    "# redirect_url = auth.get_authorization_url()"
   ]
  },
  {
   "cell_type": "code",
   "execution_count": null,
   "metadata": {},
   "outputs": [],
   "source": []
  },
  {
   "cell_type": "code",
   "execution_count": 6,
   "metadata": {
    "ExecuteTime": {
     "end_time": "2021-04-01T20:50:25.672839Z",
     "start_time": "2021-04-01T20:50:25.529912Z"
    }
   },
   "outputs": [
    {
     "ename": "NameError",
     "evalue": "name 'redirect_url' is not defined",
     "output_type": "error",
     "traceback": [
      "\u001b[0;31m---------------------------------------------------------------------------\u001b[0m",
      "\u001b[0;31mNameError\u001b[0m                                 Traceback (most recent call last)",
      "\u001b[0;32m<ipython-input-6-5dfd0662c91d>\u001b[0m in \u001b[0;36m<module>\u001b[0;34m\u001b[0m\n\u001b[0;32m----> 1\u001b[0;31m \u001b[0mwebbrowser\u001b[0m\u001b[0;34m.\u001b[0m\u001b[0mopen\u001b[0m\u001b[0;34m(\u001b[0m\u001b[0mredirect_url\u001b[0m\u001b[0;34m)\u001b[0m\u001b[0;34m\u001b[0m\u001b[0;34m\u001b[0m\u001b[0m\n\u001b[0m",
      "\u001b[0;31mNameError\u001b[0m: name 'redirect_url' is not defined"
     ]
    }
   ],
   "source": [
    "# webbrowser.open(redirect_url)"
   ]
  },
  {
   "cell_type": "code",
   "execution_count": null,
   "metadata": {
    "ExecuteTime": {
     "end_time": "2021-04-01T20:50:25.678742Z",
     "start_time": "2021-04-01T20:50:24.989Z"
    }
   },
   "outputs": [],
   "source": [
    "# user_pin_input = input(\"What's the pin value? \")"
   ]
  },
  {
   "cell_type": "code",
   "execution_count": 7,
   "metadata": {
    "ExecuteTime": {
     "end_time": "2021-04-01T20:51:00.810502Z",
     "start_time": "2021-04-01T20:51:00.803291Z"
    }
   },
   "outputs": [
    {
     "ename": "NameError",
     "evalue": "name 'user_pin_input' is not defined",
     "output_type": "error",
     "traceback": [
      "\u001b[0;31m---------------------------------------------------------------------------\u001b[0m",
      "\u001b[0;31mNameError\u001b[0m                                 Traceback (most recent call last)",
      "\u001b[0;32m<ipython-input-7-8a2fa7b640dc>\u001b[0m in \u001b[0;36m<module>\u001b[0;34m\u001b[0m\n\u001b[0;32m----> 1\u001b[0;31m \u001b[0mauth\u001b[0m\u001b[0;34m.\u001b[0m\u001b[0mget_access_token\u001b[0m\u001b[0;34m(\u001b[0m\u001b[0muser_pin_input\u001b[0m\u001b[0;34m)\u001b[0m\u001b[0;34m\u001b[0m\u001b[0;34m\u001b[0m\u001b[0m\n\u001b[0m",
      "\u001b[0;31mNameError\u001b[0m: name 'user_pin_input' is not defined"
     ]
    }
   ],
   "source": [
    "# auth.get_access_token(user_pin_input)"
   ]
  },
  {
   "cell_type": "code",
   "execution_count": 9,
   "metadata": {
    "ExecuteTime": {
     "end_time": "2021-04-02T15:19:17.778293Z",
     "start_time": "2021-04-02T15:19:17.776032Z"
    }
   },
   "outputs": [],
   "source": [
    "api = API(auth, wait_on_rate_limit= True)"
   ]
  },
  {
   "cell_type": "code",
   "execution_count": 10,
   "metadata": {
    "ExecuteTime": {
     "end_time": "2021-04-02T15:19:18.852527Z",
     "start_time": "2021-04-02T15:19:18.428962Z"
    }
   },
   "outputs": [
    {
     "name": "stdout",
     "output_type": "stream",
     "text": [
      "cassienutter1\n"
     ]
    }
   ],
   "source": [
    "me = api.me()\n",
    "print(me.screen_name)"
   ]
  },
  {
   "cell_type": "markdown",
   "metadata": {},
   "source": [
    "get text from your timeline into pandas"
   ]
  },
  {
   "cell_type": "code",
   "execution_count": 10,
   "metadata": {
    "ExecuteTime": {
     "end_time": "2021-04-01T20:51:18.391879Z",
     "start_time": "2021-04-01T20:51:18.206486Z"
    }
   },
   "outputs": [],
   "source": [
    "my_timeline = api.home_timeline()"
   ]
  },
  {
   "cell_type": "code",
   "execution_count": 11,
   "metadata": {
    "ExecuteTime": {
     "end_time": "2021-04-01T20:51:19.232885Z",
     "start_time": "2021-04-01T20:51:19.230231Z"
    }
   },
   "outputs": [
    {
     "name": "stdout",
     "output_type": "stream",
     "text": [
      "[]\n"
     ]
    }
   ],
   "source": [
    "print(my_timeline)"
   ]
  },
  {
   "cell_type": "code",
   "execution_count": 13,
   "metadata": {
    "ExecuteTime": {
     "end_time": "2021-04-01T20:51:26.705357Z",
     "start_time": "2021-04-01T20:51:26.700824Z"
    }
   },
   "outputs": [],
   "source": [
    "columns = set()\n",
    "allowed_types = [str, int]\n",
    "tweet_data = []\n",
    "\n",
    "for status in my_timeline:\n",
    "#     print(status.text)\n",
    "#     print (type(vas(status)))\n",
    "    status_dict = dict(vars(status))\n",
    "    keys = status_dict.keys()\n",
    "    single_tweet_data = {}\n",
    "    for k in keys:\n",
    "        try:\n",
    "            v_type = type(status_dict['k'])\n",
    "        except:\n",
    "            v_type = None\n",
    "            \n",
    "        if v_type != None:\n",
    "            if v_type in allowed_types:\n",
    "                single_tweet_data[k] = status_dict[k]\n",
    "                columns.add(k)\n",
    "    tweets_data.append(single_tweet_data )\n",
    "        \n",
    "header_cols = list(columns)"
   ]
  },
  {
   "cell_type": "code",
   "execution_count": 14,
   "metadata": {
    "ExecuteTime": {
     "end_time": "2021-04-01T20:51:27.884925Z",
     "start_time": "2021-04-01T20:51:27.870516Z"
    }
   },
   "outputs": [
    {
     "data": {
      "text/html": [
       "<div>\n",
       "<style scoped>\n",
       "    .dataframe tbody tr th:only-of-type {\n",
       "        vertical-align: middle;\n",
       "    }\n",
       "\n",
       "    .dataframe tbody tr th {\n",
       "        vertical-align: top;\n",
       "    }\n",
       "\n",
       "    .dataframe thead th {\n",
       "        text-align: right;\n",
       "    }\n",
       "</style>\n",
       "<table border=\"1\" class=\"dataframe\">\n",
       "  <thead>\n",
       "    <tr style=\"text-align: right;\">\n",
       "      <th></th>\n",
       "    </tr>\n",
       "  </thead>\n",
       "  <tbody>\n",
       "  </tbody>\n",
       "</table>\n",
       "</div>"
      ],
      "text/plain": [
       "Empty DataFrame\n",
       "Columns: []\n",
       "Index: []"
      ]
     },
     "execution_count": 14,
     "metadata": {},
     "output_type": "execute_result"
    }
   ],
   "source": [
    "df = pd.DataFrame(tweet_data, columns= header_cols)\n",
    "df.head()"
   ]
  },
  {
   "cell_type": "code",
   "execution_count": 17,
   "metadata": {
    "ExecuteTime": {
     "end_time": "2021-04-01T20:51:38.636118Z",
     "start_time": "2021-04-01T20:51:38.052121Z"
    }
   },
   "outputs": [
    {
     "data": {
      "text/html": [
       "<div>\n",
       "<style scoped>\n",
       "    .dataframe tbody tr th:only-of-type {\n",
       "        vertical-align: middle;\n",
       "    }\n",
       "\n",
       "    .dataframe tbody tr th {\n",
       "        vertical-align: top;\n",
       "    }\n",
       "\n",
       "    .dataframe thead th {\n",
       "        text-align: right;\n",
       "    }\n",
       "</style>\n",
       "<table border=\"1\" class=\"dataframe\">\n",
       "  <thead>\n",
       "    <tr style=\"text-align: right;\">\n",
       "      <th></th>\n",
       "      <th>retweet_count</th>\n",
       "      <th>lang</th>\n",
       "      <th>in_reply_to_status_id_str</th>\n",
       "      <th>in_reply_to_user_id_str</th>\n",
       "      <th>in_reply_to_screen_name</th>\n",
       "      <th>source_url</th>\n",
       "      <th>in_reply_to_status_id</th>\n",
       "      <th>id</th>\n",
       "      <th>text</th>\n",
       "      <th>favorite_count</th>\n",
       "      <th>quoted_status_id_str</th>\n",
       "      <th>quoted_status_id</th>\n",
       "      <th>source</th>\n",
       "      <th>id_str</th>\n",
       "      <th>in_reply_to_user_id</th>\n",
       "      <th>author</th>\n",
       "    </tr>\n",
       "  </thead>\n",
       "  <tbody>\n",
       "    <tr>\n",
       "      <th>0</th>\n",
       "      <td>0</td>\n",
       "      <td>en</td>\n",
       "      <td>1377701530200113155</td>\n",
       "      <td>3323218917</td>\n",
       "      <td>satyalumesh</td>\n",
       "      <td>https://about.twitter.com/products/tweetdeck</td>\n",
       "      <td>1.377702e+18</td>\n",
       "      <td>1377709350337146882</td>\n",
       "      <td>@satyalumesh Not that I know of. But last week...</td>\n",
       "      <td>2</td>\n",
       "      <td>NaN</td>\n",
       "      <td>NaN</td>\n",
       "      <td>TweetDeck</td>\n",
       "      <td>1377709350337146882</td>\n",
       "      <td>3.323219e+09</td>\n",
       "      <td>code</td>\n",
       "    </tr>\n",
       "    <tr>\n",
       "      <th>1</th>\n",
       "      <td>18</td>\n",
       "      <td>en</td>\n",
       "      <td>NaN</td>\n",
       "      <td>NaN</td>\n",
       "      <td>NaN</td>\n",
       "      <td>https://buffer.com</td>\n",
       "      <td>NaN</td>\n",
       "      <td>1377685949405138944</td>\n",
       "      <td>RT @jongallant: If GitHub Codespaces in the br...</td>\n",
       "      <td>0</td>\n",
       "      <td>NaN</td>\n",
       "      <td>NaN</td>\n",
       "      <td>Buffer</td>\n",
       "      <td>1377685949405138944</td>\n",
       "      <td>NaN</td>\n",
       "      <td>code</td>\n",
       "    </tr>\n",
       "    <tr>\n",
       "      <th>2</th>\n",
       "      <td>0</td>\n",
       "      <td>en</td>\n",
       "      <td>1377632054339379204</td>\n",
       "      <td>1352047281726517248</td>\n",
       "      <td>codexpath2</td>\n",
       "      <td>https://about.twitter.com/products/tweetdeck</td>\n",
       "      <td>1.377632e+18</td>\n",
       "      <td>1377663896710901760</td>\n",
       "      <td>@codexpath2 @thecodercoder We have info here t...</td>\n",
       "      <td>0</td>\n",
       "      <td>NaN</td>\n",
       "      <td>NaN</td>\n",
       "      <td>TweetDeck</td>\n",
       "      <td>1377663896710901760</td>\n",
       "      <td>1.352047e+18</td>\n",
       "      <td>code</td>\n",
       "    </tr>\n",
       "    <tr>\n",
       "      <th>3</th>\n",
       "      <td>138</td>\n",
       "      <td>en</td>\n",
       "      <td>NaN</td>\n",
       "      <td>NaN</td>\n",
       "      <td>NaN</td>\n",
       "      <td>https://buffer.com</td>\n",
       "      <td>NaN</td>\n",
       "      <td>1377648956843433986</td>\n",
       "      <td>Copying and pasting from… I mean, consulting S...</td>\n",
       "      <td>570</td>\n",
       "      <td>1376671673320083459</td>\n",
       "      <td>1.376672e+18</td>\n",
       "      <td>Buffer</td>\n",
       "      <td>1377648956843433986</td>\n",
       "      <td>NaN</td>\n",
       "      <td>code</td>\n",
       "    </tr>\n",
       "    <tr>\n",
       "      <th>4</th>\n",
       "      <td>7</td>\n",
       "      <td>en</td>\n",
       "      <td>NaN</td>\n",
       "      <td>NaN</td>\n",
       "      <td>NaN</td>\n",
       "      <td>https://buffer.com</td>\n",
       "      <td>NaN</td>\n",
       "      <td>1377380687808847872</td>\n",
       "      <td>RT @nitecoda1: Ever forgotten to import one of...</td>\n",
       "      <td>0</td>\n",
       "      <td>NaN</td>\n",
       "      <td>NaN</td>\n",
       "      <td>Buffer</td>\n",
       "      <td>1377380687808847872</td>\n",
       "      <td>NaN</td>\n",
       "      <td>code</td>\n",
       "    </tr>\n",
       "  </tbody>\n",
       "</table>\n",
       "</div>"
      ],
      "text/plain": [
       "   retweet_count lang in_reply_to_status_id_str in_reply_to_user_id_str  \\\n",
       "0              0   en       1377701530200113155              3323218917   \n",
       "1             18   en                       NaN                     NaN   \n",
       "2              0   en       1377632054339379204     1352047281726517248   \n",
       "3            138   en                       NaN                     NaN   \n",
       "4              7   en                       NaN                     NaN   \n",
       "\n",
       "  in_reply_to_screen_name                                    source_url  \\\n",
       "0             satyalumesh  https://about.twitter.com/products/tweetdeck   \n",
       "1                     NaN                            https://buffer.com   \n",
       "2              codexpath2  https://about.twitter.com/products/tweetdeck   \n",
       "3                     NaN                            https://buffer.com   \n",
       "4                     NaN                            https://buffer.com   \n",
       "\n",
       "   in_reply_to_status_id                   id  \\\n",
       "0           1.377702e+18  1377709350337146882   \n",
       "1                    NaN  1377685949405138944   \n",
       "2           1.377632e+18  1377663896710901760   \n",
       "3                    NaN  1377648956843433986   \n",
       "4                    NaN  1377380687808847872   \n",
       "\n",
       "                                                text  favorite_count  \\\n",
       "0  @satyalumesh Not that I know of. But last week...               2   \n",
       "1  RT @jongallant: If GitHub Codespaces in the br...               0   \n",
       "2  @codexpath2 @thecodercoder We have info here t...               0   \n",
       "3  Copying and pasting from… I mean, consulting S...             570   \n",
       "4  RT @nitecoda1: Ever forgotten to import one of...               0   \n",
       "\n",
       "  quoted_status_id_str  quoted_status_id     source               id_str  \\\n",
       "0                  NaN               NaN  TweetDeck  1377709350337146882   \n",
       "1                  NaN               NaN     Buffer  1377685949405138944   \n",
       "2                  NaN               NaN  TweetDeck  1377663896710901760   \n",
       "3  1376671673320083459      1.376672e+18     Buffer  1377648956843433986   \n",
       "4                  NaN               NaN     Buffer  1377380687808847872   \n",
       "\n",
       "   in_reply_to_user_id author  \n",
       "0         3.323219e+09   code  \n",
       "1                  NaN   code  \n",
       "2         1.352047e+18   code  \n",
       "3                  NaN   code  \n",
       "4                  NaN   code  "
      ]
     },
     "execution_count": 17,
     "metadata": {},
     "output_type": "execute_result"
    }
   ],
   "source": [
    "#. get_status?\n",
    "\n",
    "user = api.get_user('code')\n",
    "user_timeline = user.timeline()\n",
    "df2 = extract_timeline_as_df(user_timeline)\n",
    "df2.head()"
   ]
  },
  {
   "cell_type": "code",
   "execution_count": 16,
   "metadata": {
    "ExecuteTime": {
     "end_time": "2021-04-01T20:51:35.188373Z",
     "start_time": "2021-04-01T20:51:35.183458Z"
    }
   },
   "outputs": [],
   "source": [
    "def extract_timeline_as_df(timeline_list):\n",
    "    columns = set()\n",
    "    allowed_types = [str, int]\n",
    "    tweets_data = []\n",
    "    for status in timeline_list:\n",
    "        status_dict = dict(vars(status))\n",
    "        keys = status_dict.keys()\n",
    "        single_tweet_data = {\"user\": status.user.screen_name, \"author\": status.author.screen_name}\n",
    "        for k in keys:\n",
    "            try:\n",
    "                v_type = type(status_dict[k])\n",
    "            except:\n",
    "                v_type = None\n",
    "            if v_type != None:\n",
    "                if v_type in allowed_types:\n",
    "                    single_tweet_data[k] = status_dict[k]\n",
    "                    columns.add(k)\n",
    "        tweets_data.append(single_tweet_data)\n",
    "\n",
    "\n",
    "    header_cols = list(columns)\n",
    "    header_cols.append('author')\n",
    "    df = pd.DataFrame(tweets_data, columns=header_cols)\n",
    "    return df"
   ]
  },
  {
   "cell_type": "code",
   "execution_count": null,
   "metadata": {
    "ExecuteTime": {
     "end_time": "2021-04-01T20:50:25.689440Z",
     "start_time": "2021-04-01T20:50:25.003Z"
    }
   },
   "outputs": [],
   "source": [
    "df3 = extract_timeline_as_df(user_timeline)"
   ]
  },
  {
   "cell_type": "code",
   "execution_count": null,
   "metadata": {
    "ExecuteTime": {
     "end_time": "2021-04-01T20:50:25.690507Z",
     "start_time": "2021-04-01T20:50:25.005Z"
    }
   },
   "outputs": [],
   "source": [
    "df3.head()"
   ]
  },
  {
   "cell_type": "code",
   "execution_count": null,
   "metadata": {
    "ExecuteTime": {
     "end_time": "2021-04-01T20:50:25.691497Z",
     "start_time": "2021-04-01T20:50:25.006Z"
    }
   },
   "outputs": [],
   "source": [
    "status_obj = api.get_status('1247966976951058433')\n",
    "status_obj.text"
   ]
  },
  {
   "cell_type": "code",
   "execution_count": null,
   "metadata": {
    "ExecuteTime": {
     "end_time": "2021-04-01T20:50:25.692441Z",
     "start_time": "2021-04-01T20:50:25.007Z"
    }
   },
   "outputs": [],
   "source": [
    "print(status_obj.geo)"
   ]
  },
  {
   "cell_type": "code",
   "execution_count": null,
   "metadata": {},
   "outputs": [],
   "source": []
  },
  {
   "cell_type": "code",
   "execution_count": null,
   "metadata": {
    "ExecuteTime": {
     "end_time": "2021-04-01T20:50:25.693296Z",
     "start_time": "2021-04-01T20:50:25.010Z"
    }
   },
   "outputs": [],
   "source": [
    "len(api.home_timeline())"
   ]
  },
  {
   "cell_type": "code",
   "execution_count": null,
   "metadata": {
    "ExecuteTime": {
     "end_time": "2021-04-01T20:50:25.694069Z",
     "start_time": "2021-04-01T20:50:25.011Z"
    }
   },
   "outputs": [],
   "source": [
    "other_user = 'therock'\n",
    "for i, status in enumerate(tweepy.Cursor(api.user_timeline, screen_name = other_user).items(20)):\n",
    "    print (i, status.text)"
   ]
  },
  {
   "cell_type": "code",
   "execution_count": null,
   "metadata": {
    "ExecuteTime": {
     "end_time": "2021-04-01T20:50:25.694922Z",
     "start_time": "2021-04-01T20:50:25.012Z"
    }
   },
   "outputs": [],
   "source": [
    "api."
   ]
  },
  {
   "cell_type": "code",
   "execution_count": null,
   "metadata": {
    "ExecuteTime": {
     "end_time": "2021-04-01T20:50:25.695986Z",
     "start_time": "2021-04-01T20:50:25.013Z"
    }
   },
   "outputs": [],
   "source": [
    "# query = '#vaccine'\n",
    "# api.search(q = query)"
   ]
  },
  {
   "cell_type": "code",
   "execution_count": null,
   "metadata": {
    "ExecuteTime": {
     "end_time": "2021-04-01T20:50:25.697069Z",
     "start_time": "2021-04-01T20:50:25.015Z"
    }
   },
   "outputs": [],
   "source": [
    "query = '#vaccine covid'\n",
    "for i, status in enumerate(tweepy.Cursor(api.search, q= query).items(50)):\n",
    "    print (i, status.text)"
   ]
  },
  {
   "cell_type": "code",
   "execution_count": null,
   "metadata": {},
   "outputs": [],
   "source": []
  },
  {
   "cell_type": "code",
   "execution_count": 18,
   "metadata": {
    "ExecuteTime": {
     "end_time": "2021-04-01T20:51:53.837358Z",
     "start_time": "2021-04-01T20:51:53.834570Z"
    }
   },
   "outputs": [],
   "source": [
    "cursor = tweepy.Cursor(api.user_timeline, id= 'code', tweet_mode = 'extended').items(1)"
   ]
  },
  {
   "cell_type": "code",
   "execution_count": 19,
   "metadata": {
    "ExecuteTime": {
     "end_time": "2021-04-01T20:51:55.283304Z",
     "start_time": "2021-04-01T20:51:54.903967Z"
    }
   },
   "outputs": [
    {
     "name": "stdout",
     "output_type": "stream",
     "text": [
      "['__class__', '__delattr__', '__dict__', '__dir__', '__doc__', '__eq__', '__format__', '__ge__', '__getattribute__', '__getstate__', '__gt__', '__hash__', '__init__', '__init_subclass__', '__le__', '__lt__', '__module__', '__ne__', '__new__', '__reduce__', '__reduce_ex__', '__repr__', '__setattr__', '__sizeof__', '__str__', '__subclasshook__', '__weakref__', '_api', '_json', 'author', 'contributors', 'coordinates', 'created_at', 'destroy', 'display_text_range', 'entities', 'favorite', 'favorite_count', 'favorited', 'full_text', 'geo', 'id', 'id_str', 'in_reply_to_screen_name', 'in_reply_to_status_id', 'in_reply_to_status_id_str', 'in_reply_to_user_id', 'in_reply_to_user_id_str', 'is_quote_status', 'lang', 'parse', 'parse_list', 'place', 'possibly_sensitive', 'retweet', 'retweet_count', 'retweeted', 'retweets', 'source', 'source_url', 'truncated', 'user']\n"
     ]
    }
   ],
   "source": [
    "for i in cursor:\n",
    "    print(dir(i))"
   ]
  },
  {
   "cell_type": "code",
   "execution_count": 20,
   "metadata": {
    "ExecuteTime": {
     "end_time": "2021-04-01T20:52:15.101239Z",
     "start_time": "2021-04-01T20:52:15.098167Z"
    }
   },
   "outputs": [],
   "source": [
    "cursor = tweepy.Cursor(api.user_timeline, id= 'code', tweet_mode = 'extended').items(1)"
   ]
  },
  {
   "cell_type": "code",
   "execution_count": 21,
   "metadata": {
    "ExecuteTime": {
     "end_time": "2021-04-01T20:52:47.992726Z",
     "start_time": "2021-04-01T20:52:47.610368Z"
    }
   },
   "outputs": [
    {
     "name": "stdout",
     "output_type": "stream",
     "text": [
      "@satyalumesh Not that I know of. But last week we had a livestream with folks from @Tabnine_ and @ShinanYotam had some thoughts on that 🙊 https://t.co/Cg2Yb71vZ4 en None\n"
     ]
    }
   ],
   "source": [
    "for i in cursor:\n",
    "    print(i.full_text, i.lang, i.geo)"
   ]
  },
  {
   "cell_type": "code",
   "execution_count": 24,
   "metadata": {
    "ExecuteTime": {
     "end_time": "2021-04-01T20:55:05.289395Z",
     "start_time": "2021-04-01T20:55:05.286422Z"
    }
   },
   "outputs": [],
   "source": [
    "cursor = tweepy.Cursor(api.search, q= 'vaccine', tweet_mode = 'extended').items(6)"
   ]
  },
  {
   "cell_type": "code",
   "execution_count": 25,
   "metadata": {
    "ExecuteTime": {
     "end_time": "2021-04-01T20:55:06.755655Z",
     "start_time": "2021-04-01T20:55:06.357473Z"
    }
   },
   "outputs": [
    {
     "name": "stdout",
     "output_type": "stream",
     "text": [
      "@HBarca5 @GovMikeDeWine Um...hospital employee mandated to get the flu vaccine EVERY SINGLE YEAR. Covid vaccine should be no different. en None\n",
      "RT @drsimonegold: .@GovRonDeSantis announced that he will take executive action this week against vaccine passports.\n",
      "\n",
      "Every governor in Ame… en None\n",
      "RT @HumanRights4UK: We must universally and TOTALLY reject \"vaccine passports\" at all costs. They will create a worldwide digital surveilla… en None\n",
      "@BogochIsaac @CKKellyMartin @fordnation I signed my up a week ago to be notified about vaccine appointments at a pharmacy in Sharbot Lake (the closest option to Ottawa at the time). They still haven't contacted her. en None\n",
      "May nabili bang @pfizer vaccine ang matandang inutil na damuhong batugang tumor ni satanas?\n",
      "\n",
      "Si #galvezInutil, may na-pirmahan na bang supply agreement sa mga vaccine manufacturers?\n",
      "\n",
      "#DutertePalpak\n",
      "#dutertaeInutil\n",
      "#IMPEACHdutertae\n",
      "#OustDuterteNOW\n",
      "#Oustduterte2021\n",
      "#Oustdu30 https://t.co/t87Vm8LSKk tl None\n",
      "RT @WSJ: The U.K.’s bold call to delay giving people a second dose of a Covid-19 vaccine has put it out in front in the race to inoculate t… en None\n"
     ]
    }
   ],
   "source": [
    "for i in cursor:\n",
    "    print(i.full_text, i.lang, i.geo)"
   ]
  },
  {
   "cell_type": "code",
   "execution_count": null,
   "metadata": {},
   "outputs": [],
   "source": []
  },
  {
   "cell_type": "code",
   "execution_count": 59,
   "metadata": {
    "ExecuteTime": {
     "end_time": "2021-04-01T21:23:45.415267Z",
     "start_time": "2021-04-01T21:23:45.080720Z"
    }
   },
   "outputs": [],
   "source": [
    "number_of_tweets = 5\n",
    "tweets = []\n",
    "language = []\n",
    "time = []\n",
    "\n",
    "for i in tweepy.Cursor(api.search, q= 'vaccine covid -RT',  tweet_mode = 'extended', include_rts= False).items(number_of_tweets):\n",
    "    tweets.append(i.full_text)\n",
    "    language.append(i.lang)\n",
    "    time.append(i.created_at)\n"
   ]
  },
  {
   "cell_type": "code",
   "execution_count": 60,
   "metadata": {
    "ExecuteTime": {
     "end_time": "2021-04-01T21:23:46.465814Z",
     "start_time": "2021-04-01T21:23:46.462414Z"
    }
   },
   "outputs": [],
   "source": [
    "df = pd.DataFrame({'time': time, 'language': language, 'tweets': tweets})"
   ]
  },
  {
   "cell_type": "code",
   "execution_count": 61,
   "metadata": {
    "ExecuteTime": {
     "end_time": "2021-04-01T21:23:47.484663Z",
     "start_time": "2021-04-01T21:23:47.476774Z"
    }
   },
   "outputs": [
    {
     "data": {
      "text/html": [
       "<div>\n",
       "<style scoped>\n",
       "    .dataframe tbody tr th:only-of-type {\n",
       "        vertical-align: middle;\n",
       "    }\n",
       "\n",
       "    .dataframe tbody tr th {\n",
       "        vertical-align: top;\n",
       "    }\n",
       "\n",
       "    .dataframe thead th {\n",
       "        text-align: right;\n",
       "    }\n",
       "</style>\n",
       "<table border=\"1\" class=\"dataframe\">\n",
       "  <thead>\n",
       "    <tr style=\"text-align: right;\">\n",
       "      <th></th>\n",
       "      <th>time</th>\n",
       "      <th>language</th>\n",
       "      <th>tweets</th>\n",
       "    </tr>\n",
       "  </thead>\n",
       "  <tbody>\n",
       "    <tr>\n",
       "      <th>0</th>\n",
       "      <td>2021-04-01 21:23:44</td>\n",
       "      <td>en</td>\n",
       "      <td>@RealNormalPod Someone posted a letter they'd ...</td>\n",
       "    </tr>\n",
       "    <tr>\n",
       "      <th>1</th>\n",
       "      <td>2021-04-01 21:23:42</td>\n",
       "      <td>en</td>\n",
       "      <td>check out this article everybody and please re...</td>\n",
       "    </tr>\n",
       "    <tr>\n",
       "      <th>2</th>\n",
       "      <td>2021-04-01 21:23:42</td>\n",
       "      <td>und</td>\n",
       "      <td>https://t.co/aJyl4WOsfl</td>\n",
       "    </tr>\n",
       "    <tr>\n",
       "      <th>3</th>\n",
       "      <td>2021-04-01 21:23:41</td>\n",
       "      <td>en</td>\n",
       "      <td>Made my first covid vaccine appointment let’s ...</td>\n",
       "    </tr>\n",
       "    <tr>\n",
       "      <th>4</th>\n",
       "      <td>2021-04-01 21:23:38</td>\n",
       "      <td>en</td>\n",
       "      <td>COVID-19 Vaccine Clinics Now Open to all #Indi...</td>\n",
       "    </tr>\n",
       "  </tbody>\n",
       "</table>\n",
       "</div>"
      ],
      "text/plain": [
       "                 time language  \\\n",
       "0 2021-04-01 21:23:44       en   \n",
       "1 2021-04-01 21:23:42       en   \n",
       "2 2021-04-01 21:23:42      und   \n",
       "3 2021-04-01 21:23:41       en   \n",
       "4 2021-04-01 21:23:38       en   \n",
       "\n",
       "                                              tweets  \n",
       "0  @RealNormalPod Someone posted a letter they'd ...  \n",
       "1  check out this article everybody and please re...  \n",
       "2                            https://t.co/aJyl4WOsfl  \n",
       "3  Made my first covid vaccine appointment let’s ...  \n",
       "4  COVID-19 Vaccine Clinics Now Open to all #Indi...  "
      ]
     },
     "execution_count": 61,
     "metadata": {},
     "output_type": "execute_result"
    }
   ],
   "source": [
    "df"
   ]
  },
  {
   "cell_type": "code",
   "execution_count": 37,
   "metadata": {
    "ExecuteTime": {
     "end_time": "2021-04-01T21:04:43.503842Z",
     "start_time": "2021-04-01T21:04:43.499893Z"
    }
   },
   "outputs": [],
   "source": [
    "df = df[~df.tweets.str.contains('RT')]"
   ]
  },
  {
   "cell_type": "code",
   "execution_count": 39,
   "metadata": {
    "ExecuteTime": {
     "end_time": "2021-04-01T21:05:12.977087Z",
     "start_time": "2021-04-01T21:05:12.974432Z"
    }
   },
   "outputs": [],
   "source": [
    "df.reset_index(drop= True, inplace= True)"
   ]
  },
  {
   "cell_type": "code",
   "execution_count": 69,
   "metadata": {
    "ExecuteTime": {
     "end_time": "2021-04-01T21:39:37.721239Z",
     "start_time": "2021-04-01T21:39:37.716993Z"
    }
   },
   "outputs": [],
   "source": [
    "df.to_csv('tweets.csv', mode= 'a', index= False, header= False)"
   ]
  },
  {
   "cell_type": "code",
   "execution_count": 64,
   "metadata": {
    "ExecuteTime": {
     "end_time": "2021-04-01T21:34:34.782648Z",
     "start_time": "2021-04-01T21:34:34.773133Z"
    }
   },
   "outputs": [
    {
     "data": {
      "text/html": [
       "<div>\n",
       "<style scoped>\n",
       "    .dataframe tbody tr th:only-of-type {\n",
       "        vertical-align: middle;\n",
       "    }\n",
       "\n",
       "    .dataframe tbody tr th {\n",
       "        vertical-align: top;\n",
       "    }\n",
       "\n",
       "    .dataframe thead th {\n",
       "        text-align: right;\n",
       "    }\n",
       "</style>\n",
       "<table border=\"1\" class=\"dataframe\">\n",
       "  <thead>\n",
       "    <tr style=\"text-align: right;\">\n",
       "      <th></th>\n",
       "      <th>Unnamed: 0</th>\n",
       "      <th>time</th>\n",
       "      <th>language</th>\n",
       "      <th>tweets</th>\n",
       "    </tr>\n",
       "  </thead>\n",
       "  <tbody>\n",
       "    <tr>\n",
       "      <th>0</th>\n",
       "      <td>0</td>\n",
       "      <td>2021-04-01 21:23:44</td>\n",
       "      <td>en</td>\n",
       "      <td>@RealNormalPod Someone posted a letter they'd ...</td>\n",
       "    </tr>\n",
       "    <tr>\n",
       "      <th>1</th>\n",
       "      <td>1</td>\n",
       "      <td>2021-04-01 21:23:42</td>\n",
       "      <td>en</td>\n",
       "      <td>check out this article everybody and please re...</td>\n",
       "    </tr>\n",
       "    <tr>\n",
       "      <th>2</th>\n",
       "      <td>2</td>\n",
       "      <td>2021-04-01 21:23:42</td>\n",
       "      <td>und</td>\n",
       "      <td>https://t.co/aJyl4WOsfl</td>\n",
       "    </tr>\n",
       "    <tr>\n",
       "      <th>3</th>\n",
       "      <td>3</td>\n",
       "      <td>2021-04-01 21:23:41</td>\n",
       "      <td>en</td>\n",
       "      <td>Made my first covid vaccine appointment let’s ...</td>\n",
       "    </tr>\n",
       "    <tr>\n",
       "      <th>4</th>\n",
       "      <td>4</td>\n",
       "      <td>2021-04-01 21:23:38</td>\n",
       "      <td>en</td>\n",
       "      <td>COVID-19 Vaccine Clinics Now Open to all #Indi...</td>\n",
       "    </tr>\n",
       "  </tbody>\n",
       "</table>\n",
       "</div>"
      ],
      "text/plain": [
       "   Unnamed: 0                 time language  \\\n",
       "0           0  2021-04-01 21:23:44       en   \n",
       "1           1  2021-04-01 21:23:42       en   \n",
       "2           2  2021-04-01 21:23:42      und   \n",
       "3           3  2021-04-01 21:23:41       en   \n",
       "4           4  2021-04-01 21:23:38       en   \n",
       "\n",
       "                                              tweets  \n",
       "0  @RealNormalPod Someone posted a letter they'd ...  \n",
       "1  check out this article everybody and please re...  \n",
       "2                            https://t.co/aJyl4WOsfl  \n",
       "3  Made my first covid vaccine appointment let’s ...  \n",
       "4  COVID-19 Vaccine Clinics Now Open to all #Indi...  "
      ]
     },
     "execution_count": 64,
     "metadata": {},
     "output_type": "execute_result"
    }
   ],
   "source": [
    "df2 = pd.read_csv('tweets.csv')\n",
    "df2"
   ]
  },
  {
   "cell_type": "code",
   "execution_count": 65,
   "metadata": {
    "ExecuteTime": {
     "end_time": "2021-04-01T21:37:43.669307Z",
     "start_time": "2021-04-01T21:37:43.303352Z"
    }
   },
   "outputs": [],
   "source": [
    "number_of_tweets = 5\n",
    "tweets = []\n",
    "language = []\n",
    "time = []\n",
    "\n",
    "for i in tweepy.Cursor(api.search, q= 'vaccine covid -RT',  tweet_mode = 'extended', include_rts= False).items(number_of_tweets):\n",
    "    tweets.append(i.full_text)\n",
    "    language.append(i.lang)\n",
    "    time.append(i.created_at)"
   ]
  },
  {
   "cell_type": "code",
   "execution_count": 66,
   "metadata": {
    "ExecuteTime": {
     "end_time": "2021-04-01T21:37:56.057583Z",
     "start_time": "2021-04-01T21:37:56.049306Z"
    }
   },
   "outputs": [
    {
     "data": {
      "text/html": [
       "<div>\n",
       "<style scoped>\n",
       "    .dataframe tbody tr th:only-of-type {\n",
       "        vertical-align: middle;\n",
       "    }\n",
       "\n",
       "    .dataframe tbody tr th {\n",
       "        vertical-align: top;\n",
       "    }\n",
       "\n",
       "    .dataframe thead th {\n",
       "        text-align: right;\n",
       "    }\n",
       "</style>\n",
       "<table border=\"1\" class=\"dataframe\">\n",
       "  <thead>\n",
       "    <tr style=\"text-align: right;\">\n",
       "      <th></th>\n",
       "      <th>time</th>\n",
       "      <th>language</th>\n",
       "      <th>tweets</th>\n",
       "    </tr>\n",
       "  </thead>\n",
       "  <tbody>\n",
       "    <tr>\n",
       "      <th>0</th>\n",
       "      <td>2021-04-01 21:37:39</td>\n",
       "      <td>en</td>\n",
       "      <td>I can’t believe I just saw a title saying “cov...</td>\n",
       "    </tr>\n",
       "    <tr>\n",
       "      <th>1</th>\n",
       "      <td>2021-04-01 21:37:37</td>\n",
       "      <td>en</td>\n",
       "      <td>Don't freak out if you get these side effects ...</td>\n",
       "    </tr>\n",
       "    <tr>\n",
       "      <th>2</th>\n",
       "      <td>2021-04-01 21:37:35</td>\n",
       "      <td>en</td>\n",
       "      <td>Hello ⁦@drpatesblog⁩, this is the second artic...</td>\n",
       "    </tr>\n",
       "    <tr>\n",
       "      <th>3</th>\n",
       "      <td>2021-04-01 21:37:34</td>\n",
       "      <td>en</td>\n",
       "      <td>Thing is, I’m not even anti vax or anything an...</td>\n",
       "    </tr>\n",
       "    <tr>\n",
       "      <th>4</th>\n",
       "      <td>2021-04-01 21:37:31</td>\n",
       "      <td>en</td>\n",
       "      <td>i got my covid vaccine besties 😁 https://t.co/...</td>\n",
       "    </tr>\n",
       "  </tbody>\n",
       "</table>\n",
       "</div>"
      ],
      "text/plain": [
       "                 time language  \\\n",
       "0 2021-04-01 21:37:39       en   \n",
       "1 2021-04-01 21:37:37       en   \n",
       "2 2021-04-01 21:37:35       en   \n",
       "3 2021-04-01 21:37:34       en   \n",
       "4 2021-04-01 21:37:31       en   \n",
       "\n",
       "                                              tweets  \n",
       "0  I can’t believe I just saw a title saying “cov...  \n",
       "1  Don't freak out if you get these side effects ...  \n",
       "2  Hello ⁦@drpatesblog⁩, this is the second artic...  \n",
       "3  Thing is, I’m not even anti vax or anything an...  \n",
       "4  i got my covid vaccine besties 😁 https://t.co/...  "
      ]
     },
     "execution_count": 66,
     "metadata": {},
     "output_type": "execute_result"
    }
   ],
   "source": [
    "df3 = pd.DataFrame({'time': time, 'language': language, 'tweets': tweets})\n",
    "df3"
   ]
  },
  {
   "cell_type": "code",
   "execution_count": 67,
   "metadata": {
    "ExecuteTime": {
     "end_time": "2021-04-01T21:38:30.567016Z",
     "start_time": "2021-04-01T21:38:30.563062Z"
    }
   },
   "outputs": [],
   "source": [
    "df3.to_csv('tweets.csv', index= False)"
   ]
  },
  {
   "cell_type": "markdown",
   "metadata": {},
   "source": [
    "## Search 30 day tweets"
   ]
  },
  {
   "cell_type": "code",
   "execution_count": null,
   "metadata": {},
   "outputs": [],
   "source": [
    "# function to turn results into DataFrame\n",
    "def extract_text_as_df(text_list):\n",
    "    columns = set()\n",
    "    allowed_types = [str, int]\n",
    "    tweets_data = []\n",
    "    for status in text_list:\n",
    "        status_dict = dict(vars(status))\n",
    "        keys = status_dict.keys()\n",
    "        single_tweet_data = {\"author\": status.author.screen_name}\n",
    "        for k in keys:\n",
    "            try:\n",
    "                v_type = type(status_dict[k])\n",
    "            except:\n",
    "                v_type = None\n",
    "            if v_type != None:\n",
    "                if v_type in allowed_types:\n",
    "                    single_tweet_data[k] = status_dict[k]\n",
    "                    columns.add(k)\n",
    "        tweets_data.append(single_tweet_data)\n",
    "\n",
    "\n",
    "    header_cols = list(columns)\n",
    "    header_cols.append('author')\n",
    "    df = pd.DataFrame(tweets_data, columns=header_cols)\n",
    "    return df"
   ]
  },
  {
   "cell_type": "code",
   "execution_count": 107,
   "metadata": {
    "ExecuteTime": {
     "end_time": "2021-04-01T23:19:51.785007Z",
     "start_time": "2021-04-01T23:19:51.438306Z"
    }
   },
   "outputs": [
    {
     "data": {
      "text/html": [
       "<div>\n",
       "<style scoped>\n",
       "    .dataframe tbody tr th:only-of-type {\n",
       "        vertical-align: middle;\n",
       "    }\n",
       "\n",
       "    .dataframe tbody tr th {\n",
       "        vertical-align: top;\n",
       "    }\n",
       "\n",
       "    .dataframe thead th {\n",
       "        text-align: right;\n",
       "    }\n",
       "</style>\n",
       "<table border=\"1\" class=\"dataframe\">\n",
       "  <thead>\n",
       "    <tr style=\"text-align: right;\">\n",
       "      <th></th>\n",
       "      <th>retweet_count</th>\n",
       "      <th>lang</th>\n",
       "      <th>in_reply_to_status_id_str</th>\n",
       "      <th>in_reply_to_user_id_str</th>\n",
       "      <th>favorite_count</th>\n",
       "      <th>source_url</th>\n",
       "      <th>in_reply_to_status_id</th>\n",
       "      <th>id</th>\n",
       "      <th>text</th>\n",
       "      <th>in_reply_to_screen_name</th>\n",
       "      <th>in_reply_to_user_id</th>\n",
       "      <th>source</th>\n",
       "      <th>reply_count</th>\n",
       "      <th>filter_level</th>\n",
       "      <th>id_str</th>\n",
       "      <th>quote_count</th>\n",
       "      <th>author</th>\n",
       "    </tr>\n",
       "  </thead>\n",
       "  <tbody>\n",
       "    <tr>\n",
       "      <th>0</th>\n",
       "      <td>0</td>\n",
       "      <td>en</td>\n",
       "      <td>NaN</td>\n",
       "      <td>NaN</td>\n",
       "      <td>0</td>\n",
       "      <td>http://twitter.com/#!/download/ipad</td>\n",
       "      <td>NaN</td>\n",
       "      <td>1377762606631383040</td>\n",
       "      <td>4 ways Australia's COVID vaccine rollout has b...</td>\n",
       "      <td>NaN</td>\n",
       "      <td>NaN</td>\n",
       "      <td>Twitter for iPad</td>\n",
       "      <td>0</td>\n",
       "      <td>low</td>\n",
       "      <td>1377762606631383040</td>\n",
       "      <td>0</td>\n",
       "      <td>SandraSearle</td>\n",
       "    </tr>\n",
       "    <tr>\n",
       "      <th>1</th>\n",
       "      <td>0</td>\n",
       "      <td>en</td>\n",
       "      <td>NaN</td>\n",
       "      <td>NaN</td>\n",
       "      <td>0</td>\n",
       "      <td>http://www.socialnewsdesk.com</td>\n",
       "      <td>NaN</td>\n",
       "      <td>1377762605486465027</td>\n",
       "      <td>All Californians age 50 and older are now elig...</td>\n",
       "      <td>NaN</td>\n",
       "      <td>NaN</td>\n",
       "      <td>SocialNewsDesk</td>\n",
       "      <td>0</td>\n",
       "      <td>low</td>\n",
       "      <td>1377762605486465027</td>\n",
       "      <td>0</td>\n",
       "      <td>CBSLA</td>\n",
       "    </tr>\n",
       "    <tr>\n",
       "      <th>2</th>\n",
       "      <td>0</td>\n",
       "      <td>en</td>\n",
       "      <td>NaN</td>\n",
       "      <td>NaN</td>\n",
       "      <td>1</td>\n",
       "      <td>http://twitter.com/download/iphone</td>\n",
       "      <td>NaN</td>\n",
       "      <td>1377762601065705476</td>\n",
       "      <td>First round of the COVID vaccine: ✅</td>\n",
       "      <td>NaN</td>\n",
       "      <td>NaN</td>\n",
       "      <td>Twitter for iPhone</td>\n",
       "      <td>1</td>\n",
       "      <td>low</td>\n",
       "      <td>1377762601065705476</td>\n",
       "      <td>0</td>\n",
       "      <td>hayleemarissa_</td>\n",
       "    </tr>\n",
       "    <tr>\n",
       "      <th>3</th>\n",
       "      <td>0</td>\n",
       "      <td>en</td>\n",
       "      <td>1377680153589993473</td>\n",
       "      <td>789131600743239680</td>\n",
       "      <td>0</td>\n",
       "      <td>http://twitter.com/download/iphone</td>\n",
       "      <td>1.377680e+18</td>\n",
       "      <td>1377762594208034817</td>\n",
       "      <td>@HunterBanks96 Round one of covid vaccine down!</td>\n",
       "      <td>HunterBanks96</td>\n",
       "      <td>7.891316e+17</td>\n",
       "      <td>Twitter for iPhone</td>\n",
       "      <td>0</td>\n",
       "      <td>low</td>\n",
       "      <td>1377762594208034817</td>\n",
       "      <td>0</td>\n",
       "      <td>LisaAS2016</td>\n",
       "    </tr>\n",
       "    <tr>\n",
       "      <th>4</th>\n",
       "      <td>0</td>\n",
       "      <td>en</td>\n",
       "      <td>NaN</td>\n",
       "      <td>NaN</td>\n",
       "      <td>0</td>\n",
       "      <td>http://twitter.com/download/iphone</td>\n",
       "      <td>NaN</td>\n",
       "      <td>1377762592060538882</td>\n",
       "      <td>#vaccination #AstraZeneca #COVID19  #vaccine h...</td>\n",
       "      <td>NaN</td>\n",
       "      <td>NaN</td>\n",
       "      <td>Twitter for iPhone</td>\n",
       "      <td>0</td>\n",
       "      <td>low</td>\n",
       "      <td>1377762592060538882</td>\n",
       "      <td>0</td>\n",
       "      <td>_HoniSoitQuiMal</td>\n",
       "    </tr>\n",
       "    <tr>\n",
       "      <th>5</th>\n",
       "      <td>0</td>\n",
       "      <td>en</td>\n",
       "      <td>NaN</td>\n",
       "      <td>NaN</td>\n",
       "      <td>0</td>\n",
       "      <td>https://mobile.twitter.com</td>\n",
       "      <td>NaN</td>\n",
       "      <td>1377762582531035136</td>\n",
       "      <td>Easter egg punt? Coronavirus spike good reason...</td>\n",
       "      <td>NaN</td>\n",
       "      <td>NaN</td>\n",
       "      <td>Twitter Web App</td>\n",
       "      <td>0</td>\n",
       "      <td>low</td>\n",
       "      <td>1377762582531035136</td>\n",
       "      <td>0</td>\n",
       "      <td>JoyceHutchens3</td>\n",
       "    </tr>\n",
       "    <tr>\n",
       "      <th>6</th>\n",
       "      <td>0</td>\n",
       "      <td>en</td>\n",
       "      <td>NaN</td>\n",
       "      <td>NaN</td>\n",
       "      <td>0</td>\n",
       "      <td>NaN</td>\n",
       "      <td>NaN</td>\n",
       "      <td>1377762577653059585</td>\n",
       "      <td>New post (Pakistan: Hundreds of Covid-19 vacci...</td>\n",
       "      <td>NaN</td>\n",
       "      <td>NaN</td>\n",
       "      <td></td>\n",
       "      <td>0</td>\n",
       "      <td>low</td>\n",
       "      <td>1377762577653059585</td>\n",
       "      <td>0</td>\n",
       "      <td>zacnetwork1</td>\n",
       "    </tr>\n",
       "    <tr>\n",
       "      <th>7</th>\n",
       "      <td>0</td>\n",
       "      <td>en</td>\n",
       "      <td>NaN</td>\n",
       "      <td>NaN</td>\n",
       "      <td>0</td>\n",
       "      <td>http://twitter.com/download/iphone</td>\n",
       "      <td>NaN</td>\n",
       "      <td>1377762561819602946</td>\n",
       "      <td>Waiting for my first dose of the COVID vaccine...</td>\n",
       "      <td>NaN</td>\n",
       "      <td>NaN</td>\n",
       "      <td>Twitter for iPhone</td>\n",
       "      <td>0</td>\n",
       "      <td>low</td>\n",
       "      <td>1377762561819602946</td>\n",
       "      <td>0</td>\n",
       "      <td>AshleeCoffeyOWH</td>\n",
       "    </tr>\n",
       "    <tr>\n",
       "      <th>8</th>\n",
       "      <td>0</td>\n",
       "      <td>en</td>\n",
       "      <td>NaN</td>\n",
       "      <td>NaN</td>\n",
       "      <td>0</td>\n",
       "      <td>http://twitter.com/#!/download/ipad</td>\n",
       "      <td>NaN</td>\n",
       "      <td>1377762559957331969</td>\n",
       "      <td>Pfizer vaccine produces ‘off the scale’ immune...</td>\n",
       "      <td>NaN</td>\n",
       "      <td>NaN</td>\n",
       "      <td>Twitter for iPad</td>\n",
       "      <td>0</td>\n",
       "      <td>low</td>\n",
       "      <td>1377762559957331969</td>\n",
       "      <td>0</td>\n",
       "      <td>llomenzo</td>\n",
       "    </tr>\n",
       "    <tr>\n",
       "      <th>9</th>\n",
       "      <td>0</td>\n",
       "      <td>en</td>\n",
       "      <td>NaN</td>\n",
       "      <td>NaN</td>\n",
       "      <td>0</td>\n",
       "      <td>http://twitter.com/download/iphone</td>\n",
       "      <td>NaN</td>\n",
       "      <td>1377762527229132803</td>\n",
       "      <td>HOW AM I PROTECTING MYSELF BY GETTING THE VACC...</td>\n",
       "      <td>NaN</td>\n",
       "      <td>NaN</td>\n",
       "      <td>Twitter for iPhone</td>\n",
       "      <td>0</td>\n",
       "      <td>low</td>\n",
       "      <td>1377762527229132803</td>\n",
       "      <td>0</td>\n",
       "      <td>sdotpettaway</td>\n",
       "    </tr>\n",
       "  </tbody>\n",
       "</table>\n",
       "</div>"
      ],
      "text/plain": [
       "   retweet_count lang in_reply_to_status_id_str in_reply_to_user_id_str  \\\n",
       "0              0   en                       NaN                     NaN   \n",
       "1              0   en                       NaN                     NaN   \n",
       "2              0   en                       NaN                     NaN   \n",
       "3              0   en       1377680153589993473      789131600743239680   \n",
       "4              0   en                       NaN                     NaN   \n",
       "5              0   en                       NaN                     NaN   \n",
       "6              0   en                       NaN                     NaN   \n",
       "7              0   en                       NaN                     NaN   \n",
       "8              0   en                       NaN                     NaN   \n",
       "9              0   en                       NaN                     NaN   \n",
       "\n",
       "   favorite_count                           source_url  in_reply_to_status_id  \\\n",
       "0               0  http://twitter.com/#!/download/ipad                    NaN   \n",
       "1               0        http://www.socialnewsdesk.com                    NaN   \n",
       "2               1   http://twitter.com/download/iphone                    NaN   \n",
       "3               0   http://twitter.com/download/iphone           1.377680e+18   \n",
       "4               0   http://twitter.com/download/iphone                    NaN   \n",
       "5               0           https://mobile.twitter.com                    NaN   \n",
       "6               0                                  NaN                    NaN   \n",
       "7               0   http://twitter.com/download/iphone                    NaN   \n",
       "8               0  http://twitter.com/#!/download/ipad                    NaN   \n",
       "9               0   http://twitter.com/download/iphone                    NaN   \n",
       "\n",
       "                    id                                               text  \\\n",
       "0  1377762606631383040  4 ways Australia's COVID vaccine rollout has b...   \n",
       "1  1377762605486465027  All Californians age 50 and older are now elig...   \n",
       "2  1377762601065705476                First round of the COVID vaccine: ✅   \n",
       "3  1377762594208034817    @HunterBanks96 Round one of covid vaccine down!   \n",
       "4  1377762592060538882  #vaccination #AstraZeneca #COVID19  #vaccine h...   \n",
       "5  1377762582531035136  Easter egg punt? Coronavirus spike good reason...   \n",
       "6  1377762577653059585  New post (Pakistan: Hundreds of Covid-19 vacci...   \n",
       "7  1377762561819602946  Waiting for my first dose of the COVID vaccine...   \n",
       "8  1377762559957331969  Pfizer vaccine produces ‘off the scale’ immune...   \n",
       "9  1377762527229132803  HOW AM I PROTECTING MYSELF BY GETTING THE VACC...   \n",
       "\n",
       "  in_reply_to_screen_name  in_reply_to_user_id              source  \\\n",
       "0                     NaN                  NaN    Twitter for iPad   \n",
       "1                     NaN                  NaN      SocialNewsDesk   \n",
       "2                     NaN                  NaN  Twitter for iPhone   \n",
       "3           HunterBanks96         7.891316e+17  Twitter for iPhone   \n",
       "4                     NaN                  NaN  Twitter for iPhone   \n",
       "5                     NaN                  NaN     Twitter Web App   \n",
       "6                     NaN                  NaN                       \n",
       "7                     NaN                  NaN  Twitter for iPhone   \n",
       "8                     NaN                  NaN    Twitter for iPad   \n",
       "9                     NaN                  NaN  Twitter for iPhone   \n",
       "\n",
       "   reply_count filter_level               id_str  quote_count           author  \n",
       "0            0          low  1377762606631383040            0     SandraSearle  \n",
       "1            0          low  1377762605486465027            0            CBSLA  \n",
       "2            1          low  1377762601065705476            0   hayleemarissa_  \n",
       "3            0          low  1377762594208034817            0       LisaAS2016  \n",
       "4            0          low  1377762592060538882            0  _HoniSoitQuiMal  \n",
       "5            0          low  1377762582531035136            0   JoyceHutchens3  \n",
       "6            0          low  1377762577653059585            0      zacnetwork1  \n",
       "7            0          low  1377762561819602946            0  AshleeCoffeyOWH  \n",
       "8            0          low  1377762559957331969            0         llomenzo  \n",
       "9            0          low  1377762527229132803            0     sdotpettaway  "
      ]
     },
     "execution_count": 107,
     "metadata": {},
     "output_type": "execute_result"
    }
   ],
   "source": [
    "query = 'vaccine covid -RT'\n",
    "results_30 = api.search_30_day('datacollection', query, maxResults= 10)\n",
    "# results_30\n",
    "old_results_df = extract_text_as_df(results_30)\n",
    "old_results_df"
   ]
  },
  {
   "cell_type": "code",
   "execution_count": null,
   "metadata": {},
   "outputs": [],
   "source": []
  },
  {
   "cell_type": "code",
   "execution_count": null,
   "metadata": {},
   "outputs": [],
   "source": []
  },
  {
   "cell_type": "code",
   "execution_count": null,
   "metadata": {},
   "outputs": [],
   "source": []
  },
  {
   "cell_type": "code",
   "execution_count": null,
   "metadata": {},
   "outputs": [],
   "source": []
  },
  {
   "cell_type": "code",
   "execution_count": null,
   "metadata": {},
   "outputs": [],
   "source": []
  },
  {
   "cell_type": "code",
   "execution_count": null,
   "metadata": {},
   "outputs": [],
   "source": []
  },
  {
   "cell_type": "code",
   "execution_count": null,
   "metadata": {},
   "outputs": [],
   "source": []
  },
  {
   "cell_type": "code",
   "execution_count": null,
   "metadata": {},
   "outputs": [],
   "source": []
  },
  {
   "cell_type": "code",
   "execution_count": null,
   "metadata": {},
   "outputs": [],
   "source": []
  },
  {
   "cell_type": "code",
   "execution_count": null,
   "metadata": {},
   "outputs": [],
   "source": []
  },
  {
   "cell_type": "code",
   "execution_count": null,
   "metadata": {},
   "outputs": [],
   "source": []
  },
  {
   "cell_type": "code",
   "execution_count": null,
   "metadata": {},
   "outputs": [],
   "source": []
  },
  {
   "cell_type": "code",
   "execution_count": 70,
   "metadata": {
    "ExecuteTime": {
     "end_time": "2021-04-01T22:13:23.552431Z",
     "start_time": "2021-04-01T22:13:18.017332Z"
    }
   },
   "outputs": [
    {
     "name": "stdout",
     "output_type": "stream",
     "text": [
      "Collecting googletrans\n",
      "  Downloading googletrans-3.0.0.tar.gz (17 kB)\n",
      "Collecting httpx==0.13.3\n",
      "  Downloading httpx-0.13.3-py3-none-any.whl (55 kB)\n",
      "\u001b[K     |████████████████████████████████| 55 kB 4.3 MB/s eta 0:00:01\n",
      "\u001b[?25hCollecting rfc3986<2,>=1.3\n",
      "  Downloading rfc3986-1.4.0-py2.py3-none-any.whl (31 kB)\n",
      "Collecting httpcore==0.9.*\n",
      "  Downloading httpcore-0.9.1-py3-none-any.whl (42 kB)\n",
      "\u001b[K     |████████████████████████████████| 42 kB 3.6 MB/s  eta 0:00:01\n",
      "\u001b[?25hRequirement already satisfied: idna==2.* in /Users/cassienutter/opt/anaconda3/envs/learn-env/lib/python3.8/site-packages (from httpx==0.13.3->googletrans) (2.10)\n",
      "Requirement already satisfied: certifi in /Users/cassienutter/opt/anaconda3/envs/learn-env/lib/python3.8/site-packages (from httpx==0.13.3->googletrans) (2020.12.5)\n",
      "Requirement already satisfied: chardet==3.* in /Users/cassienutter/opt/anaconda3/envs/learn-env/lib/python3.8/site-packages (from httpx==0.13.3->googletrans) (3.0.4)\n",
      "Collecting hstspreload\n",
      "  Downloading hstspreload-2020.12.22-py3-none-any.whl (994 kB)\n",
      "\u001b[K     |████████████████████████████████| 994 kB 10.8 MB/s eta 0:00:01\n",
      "\u001b[?25hRequirement already satisfied: sniffio in /Users/cassienutter/opt/anaconda3/envs/learn-env/lib/python3.8/site-packages (from httpx==0.13.3->googletrans) (1.2.0)\n",
      "Collecting h2==3.*\n",
      "  Downloading h2-3.2.0-py2.py3-none-any.whl (65 kB)\n",
      "\u001b[K     |████████████████████████████████| 65 kB 10.1 MB/s eta 0:00:01\n",
      "\u001b[?25hCollecting h11<0.10,>=0.8\n",
      "  Downloading h11-0.9.0-py2.py3-none-any.whl (53 kB)\n",
      "\u001b[K     |████████████████████████████████| 53 kB 4.2 MB/s eta 0:00:01\n",
      "\u001b[?25hCollecting hyperframe<6,>=5.2.0\n",
      "  Downloading hyperframe-5.2.0-py2.py3-none-any.whl (12 kB)\n",
      "Collecting hpack<4,>=3.0\n",
      "  Downloading hpack-3.0.0-py2.py3-none-any.whl (38 kB)\n",
      "Building wheels for collected packages: googletrans\n",
      "  Building wheel for googletrans (setup.py) ... \u001b[?25ldone\n",
      "\u001b[?25h  Created wheel for googletrans: filename=googletrans-3.0.0-py3-none-any.whl size=15735 sha256=ad1fd53af6e10629362e7cd2aeb3e1a74783e5f3f5ba1465e11eea204507faf7\n",
      "  Stored in directory: /Users/cassienutter/Library/Caches/pip/wheels/0e/ce/9b/d51de1064911d42480ab6b57fc943ee36572441f27546354e2\n",
      "Successfully built googletrans\n",
      "Installing collected packages: rfc3986, hyperframe, hpack, h2, h11, httpcore, hstspreload, httpx, googletrans\n",
      "Successfully installed googletrans-3.0.0 h11-0.9.0 h2-3.2.0 hpack-3.0.0 hstspreload-2020.12.22 httpcore-0.9.1 httpx-0.13.3 hyperframe-5.2.0 rfc3986-1.4.0\n",
      "Note: you may need to restart the kernel to use updated packages.\n"
     ]
    }
   ],
   "source": [
    "# pip install googletrans"
   ]
  },
  {
   "cell_type": "code",
   "execution_count": 11,
   "metadata": {
    "ExecuteTime": {
     "end_time": "2021-04-02T15:20:00.461155Z",
     "start_time": "2021-04-02T15:20:00.426488Z"
    }
   },
   "outputs": [],
   "source": [
    "df = pd.read_csv('tweets.csv')"
   ]
  },
  {
   "cell_type": "code",
   "execution_count": 12,
   "metadata": {
    "ExecuteTime": {
     "end_time": "2021-04-02T15:20:06.002568Z",
     "start_time": "2021-04-02T15:20:05.994391Z"
    }
   },
   "outputs": [],
   "source": [
    "lang_df = df.sort_values('language')"
   ]
  },
  {
   "cell_type": "code",
   "execution_count": 13,
   "metadata": {
    "ExecuteTime": {
     "end_time": "2021-04-02T15:20:08.019351Z",
     "start_time": "2021-04-02T15:20:07.828114Z"
    }
   },
   "outputs": [],
   "source": [
    "import matplotlib.pyplot as plt\n",
    "%matplotlib inline"
   ]
  },
  {
   "cell_type": "code",
   "execution_count": 14,
   "metadata": {
    "ExecuteTime": {
     "end_time": "2021-04-02T15:20:08.948094Z",
     "start_time": "2021-04-02T15:20:08.657876Z"
    }
   },
   "outputs": [
    {
     "data": {
      "image/png": "[encoded data removed]",
      "text/plain": [
       "<Figure size 864x576 with 1 Axes>"
      ]
     },
     "metadata": {
      "needs_background": "light"
     },
     "output_type": "display_data"
    }
   ],
   "source": [
    "plt.figure(figsize= (12, 8))\n",
    "lang_df.language.value_counts(normalize=True).plot(kind= 'barh')\n",
    "plt.title('Proportion of Languages Collected')\n",
    "plt.xlim(-.01, 1)\n",
    "plt.show()"
   ]
  },
  {
   "cell_type": "code",
   "execution_count": 15,
   "metadata": {
    "ExecuteTime": {
     "end_time": "2021-04-02T15:20:13.122991Z",
     "start_time": "2021-04-02T15:20:13.115004Z"
    }
   },
   "outputs": [
    {
     "data": {
      "text/plain": [
       "en     0.934466\n",
       "und    0.032621\n",
       "fr     0.008544\n",
       "es     0.004078\n",
       "ja     0.002427\n",
       "tl     0.001942\n",
       "de     0.001553\n",
       "it     0.001456\n",
       "pt     0.001262\n",
       "hi     0.001165\n",
       "nl     0.001068\n",
       "pl     0.000874\n",
       "et     0.000874\n",
       "tr     0.000680\n",
       "el     0.000680\n",
       "ro     0.000583\n",
       "vi     0.000485\n",
       "da     0.000485\n",
       "ar     0.000388\n",
       "zh     0.000388\n",
       "in     0.000388\n",
       "ca     0.000291\n",
       "bn     0.000291\n",
       "ru     0.000291\n",
       "mr     0.000291\n",
       "pa     0.000194\n",
       "sv     0.000194\n",
       "fa     0.000194\n",
       "kn     0.000194\n",
       "ko     0.000194\n",
       "ur     0.000194\n",
       "fi     0.000194\n",
       "ta     0.000194\n",
       "th     0.000194\n",
       "hu     0.000194\n",
       "ht     0.000097\n",
       "cs     0.000097\n",
       "lv     0.000097\n",
       "ml     0.000097\n",
       "te     0.000097\n",
       "Name: language, dtype: float64"
      ]
     },
     "execution_count": 15,
     "metadata": {},
     "output_type": "execute_result"
    }
   ],
   "source": [
    "lang_df.language.value_counts(normalize=True)"
   ]
  },
  {
   "cell_type": "code",
   "execution_count": 17,
   "metadata": {
    "ExecuteTime": {
     "end_time": "2021-04-02T15:22:49.050148Z",
     "start_time": "2021-04-02T15:22:48.692536Z"
    }
   },
   "outputs": [
    {
     "name": "stdout",
     "output_type": "stream",
     "text": [
      "There are :  1  tables\n",
      "                        0              1\n",
      "0                    Name  Language code\n",
      "1       English (default)             en\n",
      "2                  Arabic             ar\n",
      "3                 Bengali             bn\n",
      "4                   Czech             cs\n",
      "5                  Danish             da\n",
      "6                  German             de\n",
      "7                   Greek             el\n",
      "8                 Spanish             es\n",
      "9                 Persian             fa\n",
      "10                Finnish             fi\n",
      "11               Filipino            fil\n",
      "12                 French             fr\n",
      "13                 Hebrew             he\n",
      "14                  Hindi             hi\n",
      "15              Hungarian             hu\n",
      "16             Indonesian             id\n",
      "17                Italian             it\n",
      "18               Japanese             ja\n",
      "19                 Korean             ko\n",
      "20                  Malay            msa\n",
      "21                  Dutch             nl\n",
      "22              Norwegian             no\n",
      "23                 Polish             pl\n",
      "24             Portuguese             pt\n",
      "25               Romanian             ro\n",
      "26                Russian             ru\n",
      "27                Swedish             sv\n",
      "28                   Thai             th\n",
      "29                Turkish             tr\n",
      "30              Ukrainian             uk\n",
      "31                   Urdu             ur\n",
      "32             Vietnamese             vi\n",
      "33   Chinese (Simplified)          zh-cn\n",
      "34  Chinese (Traditional)          zh-tw\n"
     ]
    }
   ],
   "source": [
    "# what are these languages? get table from url\n",
    "URL = 'https://developer.twitter.com/en/docs/twitter-for-websites/supported-languages'\n",
    "tables = pd.read_html(URL)\n",
    "print(\"There are : \",len(tables),\" tables\")\n",
    "print(tables[0])\n",
    "\n",
    "lang_table = tables[0]"
   ]
  },
  {
   "cell_type": "code",
   "execution_count": 18,
   "metadata": {
    "ExecuteTime": {
     "end_time": "2021-04-02T15:22:53.363407Z",
     "start_time": "2021-04-02T15:22:53.350527Z"
    }
   },
   "outputs": [
    {
     "data": {
      "text/html": [
       "<div>\n",
       "<style scoped>\n",
       "    .dataframe tbody tr th:only-of-type {\n",
       "        vertical-align: middle;\n",
       "    }\n",
       "\n",
       "    .dataframe tbody tr th {\n",
       "        vertical-align: top;\n",
       "    }\n",
       "\n",
       "    .dataframe thead th {\n",
       "        text-align: right;\n",
       "    }\n",
       "</style>\n",
       "<table border=\"1\" class=\"dataframe\">\n",
       "  <thead>\n",
       "    <tr style=\"text-align: right;\">\n",
       "      <th></th>\n",
       "      <th>Name</th>\n",
       "      <th>Language code</th>\n",
       "    </tr>\n",
       "  </thead>\n",
       "  <tbody>\n",
       "    <tr>\n",
       "      <th>0</th>\n",
       "      <td>English</td>\n",
       "      <td>en</td>\n",
       "    </tr>\n",
       "    <tr>\n",
       "      <th>1</th>\n",
       "      <td>Arabic</td>\n",
       "      <td>ar</td>\n",
       "    </tr>\n",
       "    <tr>\n",
       "      <th>2</th>\n",
       "      <td>Bengali</td>\n",
       "      <td>bn</td>\n",
       "    </tr>\n",
       "    <tr>\n",
       "      <th>3</th>\n",
       "      <td>Czech</td>\n",
       "      <td>cs</td>\n",
       "    </tr>\n",
       "    <tr>\n",
       "      <th>4</th>\n",
       "      <td>Danish</td>\n",
       "      <td>da</td>\n",
       "    </tr>\n",
       "    <tr>\n",
       "      <th>5</th>\n",
       "      <td>German</td>\n",
       "      <td>de</td>\n",
       "    </tr>\n",
       "    <tr>\n",
       "      <th>6</th>\n",
       "      <td>Greek</td>\n",
       "      <td>el</td>\n",
       "    </tr>\n",
       "    <tr>\n",
       "      <th>7</th>\n",
       "      <td>Spanish</td>\n",
       "      <td>es</td>\n",
       "    </tr>\n",
       "    <tr>\n",
       "      <th>8</th>\n",
       "      <td>Persian</td>\n",
       "      <td>fa</td>\n",
       "    </tr>\n",
       "    <tr>\n",
       "      <th>9</th>\n",
       "      <td>Finnish</td>\n",
       "      <td>fi</td>\n",
       "    </tr>\n",
       "    <tr>\n",
       "      <th>10</th>\n",
       "      <td>Filipino</td>\n",
       "      <td>fil</td>\n",
       "    </tr>\n",
       "    <tr>\n",
       "      <th>11</th>\n",
       "      <td>French</td>\n",
       "      <td>fr</td>\n",
       "    </tr>\n",
       "    <tr>\n",
       "      <th>12</th>\n",
       "      <td>Hebrew</td>\n",
       "      <td>he</td>\n",
       "    </tr>\n",
       "    <tr>\n",
       "      <th>13</th>\n",
       "      <td>Hindi</td>\n",
       "      <td>hi</td>\n",
       "    </tr>\n",
       "    <tr>\n",
       "      <th>14</th>\n",
       "      <td>Hungarian</td>\n",
       "      <td>hu</td>\n",
       "    </tr>\n",
       "    <tr>\n",
       "      <th>15</th>\n",
       "      <td>Indonesian</td>\n",
       "      <td>id</td>\n",
       "    </tr>\n",
       "    <tr>\n",
       "      <th>16</th>\n",
       "      <td>Italian</td>\n",
       "      <td>it</td>\n",
       "    </tr>\n",
       "    <tr>\n",
       "      <th>17</th>\n",
       "      <td>Japanese</td>\n",
       "      <td>ja</td>\n",
       "    </tr>\n",
       "    <tr>\n",
       "      <th>18</th>\n",
       "      <td>Korean</td>\n",
       "      <td>ko</td>\n",
       "    </tr>\n",
       "    <tr>\n",
       "      <th>19</th>\n",
       "      <td>Malay</td>\n",
       "      <td>msa</td>\n",
       "    </tr>\n",
       "    <tr>\n",
       "      <th>20</th>\n",
       "      <td>Dutch</td>\n",
       "      <td>nl</td>\n",
       "    </tr>\n",
       "    <tr>\n",
       "      <th>21</th>\n",
       "      <td>Norwegian</td>\n",
       "      <td>no</td>\n",
       "    </tr>\n",
       "    <tr>\n",
       "      <th>22</th>\n",
       "      <td>Polish</td>\n",
       "      <td>pl</td>\n",
       "    </tr>\n",
       "    <tr>\n",
       "      <th>23</th>\n",
       "      <td>Portuguese</td>\n",
       "      <td>pt</td>\n",
       "    </tr>\n",
       "    <tr>\n",
       "      <th>24</th>\n",
       "      <td>Romanian</td>\n",
       "      <td>ro</td>\n",
       "    </tr>\n",
       "    <tr>\n",
       "      <th>25</th>\n",
       "      <td>Russian</td>\n",
       "      <td>ru</td>\n",
       "    </tr>\n",
       "    <tr>\n",
       "      <th>26</th>\n",
       "      <td>Swedish</td>\n",
       "      <td>sv</td>\n",
       "    </tr>\n",
       "    <tr>\n",
       "      <th>27</th>\n",
       "      <td>Thai</td>\n",
       "      <td>th</td>\n",
       "    </tr>\n",
       "    <tr>\n",
       "      <th>28</th>\n",
       "      <td>Turkish</td>\n",
       "      <td>tr</td>\n",
       "    </tr>\n",
       "    <tr>\n",
       "      <th>29</th>\n",
       "      <td>Ukrainian</td>\n",
       "      <td>uk</td>\n",
       "    </tr>\n",
       "    <tr>\n",
       "      <th>30</th>\n",
       "      <td>Urdu</td>\n",
       "      <td>ur</td>\n",
       "    </tr>\n",
       "    <tr>\n",
       "      <th>31</th>\n",
       "      <td>Vietnamese</td>\n",
       "      <td>vi</td>\n",
       "    </tr>\n",
       "    <tr>\n",
       "      <th>32</th>\n",
       "      <td>Chinese (Simplified)</td>\n",
       "      <td>zh-cn</td>\n",
       "    </tr>\n",
       "    <tr>\n",
       "      <th>33</th>\n",
       "      <td>Chinese (Traditional)</td>\n",
       "      <td>zh-tw</td>\n",
       "    </tr>\n",
       "  </tbody>\n",
       "</table>\n",
       "</div>"
      ],
      "text/plain": [
       "0                    Name Language code\n",
       "0                 English            en\n",
       "1                  Arabic            ar\n",
       "2                 Bengali            bn\n",
       "3                   Czech            cs\n",
       "4                  Danish            da\n",
       "5                  German            de\n",
       "6                   Greek            el\n",
       "7                 Spanish            es\n",
       "8                 Persian            fa\n",
       "9                 Finnish            fi\n",
       "10               Filipino           fil\n",
       "11                 French            fr\n",
       "12                 Hebrew            he\n",
       "13                  Hindi            hi\n",
       "14              Hungarian            hu\n",
       "15             Indonesian            id\n",
       "16                Italian            it\n",
       "17               Japanese            ja\n",
       "18                 Korean            ko\n",
       "19                  Malay           msa\n",
       "20                  Dutch            nl\n",
       "21              Norwegian            no\n",
       "22                 Polish            pl\n",
       "23             Portuguese            pt\n",
       "24               Romanian            ro\n",
       "25                Russian            ru\n",
       "26                Swedish            sv\n",
       "27                   Thai            th\n",
       "28                Turkish            tr\n",
       "29              Ukrainian            uk\n",
       "30                   Urdu            ur\n",
       "31             Vietnamese            vi\n",
       "32   Chinese (Simplified)         zh-cn\n",
       "33  Chinese (Traditional)         zh-tw"
      ]
     },
     "execution_count": 18,
     "metadata": {},
     "output_type": "execute_result"
    }
   ],
   "source": [
    "# lang_table\n",
    "header_row = 0\n",
    "lang_table.columns = lang_table.iloc[header_row]\n",
    "lang_table = lang_table.drop(header_row)\n",
    "lang_table.reset_index(drop= True, inplace= True)\n",
    "lang_table.replace('English (default)', 'English', inplace= True)\n",
    "lang_table"
   ]
  },
  {
   "cell_type": "code",
   "execution_count": 19,
   "metadata": {
    "ExecuteTime": {
     "end_time": "2021-04-02T15:25:42.447826Z",
     "start_time": "2021-04-02T15:25:42.443338Z"
    }
   },
   "outputs": [],
   "source": [
    "lang_table.to_csv('data/languages.csv', index= False)"
   ]
  },
  {
   "cell_type": "code",
   "execution_count": 25,
   "metadata": {
    "ExecuteTime": {
     "end_time": "2021-04-02T15:46:33.982159Z",
     "start_time": "2021-04-02T15:46:33.972596Z"
    }
   },
   "outputs": [],
   "source": [
    "duped = df[df.duplicated(subset= 'tweets')]"
   ]
  },
  {
   "cell_type": "code",
   "execution_count": 34,
   "metadata": {
    "ExecuteTime": {
     "end_time": "2021-04-02T15:49:49.571048Z",
     "start_time": "2021-04-02T15:49:49.568338Z"
    }
   },
   "outputs": [],
   "source": [
    "pd.set_option('display.max_colwidth', None)"
   ]
  },
  {
   "cell_type": "code",
   "execution_count": 35,
   "metadata": {
    "ExecuteTime": {
     "end_time": "2021-04-02T15:49:50.613245Z",
     "start_time": "2021-04-02T15:49:50.604534Z"
    }
   },
   "outputs": [
    {
     "data": {
      "text/html": [
       "<div>\n",
       "<style scoped>\n",
       "    .dataframe tbody tr th:only-of-type {\n",
       "        vertical-align: middle;\n",
       "    }\n",
       "\n",
       "    .dataframe tbody tr th {\n",
       "        vertical-align: top;\n",
       "    }\n",
       "\n",
       "    .dataframe thead th {\n",
       "        text-align: right;\n",
       "    }\n",
       "</style>\n",
       "<table border=\"1\" class=\"dataframe\">\n",
       "  <thead>\n",
       "    <tr style=\"text-align: right;\">\n",
       "      <th></th>\n",
       "      <th>time</th>\n",
       "      <th>language</th>\n",
       "      <th>tweets</th>\n",
       "    </tr>\n",
       "  </thead>\n",
       "  <tbody>\n",
       "    <tr>\n",
       "      <th>812</th>\n",
       "      <td>2021-04-01 21:33:38</td>\n",
       "      <td>en</td>\n",
       "      <td>⚠By scheduling your COVID-19 vaccine appointment you are confirming that you are eligible for a COVID-19 vaccine and that you are at least 16 years of age⚠️\\nThis event is for anyone eligible in Phase 1A Tiers 1 &amp;amp; 2, Phase 1B Tiers 1, 2, 3, and 4.</td>\n",
       "    </tr>\n",
       "    <tr>\n",
       "      <th>905</th>\n",
       "      <td>2021-04-01 21:30:59</td>\n",
       "      <td>en</td>\n",
       "      <td>Having trouble getting an appointment for the COVID vaccine? If you're willing to drive to Salisbury, starting tomorrow any eligible Marylander will be able to get the shot without an appointment. @GovLarryHogan says they plan to add walk-up lines at other mass vaccination sites</td>\n",
       "    </tr>\n",
       "    <tr>\n",
       "      <th>1281</th>\n",
       "      <td>2021-04-01 21:21:57</td>\n",
       "      <td>en</td>\n",
       "      <td>@annezinkmd Oops. \\n\\nI'm sure they caught any previous mix-ups...it's not like J&amp;amp;J ever lied about product ingredients before....what's that? \\n\\nCancer causing asbestos in powder for decades? They knew all along? 4 Billion $ settlement? Oh. Welllll...\\n\\nhttps://t.co/CYUDPtLCn3</td>\n",
       "    </tr>\n",
       "    <tr>\n",
       "      <th>2502</th>\n",
       "      <td>2021-04-01 20:50:38</td>\n",
       "      <td>en</td>\n",
       "      <td>@GovParsonMO 57 we’ve no need to thank for\\nhis vaccine distribution stank.\\nLengthy drives he endorsed;\\ncities underresourced. No state-\\nwide mask mandate? Still his plank!\\nPublic health Parson failed to police;\\nCOVID cases he caused to increase.\\n\\n@COVIDOversight 👇🏼 @VP\\nhttps://t.co/DPzYEbX1Es</td>\n",
       "    </tr>\n",
       "    <tr>\n",
       "      <th>2506</th>\n",
       "      <td>2021-04-01 20:50:27</td>\n",
       "      <td>en</td>\n",
       "      <td>@GovParsonMO 57 we’ve no need to thank for\\nhis vaccine distribution stank.\\nLengthy drives he endorsed;\\ncities underresourced. No state-\\nwide mask mandate? Still his plank!\\nPublic health Parson failed to police;\\nCOVID cases he caused to increase.\\n\\n@COVIDOversight 👇🏼 @VP\\nhttps://t.co/DPzYEbX1Es</td>\n",
       "    </tr>\n",
       "    <tr>\n",
       "      <th>2515</th>\n",
       "      <td>2021-04-01 20:50:14</td>\n",
       "      <td>en</td>\n",
       "      <td>@GovParsonMO 57 we’ve no need to thank for\\nhis vaccine distribution stank.\\nLengthy drives he endorsed;\\ncities underresourced. No state-\\nwide mask mandate? Still his plank!\\nPublic health Parson failed to police;\\nCOVID cases he caused to increase.\\n\\n@COVIDOversight 👇🏼 @VP\\nhttps://t.co/DPzYEbX1Es</td>\n",
       "    </tr>\n",
       "    <tr>\n",
       "      <th>2523</th>\n",
       "      <td>2021-04-01 20:50:05</td>\n",
       "      <td>en</td>\n",
       "      <td>@GovParsonMO 57 we’ve no need to thank for\\nhis vaccine distribution stank.\\nLengthy drives he endorsed;\\ncities underresourced. No state-\\nwide mask mandate? Still his plank!\\nPublic health Parson failed to police;\\nCOVID cases he caused to increase.\\n\\n@COVIDOversight 👇🏼 @VP\\nhttps://t.co/DPzYEbX1Es</td>\n",
       "    </tr>\n",
       "    <tr>\n",
       "      <th>2535</th>\n",
       "      <td>2021-04-01 20:49:51</td>\n",
       "      <td>en</td>\n",
       "      <td>hopefully getting discharged today! and starting therapy, new medicine and im getting a covid vaccine referral 💕</td>\n",
       "    </tr>\n",
       "    <tr>\n",
       "      <th>3464</th>\n",
       "      <td>2021-04-01 20:26:27</td>\n",
       "      <td>en</td>\n",
       "      <td>Information about COVID-19 vaccine eligibility and availability can change quickly. Please always check with the health unit or the health organization before you try to book an appointment.</td>\n",
       "    </tr>\n",
       "    <tr>\n",
       "      <th>4455</th>\n",
       "      <td>2021-04-01 20:00:14</td>\n",
       "      <td>en</td>\n",
       "      <td>For more information on COVID-19 vaccine clinics please visit: https://t.co/hbF0NyDM5a</td>\n",
       "    </tr>\n",
       "    <tr>\n",
       "      <th>6274</th>\n",
       "      <td>2021-04-02 14:20:03</td>\n",
       "      <td>en</td>\n",
       "      <td>30 Million People In UK Receive First Dose Of Coronavirus (Covid-19) Vaccine #covid19 #vaccines #coronavirus\\nhttps://t.co/xx9iqkj3al</td>\n",
       "    </tr>\n",
       "    <tr>\n",
       "      <th>6278</th>\n",
       "      <td>2021-04-02 14:20:02</td>\n",
       "      <td>en</td>\n",
       "      <td>30 Million People In UK Receive First Dose Of Coronavirus (Covid-19) Vaccine #covid19 #vaccines #coronavirus\\nhttps://t.co/XVd2hszNNh</td>\n",
       "    </tr>\n",
       "    <tr>\n",
       "      <th>6411</th>\n",
       "      <td>2021-04-02 14:16:54</td>\n",
       "      <td>en</td>\n",
       "      <td>The Government of Kenya has banned the private sector from importation and distribution of the Covid-19 Vaccine.</td>\n",
       "    </tr>\n",
       "    <tr>\n",
       "      <th>6958</th>\n",
       "      <td>2021-04-02 14:02:30</td>\n",
       "      <td>en</td>\n",
       "      <td>@CTurnerFCDO This is hilarious. So we export the UK Strain, possibly the Kent variant, to Pakistan &amp;amp; then we penalise them for the spread. India doesn't count coz they are vaccine manufacturers hoarding supply for their own out of control covid infections. Neither France, Germany, USA, ETC.</td>\n",
       "    </tr>\n",
       "    <tr>\n",
       "      <th>7453</th>\n",
       "      <td>2021-04-02 13:49:53</td>\n",
       "      <td>en</td>\n",
       "      <td>Just got my first COVID vaccine</td>\n",
       "    </tr>\n",
       "    <tr>\n",
       "      <th>8198</th>\n",
       "      <td>2021-04-02 13:30:00</td>\n",
       "      <td>en</td>\n",
       "      <td>Ohio college students can get the COVID-19 vaccine on campus starting next week, while local businesses can begin hosting vaccination clinics for their employees. https://t.co/i4ivYSERIz</td>\n",
       "    </tr>\n",
       "  </tbody>\n",
       "</table>\n",
       "</div>"
      ],
      "text/plain": [
       "                     time language  \\\n",
       "812   2021-04-01 21:33:38       en   \n",
       "905   2021-04-01 21:30:59       en   \n",
       "1281  2021-04-01 21:21:57       en   \n",
       "2502  2021-04-01 20:50:38       en   \n",
       "2506  2021-04-01 20:50:27       en   \n",
       "2515  2021-04-01 20:50:14       en   \n",
       "2523  2021-04-01 20:50:05       en   \n",
       "2535  2021-04-01 20:49:51       en   \n",
       "3464  2021-04-01 20:26:27       en   \n",
       "4455  2021-04-01 20:00:14       en   \n",
       "6274  2021-04-02 14:20:03       en   \n",
       "6278  2021-04-02 14:20:02       en   \n",
       "6411  2021-04-02 14:16:54       en   \n",
       "6958  2021-04-02 14:02:30       en   \n",
       "7453  2021-04-02 13:49:53       en   \n",
       "8198  2021-04-02 13:30:00       en   \n",
       "\n",
       "                                                                                                                                                                                                                                                                                                              tweets  \n",
       "812                                                      ⚠By scheduling your COVID-19 vaccine appointment you are confirming that you are eligible for a COVID-19 vaccine and that you are at least 16 years of age⚠️\\nThis event is for anyone eligible in Phase 1A Tiers 1 &amp; 2, Phase 1B Tiers 1, 2, 3, and 4.  \n",
       "905                          Having trouble getting an appointment for the COVID vaccine? If you're willing to drive to Salisbury, starting tomorrow any eligible Marylander will be able to get the shot without an appointment. @GovLarryHogan says they plan to add walk-up lines at other mass vaccination sites  \n",
       "1281                    @annezinkmd Oops. \\n\\nI'm sure they caught any previous mix-ups...it's not like J&amp;J ever lied about product ingredients before....what's that? \\n\\nCancer causing asbestos in powder for decades? They knew all along? 4 Billion $ settlement? Oh. Welllll...\\n\\nhttps://t.co/CYUDPtLCn3  \n",
       "2502  @GovParsonMO 57 we’ve no need to thank for\\nhis vaccine distribution stank.\\nLengthy drives he endorsed;\\ncities underresourced. No state-\\nwide mask mandate? Still his plank!\\nPublic health Parson failed to police;\\nCOVID cases he caused to increase.\\n\\n@COVIDOversight 👇🏼 @VP\\nhttps://t.co/DPzYEbX1Es  \n",
       "2506  @GovParsonMO 57 we’ve no need to thank for\\nhis vaccine distribution stank.\\nLengthy drives he endorsed;\\ncities underresourced. No state-\\nwide mask mandate? Still his plank!\\nPublic health Parson failed to police;\\nCOVID cases he caused to increase.\\n\\n@COVIDOversight 👇🏼 @VP\\nhttps://t.co/DPzYEbX1Es  \n",
       "2515  @GovParsonMO 57 we’ve no need to thank for\\nhis vaccine distribution stank.\\nLengthy drives he endorsed;\\ncities underresourced. No state-\\nwide mask mandate? Still his plank!\\nPublic health Parson failed to police;\\nCOVID cases he caused to increase.\\n\\n@COVIDOversight 👇🏼 @VP\\nhttps://t.co/DPzYEbX1Es  \n",
       "2523  @GovParsonMO 57 we’ve no need to thank for\\nhis vaccine distribution stank.\\nLengthy drives he endorsed;\\ncities underresourced. No state-\\nwide mask mandate? Still his plank!\\nPublic health Parson failed to police;\\nCOVID cases he caused to increase.\\n\\n@COVIDOversight 👇🏼 @VP\\nhttps://t.co/DPzYEbX1Es  \n",
       "2535                                                                                                                                                                                                hopefully getting discharged today! and starting therapy, new medicine and im getting a covid vaccine referral 💕  \n",
       "3464                                                                                                                  Information about COVID-19 vaccine eligibility and availability can change quickly. Please always check with the health unit or the health organization before you try to book an appointment.  \n",
       "4455                                                                                                                                                                                                                          For more information on COVID-19 vaccine clinics please visit: https://t.co/hbF0NyDM5a  \n",
       "6274                                                                                                                                                                           30 Million People In UK Receive First Dose Of Coronavirus (Covid-19) Vaccine #covid19 #vaccines #coronavirus\\nhttps://t.co/xx9iqkj3al  \n",
       "6278                                                                                                                                                                           30 Million People In UK Receive First Dose Of Coronavirus (Covid-19) Vaccine #covid19 #vaccines #coronavirus\\nhttps://t.co/XVd2hszNNh  \n",
       "6411                                                                                                                                                                                                The Government of Kenya has banned the private sector from importation and distribution of the Covid-19 Vaccine.  \n",
       "6958         @CTurnerFCDO This is hilarious. So we export the UK Strain, possibly the Kent variant, to Pakistan &amp; then we penalise them for the spread. India doesn't count coz they are vaccine manufacturers hoarding supply for their own out of control covid infections. Neither France, Germany, USA, ETC.  \n",
       "7453                                                                                                                                                                                                                                                                                 Just got my first COVID vaccine  \n",
       "8198                                                                                                                      Ohio college students can get the COVID-19 vaccine on campus starting next week, while local businesses can begin hosting vaccination clinics for their employees. https://t.co/i4ivYSERIz  "
      ]
     },
     "execution_count": 35,
     "metadata": {},
     "output_type": "execute_result"
    }
   ],
   "source": [
    "duped"
   ]
  },
  {
   "cell_type": "code",
   "execution_count": 36,
   "metadata": {
    "ExecuteTime": {
     "end_time": "2021-04-02T15:53:38.426807Z",
     "start_time": "2021-04-02T15:53:38.417025Z"
    }
   },
   "outputs": [],
   "source": [
    "# remove duplicates\n",
    "df.drop_duplicates(subset= 'tweets', keep= 'first', inplace= True)\n",
    "df.reset_index(drop= True, inplace= True)\n",
    "df.tweets.duplicated().sum()"
   ]
  },
  {
   "cell_type": "code",
   "execution_count": 38,
   "metadata": {
    "ExecuteTime": {
     "end_time": "2021-04-02T15:54:52.907824Z",
     "start_time": "2021-04-02T15:54:52.902869Z"
    }
   },
   "outputs": [
    {
     "data": {
      "text/plain": [
       "0"
      ]
     },
     "execution_count": 38,
     "metadata": {},
     "output_type": "execute_result"
    }
   ],
   "source": [
    "df.tweets.duplicated().sum()"
   ]
  },
  {
   "cell_type": "code",
   "execution_count": 41,
   "metadata": {
    "ExecuteTime": {
     "end_time": "2021-04-02T16:01:18.156092Z",
     "start_time": "2021-04-02T16:01:18.145465Z"
    }
   },
   "outputs": [
    {
     "data": {
      "text/html": [
       "<div>\n",
       "<style scoped>\n",
       "    .dataframe tbody tr th:only-of-type {\n",
       "        vertical-align: middle;\n",
       "    }\n",
       "\n",
       "    .dataframe tbody tr th {\n",
       "        vertical-align: top;\n",
       "    }\n",
       "\n",
       "    .dataframe thead th {\n",
       "        text-align: right;\n",
       "    }\n",
       "</style>\n",
       "<table border=\"1\" class=\"dataframe\">\n",
       "  <thead>\n",
       "    <tr style=\"text-align: right;\">\n",
       "      <th></th>\n",
       "      <th>time</th>\n",
       "      <th>language</th>\n",
       "      <th>tweets</th>\n",
       "    </tr>\n",
       "  </thead>\n",
       "  <tbody>\n",
       "    <tr>\n",
       "      <th>1</th>\n",
       "      <td>2021-04-01 21:58:44</td>\n",
       "      <td>und</td>\n",
       "      <td>@and_kell @ds13_manon https://t.co/sKnTctMKcF</td>\n",
       "    </tr>\n",
       "    <tr>\n",
       "      <th>19</th>\n",
       "      <td>2021-04-01 21:58:14</td>\n",
       "      <td>und</td>\n",
       "      <td>https://t.co/j2braq4wFx</td>\n",
       "    </tr>\n",
       "    <tr>\n",
       "      <th>29</th>\n",
       "      <td>2021-04-01 21:57:58</td>\n",
       "      <td>und</td>\n",
       "      <td>@Pavlos80322302 @ds13_manon https://t.co/sKnTctMKcF</td>\n",
       "    </tr>\n",
       "    <tr>\n",
       "      <th>79</th>\n",
       "      <td>2021-04-01 21:56:21</td>\n",
       "      <td>und</td>\n",
       "      <td>👍🏼👍🏼👍🏼👍🏼 https://t.co/m68KkEqpOe</td>\n",
       "    </tr>\n",
       "    <tr>\n",
       "      <th>97</th>\n",
       "      <td>2021-04-01 21:55:44</td>\n",
       "      <td>und</td>\n",
       "      <td>https://t.co/Stomi0I13k</td>\n",
       "    </tr>\n",
       "    <tr>\n",
       "      <th>...</th>\n",
       "      <td>...</td>\n",
       "      <td>...</td>\n",
       "      <td>...</td>\n",
       "    </tr>\n",
       "    <tr>\n",
       "      <th>10146</th>\n",
       "      <td>2021-04-02 12:34:24</td>\n",
       "      <td>und</td>\n",
       "      <td>@JordanSchachtel https://t.co/SgbunjBR8p</td>\n",
       "    </tr>\n",
       "    <tr>\n",
       "      <th>10156</th>\n",
       "      <td>2021-04-02 12:34:01</td>\n",
       "      <td>und</td>\n",
       "      <td>@NaddiiaB @Flobga @Conseil_Etat https://t.co/ca6spF82qm</td>\n",
       "    </tr>\n",
       "    <tr>\n",
       "      <th>10184</th>\n",
       "      <td>2021-04-02 12:33:06</td>\n",
       "      <td>und</td>\n",
       "      <td>@annika1021 \\n\\nhttps://t.co/oN4rAXUfCc</td>\n",
       "    </tr>\n",
       "    <tr>\n",
       "      <th>10207</th>\n",
       "      <td>2021-04-02 12:32:21</td>\n",
       "      <td>und</td>\n",
       "      <td>https://t.co/6OsrUyOdNi</td>\n",
       "    </tr>\n",
       "    <tr>\n",
       "      <th>10268</th>\n",
       "      <td>2021-04-02 12:30:19</td>\n",
       "      <td>und</td>\n",
       "      <td>https://t.co/EJqUgZK6fI</td>\n",
       "    </tr>\n",
       "  </tbody>\n",
       "</table>\n",
       "<p>336 rows × 3 columns</p>\n",
       "</div>"
      ],
      "text/plain": [
       "                      time language  \\\n",
       "1      2021-04-01 21:58:44      und   \n",
       "19     2021-04-01 21:58:14      und   \n",
       "29     2021-04-01 21:57:58      und   \n",
       "79     2021-04-01 21:56:21      und   \n",
       "97     2021-04-01 21:55:44      und   \n",
       "...                    ...      ...   \n",
       "10146  2021-04-02 12:34:24      und   \n",
       "10156  2021-04-02 12:34:01      und   \n",
       "10184  2021-04-02 12:33:06      und   \n",
       "10207  2021-04-02 12:32:21      und   \n",
       "10268  2021-04-02 12:30:19      und   \n",
       "\n",
       "                                                        tweets  \n",
       "1                @and_kell @ds13_manon https://t.co/sKnTctMKcF  \n",
       "19                                     https://t.co/j2braq4wFx  \n",
       "29         @Pavlos80322302 @ds13_manon https://t.co/sKnTctMKcF  \n",
       "79                            👍🏼👍🏼👍🏼👍🏼 https://t.co/m68KkEqpOe  \n",
       "97                                     https://t.co/Stomi0I13k  \n",
       "...                                                        ...  \n",
       "10146                 @JordanSchachtel https://t.co/SgbunjBR8p  \n",
       "10156  @NaddiiaB @Flobga @Conseil_Etat https://t.co/ca6spF82qm  \n",
       "10184                  @annika1021 \\n\\nhttps://t.co/oN4rAXUfCc  \n",
       "10207                                  https://t.co/6OsrUyOdNi  \n",
       "10268                                  https://t.co/EJqUgZK6fI  \n",
       "\n",
       "[336 rows x 3 columns]"
      ]
     },
     "execution_count": 41,
     "metadata": {},
     "output_type": "execute_result"
    }
   ],
   "source": [
    "df[df['language'] == 'und']"
   ]
  },
  {
   "cell_type": "code",
   "execution_count": 42,
   "metadata": {
    "ExecuteTime": {
     "end_time": "2021-04-02T16:03:23.631400Z",
     "start_time": "2021-04-02T16:03:23.626943Z"
    }
   },
   "outputs": [],
   "source": [
    "df = df[df['language'] != 'und']"
   ]
  },
  {
   "cell_type": "code",
   "execution_count": 43,
   "metadata": {
    "ExecuteTime": {
     "end_time": "2021-04-02T16:03:28.507886Z",
     "start_time": "2021-04-02T16:03:28.497926Z"
    }
   },
   "outputs": [
    {
     "name": "stdout",
     "output_type": "stream",
     "text": [
      "<class 'pandas.core.frame.DataFrame'>\n",
      "Int64Index: 9948 entries, 0 to 10283\n",
      "Data columns (total 3 columns):\n",
      " #   Column    Non-Null Count  Dtype \n",
      "---  ------    --------------  ----- \n",
      " 0   time      9948 non-null   object\n",
      " 1   language  9948 non-null   object\n",
      " 2   tweets    9948 non-null   object\n",
      "dtypes: object(3)\n",
      "memory usage: 310.9+ KB\n"
     ]
    }
   ],
   "source": [
    "df.info()"
   ]
  },
  {
   "cell_type": "code",
   "execution_count": 50,
   "metadata": {
    "ExecuteTime": {
     "end_time": "2021-04-02T16:20:47.381173Z",
     "start_time": "2021-04-02T16:20:47.377561Z"
    }
   },
   "outputs": [
    {
     "data": {
      "text/plain": [
       "Index(['Name', 'Language code'], dtype='object', name=0)"
      ]
     },
     "execution_count": 50,
     "metadata": {},
     "output_type": "execute_result"
    }
   ],
   "source": [
    "lang_table.columns"
   ]
  },
  {
   "cell_type": "code",
   "execution_count": 53,
   "metadata": {
    "ExecuteTime": {
     "end_time": "2021-04-02T16:22:12.558201Z",
     "start_time": "2021-04-02T16:22:12.548919Z"
    }
   },
   "outputs": [
    {
     "data": {
      "text/html": [
       "<div>\n",
       "<style scoped>\n",
       "    .dataframe tbody tr th:only-of-type {\n",
       "        vertical-align: middle;\n",
       "    }\n",
       "\n",
       "    .dataframe tbody tr th {\n",
       "        vertical-align: top;\n",
       "    }\n",
       "\n",
       "    .dataframe thead th {\n",
       "        text-align: right;\n",
       "    }\n",
       "</style>\n",
       "<table border=\"1\" class=\"dataframe\">\n",
       "  <thead>\n",
       "    <tr style=\"text-align: right;\">\n",
       "      <th></th>\n",
       "      <th>time</th>\n",
       "      <th>language</th>\n",
       "      <th>tweets</th>\n",
       "    </tr>\n",
       "  </thead>\n",
       "  <tbody>\n",
       "    <tr>\n",
       "      <th>0</th>\n",
       "      <td>2021-04-01 21:58:45</td>\n",
       "      <td>en</td>\n",
       "      <td>Concerning the use of aborted baby tissue in the J&amp;amp;J Covid vaccine:\\n\\n“The J&amp;amp;J vaccine has sparked debate among some religious communities because it was developed from stem cells obtained during two abortions decades ago.”\\n\\nEvil is still evil, even if it was decades ago.</td>\n",
       "    </tr>\n",
       "    <tr>\n",
       "      <th>2</th>\n",
       "      <td>2021-04-01 21:58:43</td>\n",
       "      <td>pt</td>\n",
       "      <td>Estão vacinando 3 MILHÕES de pessoas por dia nesse país. Não é possível uma coisa dessa. https://t.co/iNP7RvWsat</td>\n",
       "    </tr>\n",
       "    <tr>\n",
       "      <th>3</th>\n",
       "      <td>2021-04-01 21:58:42</td>\n",
       "      <td>en</td>\n",
       "      <td>imagine an animal getting the covid-19 vaccine b4 a human</td>\n",
       "    </tr>\n",
       "    <tr>\n",
       "      <th>4</th>\n",
       "      <td>2021-04-01 21:58:40</td>\n",
       "      <td>en</td>\n",
       "      <td>Definition of a microstate: https://t.co/8N0R8Mhl73\\n\\nSource of vaccine data: https://t.co/0RQFJPTrZZ</td>\n",
       "    </tr>\n",
       "    <tr>\n",
       "      <th>5</th>\n",
       "      <td>2021-04-01 21:58:33</td>\n",
       "      <td>en</td>\n",
       "      <td>If I’ve Had COVID-19, Do I Still Need Two Doses of Vaccine? https://t.co/08AiBgfEHQ</td>\n",
       "    </tr>\n",
       "    <tr>\n",
       "      <th>...</th>\n",
       "      <td>...</td>\n",
       "      <td>...</td>\n",
       "      <td>...</td>\n",
       "    </tr>\n",
       "    <tr>\n",
       "      <th>10279</th>\n",
       "      <td>2021-04-02 12:30:10</td>\n",
       "      <td>en</td>\n",
       "      <td>@eddwilson A vaccine that protects and prevents the spread of infection such as smallpox has been certificated to allow travel to infected areas for years. \\nCovid vaccines only mitigate or reduce risk and do not prevent onward infection so suggesting 'passports' is a bit disingenuous</td>\n",
       "    </tr>\n",
       "    <tr>\n",
       "      <th>10280</th>\n",
       "      <td>2021-04-02 12:30:10</td>\n",
       "      <td>en</td>\n",
       "      <td>Johnson &amp;amp; Johnson to begin testing COVID-19 vaccine on younger teens https://t.co/lzONKVTVB3</td>\n",
       "    </tr>\n",
       "    <tr>\n",
       "      <th>10281</th>\n",
       "      <td>2021-04-02 12:30:10</td>\n",
       "      <td>en</td>\n",
       "      <td>The U.S. drug regulator gave Moderna Inc clearance to speed up output of its COVID-19 vaccine by letting it fill a single vial with up to 15 doses, with the United States banking on rapid immunisation to stem the spread of the deadly virus.​ https://t.co/rqtCFCEegV</td>\n",
       "    </tr>\n",
       "    <tr>\n",
       "      <th>10282</th>\n",
       "      <td>2021-04-02 12:30:09</td>\n",
       "      <td>en</td>\n",
       "      <td>We seem to be becoming a dictator country.\\n\\nHere's how you can be forced to get the Covid vaccine in the U.S. https://t.co/mArWOFNBHu</td>\n",
       "    </tr>\n",
       "    <tr>\n",
       "      <th>10283</th>\n",
       "      <td>2021-04-02 12:30:08</td>\n",
       "      <td>en</td>\n",
       "      <td>In the @washingtonpost, @DrewAltman spells out how #COVID19 vaccination can be simplified to ensure that the public’s rising confidence in the vaccine isn’t thwarted by frustrating and sometimes dysfunctional websites. https://t.co/tYNJ8VsXSt https://t.co/gZK1c6rKiU</td>\n",
       "    </tr>\n",
       "  </tbody>\n",
       "</table>\n",
       "<p>9948 rows × 3 columns</p>\n",
       "</div>"
      ],
      "text/plain": [
       "                      time language  \\\n",
       "0      2021-04-01 21:58:45       en   \n",
       "2      2021-04-01 21:58:43       pt   \n",
       "3      2021-04-01 21:58:42       en   \n",
       "4      2021-04-01 21:58:40       en   \n",
       "5      2021-04-01 21:58:33       en   \n",
       "...                    ...      ...   \n",
       "10279  2021-04-02 12:30:10       en   \n",
       "10280  2021-04-02 12:30:10       en   \n",
       "10281  2021-04-02 12:30:10       en   \n",
       "10282  2021-04-02 12:30:09       en   \n",
       "10283  2021-04-02 12:30:08       en   \n",
       "\n",
       "                                                                                                                                                                                                                                                                                              tweets  \n",
       "0        Concerning the use of aborted baby tissue in the J&amp;J Covid vaccine:\\n\\n“The J&amp;J vaccine has sparked debate among some religious communities because it was developed from stem cells obtained during two abortions decades ago.”\\n\\nEvil is still evil, even if it was decades ago.  \n",
       "2                                                                                                                                                                                   Estão vacinando 3 MILHÕES de pessoas por dia nesse país. Não é possível uma coisa dessa. https://t.co/iNP7RvWsat  \n",
       "3                                                                                                                                                                                                                                          imagine an animal getting the covid-19 vaccine b4 a human  \n",
       "4                                                                                                                                                                                             Definition of a microstate: https://t.co/8N0R8Mhl73\\n\\nSource of vaccine data: https://t.co/0RQFJPTrZZ  \n",
       "5                                                                                                                                                                                                                If I’ve Had COVID-19, Do I Still Need Two Doses of Vaccine? https://t.co/08AiBgfEHQ  \n",
       "...                                                                                                                                                                                                                                                                                              ...  \n",
       "10279  @eddwilson A vaccine that protects and prevents the spread of infection such as smallpox has been certificated to allow travel to infected areas for years. \\nCovid vaccines only mitigate or reduce risk and do not prevent onward infection so suggesting 'passports' is a bit disingenuous  \n",
       "10280                                                                                                                                                                                               Johnson &amp; Johnson to begin testing COVID-19 vaccine on younger teens https://t.co/lzONKVTVB3  \n",
       "10281                      The U.S. drug regulator gave Moderna Inc clearance to speed up output of its COVID-19 vaccine by letting it fill a single vial with up to 15 doses, with the United States banking on rapid immunisation to stem the spread of the deadly virus.​ https://t.co/rqtCFCEegV  \n",
       "10282                                                                                                                                                        We seem to be becoming a dictator country.\\n\\nHere's how you can be forced to get the Covid vaccine in the U.S. https://t.co/mArWOFNBHu  \n",
       "10283                     In the @washingtonpost, @DrewAltman spells out how #COVID19 vaccination can be simplified to ensure that the public’s rising confidence in the vaccine isn’t thwarted by frustrating and sometimes dysfunctional websites. https://t.co/tYNJ8VsXSt https://t.co/gZK1c6rKiU  \n",
       "\n",
       "[9948 rows x 3 columns]"
      ]
     },
     "execution_count": 53,
     "metadata": {},
     "output_type": "execute_result"
    }
   ],
   "source": [
    "df"
   ]
  },
  {
   "cell_type": "code",
   "execution_count": 70,
   "metadata": {
    "ExecuteTime": {
     "end_time": "2021-04-02T16:40:29.678460Z",
     "start_time": "2021-04-02T16:40:29.661836Z"
    }
   },
   "outputs": [
    {
     "name": "stdout",
     "output_type": "stream",
     "text": [
      "<class 'pandas.core.frame.DataFrame'>\n",
      "Int64Index: 9895 entries, 0 to 9894\n",
      "Data columns (total 5 columns):\n",
      " #   Column         Non-Null Count  Dtype \n",
      "---  ------         --------------  ----- \n",
      " 0   time           9895 non-null   object\n",
      " 1   language       9895 non-null   object\n",
      " 2   tweets         9895 non-null   object\n",
      " 3   Name           9895 non-null   object\n",
      " 4   Language code  9895 non-null   object\n",
      "dtypes: object(5)\n",
      "memory usage: 463.8+ KB\n"
     ]
    }
   ],
   "source": [
    "df2 = df.merge(lang_table, how= 'inner', left_on= 'language', right_on= 'Language code')\n",
    "df2.info()"
   ]
  },
  {
   "cell_type": "code",
   "execution_count": 71,
   "metadata": {
    "ExecuteTime": {
     "end_time": "2021-04-02T16:40:31.892645Z",
     "start_time": "2021-04-02T16:40:31.880114Z"
    }
   },
   "outputs": [
    {
     "data": {
      "text/html": [
       "<div>\n",
       "<style scoped>\n",
       "    .dataframe tbody tr th:only-of-type {\n",
       "        vertical-align: middle;\n",
       "    }\n",
       "\n",
       "    .dataframe tbody tr th {\n",
       "        vertical-align: top;\n",
       "    }\n",
       "\n",
       "    .dataframe thead th {\n",
       "        text-align: right;\n",
       "    }\n",
       "</style>\n",
       "<table border=\"1\" class=\"dataframe\">\n",
       "  <thead>\n",
       "    <tr style=\"text-align: right;\">\n",
       "      <th></th>\n",
       "      <th>time</th>\n",
       "      <th>tweets</th>\n",
       "      <th>language</th>\n",
       "    </tr>\n",
       "  </thead>\n",
       "  <tbody>\n",
       "    <tr>\n",
       "      <th>0</th>\n",
       "      <td>2021-04-01 21:58:45</td>\n",
       "      <td>Concerning the use of aborted baby tissue in the J&amp;amp;J Covid vaccine:\\n\\n“The J&amp;amp;J vaccine has sparked debate among some religious communities because it was developed from stem cells obtained during two abortions decades ago.”\\n\\nEvil is still evil, even if it was decades ago.</td>\n",
       "      <td>English</td>\n",
       "    </tr>\n",
       "    <tr>\n",
       "      <th>1</th>\n",
       "      <td>2021-04-01 21:58:42</td>\n",
       "      <td>imagine an animal getting the covid-19 vaccine b4 a human</td>\n",
       "      <td>English</td>\n",
       "    </tr>\n",
       "    <tr>\n",
       "      <th>2</th>\n",
       "      <td>2021-04-01 21:58:40</td>\n",
       "      <td>Definition of a microstate: https://t.co/8N0R8Mhl73\\n\\nSource of vaccine data: https://t.co/0RQFJPTrZZ</td>\n",
       "      <td>English</td>\n",
       "    </tr>\n",
       "    <tr>\n",
       "      <th>3</th>\n",
       "      <td>2021-04-01 21:58:33</td>\n",
       "      <td>If I’ve Had COVID-19, Do I Still Need Two Doses of Vaccine? https://t.co/08AiBgfEHQ</td>\n",
       "      <td>English</td>\n",
       "    </tr>\n",
       "    <tr>\n",
       "      <th>4</th>\n",
       "      <td>2021-04-01 21:58:31</td>\n",
       "      <td>My epidural was delayed again, somehow my covid vaccine does not interact well with an epidural. SOOOOO I should be getting it on my birthday. Yay. \\n\\n So far I have 1-2 dr appointments a week this entire month.\\n  \\nOn the upside they've given me proper muscle relaxers this time.</td>\n",
       "      <td>English</td>\n",
       "    </tr>\n",
       "    <tr>\n",
       "      <th>...</th>\n",
       "      <td>...</td>\n",
       "      <td>...</td>\n",
       "      <td>...</td>\n",
       "    </tr>\n",
       "    <tr>\n",
       "      <th>9890</th>\n",
       "      <td>2021-04-02 14:17:47</td>\n",
       "      <td>عدالتی حکم کے برخلاف، نجی اسپتال روسی ویکسین کی من مانی قیمت وصول کرنے لگا\\nhttps://t.co/7ZhR4t2jLn\\n\\n#Pakistan #Karachi #Medical #HealthCare #HealthTech #Pharma #CoronaVirus #Covid_19 #vaccine #vaccination #SputnikV #price #business #SputnikVaccineLifeSaver #Sinopharm #hospi... https://t.co/DyCaOR3ZRi</td>\n",
       "      <td>Urdu</td>\n",
       "    </tr>\n",
       "    <tr>\n",
       "      <th>9891</th>\n",
       "      <td>2021-04-02 13:28:24</td>\n",
       "      <td>ایم ایس سیرل کمپنی لمیٹڈ کاچینی کمپنی لیوزون مافارم انکارپوریشن کے ساتھ ملک میں کورونا وائرس ویکسین (V-01) کی تیاری کا معاہدہ ہو گیا\\nhttps://t.co/6M4DwiC5Fn</td>\n",
       "      <td>Urdu</td>\n",
       "    </tr>\n",
       "    <tr>\n",
       "      <th>9892</th>\n",
       "      <td>2021-04-02 13:55:25</td>\n",
       "      <td>টিকা নিলেও নিতে হবে সাবধানতা।\\n#coronavirus #CoronavirusVaccine #UttarPradesh \\n\\nhttps://t.co/nHoUZKkSRV</td>\n",
       "      <td>Bengali</td>\n",
       "    </tr>\n",
       "    <tr>\n",
       "      <th>9893</th>\n",
       "      <td>2021-04-02 13:42:54</td>\n",
       "      <td>সপরিবার কোভিড টিকা নিলেন অমিতাভ, বাকি শুধু অভিষেক \\n@SrBachchan \\n\\nhttps://t.co/JdietMQ2xU</td>\n",
       "      <td>Bengali</td>\n",
       "    </tr>\n",
       "    <tr>\n",
       "      <th>9894</th>\n",
       "      <td>2021-04-02 13:23:51</td>\n",
       "      <td>টিকা ছাড়াই উমরাহ করা যাবে রমযানে \\nhttps://t.co/T27VTe39WH \\n#PuberKalom #umrah #Hajj #Ramdan #SaudiArabia #Covid #Vaccine</td>\n",
       "      <td>Bengali</td>\n",
       "    </tr>\n",
       "  </tbody>\n",
       "</table>\n",
       "<p>9895 rows × 3 columns</p>\n",
       "</div>"
      ],
      "text/plain": [
       "                     time  \\\n",
       "0     2021-04-01 21:58:45   \n",
       "1     2021-04-01 21:58:42   \n",
       "2     2021-04-01 21:58:40   \n",
       "3     2021-04-01 21:58:33   \n",
       "4     2021-04-01 21:58:31   \n",
       "...                   ...   \n",
       "9890  2021-04-02 14:17:47   \n",
       "9891  2021-04-02 13:28:24   \n",
       "9892  2021-04-02 13:55:25   \n",
       "9893  2021-04-02 13:42:54   \n",
       "9894  2021-04-02 13:23:51   \n",
       "\n",
       "                                                                                                                                                                                                                                                                                                                tweets  \\\n",
       "0                          Concerning the use of aborted baby tissue in the J&amp;J Covid vaccine:\\n\\n“The J&amp;J vaccine has sparked debate among some religious communities because it was developed from stem cells obtained during two abortions decades ago.”\\n\\nEvil is still evil, even if it was decades ago.   \n",
       "1                                                                                                                                                                                                                                                            imagine an animal getting the covid-19 vaccine b4 a human   \n",
       "2                                                                                                                                                                                                               Definition of a microstate: https://t.co/8N0R8Mhl73\\n\\nSource of vaccine data: https://t.co/0RQFJPTrZZ   \n",
       "3                                                                                                                                                                                                                                  If I’ve Had COVID-19, Do I Still Need Two Doses of Vaccine? https://t.co/08AiBgfEHQ   \n",
       "4                           My epidural was delayed again, somehow my covid vaccine does not interact well with an epidural. SOOOOO I should be getting it on my birthday. Yay. \\n\\n So far I have 1-2 dr appointments a week this entire month.\\n  \\nOn the upside they've given me proper muscle relaxers this time.   \n",
       "...                                                                                                                                                                                                                                                                                                                ...   \n",
       "9890  عدالتی حکم کے برخلاف، نجی اسپتال روسی ویکسین کی من مانی قیمت وصول کرنے لگا\\nhttps://t.co/7ZhR4t2jLn\\n\\n#Pakistan #Karachi #Medical #HealthCare #HealthTech #Pharma #CoronaVirus #Covid_19 #vaccine #vaccination #SputnikV #price #business #SputnikVaccineLifeSaver #Sinopharm #hospi... https://t.co/DyCaOR3ZRi   \n",
       "9891                                                                                                                                                     ایم ایس سیرل کمپنی لمیٹڈ کاچینی کمپنی لیوزون مافارم انکارپوریشن کے ساتھ ملک میں کورونا وائرس ویکسین (V-01) کی تیاری کا معاہدہ ہو گیا\\nhttps://t.co/6M4DwiC5Fn   \n",
       "9892                                                                                                                                                                                                         টিকা নিলেও নিতে হবে সাবধানতা।\\n#coronavirus #CoronavirusVaccine #UttarPradesh \\n\\nhttps://t.co/nHoUZKkSRV   \n",
       "9893                                                                                                                                                                                                                       সপরিবার কোভিড টিকা নিলেন অমিতাভ, বাকি শুধু অভিষেক \\n@SrBachchan \\n\\nhttps://t.co/JdietMQ2xU   \n",
       "9894                                                                                                                                                                                       টিকা ছাড়াই উমরাহ করা যাবে রমযানে \\nhttps://t.co/T27VTe39WH \\n#PuberKalom #umrah #Hajj #Ramdan #SaudiArabia #Covid #Vaccine   \n",
       "\n",
       "     language  \n",
       "0     English  \n",
       "1     English  \n",
       "2     English  \n",
       "3     English  \n",
       "4     English  \n",
       "...       ...  \n",
       "9890     Urdu  \n",
       "9891     Urdu  \n",
       "9892  Bengali  \n",
       "9893  Bengali  \n",
       "9894  Bengali  \n",
       "\n",
       "[9895 rows x 3 columns]"
      ]
     },
     "execution_count": 71,
     "metadata": {},
     "output_type": "execute_result"
    }
   ],
   "source": [
    "df2.drop(columns = ['language', 'Language code'], inplace= True)\n",
    "df2.rename(columns={'Name': 'language'}, inplace= True)\n",
    "df2"
   ]
  },
  {
   "cell_type": "code",
   "execution_count": 72,
   "metadata": {
    "ExecuteTime": {
     "end_time": "2021-04-02T16:40:37.540734Z",
     "start_time": "2021-04-02T16:40:37.537360Z"
    }
   },
   "outputs": [],
   "source": [
    "df2.rename(columns={'Name': 'language'}, inplace= True)"
   ]
  },
  {
   "cell_type": "code",
   "execution_count": 74,
   "metadata": {
    "ExecuteTime": {
     "end_time": "2021-04-02T16:41:38.226537Z",
     "start_time": "2021-04-02T16:41:38.219601Z"
    }
   },
   "outputs": [],
   "source": [
    "df2['time'] = pd.to_datetime(df2['time']).dt.date"
   ]
  },
  {
   "cell_type": "code",
   "execution_count": 75,
   "metadata": {
    "ExecuteTime": {
     "end_time": "2021-04-02T16:41:39.602341Z",
     "start_time": "2021-04-02T16:41:39.592114Z"
    }
   },
   "outputs": [
    {
     "data": {
      "text/html": [
       "<div>\n",
       "<style scoped>\n",
       "    .dataframe tbody tr th:only-of-type {\n",
       "        vertical-align: middle;\n",
       "    }\n",
       "\n",
       "    .dataframe tbody tr th {\n",
       "        vertical-align: top;\n",
       "    }\n",
       "\n",
       "    .dataframe thead th {\n",
       "        text-align: right;\n",
       "    }\n",
       "</style>\n",
       "<table border=\"1\" class=\"dataframe\">\n",
       "  <thead>\n",
       "    <tr style=\"text-align: right;\">\n",
       "      <th></th>\n",
       "      <th>time</th>\n",
       "      <th>tweets</th>\n",
       "      <th>language</th>\n",
       "    </tr>\n",
       "  </thead>\n",
       "  <tbody>\n",
       "    <tr>\n",
       "      <th>0</th>\n",
       "      <td>2021-04-01</td>\n",
       "      <td>Concerning the use of aborted baby tissue in the J&amp;amp;J Covid vaccine:\\n\\n“The J&amp;amp;J vaccine has sparked debate among some religious communities because it was developed from stem cells obtained during two abortions decades ago.”\\n\\nEvil is still evil, even if it was decades ago.</td>\n",
       "      <td>English</td>\n",
       "    </tr>\n",
       "    <tr>\n",
       "      <th>1</th>\n",
       "      <td>2021-04-01</td>\n",
       "      <td>imagine an animal getting the covid-19 vaccine b4 a human</td>\n",
       "      <td>English</td>\n",
       "    </tr>\n",
       "    <tr>\n",
       "      <th>2</th>\n",
       "      <td>2021-04-01</td>\n",
       "      <td>Definition of a microstate: https://t.co/8N0R8Mhl73\\n\\nSource of vaccine data: https://t.co/0RQFJPTrZZ</td>\n",
       "      <td>English</td>\n",
       "    </tr>\n",
       "    <tr>\n",
       "      <th>3</th>\n",
       "      <td>2021-04-01</td>\n",
       "      <td>If I’ve Had COVID-19, Do I Still Need Two Doses of Vaccine? https://t.co/08AiBgfEHQ</td>\n",
       "      <td>English</td>\n",
       "    </tr>\n",
       "    <tr>\n",
       "      <th>4</th>\n",
       "      <td>2021-04-01</td>\n",
       "      <td>My epidural was delayed again, somehow my covid vaccine does not interact well with an epidural. SOOOOO I should be getting it on my birthday. Yay. \\n\\n So far I have 1-2 dr appointments a week this entire month.\\n  \\nOn the upside they've given me proper muscle relaxers this time.</td>\n",
       "      <td>English</td>\n",
       "    </tr>\n",
       "    <tr>\n",
       "      <th>...</th>\n",
       "      <td>...</td>\n",
       "      <td>...</td>\n",
       "      <td>...</td>\n",
       "    </tr>\n",
       "    <tr>\n",
       "      <th>9890</th>\n",
       "      <td>2021-04-02</td>\n",
       "      <td>عدالتی حکم کے برخلاف، نجی اسپتال روسی ویکسین کی من مانی قیمت وصول کرنے لگا\\nhttps://t.co/7ZhR4t2jLn\\n\\n#Pakistan #Karachi #Medical #HealthCare #HealthTech #Pharma #CoronaVirus #Covid_19 #vaccine #vaccination #SputnikV #price #business #SputnikVaccineLifeSaver #Sinopharm #hospi... https://t.co/DyCaOR3ZRi</td>\n",
       "      <td>Urdu</td>\n",
       "    </tr>\n",
       "    <tr>\n",
       "      <th>9891</th>\n",
       "      <td>2021-04-02</td>\n",
       "      <td>ایم ایس سیرل کمپنی لمیٹڈ کاچینی کمپنی لیوزون مافارم انکارپوریشن کے ساتھ ملک میں کورونا وائرس ویکسین (V-01) کی تیاری کا معاہدہ ہو گیا\\nhttps://t.co/6M4DwiC5Fn</td>\n",
       "      <td>Urdu</td>\n",
       "    </tr>\n",
       "    <tr>\n",
       "      <th>9892</th>\n",
       "      <td>2021-04-02</td>\n",
       "      <td>টিকা নিলেও নিতে হবে সাবধানতা।\\n#coronavirus #CoronavirusVaccine #UttarPradesh \\n\\nhttps://t.co/nHoUZKkSRV</td>\n",
       "      <td>Bengali</td>\n",
       "    </tr>\n",
       "    <tr>\n",
       "      <th>9893</th>\n",
       "      <td>2021-04-02</td>\n",
       "      <td>সপরিবার কোভিড টিকা নিলেন অমিতাভ, বাকি শুধু অভিষেক \\n@SrBachchan \\n\\nhttps://t.co/JdietMQ2xU</td>\n",
       "      <td>Bengali</td>\n",
       "    </tr>\n",
       "    <tr>\n",
       "      <th>9894</th>\n",
       "      <td>2021-04-02</td>\n",
       "      <td>টিকা ছাড়াই উমরাহ করা যাবে রমযানে \\nhttps://t.co/T27VTe39WH \\n#PuberKalom #umrah #Hajj #Ramdan #SaudiArabia #Covid #Vaccine</td>\n",
       "      <td>Bengali</td>\n",
       "    </tr>\n",
       "  </tbody>\n",
       "</table>\n",
       "<p>9895 rows × 3 columns</p>\n",
       "</div>"
      ],
      "text/plain": [
       "            time  \\\n",
       "0     2021-04-01   \n",
       "1     2021-04-01   \n",
       "2     2021-04-01   \n",
       "3     2021-04-01   \n",
       "4     2021-04-01   \n",
       "...          ...   \n",
       "9890  2021-04-02   \n",
       "9891  2021-04-02   \n",
       "9892  2021-04-02   \n",
       "9893  2021-04-02   \n",
       "9894  2021-04-02   \n",
       "\n",
       "                                                                                                                                                                                                                                                                                                                tweets  \\\n",
       "0                          Concerning the use of aborted baby tissue in the J&amp;J Covid vaccine:\\n\\n“The J&amp;J vaccine has sparked debate among some religious communities because it was developed from stem cells obtained during two abortions decades ago.”\\n\\nEvil is still evil, even if it was decades ago.   \n",
       "1                                                                                                                                                                                                                                                            imagine an animal getting the covid-19 vaccine b4 a human   \n",
       "2                                                                                                                                                                                                               Definition of a microstate: https://t.co/8N0R8Mhl73\\n\\nSource of vaccine data: https://t.co/0RQFJPTrZZ   \n",
       "3                                                                                                                                                                                                                                  If I’ve Had COVID-19, Do I Still Need Two Doses of Vaccine? https://t.co/08AiBgfEHQ   \n",
       "4                           My epidural was delayed again, somehow my covid vaccine does not interact well with an epidural. SOOOOO I should be getting it on my birthday. Yay. \\n\\n So far I have 1-2 dr appointments a week this entire month.\\n  \\nOn the upside they've given me proper muscle relaxers this time.   \n",
       "...                                                                                                                                                                                                                                                                                                                ...   \n",
       "9890  عدالتی حکم کے برخلاف، نجی اسپتال روسی ویکسین کی من مانی قیمت وصول کرنے لگا\\nhttps://t.co/7ZhR4t2jLn\\n\\n#Pakistan #Karachi #Medical #HealthCare #HealthTech #Pharma #CoronaVirus #Covid_19 #vaccine #vaccination #SputnikV #price #business #SputnikVaccineLifeSaver #Sinopharm #hospi... https://t.co/DyCaOR3ZRi   \n",
       "9891                                                                                                                                                     ایم ایس سیرل کمپنی لمیٹڈ کاچینی کمپنی لیوزون مافارم انکارپوریشن کے ساتھ ملک میں کورونا وائرس ویکسین (V-01) کی تیاری کا معاہدہ ہو گیا\\nhttps://t.co/6M4DwiC5Fn   \n",
       "9892                                                                                                                                                                                                         টিকা নিলেও নিতে হবে সাবধানতা।\\n#coronavirus #CoronavirusVaccine #UttarPradesh \\n\\nhttps://t.co/nHoUZKkSRV   \n",
       "9893                                                                                                                                                                                                                       সপরিবার কোভিড টিকা নিলেন অমিতাভ, বাকি শুধু অভিষেক \\n@SrBachchan \\n\\nhttps://t.co/JdietMQ2xU   \n",
       "9894                                                                                                                                                                                       টিকা ছাড়াই উমরাহ করা যাবে রমযানে \\nhttps://t.co/T27VTe39WH \\n#PuberKalom #umrah #Hajj #Ramdan #SaudiArabia #Covid #Vaccine   \n",
       "\n",
       "     language  \n",
       "0     English  \n",
       "1     English  \n",
       "2     English  \n",
       "3     English  \n",
       "4     English  \n",
       "...       ...  \n",
       "9890     Urdu  \n",
       "9891     Urdu  \n",
       "9892  Bengali  \n",
       "9893  Bengali  \n",
       "9894  Bengali  \n",
       "\n",
       "[9895 rows x 3 columns]"
      ]
     },
     "execution_count": 75,
     "metadata": {},
     "output_type": "execute_result"
    }
   ],
   "source": [
    "df2"
   ]
  },
  {
   "cell_type": "code",
   "execution_count": 66,
   "metadata": {
    "ExecuteTime": {
     "end_time": "2021-04-02T16:35:12.210595Z",
     "start_time": "2021-04-02T16:35:12.199871Z"
    }
   },
   "outputs": [
    {
     "data": {
      "text/html": [
       "<div>\n",
       "<style scoped>\n",
       "    .dataframe tbody tr th:only-of-type {\n",
       "        vertical-align: middle;\n",
       "    }\n",
       "\n",
       "    .dataframe tbody tr th {\n",
       "        vertical-align: top;\n",
       "    }\n",
       "\n",
       "    .dataframe thead th {\n",
       "        text-align: right;\n",
       "    }\n",
       "</style>\n",
       "<table border=\"1\" class=\"dataframe\">\n",
       "  <thead>\n",
       "    <tr style=\"text-align: right;\">\n",
       "      <th></th>\n",
       "      <th>time</th>\n",
       "      <th>tweets</th>\n",
       "      <th>language</th>\n",
       "    </tr>\n",
       "  </thead>\n",
       "  <tbody>\n",
       "    <tr>\n",
       "      <th>0</th>\n",
       "      <td>2021-04-01 21:58:45</td>\n",
       "      <td>Concerning the use of aborted baby tissue in the J&amp;amp;J Covid vaccine:\\n\\n“The J&amp;amp;J vaccine has sparked debate among some religious communities because it was developed from stem cells obtained during two abortions decades ago.”\\n\\nEvil is still evil, even if it was decades ago.</td>\n",
       "      <td>English</td>\n",
       "    </tr>\n",
       "    <tr>\n",
       "      <th>1</th>\n",
       "      <td>2021-04-01 21:58:42</td>\n",
       "      <td>imagine an animal getting the covid-19 vaccine b4 a human</td>\n",
       "      <td>English</td>\n",
       "    </tr>\n",
       "    <tr>\n",
       "      <th>2</th>\n",
       "      <td>2021-04-01 21:58:40</td>\n",
       "      <td>Definition of a microstate: https://t.co/8N0R8Mhl73\\n\\nSource of vaccine data: https://t.co/0RQFJPTrZZ</td>\n",
       "      <td>English</td>\n",
       "    </tr>\n",
       "    <tr>\n",
       "      <th>3</th>\n",
       "      <td>2021-04-01 21:58:33</td>\n",
       "      <td>If I’ve Had COVID-19, Do I Still Need Two Doses of Vaccine? https://t.co/08AiBgfEHQ</td>\n",
       "      <td>English</td>\n",
       "    </tr>\n",
       "    <tr>\n",
       "      <th>4</th>\n",
       "      <td>2021-04-01 21:58:31</td>\n",
       "      <td>My epidural was delayed again, somehow my covid vaccine does not interact well with an epidural. SOOOOO I should be getting it on my birthday. Yay. \\n\\n So far I have 1-2 dr appointments a week this entire month.\\n  \\nOn the upside they've given me proper muscle relaxers this time.</td>\n",
       "      <td>English</td>\n",
       "    </tr>\n",
       "    <tr>\n",
       "      <th>...</th>\n",
       "      <td>...</td>\n",
       "      <td>...</td>\n",
       "      <td>...</td>\n",
       "    </tr>\n",
       "    <tr>\n",
       "      <th>9890</th>\n",
       "      <td>2021-04-02 14:17:47</td>\n",
       "      <td>عدالتی حکم کے برخلاف، نجی اسپتال روسی ویکسین کی من مانی قیمت وصول کرنے لگا\\nhttps://t.co/7ZhR4t2jLn\\n\\n#Pakistan #Karachi #Medical #HealthCare #HealthTech #Pharma #CoronaVirus #Covid_19 #vaccine #vaccination #SputnikV #price #business #SputnikVaccineLifeSaver #Sinopharm #hospi... https://t.co/DyCaOR3ZRi</td>\n",
       "      <td>Urdu</td>\n",
       "    </tr>\n",
       "    <tr>\n",
       "      <th>9891</th>\n",
       "      <td>2021-04-02 13:28:24</td>\n",
       "      <td>ایم ایس سیرل کمپنی لمیٹڈ کاچینی کمپنی لیوزون مافارم انکارپوریشن کے ساتھ ملک میں کورونا وائرس ویکسین (V-01) کی تیاری کا معاہدہ ہو گیا\\nhttps://t.co/6M4DwiC5Fn</td>\n",
       "      <td>Urdu</td>\n",
       "    </tr>\n",
       "    <tr>\n",
       "      <th>9892</th>\n",
       "      <td>2021-04-02 13:55:25</td>\n",
       "      <td>টিকা নিলেও নিতে হবে সাবধানতা।\\n#coronavirus #CoronavirusVaccine #UttarPradesh \\n\\nhttps://t.co/nHoUZKkSRV</td>\n",
       "      <td>Bengali</td>\n",
       "    </tr>\n",
       "    <tr>\n",
       "      <th>9893</th>\n",
       "      <td>2021-04-02 13:42:54</td>\n",
       "      <td>সপরিবার কোভিড টিকা নিলেন অমিতাভ, বাকি শুধু অভিষেক \\n@SrBachchan \\n\\nhttps://t.co/JdietMQ2xU</td>\n",
       "      <td>Bengali</td>\n",
       "    </tr>\n",
       "    <tr>\n",
       "      <th>9894</th>\n",
       "      <td>2021-04-02 13:23:51</td>\n",
       "      <td>টিকা ছাড়াই উমরাহ করা যাবে রমযানে \\nhttps://t.co/T27VTe39WH \\n#PuberKalom #umrah #Hajj #Ramdan #SaudiArabia #Covid #Vaccine</td>\n",
       "      <td>Bengali</td>\n",
       "    </tr>\n",
       "  </tbody>\n",
       "</table>\n",
       "<p>9895 rows × 3 columns</p>\n",
       "</div>"
      ],
      "text/plain": [
       "                    time  \\\n",
       "0    2021-04-01 21:58:45   \n",
       "1    2021-04-01 21:58:42   \n",
       "2    2021-04-01 21:58:40   \n",
       "3    2021-04-01 21:58:33   \n",
       "4    2021-04-01 21:58:31   \n",
       "...                  ...   \n",
       "9890 2021-04-02 14:17:47   \n",
       "9891 2021-04-02 13:28:24   \n",
       "9892 2021-04-02 13:55:25   \n",
       "9893 2021-04-02 13:42:54   \n",
       "9894 2021-04-02 13:23:51   \n",
       "\n",
       "                                                                                                                                                                                                                                                                                                                tweets  \\\n",
       "0                          Concerning the use of aborted baby tissue in the J&amp;J Covid vaccine:\\n\\n“The J&amp;J vaccine has sparked debate among some religious communities because it was developed from stem cells obtained during two abortions decades ago.”\\n\\nEvil is still evil, even if it was decades ago.   \n",
       "1                                                                                                                                                                                                                                                            imagine an animal getting the covid-19 vaccine b4 a human   \n",
       "2                                                                                                                                                                                                               Definition of a microstate: https://t.co/8N0R8Mhl73\\n\\nSource of vaccine data: https://t.co/0RQFJPTrZZ   \n",
       "3                                                                                                                                                                                                                                  If I’ve Had COVID-19, Do I Still Need Two Doses of Vaccine? https://t.co/08AiBgfEHQ   \n",
       "4                           My epidural was delayed again, somehow my covid vaccine does not interact well with an epidural. SOOOOO I should be getting it on my birthday. Yay. \\n\\n So far I have 1-2 dr appointments a week this entire month.\\n  \\nOn the upside they've given me proper muscle relaxers this time.   \n",
       "...                                                                                                                                                                                                                                                                                                                ...   \n",
       "9890  عدالتی حکم کے برخلاف، نجی اسپتال روسی ویکسین کی من مانی قیمت وصول کرنے لگا\\nhttps://t.co/7ZhR4t2jLn\\n\\n#Pakistan #Karachi #Medical #HealthCare #HealthTech #Pharma #CoronaVirus #Covid_19 #vaccine #vaccination #SputnikV #price #business #SputnikVaccineLifeSaver #Sinopharm #hospi... https://t.co/DyCaOR3ZRi   \n",
       "9891                                                                                                                                                     ایم ایس سیرل کمپنی لمیٹڈ کاچینی کمپنی لیوزون مافارم انکارپوریشن کے ساتھ ملک میں کورونا وائرس ویکسین (V-01) کی تیاری کا معاہدہ ہو گیا\\nhttps://t.co/6M4DwiC5Fn   \n",
       "9892                                                                                                                                                                                                         টিকা নিলেও নিতে হবে সাবধানতা।\\n#coronavirus #CoronavirusVaccine #UttarPradesh \\n\\nhttps://t.co/nHoUZKkSRV   \n",
       "9893                                                                                                                                                                                                                       সপরিবার কোভিড টিকা নিলেন অমিতাভ, বাকি শুধু অভিষেক \\n@SrBachchan \\n\\nhttps://t.co/JdietMQ2xU   \n",
       "9894                                                                                                                                                                                       টিকা ছাড়াই উমরাহ করা যাবে রমযানে \\nhttps://t.co/T27VTe39WH \\n#PuberKalom #umrah #Hajj #Ramdan #SaudiArabia #Covid #Vaccine   \n",
       "\n",
       "     language  \n",
       "0     English  \n",
       "1     English  \n",
       "2     English  \n",
       "3     English  \n",
       "4     English  \n",
       "...       ...  \n",
       "9890     Urdu  \n",
       "9891     Urdu  \n",
       "9892  Bengali  \n",
       "9893  Bengali  \n",
       "9894  Bengali  \n",
       "\n",
       "[9895 rows x 3 columns]"
      ]
     },
     "execution_count": 66,
     "metadata": {},
     "output_type": "execute_result"
    }
   ],
   "source": [
    "df2"
   ]
  },
  {
   "cell_type": "code",
   "execution_count": 77,
   "metadata": {
    "ExecuteTime": {
     "end_time": "2021-04-02T16:44:37.443221Z",
     "start_time": "2021-04-02T16:44:37.440479Z"
    }
   },
   "outputs": [],
   "source": [
    "import seaborn as sns\n",
    "sns.set_style('whitegrid')"
   ]
  },
  {
   "cell_type": "code",
   "execution_count": 87,
   "metadata": {
    "ExecuteTime": {
     "end_time": "2021-04-02T16:51:39.872983Z",
     "start_time": "2021-04-02T16:51:39.640312Z"
    }
   },
   "outputs": [
    {
     "data": {
      "image/png": "[encoded data removed]",
      "text/plain": [
       "<Figure size 720x576 with 1 Axes>"
      ]
     },
     "metadata": {},
     "output_type": "display_data"
    }
   ],
   "source": [
    "# countplot that excludes English to see detail\n",
    "plt.figure(figsize= (10, 8))\n",
    "sns.countplot(y= 'language', data= df2, palette='autumn',\n",
    "              order= df2.language.value_counts().iloc[1:].index)\n",
    "plt.title('Count of Tweets, Excluding English', fontsize= 14)\n",
    "plt.xlabel('# of Tweets')\n",
    "plt.ylabel('Language')\n",
    "plt.show()"
   ]
  },
  {
   "cell_type": "markdown",
   "metadata": {},
   "source": [
    "## Text sentiment"
   ]
  },
  {
   "cell_type": "code",
   "execution_count": null,
   "metadata": {},
   "outputs": [],
   "source": [
    "# remove urls? https: http: ..."
   ]
  },
  {
   "cell_type": "code",
   "execution_count": null,
   "metadata": {},
   "outputs": [],
   "source": [
    "# use textblob?"
   ]
  },
  {
   "cell_type": "code",
   "execution_count": null,
   "metadata": {},
   "outputs": [],
   "source": []
  },
  {
   "cell_type": "code",
   "execution_count": null,
   "metadata": {},
   "outputs": [],
   "source": []
  },
  {
   "cell_type": "code",
   "execution_count": null,
   "metadata": {},
   "outputs": [],
   "source": []
  },
  {
   "cell_type": "code",
   "execution_count": null,
   "metadata": {},
   "outputs": [],
   "source": []
  },
  {
   "cell_type": "code",
   "execution_count": null,
   "metadata": {},
   "outputs": [],
   "source": []
  },
  {
   "cell_type": "code",
   "execution_count": null,
   "metadata": {},
   "outputs": [],
   "source": []
  },
  {
   "cell_type": "code",
   "execution_count": null,
   "metadata": {},
   "outputs": [],
   "source": []
  },
  {
   "cell_type": "code",
   "execution_count": null,
   "metadata": {},
   "outputs": [],
   "source": []
  }
 ],
 "metadata": {
  "kernelspec": {
   "display_name": "Python 3",
   "language": "python",
   "name": "python3"
  },
  "language_info": {
   "codemirror_mode": {
    "name": "ipython",
    "version": 3
   },
   "file_extension": ".py",
   "mimetype": "text/x-python",
   "name": "python",
   "nbconvert_exporter": "python",
   "pygments_lexer": "ipython3",
   "version": "3.8.5"
  },
  "toc": {
   "base_numbering": 1,
   "nav_menu": {},
   "number_sections": true,
   "sideBar": true,
   "skip_h1_title": true,
   "title_cell": "Table of Contents",
   "title_sidebar": "Contents",
   "toc_cell": false,
   "toc_position": {},
   "toc_section_display": true,
   "toc_window_display": false
  },
  "varInspector": {
   "cols": {
    "lenName": 16,
    "lenType": 16,
    "lenVar": 40
   },
   "kernels_config": {
    "python": {
     "delete_cmd_postfix": "",
     "delete_cmd_prefix": "del ",
     "library": "var_list.py",
     "varRefreshCmd": "print(var_dic_list())"
    },
    "r": {
     "delete_cmd_postfix": ") ",
     "delete_cmd_prefix": "rm(",
     "library": "var_list.r",
     "varRefreshCmd": "cat(var_dic_list()) "
    }
   },
   "types_to_exclude": [
    "module",
    "function",
    "builtin_function_or_method",
    "instance",
    "_Feature"
   ],
   "window_display": false
  }
 },
 "nbformat": 4,
 "nbformat_minor": 4
}
