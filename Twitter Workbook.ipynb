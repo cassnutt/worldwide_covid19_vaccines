{
 "cells": [
  {
   "cell_type": "markdown",
   "metadata": {},
   "source": [
    "# Twitter Workbook\n",
    "\n",
    "# Twitter Sentiment Analysis\n",
    "\n",
    "This notebook aims to predict whether a person does or does not intend to get the COVID-19 vaccine by looking at Tweets."
   ]
  },
  {
   "cell_type": "markdown",
   "metadata": {},
   "source": [
    "## Libraries"
   ]
  },
  {
   "cell_type": "code",
   "execution_count": 1,
   "metadata": {
    "ExecuteTime": {
     "end_time": "2021-04-04T18:26:46.880279Z",
     "start_time": "2021-04-04T18:26:46.643015Z"
    }
   },
   "outputs": [],
   "source": [
    "import tweepy\n",
    "import webbrowser\n",
    "import time\n",
    "\n",
    "import pandas as pd\n",
    "\n",
    "from tweepy import OAuthHandler\n",
    "from tweepy import API\n",
    "\n",
    "import config\n",
    "\n",
    "# auth.set_access_token(access_token, access_token_secret)\n",
    "\n"
   ]
  },
  {
   "cell_type": "code",
   "execution_count": null,
   "metadata": {
    "ExecuteTime": {
     "end_time": "2021-04-02T15:19:13.987951Z",
     "start_time": "2021-04-02T15:19:13.985662Z"
    }
   },
   "outputs": [],
   "source": [
    "callback_uri = 'oob'"
   ]
  },
  {
   "cell_type": "code",
   "execution_count": null,
   "metadata": {
    "ExecuteTime": {
     "end_time": "2021-04-02T15:19:14.528430Z",
     "start_time": "2021-04-02T15:19:14.525488Z"
    }
   },
   "outputs": [],
   "source": [
    "auth = OAuthHandler(config.consumer_key, config.consumer_secret, callback_uri)\n",
    "auth.set_access_token(config.access_token, config.access_token_secret)\n",
    "# redirect_url = auth.get_authorization_url()"
   ]
  },
  {
   "cell_type": "code",
   "execution_count": null,
   "metadata": {},
   "outputs": [],
   "source": []
  },
  {
   "cell_type": "code",
   "execution_count": null,
   "metadata": {
    "ExecuteTime": {
     "end_time": "2021-04-01T20:50:25.672839Z",
     "start_time": "2021-04-01T20:50:25.529912Z"
    }
   },
   "outputs": [],
   "source": [
    "# webbrowser.open(redirect_url)"
   ]
  },
  {
   "cell_type": "code",
   "execution_count": null,
   "metadata": {
    "ExecuteTime": {
     "end_time": "2021-04-01T20:50:25.678742Z",
     "start_time": "2021-04-01T20:50:24.989Z"
    }
   },
   "outputs": [],
   "source": [
    "# user_pin_input = input(\"What's the pin value? \")"
   ]
  },
  {
   "cell_type": "code",
   "execution_count": null,
   "metadata": {
    "ExecuteTime": {
     "end_time": "2021-04-01T20:51:00.810502Z",
     "start_time": "2021-04-01T20:51:00.803291Z"
    }
   },
   "outputs": [],
   "source": [
    "# auth.get_access_token(user_pin_input)"
   ]
  },
  {
   "cell_type": "code",
   "execution_count": null,
   "metadata": {
    "ExecuteTime": {
     "end_time": "2021-04-02T15:19:17.778293Z",
     "start_time": "2021-04-02T15:19:17.776032Z"
    }
   },
   "outputs": [],
   "source": [
    "api = API(auth, wait_on_rate_limit= True)"
   ]
  },
  {
   "cell_type": "code",
   "execution_count": null,
   "metadata": {
    "ExecuteTime": {
     "end_time": "2021-04-02T15:19:18.852527Z",
     "start_time": "2021-04-02T15:19:18.428962Z"
    }
   },
   "outputs": [],
   "source": [
    "me = api.me()\n",
    "print(me.screen_name)"
   ]
  },
  {
   "cell_type": "markdown",
   "metadata": {},
   "source": [
    "get text from your timeline into pandas"
   ]
  },
  {
   "cell_type": "code",
   "execution_count": null,
   "metadata": {
    "ExecuteTime": {
     "end_time": "2021-04-01T20:51:18.391879Z",
     "start_time": "2021-04-01T20:51:18.206486Z"
    }
   },
   "outputs": [],
   "source": [
    "my_timeline = api.home_timeline()"
   ]
  },
  {
   "cell_type": "code",
   "execution_count": null,
   "metadata": {
    "ExecuteTime": {
     "end_time": "2021-04-01T20:51:19.232885Z",
     "start_time": "2021-04-01T20:51:19.230231Z"
    }
   },
   "outputs": [],
   "source": [
    "print(my_timeline)"
   ]
  },
  {
   "cell_type": "code",
   "execution_count": null,
   "metadata": {
    "ExecuteTime": {
     "end_time": "2021-04-01T20:51:26.705357Z",
     "start_time": "2021-04-01T20:51:26.700824Z"
    }
   },
   "outputs": [],
   "source": [
    "columns = set()\n",
    "allowed_types = [str, int]\n",
    "tweet_data = []\n",
    "\n",
    "for status in my_timeline:\n",
    "#     print(status.text)\n",
    "#     print (type(vas(status)))\n",
    "    status_dict = dict(vars(status))\n",
    "    keys = status_dict.keys()\n",
    "    single_tweet_data = {}\n",
    "    for k in keys:\n",
    "        try:\n",
    "            v_type = type(status_dict['k'])\n",
    "        except:\n",
    "            v_type = None\n",
    "            \n",
    "        if v_type != None:\n",
    "            if v_type in allowed_types:\n",
    "                single_tweet_data[k] = status_dict[k]\n",
    "                columns.add(k)\n",
    "    tweets_data.append(single_tweet_data )\n",
    "        \n",
    "header_cols = list(columns)"
   ]
  },
  {
   "cell_type": "code",
   "execution_count": null,
   "metadata": {
    "ExecuteTime": {
     "end_time": "2021-04-01T20:51:27.884925Z",
     "start_time": "2021-04-01T20:51:27.870516Z"
    }
   },
   "outputs": [],
   "source": [
    "df = pd.DataFrame(tweet_data, columns= header_cols)\n",
    "df.head()"
   ]
  },
  {
   "cell_type": "code",
   "execution_count": null,
   "metadata": {
    "ExecuteTime": {
     "end_time": "2021-04-01T20:51:38.636118Z",
     "start_time": "2021-04-01T20:51:38.052121Z"
    }
   },
   "outputs": [],
   "source": [
    "#. get_status?\n",
    "\n",
    "user = api.get_user('code')\n",
    "user_timeline = user.timeline()\n",
    "df2 = extract_timeline_as_df(user_timeline)\n",
    "df2.head()"
   ]
  },
  {
   "cell_type": "code",
   "execution_count": null,
   "metadata": {
    "ExecuteTime": {
     "end_time": "2021-04-01T20:51:35.188373Z",
     "start_time": "2021-04-01T20:51:35.183458Z"
    }
   },
   "outputs": [],
   "source": [
    "def extract_timeline_as_df(timeline_list):\n",
    "    columns = set()\n",
    "    allowed_types = [str, int]\n",
    "    tweets_data = []\n",
    "    for status in timeline_list:\n",
    "        status_dict = dict(vars(status))\n",
    "        keys = status_dict.keys()\n",
    "        single_tweet_data = {\"user\": status.user.screen_name, \"author\": status.author.screen_name}\n",
    "        for k in keys:\n",
    "            try:\n",
    "                v_type = type(status_dict[k])\n",
    "            except:\n",
    "                v_type = None\n",
    "            if v_type != None:\n",
    "                if v_type in allowed_types:\n",
    "                    single_tweet_data[k] = status_dict[k]\n",
    "                    columns.add(k)\n",
    "        tweets_data.append(single_tweet_data)\n",
    "\n",
    "\n",
    "    header_cols = list(columns)\n",
    "    header_cols.append('author')\n",
    "    df = pd.DataFrame(tweets_data, columns=header_cols)\n",
    "    return df"
   ]
  },
  {
   "cell_type": "code",
   "execution_count": null,
   "metadata": {
    "ExecuteTime": {
     "end_time": "2021-04-01T20:50:25.689440Z",
     "start_time": "2021-04-01T20:50:25.003Z"
    }
   },
   "outputs": [],
   "source": [
    "df3 = extract_timeline_as_df(user_timeline)"
   ]
  },
  {
   "cell_type": "code",
   "execution_count": null,
   "metadata": {
    "ExecuteTime": {
     "end_time": "2021-04-01T20:50:25.690507Z",
     "start_time": "2021-04-01T20:50:25.005Z"
    }
   },
   "outputs": [],
   "source": [
    "df3.head()"
   ]
  },
  {
   "cell_type": "code",
   "execution_count": null,
   "metadata": {
    "ExecuteTime": {
     "end_time": "2021-04-01T20:50:25.691497Z",
     "start_time": "2021-04-01T20:50:25.006Z"
    }
   },
   "outputs": [],
   "source": [
    "status_obj = api.get_status('1247966976951058433')\n",
    "status_obj.text"
   ]
  },
  {
   "cell_type": "code",
   "execution_count": null,
   "metadata": {
    "ExecuteTime": {
     "end_time": "2021-04-01T20:50:25.692441Z",
     "start_time": "2021-04-01T20:50:25.007Z"
    }
   },
   "outputs": [],
   "source": [
    "print(status_obj.geo)"
   ]
  },
  {
   "cell_type": "code",
   "execution_count": null,
   "metadata": {},
   "outputs": [],
   "source": []
  },
  {
   "cell_type": "code",
   "execution_count": null,
   "metadata": {
    "ExecuteTime": {
     "end_time": "2021-04-01T20:50:25.693296Z",
     "start_time": "2021-04-01T20:50:25.010Z"
    }
   },
   "outputs": [],
   "source": [
    "len(api.home_timeline())"
   ]
  },
  {
   "cell_type": "code",
   "execution_count": null,
   "metadata": {
    "ExecuteTime": {
     "end_time": "2021-04-01T20:50:25.694069Z",
     "start_time": "2021-04-01T20:50:25.011Z"
    }
   },
   "outputs": [],
   "source": [
    "other_user = 'therock'\n",
    "for i, status in enumerate(tweepy.Cursor(api.user_timeline, screen_name = other_user).items(20)):\n",
    "    print (i, status.text)"
   ]
  },
  {
   "cell_type": "code",
   "execution_count": null,
   "metadata": {
    "ExecuteTime": {
     "end_time": "2021-04-01T20:50:25.694922Z",
     "start_time": "2021-04-01T20:50:25.012Z"
    }
   },
   "outputs": [],
   "source": [
    "api."
   ]
  },
  {
   "cell_type": "code",
   "execution_count": null,
   "metadata": {
    "ExecuteTime": {
     "end_time": "2021-04-01T20:50:25.695986Z",
     "start_time": "2021-04-01T20:50:25.013Z"
    }
   },
   "outputs": [],
   "source": [
    "# query = '#vaccine'\n",
    "# api.search(q = query)"
   ]
  },
  {
   "cell_type": "code",
   "execution_count": null,
   "metadata": {
    "ExecuteTime": {
     "end_time": "2021-04-01T20:50:25.697069Z",
     "start_time": "2021-04-01T20:50:25.015Z"
    }
   },
   "outputs": [],
   "source": [
    "query = '#vaccine covid'\n",
    "for i, status in enumerate(tweepy.Cursor(api.search, q= query).items(50)):\n",
    "    print (i, status.text)"
   ]
  },
  {
   "cell_type": "code",
   "execution_count": null,
   "metadata": {},
   "outputs": [],
   "source": []
  },
  {
   "cell_type": "code",
   "execution_count": null,
   "metadata": {
    "ExecuteTime": {
     "end_time": "2021-04-01T20:51:53.837358Z",
     "start_time": "2021-04-01T20:51:53.834570Z"
    }
   },
   "outputs": [],
   "source": [
    "cursor = tweepy.Cursor(api.user_timeline, id= 'code', tweet_mode = 'extended').items(1)"
   ]
  },
  {
   "cell_type": "code",
   "execution_count": null,
   "metadata": {
    "ExecuteTime": {
     "end_time": "2021-04-01T20:51:55.283304Z",
     "start_time": "2021-04-01T20:51:54.903967Z"
    }
   },
   "outputs": [],
   "source": [
    "for i in cursor:\n",
    "    print(dir(i))"
   ]
  },
  {
   "cell_type": "code",
   "execution_count": null,
   "metadata": {
    "ExecuteTime": {
     "end_time": "2021-04-01T20:52:15.101239Z",
     "start_time": "2021-04-01T20:52:15.098167Z"
    }
   },
   "outputs": [],
   "source": [
    "cursor = tweepy.Cursor(api.user_timeline, id= 'code', tweet_mode = 'extended').items(1)"
   ]
  },
  {
   "cell_type": "code",
   "execution_count": null,
   "metadata": {
    "ExecuteTime": {
     "end_time": "2021-04-01T20:52:47.992726Z",
     "start_time": "2021-04-01T20:52:47.610368Z"
    }
   },
   "outputs": [],
   "source": [
    "for i in cursor:\n",
    "    print(i.full_text, i.lang, i.geo)"
   ]
  },
  {
   "cell_type": "code",
   "execution_count": null,
   "metadata": {
    "ExecuteTime": {
     "end_time": "2021-04-01T20:55:05.289395Z",
     "start_time": "2021-04-01T20:55:05.286422Z"
    }
   },
   "outputs": [],
   "source": [
    "cursor = tweepy.Cursor(api.search, q= 'vaccine', tweet_mode = 'extended').items(6)"
   ]
  },
  {
   "cell_type": "code",
   "execution_count": null,
   "metadata": {
    "ExecuteTime": {
     "end_time": "2021-04-01T20:55:06.755655Z",
     "start_time": "2021-04-01T20:55:06.357473Z"
    }
   },
   "outputs": [],
   "source": [
    "for i in cursor:\n",
    "    print(i.full_text, i.lang, i.geo)"
   ]
  },
  {
   "cell_type": "code",
   "execution_count": null,
   "metadata": {},
   "outputs": [],
   "source": []
  },
  {
   "cell_type": "code",
   "execution_count": null,
   "metadata": {
    "ExecuteTime": {
     "end_time": "2021-04-01T21:23:45.415267Z",
     "start_time": "2021-04-01T21:23:45.080720Z"
    }
   },
   "outputs": [],
   "source": [
    "number_of_tweets = 50\n",
    "tweets = []\n",
    "language = []\n",
    "time = []\n",
    "\n",
    "for i in tweepy.Cursor(api.search, q= 'vaccine covid -RT',  tweet_mode = 'extended', include_rts= False).items(number_of_tweets):\n",
    "    tweets.append(i.full_text)\n",
    "    language.append(i.lang)\n",
    "    time.append(i.created_at)\n"
   ]
  },
  {
   "cell_type": "code",
   "execution_count": null,
   "metadata": {
    "ExecuteTime": {
     "end_time": "2021-04-01T21:23:46.465814Z",
     "start_time": "2021-04-01T21:23:46.462414Z"
    }
   },
   "outputs": [],
   "source": [
    "df = pd.DataFrame({'time': time, 'language': language, 'tweets': tweets})"
   ]
  },
  {
   "cell_type": "code",
   "execution_count": null,
   "metadata": {
    "ExecuteTime": {
     "end_time": "2021-04-01T21:23:47.484663Z",
     "start_time": "2021-04-01T21:23:47.476774Z"
    }
   },
   "outputs": [],
   "source": [
    "df"
   ]
  },
  {
   "cell_type": "code",
   "execution_count": null,
   "metadata": {
    "ExecuteTime": {
     "end_time": "2021-04-01T21:04:43.503842Z",
     "start_time": "2021-04-01T21:04:43.499893Z"
    }
   },
   "outputs": [],
   "source": [
    "df = df[~df.tweets.str.contains('RT')]"
   ]
  },
  {
   "cell_type": "code",
   "execution_count": null,
   "metadata": {
    "ExecuteTime": {
     "end_time": "2021-04-01T21:05:12.977087Z",
     "start_time": "2021-04-01T21:05:12.974432Z"
    }
   },
   "outputs": [],
   "source": [
    "df.reset_index(drop= True, inplace= True)"
   ]
  },
  {
   "cell_type": "code",
   "execution_count": null,
   "metadata": {
    "ExecuteTime": {
     "end_time": "2021-04-01T21:39:37.721239Z",
     "start_time": "2021-04-01T21:39:37.716993Z"
    }
   },
   "outputs": [],
   "source": [
    "df.to_csv('tweets.csv', mode= 'a', index= False, header= False)"
   ]
  },
  {
   "cell_type": "code",
   "execution_count": null,
   "metadata": {
    "ExecuteTime": {
     "end_time": "2021-04-01T21:34:34.782648Z",
     "start_time": "2021-04-01T21:34:34.773133Z"
    }
   },
   "outputs": [],
   "source": [
    "df2 = pd.read_csv('tweets.csv')\n",
    "df2"
   ]
  },
  {
   "cell_type": "code",
   "execution_count": null,
   "metadata": {
    "ExecuteTime": {
     "end_time": "2021-04-01T21:37:43.669307Z",
     "start_time": "2021-04-01T21:37:43.303352Z"
    }
   },
   "outputs": [],
   "source": [
    "number_of_tweets = 5\n",
    "tweets = []\n",
    "language = []\n",
    "time = []\n",
    "\n",
    "for i in tweepy.Cursor(api.search, q= 'vaccine covid -RT',  tweet_mode = 'extended', include_rts= False).items(number_of_tweets):\n",
    "    tweets.append(i.full_text)\n",
    "    language.append(i.lang)\n",
    "    time.append(i.created_at)"
   ]
  },
  {
   "cell_type": "code",
   "execution_count": null,
   "metadata": {
    "ExecuteTime": {
     "end_time": "2021-04-01T21:37:56.057583Z",
     "start_time": "2021-04-01T21:37:56.049306Z"
    }
   },
   "outputs": [],
   "source": [
    "df3 = pd.DataFrame({'time': time, 'language': language, 'tweets': tweets})\n",
    "df3"
   ]
  },
  {
   "cell_type": "code",
   "execution_count": null,
   "metadata": {
    "ExecuteTime": {
     "end_time": "2021-04-01T21:38:30.567016Z",
     "start_time": "2021-04-01T21:38:30.563062Z"
    }
   },
   "outputs": [],
   "source": [
    "df3.to_csv('tweets.csv', index= False)"
   ]
  },
  {
   "cell_type": "markdown",
   "metadata": {},
   "source": [
    "## Search 30 day tweets"
   ]
  },
  {
   "cell_type": "code",
   "execution_count": null,
   "metadata": {},
   "outputs": [],
   "source": [
    "# function to turn results into DataFrame\n",
    "def extract_text_as_df(text_list):\n",
    "    columns = set()\n",
    "    allowed_types = [str, int]\n",
    "    tweets_data = []\n",
    "    for status in text_list:\n",
    "        status_dict = dict(vars(status))\n",
    "        keys = status_dict.keys()\n",
    "        single_tweet_data = {\"author\": status.author.screen_name}\n",
    "        for k in keys:\n",
    "            try:\n",
    "                v_type = type(status_dict[k])\n",
    "            except:\n",
    "                v_type = None\n",
    "            if v_type != None:\n",
    "                if v_type in allowed_types:\n",
    "                    single_tweet_data[k] = status_dict[k]\n",
    "                    columns.add(k)\n",
    "        tweets_data.append(single_tweet_data)\n",
    "\n",
    "\n",
    "    header_cols = list(columns)\n",
    "    header_cols.append('author')\n",
    "    df = pd.DataFrame(tweets_data, columns=header_cols)\n",
    "    return df"
   ]
  },
  {
   "cell_type": "code",
   "execution_count": null,
   "metadata": {
    "ExecuteTime": {
     "end_time": "2021-04-01T23:19:51.785007Z",
     "start_time": "2021-04-01T23:19:51.438306Z"
    }
   },
   "outputs": [],
   "source": [
    "query = 'vaccine covid -RT'\n",
    "results_30 = api.search_30_day('datacollection', query, maxResults= 10)\n",
    "# results_30\n",
    "old_results_df = extract_text_as_df(results_30)\n",
    "old_results_df"
   ]
  },
  {
   "cell_type": "code",
   "execution_count": null,
   "metadata": {},
   "outputs": [],
   "source": []
  },
  {
   "cell_type": "code",
   "execution_count": null,
   "metadata": {},
   "outputs": [],
   "source": []
  },
  {
   "cell_type": "code",
   "execution_count": null,
   "metadata": {},
   "outputs": [],
   "source": []
  },
  {
   "cell_type": "code",
   "execution_count": null,
   "metadata": {},
   "outputs": [],
   "source": []
  },
  {
   "cell_type": "code",
   "execution_count": null,
   "metadata": {},
   "outputs": [],
   "source": []
  },
  {
   "cell_type": "code",
   "execution_count": null,
   "metadata": {},
   "outputs": [],
   "source": []
  },
  {
   "cell_type": "code",
   "execution_count": null,
   "metadata": {},
   "outputs": [],
   "source": []
  },
  {
   "cell_type": "code",
   "execution_count": null,
   "metadata": {},
   "outputs": [],
   "source": []
  },
  {
   "cell_type": "code",
   "execution_count": null,
   "metadata": {},
   "outputs": [],
   "source": []
  },
  {
   "cell_type": "code",
   "execution_count": null,
   "metadata": {},
   "outputs": [],
   "source": []
  },
  {
   "cell_type": "code",
   "execution_count": null,
   "metadata": {},
   "outputs": [],
   "source": []
  },
  {
   "cell_type": "code",
   "execution_count": null,
   "metadata": {},
   "outputs": [],
   "source": []
  },
  {
   "cell_type": "code",
   "execution_count": null,
   "metadata": {
    "ExecuteTime": {
     "end_time": "2021-04-01T22:13:23.552431Z",
     "start_time": "2021-04-01T22:13:18.017332Z"
    }
   },
   "outputs": [],
   "source": [
    "# pip install googletrans"
   ]
  },
  {
   "cell_type": "code",
   "execution_count": null,
   "metadata": {
    "ExecuteTime": {
     "end_time": "2021-04-02T15:20:00.461155Z",
     "start_time": "2021-04-02T15:20:00.426488Z"
    }
   },
   "outputs": [],
   "source": [
    "df = pd.read_csv('tweets.csv')"
   ]
  },
  {
   "cell_type": "code",
   "execution_count": null,
   "metadata": {
    "ExecuteTime": {
     "end_time": "2021-04-02T15:20:06.002568Z",
     "start_time": "2021-04-02T15:20:05.994391Z"
    }
   },
   "outputs": [],
   "source": [
    "lang_df = df.sort_values('language')"
   ]
  },
  {
   "cell_type": "code",
   "execution_count": null,
   "metadata": {
    "ExecuteTime": {
     "end_time": "2021-04-02T15:20:08.019351Z",
     "start_time": "2021-04-02T15:20:07.828114Z"
    }
   },
   "outputs": [],
   "source": [
    "import matplotlib.pyplot as plt\n",
    "%matplotlib inline"
   ]
  },
  {
   "cell_type": "code",
   "execution_count": null,
   "metadata": {
    "ExecuteTime": {
     "end_time": "2021-04-02T15:20:08.948094Z",
     "start_time": "2021-04-02T15:20:08.657876Z"
    }
   },
   "outputs": [],
   "source": [
    "plt.figure(figsize= (12, 8))\n",
    "lang_df.language.value_counts(normalize=True).plot(kind= 'barh')\n",
    "plt.title('Proportion of Languages Collected')\n",
    "plt.xlim(-.01, 1)\n",
    "plt.show()"
   ]
  },
  {
   "cell_type": "code",
   "execution_count": null,
   "metadata": {
    "ExecuteTime": {
     "end_time": "2021-04-02T15:20:13.122991Z",
     "start_time": "2021-04-02T15:20:13.115004Z"
    }
   },
   "outputs": [],
   "source": [
    "lang_df.language.value_counts(normalize=True)"
   ]
  },
  {
   "cell_type": "code",
   "execution_count": null,
   "metadata": {
    "ExecuteTime": {
     "end_time": "2021-04-02T15:22:49.050148Z",
     "start_time": "2021-04-02T15:22:48.692536Z"
    }
   },
   "outputs": [],
   "source": [
    "# what are these languages? get table from url\n",
    "URL = 'https://developer.twitter.com/en/docs/twitter-for-websites/supported-languages'\n",
    "tables = pd.read_html(URL)\n",
    "print(\"There are : \",len(tables),\" tables\")\n",
    "print(tables[0])\n",
    "\n",
    "lang_table = tables[0]"
   ]
  },
  {
   "cell_type": "code",
   "execution_count": null,
   "metadata": {
    "ExecuteTime": {
     "end_time": "2021-04-02T15:22:53.363407Z",
     "start_time": "2021-04-02T15:22:53.350527Z"
    }
   },
   "outputs": [],
   "source": [
    "# lang_table\n",
    "header_row = 0\n",
    "lang_table.columns = lang_table.iloc[header_row]\n",
    "lang_table = lang_table.drop(header_row)\n",
    "lang_table.reset_index(drop= True, inplace= True)\n",
    "lang_table.replace('English (default)', 'English', inplace= True)\n",
    "lang_table"
   ]
  },
  {
   "cell_type": "code",
   "execution_count": null,
   "metadata": {
    "ExecuteTime": {
     "end_time": "2021-04-02T15:25:42.447826Z",
     "start_time": "2021-04-02T15:25:42.443338Z"
    }
   },
   "outputs": [],
   "source": [
    "lang_table.to_csv('data/languages.csv', index= False)"
   ]
  },
  {
   "cell_type": "code",
   "execution_count": null,
   "metadata": {
    "ExecuteTime": {
     "end_time": "2021-04-02T15:46:33.982159Z",
     "start_time": "2021-04-02T15:46:33.972596Z"
    }
   },
   "outputs": [],
   "source": [
    "duped = df[df.duplicated(subset= 'tweets')]"
   ]
  },
  {
   "cell_type": "code",
   "execution_count": null,
   "metadata": {
    "ExecuteTime": {
     "end_time": "2021-04-02T15:49:49.571048Z",
     "start_time": "2021-04-02T15:49:49.568338Z"
    }
   },
   "outputs": [],
   "source": [
    "pd.set_option('display.max_colwidth', None)"
   ]
  },
  {
   "cell_type": "code",
   "execution_count": null,
   "metadata": {
    "ExecuteTime": {
     "end_time": "2021-04-02T15:49:50.613245Z",
     "start_time": "2021-04-02T15:49:50.604534Z"
    }
   },
   "outputs": [],
   "source": [
    "duped"
   ]
  },
  {
   "cell_type": "code",
   "execution_count": null,
   "metadata": {
    "ExecuteTime": {
     "end_time": "2021-04-02T15:53:38.426807Z",
     "start_time": "2021-04-02T15:53:38.417025Z"
    }
   },
   "outputs": [],
   "source": [
    "# remove duplicates\n",
    "df.drop_duplicates(subset= 'tweets', keep= 'first', inplace= True)\n",
    "df.reset_index(drop= True, inplace= True)\n",
    "df.tweets.duplicated().sum()"
   ]
  },
  {
   "cell_type": "code",
   "execution_count": null,
   "metadata": {
    "ExecuteTime": {
     "end_time": "2021-04-02T15:54:52.907824Z",
     "start_time": "2021-04-02T15:54:52.902869Z"
    }
   },
   "outputs": [],
   "source": [
    "df.tweets.duplicated().sum()"
   ]
  },
  {
   "cell_type": "code",
   "execution_count": null,
   "metadata": {
    "ExecuteTime": {
     "end_time": "2021-04-02T16:01:18.156092Z",
     "start_time": "2021-04-02T16:01:18.145465Z"
    }
   },
   "outputs": [],
   "source": [
    "df[df['language'] == 'und']"
   ]
  },
  {
   "cell_type": "code",
   "execution_count": null,
   "metadata": {
    "ExecuteTime": {
     "end_time": "2021-04-02T16:03:23.631400Z",
     "start_time": "2021-04-02T16:03:23.626943Z"
    }
   },
   "outputs": [],
   "source": [
    "df = df[df['language'] != 'und']"
   ]
  },
  {
   "cell_type": "code",
   "execution_count": null,
   "metadata": {
    "ExecuteTime": {
     "end_time": "2021-04-02T16:03:28.507886Z",
     "start_time": "2021-04-02T16:03:28.497926Z"
    }
   },
   "outputs": [],
   "source": [
    "df.info()"
   ]
  },
  {
   "cell_type": "code",
   "execution_count": null,
   "metadata": {
    "ExecuteTime": {
     "end_time": "2021-04-02T16:20:47.381173Z",
     "start_time": "2021-04-02T16:20:47.377561Z"
    }
   },
   "outputs": [],
   "source": [
    "lang_table.columns"
   ]
  },
  {
   "cell_type": "code",
   "execution_count": null,
   "metadata": {
    "ExecuteTime": {
     "end_time": "2021-04-02T16:22:12.558201Z",
     "start_time": "2021-04-02T16:22:12.548919Z"
    }
   },
   "outputs": [],
   "source": [
    "df"
   ]
  },
  {
   "cell_type": "code",
   "execution_count": null,
   "metadata": {
    "ExecuteTime": {
     "end_time": "2021-04-02T16:40:29.678460Z",
     "start_time": "2021-04-02T16:40:29.661836Z"
    }
   },
   "outputs": [],
   "source": [
    "df2 = df.merge(lang_table, how= 'inner', left_on= 'language', right_on= 'Language code')\n",
    "df2.info()"
   ]
  },
  {
   "cell_type": "code",
   "execution_count": null,
   "metadata": {
    "ExecuteTime": {
     "end_time": "2021-04-02T16:40:31.892645Z",
     "start_time": "2021-04-02T16:40:31.880114Z"
    }
   },
   "outputs": [],
   "source": [
    "df2.drop(columns = ['language', 'Language code'], inplace= True)\n",
    "df2.rename(columns={'Name': 'language'}, inplace= True)\n",
    "df2"
   ]
  },
  {
   "cell_type": "code",
   "execution_count": null,
   "metadata": {
    "ExecuteTime": {
     "end_time": "2021-04-02T16:40:37.540734Z",
     "start_time": "2021-04-02T16:40:37.537360Z"
    }
   },
   "outputs": [],
   "source": [
    "df2.rename(columns={'Name': 'language'}, inplace= True)"
   ]
  },
  {
   "cell_type": "code",
   "execution_count": null,
   "metadata": {
    "ExecuteTime": {
     "end_time": "2021-04-02T16:41:38.226537Z",
     "start_time": "2021-04-02T16:41:38.219601Z"
    }
   },
   "outputs": [],
   "source": [
    "df2['time'] = pd.to_datetime(df2['time']).dt.date"
   ]
  },
  {
   "cell_type": "code",
   "execution_count": null,
   "metadata": {
    "ExecuteTime": {
     "end_time": "2021-04-02T16:41:39.602341Z",
     "start_time": "2021-04-02T16:41:39.592114Z"
    }
   },
   "outputs": [],
   "source": [
    "df2"
   ]
  },
  {
   "cell_type": "code",
   "execution_count": null,
   "metadata": {
    "ExecuteTime": {
     "end_time": "2021-04-02T16:35:12.210595Z",
     "start_time": "2021-04-02T16:35:12.199871Z"
    }
   },
   "outputs": [],
   "source": [
    "df2"
   ]
  },
  {
   "cell_type": "code",
   "execution_count": null,
   "metadata": {
    "ExecuteTime": {
     "end_time": "2021-04-02T16:44:37.443221Z",
     "start_time": "2021-04-02T16:44:37.440479Z"
    }
   },
   "outputs": [],
   "source": [
    "import seaborn as sns\n",
    "sns.set_style('whitegrid')"
   ]
  },
  {
   "cell_type": "code",
   "execution_count": null,
   "metadata": {
    "ExecuteTime": {
     "end_time": "2021-04-02T16:51:39.872983Z",
     "start_time": "2021-04-02T16:51:39.640312Z"
    }
   },
   "outputs": [],
   "source": [
    "# countplot that excludes English to see detail\n",
    "plt.figure(figsize= (10, 8))\n",
    "sns.countplot(y= 'language', data= df2, palette='autumn',\n",
    "              order= df2.language.value_counts().iloc[1:].index)\n",
    "plt.title('Count of Tweets, Excluding English', fontsize= 14)\n",
    "plt.xlabel('# of Tweets')\n",
    "plt.ylabel('Language')\n",
    "plt.show()"
   ]
  },
  {
   "cell_type": "markdown",
   "metadata": {},
   "source": [
    "## Text sentiment"
   ]
  },
  {
   "cell_type": "code",
   "execution_count": null,
   "metadata": {},
   "outputs": [],
   "source": [
    "# remove urls? https: http: ..."
   ]
  },
  {
   "cell_type": "code",
   "execution_count": null,
   "metadata": {},
   "outputs": [],
   "source": [
    "# use textblob?"
   ]
  },
  {
   "cell_type": "code",
   "execution_count": 2,
   "metadata": {
    "ExecuteTime": {
     "end_time": "2021-04-04T18:26:52.737072Z",
     "start_time": "2021-04-04T18:26:52.681025Z"
    }
   },
   "outputs": [],
   "source": [
    "df2 = pd.read_csv('data/tweets_translated.csv')"
   ]
  },
  {
   "cell_type": "code",
   "execution_count": 3,
   "metadata": {
    "ExecuteTime": {
     "end_time": "2021-04-04T18:26:55.152195Z",
     "start_time": "2021-04-04T18:26:55.148236Z"
    }
   },
   "outputs": [],
   "source": [
    "sentiment_df = df2[['time', 'tweets']]"
   ]
  },
  {
   "cell_type": "code",
   "execution_count": 30,
   "metadata": {
    "ExecuteTime": {
     "end_time": "2021-04-04T20:35:06.996434Z",
     "start_time": "2021-04-04T20:35:06.993943Z"
    }
   },
   "outputs": [],
   "source": [
    "trial_df = sentiment_df[20:35]"
   ]
  },
  {
   "cell_type": "code",
   "execution_count": 31,
   "metadata": {
    "ExecuteTime": {
     "end_time": "2021-04-04T20:35:13.144620Z",
     "start_time": "2021-04-04T20:35:13.137293Z"
    }
   },
   "outputs": [
    {
     "data": {
      "text/html": [
       "<div>\n",
       "<style scoped>\n",
       "    .dataframe tbody tr th:only-of-type {\n",
       "        vertical-align: middle;\n",
       "    }\n",
       "\n",
       "    .dataframe tbody tr th {\n",
       "        vertical-align: top;\n",
       "    }\n",
       "\n",
       "    .dataframe thead th {\n",
       "        text-align: right;\n",
       "    }\n",
       "</style>\n",
       "<table border=\"1\" class=\"dataframe\">\n",
       "  <thead>\n",
       "    <tr style=\"text-align: right;\">\n",
       "      <th></th>\n",
       "      <th>time</th>\n",
       "      <th>tweets</th>\n",
       "    </tr>\n",
       "  </thead>\n",
       "  <tbody>\n",
       "    <tr>\n",
       "      <th>20</th>\n",
       "      <td>2021-04-01</td>\n",
       "      <td>3 things to know about HHS' COVID-19 vaccine ad campaign, leadership group https://t.co/uC0Q8ICo0a https://t.co/krRe0lGErR</td>\n",
       "    </tr>\n",
       "    <tr>\n",
       "      <th>21</th>\n",
       "      <td>2021-04-01</td>\n",
       "      <td>We've got COVID-19 vaccine appointments open at Twin Falls and Boise this Saturday! https://t.co/eeBNIpe6XH</td>\n",
       "    </tr>\n",
       "    <tr>\n",
       "      <th>22</th>\n",
       "      <td>2021-04-01</td>\n",
       "      <td>Garda unrest over vaccine rollout as 100 receive surplus Covid jabs https://t.co/qdohN860rt</td>\n",
       "    </tr>\n",
       "    <tr>\n",
       "      <th>23</th>\n",
       "      <td>2021-04-01</td>\n",
       "      <td>Over 5M Canadians given at least one COVID-19 vaccine dose as rollout picks up steam https://t.co/Fq0V57MCUG https://t.co/MNNBFW8pjq</td>\n",
       "    </tr>\n",
       "    <tr>\n",
       "      <th>24</th>\n",
       "      <td>2021-04-01</td>\n",
       "      <td>@SegunOjo3 @SirMcAwesome247 @MobilePunch @dabiodunMFR  your excellence if u cannot rehabilitate do patch patch oun eba she loni Itan ni Lola #Covid_19 vaccine only circulating to Ota</td>\n",
       "    </tr>\n",
       "    <tr>\n",
       "      <th>25</th>\n",
       "      <td>2021-04-01</td>\n",
       "      <td>@EandM4ever @teddering @mtgreenee Btw. There’s two CDC pages that state continue to wear masks. Go away id1ot. You’re out of your wheelhouse. 🤷🏽‍♂️ vaccinated-heres-why-you-shouldnt-stop-wearing-your-face-mask-yet/\\n\\nhttps://t.co/6bzHumaPWN\\n\\nhttps://t.co/elq70yrTo5\\n\\nhttps://t.co/PRoGslntD7\\n\\nhttps://t.co/g6pq1Uf8bz</td>\n",
       "    </tr>\n",
       "    <tr>\n",
       "      <th>26</th>\n",
       "      <td>2021-04-01</td>\n",
       "      <td>My mom got her first covid vaccine today!!! 🙌🏼 https://t.co/TfhWs6uOk3</td>\n",
       "    </tr>\n",
       "    <tr>\n",
       "      <th>27</th>\n",
       "      <td>2021-04-01</td>\n",
       "      <td>@drharshvardhan @narendramodi @PMOIndia Stop flattering Modiji and work for covid! Open  vaccine for ALL ASAP</td>\n",
       "    </tr>\n",
       "    <tr>\n",
       "      <th>28</th>\n",
       "      <td>2021-04-01</td>\n",
       "      <td>He rly just said if you get covid once you can’t ever get it again and getting a vaccine means you have to get vaccines forever so it’s dumb... I wasn’t even arguing back I was just like ok but he kept going like shut up</td>\n",
       "    </tr>\n",
       "    <tr>\n",
       "      <th>29</th>\n",
       "      <td>2021-04-01</td>\n",
       "      <td>@RNAiAnalyst @somtam9999 Pfizer will have fridge ready version of covid vaccine in several months. I would reconsider this position if I were you. https://t.co/cwjLrTshfw</td>\n",
       "    </tr>\n",
       "    <tr>\n",
       "      <th>30</th>\n",
       "      <td>2021-04-01</td>\n",
       "      <td>As COVID-19 Vaccine Myths Persist, USF Health Expert Shares The Facts https://t.co/rH5nIpcAzP</td>\n",
       "    </tr>\n",
       "    <tr>\n",
       "      <th>31</th>\n",
       "      <td>2021-04-01</td>\n",
       "      <td>@MarkGerretsen Boasting success at a time like this shows a stunning level of tone deafness.\\n\\nIt hurts to see what our province is going through, but to celebrate it is salt in a fresh wound. Why didnt the vax arrive 2 months sooner? What stopped us??\\n\\nBe accountable.\\n\\nhttps://t.co/949ZUruqoe</td>\n",
       "    </tr>\n",
       "    <tr>\n",
       "      <th>32</th>\n",
       "      <td>2021-04-01</td>\n",
       "      <td>The number of #COVID_19 variant cases is increasing in #SantaClaraCounty, a worrying trend that comes as the county faces a shortage of vaccine doses. https://t.co/O6upof6raD</td>\n",
       "    </tr>\n",
       "    <tr>\n",
       "      <th>33</th>\n",
       "      <td>2021-04-01</td>\n",
       "      <td>🥇  Seattle area #1 in the United States for willingness to get the #covid19 vaccine. 👏👏👏\\n#VaccinesWork \\n\\nhttps://t.co/uJmywbwq8y via @seattletimes</td>\n",
       "    </tr>\n",
       "    <tr>\n",
       "      <th>34</th>\n",
       "      <td>2021-04-01</td>\n",
       "      <td>Only six months? That’s a good thing?\\nPfizer says COVID-19 vaccine lasts 6 months, protects against variants https://t.co/aFzNKMpmgM via @nypost</td>\n",
       "    </tr>\n",
       "  </tbody>\n",
       "</table>\n",
       "</div>"
      ],
      "text/plain": [
       "          time  \\\n",
       "20  2021-04-01   \n",
       "21  2021-04-01   \n",
       "22  2021-04-01   \n",
       "23  2021-04-01   \n",
       "24  2021-04-01   \n",
       "25  2021-04-01   \n",
       "26  2021-04-01   \n",
       "27  2021-04-01   \n",
       "28  2021-04-01   \n",
       "29  2021-04-01   \n",
       "30  2021-04-01   \n",
       "31  2021-04-01   \n",
       "32  2021-04-01   \n",
       "33  2021-04-01   \n",
       "34  2021-04-01   \n",
       "\n",
       "                                                                                                                                                                                                                                                                                                                                tweets  \n",
       "20                                                                                                                                                                                                          3 things to know about HHS' COVID-19 vaccine ad campaign, leadership group https://t.co/uC0Q8ICo0a https://t.co/krRe0lGErR  \n",
       "21                                                                                                                                                                                                                         We've got COVID-19 vaccine appointments open at Twin Falls and Boise this Saturday! https://t.co/eeBNIpe6XH  \n",
       "22                                                                                                                                                                                                                                         Garda unrest over vaccine rollout as 100 receive surplus Covid jabs https://t.co/qdohN860rt  \n",
       "23                                                                                                                                                                                                Over 5M Canadians given at least one COVID-19 vaccine dose as rollout picks up steam https://t.co/Fq0V57MCUG https://t.co/MNNBFW8pjq  \n",
       "24                                                                                                                                              @SegunOjo3 @SirMcAwesome247 @MobilePunch @dabiodunMFR  your excellence if u cannot rehabilitate do patch patch oun eba she loni Itan ni Lola #Covid_19 vaccine only circulating to Ota  \n",
       "25  @EandM4ever @teddering @mtgreenee Btw. There’s two CDC pages that state continue to wear masks. Go away id1ot. You’re out of your wheelhouse. 🤷🏽‍♂️ vaccinated-heres-why-you-shouldnt-stop-wearing-your-face-mask-yet/\\n\\nhttps://t.co/6bzHumaPWN\\n\\nhttps://t.co/elq70yrTo5\\n\\nhttps://t.co/PRoGslntD7\\n\\nhttps://t.co/g6pq1Uf8bz  \n",
       "26                                                                                                                                                                                                                                                              My mom got her first covid vaccine today!!! 🙌🏼 https://t.co/TfhWs6uOk3  \n",
       "27                                                                                                                                                                                                                       @drharshvardhan @narendramodi @PMOIndia Stop flattering Modiji and work for covid! Open  vaccine for ALL ASAP  \n",
       "28                                                                                                        He rly just said if you get covid once you can’t ever get it again and getting a vaccine means you have to get vaccines forever so it’s dumb... I wasn’t even arguing back I was just like ok but he kept going like shut up  \n",
       "29                                                                                                                                                          @RNAiAnalyst @somtam9999 Pfizer will have fridge ready version of covid vaccine in several months. I would reconsider this position if I were you. https://t.co/cwjLrTshfw  \n",
       "30                                                                                                                                                                                                                                       As COVID-19 Vaccine Myths Persist, USF Health Expert Shares The Facts https://t.co/rH5nIpcAzP  \n",
       "31                         @MarkGerretsen Boasting success at a time like this shows a stunning level of tone deafness.\\n\\nIt hurts to see what our province is going through, but to celebrate it is salt in a fresh wound. Why didnt the vax arrive 2 months sooner? What stopped us??\\n\\nBe accountable.\\n\\nhttps://t.co/949ZUruqoe  \n",
       "32                                                                                                                                                      The number of #COVID_19 variant cases is increasing in #SantaClaraCounty, a worrying trend that comes as the county faces a shortage of vaccine doses. https://t.co/O6upof6raD  \n",
       "33                                                                                                                                                                               🥇  Seattle area #1 in the United States for willingness to get the #covid19 vaccine. 👏👏👏\\n#VaccinesWork \\n\\nhttps://t.co/uJmywbwq8y via @seattletimes  \n",
       "34                                                                                                                                                                                   Only six months? That’s a good thing?\\nPfizer says COVID-19 vaccine lasts 6 months, protects against variants https://t.co/aFzNKMpmgM via @nypost  "
      ]
     },
     "execution_count": 31,
     "metadata": {},
     "output_type": "execute_result"
    }
   ],
   "source": [
    "pd.set_option('display.max_colwidth', None)\n",
    "trial_df"
   ]
  },
  {
   "cell_type": "code",
   "execution_count": 9,
   "metadata": {
    "ExecuteTime": {
     "end_time": "2021-04-04T18:30:21.298688Z",
     "start_time": "2021-04-04T18:30:21.291373Z"
    }
   },
   "outputs": [
    {
     "ename": "ImportError",
     "evalue": "cannot import name 'enums' from 'google.cloud.language' (/Users/cassienutter/opt/anaconda3/envs/learn-env/lib/python3.8/site-packages/google/cloud/language/__init__.py)",
     "output_type": "error",
     "traceback": [
      "\u001b[0;31m---------------------------------------------------------------------------\u001b[0m",
      "\u001b[0;31mImportError\u001b[0m                               Traceback (most recent call last)",
      "\u001b[0;32m<ipython-input-9-0f562ab13232>\u001b[0m in \u001b[0;36m<module>\u001b[0;34m\u001b[0m\n\u001b[1;32m      1\u001b[0m \u001b[0;32mfrom\u001b[0m \u001b[0mgoogle\u001b[0m\u001b[0;34m.\u001b[0m\u001b[0moauth2\u001b[0m \u001b[0;32mimport\u001b[0m \u001b[0mservice_account\u001b[0m\u001b[0;34m\u001b[0m\u001b[0;34m\u001b[0m\u001b[0m\n\u001b[1;32m      2\u001b[0m \u001b[0;32mfrom\u001b[0m \u001b[0mgoogle\u001b[0m\u001b[0;34m.\u001b[0m\u001b[0mcloud\u001b[0m \u001b[0;32mimport\u001b[0m \u001b[0mlanguage\u001b[0m\u001b[0;34m\u001b[0m\u001b[0;34m\u001b[0m\u001b[0m\n\u001b[0;32m----> 3\u001b[0;31m \u001b[0;32mfrom\u001b[0m \u001b[0mgoogle\u001b[0m\u001b[0;34m.\u001b[0m\u001b[0mcloud\u001b[0m\u001b[0;34m.\u001b[0m\u001b[0mlanguage\u001b[0m \u001b[0;32mimport\u001b[0m \u001b[0menums\u001b[0m\u001b[0;34m\u001b[0m\u001b[0;34m\u001b[0m\u001b[0m\n\u001b[0m\u001b[1;32m      4\u001b[0m \u001b[0;32mfrom\u001b[0m \u001b[0mgoogle\u001b[0m\u001b[0;34m.\u001b[0m\u001b[0mcloud\u001b[0m\u001b[0;34m.\u001b[0m\u001b[0mlanguage\u001b[0m \u001b[0;32mimport\u001b[0m \u001b[0mtypes\u001b[0m\u001b[0;34m\u001b[0m\u001b[0;34m\u001b[0m\u001b[0m\n",
      "\u001b[0;31mImportError\u001b[0m: cannot import name 'enums' from 'google.cloud.language' (/Users/cassienutter/opt/anaconda3/envs/learn-env/lib/python3.8/site-packages/google/cloud/language/__init__.py)"
     ]
    }
   ],
   "source": [
    "from google.oauth2 import service_account\n",
    "from google.cloud import language"
   ]
  },
  {
   "cell_type": "code",
   "execution_count": 6,
   "metadata": {
    "ExecuteTime": {
     "end_time": "2021-04-04T18:27:44.271655Z",
     "start_time": "2021-04-04T18:27:44.264852Z"
    }
   },
   "outputs": [],
   "source": [
    "credentials = service_account.Credentials.from_service_account_file('../GCP_service_account.json')\n",
    "# translate_client = translate.Client(credentials= credentials)"
   ]
  },
  {
   "cell_type": "code",
   "execution_count": 10,
   "metadata": {
    "ExecuteTime": {
     "end_time": "2021-04-04T18:34:23.593226Z",
     "start_time": "2021-04-04T18:34:23.590910Z"
    }
   },
   "outputs": [],
   "source": [
    "# client = language.LanguageServiceClient()\n",
    "nlp_client = language.Client(credentials = credentials)"
   ]
  },
  {
   "cell_type": "code",
   "execution_count": null,
   "metadata": {},
   "outputs": [],
   "source": [
    "nlp_client.document_from_text"
   ]
  },
  {
   "cell_type": "code",
   "execution_count": 22,
   "metadata": {
    "ExecuteTime": {
     "end_time": "2021-04-04T19:09:07.660488Z",
     "start_time": "2021-04-04T19:09:07.657627Z"
    }
   },
   "outputs": [],
   "source": [
    "def language_analysis(text):\n",
    "    document = nlp_client.document_from_text(text)\n",
    "    \n",
    "    sent_analysis = document.analyze_sentiment()\n",
    "#     print(dir(sent_analysis))\n",
    "    sentiment = sent_analysis.sentiment\n",
    "    \n",
    "    ent_analysis = document.analyze_entities()\n",
    "    entities = ent_analysis.entities\n",
    "    \n",
    "#     synt_analysis = document.synt_analysis()\n",
    "#     syntax = synt_analysis.syntax\n",
    "    \n",
    "    return sentiment, entities"
   ]
  },
  {
   "cell_type": "code",
   "execution_count": 23,
   "metadata": {
    "ExecuteTime": {
     "end_time": "2021-04-04T19:09:10.773019Z",
     "start_time": "2021-04-04T19:09:10.518403Z"
    }
   },
   "outputs": [
    {
     "name": "stdout",
     "output_type": "stream",
     "text": [
      "0 1.7\n",
      "\n",
      "@Kit_Yates_Maths OTHER {} 0.34725827\n",
      "Vax ORGANIZATION {} 0.19746856\n",
      "deployment EVENT {} 0.11366356\n",
      "Infection rates OTHER {} 0.077673785\n",
      "hospitalisation EVENT {} 0.077008925\n",
      "pressure OTHER {} 0.0713769\n",
      "NHS ORGANIZATION {'wikipedia_url': 'https://en.wikipedia.org/wiki/National_Health_Service_(England)', 'mid': '/m/01fw9h'} 0.042488087\n",
      "https://t.co/iVMKF2pPsF https://t.co/ta4t21HH9s OTHER {} 0.025483804\n",
      "concern OTHER {} 0.023789061\n",
      "Variants OTHER {} 0.023789061\n",
      "4 NUMBER {'value': '4'} 0\n",
      "2 NUMBER {'value': '2'} 0\n",
      "1 NUMBER {'value': '1'} 0\n",
      "3 NUMBER {'value': '3'} 0\n"
     ]
    }
   ],
   "source": [
    "# example_text = 'Is it not obvious that Python is the best programming language of them all?'\n",
    "# example_text = 'Concerning the use of aborted baby tissue in the J&amp;J Covid vaccine:\\n\\n“The J&amp;J vaccine has sparked debate among some religious communities because it was developed from stem cells obtained during two abortions decades ago.”\\n\\nEvil is still evil, even if it was decades ago.'\n",
    "example_text = '@Kit_Yates_Maths Tests\\n1. Vax deployment ✅✅\\n2. Vax reduces hospitalisation ✅✅\\n3. Infection rates unsubstantiated pressure on NHS ✅\\n4. Variants of concern ☑️\\n\\nSo not measured but very conservative \\nhttps://t.co/iVMKF2pPsF https://t.co/ta4t21HH9s'\n",
    "\n",
    "sentiment, entities = language_analysis(example_text)\n",
    "print(sentiment.score, sentiment.magnitude)\n",
    "print()\n",
    "for e in entities:\n",
    "    print (e.name, e.entity_type, e.metadata, e.salience)"
   ]
  },
  {
   "cell_type": "markdown",
   "metadata": {
    "ExecuteTime": {
     "end_time": "2021-04-04T19:02:08.536073Z",
     "start_time": "2021-04-04T19:02:08.533333Z"
    }
   },
   "source": [
    "**score** of the sentiment ranges between -1.0 (negative) and 1.0 (positive) and corresponds to the overall emotional leaning of the text.\n",
    "\n",
    "**magnitude** indicates the overall strength of emotion (both positive and negative) within the given text, between 0.0 and +inf. Unlike score, magnitude is not normalized; each expression of emotion within the text (both positive and negative) contributes to the text's magnitude (so longer text blocks may have greater magnitudes)."
   ]
  },
  {
   "cell_type": "code",
   "execution_count": 32,
   "metadata": {
    "ExecuteTime": {
     "end_time": "2021-04-04T20:36:38.270610Z",
     "start_time": "2021-04-04T20:36:38.267286Z"
    }
   },
   "outputs": [
    {
     "name": "stdout",
     "output_type": "stream",
     "text": [
      "3 things to know about HHS' COVID-19 vaccine ad campaign, leadership group https://t.co/uC0Q8ICo0a https://t.co/krRe0lGErR\n",
      "We've got COVID-19 vaccine appointments open at Twin Falls and Boise this Saturday! https://t.co/eeBNIpe6XH\n",
      "Garda unrest over vaccine rollout as 100 receive surplus Covid jabs https://t.co/qdohN860rt\n",
      "Over 5M Canadians given at least one COVID-19 vaccine dose as rollout picks up steam https://t.co/Fq0V57MCUG https://t.co/MNNBFW8pjq\n",
      "@SegunOjo3 @SirMcAwesome247 @MobilePunch @dabiodunMFR  your excellence if u cannot rehabilitate do patch patch oun eba she loni Itan ni Lola #Covid_19 vaccine only circulating to Ota\n",
      "@EandM4ever @teddering @mtgreenee Btw. There’s two CDC pages that state continue to wear masks. Go away id1ot. You’re out of your wheelhouse. 🤷🏽‍♂️ vaccinated-heres-why-you-shouldnt-stop-wearing-your-face-mask-yet/\n",
      "\n",
      "https://t.co/6bzHumaPWN\n",
      "\n",
      "https://t.co/elq70yrTo5\n",
      "\n",
      "https://t.co/PRoGslntD7\n",
      "\n",
      "https://t.co/g6pq1Uf8bz\n",
      "My mom got her first covid vaccine today!!! 🙌🏼 https://t.co/TfhWs6uOk3\n",
      "@drharshvardhan @narendramodi @PMOIndia Stop flattering Modiji and work for covid! Open  vaccine for ALL ASAP\n",
      "He rly just said if you get covid once you can’t ever get it again and getting a vaccine means you have to get vaccines forever so it’s dumb... I wasn’t even arguing back I was just like ok but he kept going like shut up\n",
      "@RNAiAnalyst @somtam9999 Pfizer will have fridge ready version of covid vaccine in several months. I would reconsider this position if I were you. https://t.co/cwjLrTshfw\n",
      "As COVID-19 Vaccine Myths Persist, USF Health Expert Shares The Facts https://t.co/rH5nIpcAzP\n",
      "@MarkGerretsen Boasting success at a time like this shows a stunning level of tone deafness.\n",
      "\n",
      "It hurts to see what our province is going through, but to celebrate it is salt in a fresh wound. Why didnt the vax arrive 2 months sooner? What stopped us??\n",
      "\n",
      "Be accountable.\n",
      "\n",
      "https://t.co/949ZUruqoe\n",
      "The number of #COVID_19 variant cases is increasing in #SantaClaraCounty, a worrying trend that comes as the county faces a shortage of vaccine doses. https://t.co/O6upof6raD\n",
      "🥇  Seattle area #1 in the United States for willingness to get the #covid19 vaccine. 👏👏👏\n",
      "#VaccinesWork \n",
      "\n",
      "https://t.co/uJmywbwq8y via @seattletimes\n",
      "Only six months? That’s a good thing?\n",
      "Pfizer says COVID-19 vaccine lasts 6 months, protects against variants https://t.co/aFzNKMpmgM via @nypost\n"
     ]
    }
   ],
   "source": [
    "# for i in trial_df.tweets:\n",
    "#     print(i)\n",
    "    \n",
    "result = {}\n",
    "\n",
    "for text in example_text:\n",
    "    sentiment, entities = language_analysis(text)\n",
    "    result['score'] = sentiment.score\n",
    "    result['magnitude'] = sentiment.magnitude\n",
    "    \n",
    "    for e in entities:\n",
    "        result['entity name'] = e.name\n",
    "        result['entity salience'] = e.salience\n",
    "        \n",
    "    google_nlp_results = pd.DataFrame()"
   ]
  },
  {
   "cell_type": "code",
   "execution_count": null,
   "metadata": {},
   "outputs": [],
   "source": []
  },
  {
   "cell_type": "code",
   "execution_count": null,
   "metadata": {},
   "outputs": [],
   "source": []
  },
  {
   "cell_type": "code",
   "execution_count": null,
   "metadata": {},
   "outputs": [],
   "source": []
  },
  {
   "cell_type": "code",
   "execution_count": null,
   "metadata": {},
   "outputs": [],
   "source": []
  },
  {
   "cell_type": "markdown",
   "metadata": {},
   "source": [
    "## Doing it the hard way"
   ]
  },
  {
   "cell_type": "code",
   "execution_count": 34,
   "metadata": {
    "ExecuteTime": {
     "end_time": "2021-04-04T20:56:58.648195Z",
     "start_time": "2021-04-04T20:56:58.622960Z"
    }
   },
   "outputs": [],
   "source": [
    "from nltk.tokenize import TweetTokenizer\n",
    "import re \n",
    "from textblob import TextBlob\n",
    "tknzr = TweetTokenizer(strip_handles=True, reduce_len=True)"
   ]
  },
  {
   "cell_type": "code",
   "execution_count": null,
   "metadata": {},
   "outputs": [],
   "source": [
    "tweet_tokens = []\n",
    "for sent in compare_list:\n",
    "    print(tweet_tokenizer.tokenize(sent))\n",
    "    tweet_tokens.append(tweet_tokenizer.tokenize(sent))"
   ]
  },
  {
   "cell_type": "code",
   "execution_count": 36,
   "metadata": {
    "ExecuteTime": {
     "end_time": "2021-04-04T20:58:40.799020Z",
     "start_time": "2021-04-04T20:58:40.796385Z"
    }
   },
   "outputs": [],
   "source": [
    "def clean_tweet(tweet):\n",
    "    return ' '.join(re.sub(\"(@[A-Za-z0-9]+)|([^0-9A-Za-z \\t])|(\\w+:\\/\\/\\S+)\", \n",
    "                           \" \", tweet).split())"
   ]
  },
  {
   "cell_type": "code",
   "execution_count": 46,
   "metadata": {
    "ExecuteTime": {
     "end_time": "2021-04-04T21:08:48.425335Z",
     "start_time": "2021-04-04T21:08:48.422416Z"
    }
   },
   "outputs": [],
   "source": [
    "def get_tweet_sentiment(tweet):\n",
    "    analysis = TextBlob(clean_tweet(tweet))\n",
    "    if analysis.sentiment.polarity < 0:\n",
    "        return 'negative'\n",
    "    elif analysis.sentiment.polarity == 0:\n",
    "        return 'neutral'\n",
    "    else:\n",
    "        return 'positive'"
   ]
  },
  {
   "cell_type": "code",
   "execution_count": 41,
   "metadata": {
    "ExecuteTime": {
     "end_time": "2021-04-04T21:04:39.430724Z",
     "start_time": "2021-04-04T21:04:39.427747Z"
    }
   },
   "outputs": [],
   "source": [
    "cleaned_tweets = []\n",
    "\n",
    "for i in trial_df.tweets:\n",
    "    cleaned = clean_tweet(i)\n",
    "    cleaned_tweets.append(cleaned)"
   ]
  },
  {
   "cell_type": "code",
   "execution_count": 45,
   "metadata": {
    "ExecuteTime": {
     "end_time": "2021-04-04T21:07:17.912421Z",
     "start_time": "2021-04-04T21:07:17.908498Z"
    }
   },
   "outputs": [
    {
     "data": {
      "text/plain": [
       "['3 things to know about HHS COVID 19 vaccine ad campaign leadership group',\n",
       " 'We ve got COVID 19 vaccine appointments open at Twin Falls and Boise this Saturday',\n",
       " 'Garda unrest over vaccine rollout as 100 receive surplus Covid jabs',\n",
       " 'Over 5M Canadians given at least one COVID 19 vaccine dose as rollout picks up steam',\n",
       " 'your excellence if u cannot rehabilitate do patch patch oun eba she loni Itan ni Lola Covid 19 vaccine only circulating to Ota',\n",
       " 'Btw There s two CDC pages that state continue to wear masks Go away id1ot You re out of your wheelhouse vaccinated heres why you shouldnt stop wearing your face mask yet',\n",
       " 'My mom got her first covid vaccine today',\n",
       " 'Stop flattering Modiji and work for covid Open vaccine for ALL ASAP',\n",
       " 'He rly just said if you get covid once you can t ever get it again and getting a vaccine means you have to get vaccines forever so it s dumb I wasn t even arguing back I was just like ok but he kept going like shut up',\n",
       " 'Pfizer will have fridge ready version of covid vaccine in several months I would reconsider this position if I were you',\n",
       " 'As COVID 19 Vaccine Myths Persist USF Health Expert Shares The Facts',\n",
       " 'Boasting success at a time like this shows a stunning level of tone deafness It hurts to see what our province is going through but to celebrate it is salt in a fresh wound Why didnt the vax arrive 2 months sooner What stopped us Be accountable',\n",
       " 'The number of COVID 19 variant cases is increasing in SantaClaraCounty a worrying trend that comes as the county faces a shortage of vaccine doses',\n",
       " 'Seattle area 1 in the United States for willingness to get the covid19 vaccine VaccinesWork via',\n",
       " 'Only six months That s a good thing Pfizer says COVID 19 vaccine lasts 6 months protects against variants via']"
      ]
     },
     "execution_count": 45,
     "metadata": {},
     "output_type": "execute_result"
    }
   ],
   "source": [
    "cleaned_tweets"
   ]
  },
  {
   "cell_type": "code",
   "execution_count": 47,
   "metadata": {
    "ExecuteTime": {
     "end_time": "2021-04-04T21:08:52.084914Z",
     "start_time": "2021-04-04T21:08:52.077612Z"
    }
   },
   "outputs": [],
   "source": [
    "sentiment_nums = []\n",
    "\n",
    "for i in cleaned_tweets:\n",
    "    sent_nums = get_tweet_sentiment(i)\n",
    "    sentiment_nums.append(sent_nums)"
   ]
  },
  {
   "cell_type": "code",
   "execution_count": 48,
   "metadata": {
    "ExecuteTime": {
     "end_time": "2021-04-04T21:08:52.768876Z",
     "start_time": "2021-04-04T21:08:52.765256Z"
    }
   },
   "outputs": [
    {
     "data": {
      "text/plain": [
       "['neutral',\n",
       " 'neutral',\n",
       " 'neutral',\n",
       " 'negative',\n",
       " 'neutral',\n",
       " 'neutral',\n",
       " 'positive',\n",
       " 'neutral',\n",
       " 'positive',\n",
       " 'positive',\n",
       " 'neutral',\n",
       " 'positive',\n",
       " 'neutral',\n",
       " 'neutral',\n",
       " 'positive']"
      ]
     },
     "execution_count": 48,
     "metadata": {},
     "output_type": "execute_result"
    }
   ],
   "source": [
    "sentiment_nums"
   ]
  },
  {
   "cell_type": "code",
   "execution_count": 49,
   "metadata": {
    "ExecuteTime": {
     "end_time": "2021-04-04T21:10:04.608122Z",
     "start_time": "2021-04-04T21:10:04.604701Z"
    }
   },
   "outputs": [
    {
     "name": "stderr",
     "output_type": "stream",
     "text": [
      "<ipython-input-49-a86fe9e7703f>:1: SettingWithCopyWarning: \n",
      "A value is trying to be set on a copy of a slice from a DataFrame.\n",
      "Try using .loc[row_indexer,col_indexer] = value instead\n",
      "\n",
      "See the caveats in the documentation: https://pandas.pydata.org/pandas-docs/stable/user_guide/indexing.html#returning-a-view-versus-a-copy\n",
      "  trial_df['TBlob sent'] = sentiment_nums\n"
     ]
    }
   ],
   "source": [
    "trial_df['TBlob sent'] = sentiment_nums"
   ]
  },
  {
   "cell_type": "code",
   "execution_count": 50,
   "metadata": {
    "ExecuteTime": {
     "end_time": "2021-04-04T21:10:16.043326Z",
     "start_time": "2021-04-04T21:10:16.034459Z"
    }
   },
   "outputs": [
    {
     "data": {
      "text/html": [
       "<div>\n",
       "<style scoped>\n",
       "    .dataframe tbody tr th:only-of-type {\n",
       "        vertical-align: middle;\n",
       "    }\n",
       "\n",
       "    .dataframe tbody tr th {\n",
       "        vertical-align: top;\n",
       "    }\n",
       "\n",
       "    .dataframe thead th {\n",
       "        text-align: right;\n",
       "    }\n",
       "</style>\n",
       "<table border=\"1\" class=\"dataframe\">\n",
       "  <thead>\n",
       "    <tr style=\"text-align: right;\">\n",
       "      <th></th>\n",
       "      <th>time</th>\n",
       "      <th>tweets</th>\n",
       "      <th>TBlob sent</th>\n",
       "    </tr>\n",
       "  </thead>\n",
       "  <tbody>\n",
       "    <tr>\n",
       "      <th>20</th>\n",
       "      <td>2021-04-01</td>\n",
       "      <td>3 things to know about HHS' COVID-19 vaccine ad campaign, leadership group https://t.co/uC0Q8ICo0a https://t.co/krRe0lGErR</td>\n",
       "      <td>neutral</td>\n",
       "    </tr>\n",
       "    <tr>\n",
       "      <th>21</th>\n",
       "      <td>2021-04-01</td>\n",
       "      <td>We've got COVID-19 vaccine appointments open at Twin Falls and Boise this Saturday! https://t.co/eeBNIpe6XH</td>\n",
       "      <td>neutral</td>\n",
       "    </tr>\n",
       "    <tr>\n",
       "      <th>22</th>\n",
       "      <td>2021-04-01</td>\n",
       "      <td>Garda unrest over vaccine rollout as 100 receive surplus Covid jabs https://t.co/qdohN860rt</td>\n",
       "      <td>neutral</td>\n",
       "    </tr>\n",
       "    <tr>\n",
       "      <th>23</th>\n",
       "      <td>2021-04-01</td>\n",
       "      <td>Over 5M Canadians given at least one COVID-19 vaccine dose as rollout picks up steam https://t.co/Fq0V57MCUG https://t.co/MNNBFW8pjq</td>\n",
       "      <td>negative</td>\n",
       "    </tr>\n",
       "    <tr>\n",
       "      <th>24</th>\n",
       "      <td>2021-04-01</td>\n",
       "      <td>@SegunOjo3 @SirMcAwesome247 @MobilePunch @dabiodunMFR  your excellence if u cannot rehabilitate do patch patch oun eba she loni Itan ni Lola #Covid_19 vaccine only circulating to Ota</td>\n",
       "      <td>neutral</td>\n",
       "    </tr>\n",
       "    <tr>\n",
       "      <th>25</th>\n",
       "      <td>2021-04-01</td>\n",
       "      <td>@EandM4ever @teddering @mtgreenee Btw. There’s two CDC pages that state continue to wear masks. Go away id1ot. You’re out of your wheelhouse. 🤷🏽‍♂️ vaccinated-heres-why-you-shouldnt-stop-wearing-your-face-mask-yet/\\n\\nhttps://t.co/6bzHumaPWN\\n\\nhttps://t.co/elq70yrTo5\\n\\nhttps://t.co/PRoGslntD7\\n\\nhttps://t.co/g6pq1Uf8bz</td>\n",
       "      <td>neutral</td>\n",
       "    </tr>\n",
       "    <tr>\n",
       "      <th>26</th>\n",
       "      <td>2021-04-01</td>\n",
       "      <td>My mom got her first covid vaccine today!!! 🙌🏼 https://t.co/TfhWs6uOk3</td>\n",
       "      <td>positive</td>\n",
       "    </tr>\n",
       "    <tr>\n",
       "      <th>27</th>\n",
       "      <td>2021-04-01</td>\n",
       "      <td>@drharshvardhan @narendramodi @PMOIndia Stop flattering Modiji and work for covid! Open  vaccine for ALL ASAP</td>\n",
       "      <td>neutral</td>\n",
       "    </tr>\n",
       "    <tr>\n",
       "      <th>28</th>\n",
       "      <td>2021-04-01</td>\n",
       "      <td>He rly just said if you get covid once you can’t ever get it again and getting a vaccine means you have to get vaccines forever so it’s dumb... I wasn’t even arguing back I was just like ok but he kept going like shut up</td>\n",
       "      <td>positive</td>\n",
       "    </tr>\n",
       "    <tr>\n",
       "      <th>29</th>\n",
       "      <td>2021-04-01</td>\n",
       "      <td>@RNAiAnalyst @somtam9999 Pfizer will have fridge ready version of covid vaccine in several months. I would reconsider this position if I were you. https://t.co/cwjLrTshfw</td>\n",
       "      <td>positive</td>\n",
       "    </tr>\n",
       "    <tr>\n",
       "      <th>30</th>\n",
       "      <td>2021-04-01</td>\n",
       "      <td>As COVID-19 Vaccine Myths Persist, USF Health Expert Shares The Facts https://t.co/rH5nIpcAzP</td>\n",
       "      <td>neutral</td>\n",
       "    </tr>\n",
       "    <tr>\n",
       "      <th>31</th>\n",
       "      <td>2021-04-01</td>\n",
       "      <td>@MarkGerretsen Boasting success at a time like this shows a stunning level of tone deafness.\\n\\nIt hurts to see what our province is going through, but to celebrate it is salt in a fresh wound. Why didnt the vax arrive 2 months sooner? What stopped us??\\n\\nBe accountable.\\n\\nhttps://t.co/949ZUruqoe</td>\n",
       "      <td>positive</td>\n",
       "    </tr>\n",
       "    <tr>\n",
       "      <th>32</th>\n",
       "      <td>2021-04-01</td>\n",
       "      <td>The number of #COVID_19 variant cases is increasing in #SantaClaraCounty, a worrying trend that comes as the county faces a shortage of vaccine doses. https://t.co/O6upof6raD</td>\n",
       "      <td>neutral</td>\n",
       "    </tr>\n",
       "    <tr>\n",
       "      <th>33</th>\n",
       "      <td>2021-04-01</td>\n",
       "      <td>🥇  Seattle area #1 in the United States for willingness to get the #covid19 vaccine. 👏👏👏\\n#VaccinesWork \\n\\nhttps://t.co/uJmywbwq8y via @seattletimes</td>\n",
       "      <td>neutral</td>\n",
       "    </tr>\n",
       "    <tr>\n",
       "      <th>34</th>\n",
       "      <td>2021-04-01</td>\n",
       "      <td>Only six months? That’s a good thing?\\nPfizer says COVID-19 vaccine lasts 6 months, protects against variants https://t.co/aFzNKMpmgM via @nypost</td>\n",
       "      <td>positive</td>\n",
       "    </tr>\n",
       "  </tbody>\n",
       "</table>\n",
       "</div>"
      ],
      "text/plain": [
       "          time  \\\n",
       "20  2021-04-01   \n",
       "21  2021-04-01   \n",
       "22  2021-04-01   \n",
       "23  2021-04-01   \n",
       "24  2021-04-01   \n",
       "25  2021-04-01   \n",
       "26  2021-04-01   \n",
       "27  2021-04-01   \n",
       "28  2021-04-01   \n",
       "29  2021-04-01   \n",
       "30  2021-04-01   \n",
       "31  2021-04-01   \n",
       "32  2021-04-01   \n",
       "33  2021-04-01   \n",
       "34  2021-04-01   \n",
       "\n",
       "                                                                                                                                                                                                                                                                                                                                tweets  \\\n",
       "20                                                                                                                                                                                                          3 things to know about HHS' COVID-19 vaccine ad campaign, leadership group https://t.co/uC0Q8ICo0a https://t.co/krRe0lGErR   \n",
       "21                                                                                                                                                                                                                         We've got COVID-19 vaccine appointments open at Twin Falls and Boise this Saturday! https://t.co/eeBNIpe6XH   \n",
       "22                                                                                                                                                                                                                                         Garda unrest over vaccine rollout as 100 receive surplus Covid jabs https://t.co/qdohN860rt   \n",
       "23                                                                                                                                                                                                Over 5M Canadians given at least one COVID-19 vaccine dose as rollout picks up steam https://t.co/Fq0V57MCUG https://t.co/MNNBFW8pjq   \n",
       "24                                                                                                                                              @SegunOjo3 @SirMcAwesome247 @MobilePunch @dabiodunMFR  your excellence if u cannot rehabilitate do patch patch oun eba she loni Itan ni Lola #Covid_19 vaccine only circulating to Ota   \n",
       "25  @EandM4ever @teddering @mtgreenee Btw. There’s two CDC pages that state continue to wear masks. Go away id1ot. You’re out of your wheelhouse. 🤷🏽‍♂️ vaccinated-heres-why-you-shouldnt-stop-wearing-your-face-mask-yet/\\n\\nhttps://t.co/6bzHumaPWN\\n\\nhttps://t.co/elq70yrTo5\\n\\nhttps://t.co/PRoGslntD7\\n\\nhttps://t.co/g6pq1Uf8bz   \n",
       "26                                                                                                                                                                                                                                                              My mom got her first covid vaccine today!!! 🙌🏼 https://t.co/TfhWs6uOk3   \n",
       "27                                                                                                                                                                                                                       @drharshvardhan @narendramodi @PMOIndia Stop flattering Modiji and work for covid! Open  vaccine for ALL ASAP   \n",
       "28                                                                                                        He rly just said if you get covid once you can’t ever get it again and getting a vaccine means you have to get vaccines forever so it’s dumb... I wasn’t even arguing back I was just like ok but he kept going like shut up   \n",
       "29                                                                                                                                                          @RNAiAnalyst @somtam9999 Pfizer will have fridge ready version of covid vaccine in several months. I would reconsider this position if I were you. https://t.co/cwjLrTshfw   \n",
       "30                                                                                                                                                                                                                                       As COVID-19 Vaccine Myths Persist, USF Health Expert Shares The Facts https://t.co/rH5nIpcAzP   \n",
       "31                         @MarkGerretsen Boasting success at a time like this shows a stunning level of tone deafness.\\n\\nIt hurts to see what our province is going through, but to celebrate it is salt in a fresh wound. Why didnt the vax arrive 2 months sooner? What stopped us??\\n\\nBe accountable.\\n\\nhttps://t.co/949ZUruqoe   \n",
       "32                                                                                                                                                      The number of #COVID_19 variant cases is increasing in #SantaClaraCounty, a worrying trend that comes as the county faces a shortage of vaccine doses. https://t.co/O6upof6raD   \n",
       "33                                                                                                                                                                               🥇  Seattle area #1 in the United States for willingness to get the #covid19 vaccine. 👏👏👏\\n#VaccinesWork \\n\\nhttps://t.co/uJmywbwq8y via @seattletimes   \n",
       "34                                                                                                                                                                                   Only six months? That’s a good thing?\\nPfizer says COVID-19 vaccine lasts 6 months, protects against variants https://t.co/aFzNKMpmgM via @nypost   \n",
       "\n",
       "   TBlob sent  \n",
       "20    neutral  \n",
       "21    neutral  \n",
       "22    neutral  \n",
       "23   negative  \n",
       "24    neutral  \n",
       "25    neutral  \n",
       "26   positive  \n",
       "27    neutral  \n",
       "28   positive  \n",
       "29   positive  \n",
       "30    neutral  \n",
       "31   positive  \n",
       "32    neutral  \n",
       "33    neutral  \n",
       "34   positive  "
      ]
     },
     "execution_count": 50,
     "metadata": {},
     "output_type": "execute_result"
    }
   ],
   "source": [
    "trial_df"
   ]
  },
  {
   "cell_type": "code",
   "execution_count": 52,
   "metadata": {
    "ExecuteTime": {
     "end_time": "2021-04-04T21:15:19.219747Z",
     "start_time": "2021-04-04T21:15:19.210238Z"
    }
   },
   "outputs": [
    {
     "data": {
      "text/plain": [
       "['neutral',\n",
       " 'neutral',\n",
       " 'neutral',\n",
       " 'negative',\n",
       " 'neutral',\n",
       " 'neutral',\n",
       " 'positive',\n",
       " 'neutral',\n",
       " 'positive',\n",
       " 'positive',\n",
       " 'neutral',\n",
       " 'positive',\n",
       " 'neutral',\n",
       " 'neutral',\n",
       " 'positive']"
      ]
     },
     "execution_count": 52,
     "metadata": {},
     "output_type": "execute_result"
    }
   ],
   "source": [
    "sentiment_nummms = []\n",
    "\n",
    "for i in trial_df.tweets:\n",
    "    cleaned = clean_tweet(i)\n",
    "    sent_nums = get_tweet_sentiment(cleaned)\n",
    "    sentiment_nummms.append(sent_nums)\n",
    "    \n",
    "sentiment_nummms"
   ]
  },
  {
   "cell_type": "code",
   "execution_count": 54,
   "metadata": {
    "ExecuteTime": {
     "end_time": "2021-04-04T21:25:50.407991Z",
     "start_time": "2021-04-04T21:25:50.405518Z"
    }
   },
   "outputs": [],
   "source": [
    "trial2_df = sentiment_df[35:65]"
   ]
  },
  {
   "cell_type": "code",
   "execution_count": 55,
   "metadata": {
    "ExecuteTime": {
     "end_time": "2021-04-04T21:26:49.314796Z",
     "start_time": "2021-04-04T21:26:49.310407Z"
    }
   },
   "outputs": [
    {
     "name": "stderr",
     "output_type": "stream",
     "text": [
      "<ipython-input-55-432259a879cc>:1: SettingWithCopyWarning: \n",
      "A value is trying to be set on a copy of a slice from a DataFrame.\n",
      "Try using .loc[row_indexer,col_indexer] = value instead\n",
      "\n",
      "See the caveats in the documentation: https://pandas.pydata.org/pandas-docs/stable/user_guide/indexing.html#returning-a-view-versus-a-copy\n",
      "  trial2_df['tweets'] = trial2_df['tweets'].apply(clean_tweet)\n"
     ]
    }
   ],
   "source": [
    "trial2_df['tweets'] = trial2_df['tweets'].apply(clean_tweet)"
   ]
  },
  {
   "cell_type": "code",
   "execution_count": 57,
   "metadata": {
    "ExecuteTime": {
     "end_time": "2021-04-04T21:27:22.286891Z",
     "start_time": "2021-04-04T21:27:22.284036Z"
    }
   },
   "outputs": [],
   "source": [
    "def getTextSubjectivity(txt):\n",
    "    return TextBlob(txt).sentiment.subjectivity\n",
    "\n",
    "def getTextPolarity(txt):\n",
    "    return TextBlob(txt).sentiment.polarity"
   ]
  },
  {
   "cell_type": "code",
   "execution_count": 59,
   "metadata": {
    "ExecuteTime": {
     "end_time": "2021-04-04T21:28:25.506307Z",
     "start_time": "2021-04-04T21:28:25.485744Z"
    }
   },
   "outputs": [
    {
     "name": "stderr",
     "output_type": "stream",
     "text": [
      "<ipython-input-59-eb306f6b1f44>:1: SettingWithCopyWarning: \n",
      "A value is trying to be set on a copy of a slice from a DataFrame.\n",
      "Try using .loc[row_indexer,col_indexer] = value instead\n",
      "\n",
      "See the caveats in the documentation: https://pandas.pydata.org/pandas-docs/stable/user_guide/indexing.html#returning-a-view-versus-a-copy\n",
      "  trial2_df['Subjectivity'] = trial2_df['tweets'].apply(getTextSubjectivity)\n",
      "<ipython-input-59-eb306f6b1f44>:2: SettingWithCopyWarning: \n",
      "A value is trying to be set on a copy of a slice from a DataFrame.\n",
      "Try using .loc[row_indexer,col_indexer] = value instead\n",
      "\n",
      "See the caveats in the documentation: https://pandas.pydata.org/pandas-docs/stable/user_guide/indexing.html#returning-a-view-versus-a-copy\n",
      "  trial2_df['Polarity'] = trial2_df['tweets'].apply(getTextPolarity)\n"
     ]
    }
   ],
   "source": [
    "trial2_df['Subjectivity'] = trial2_df['tweets'].apply(getTextSubjectivity)\n",
    "trial2_df['Polarity'] = trial2_df['tweets'].apply(getTextPolarity)"
   ]
  },
  {
   "cell_type": "code",
   "execution_count": 61,
   "metadata": {
    "ExecuteTime": {
     "end_time": "2021-04-04T21:30:07.592568Z",
     "start_time": "2021-04-04T21:30:07.571711Z"
    }
   },
   "outputs": [
    {
     "name": "stderr",
     "output_type": "stream",
     "text": [
      "<ipython-input-61-cafefcfba263>:1: SettingWithCopyWarning: \n",
      "A value is trying to be set on a copy of a slice from a DataFrame.\n",
      "Try using .loc[row_indexer,col_indexer] = value instead\n",
      "\n",
      "See the caveats in the documentation: https://pandas.pydata.org/pandas-docs/stable/user_guide/indexing.html#returning-a-view-versus-a-copy\n",
      "  trial2_df['TB Sentiment'] = trial2_df['tweets'].apply(get_tweet_sentiment)\n"
     ]
    },
    {
     "data": {
      "text/html": [
       "<div>\n",
       "<style scoped>\n",
       "    .dataframe tbody tr th:only-of-type {\n",
       "        vertical-align: middle;\n",
       "    }\n",
       "\n",
       "    .dataframe tbody tr th {\n",
       "        vertical-align: top;\n",
       "    }\n",
       "\n",
       "    .dataframe thead th {\n",
       "        text-align: right;\n",
       "    }\n",
       "</style>\n",
       "<table border=\"1\" class=\"dataframe\">\n",
       "  <thead>\n",
       "    <tr style=\"text-align: right;\">\n",
       "      <th></th>\n",
       "      <th>time</th>\n",
       "      <th>tweets</th>\n",
       "      <th>Subjectivity</th>\n",
       "      <th>Polarity</th>\n",
       "      <th>TB Sentiment</th>\n",
       "    </tr>\n",
       "  </thead>\n",
       "  <tbody>\n",
       "    <tr>\n",
       "      <th>35</th>\n",
       "      <td>2021-04-01</td>\n",
       "      <td>I ain t anti vaccine at all This is the sad reality of covid is that now if you don t want to have something personally you get landed as an anti vac</td>\n",
       "      <td>0.650000</td>\n",
       "      <td>-0.250000</td>\n",
       "      <td>negative</td>\n",
       "    </tr>\n",
       "    <tr>\n",
       "      <th>36</th>\n",
       "      <td>2021-04-01</td>\n",
       "      <td>A new large scale vaccination site will open in Fort McMurray to help more residents access the COVID 19 vaccine 1 3 All appointments booked through AHS in Fort McMurray will be at the MacDonald Island Park curling rink as of April 5</td>\n",
       "      <td>0.470779</td>\n",
       "      <td>0.212662</td>\n",
       "      <td>positive</td>\n",
       "    </tr>\n",
       "    <tr>\n",
       "      <th>37</th>\n",
       "      <td>2021-04-01</td>\n",
       "      <td>Not from The Onion Column California rushed to vaccinate poor people But what about transgender people</td>\n",
       "      <td>0.600000</td>\n",
       "      <td>-0.400000</td>\n",
       "      <td>negative</td>\n",
       "    </tr>\n",
       "    <tr>\n",
       "      <th>38</th>\n",
       "      <td>2021-04-01</td>\n",
       "      <td>they vaccinated less than the amount of people that died due to covid with the covid vaccine</td>\n",
       "      <td>0.220833</td>\n",
       "      <td>-0.145833</td>\n",
       "      <td>negative</td>\n",
       "    </tr>\n",
       "    <tr>\n",
       "      <th>39</th>\n",
       "      <td>2021-04-01</td>\n",
       "      <td>The COVID 19 vaccine side effects you can expect based on your age sex and dose via</td>\n",
       "      <td>0.000000</td>\n",
       "      <td>0.000000</td>\n",
       "      <td>neutral</td>\n",
       "    </tr>\n",
       "    <tr>\n",
       "      <th>40</th>\n",
       "      <td>2021-04-01</td>\n",
       "      <td>REMEMBER THEY ARE THE PEOPLE WHO BRING US OUR FOOD PRODUCTS</td>\n",
       "      <td>0.000000</td>\n",
       "      <td>0.000000</td>\n",
       "      <td>neutral</td>\n",
       "    </tr>\n",
       "    <tr>\n",
       "      <th>41</th>\n",
       "      <td>2021-04-01</td>\n",
       "      <td>Happy Biden will help Trump had refused to Republicans are cruel evil amp heartless Every rich country should give to help COVID19 COVID vaccine Vaccines are finally reaching poor countries but some can t cover the cost of administering them</td>\n",
       "      <td>0.891667</td>\n",
       "      <td>-0.204167</td>\n",
       "      <td>negative</td>\n",
       "    </tr>\n",
       "    <tr>\n",
       "      <th>42</th>\n",
       "      <td>2021-04-01</td>\n",
       "      <td>black folks not wanting the covid vaccine might be a blessing in disguise for the rest of us</td>\n",
       "      <td>0.433333</td>\n",
       "      <td>-0.166667</td>\n",
       "      <td>negative</td>\n",
       "    </tr>\n",
       "    <tr>\n",
       "      <th>43</th>\n",
       "      <td>2021-04-01</td>\n",
       "      <td>Registration for Montgomery County COVID vaccine clinics for ages 16 opens Friday</td>\n",
       "      <td>0.000000</td>\n",
       "      <td>0.000000</td>\n",
       "      <td>neutral</td>\n",
       "    </tr>\n",
       "    <tr>\n",
       "      <th>44</th>\n",
       "      <td>2021-04-01</td>\n",
       "      <td>About 25 of Worcester s population have received at least 1 one shot of a COVID vaccine as numbers still hover higher than officials would like</td>\n",
       "      <td>0.450000</td>\n",
       "      <td>-0.025000</td>\n",
       "      <td>negative</td>\n",
       "    </tr>\n",
       "    <tr>\n",
       "      <th>45</th>\n",
       "      <td>2021-04-01</td>\n",
       "      <td>Don t freak out if you get these side effects from a Covid 19 vaccine</td>\n",
       "      <td>0.000000</td>\n",
       "      <td>0.000000</td>\n",
       "      <td>neutral</td>\n",
       "    </tr>\n",
       "    <tr>\n",
       "      <th>46</th>\n",
       "      <td>2021-04-01</td>\n",
       "      <td>I think every business should require vaccine proof and or mask wearing in absence of such proof it s the fastest way to get the COVID devastation behind us so we the economy and the world can heal amp move on</td>\n",
       "      <td>0.400000</td>\n",
       "      <td>-0.137500</td>\n",
       "      <td>negative</td>\n",
       "    </tr>\n",
       "    <tr>\n",
       "      <th>47</th>\n",
       "      <td>2021-04-01</td>\n",
       "      <td>GPs say federal government has set us up to fail on COVID 19 vaccine rollout The Morrison government fails again on all the big actions and decisions They have messed up the covid19 vaccination program auspol</td>\n",
       "      <td>0.233333</td>\n",
       "      <td>-0.333333</td>\n",
       "      <td>negative</td>\n",
       "    </tr>\n",
       "    <tr>\n",
       "      <th>48</th>\n",
       "      <td>2021-04-01</td>\n",
       "      <td>As part of Santa Barbara County s Health Center COVID 19 Vaccine Program COVID 19 vaccines will be available in a 7 day clinic at Hancock s Santa Maria campus April 5 11 Learn if you are eligible and make an appointment today at</td>\n",
       "      <td>0.250000</td>\n",
       "      <td>0.150000</td>\n",
       "      <td>positive</td>\n",
       "    </tr>\n",
       "    <tr>\n",
       "      <th>49</th>\n",
       "      <td>2021-04-01</td>\n",
       "      <td>Getting the Pfizer vaccine Saturday Johnson and Johnson is 66 of the COVID protein Maderna is 67 and a 2 shot Pfizer is 90 a single shot</td>\n",
       "      <td>0.214286</td>\n",
       "      <td>-0.071429</td>\n",
       "      <td>negative</td>\n",
       "    </tr>\n",
       "    <tr>\n",
       "      <th>50</th>\n",
       "      <td>2021-04-01</td>\n",
       "      <td>COVID 19 vaccines play a key role in making your family and your community safer Find out the facts on vaccines here</td>\n",
       "      <td>1.000000</td>\n",
       "      <td>0.000000</td>\n",
       "      <td>neutral</td>\n",
       "    </tr>\n",
       "    <tr>\n",
       "      <th>51</th>\n",
       "      <td>2021-04-01</td>\n",
       "      <td>File this under reasons I m glad I moved to Seattle</td>\n",
       "      <td>1.000000</td>\n",
       "      <td>0.500000</td>\n",
       "      <td>positive</td>\n",
       "    </tr>\n",
       "    <tr>\n",
       "      <th>52</th>\n",
       "      <td>2021-04-01</td>\n",
       "      <td>I heard from a doctor that flu jabs will be incorporating covid vaccine in them</td>\n",
       "      <td>0.000000</td>\n",
       "      <td>0.000000</td>\n",
       "      <td>neutral</td>\n",
       "    </tr>\n",
       "    <tr>\n",
       "      <th>53</th>\n",
       "      <td>2021-04-01</td>\n",
       "      <td>My family and I will not take the Covid vaccine It s not healthy Apostle Suleman says Lailas News</td>\n",
       "      <td>0.500000</td>\n",
       "      <td>-0.250000</td>\n",
       "      <td>negative</td>\n",
       "    </tr>\n",
       "    <tr>\n",
       "      <th>54</th>\n",
       "      <td>2021-04-01</td>\n",
       "      <td>NEW Kaiser Permanente Panorama Medical Center Area on 05 06 05 07 Total Appointments at Location 35 Address 8250 Woodman Ave Panorama City CA 91402 Posted 1617314233</td>\n",
       "      <td>0.326136</td>\n",
       "      <td>0.009091</td>\n",
       "      <td>positive</td>\n",
       "    </tr>\n",
       "    <tr>\n",
       "      <th>55</th>\n",
       "      <td>2021-04-01</td>\n",
       "      <td>manon Its 101 effective oops sorryyyy</td>\n",
       "      <td>0.800000</td>\n",
       "      <td>0.600000</td>\n",
       "      <td>positive</td>\n",
       "    </tr>\n",
       "    <tr>\n",
       "      <th>56</th>\n",
       "      <td>2021-04-01</td>\n",
       "      <td>Just got my second dose of the covid vaccine</td>\n",
       "      <td>0.000000</td>\n",
       "      <td>0.000000</td>\n",
       "      <td>neutral</td>\n",
       "    </tr>\n",
       "    <tr>\n",
       "      <th>57</th>\n",
       "      <td>2021-04-01</td>\n",
       "      <td>I think people are still arguing to increase vaccination and not announce lockdown But the fact is that even after vaccines people are getting infected Staying home amp avoiding contact is the only solution Vaccine will be an ongoing process vaccine Covid 19 mumbailockdown</td>\n",
       "      <td>1.000000</td>\n",
       "      <td>0.000000</td>\n",
       "      <td>neutral</td>\n",
       "    </tr>\n",
       "    <tr>\n",
       "      <th>58</th>\n",
       "      <td>2021-04-01</td>\n",
       "      <td>Anybody interested in the covid vaccine Moderna DM me</td>\n",
       "      <td>0.500000</td>\n",
       "      <td>0.250000</td>\n",
       "      <td>positive</td>\n",
       "    </tr>\n",
       "    <tr>\n",
       "      <th>59</th>\n",
       "      <td>2021-04-01</td>\n",
       "      <td>U S Air Travel to Vacation Spots Is Returning</td>\n",
       "      <td>0.000000</td>\n",
       "      <td>0.000000</td>\n",
       "      <td>neutral</td>\n",
       "    </tr>\n",
       "    <tr>\n",
       "      <th>60</th>\n",
       "      <td>2021-04-01</td>\n",
       "      <td>I m getting the second dose of the covid vaccine tomorrow I ll try to remember to tweet updates on symptoms You can also dm me if you have any questions</td>\n",
       "      <td>0.000000</td>\n",
       "      <td>0.000000</td>\n",
       "      <td>neutral</td>\n",
       "    </tr>\n",
       "    <tr>\n",
       "      <th>61</th>\n",
       "      <td>2021-04-01</td>\n",
       "      <td>Lots of people up in arms about community vaccination in rural and remote areas Sensible policy not a sort This is from Qld Health</td>\n",
       "      <td>0.100000</td>\n",
       "      <td>-0.050000</td>\n",
       "      <td>negative</td>\n",
       "    </tr>\n",
       "    <tr>\n",
       "      <th>62</th>\n",
       "      <td>2021-04-01</td>\n",
       "      <td>Vaccine equity Race is on to inoculate health workers and those most at risk globally COVID 19 UN News</td>\n",
       "      <td>0.250000</td>\n",
       "      <td>0.250000</td>\n",
       "      <td>positive</td>\n",
       "    </tr>\n",
       "    <tr>\n",
       "      <th>63</th>\n",
       "      <td>2021-04-01</td>\n",
       "      <td>The clinic closest to me listed on govt COVID19 website didn t know yesterday when they will get supplies of vaccine Thanks for nothing GPs say federal government has set us up to fail on COVID 19 vaccine rollout via</td>\n",
       "      <td>0.250000</td>\n",
       "      <td>-0.150000</td>\n",
       "      <td>negative</td>\n",
       "    </tr>\n",
       "    <tr>\n",
       "      <th>64</th>\n",
       "      <td>2021-04-01</td>\n",
       "      <td>5 p m update The eligibility age for vaccines at our clinics has been updated to 60 To see a full list of eligible populations and book an appointment 1 888 385 1910</td>\n",
       "      <td>0.550000</td>\n",
       "      <td>0.350000</td>\n",
       "      <td>positive</td>\n",
       "    </tr>\n",
       "  </tbody>\n",
       "</table>\n",
       "</div>"
      ],
      "text/plain": [
       "          time  \\\n",
       "35  2021-04-01   \n",
       "36  2021-04-01   \n",
       "37  2021-04-01   \n",
       "38  2021-04-01   \n",
       "39  2021-04-01   \n",
       "40  2021-04-01   \n",
       "41  2021-04-01   \n",
       "42  2021-04-01   \n",
       "43  2021-04-01   \n",
       "44  2021-04-01   \n",
       "45  2021-04-01   \n",
       "46  2021-04-01   \n",
       "47  2021-04-01   \n",
       "48  2021-04-01   \n",
       "49  2021-04-01   \n",
       "50  2021-04-01   \n",
       "51  2021-04-01   \n",
       "52  2021-04-01   \n",
       "53  2021-04-01   \n",
       "54  2021-04-01   \n",
       "55  2021-04-01   \n",
       "56  2021-04-01   \n",
       "57  2021-04-01   \n",
       "58  2021-04-01   \n",
       "59  2021-04-01   \n",
       "60  2021-04-01   \n",
       "61  2021-04-01   \n",
       "62  2021-04-01   \n",
       "63  2021-04-01   \n",
       "64  2021-04-01   \n",
       "\n",
       "                                                                                                                                                                                                                                                                               tweets  \\\n",
       "35                                                                                                                              I ain t anti vaccine at all This is the sad reality of covid is that now if you don t want to have something personally you get landed as an anti vac   \n",
       "36                                          A new large scale vaccination site will open in Fort McMurray to help more residents access the COVID 19 vaccine 1 3 All appointments booked through AHS in Fort McMurray will be at the MacDonald Island Park curling rink as of April 5   \n",
       "37                                                                                                                                                                             Not from The Onion Column California rushed to vaccinate poor people But what about transgender people   \n",
       "38                                                                                                                                                                                       they vaccinated less than the amount of people that died due to covid with the covid vaccine   \n",
       "39                                                                                                                                                                                                The COVID 19 vaccine side effects you can expect based on your age sex and dose via   \n",
       "40                                                                                                                                                                                                                        REMEMBER THEY ARE THE PEOPLE WHO BRING US OUR FOOD PRODUCTS   \n",
       "41                                  Happy Biden will help Trump had refused to Republicans are cruel evil amp heartless Every rich country should give to help COVID19 COVID vaccine Vaccines are finally reaching poor countries but some can t cover the cost of administering them   \n",
       "42                                                                                                                                                                                       black folks not wanting the covid vaccine might be a blessing in disguise for the rest of us   \n",
       "43                                                                                                                                                                                                  Registration for Montgomery County COVID vaccine clinics for ages 16 opens Friday   \n",
       "44                                                                                                                                    About 25 of Worcester s population have received at least 1 one shot of a COVID vaccine as numbers still hover higher than officials would like   \n",
       "45                                                                                                                                                                                                              Don t freak out if you get these side effects from a Covid 19 vaccine   \n",
       "46                                                                  I think every business should require vaccine proof and or mask wearing in absence of such proof it s the fastest way to get the COVID devastation behind us so we the economy and the world can heal amp move on   \n",
       "47                                                                   GPs say federal government has set us up to fail on COVID 19 vaccine rollout The Morrison government fails again on all the big actions and decisions They have messed up the covid19 vaccination program auspol   \n",
       "48                                               As part of Santa Barbara County s Health Center COVID 19 Vaccine Program COVID 19 vaccines will be available in a 7 day clinic at Hancock s Santa Maria campus April 5 11 Learn if you are eligible and make an appointment today at   \n",
       "49                                                                                                                                           Getting the Pfizer vaccine Saturday Johnson and Johnson is 66 of the COVID protein Maderna is 67 and a 2 shot Pfizer is 90 a single shot   \n",
       "50                                                                                                                                                               COVID 19 vaccines play a key role in making your family and your community safer Find out the facts on vaccines here   \n",
       "51                                                                                                                                                                                                                                File this under reasons I m glad I moved to Seattle   \n",
       "52                                                                                                                                                                                                    I heard from a doctor that flu jabs will be incorporating covid vaccine in them   \n",
       "53                                                                                                                                                                                  My family and I will not take the Covid vaccine It s not healthy Apostle Suleman says Lailas News   \n",
       "54                                                                                                              NEW Kaiser Permanente Panorama Medical Center Area on 05 06 05 07 Total Appointments at Location 35 Address 8250 Woodman Ave Panorama City CA 91402 Posted 1617314233   \n",
       "55                                                                                                                                                                                                                                              manon Its 101 effective oops sorryyyy   \n",
       "56                                                                                                                                                                                                                                       Just got my second dose of the covid vaccine   \n",
       "57  I think people are still arguing to increase vaccination and not announce lockdown But the fact is that even after vaccines people are getting infected Staying home amp avoiding contact is the only solution Vaccine will be an ongoing process vaccine Covid 19 mumbailockdown   \n",
       "58                                                                                                                                                                                                                              Anybody interested in the covid vaccine Moderna DM me   \n",
       "59                                                                                                                                                                                                                                      U S Air Travel to Vacation Spots Is Returning   \n",
       "60                                                                                                                           I m getting the second dose of the covid vaccine tomorrow I ll try to remember to tweet updates on symptoms You can also dm me if you have any questions   \n",
       "61                                                                                                                                                 Lots of people up in arms about community vaccination in rural and remote areas Sensible policy not a sort This is from Qld Health   \n",
       "62                                                                                                                                                                             Vaccine equity Race is on to inoculate health workers and those most at risk globally COVID 19 UN News   \n",
       "63                                                           The clinic closest to me listed on govt COVID19 website didn t know yesterday when they will get supplies of vaccine Thanks for nothing GPs say federal government has set us up to fail on COVID 19 vaccine rollout via   \n",
       "64                                                                                                              5 p m update The eligibility age for vaccines at our clinics has been updated to 60 To see a full list of eligible populations and book an appointment 1 888 385 1910   \n",
       "\n",
       "    Subjectivity  Polarity TB Sentiment  \n",
       "35      0.650000 -0.250000     negative  \n",
       "36      0.470779  0.212662     positive  \n",
       "37      0.600000 -0.400000     negative  \n",
       "38      0.220833 -0.145833     negative  \n",
       "39      0.000000  0.000000      neutral  \n",
       "40      0.000000  0.000000      neutral  \n",
       "41      0.891667 -0.204167     negative  \n",
       "42      0.433333 -0.166667     negative  \n",
       "43      0.000000  0.000000      neutral  \n",
       "44      0.450000 -0.025000     negative  \n",
       "45      0.000000  0.000000      neutral  \n",
       "46      0.400000 -0.137500     negative  \n",
       "47      0.233333 -0.333333     negative  \n",
       "48      0.250000  0.150000     positive  \n",
       "49      0.214286 -0.071429     negative  \n",
       "50      1.000000  0.000000      neutral  \n",
       "51      1.000000  0.500000     positive  \n",
       "52      0.000000  0.000000      neutral  \n",
       "53      0.500000 -0.250000     negative  \n",
       "54      0.326136  0.009091     positive  \n",
       "55      0.800000  0.600000     positive  \n",
       "56      0.000000  0.000000      neutral  \n",
       "57      1.000000  0.000000      neutral  \n",
       "58      0.500000  0.250000     positive  \n",
       "59      0.000000  0.000000      neutral  \n",
       "60      0.000000  0.000000      neutral  \n",
       "61      0.100000 -0.050000     negative  \n",
       "62      0.250000  0.250000     positive  \n",
       "63      0.250000 -0.150000     negative  \n",
       "64      0.550000  0.350000     positive  "
      ]
     },
     "execution_count": 61,
     "metadata": {},
     "output_type": "execute_result"
    }
   ],
   "source": [
    "trial2_df['TB Sentiment'] = trial2_df['tweets'].apply(get_tweet_sentiment)\n",
    "trial2_df"
   ]
  },
  {
   "cell_type": "code",
   "execution_count": null,
   "metadata": {},
   "outputs": [],
   "source": []
  },
  {
   "cell_type": "code",
   "execution_count": null,
   "metadata": {},
   "outputs": [],
   "source": []
  },
  {
   "cell_type": "code",
   "execution_count": null,
   "metadata": {},
   "outputs": [],
   "source": []
  },
  {
   "cell_type": "code",
   "execution_count": null,
   "metadata": {},
   "outputs": [],
   "source": []
  },
  {
   "cell_type": "code",
   "execution_count": null,
   "metadata": {},
   "outputs": [],
   "source": []
  },
  {
   "cell_type": "code",
   "execution_count": 53,
   "metadata": {
    "ExecuteTime": {
     "end_time": "2021-04-04T21:22:51.066699Z",
     "start_time": "2021-04-04T21:22:45.434676Z"
    }
   },
   "outputs": [
    {
     "name": "stdout",
     "output_type": "stream",
     "text": [
      "Collecting package metadata (current_repodata.json): done\n",
      "Solving environment: failed with initial frozen solve. Retrying with flexible solve.\n",
      "Collecting package metadata (repodata.json): done\n",
      "Solving environment: failed with initial frozen solve. Retrying with flexible solve.\n",
      "\n",
      "PackagesNotFoundError: The following packages are not available from current channels:\n",
      "\n",
      "  - wordcloud\n",
      "\n",
      "Current channels:\n",
      "\n",
      "  - https://repo.anaconda.com/pkgs/main/osx-64\n",
      "  - https://repo.anaconda.com/pkgs/main/noarch\n",
      "  - https://repo.anaconda.com/pkgs/r/osx-64\n",
      "  - https://repo.anaconda.com/pkgs/r/noarch\n",
      "\n",
      "To search for alternate channels that may provide the conda package you're\n",
      "looking for, navigate to\n",
      "\n",
      "    https://anaconda.org\n",
      "\n",
      "and use the search bar at the top of the page.\n",
      "\n",
      "\n",
      "\n",
      "Note: you may need to restart the kernel to use updated packages.\n"
     ]
    }
   ],
   "source": [
    "conda install wordcloud"
   ]
  },
  {
   "cell_type": "code",
   "execution_count": null,
   "metadata": {},
   "outputs": [],
   "source": []
  }
 ],
 "metadata": {
  "kernelspec": {
   "display_name": "Python 3",
   "language": "python",
   "name": "python3"
  },
  "language_info": {
   "codemirror_mode": {
    "name": "ipython",
    "version": 3
   },
   "file_extension": ".py",
   "mimetype": "text/x-python",
   "name": "python",
   "nbconvert_exporter": "python",
   "pygments_lexer": "ipython3",
   "version": "3.8.5"
  },
  "toc": {
   "base_numbering": 1,
   "nav_menu": {},
   "number_sections": true,
   "sideBar": true,
   "skip_h1_title": true,
   "title_cell": "Table of Contents",
   "title_sidebar": "Contents",
   "toc_cell": false,
   "toc_position": {
    "height": "calc(100% - 180px)",
    "left": "10px",
    "top": "150px",
    "width": "277.391px"
   },
   "toc_section_display": true,
   "toc_window_display": true
  },
  "varInspector": {
   "cols": {
    "lenName": 16,
    "lenType": 16,
    "lenVar": 40
   },
   "kernels_config": {
    "python": {
     "delete_cmd_postfix": "",
     "delete_cmd_prefix": "del ",
     "library": "var_list.py",
     "varRefreshCmd": "print(var_dic_list())"
    },
    "r": {
     "delete_cmd_postfix": ") ",
     "delete_cmd_prefix": "rm(",
     "library": "var_list.r",
     "varRefreshCmd": "cat(var_dic_list()) "
    }
   },
   "types_to_exclude": [
    "module",
    "function",
    "builtin_function_or_method",
    "instance",
    "_Feature"
   ],
   "window_display": false
  }
 },
 "nbformat": 4,
 "nbformat_minor": 4
}
