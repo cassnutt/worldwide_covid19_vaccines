{
 "cells": [
  {
   "cell_type": "markdown",
   "metadata": {},
   "source": [
    "# Twitter Workbook\n",
    "\n",
    "# Twitter Sentiment Analysis\n",
    "\n",
    "This notebook aims to predict whether a person does or does not intend to get the COVID-19 vaccine by looking at Tweets."
   ]
  },
  {
   "cell_type": "code",
   "execution_count": 15,
   "metadata": {
    "ExecuteTime": {
     "end_time": "2021-03-31T21:30:34.554177Z",
     "start_time": "2021-03-31T21:30:34.274155Z"
    }
   },
   "outputs": [],
   "source": [
    "import tweepy\n",
    "import webbrowser\n",
    "import time\n",
    "\n",
    "import pandas as pd\n",
    "\n",
    "from tweepy import OAuthHandler\n",
    "from tweepy import API\n",
    "\n",
    "\n",
    "# auth.set_access_token(access_token, access_token_secret)\n",
    "\n"
   ]
  },
  {
   "cell_type": "code",
   "execution_count": 2,
   "metadata": {
    "ExecuteTime": {
     "end_time": "2021-03-31T17:54:22.275749Z",
     "start_time": "2021-03-31T17:54:22.273054Z"
    }
   },
   "outputs": [],
   "source": [
    "consumer_key = 'bWejmjpTvWNkCiwpixz4iYxGK'\n",
    "consumer_secret = 'Yambe1a5bWbsPoyKQg8MeQzdVHlcjnXzIm6k7uGDPsKvxyDki7'"
   ]
  },
  {
   "cell_type": "code",
   "execution_count": 3,
   "metadata": {
    "ExecuteTime": {
     "end_time": "2021-03-31T17:54:23.423108Z",
     "start_time": "2021-03-31T17:54:23.420771Z"
    }
   },
   "outputs": [],
   "source": [
    "callback_uri = 'oob'"
   ]
  },
  {
   "cell_type": "code",
   "execution_count": 4,
   "metadata": {
    "ExecuteTime": {
     "end_time": "2021-03-31T17:54:25.080097Z",
     "start_time": "2021-03-31T17:54:24.703682Z"
    }
   },
   "outputs": [],
   "source": [
    "auth = OAuthHandler(consumer_key, consumer_secret, callback_uri)\n",
    "redirect_url = auth.get_authorization_url()"
   ]
  },
  {
   "cell_type": "code",
   "execution_count": 6,
   "metadata": {
    "ExecuteTime": {
     "end_time": "2021-03-31T17:54:36.309813Z",
     "start_time": "2021-03-31T17:54:36.144741Z"
    }
   },
   "outputs": [
    {
     "data": {
      "text/plain": [
       "True"
      ]
     },
     "execution_count": 6,
     "metadata": {},
     "output_type": "execute_result"
    }
   ],
   "source": [
    "webbrowser.open(redirect_url)"
   ]
  },
  {
   "cell_type": "code",
   "execution_count": 7,
   "metadata": {
    "ExecuteTime": {
     "end_time": "2021-03-31T17:56:12.618865Z",
     "start_time": "2021-03-31T17:55:58.830272Z"
    }
   },
   "outputs": [
    {
     "name": "stdout",
     "output_type": "stream",
     "text": [
      "What's the pin value?3341839\n"
     ]
    }
   ],
   "source": [
    "user_pin_input = input(\"What's the pin value? \")"
   ]
  },
  {
   "cell_type": "code",
   "execution_count": 9,
   "metadata": {
    "ExecuteTime": {
     "end_time": "2021-03-31T17:58:00.913409Z",
     "start_time": "2021-03-31T17:58:00.167629Z"
    }
   },
   "outputs": [
    {
     "data": {
      "text/plain": [
       "('1374027292867969025-BcTPabYKmlcKQHZCkoXbZ2BvXXcbNs',\n",
       " 'STtqBirnsLcjoVkkRbtIpWLb55hTtyw6dJus8kwaxaqha')"
      ]
     },
     "execution_count": 9,
     "metadata": {},
     "output_type": "execute_result"
    }
   ],
   "source": [
    "auth.get_access_token(user_pin_input)"
   ]
  },
  {
   "cell_type": "code",
   "execution_count": 33,
   "metadata": {
    "ExecuteTime": {
     "end_time": "2021-03-31T22:07:40.212786Z",
     "start_time": "2021-03-31T22:07:40.210284Z"
    }
   },
   "outputs": [],
   "source": [
    "api = API(auth, wait_on_rate_limit= True)"
   ]
  },
  {
   "cell_type": "code",
   "execution_count": 11,
   "metadata": {
    "ExecuteTime": {
     "end_time": "2021-03-31T17:59:57.750287Z",
     "start_time": "2021-03-31T17:59:57.288480Z"
    }
   },
   "outputs": [
    {
     "name": "stdout",
     "output_type": "stream",
     "text": [
      "cassienutter1\n"
     ]
    }
   ],
   "source": [
    "me = api.me()\n",
    "print(me.screen_name)"
   ]
  },
  {
   "cell_type": "markdown",
   "metadata": {},
   "source": [
    "get text from your timeline into pandas"
   ]
  },
  {
   "cell_type": "code",
   "execution_count": 12,
   "metadata": {
    "ExecuteTime": {
     "end_time": "2021-03-31T21:30:27.404192Z",
     "start_time": "2021-03-31T21:30:27.156779Z"
    }
   },
   "outputs": [],
   "source": [
    "my_timeline = api.home_timeline()"
   ]
  },
  {
   "cell_type": "code",
   "execution_count": 19,
   "metadata": {
    "ExecuteTime": {
     "end_time": "2021-03-31T21:31:31.819419Z",
     "start_time": "2021-03-31T21:31:31.816807Z"
    }
   },
   "outputs": [
    {
     "name": "stdout",
     "output_type": "stream",
     "text": [
      "[]\n"
     ]
    }
   ],
   "source": [
    "print(my_timeline)"
   ]
  },
  {
   "cell_type": "code",
   "execution_count": 17,
   "metadata": {
    "ExecuteTime": {
     "end_time": "2021-03-31T21:30:51.412580Z",
     "start_time": "2021-03-31T21:30:51.408447Z"
    }
   },
   "outputs": [],
   "source": [
    "columns = set()\n",
    "allowed_types = [str, int]\n",
    "tweet_data = []\n",
    "\n",
    "for status in my_timeline:\n",
    "#     print(status.text)\n",
    "#     print (type(vas(status)))\n",
    "    status_dict = dict(vars(status))\n",
    "    keys = status_dict.keys()\n",
    "    single_tweet_data = {}\n",
    "    for k in keys:\n",
    "        try:\n",
    "            v_type = type(status_dict['k'])\n",
    "        except:\n",
    "            v_type = None\n",
    "            \n",
    "        if v_type != None:\n",
    "            if v_type in allowed_types:\n",
    "                single_tweet_data[k] = status_dict[k]\n",
    "                columns.add(k)\n",
    "    tweets_data.append(single_tweet_data )\n",
    "        \n",
    "header_cols = list(columns)"
   ]
  },
  {
   "cell_type": "code",
   "execution_count": 18,
   "metadata": {
    "ExecuteTime": {
     "end_time": "2021-03-31T21:30:52.114688Z",
     "start_time": "2021-03-31T21:30:52.105053Z"
    }
   },
   "outputs": [
    {
     "data": {
      "text/html": [
       "<div>\n",
       "<style scoped>\n",
       "    .dataframe tbody tr th:only-of-type {\n",
       "        vertical-align: middle;\n",
       "    }\n",
       "\n",
       "    .dataframe tbody tr th {\n",
       "        vertical-align: top;\n",
       "    }\n",
       "\n",
       "    .dataframe thead th {\n",
       "        text-align: right;\n",
       "    }\n",
       "</style>\n",
       "<table border=\"1\" class=\"dataframe\">\n",
       "  <thead>\n",
       "    <tr style=\"text-align: right;\">\n",
       "      <th></th>\n",
       "    </tr>\n",
       "  </thead>\n",
       "  <tbody>\n",
       "  </tbody>\n",
       "</table>\n",
       "</div>"
      ],
      "text/plain": [
       "Empty DataFrame\n",
       "Columns: []\n",
       "Index: []"
      ]
     },
     "execution_count": 18,
     "metadata": {},
     "output_type": "execute_result"
    }
   ],
   "source": [
    "df = pd.DataFrame(tweet_data, columns= header_cols)\n",
    "df.head()"
   ]
  },
  {
   "cell_type": "code",
   "execution_count": 28,
   "metadata": {
    "ExecuteTime": {
     "end_time": "2021-03-31T21:53:52.297891Z",
     "start_time": "2021-03-31T21:53:51.594083Z"
    }
   },
   "outputs": [
    {
     "data": {
      "text/html": [
       "<div>\n",
       "<style scoped>\n",
       "    .dataframe tbody tr th:only-of-type {\n",
       "        vertical-align: middle;\n",
       "    }\n",
       "\n",
       "    .dataframe tbody tr th {\n",
       "        vertical-align: top;\n",
       "    }\n",
       "\n",
       "    .dataframe thead th {\n",
       "        text-align: right;\n",
       "    }\n",
       "</style>\n",
       "<table border=\"1\" class=\"dataframe\">\n",
       "  <thead>\n",
       "    <tr style=\"text-align: right;\">\n",
       "      <th></th>\n",
       "      <th>in_reply_to_status_id</th>\n",
       "      <th>lang</th>\n",
       "      <th>in_reply_to_status_id_str</th>\n",
       "      <th>in_reply_to_user_id</th>\n",
       "      <th>in_reply_to_screen_name</th>\n",
       "      <th>id</th>\n",
       "      <th>quoted_status_id_str</th>\n",
       "      <th>retweet_count</th>\n",
       "      <th>favorite_count</th>\n",
       "      <th>source_url</th>\n",
       "      <th>id_str</th>\n",
       "      <th>text</th>\n",
       "      <th>in_reply_to_user_id_str</th>\n",
       "      <th>quoted_status_id</th>\n",
       "      <th>source</th>\n",
       "      <th>user</th>\n",
       "      <th>author</th>\n",
       "    </tr>\n",
       "  </thead>\n",
       "  <tbody>\n",
       "    <tr>\n",
       "      <th>0</th>\n",
       "      <td>1.377364e+18</td>\n",
       "      <td>en</td>\n",
       "      <td>1377363936358457345</td>\n",
       "      <td>313527759.0</td>\n",
       "      <td>BreakIntoProg</td>\n",
       "      <td>1377367633301962754</td>\n",
       "      <td>NaN</td>\n",
       "      <td>0</td>\n",
       "      <td>2</td>\n",
       "      <td>https://about.twitter.com/products/tweetdeck</td>\n",
       "      <td>1377367633301962754</td>\n",
       "      <td>@BreakIntoProg @JohnKennedyMSFT The Dock might...</td>\n",
       "      <td>313527759</td>\n",
       "      <td>NaN</td>\n",
       "      <td>TweetDeck</td>\n",
       "      <td>code</td>\n",
       "      <td>code</td>\n",
       "    </tr>\n",
       "    <tr>\n",
       "      <th>1</th>\n",
       "      <td>1.377331e+18</td>\n",
       "      <td>en</td>\n",
       "      <td>1377331064612347904</td>\n",
       "      <td>16460144.0</td>\n",
       "      <td>mooglemoogle</td>\n",
       "      <td>1377332673304174594</td>\n",
       "      <td>NaN</td>\n",
       "      <td>0</td>\n",
       "      <td>1</td>\n",
       "      <td>https://about.twitter.com/products/tweetdeck</td>\n",
       "      <td>1377332673304174594</td>\n",
       "      <td>@mooglemoogle You're correct, my apologies: it...</td>\n",
       "      <td>16460144</td>\n",
       "      <td>NaN</td>\n",
       "      <td>TweetDeck</td>\n",
       "      <td>code</td>\n",
       "      <td>code</td>\n",
       "    </tr>\n",
       "    <tr>\n",
       "      <th>2</th>\n",
       "      <td>1.377324e+18</td>\n",
       "      <td>en</td>\n",
       "      <td>1377323934220189700</td>\n",
       "      <td>16460144.0</td>\n",
       "      <td>mooglemoogle</td>\n",
       "      <td>1377330085557067776</td>\n",
       "      <td>NaN</td>\n",
       "      <td>0</td>\n",
       "      <td>1</td>\n",
       "      <td>https://about.twitter.com/products/tweetdeck</td>\n",
       "      <td>1377330085557067776</td>\n",
       "      <td>@mooglemoogle Sadly this is still a restrictio...</td>\n",
       "      <td>16460144</td>\n",
       "      <td>NaN</td>\n",
       "      <td>TweetDeck</td>\n",
       "      <td>code</td>\n",
       "      <td>code</td>\n",
       "    </tr>\n",
       "    <tr>\n",
       "      <th>3</th>\n",
       "      <td>NaN</td>\n",
       "      <td>en</td>\n",
       "      <td>NaN</td>\n",
       "      <td>NaN</td>\n",
       "      <td>NaN</td>\n",
       "      <td>1377321700031877124</td>\n",
       "      <td>NaN</td>\n",
       "      <td>69</td>\n",
       "      <td>280</td>\n",
       "      <td>https://mobile.twitter.com</td>\n",
       "      <td>1377321700031877124</td>\n",
       "      <td>📢 The March @code update is here! Check out wh...</td>\n",
       "      <td>NaN</td>\n",
       "      <td>NaN</td>\n",
       "      <td>Twitter Web App</td>\n",
       "      <td>code</td>\n",
       "      <td>code</td>\n",
       "    </tr>\n",
       "    <tr>\n",
       "      <th>4</th>\n",
       "      <td>NaN</td>\n",
       "      <td>en</td>\n",
       "      <td>NaN</td>\n",
       "      <td>NaN</td>\n",
       "      <td>NaN</td>\n",
       "      <td>1377286317667680260</td>\n",
       "      <td>1376898602774188041</td>\n",
       "      <td>12</td>\n",
       "      <td>93</td>\n",
       "      <td>https://buffer.com</td>\n",
       "      <td>1377286317667680260</td>\n",
       "      <td>We love seeing your favorite tips and shortcut...</td>\n",
       "      <td>NaN</td>\n",
       "      <td>1.376899e+18</td>\n",
       "      <td>Buffer</td>\n",
       "      <td>code</td>\n",
       "      <td>code</td>\n",
       "    </tr>\n",
       "  </tbody>\n",
       "</table>\n",
       "</div>"
      ],
      "text/plain": [
       "   in_reply_to_status_id lang in_reply_to_status_id_str  in_reply_to_user_id  \\\n",
       "0           1.377364e+18   en       1377363936358457345          313527759.0   \n",
       "1           1.377331e+18   en       1377331064612347904           16460144.0   \n",
       "2           1.377324e+18   en       1377323934220189700           16460144.0   \n",
       "3                    NaN   en                       NaN                  NaN   \n",
       "4                    NaN   en                       NaN                  NaN   \n",
       "\n",
       "  in_reply_to_screen_name                   id quoted_status_id_str  \\\n",
       "0           BreakIntoProg  1377367633301962754                  NaN   \n",
       "1            mooglemoogle  1377332673304174594                  NaN   \n",
       "2            mooglemoogle  1377330085557067776                  NaN   \n",
       "3                     NaN  1377321700031877124                  NaN   \n",
       "4                     NaN  1377286317667680260  1376898602774188041   \n",
       "\n",
       "   retweet_count  favorite_count  \\\n",
       "0              0               2   \n",
       "1              0               1   \n",
       "2              0               1   \n",
       "3             69             280   \n",
       "4             12              93   \n",
       "\n",
       "                                     source_url               id_str  \\\n",
       "0  https://about.twitter.com/products/tweetdeck  1377367633301962754   \n",
       "1  https://about.twitter.com/products/tweetdeck  1377332673304174594   \n",
       "2  https://about.twitter.com/products/tweetdeck  1377330085557067776   \n",
       "3                    https://mobile.twitter.com  1377321700031877124   \n",
       "4                            https://buffer.com  1377286317667680260   \n",
       "\n",
       "                                                text in_reply_to_user_id_str  \\\n",
       "0  @BreakIntoProg @JohnKennedyMSFT The Dock might...               313527759   \n",
       "1  @mooglemoogle You're correct, my apologies: it...                16460144   \n",
       "2  @mooglemoogle Sadly this is still a restrictio...                16460144   \n",
       "3  📢 The March @code update is here! Check out wh...                     NaN   \n",
       "4  We love seeing your favorite tips and shortcut...                     NaN   \n",
       "\n",
       "   quoted_status_id           source  user author  \n",
       "0               NaN        TweetDeck  code   code  \n",
       "1               NaN        TweetDeck  code   code  \n",
       "2               NaN        TweetDeck  code   code  \n",
       "3               NaN  Twitter Web App  code   code  \n",
       "4      1.376899e+18           Buffer  code   code  "
      ]
     },
     "execution_count": 28,
     "metadata": {},
     "output_type": "execute_result"
    }
   ],
   "source": [
    "#. get_status?\n",
    "\n",
    "user = api.get_user('code')\n",
    "user_timeline = user.timeline()\n",
    "df2 = extract_timeline_as_df(user_timeline)\n",
    "df2.head()"
   ]
  },
  {
   "cell_type": "code",
   "execution_count": 22,
   "metadata": {
    "ExecuteTime": {
     "end_time": "2021-03-31T21:39:29.462763Z",
     "start_time": "2021-03-31T21:39:29.457795Z"
    }
   },
   "outputs": [],
   "source": [
    "def extract_timeline_as_df(timeline_list):\n",
    "    columns = set()\n",
    "    allowed_types = [str, int]\n",
    "    tweets_data = []\n",
    "    for status in timeline_list:\n",
    "        status_dict = dict(vars(status))\n",
    "        keys = status_dict.keys()\n",
    "        single_tweet_data = {\"user\": status.user.screen_name, \"author\": status.author.screen_name}\n",
    "        for k in keys:\n",
    "            try:\n",
    "                v_type = type(status_dict[k])\n",
    "            except:\n",
    "                v_type = None\n",
    "            if v_type != None:\n",
    "                if v_type in allowed_types:\n",
    "                    single_tweet_data[k] = status_dict[k]\n",
    "                    columns.add(k)\n",
    "        tweets_data.append(single_tweet_data)\n",
    "\n",
    "\n",
    "    header_cols = list(columns)\n",
    "    header_cols.append('author')\n",
    "    df = pd.DataFrame(tweets_data, columns=header_cols)\n",
    "    return df"
   ]
  },
  {
   "cell_type": "code",
   "execution_count": 23,
   "metadata": {
    "ExecuteTime": {
     "end_time": "2021-03-31T21:39:42.862402Z",
     "start_time": "2021-03-31T21:39:42.856864Z"
    }
   },
   "outputs": [],
   "source": [
    "df3 = extract_timeline_as_df(user_timeline)"
   ]
  },
  {
   "cell_type": "code",
   "execution_count": 24,
   "metadata": {
    "ExecuteTime": {
     "end_time": "2021-03-31T21:39:55.617396Z",
     "start_time": "2021-03-31T21:39:55.600630Z"
    }
   },
   "outputs": [
    {
     "data": {
      "text/html": [
       "<div>\n",
       "<style scoped>\n",
       "    .dataframe tbody tr th:only-of-type {\n",
       "        vertical-align: middle;\n",
       "    }\n",
       "\n",
       "    .dataframe tbody tr th {\n",
       "        vertical-align: top;\n",
       "    }\n",
       "\n",
       "    .dataframe thead th {\n",
       "        text-align: right;\n",
       "    }\n",
       "</style>\n",
       "<table border=\"1\" class=\"dataframe\">\n",
       "  <thead>\n",
       "    <tr style=\"text-align: right;\">\n",
       "      <th></th>\n",
       "      <th>in_reply_to_status_id</th>\n",
       "      <th>lang</th>\n",
       "      <th>in_reply_to_status_id_str</th>\n",
       "      <th>in_reply_to_user_id</th>\n",
       "      <th>in_reply_to_screen_name</th>\n",
       "      <th>id</th>\n",
       "      <th>quoted_status_id_str</th>\n",
       "      <th>retweet_count</th>\n",
       "      <th>favorite_count</th>\n",
       "      <th>source_url</th>\n",
       "      <th>id_str</th>\n",
       "      <th>text</th>\n",
       "      <th>in_reply_to_user_id_str</th>\n",
       "      <th>quoted_status_id</th>\n",
       "      <th>source</th>\n",
       "      <th>user</th>\n",
       "      <th>author</th>\n",
       "    </tr>\n",
       "  </thead>\n",
       "  <tbody>\n",
       "    <tr>\n",
       "      <th>0</th>\n",
       "      <td>1.377364e+18</td>\n",
       "      <td>en</td>\n",
       "      <td>1377363936358457345</td>\n",
       "      <td>313527759.0</td>\n",
       "      <td>BreakIntoProg</td>\n",
       "      <td>1377367633301962754</td>\n",
       "      <td>NaN</td>\n",
       "      <td>0</td>\n",
       "      <td>2</td>\n",
       "      <td>https://about.twitter.com/products/tweetdeck</td>\n",
       "      <td>1377367633301962754</td>\n",
       "      <td>@BreakIntoProg @JohnKennedyMSFT The Dock might...</td>\n",
       "      <td>313527759</td>\n",
       "      <td>NaN</td>\n",
       "      <td>TweetDeck</td>\n",
       "      <td>code</td>\n",
       "      <td>code</td>\n",
       "    </tr>\n",
       "    <tr>\n",
       "      <th>1</th>\n",
       "      <td>1.377331e+18</td>\n",
       "      <td>en</td>\n",
       "      <td>1377331064612347904</td>\n",
       "      <td>16460144.0</td>\n",
       "      <td>mooglemoogle</td>\n",
       "      <td>1377332673304174594</td>\n",
       "      <td>NaN</td>\n",
       "      <td>0</td>\n",
       "      <td>1</td>\n",
       "      <td>https://about.twitter.com/products/tweetdeck</td>\n",
       "      <td>1377332673304174594</td>\n",
       "      <td>@mooglemoogle You're correct, my apologies: it...</td>\n",
       "      <td>16460144</td>\n",
       "      <td>NaN</td>\n",
       "      <td>TweetDeck</td>\n",
       "      <td>code</td>\n",
       "      <td>code</td>\n",
       "    </tr>\n",
       "    <tr>\n",
       "      <th>2</th>\n",
       "      <td>1.377324e+18</td>\n",
       "      <td>en</td>\n",
       "      <td>1377323934220189700</td>\n",
       "      <td>16460144.0</td>\n",
       "      <td>mooglemoogle</td>\n",
       "      <td>1377330085557067776</td>\n",
       "      <td>NaN</td>\n",
       "      <td>0</td>\n",
       "      <td>1</td>\n",
       "      <td>https://about.twitter.com/products/tweetdeck</td>\n",
       "      <td>1377330085557067776</td>\n",
       "      <td>@mooglemoogle Sadly this is still a restrictio...</td>\n",
       "      <td>16460144</td>\n",
       "      <td>NaN</td>\n",
       "      <td>TweetDeck</td>\n",
       "      <td>code</td>\n",
       "      <td>code</td>\n",
       "    </tr>\n",
       "    <tr>\n",
       "      <th>3</th>\n",
       "      <td>NaN</td>\n",
       "      <td>en</td>\n",
       "      <td>NaN</td>\n",
       "      <td>NaN</td>\n",
       "      <td>NaN</td>\n",
       "      <td>1377321700031877124</td>\n",
       "      <td>NaN</td>\n",
       "      <td>69</td>\n",
       "      <td>271</td>\n",
       "      <td>https://mobile.twitter.com</td>\n",
       "      <td>1377321700031877124</td>\n",
       "      <td>📢 The March @code update is here! Check out wh...</td>\n",
       "      <td>NaN</td>\n",
       "      <td>NaN</td>\n",
       "      <td>Twitter Web App</td>\n",
       "      <td>code</td>\n",
       "      <td>code</td>\n",
       "    </tr>\n",
       "    <tr>\n",
       "      <th>4</th>\n",
       "      <td>NaN</td>\n",
       "      <td>en</td>\n",
       "      <td>NaN</td>\n",
       "      <td>NaN</td>\n",
       "      <td>NaN</td>\n",
       "      <td>1377286317667680260</td>\n",
       "      <td>1376898602774188041</td>\n",
       "      <td>12</td>\n",
       "      <td>89</td>\n",
       "      <td>https://buffer.com</td>\n",
       "      <td>1377286317667680260</td>\n",
       "      <td>We love seeing your favorite tips and shortcut...</td>\n",
       "      <td>NaN</td>\n",
       "      <td>1.376899e+18</td>\n",
       "      <td>Buffer</td>\n",
       "      <td>code</td>\n",
       "      <td>code</td>\n",
       "    </tr>\n",
       "  </tbody>\n",
       "</table>\n",
       "</div>"
      ],
      "text/plain": [
       "   in_reply_to_status_id lang in_reply_to_status_id_str  in_reply_to_user_id  \\\n",
       "0           1.377364e+18   en       1377363936358457345          313527759.0   \n",
       "1           1.377331e+18   en       1377331064612347904           16460144.0   \n",
       "2           1.377324e+18   en       1377323934220189700           16460144.0   \n",
       "3                    NaN   en                       NaN                  NaN   \n",
       "4                    NaN   en                       NaN                  NaN   \n",
       "\n",
       "  in_reply_to_screen_name                   id quoted_status_id_str  \\\n",
       "0           BreakIntoProg  1377367633301962754                  NaN   \n",
       "1            mooglemoogle  1377332673304174594                  NaN   \n",
       "2            mooglemoogle  1377330085557067776                  NaN   \n",
       "3                     NaN  1377321700031877124                  NaN   \n",
       "4                     NaN  1377286317667680260  1376898602774188041   \n",
       "\n",
       "   retweet_count  favorite_count  \\\n",
       "0              0               2   \n",
       "1              0               1   \n",
       "2              0               1   \n",
       "3             69             271   \n",
       "4             12              89   \n",
       "\n",
       "                                     source_url               id_str  \\\n",
       "0  https://about.twitter.com/products/tweetdeck  1377367633301962754   \n",
       "1  https://about.twitter.com/products/tweetdeck  1377332673304174594   \n",
       "2  https://about.twitter.com/products/tweetdeck  1377330085557067776   \n",
       "3                    https://mobile.twitter.com  1377321700031877124   \n",
       "4                            https://buffer.com  1377286317667680260   \n",
       "\n",
       "                                                text in_reply_to_user_id_str  \\\n",
       "0  @BreakIntoProg @JohnKennedyMSFT The Dock might...               313527759   \n",
       "1  @mooglemoogle You're correct, my apologies: it...                16460144   \n",
       "2  @mooglemoogle Sadly this is still a restrictio...                16460144   \n",
       "3  📢 The March @code update is here! Check out wh...                     NaN   \n",
       "4  We love seeing your favorite tips and shortcut...                     NaN   \n",
       "\n",
       "   quoted_status_id           source  user author  \n",
       "0               NaN        TweetDeck  code   code  \n",
       "1               NaN        TweetDeck  code   code  \n",
       "2               NaN        TweetDeck  code   code  \n",
       "3               NaN  Twitter Web App  code   code  \n",
       "4      1.376899e+18           Buffer  code   code  "
      ]
     },
     "execution_count": 24,
     "metadata": {},
     "output_type": "execute_result"
    }
   ],
   "source": [
    "df3.head()"
   ]
  },
  {
   "cell_type": "code",
   "execution_count": 25,
   "metadata": {
    "ExecuteTime": {
     "end_time": "2021-03-31T21:47:15.632557Z",
     "start_time": "2021-03-31T21:47:15.419141Z"
    }
   },
   "outputs": [
    {
     "data": {
      "text/plain": [
       "'The March release of @code is out! 😃 🙌\\n\\n🆕 New Timeline view, extension pack display, smoother file navigation, Remo… https://t.co/8zepxqWy5e'"
      ]
     },
     "execution_count": 25,
     "metadata": {},
     "output_type": "execute_result"
    }
   ],
   "source": [
    "status_obj = api.get_status('1247966976951058433')\n",
    "status_obj.text"
   ]
  },
  {
   "cell_type": "code",
   "execution_count": 27,
   "metadata": {
    "ExecuteTime": {
     "end_time": "2021-03-31T21:48:06.774567Z",
     "start_time": "2021-03-31T21:48:06.771885Z"
    }
   },
   "outputs": [
    {
     "name": "stdout",
     "output_type": "stream",
     "text": [
      "None\n"
     ]
    }
   ],
   "source": [
    "print(status_obj.geo)"
   ]
  },
  {
   "cell_type": "code",
   "execution_count": null,
   "metadata": {},
   "outputs": [],
   "source": []
  },
  {
   "cell_type": "code",
   "execution_count": 29,
   "metadata": {
    "ExecuteTime": {
     "end_time": "2021-03-31T21:56:24.591942Z",
     "start_time": "2021-03-31T21:56:24.359136Z"
    }
   },
   "outputs": [
    {
     "data": {
      "text/plain": [
       "0"
      ]
     },
     "execution_count": 29,
     "metadata": {},
     "output_type": "execute_result"
    }
   ],
   "source": [
    "len(api.home_timeline())"
   ]
  },
  {
   "cell_type": "code",
   "execution_count": 31,
   "metadata": {
    "ExecuteTime": {
     "end_time": "2021-03-31T22:00:12.582737Z",
     "start_time": "2021-03-31T22:00:12.138201Z"
    }
   },
   "outputs": [
    {
     "name": "stdout",
     "output_type": "stream",
     "text": [
      "0 RT @WWEFrance: 💙🤍❤️ André Le Géant 💙🤍❤️\n",
      "1 Let’s just say in many ways, she embodied those “philosophies and actions” 🥃\n",
      "But, like the mob that life can often… https://t.co/5dFRvXGFRi\n",
      "2 Heart and quirkiness were my life pillars growing up lol. Thank u!\n",
      "#youngrock https://t.co/NzFgPDnKdo\n",
      "3 At times, yes 💯 especially around kids #youngrock https://t.co/3MNe4UrHct\n",
      "4 Amen. \n",
      "Andre was a hero. \n",
      "#YoungRock https://t.co/lkRBd2tWFp\n",
      "5 My day with Andre🖤\n",
      "Enjoy! #youngrock https://t.co/G1zM9PVfbZ\n",
      "6 Love you uncle Sheik-ee baby!!! \n",
      "#youngrock https://t.co/Iwz0PapwEu\n",
      "7 Love it. That was my goal! \n",
      "Enjoy #youngrock https://t.co/goAkvrNPvL\n",
      "8 RT @scott_fowler: Here are a few photos of the real Andre the Giant and \"Dewey,\" who would eventually become @TheRock. For the role on @NBC…\n",
      "9 Mahalo! Enjoy! #youngrock https://t.co/Wk8P9J1Bnc\n",
      "10 Never stopped being surreal brother 🤯 🙏🏾 #youngrock \n",
      "Enjoy! https://t.co/DhJ7mRW2xr\n",
      "11 My day with Andre. \n",
      "Enjoy! #youngrock https://t.co/P53tdKQuGw\n",
      "12 Shout to #ET ☎️ 🏠 \n",
      "#youngrock https://t.co/zapkgjBSsY\n",
      "13 Enjoy! #youngrock https://t.co/oPVD7HMr4f\n",
      "14 Have a GREAT time watching #YoungRock now! \n",
      "Definitely one of my favorite episodes!!!\n",
      "#MyDayWithAndre\n",
      "#YoungRock \n",
      "Now playing on @NBC\n",
      "15 Cool clip from tonight’s BIG #youngrock episode. \n",
      "Biggest Battle Royal is Hawaii’s pro wrestling history. \n",
      "TONIGHT… https://t.co/YmkIYNRtxe\n",
      "16 The 8th Wonder of the World &amp; the punk scrub known as lil’ Dewey. \n",
      "\n",
      "Andre was a hero of mine. \n",
      "And for some reason… https://t.co/HEm8lxTQpP\n",
      "17 @Warhead2k8 Good to see you on the road my man!\n",
      "18 Ingenuity at its best. \n",
      "Mini @ZOAenergy @Xbox fridge rock &amp; rollin’ in the frunk. \n",
      "#problemsolved👊🏾 https://t.co/5UbifG26xt\n",
      "19 Good way to kick off your @ZOAenergy💥 morning! I’d go for a spin w/ ya sis but I don’t fit 😂💪🏾 https://t.co/VrQEEX32cL\n"
     ]
    }
   ],
   "source": [
    "other_user = 'therock'\n",
    "for i, status in enumerate(tweepy.Cursor(api.user_timeline, screen_name = other_user).items(20)):\n",
    "    print (i, status.text)"
   ]
  },
  {
   "cell_type": "code",
   "execution_count": null,
   "metadata": {},
   "outputs": [],
   "source": [
    "api."
   ]
  },
  {
   "cell_type": "code",
   "execution_count": null,
   "metadata": {},
   "outputs": [],
   "source": [
    "# query = '#vaccine'\n",
    "# api.search(q = query)"
   ]
  },
  {
   "cell_type": "code",
   "execution_count": 34,
   "metadata": {
    "ExecuteTime": {
     "end_time": "2021-03-31T22:09:24.051104Z",
     "start_time": "2021-03-31T22:09:22.506297Z"
    }
   },
   "outputs": [
    {
     "name": "stdout",
     "output_type": "stream",
     "text": [
      "0 RT @jakeandrew96: This is what happens when you make people doubt vaccinations. The #vaccine uptake in #France is shockingly poor. #Covid_1…\n",
      "1 RT @48Ward: If you are Phase 1c or higher, register now to get your #vaccine at the @ChicagoParks Broadway Armory on Tuesday! Thank you to…\n",
      "2 We are looking for healthy volunteers to participate in a clinical trial evaluating the effectiveness of a potentia… https://t.co/l243gh1XUr\n",
      "3 If you are Phase 1c or higher, register now to get your #vaccine at the @ChicagoParks Broadway Armory on Tuesday! T… https://t.co/bJAASAdtha\n",
      "4 J&amp;J - JOHNSON &amp; JOHNSON IS PROVIDING ADDITIONAL EXPERTS TO BE ON-SITE AT EMERGENT TO SUPERVISE MANUFACTURING OF JOH… https://t.co/00EOArejox\n",
      "5 Where Do You Stand on Employer-Mandated Vaccines?\n",
      "\n",
      "#biospace #lifesciences #biotechnology #pharmaceuticals… https://t.co/Sbrvm3veYF\n",
      "6 33 appointments at 1st and 2nd Dose - Moderna - Wilburton - Latimer Cty Hlth Dept\n",
      "#Oklahoma #COVID #Vaccine… https://t.co/cYdznPRfDr\n",
      "7 Yup, got poked.  Drew stuff while in the observation area.  Life is good… #covid #vaccine #doodle #art https://t.co/DS3bNGQNhL\n",
      "8 RT @skepticalraptor: The 2020-21 flu season during the #COVID19 pandemic has had ONE pediatric mortality compared to hundreds during normal…\n",
      "9 RT @Rocco__News: Geez louise. 15M doses RUINED. ---&gt; Johnson &amp; Johnson Covid-19 vaccine is delayed by a U.S. factory mix-up. https://t.co/8…\n",
      "10 RT @wadestanford: Sending a message about decision making out to the @WestwoodISD Community as I received the 2nd Dose of COVID-19 Vaccine.…\n",
      "11 RT @gulf_news: #COVID19\n",
      "Teens 100% protected by #Pfizer #vaccine in study \n",
      "\n",
      "https://t.co/eIZBBafkTH\n",
      "12 RT @skepticalraptor: The 2020-21 flu season during the #COVID19 pandemic has had ONE pediatric mortality compared to hundreds during normal…\n",
      "13 RT @AndrewHolnessJM: New COVID-19 Curfew Measures: \n",
      "\n",
      "#COVID19Jamaica #MaskUp #Vaccine #Sanitize #Space https://t.co/I1UR1LrK4x\n",
      "14 https://t.co/6OUsYIJiw3\n",
      "\n",
      "#psychology #therapy #relationships #JamesTobinPhD #covid-19 #newportbeach #oc #socal… https://t.co/VQ5uguxPsC\n",
      "15 NY TIMES: Parosmia—Yet another lingering symptom for ‘Long COVID’ #COVID19 #Coronavirus #vaccine #COVIDvariant… https://t.co/STcRWb89Vd\n",
      "16 Opinion: One Biotech Executive’s View on the COVID-19 Vaccine \n",
      "\n",
      "Why is Lioness talking about the COVID-19 #vaccine?… https://t.co/Xf5lLf1uyD\n",
      "17 Please join NMA President-Elect, Rachel Villanueva, MD on April 1 from 1-2pm for the AARP National Tele-Town Hall d… https://t.co/avgO2Fp32n\n",
      "18 #Covid @WHO @MHRApress 🇬🇧 \n",
      "258 serious cases of #bloodclots and 45 #deaths have been reported among people receivin… https://t.co/hgwGplGkxH\n",
      "19 RT @NHSCTrust: NHSCT have now delivered an amazing 100,000 COVID-19 vaccine doses! 💉 Well done to all involved 👏 keep up the good work! #CO…\n",
      "20 The 2020-21 flu season during the #COVID19 pandemic has had ONE pediatric mortality compared to hundreds during nor… https://t.co/ZC4MrsXq8O\n",
      "21 GET YOUR #VACCINE: If you're 70 or older, roll up your sleeve this weekend. @cityoftoronto #Toronto #COVID19… https://t.co/uD7IjUoSBC\n",
      "22 We are excited to introduce our vaccine stewardship program at #ASTHOTechXpo today as a Premier Sponsor! Learn more… https://t.co/UpIxXccaUL\n",
      "23 From discovery to regulatory licensing to clinical development, take a comprehensive look at the accelerated effort… https://t.co/CPuLz30d2i\n",
      "24 On Thursday, April 1, all persons living in #California who are 50 and older will be eligible for a COVID-19 vaccin… https://t.co/gjMBKtLYiJ\n",
      "25 #vaccine \n",
      "Woman suffers agonizing rash after Oxford-AstraZeneca COVID vaccine https://t.co/mS08BZDemE via @nypost\n",
      "26 #COVID #vaccine #reveal #party #humor #NewYorker https://t.co/hmckKjSkm8\n",
      "27 @narendramodi\n",
      "#5Qs 1137th set\n",
      "Sir\n",
      "Are masses viewing #COVID as #virus that causes #LittleFlu (LF)\n",
      "Is this clear fro… https://t.co/17YVWSFV1C\n",
      "28 RT @queenluluthepug: Poppy is currently waiting on line to get his first vaccine. He better not be too late with my dinner! And he better b…\n",
      "29 RT @MayoClinicGIM: Founder of @MayoClinic's Vaccine Research Group @drgregpoland asks tough questions about safety and effectiveness and th…\n",
      "30 I got my first COVID vaccination today. My only symptoms were joy, gratitude and a slightly sore arm. Can’t wait fo… https://t.co/RfEgusRZRw\n",
      "31 #Trump promoted #HydroxyChloroquine (HCQ) as an inexpensive, effective, and widely-available treatment for #COVID19… https://t.co/Yrc8elbSyV\n",
      "32 RT @NHSCTrust: NHSCT have now delivered an amazing 100,000 COVID-19 vaccine doses! 💉 Well done to all involved 👏 keep up the good work! #CO…\n",
      "33 #COVID19\n",
      "Teens 100% protected by #Pfizer #vaccine in study \n",
      "\n",
      "https://t.co/eIZBBafkTH\n",
      "34 RT @John_Cooper_QC: Just learned that some insurance companies are excluding cover for #vaccine side effects as it is considered an “experi…\n",
      "35 https://t.co/rjcbs5u8HI\n",
      "\n",
      "Dies ist eine weitere Botschaft an die Verwaltung von António Costa und seine Minister.… https://t.co/hrk3Yb9J2J\n",
      "36 RT @queenluluthepug: Poppy is currently waiting on line to get his first vaccine. He better not be too late with my dinner! And he better b…\n",
      "37 #Vaccine eligibility requirements seem to be changing daily. This tracker from @PittCaregiving can help family care… https://t.co/8v6gYvwXt3\n",
      "38 https://t.co/rjcbs5LK6i\n",
      "\n",
      "C'est un autre message pour l'administration d'António Costa et ses ministres.… https://t.co/e1nhmOXBGe\n",
      "39 RT @OffGuardian0: So, you've been wearing your #masks like good boys &amp; girls. You've had your first #vaccine shot. You followed all the rul…\n",
      "40 RT @NHSCTrust: NHSCT have now delivered an amazing 100,000 COVID-19 vaccine doses! 💉 Well done to all involved 👏 keep up the good work! #CO…\n",
      "41 #breaking:\n",
      "#vaccine breakthrough:\n",
      "#morrison has now exclusively sourced a #covid notional vaccine!\n",
      "How good is #ScottyTheAnnouncer\n",
      "42 https://t.co/rjcbs5LK6i\n",
      "\n",
      "This is another message for the Administration of António Costa and his ministers.… https://t.co/RuvZC6TF7X\n",
      "43 Great news:  starting next week, our clinic will begin offering the J&amp;J #covid #vaccine to all patients with outpat… https://t.co/setGVixfYG\n",
      "44 RT @UOPacific: We are live on Facebook now with @Astro_Jose who is speaking about the benefits of getting the COVID-19 #vaccine. Watch live…\n",
      "45 RT @MayoClinicGIM: Founder of @MayoClinic's Vaccine Research Group @drgregpoland asks tough questions about safety and effectiveness and th…\n",
      "46 RT @DrNinaRadcliff: #vaccine #VaccinePassport #COVID19 #Covid_19 #texas #florida #NewYork #newjersey #cuomo #america\n",
      "47 RT @DrNinaRadcliff: Are we turning the corner? Going backwards or at a standstill when it comes to the #COVID19 #pandemic? When will life r…\n",
      "48 RT @DrNinaRadcliff: Nationwide, #COVID19 cases r trending up w #newyork #newjersey leading the way. Why? I join Coast to Coast on @FoxBusin…\n",
      "49 https://t.co/rjcbs5LK6i\n",
      "\n",
      "Este es otro mensaje para la Administración de António Costa y sus ministros.… https://t.co/dHiB5dlU32\n"
     ]
    }
   ],
   "source": [
    "query = '#vaccine covid'\n",
    "for i, status in enumerate(tweepy.Cursor(api.search, q= query).items(50)):\n",
    "    print (i, status.text)"
   ]
  },
  {
   "cell_type": "code",
   "execution_count": null,
   "metadata": {},
   "outputs": [],
   "source": []
  }
 ],
 "metadata": {
  "kernelspec": {
   "display_name": "Python 3",
   "language": "python",
   "name": "python3"
  },
  "language_info": {
   "codemirror_mode": {
    "name": "ipython",
    "version": 3
   },
   "file_extension": ".py",
   "mimetype": "text/x-python",
   "name": "python",
   "nbconvert_exporter": "python",
   "pygments_lexer": "ipython3",
   "version": "3.8.5"
  },
  "toc": {
   "base_numbering": 1,
   "nav_menu": {},
   "number_sections": true,
   "sideBar": true,
   "skip_h1_title": true,
   "title_cell": "Table of Contents",
   "title_sidebar": "Contents",
   "toc_cell": false,
   "toc_position": {},
   "toc_section_display": true,
   "toc_window_display": false
  },
  "varInspector": {
   "cols": {
    "lenName": 16,
    "lenType": 16,
    "lenVar": 40
   },
   "kernels_config": {
    "python": {
     "delete_cmd_postfix": "",
     "delete_cmd_prefix": "del ",
     "library": "var_list.py",
     "varRefreshCmd": "print(var_dic_list())"
    },
    "r": {
     "delete_cmd_postfix": ") ",
     "delete_cmd_prefix": "rm(",
     "library": "var_list.r",
     "varRefreshCmd": "cat(var_dic_list()) "
    }
   },
   "types_to_exclude": [
    "module",
    "function",
    "builtin_function_or_method",
    "instance",
    "_Feature"
   ],
   "window_display": false
  }
 },
 "nbformat": 4,
 "nbformat_minor": 4
}
