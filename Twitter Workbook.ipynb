{
 "cells": [
  {
   "cell_type": "markdown",
   "metadata": {},
   "source": [
    "# Twitter Workbook\n",
    "\n",
    "# Twitter Sentiment Analysis\n",
    "\n",
    "This notebook aims to predict whether a person does or does not intend to get the COVID-19 vaccine by looking at Tweets."
   ]
  },
  {
   "cell_type": "code",
   "execution_count": 1,
   "metadata": {
    "ExecuteTime": {
     "end_time": "2021-04-01T20:50:25.510345Z",
     "start_time": "2021-04-01T20:50:24.986534Z"
    }
   },
   "outputs": [],
   "source": [
    "import tweepy\n",
    "import webbrowser\n",
    "import time\n",
    "\n",
    "import pandas as pd\n",
    "\n",
    "from tweepy import OAuthHandler\n",
    "from tweepy import API\n",
    "\n",
    "\n",
    "# auth.set_access_token(access_token, access_token_secret)\n",
    "\n"
   ]
  },
  {
   "cell_type": "code",
   "execution_count": 2,
   "metadata": {
    "ExecuteTime": {
     "end_time": "2021-04-01T20:50:25.514506Z",
     "start_time": "2021-04-01T20:50:25.512358Z"
    }
   },
   "outputs": [],
   "source": [
    "consumer_key = 'bWejmjpTvWNkCiwpixz4iYxGK'\n",
    "consumer_secret = 'Yambe1a5bWbsPoyKQg8MeQzdVHlcjnXzIm6k7uGDPsKvxyDki7'"
   ]
  },
  {
   "cell_type": "code",
   "execution_count": 3,
   "metadata": {
    "ExecuteTime": {
     "end_time": "2021-04-01T20:50:25.519303Z",
     "start_time": "2021-04-01T20:50:25.517027Z"
    }
   },
   "outputs": [],
   "source": [
    "access_token = '1374027292867969025-BcTPabYKmlcKQHZCkoXbZ2BvXXcbNs'\n",
    "access_token_secret = 'STtqBirnsLcjoVkkRbtIpWLb55hTtyw6dJus8kwaxaqha'"
   ]
  },
  {
   "cell_type": "code",
   "execution_count": 4,
   "metadata": {
    "ExecuteTime": {
     "end_time": "2021-04-01T20:50:25.523872Z",
     "start_time": "2021-04-01T20:50:25.521664Z"
    }
   },
   "outputs": [],
   "source": [
    "callback_uri = 'oob'"
   ]
  },
  {
   "cell_type": "code",
   "execution_count": 5,
   "metadata": {
    "ExecuteTime": {
     "end_time": "2021-04-01T20:50:25.527754Z",
     "start_time": "2021-04-01T20:50:25.525297Z"
    }
   },
   "outputs": [],
   "source": [
    "auth = OAuthHandler(consumer_key, consumer_secret, callback_uri)\n",
    "auth.set_access_token(access_token, access_token_secret)\n",
    "# redirect_url = auth.get_authorization_url()"
   ]
  },
  {
   "cell_type": "code",
   "execution_count": null,
   "metadata": {},
   "outputs": [],
   "source": []
  },
  {
   "cell_type": "code",
   "execution_count": 6,
   "metadata": {
    "ExecuteTime": {
     "end_time": "2021-04-01T20:50:25.672839Z",
     "start_time": "2021-04-01T20:50:25.529912Z"
    }
   },
   "outputs": [
    {
     "ename": "NameError",
     "evalue": "name 'redirect_url' is not defined",
     "output_type": "error",
     "traceback": [
      "\u001b[0;31m---------------------------------------------------------------------------\u001b[0m",
      "\u001b[0;31mNameError\u001b[0m                                 Traceback (most recent call last)",
      "\u001b[0;32m<ipython-input-6-5dfd0662c91d>\u001b[0m in \u001b[0;36m<module>\u001b[0;34m\u001b[0m\n\u001b[0;32m----> 1\u001b[0;31m \u001b[0mwebbrowser\u001b[0m\u001b[0;34m.\u001b[0m\u001b[0mopen\u001b[0m\u001b[0;34m(\u001b[0m\u001b[0mredirect_url\u001b[0m\u001b[0;34m)\u001b[0m\u001b[0;34m\u001b[0m\u001b[0;34m\u001b[0m\u001b[0m\n\u001b[0m",
      "\u001b[0;31mNameError\u001b[0m: name 'redirect_url' is not defined"
     ]
    }
   ],
   "source": [
    "# webbrowser.open(redirect_url)"
   ]
  },
  {
   "cell_type": "code",
   "execution_count": null,
   "metadata": {
    "ExecuteTime": {
     "end_time": "2021-04-01T20:50:25.678742Z",
     "start_time": "2021-04-01T20:50:24.989Z"
    }
   },
   "outputs": [],
   "source": [
    "# user_pin_input = input(\"What's the pin value? \")"
   ]
  },
  {
   "cell_type": "code",
   "execution_count": 7,
   "metadata": {
    "ExecuteTime": {
     "end_time": "2021-04-01T20:51:00.810502Z",
     "start_time": "2021-04-01T20:51:00.803291Z"
    }
   },
   "outputs": [
    {
     "ename": "NameError",
     "evalue": "name 'user_pin_input' is not defined",
     "output_type": "error",
     "traceback": [
      "\u001b[0;31m---------------------------------------------------------------------------\u001b[0m",
      "\u001b[0;31mNameError\u001b[0m                                 Traceback (most recent call last)",
      "\u001b[0;32m<ipython-input-7-8a2fa7b640dc>\u001b[0m in \u001b[0;36m<module>\u001b[0;34m\u001b[0m\n\u001b[0;32m----> 1\u001b[0;31m \u001b[0mauth\u001b[0m\u001b[0;34m.\u001b[0m\u001b[0mget_access_token\u001b[0m\u001b[0;34m(\u001b[0m\u001b[0muser_pin_input\u001b[0m\u001b[0;34m)\u001b[0m\u001b[0;34m\u001b[0m\u001b[0;34m\u001b[0m\u001b[0m\n\u001b[0m",
      "\u001b[0;31mNameError\u001b[0m: name 'user_pin_input' is not defined"
     ]
    }
   ],
   "source": [
    "# auth.get_access_token(user_pin_input)"
   ]
  },
  {
   "cell_type": "code",
   "execution_count": 8,
   "metadata": {
    "ExecuteTime": {
     "end_time": "2021-04-01T20:51:14.991978Z",
     "start_time": "2021-04-01T20:51:14.989395Z"
    }
   },
   "outputs": [],
   "source": [
    "api = API(auth, wait_on_rate_limit= True)"
   ]
  },
  {
   "cell_type": "code",
   "execution_count": 9,
   "metadata": {
    "ExecuteTime": {
     "end_time": "2021-04-01T20:51:16.567982Z",
     "start_time": "2021-04-01T20:51:16.126410Z"
    }
   },
   "outputs": [
    {
     "name": "stdout",
     "output_type": "stream",
     "text": [
      "cassienutter1\n"
     ]
    }
   ],
   "source": [
    "me = api.me()\n",
    "print(me.screen_name)"
   ]
  },
  {
   "cell_type": "markdown",
   "metadata": {},
   "source": [
    "get text from your timeline into pandas"
   ]
  },
  {
   "cell_type": "code",
   "execution_count": 10,
   "metadata": {
    "ExecuteTime": {
     "end_time": "2021-04-01T20:51:18.391879Z",
     "start_time": "2021-04-01T20:51:18.206486Z"
    }
   },
   "outputs": [],
   "source": [
    "my_timeline = api.home_timeline()"
   ]
  },
  {
   "cell_type": "code",
   "execution_count": 11,
   "metadata": {
    "ExecuteTime": {
     "end_time": "2021-04-01T20:51:19.232885Z",
     "start_time": "2021-04-01T20:51:19.230231Z"
    }
   },
   "outputs": [
    {
     "name": "stdout",
     "output_type": "stream",
     "text": [
      "[]\n"
     ]
    }
   ],
   "source": [
    "print(my_timeline)"
   ]
  },
  {
   "cell_type": "code",
   "execution_count": 13,
   "metadata": {
    "ExecuteTime": {
     "end_time": "2021-04-01T20:51:26.705357Z",
     "start_time": "2021-04-01T20:51:26.700824Z"
    }
   },
   "outputs": [],
   "source": [
    "columns = set()\n",
    "allowed_types = [str, int]\n",
    "tweet_data = []\n",
    "\n",
    "for status in my_timeline:\n",
    "#     print(status.text)\n",
    "#     print (type(vas(status)))\n",
    "    status_dict = dict(vars(status))\n",
    "    keys = status_dict.keys()\n",
    "    single_tweet_data = {}\n",
    "    for k in keys:\n",
    "        try:\n",
    "            v_type = type(status_dict['k'])\n",
    "        except:\n",
    "            v_type = None\n",
    "            \n",
    "        if v_type != None:\n",
    "            if v_type in allowed_types:\n",
    "                single_tweet_data[k] = status_dict[k]\n",
    "                columns.add(k)\n",
    "    tweets_data.append(single_tweet_data )\n",
    "        \n",
    "header_cols = list(columns)"
   ]
  },
  {
   "cell_type": "code",
   "execution_count": 14,
   "metadata": {
    "ExecuteTime": {
     "end_time": "2021-04-01T20:51:27.884925Z",
     "start_time": "2021-04-01T20:51:27.870516Z"
    }
   },
   "outputs": [
    {
     "data": {
      "text/html": [
       "<div>\n",
       "<style scoped>\n",
       "    .dataframe tbody tr th:only-of-type {\n",
       "        vertical-align: middle;\n",
       "    }\n",
       "\n",
       "    .dataframe tbody tr th {\n",
       "        vertical-align: top;\n",
       "    }\n",
       "\n",
       "    .dataframe thead th {\n",
       "        text-align: right;\n",
       "    }\n",
       "</style>\n",
       "<table border=\"1\" class=\"dataframe\">\n",
       "  <thead>\n",
       "    <tr style=\"text-align: right;\">\n",
       "      <th></th>\n",
       "    </tr>\n",
       "  </thead>\n",
       "  <tbody>\n",
       "  </tbody>\n",
       "</table>\n",
       "</div>"
      ],
      "text/plain": [
       "Empty DataFrame\n",
       "Columns: []\n",
       "Index: []"
      ]
     },
     "execution_count": 14,
     "metadata": {},
     "output_type": "execute_result"
    }
   ],
   "source": [
    "df = pd.DataFrame(tweet_data, columns= header_cols)\n",
    "df.head()"
   ]
  },
  {
   "cell_type": "code",
   "execution_count": 17,
   "metadata": {
    "ExecuteTime": {
     "end_time": "2021-04-01T20:51:38.636118Z",
     "start_time": "2021-04-01T20:51:38.052121Z"
    }
   },
   "outputs": [
    {
     "data": {
      "text/html": [
       "<div>\n",
       "<style scoped>\n",
       "    .dataframe tbody tr th:only-of-type {\n",
       "        vertical-align: middle;\n",
       "    }\n",
       "\n",
       "    .dataframe tbody tr th {\n",
       "        vertical-align: top;\n",
       "    }\n",
       "\n",
       "    .dataframe thead th {\n",
       "        text-align: right;\n",
       "    }\n",
       "</style>\n",
       "<table border=\"1\" class=\"dataframe\">\n",
       "  <thead>\n",
       "    <tr style=\"text-align: right;\">\n",
       "      <th></th>\n",
       "      <th>retweet_count</th>\n",
       "      <th>lang</th>\n",
       "      <th>in_reply_to_status_id_str</th>\n",
       "      <th>in_reply_to_user_id_str</th>\n",
       "      <th>in_reply_to_screen_name</th>\n",
       "      <th>source_url</th>\n",
       "      <th>in_reply_to_status_id</th>\n",
       "      <th>id</th>\n",
       "      <th>text</th>\n",
       "      <th>favorite_count</th>\n",
       "      <th>quoted_status_id_str</th>\n",
       "      <th>quoted_status_id</th>\n",
       "      <th>source</th>\n",
       "      <th>id_str</th>\n",
       "      <th>in_reply_to_user_id</th>\n",
       "      <th>author</th>\n",
       "    </tr>\n",
       "  </thead>\n",
       "  <tbody>\n",
       "    <tr>\n",
       "      <th>0</th>\n",
       "      <td>0</td>\n",
       "      <td>en</td>\n",
       "      <td>1377701530200113155</td>\n",
       "      <td>3323218917</td>\n",
       "      <td>satyalumesh</td>\n",
       "      <td>https://about.twitter.com/products/tweetdeck</td>\n",
       "      <td>1.377702e+18</td>\n",
       "      <td>1377709350337146882</td>\n",
       "      <td>@satyalumesh Not that I know of. But last week...</td>\n",
       "      <td>2</td>\n",
       "      <td>NaN</td>\n",
       "      <td>NaN</td>\n",
       "      <td>TweetDeck</td>\n",
       "      <td>1377709350337146882</td>\n",
       "      <td>3.323219e+09</td>\n",
       "      <td>code</td>\n",
       "    </tr>\n",
       "    <tr>\n",
       "      <th>1</th>\n",
       "      <td>18</td>\n",
       "      <td>en</td>\n",
       "      <td>NaN</td>\n",
       "      <td>NaN</td>\n",
       "      <td>NaN</td>\n",
       "      <td>https://buffer.com</td>\n",
       "      <td>NaN</td>\n",
       "      <td>1377685949405138944</td>\n",
       "      <td>RT @jongallant: If GitHub Codespaces in the br...</td>\n",
       "      <td>0</td>\n",
       "      <td>NaN</td>\n",
       "      <td>NaN</td>\n",
       "      <td>Buffer</td>\n",
       "      <td>1377685949405138944</td>\n",
       "      <td>NaN</td>\n",
       "      <td>code</td>\n",
       "    </tr>\n",
       "    <tr>\n",
       "      <th>2</th>\n",
       "      <td>0</td>\n",
       "      <td>en</td>\n",
       "      <td>1377632054339379204</td>\n",
       "      <td>1352047281726517248</td>\n",
       "      <td>codexpath2</td>\n",
       "      <td>https://about.twitter.com/products/tweetdeck</td>\n",
       "      <td>1.377632e+18</td>\n",
       "      <td>1377663896710901760</td>\n",
       "      <td>@codexpath2 @thecodercoder We have info here t...</td>\n",
       "      <td>0</td>\n",
       "      <td>NaN</td>\n",
       "      <td>NaN</td>\n",
       "      <td>TweetDeck</td>\n",
       "      <td>1377663896710901760</td>\n",
       "      <td>1.352047e+18</td>\n",
       "      <td>code</td>\n",
       "    </tr>\n",
       "    <tr>\n",
       "      <th>3</th>\n",
       "      <td>138</td>\n",
       "      <td>en</td>\n",
       "      <td>NaN</td>\n",
       "      <td>NaN</td>\n",
       "      <td>NaN</td>\n",
       "      <td>https://buffer.com</td>\n",
       "      <td>NaN</td>\n",
       "      <td>1377648956843433986</td>\n",
       "      <td>Copying and pasting from… I mean, consulting S...</td>\n",
       "      <td>570</td>\n",
       "      <td>1376671673320083459</td>\n",
       "      <td>1.376672e+18</td>\n",
       "      <td>Buffer</td>\n",
       "      <td>1377648956843433986</td>\n",
       "      <td>NaN</td>\n",
       "      <td>code</td>\n",
       "    </tr>\n",
       "    <tr>\n",
       "      <th>4</th>\n",
       "      <td>7</td>\n",
       "      <td>en</td>\n",
       "      <td>NaN</td>\n",
       "      <td>NaN</td>\n",
       "      <td>NaN</td>\n",
       "      <td>https://buffer.com</td>\n",
       "      <td>NaN</td>\n",
       "      <td>1377380687808847872</td>\n",
       "      <td>RT @nitecoda1: Ever forgotten to import one of...</td>\n",
       "      <td>0</td>\n",
       "      <td>NaN</td>\n",
       "      <td>NaN</td>\n",
       "      <td>Buffer</td>\n",
       "      <td>1377380687808847872</td>\n",
       "      <td>NaN</td>\n",
       "      <td>code</td>\n",
       "    </tr>\n",
       "  </tbody>\n",
       "</table>\n",
       "</div>"
      ],
      "text/plain": [
       "   retweet_count lang in_reply_to_status_id_str in_reply_to_user_id_str  \\\n",
       "0              0   en       1377701530200113155              3323218917   \n",
       "1             18   en                       NaN                     NaN   \n",
       "2              0   en       1377632054339379204     1352047281726517248   \n",
       "3            138   en                       NaN                     NaN   \n",
       "4              7   en                       NaN                     NaN   \n",
       "\n",
       "  in_reply_to_screen_name                                    source_url  \\\n",
       "0             satyalumesh  https://about.twitter.com/products/tweetdeck   \n",
       "1                     NaN                            https://buffer.com   \n",
       "2              codexpath2  https://about.twitter.com/products/tweetdeck   \n",
       "3                     NaN                            https://buffer.com   \n",
       "4                     NaN                            https://buffer.com   \n",
       "\n",
       "   in_reply_to_status_id                   id  \\\n",
       "0           1.377702e+18  1377709350337146882   \n",
       "1                    NaN  1377685949405138944   \n",
       "2           1.377632e+18  1377663896710901760   \n",
       "3                    NaN  1377648956843433986   \n",
       "4                    NaN  1377380687808847872   \n",
       "\n",
       "                                                text  favorite_count  \\\n",
       "0  @satyalumesh Not that I know of. But last week...               2   \n",
       "1  RT @jongallant: If GitHub Codespaces in the br...               0   \n",
       "2  @codexpath2 @thecodercoder We have info here t...               0   \n",
       "3  Copying and pasting from… I mean, consulting S...             570   \n",
       "4  RT @nitecoda1: Ever forgotten to import one of...               0   \n",
       "\n",
       "  quoted_status_id_str  quoted_status_id     source               id_str  \\\n",
       "0                  NaN               NaN  TweetDeck  1377709350337146882   \n",
       "1                  NaN               NaN     Buffer  1377685949405138944   \n",
       "2                  NaN               NaN  TweetDeck  1377663896710901760   \n",
       "3  1376671673320083459      1.376672e+18     Buffer  1377648956843433986   \n",
       "4                  NaN               NaN     Buffer  1377380687808847872   \n",
       "\n",
       "   in_reply_to_user_id author  \n",
       "0         3.323219e+09   code  \n",
       "1                  NaN   code  \n",
       "2         1.352047e+18   code  \n",
       "3                  NaN   code  \n",
       "4                  NaN   code  "
      ]
     },
     "execution_count": 17,
     "metadata": {},
     "output_type": "execute_result"
    }
   ],
   "source": [
    "#. get_status?\n",
    "\n",
    "user = api.get_user('code')\n",
    "user_timeline = user.timeline()\n",
    "df2 = extract_timeline_as_df(user_timeline)\n",
    "df2.head()"
   ]
  },
  {
   "cell_type": "code",
   "execution_count": 16,
   "metadata": {
    "ExecuteTime": {
     "end_time": "2021-04-01T20:51:35.188373Z",
     "start_time": "2021-04-01T20:51:35.183458Z"
    }
   },
   "outputs": [],
   "source": [
    "def extract_timeline_as_df(timeline_list):\n",
    "    columns = set()\n",
    "    allowed_types = [str, int]\n",
    "    tweets_data = []\n",
    "    for status in timeline_list:\n",
    "        status_dict = dict(vars(status))\n",
    "        keys = status_dict.keys()\n",
    "        single_tweet_data = {\"user\": status.user.screen_name, \"author\": status.author.screen_name}\n",
    "        for k in keys:\n",
    "            try:\n",
    "                v_type = type(status_dict[k])\n",
    "            except:\n",
    "                v_type = None\n",
    "            if v_type != None:\n",
    "                if v_type in allowed_types:\n",
    "                    single_tweet_data[k] = status_dict[k]\n",
    "                    columns.add(k)\n",
    "        tweets_data.append(single_tweet_data)\n",
    "\n",
    "\n",
    "    header_cols = list(columns)\n",
    "    header_cols.append('author')\n",
    "    df = pd.DataFrame(tweets_data, columns=header_cols)\n",
    "    return df"
   ]
  },
  {
   "cell_type": "code",
   "execution_count": null,
   "metadata": {
    "ExecuteTime": {
     "end_time": "2021-04-01T20:50:25.689440Z",
     "start_time": "2021-04-01T20:50:25.003Z"
    }
   },
   "outputs": [],
   "source": [
    "df3 = extract_timeline_as_df(user_timeline)"
   ]
  },
  {
   "cell_type": "code",
   "execution_count": null,
   "metadata": {
    "ExecuteTime": {
     "end_time": "2021-04-01T20:50:25.690507Z",
     "start_time": "2021-04-01T20:50:25.005Z"
    }
   },
   "outputs": [],
   "source": [
    "df3.head()"
   ]
  },
  {
   "cell_type": "code",
   "execution_count": null,
   "metadata": {
    "ExecuteTime": {
     "end_time": "2021-04-01T20:50:25.691497Z",
     "start_time": "2021-04-01T20:50:25.006Z"
    }
   },
   "outputs": [],
   "source": [
    "status_obj = api.get_status('1247966976951058433')\n",
    "status_obj.text"
   ]
  },
  {
   "cell_type": "code",
   "execution_count": null,
   "metadata": {
    "ExecuteTime": {
     "end_time": "2021-04-01T20:50:25.692441Z",
     "start_time": "2021-04-01T20:50:25.007Z"
    }
   },
   "outputs": [],
   "source": [
    "print(status_obj.geo)"
   ]
  },
  {
   "cell_type": "code",
   "execution_count": null,
   "metadata": {},
   "outputs": [],
   "source": []
  },
  {
   "cell_type": "code",
   "execution_count": null,
   "metadata": {
    "ExecuteTime": {
     "end_time": "2021-04-01T20:50:25.693296Z",
     "start_time": "2021-04-01T20:50:25.010Z"
    }
   },
   "outputs": [],
   "source": [
    "len(api.home_timeline())"
   ]
  },
  {
   "cell_type": "code",
   "execution_count": null,
   "metadata": {
    "ExecuteTime": {
     "end_time": "2021-04-01T20:50:25.694069Z",
     "start_time": "2021-04-01T20:50:25.011Z"
    }
   },
   "outputs": [],
   "source": [
    "other_user = 'therock'\n",
    "for i, status in enumerate(tweepy.Cursor(api.user_timeline, screen_name = other_user).items(20)):\n",
    "    print (i, status.text)"
   ]
  },
  {
   "cell_type": "code",
   "execution_count": null,
   "metadata": {
    "ExecuteTime": {
     "end_time": "2021-04-01T20:50:25.694922Z",
     "start_time": "2021-04-01T20:50:25.012Z"
    }
   },
   "outputs": [],
   "source": [
    "api."
   ]
  },
  {
   "cell_type": "code",
   "execution_count": null,
   "metadata": {
    "ExecuteTime": {
     "end_time": "2021-04-01T20:50:25.695986Z",
     "start_time": "2021-04-01T20:50:25.013Z"
    }
   },
   "outputs": [],
   "source": [
    "# query = '#vaccine'\n",
    "# api.search(q = query)"
   ]
  },
  {
   "cell_type": "code",
   "execution_count": null,
   "metadata": {
    "ExecuteTime": {
     "end_time": "2021-04-01T20:50:25.697069Z",
     "start_time": "2021-04-01T20:50:25.015Z"
    }
   },
   "outputs": [],
   "source": [
    "query = '#vaccine covid'\n",
    "for i, status in enumerate(tweepy.Cursor(api.search, q= query).items(50)):\n",
    "    print (i, status.text)"
   ]
  },
  {
   "cell_type": "code",
   "execution_count": null,
   "metadata": {},
   "outputs": [],
   "source": []
  },
  {
   "cell_type": "code",
   "execution_count": 18,
   "metadata": {
    "ExecuteTime": {
     "end_time": "2021-04-01T20:51:53.837358Z",
     "start_time": "2021-04-01T20:51:53.834570Z"
    }
   },
   "outputs": [],
   "source": [
    "cursor = tweepy.Cursor(api.user_timeline, id= 'code', tweet_mode = 'extended').items(1)"
   ]
  },
  {
   "cell_type": "code",
   "execution_count": 19,
   "metadata": {
    "ExecuteTime": {
     "end_time": "2021-04-01T20:51:55.283304Z",
     "start_time": "2021-04-01T20:51:54.903967Z"
    }
   },
   "outputs": [
    {
     "name": "stdout",
     "output_type": "stream",
     "text": [
      "['__class__', '__delattr__', '__dict__', '__dir__', '__doc__', '__eq__', '__format__', '__ge__', '__getattribute__', '__getstate__', '__gt__', '__hash__', '__init__', '__init_subclass__', '__le__', '__lt__', '__module__', '__ne__', '__new__', '__reduce__', '__reduce_ex__', '__repr__', '__setattr__', '__sizeof__', '__str__', '__subclasshook__', '__weakref__', '_api', '_json', 'author', 'contributors', 'coordinates', 'created_at', 'destroy', 'display_text_range', 'entities', 'favorite', 'favorite_count', 'favorited', 'full_text', 'geo', 'id', 'id_str', 'in_reply_to_screen_name', 'in_reply_to_status_id', 'in_reply_to_status_id_str', 'in_reply_to_user_id', 'in_reply_to_user_id_str', 'is_quote_status', 'lang', 'parse', 'parse_list', 'place', 'possibly_sensitive', 'retweet', 'retweet_count', 'retweeted', 'retweets', 'source', 'source_url', 'truncated', 'user']\n"
     ]
    }
   ],
   "source": [
    "for i in cursor:\n",
    "    print(dir(i))"
   ]
  },
  {
   "cell_type": "code",
   "execution_count": 20,
   "metadata": {
    "ExecuteTime": {
     "end_time": "2021-04-01T20:52:15.101239Z",
     "start_time": "2021-04-01T20:52:15.098167Z"
    }
   },
   "outputs": [],
   "source": [
    "cursor = tweepy.Cursor(api.user_timeline, id= 'code', tweet_mode = 'extended').items(1)"
   ]
  },
  {
   "cell_type": "code",
   "execution_count": 21,
   "metadata": {
    "ExecuteTime": {
     "end_time": "2021-04-01T20:52:47.992726Z",
     "start_time": "2021-04-01T20:52:47.610368Z"
    }
   },
   "outputs": [
    {
     "name": "stdout",
     "output_type": "stream",
     "text": [
      "@satyalumesh Not that I know of. But last week we had a livestream with folks from @Tabnine_ and @ShinanYotam had some thoughts on that 🙊 https://t.co/Cg2Yb71vZ4 en None\n"
     ]
    }
   ],
   "source": [
    "for i in cursor:\n",
    "    print(i.full_text, i.lang, i.geo)"
   ]
  },
  {
   "cell_type": "code",
   "execution_count": 24,
   "metadata": {
    "ExecuteTime": {
     "end_time": "2021-04-01T20:55:05.289395Z",
     "start_time": "2021-04-01T20:55:05.286422Z"
    }
   },
   "outputs": [],
   "source": [
    "cursor = tweepy.Cursor(api.search, q= 'vaccine', tweet_mode = 'extended').items(6)"
   ]
  },
  {
   "cell_type": "code",
   "execution_count": 25,
   "metadata": {
    "ExecuteTime": {
     "end_time": "2021-04-01T20:55:06.755655Z",
     "start_time": "2021-04-01T20:55:06.357473Z"
    }
   },
   "outputs": [
    {
     "name": "stdout",
     "output_type": "stream",
     "text": [
      "@HBarca5 @GovMikeDeWine Um...hospital employee mandated to get the flu vaccine EVERY SINGLE YEAR. Covid vaccine should be no different. en None\n",
      "RT @drsimonegold: .@GovRonDeSantis announced that he will take executive action this week against vaccine passports.\n",
      "\n",
      "Every governor in Ame… en None\n",
      "RT @HumanRights4UK: We must universally and TOTALLY reject \"vaccine passports\" at all costs. They will create a worldwide digital surveilla… en None\n",
      "@BogochIsaac @CKKellyMartin @fordnation I signed my up a week ago to be notified about vaccine appointments at a pharmacy in Sharbot Lake (the closest option to Ottawa at the time). They still haven't contacted her. en None\n",
      "May nabili bang @pfizer vaccine ang matandang inutil na damuhong batugang tumor ni satanas?\n",
      "\n",
      "Si #galvezInutil, may na-pirmahan na bang supply agreement sa mga vaccine manufacturers?\n",
      "\n",
      "#DutertePalpak\n",
      "#dutertaeInutil\n",
      "#IMPEACHdutertae\n",
      "#OustDuterteNOW\n",
      "#Oustduterte2021\n",
      "#Oustdu30 https://t.co/t87Vm8LSKk tl None\n",
      "RT @WSJ: The U.K.’s bold call to delay giving people a second dose of a Covid-19 vaccine has put it out in front in the race to inoculate t… en None\n"
     ]
    }
   ],
   "source": [
    "for i in cursor:\n",
    "    print(i.full_text, i.lang, i.geo)"
   ]
  },
  {
   "cell_type": "code",
   "execution_count": null,
   "metadata": {},
   "outputs": [],
   "source": []
  },
  {
   "cell_type": "code",
   "execution_count": 59,
   "metadata": {
    "ExecuteTime": {
     "end_time": "2021-04-01T21:23:45.415267Z",
     "start_time": "2021-04-01T21:23:45.080720Z"
    }
   },
   "outputs": [],
   "source": [
    "number_of_tweets = 5\n",
    "tweets = []\n",
    "language = []\n",
    "time = []\n",
    "\n",
    "for i in tweepy.Cursor(api.search, q= 'vaccine covid -RT',  tweet_mode = 'extended', include_rts= False).items(number_of_tweets):\n",
    "    tweets.append(i.full_text)\n",
    "    language.append(i.lang)\n",
    "    time.append(i.created_at)\n"
   ]
  },
  {
   "cell_type": "code",
   "execution_count": 60,
   "metadata": {
    "ExecuteTime": {
     "end_time": "2021-04-01T21:23:46.465814Z",
     "start_time": "2021-04-01T21:23:46.462414Z"
    }
   },
   "outputs": [],
   "source": [
    "df = pd.DataFrame({'time': time, 'language': language, 'tweets': tweets})"
   ]
  },
  {
   "cell_type": "code",
   "execution_count": 61,
   "metadata": {
    "ExecuteTime": {
     "end_time": "2021-04-01T21:23:47.484663Z",
     "start_time": "2021-04-01T21:23:47.476774Z"
    }
   },
   "outputs": [
    {
     "data": {
      "text/html": [
       "<div>\n",
       "<style scoped>\n",
       "    .dataframe tbody tr th:only-of-type {\n",
       "        vertical-align: middle;\n",
       "    }\n",
       "\n",
       "    .dataframe tbody tr th {\n",
       "        vertical-align: top;\n",
       "    }\n",
       "\n",
       "    .dataframe thead th {\n",
       "        text-align: right;\n",
       "    }\n",
       "</style>\n",
       "<table border=\"1\" class=\"dataframe\">\n",
       "  <thead>\n",
       "    <tr style=\"text-align: right;\">\n",
       "      <th></th>\n",
       "      <th>time</th>\n",
       "      <th>language</th>\n",
       "      <th>tweets</th>\n",
       "    </tr>\n",
       "  </thead>\n",
       "  <tbody>\n",
       "    <tr>\n",
       "      <th>0</th>\n",
       "      <td>2021-04-01 21:23:44</td>\n",
       "      <td>en</td>\n",
       "      <td>@RealNormalPod Someone posted a letter they'd ...</td>\n",
       "    </tr>\n",
       "    <tr>\n",
       "      <th>1</th>\n",
       "      <td>2021-04-01 21:23:42</td>\n",
       "      <td>en</td>\n",
       "      <td>check out this article everybody and please re...</td>\n",
       "    </tr>\n",
       "    <tr>\n",
       "      <th>2</th>\n",
       "      <td>2021-04-01 21:23:42</td>\n",
       "      <td>und</td>\n",
       "      <td>https://t.co/aJyl4WOsfl</td>\n",
       "    </tr>\n",
       "    <tr>\n",
       "      <th>3</th>\n",
       "      <td>2021-04-01 21:23:41</td>\n",
       "      <td>en</td>\n",
       "      <td>Made my first covid vaccine appointment let’s ...</td>\n",
       "    </tr>\n",
       "    <tr>\n",
       "      <th>4</th>\n",
       "      <td>2021-04-01 21:23:38</td>\n",
       "      <td>en</td>\n",
       "      <td>COVID-19 Vaccine Clinics Now Open to all #Indi...</td>\n",
       "    </tr>\n",
       "  </tbody>\n",
       "</table>\n",
       "</div>"
      ],
      "text/plain": [
       "                 time language  \\\n",
       "0 2021-04-01 21:23:44       en   \n",
       "1 2021-04-01 21:23:42       en   \n",
       "2 2021-04-01 21:23:42      und   \n",
       "3 2021-04-01 21:23:41       en   \n",
       "4 2021-04-01 21:23:38       en   \n",
       "\n",
       "                                              tweets  \n",
       "0  @RealNormalPod Someone posted a letter they'd ...  \n",
       "1  check out this article everybody and please re...  \n",
       "2                            https://t.co/aJyl4WOsfl  \n",
       "3  Made my first covid vaccine appointment let’s ...  \n",
       "4  COVID-19 Vaccine Clinics Now Open to all #Indi...  "
      ]
     },
     "execution_count": 61,
     "metadata": {},
     "output_type": "execute_result"
    }
   ],
   "source": [
    "df"
   ]
  },
  {
   "cell_type": "code",
   "execution_count": 37,
   "metadata": {
    "ExecuteTime": {
     "end_time": "2021-04-01T21:04:43.503842Z",
     "start_time": "2021-04-01T21:04:43.499893Z"
    }
   },
   "outputs": [],
   "source": [
    "df = df[~df.tweets.str.contains('RT')]"
   ]
  },
  {
   "cell_type": "code",
   "execution_count": 39,
   "metadata": {
    "ExecuteTime": {
     "end_time": "2021-04-01T21:05:12.977087Z",
     "start_time": "2021-04-01T21:05:12.974432Z"
    }
   },
   "outputs": [],
   "source": [
    "df.reset_index(drop= True, inplace= True)"
   ]
  },
  {
   "cell_type": "code",
   "execution_count": 69,
   "metadata": {
    "ExecuteTime": {
     "end_time": "2021-04-01T21:39:37.721239Z",
     "start_time": "2021-04-01T21:39:37.716993Z"
    }
   },
   "outputs": [],
   "source": [
    "df.to_csv('tweets.csv', mode= 'a', index= False, header= False)"
   ]
  },
  {
   "cell_type": "code",
   "execution_count": 64,
   "metadata": {
    "ExecuteTime": {
     "end_time": "2021-04-01T21:34:34.782648Z",
     "start_time": "2021-04-01T21:34:34.773133Z"
    }
   },
   "outputs": [
    {
     "data": {
      "text/html": [
       "<div>\n",
       "<style scoped>\n",
       "    .dataframe tbody tr th:only-of-type {\n",
       "        vertical-align: middle;\n",
       "    }\n",
       "\n",
       "    .dataframe tbody tr th {\n",
       "        vertical-align: top;\n",
       "    }\n",
       "\n",
       "    .dataframe thead th {\n",
       "        text-align: right;\n",
       "    }\n",
       "</style>\n",
       "<table border=\"1\" class=\"dataframe\">\n",
       "  <thead>\n",
       "    <tr style=\"text-align: right;\">\n",
       "      <th></th>\n",
       "      <th>Unnamed: 0</th>\n",
       "      <th>time</th>\n",
       "      <th>language</th>\n",
       "      <th>tweets</th>\n",
       "    </tr>\n",
       "  </thead>\n",
       "  <tbody>\n",
       "    <tr>\n",
       "      <th>0</th>\n",
       "      <td>0</td>\n",
       "      <td>2021-04-01 21:23:44</td>\n",
       "      <td>en</td>\n",
       "      <td>@RealNormalPod Someone posted a letter they'd ...</td>\n",
       "    </tr>\n",
       "    <tr>\n",
       "      <th>1</th>\n",
       "      <td>1</td>\n",
       "      <td>2021-04-01 21:23:42</td>\n",
       "      <td>en</td>\n",
       "      <td>check out this article everybody and please re...</td>\n",
       "    </tr>\n",
       "    <tr>\n",
       "      <th>2</th>\n",
       "      <td>2</td>\n",
       "      <td>2021-04-01 21:23:42</td>\n",
       "      <td>und</td>\n",
       "      <td>https://t.co/aJyl4WOsfl</td>\n",
       "    </tr>\n",
       "    <tr>\n",
       "      <th>3</th>\n",
       "      <td>3</td>\n",
       "      <td>2021-04-01 21:23:41</td>\n",
       "      <td>en</td>\n",
       "      <td>Made my first covid vaccine appointment let’s ...</td>\n",
       "    </tr>\n",
       "    <tr>\n",
       "      <th>4</th>\n",
       "      <td>4</td>\n",
       "      <td>2021-04-01 21:23:38</td>\n",
       "      <td>en</td>\n",
       "      <td>COVID-19 Vaccine Clinics Now Open to all #Indi...</td>\n",
       "    </tr>\n",
       "  </tbody>\n",
       "</table>\n",
       "</div>"
      ],
      "text/plain": [
       "   Unnamed: 0                 time language  \\\n",
       "0           0  2021-04-01 21:23:44       en   \n",
       "1           1  2021-04-01 21:23:42       en   \n",
       "2           2  2021-04-01 21:23:42      und   \n",
       "3           3  2021-04-01 21:23:41       en   \n",
       "4           4  2021-04-01 21:23:38       en   \n",
       "\n",
       "                                              tweets  \n",
       "0  @RealNormalPod Someone posted a letter they'd ...  \n",
       "1  check out this article everybody and please re...  \n",
       "2                            https://t.co/aJyl4WOsfl  \n",
       "3  Made my first covid vaccine appointment let’s ...  \n",
       "4  COVID-19 Vaccine Clinics Now Open to all #Indi...  "
      ]
     },
     "execution_count": 64,
     "metadata": {},
     "output_type": "execute_result"
    }
   ],
   "source": [
    "df2 = pd.read_csv('tweets.csv')\n",
    "df2"
   ]
  },
  {
   "cell_type": "code",
   "execution_count": 65,
   "metadata": {
    "ExecuteTime": {
     "end_time": "2021-04-01T21:37:43.669307Z",
     "start_time": "2021-04-01T21:37:43.303352Z"
    }
   },
   "outputs": [],
   "source": [
    "number_of_tweets = 5\n",
    "tweets = []\n",
    "language = []\n",
    "time = []\n",
    "\n",
    "for i in tweepy.Cursor(api.search, q= 'vaccine covid -RT',  tweet_mode = 'extended', include_rts= False).items(number_of_tweets):\n",
    "    tweets.append(i.full_text)\n",
    "    language.append(i.lang)\n",
    "    time.append(i.created_at)"
   ]
  },
  {
   "cell_type": "code",
   "execution_count": 66,
   "metadata": {
    "ExecuteTime": {
     "end_time": "2021-04-01T21:37:56.057583Z",
     "start_time": "2021-04-01T21:37:56.049306Z"
    }
   },
   "outputs": [
    {
     "data": {
      "text/html": [
       "<div>\n",
       "<style scoped>\n",
       "    .dataframe tbody tr th:only-of-type {\n",
       "        vertical-align: middle;\n",
       "    }\n",
       "\n",
       "    .dataframe tbody tr th {\n",
       "        vertical-align: top;\n",
       "    }\n",
       "\n",
       "    .dataframe thead th {\n",
       "        text-align: right;\n",
       "    }\n",
       "</style>\n",
       "<table border=\"1\" class=\"dataframe\">\n",
       "  <thead>\n",
       "    <tr style=\"text-align: right;\">\n",
       "      <th></th>\n",
       "      <th>time</th>\n",
       "      <th>language</th>\n",
       "      <th>tweets</th>\n",
       "    </tr>\n",
       "  </thead>\n",
       "  <tbody>\n",
       "    <tr>\n",
       "      <th>0</th>\n",
       "      <td>2021-04-01 21:37:39</td>\n",
       "      <td>en</td>\n",
       "      <td>I can’t believe I just saw a title saying “cov...</td>\n",
       "    </tr>\n",
       "    <tr>\n",
       "      <th>1</th>\n",
       "      <td>2021-04-01 21:37:37</td>\n",
       "      <td>en</td>\n",
       "      <td>Don't freak out if you get these side effects ...</td>\n",
       "    </tr>\n",
       "    <tr>\n",
       "      <th>2</th>\n",
       "      <td>2021-04-01 21:37:35</td>\n",
       "      <td>en</td>\n",
       "      <td>Hello ⁦@drpatesblog⁩, this is the second artic...</td>\n",
       "    </tr>\n",
       "    <tr>\n",
       "      <th>3</th>\n",
       "      <td>2021-04-01 21:37:34</td>\n",
       "      <td>en</td>\n",
       "      <td>Thing is, I’m not even anti vax or anything an...</td>\n",
       "    </tr>\n",
       "    <tr>\n",
       "      <th>4</th>\n",
       "      <td>2021-04-01 21:37:31</td>\n",
       "      <td>en</td>\n",
       "      <td>i got my covid vaccine besties 😁 https://t.co/...</td>\n",
       "    </tr>\n",
       "  </tbody>\n",
       "</table>\n",
       "</div>"
      ],
      "text/plain": [
       "                 time language  \\\n",
       "0 2021-04-01 21:37:39       en   \n",
       "1 2021-04-01 21:37:37       en   \n",
       "2 2021-04-01 21:37:35       en   \n",
       "3 2021-04-01 21:37:34       en   \n",
       "4 2021-04-01 21:37:31       en   \n",
       "\n",
       "                                              tweets  \n",
       "0  I can’t believe I just saw a title saying “cov...  \n",
       "1  Don't freak out if you get these side effects ...  \n",
       "2  Hello ⁦@drpatesblog⁩, this is the second artic...  \n",
       "3  Thing is, I’m not even anti vax or anything an...  \n",
       "4  i got my covid vaccine besties 😁 https://t.co/...  "
      ]
     },
     "execution_count": 66,
     "metadata": {},
     "output_type": "execute_result"
    }
   ],
   "source": [
    "df3 = pd.DataFrame({'time': time, 'language': language, 'tweets': tweets})\n",
    "df3"
   ]
  },
  {
   "cell_type": "code",
   "execution_count": 67,
   "metadata": {
    "ExecuteTime": {
     "end_time": "2021-04-01T21:38:30.567016Z",
     "start_time": "2021-04-01T21:38:30.563062Z"
    }
   },
   "outputs": [],
   "source": [
    "df3.to_csv('tweets.csv', index= False)"
   ]
  },
  {
   "cell_type": "code",
   "execution_count": null,
   "metadata": {},
   "outputs": [],
   "source": []
  },
  {
   "cell_type": "code",
   "execution_count": null,
   "metadata": {},
   "outputs": [],
   "source": []
  },
  {
   "cell_type": "code",
   "execution_count": null,
   "metadata": {},
   "outputs": [],
   "source": []
  },
  {
   "cell_type": "code",
   "execution_count": 70,
   "metadata": {
    "ExecuteTime": {
     "end_time": "2021-04-01T22:13:23.552431Z",
     "start_time": "2021-04-01T22:13:18.017332Z"
    }
   },
   "outputs": [
    {
     "name": "stdout",
     "output_type": "stream",
     "text": [
      "Collecting googletrans\n",
      "  Downloading googletrans-3.0.0.tar.gz (17 kB)\n",
      "Collecting httpx==0.13.3\n",
      "  Downloading httpx-0.13.3-py3-none-any.whl (55 kB)\n",
      "\u001b[K     |████████████████████████████████| 55 kB 4.3 MB/s eta 0:00:01\n",
      "\u001b[?25hCollecting rfc3986<2,>=1.3\n",
      "  Downloading rfc3986-1.4.0-py2.py3-none-any.whl (31 kB)\n",
      "Collecting httpcore==0.9.*\n",
      "  Downloading httpcore-0.9.1-py3-none-any.whl (42 kB)\n",
      "\u001b[K     |████████████████████████████████| 42 kB 3.6 MB/s  eta 0:00:01\n",
      "\u001b[?25hRequirement already satisfied: idna==2.* in /Users/cassienutter/opt/anaconda3/envs/learn-env/lib/python3.8/site-packages (from httpx==0.13.3->googletrans) (2.10)\n",
      "Requirement already satisfied: certifi in /Users/cassienutter/opt/anaconda3/envs/learn-env/lib/python3.8/site-packages (from httpx==0.13.3->googletrans) (2020.12.5)\n",
      "Requirement already satisfied: chardet==3.* in /Users/cassienutter/opt/anaconda3/envs/learn-env/lib/python3.8/site-packages (from httpx==0.13.3->googletrans) (3.0.4)\n",
      "Collecting hstspreload\n",
      "  Downloading hstspreload-2020.12.22-py3-none-any.whl (994 kB)\n",
      "\u001b[K     |████████████████████████████████| 994 kB 10.8 MB/s eta 0:00:01\n",
      "\u001b[?25hRequirement already satisfied: sniffio in /Users/cassienutter/opt/anaconda3/envs/learn-env/lib/python3.8/site-packages (from httpx==0.13.3->googletrans) (1.2.0)\n",
      "Collecting h2==3.*\n",
      "  Downloading h2-3.2.0-py2.py3-none-any.whl (65 kB)\n",
      "\u001b[K     |████████████████████████████████| 65 kB 10.1 MB/s eta 0:00:01\n",
      "\u001b[?25hCollecting h11<0.10,>=0.8\n",
      "  Downloading h11-0.9.0-py2.py3-none-any.whl (53 kB)\n",
      "\u001b[K     |████████████████████████████████| 53 kB 4.2 MB/s eta 0:00:01\n",
      "\u001b[?25hCollecting hyperframe<6,>=5.2.0\n",
      "  Downloading hyperframe-5.2.0-py2.py3-none-any.whl (12 kB)\n",
      "Collecting hpack<4,>=3.0\n",
      "  Downloading hpack-3.0.0-py2.py3-none-any.whl (38 kB)\n",
      "Building wheels for collected packages: googletrans\n",
      "  Building wheel for googletrans (setup.py) ... \u001b[?25ldone\n",
      "\u001b[?25h  Created wheel for googletrans: filename=googletrans-3.0.0-py3-none-any.whl size=15735 sha256=ad1fd53af6e10629362e7cd2aeb3e1a74783e5f3f5ba1465e11eea204507faf7\n",
      "  Stored in directory: /Users/cassienutter/Library/Caches/pip/wheels/0e/ce/9b/d51de1064911d42480ab6b57fc943ee36572441f27546354e2\n",
      "Successfully built googletrans\n",
      "Installing collected packages: rfc3986, hyperframe, hpack, h2, h11, httpcore, hstspreload, httpx, googletrans\n",
      "Successfully installed googletrans-3.0.0 h11-0.9.0 h2-3.2.0 hpack-3.0.0 hstspreload-2020.12.22 httpcore-0.9.1 httpx-0.13.3 hyperframe-5.2.0 rfc3986-1.4.0\n",
      "Note: you may need to restart the kernel to use updated packages.\n"
     ]
    }
   ],
   "source": [
    "# pip install googletrans"
   ]
  },
  {
   "cell_type": "code",
   "execution_count": 76,
   "metadata": {
    "ExecuteTime": {
     "end_time": "2021-04-01T22:20:33.524186Z",
     "start_time": "2021-04-01T22:20:33.503732Z"
    }
   },
   "outputs": [],
   "source": [
    "df = pd.read_csv('tweets.csv')"
   ]
  },
  {
   "cell_type": "code",
   "execution_count": 83,
   "metadata": {
    "ExecuteTime": {
     "end_time": "2021-04-01T22:23:47.518207Z",
     "start_time": "2021-04-01T22:23:47.512904Z"
    }
   },
   "outputs": [],
   "source": [
    "lang_df = df.sort_values('language')"
   ]
  },
  {
   "cell_type": "code",
   "execution_count": 91,
   "metadata": {
    "ExecuteTime": {
     "end_time": "2021-04-01T22:25:53.269488Z",
     "start_time": "2021-04-01T22:25:53.265942Z"
    }
   },
   "outputs": [],
   "source": [
    "import matplotlib.pyplot as plt\n",
    "%matplotlib inline"
   ]
  },
  {
   "cell_type": "code",
   "execution_count": 99,
   "metadata": {
    "ExecuteTime": {
     "end_time": "2021-04-01T22:29:37.305309Z",
     "start_time": "2021-04-01T22:29:37.077204Z"
    }
   },
   "outputs": [
    {
     "data": {
      "image/png": "[encoded data removed]",
      "text/plain": [
       "<Figure size 864x576 with 1 Axes>"
      ]
     },
     "metadata": {
      "needs_background": "light"
     },
     "output_type": "display_data"
    }
   ],
   "source": [
    "plt.figure(figsize= (12, 8))\n",
    "lang_df.language.value_counts(normalize=True).plot(kind= 'barh')\n",
    "plt.title('Proportion of Languages Collected')\n",
    "plt.xlim(-.01, 1)\n",
    "plt.show()"
   ]
  },
  {
   "cell_type": "code",
   "execution_count": null,
   "metadata": {},
   "outputs": [],
   "source": [
    "lang_df.language.value_counts(normalize=True)"
   ]
  }
 ],
 "metadata": {
  "kernelspec": {
   "display_name": "Python 3",
   "language": "python",
   "name": "python3"
  },
  "language_info": {
   "codemirror_mode": {
    "name": "ipython",
    "version": 3
   },
   "file_extension": ".py",
   "mimetype": "text/x-python",
   "name": "python",
   "nbconvert_exporter": "python",
   "pygments_lexer": "ipython3",
   "version": "3.8.5"
  },
  "toc": {
   "base_numbering": 1,
   "nav_menu": {},
   "number_sections": true,
   "sideBar": true,
   "skip_h1_title": true,
   "title_cell": "Table of Contents",
   "title_sidebar": "Contents",
   "toc_cell": false,
   "toc_position": {},
   "toc_section_display": true,
   "toc_window_display": false
  },
  "varInspector": {
   "cols": {
    "lenName": 16,
    "lenType": 16,
    "lenVar": 40
   },
   "kernels_config": {
    "python": {
     "delete_cmd_postfix": "",
     "delete_cmd_prefix": "del ",
     "library": "var_list.py",
     "varRefreshCmd": "print(var_dic_list())"
    },
    "r": {
     "delete_cmd_postfix": ") ",
     "delete_cmd_prefix": "rm(",
     "library": "var_list.r",
     "varRefreshCmd": "cat(var_dic_list()) "
    }
   },
   "types_to_exclude": [
    "module",
    "function",
    "builtin_function_or_method",
    "instance",
    "_Feature"
   ],
   "window_display": false
  }
 },
 "nbformat": 4,
 "nbformat_minor": 4
}
