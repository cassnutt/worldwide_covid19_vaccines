{
 "cells": [
  {
   "cell_type": "markdown",
   "metadata": {},
   "source": [
    "# Market Segmentation with Worldwide COVID-19 Vaccinations"
   ]
  },
  {
   "cell_type": "code",
   "execution_count": 1,
   "metadata": {
    "ExecuteTime": {
     "end_time": "2021-04-07T16:56:30.774209Z",
     "start_time": "2021-04-07T16:56:30.766857Z"
    }
   },
   "outputs": [
    {
     "data": {
      "text/plain": [
       "'Things to do:\\n- map plot\\n-pca\\n- k means clustering\\n    - elbow plot\\n- hierarchical agglomerative clustering\\n    - dendrogram\\n- metrics\\n    - silhouette coefficient\\n    b- calinski harabasz score\\n\\n'"
      ]
     },
     "execution_count": 1,
     "metadata": {},
     "output_type": "execute_result"
    }
   ],
   "source": [
    "'''Things to do:\n",
    "- map plot\n",
    "-pca\n",
    "- k means clustering\n",
    "    - elbow plot\n",
    "- hierarchical agglomerative clustering\n",
    "    - dendrogram\n",
    "- metrics\n",
    "    - silhouette coefficient\n",
    "    b- calinski harabasz score\n",
    "\n",
    "\n",
    "do it all with large dataset?\n",
    " - remove columns missing lots of data\n",
    " - keep all vaccination data, drop null values from there\n",
    " - run pca and stuff\n",
    "''' \n"
   ]
  },
  {
   "cell_type": "markdown",
   "metadata": {},
   "source": [
    "## Libraries"
   ]
  },
  {
   "cell_type": "code",
   "execution_count": 46,
   "metadata": {
    "ExecuteTime": {
     "end_time": "2021-04-07T17:45:29.715497Z",
     "start_time": "2021-04-07T17:45:29.709580Z"
    },
    "scrolled": true
   },
   "outputs": [],
   "source": [
    "import numpy as np\n",
    "import pandas as pd\n",
    "import matplotlib.pyplot as plt\n",
    "%matplotlib inline\n",
    "import seaborn as sns\n",
    "sns.set_style('darkgrid')\n",
    "\n",
    "from sklearn.preprocessing import StandardScaler\n",
    "from sklearn.decomposition import PCA\n",
    "from sklearn.model_selection import train_test_split\n",
    "from sklearn import metrics\n",
    "\n",
    "from sklearn.cluster import KMeans, AgglomerativeClustering\n",
    "from sklearn.metrics import calinski_harabasz_score\n",
    "\n",
    "pd.set_option('display.max_columns', None)"
   ]
  },
  {
   "cell_type": "markdown",
   "metadata": {},
   "source": [
    "## Data Loading and Cleaning"
   ]
  },
  {
   "cell_type": "code",
   "execution_count": 3,
   "metadata": {
    "ExecuteTime": {
     "end_time": "2021-04-07T16:56:32.084823Z",
     "start_time": "2021-04-07T16:56:32.069169Z"
    }
   },
   "outputs": [],
   "source": [
    "data = pd.read_csv('../data/vaccinations_all.csv')"
   ]
  },
  {
   "cell_type": "code",
   "execution_count": 4,
   "metadata": {
    "ExecuteTime": {
     "end_time": "2021-04-07T16:56:32.100933Z",
     "start_time": "2021-04-07T16:56:32.086013Z"
    },
    "scrolled": false
   },
   "outputs": [
    {
     "data": {
      "text/html": [
       "<div>\n",
       "<style scoped>\n",
       "    .dataframe tbody tr th:only-of-type {\n",
       "        vertical-align: middle;\n",
       "    }\n",
       "\n",
       "    .dataframe tbody tr th {\n",
       "        vertical-align: top;\n",
       "    }\n",
       "\n",
       "    .dataframe thead th {\n",
       "        text-align: right;\n",
       "    }\n",
       "</style>\n",
       "<table border=\"1\" class=\"dataframe\">\n",
       "  <thead>\n",
       "    <tr style=\"text-align: right;\">\n",
       "      <th></th>\n",
       "      <th>location</th>\n",
       "      <th>iso_code</th>\n",
       "      <th>date</th>\n",
       "      <th>total_vaccinations</th>\n",
       "      <th>people_vaccinated</th>\n",
       "      <th>people_fully_vaccinated</th>\n",
       "      <th>daily_vaccinations_raw</th>\n",
       "      <th>daily_vaccinations</th>\n",
       "      <th>total_vaccinations_per_hundred</th>\n",
       "      <th>people_vaccinated_per_hundred</th>\n",
       "      <th>people_fully_vaccinated_per_hundred</th>\n",
       "      <th>daily_vaccinations_per_million</th>\n",
       "    </tr>\n",
       "  </thead>\n",
       "  <tbody>\n",
       "    <tr>\n",
       "      <th>0</th>\n",
       "      <td>Afghanistan</td>\n",
       "      <td>AFG</td>\n",
       "      <td>2021-02-22</td>\n",
       "      <td>0.0</td>\n",
       "      <td>0.0</td>\n",
       "      <td>NaN</td>\n",
       "      <td>NaN</td>\n",
       "      <td>NaN</td>\n",
       "      <td>0.0</td>\n",
       "      <td>0.0</td>\n",
       "      <td>NaN</td>\n",
       "      <td>NaN</td>\n",
       "    </tr>\n",
       "    <tr>\n",
       "      <th>1</th>\n",
       "      <td>Afghanistan</td>\n",
       "      <td>AFG</td>\n",
       "      <td>2021-02-23</td>\n",
       "      <td>NaN</td>\n",
       "      <td>NaN</td>\n",
       "      <td>NaN</td>\n",
       "      <td>NaN</td>\n",
       "      <td>1367.0</td>\n",
       "      <td>NaN</td>\n",
       "      <td>NaN</td>\n",
       "      <td>NaN</td>\n",
       "      <td>35.0</td>\n",
       "    </tr>\n",
       "    <tr>\n",
       "      <th>2</th>\n",
       "      <td>Afghanistan</td>\n",
       "      <td>AFG</td>\n",
       "      <td>2021-02-24</td>\n",
       "      <td>NaN</td>\n",
       "      <td>NaN</td>\n",
       "      <td>NaN</td>\n",
       "      <td>NaN</td>\n",
       "      <td>1367.0</td>\n",
       "      <td>NaN</td>\n",
       "      <td>NaN</td>\n",
       "      <td>NaN</td>\n",
       "      <td>35.0</td>\n",
       "    </tr>\n",
       "    <tr>\n",
       "      <th>3</th>\n",
       "      <td>Afghanistan</td>\n",
       "      <td>AFG</td>\n",
       "      <td>2021-02-25</td>\n",
       "      <td>NaN</td>\n",
       "      <td>NaN</td>\n",
       "      <td>NaN</td>\n",
       "      <td>NaN</td>\n",
       "      <td>1367.0</td>\n",
       "      <td>NaN</td>\n",
       "      <td>NaN</td>\n",
       "      <td>NaN</td>\n",
       "      <td>35.0</td>\n",
       "    </tr>\n",
       "    <tr>\n",
       "      <th>4</th>\n",
       "      <td>Afghanistan</td>\n",
       "      <td>AFG</td>\n",
       "      <td>2021-02-26</td>\n",
       "      <td>NaN</td>\n",
       "      <td>NaN</td>\n",
       "      <td>NaN</td>\n",
       "      <td>NaN</td>\n",
       "      <td>1367.0</td>\n",
       "      <td>NaN</td>\n",
       "      <td>NaN</td>\n",
       "      <td>NaN</td>\n",
       "      <td>35.0</td>\n",
       "    </tr>\n",
       "  </tbody>\n",
       "</table>\n",
       "</div>"
      ],
      "text/plain": [
       "      location iso_code        date  total_vaccinations  people_vaccinated  \\\n",
       "0  Afghanistan      AFG  2021-02-22                 0.0                0.0   \n",
       "1  Afghanistan      AFG  2021-02-23                 NaN                NaN   \n",
       "2  Afghanistan      AFG  2021-02-24                 NaN                NaN   \n",
       "3  Afghanistan      AFG  2021-02-25                 NaN                NaN   \n",
       "4  Afghanistan      AFG  2021-02-26                 NaN                NaN   \n",
       "\n",
       "   people_fully_vaccinated  daily_vaccinations_raw  daily_vaccinations  \\\n",
       "0                      NaN                     NaN                 NaN   \n",
       "1                      NaN                     NaN              1367.0   \n",
       "2                      NaN                     NaN              1367.0   \n",
       "3                      NaN                     NaN              1367.0   \n",
       "4                      NaN                     NaN              1367.0   \n",
       "\n",
       "   total_vaccinations_per_hundred  people_vaccinated_per_hundred  \\\n",
       "0                             0.0                            0.0   \n",
       "1                             NaN                            NaN   \n",
       "2                             NaN                            NaN   \n",
       "3                             NaN                            NaN   \n",
       "4                             NaN                            NaN   \n",
       "\n",
       "   people_fully_vaccinated_per_hundred  daily_vaccinations_per_million  \n",
       "0                                  NaN                             NaN  \n",
       "1                                  NaN                            35.0  \n",
       "2                                  NaN                            35.0  \n",
       "3                                  NaN                            35.0  \n",
       "4                                  NaN                            35.0  "
      ]
     },
     "execution_count": 4,
     "metadata": {},
     "output_type": "execute_result"
    }
   ],
   "source": [
    "data.head()"
   ]
  },
  {
   "cell_type": "code",
   "execution_count": 5,
   "metadata": {
    "ExecuteTime": {
     "end_time": "2021-04-07T16:56:32.114652Z",
     "start_time": "2021-04-07T16:56:32.103151Z"
    },
    "scrolled": true
   },
   "outputs": [
    {
     "name": "stdout",
     "output_type": "stream",
     "text": [
      "<class 'pandas.core.frame.DataFrame'>\n",
      "RangeIndex: 10782 entries, 0 to 10781\n",
      "Data columns (total 12 columns):\n",
      " #   Column                               Non-Null Count  Dtype  \n",
      "---  ------                               --------------  -----  \n",
      " 0   location                             10782 non-null  object \n",
      " 1   iso_code                             10782 non-null  object \n",
      " 2   date                                 10782 non-null  object \n",
      " 3   total_vaccinations                   6807 non-null   float64\n",
      " 4   people_vaccinated                    6183 non-null   float64\n",
      " 5   people_fully_vaccinated              4448 non-null   float64\n",
      " 6   daily_vaccinations_raw               5806 non-null   float64\n",
      " 7   daily_vaccinations                   10591 non-null  float64\n",
      " 8   total_vaccinations_per_hundred       6807 non-null   float64\n",
      " 9   people_vaccinated_per_hundred        6183 non-null   float64\n",
      " 10  people_fully_vaccinated_per_hundred  4448 non-null   float64\n",
      " 11  daily_vaccinations_per_million       10591 non-null  float64\n",
      "dtypes: float64(9), object(3)\n",
      "memory usage: 1010.9+ KB\n"
     ]
    }
   ],
   "source": [
    "data.info()"
   ]
  },
  {
   "cell_type": "code",
   "execution_count": 6,
   "metadata": {
    "ExecuteTime": {
     "end_time": "2021-04-07T16:56:32.122803Z",
     "start_time": "2021-04-07T16:56:32.116576Z"
    },
    "scrolled": true
   },
   "outputs": [
    {
     "data": {
      "text/plain": [
       "location                                  0\n",
       "iso_code                                  0\n",
       "date                                      0\n",
       "total_vaccinations                     3975\n",
       "people_vaccinated                      4599\n",
       "people_fully_vaccinated                6334\n",
       "daily_vaccinations_raw                 4976\n",
       "daily_vaccinations                      191\n",
       "total_vaccinations_per_hundred         3975\n",
       "people_vaccinated_per_hundred          4599\n",
       "people_fully_vaccinated_per_hundred    6334\n",
       "daily_vaccinations_per_million          191\n",
       "dtype: int64"
      ]
     },
     "execution_count": 6,
     "metadata": {},
     "output_type": "execute_result"
    }
   ],
   "source": [
    "data.isnull().sum()"
   ]
  },
  {
   "cell_type": "code",
   "execution_count": 7,
   "metadata": {
    "ExecuteTime": {
     "end_time": "2021-04-07T16:56:32.131165Z",
     "start_time": "2021-04-07T16:56:32.126135Z"
    }
   },
   "outputs": [],
   "source": [
    "#remove anything that isn't a country\n",
    "# create list of things that are not countries \n",
    "continents = ['North America', 'Europe', 'Asia','European Union', \n",
    "              'Africa', 'South America', 'World', 'United Kingdom']\n",
    "\n",
    "data = data[~data['location'].isin(continents)]"
   ]
  },
  {
   "cell_type": "code",
   "execution_count": 8,
   "metadata": {
    "ExecuteTime": {
     "end_time": "2021-04-07T16:56:32.139512Z",
     "start_time": "2021-04-07T16:56:32.134674Z"
    }
   },
   "outputs": [
    {
     "data": {
      "text/plain": [
       "array(['Afghanistan', 'Albania', 'Algeria', 'Andorra', 'Angola',\n",
       "       'Anguilla', 'Antigua and Barbuda', 'Argentina', 'Australia',\n",
       "       'Austria', 'Azerbaijan', 'Bahamas', 'Bahrain', 'Bangladesh',\n",
       "       'Barbados', 'Belarus', 'Belgium', 'Belize', 'Bermuda', 'Bhutan',\n",
       "       'Bolivia', 'Brazil', 'Brunei', 'Bulgaria', 'Cambodia', 'Canada',\n",
       "       'Cape Verde', 'Cayman Islands', 'Chile', 'China', 'Colombia',\n",
       "       'Costa Rica', \"Cote d'Ivoire\", 'Croatia', 'Cyprus', 'Czechia',\n",
       "       'Denmark', 'Dominica', 'Dominican Republic', 'Ecuador', 'Egypt',\n",
       "       'El Salvador', 'England', 'Equatorial Guinea', 'Estonia',\n",
       "       'Faeroe Islands', 'Falkland Islands', 'Finland', 'France', 'Gabon',\n",
       "       'Gambia', 'Georgia', 'Germany', 'Ghana', 'Gibraltar', 'Greece',\n",
       "       'Greenland', 'Grenada', 'Guatemala', 'Guernsey', 'Guinea',\n",
       "       'Guyana', 'Honduras', 'Hong Kong', 'Hungary', 'Iceland', 'India',\n",
       "       'Indonesia', 'Iran', 'Iraq', 'Ireland', 'Isle of Man', 'Israel',\n",
       "       'Italy', 'Jamaica', 'Japan', 'Jersey', 'Jordan', 'Kazakhstan',\n",
       "       'Kenya', 'Kosovo', 'Kuwait', 'Laos', 'Latvia', 'Lebanon',\n",
       "       'Liechtenstein', 'Lithuania', 'Luxembourg', 'Macao', 'Malawi',\n",
       "       'Malaysia', 'Maldives', 'Mali', 'Malta', 'Mauritania', 'Mauritius',\n",
       "       'Mexico', 'Moldova', 'Monaco', 'Mongolia', 'Montenegro',\n",
       "       'Montserrat', 'Morocco', 'Mozambique', 'Myanmar', 'Namibia',\n",
       "       'Nepal', 'Netherlands', 'New Zealand', 'Nigeria',\n",
       "       'North Macedonia', 'Northern Cyprus', 'Northern Ireland', 'Norway',\n",
       "       'Oceania', 'Oman', 'Pakistan', 'Palestine', 'Panama', 'Paraguay',\n",
       "       'Peru', 'Philippines', 'Poland', 'Portugal', 'Qatar', 'Romania',\n",
       "       'Russia', 'Rwanda', 'Saint Helena', 'Saint Kitts and Nevis',\n",
       "       'Saint Lucia', 'Saint Vincent and the Grenadines', 'San Marino',\n",
       "       'Sao Tome and Principe', 'Saudi Arabia', 'Scotland', 'Senegal',\n",
       "       'Serbia', 'Seychelles', 'Sierra Leone', 'Singapore', 'Slovakia',\n",
       "       'Slovenia', 'South Africa', 'South Korea', 'Spain', 'Sri Lanka',\n",
       "       'Suriname', 'Sweden', 'Switzerland', 'Taiwan', 'Thailand', 'Togo',\n",
       "       'Trinidad and Tobago', 'Tunisia', 'Turkey',\n",
       "       'Turks and Caicos Islands', 'Uganda', 'Ukraine',\n",
       "       'United Arab Emirates', 'United States', 'Uruguay', 'Venezuela',\n",
       "       'Vietnam', 'Wales', 'Zimbabwe'], dtype=object)"
      ]
     },
     "execution_count": 8,
     "metadata": {},
     "output_type": "execute_result"
    }
   ],
   "source": [
    "data.location.unique()"
   ]
  },
  {
   "cell_type": "code",
   "execution_count": 9,
   "metadata": {
    "ExecuteTime": {
     "end_time": "2021-04-07T16:56:32.150047Z",
     "start_time": "2021-04-07T16:56:32.141855Z"
    }
   },
   "outputs": [],
   "source": [
    "# drop columns that have been 'smoothed' or have some kind of calculation using 'per'\n",
    "cols = [data.drop(columns= i, inplace= True) for i in data.columns if 'per' in i]"
   ]
  },
  {
   "cell_type": "code",
   "execution_count": 10,
   "metadata": {
    "ExecuteTime": {
     "end_time": "2021-04-07T16:56:32.166876Z",
     "start_time": "2021-04-07T16:56:32.152517Z"
    }
   },
   "outputs": [
    {
     "name": "stdout",
     "output_type": "stream",
     "text": [
      "<class 'pandas.core.frame.DataFrame'>\n",
      "Int64Index: 9926 entries, 0 to 10781\n",
      "Data columns (total 8 columns):\n",
      " #   Column                   Non-Null Count  Dtype  \n",
      "---  ------                   --------------  -----  \n",
      " 0   location                 9926 non-null   object \n",
      " 1   iso_code                 9926 non-null   object \n",
      " 2   date                     9926 non-null   object \n",
      " 3   total_vaccinations       9926 non-null   float64\n",
      " 4   people_vaccinated        9926 non-null   float64\n",
      " 5   people_fully_vaccinated  9926 non-null   float64\n",
      " 6   daily_vaccinations_raw   9926 non-null   float64\n",
      " 7   daily_vaccinations       9926 non-null   float64\n",
      "dtypes: float64(5), object(3)\n",
      "memory usage: 697.9+ KB\n"
     ]
    }
   ],
   "source": [
    "# fill null values with 0\n",
    "data.fillna(0, inplace= True)\n",
    "data.info()"
   ]
  },
  {
   "cell_type": "markdown",
   "metadata": {
    "ExecuteTime": {
     "end_time": "2021-04-07T15:29:37.827841Z",
     "start_time": "2021-04-07T15:29:37.825799Z"
    }
   },
   "source": [
    "### Add Country Income Data"
   ]
  },
  {
   "cell_type": "code",
   "execution_count": 11,
   "metadata": {
    "ExecuteTime": {
     "end_time": "2021-04-07T16:56:32.184209Z",
     "start_time": "2021-04-07T16:56:32.168373Z"
    },
    "scrolled": true
   },
   "outputs": [
    {
     "data": {
      "text/html": [
       "<div>\n",
       "<style scoped>\n",
       "    .dataframe tbody tr th:only-of-type {\n",
       "        vertical-align: middle;\n",
       "    }\n",
       "\n",
       "    .dataframe tbody tr th {\n",
       "        vertical-align: top;\n",
       "    }\n",
       "\n",
       "    .dataframe thead th {\n",
       "        text-align: right;\n",
       "    }\n",
       "</style>\n",
       "<table border=\"1\" class=\"dataframe\">\n",
       "  <thead>\n",
       "    <tr style=\"text-align: right;\">\n",
       "      <th></th>\n",
       "      <th>Unnamed: 0</th>\n",
       "      <th>Economy</th>\n",
       "      <th>Code</th>\n",
       "      <th>Region</th>\n",
       "      <th>Income group</th>\n",
       "      <th>Lending category</th>\n",
       "      <th>Other</th>\n",
       "    </tr>\n",
       "  </thead>\n",
       "  <tbody>\n",
       "    <tr>\n",
       "      <th>0</th>\n",
       "      <td>1.0</td>\n",
       "      <td>Afghanistan</td>\n",
       "      <td>AFG</td>\n",
       "      <td>South Asia</td>\n",
       "      <td>Low income</td>\n",
       "      <td>IDA</td>\n",
       "      <td>HIPC</td>\n",
       "    </tr>\n",
       "    <tr>\n",
       "      <th>1</th>\n",
       "      <td>2.0</td>\n",
       "      <td>Albania</td>\n",
       "      <td>ALB</td>\n",
       "      <td>Europe &amp; Central Asia</td>\n",
       "      <td>Upper middle income</td>\n",
       "      <td>IBRD</td>\n",
       "      <td>NaN</td>\n",
       "    </tr>\n",
       "    <tr>\n",
       "      <th>2</th>\n",
       "      <td>3.0</td>\n",
       "      <td>Algeria</td>\n",
       "      <td>DZA</td>\n",
       "      <td>Middle East &amp; North Africa</td>\n",
       "      <td>Lower middle income</td>\n",
       "      <td>IBRD</td>\n",
       "      <td>NaN</td>\n",
       "    </tr>\n",
       "    <tr>\n",
       "      <th>3</th>\n",
       "      <td>4.0</td>\n",
       "      <td>American Samoa</td>\n",
       "      <td>ASM</td>\n",
       "      <td>East Asia &amp; Pacific</td>\n",
       "      <td>Upper middle income</td>\n",
       "      <td>..</td>\n",
       "      <td>NaN</td>\n",
       "    </tr>\n",
       "    <tr>\n",
       "      <th>4</th>\n",
       "      <td>5.0</td>\n",
       "      <td>Andorra</td>\n",
       "      <td>AND</td>\n",
       "      <td>Europe &amp; Central Asia</td>\n",
       "      <td>High income</td>\n",
       "      <td>..</td>\n",
       "      <td>NaN</td>\n",
       "    </tr>\n",
       "    <tr>\n",
       "      <th>...</th>\n",
       "      <td>...</td>\n",
       "      <td>...</td>\n",
       "      <td>...</td>\n",
       "      <td>...</td>\n",
       "      <td>...</td>\n",
       "      <td>...</td>\n",
       "      <td>...</td>\n",
       "    </tr>\n",
       "    <tr>\n",
       "      <th>261</th>\n",
       "      <td>42.0</td>\n",
       "      <td>Sub-Saharan Africa</td>\n",
       "      <td>SSF</td>\n",
       "      <td>NaN</td>\n",
       "      <td>NaN</td>\n",
       "      <td>NaN</td>\n",
       "      <td>NaN</td>\n",
       "    </tr>\n",
       "    <tr>\n",
       "      <th>262</th>\n",
       "      <td>43.0</td>\n",
       "      <td>Sub-Saharan Africa (excluding high income)</td>\n",
       "      <td>SSA</td>\n",
       "      <td>NaN</td>\n",
       "      <td>NaN</td>\n",
       "      <td>NaN</td>\n",
       "      <td>NaN</td>\n",
       "    </tr>\n",
       "    <tr>\n",
       "      <th>263</th>\n",
       "      <td>44.0</td>\n",
       "      <td>Sub-Saharan Africa (IDA &amp; IBRD)</td>\n",
       "      <td>TSS</td>\n",
       "      <td>NaN</td>\n",
       "      <td>NaN</td>\n",
       "      <td>NaN</td>\n",
       "      <td>NaN</td>\n",
       "    </tr>\n",
       "    <tr>\n",
       "      <th>264</th>\n",
       "      <td>45.0</td>\n",
       "      <td>Upper middle income</td>\n",
       "      <td>UMC</td>\n",
       "      <td>NaN</td>\n",
       "      <td>NaN</td>\n",
       "      <td>NaN</td>\n",
       "      <td>NaN</td>\n",
       "    </tr>\n",
       "    <tr>\n",
       "      <th>265</th>\n",
       "      <td>46.0</td>\n",
       "      <td>World</td>\n",
       "      <td>WLD</td>\n",
       "      <td>NaN</td>\n",
       "      <td>NaN</td>\n",
       "      <td>NaN</td>\n",
       "      <td>NaN</td>\n",
       "    </tr>\n",
       "  </tbody>\n",
       "</table>\n",
       "<p>266 rows × 7 columns</p>\n",
       "</div>"
      ],
      "text/plain": [
       "     Unnamed: 0                                     Economy Code  \\\n",
       "0           1.0                                 Afghanistan  AFG   \n",
       "1           2.0                                     Albania  ALB   \n",
       "2           3.0                                     Algeria  DZA   \n",
       "3           4.0                              American Samoa  ASM   \n",
       "4           5.0                                     Andorra  AND   \n",
       "..          ...                                         ...  ...   \n",
       "261        42.0                          Sub-Saharan Africa  SSF   \n",
       "262        43.0  Sub-Saharan Africa (excluding high income)  SSA   \n",
       "263        44.0             Sub-Saharan Africa (IDA & IBRD)  TSS   \n",
       "264        45.0                         Upper middle income  UMC   \n",
       "265        46.0                                       World  WLD   \n",
       "\n",
       "                         Region         Income group Lending category Other  \n",
       "0                    South Asia           Low income              IDA  HIPC  \n",
       "1         Europe & Central Asia  Upper middle income             IBRD   NaN  \n",
       "2    Middle East & North Africa  Lower middle income             IBRD   NaN  \n",
       "3           East Asia & Pacific  Upper middle income               ..   NaN  \n",
       "4         Europe & Central Asia          High income               ..   NaN  \n",
       "..                          ...                  ...              ...   ...  \n",
       "261                         NaN                  NaN              NaN   NaN  \n",
       "262                         NaN                  NaN              NaN   NaN  \n",
       "263                         NaN                  NaN              NaN   NaN  \n",
       "264                         NaN                  NaN              NaN   NaN  \n",
       "265                         NaN                  NaN              NaN   NaN  \n",
       "\n",
       "[266 rows x 7 columns]"
      ]
     },
     "execution_count": 11,
     "metadata": {},
     "output_type": "execute_result"
    }
   ],
   "source": [
    "# open file from World Bank that contains data on income classifications\n",
    "country_incomes = pd.read_csv('../data/list-of-economies.csv', \n",
    "                              header= 4, index_col= False)\n",
    "country_incomes"
   ]
  },
  {
   "cell_type": "code",
   "execution_count": 12,
   "metadata": {
    "ExecuteTime": {
     "end_time": "2021-04-07T16:56:32.188536Z",
     "start_time": "2021-04-07T16:56:32.185724Z"
    }
   },
   "outputs": [],
   "source": [
    "# drop unnecessary / mostly empty columns\n",
    "country_incomes.drop(columns= ['Unnamed: 0', 'Other', 'Lending category'], inplace= True)"
   ]
  },
  {
   "cell_type": "code",
   "execution_count": 13,
   "metadata": {
    "ExecuteTime": {
     "end_time": "2021-04-07T16:56:32.197638Z",
     "start_time": "2021-04-07T16:56:32.190043Z"
    }
   },
   "outputs": [
    {
     "data": {
      "text/html": [
       "<div>\n",
       "<style scoped>\n",
       "    .dataframe tbody tr th:only-of-type {\n",
       "        vertical-align: middle;\n",
       "    }\n",
       "\n",
       "    .dataframe tbody tr th {\n",
       "        vertical-align: top;\n",
       "    }\n",
       "\n",
       "    .dataframe thead th {\n",
       "        text-align: right;\n",
       "    }\n",
       "</style>\n",
       "<table border=\"1\" class=\"dataframe\">\n",
       "  <thead>\n",
       "    <tr style=\"text-align: right;\">\n",
       "      <th></th>\n",
       "      <th>Economy</th>\n",
       "      <th>Code</th>\n",
       "      <th>Region</th>\n",
       "      <th>Income group</th>\n",
       "    </tr>\n",
       "  </thead>\n",
       "  <tbody>\n",
       "    <tr>\n",
       "      <th>213</th>\n",
       "      <td>Virgin Islands (U.S.)</td>\n",
       "      <td>VIR</td>\n",
       "      <td>Latin America &amp; Caribbean</td>\n",
       "      <td>High income</td>\n",
       "    </tr>\n",
       "    <tr>\n",
       "      <th>214</th>\n",
       "      <td>West Bank and Gaza</td>\n",
       "      <td>PSE</td>\n",
       "      <td>Middle East &amp; North Africa</td>\n",
       "      <td>Lower middle income</td>\n",
       "    </tr>\n",
       "    <tr>\n",
       "      <th>215</th>\n",
       "      <td>Yemen, Rep.</td>\n",
       "      <td>YEM</td>\n",
       "      <td>Middle East &amp; North Africa</td>\n",
       "      <td>Low income</td>\n",
       "    </tr>\n",
       "    <tr>\n",
       "      <th>216</th>\n",
       "      <td>Zambia</td>\n",
       "      <td>ZMB</td>\n",
       "      <td>Sub-Saharan Africa</td>\n",
       "      <td>Lower middle income</td>\n",
       "    </tr>\n",
       "    <tr>\n",
       "      <th>217</th>\n",
       "      <td>Zimbabwe</td>\n",
       "      <td>ZWE</td>\n",
       "      <td>Sub-Saharan Africa</td>\n",
       "      <td>Lower middle income</td>\n",
       "    </tr>\n",
       "  </tbody>\n",
       "</table>\n",
       "</div>"
      ],
      "text/plain": [
       "                   Economy Code                      Region  \\\n",
       "213  Virgin Islands (U.S.)  VIR   Latin America & Caribbean   \n",
       "214     West Bank and Gaza  PSE  Middle East & North Africa   \n",
       "215            Yemen, Rep.  YEM  Middle East & North Africa   \n",
       "216                 Zambia  ZMB          Sub-Saharan Africa   \n",
       "217               Zimbabwe  ZWE          Sub-Saharan Africa   \n",
       "\n",
       "            Income group  \n",
       "213          High income  \n",
       "214  Lower middle income  \n",
       "215           Low income  \n",
       "216  Lower middle income  \n",
       "217  Lower middle income  "
      ]
     },
     "execution_count": 13,
     "metadata": {},
     "output_type": "execute_result"
    }
   ],
   "source": [
    "# subset data and check it worked\n",
    "country_incomes = country_incomes.iloc[:218]\n",
    "country_incomes.tail()"
   ]
  },
  {
   "cell_type": "code",
   "execution_count": 14,
   "metadata": {
    "ExecuteTime": {
     "end_time": "2021-04-07T16:56:32.204792Z",
     "start_time": "2021-04-07T16:56:32.199460Z"
    }
   },
   "outputs": [
    {
     "data": {
      "text/plain": [
       "Europe & Central Asia         58\n",
       "Sub-Saharan Africa            48\n",
       "Latin America & Caribbean     42\n",
       "East Asia & Pacific           38\n",
       "Middle East & North Africa    21\n",
       "South Asia                     8\n",
       "North America                  3\n",
       "Name: Region, dtype: int64"
      ]
     },
     "execution_count": 14,
     "metadata": {},
     "output_type": "execute_result"
    }
   ],
   "source": [
    "country_incomes.Region.value_counts()"
   ]
  },
  {
   "cell_type": "code",
   "execution_count": 15,
   "metadata": {
    "ExecuteTime": {
     "end_time": "2021-04-07T16:56:32.212439Z",
     "start_time": "2021-04-07T16:56:32.207083Z"
    }
   },
   "outputs": [
    {
     "data": {
      "text/plain": [
       "Economy         0\n",
       "Code            0\n",
       "Region          0\n",
       "Income group    0\n",
       "dtype: int64"
      ]
     },
     "execution_count": 15,
     "metadata": {},
     "output_type": "execute_result"
    }
   ],
   "source": [
    "country_incomes.isnull().sum()"
   ]
  },
  {
   "cell_type": "code",
   "execution_count": 16,
   "metadata": {
    "ExecuteTime": {
     "end_time": "2021-04-07T16:56:32.231216Z",
     "start_time": "2021-04-07T16:56:32.214372Z"
    }
   },
   "outputs": [
    {
     "name": "stdout",
     "output_type": "stream",
     "text": [
      "<class 'pandas.core.frame.DataFrame'>\n",
      "Int64Index: 9926 entries, 0 to 9925\n",
      "Data columns (total 12 columns):\n",
      " #   Column                   Non-Null Count  Dtype  \n",
      "---  ------                   --------------  -----  \n",
      " 0   location                 9926 non-null   object \n",
      " 1   iso_code                 9926 non-null   object \n",
      " 2   date                     9926 non-null   object \n",
      " 3   total_vaccinations       9926 non-null   float64\n",
      " 4   people_vaccinated        9926 non-null   float64\n",
      " 5   people_fully_vaccinated  9926 non-null   float64\n",
      " 6   daily_vaccinations_raw   9926 non-null   float64\n",
      " 7   daily_vaccinations       9926 non-null   float64\n",
      " 8   Economy                  9045 non-null   object \n",
      " 9   Code                     9045 non-null   object \n",
      " 10  Region                   9045 non-null   object \n",
      " 11  Income group             9045 non-null   object \n",
      "dtypes: float64(5), object(7)\n",
      "memory usage: 1008.1+ KB\n"
     ]
    }
   ],
   "source": [
    "# merge dataframes\n",
    "df = pd.merge(data, country_incomes, how= 'left', left_on= 'iso_code', right_on= 'Code')\n",
    "df.info()"
   ]
  },
  {
   "cell_type": "code",
   "execution_count": 17,
   "metadata": {
    "ExecuteTime": {
     "end_time": "2021-04-07T16:56:32.242609Z",
     "start_time": "2021-04-07T16:56:32.233397Z"
    },
    "scrolled": true
   },
   "outputs": [
    {
     "data": {
      "text/plain": [
       "array(['Anguilla', 'England', 'Falkland Islands', 'Guernsey', 'Jersey',\n",
       "       'Kosovo', 'Montserrat', 'Northern Cyprus', 'Northern Ireland',\n",
       "       'Oceania', 'Saint Helena', 'Scotland', 'Wales'], dtype=object)"
      ]
     },
     "execution_count": 17,
     "metadata": {},
     "output_type": "execute_result"
    }
   ],
   "source": [
    "# Income group must be filled in\n",
    "# See which countries have null income group \n",
    "null_vals = df[df.isnull().any(axis= 1)]\n",
    "null_vals.location.unique()"
   ]
  },
  {
   "cell_type": "markdown",
   "metadata": {},
   "source": [
    "Research if Australia and Oceania have the same stats."
   ]
  },
  {
   "cell_type": "code",
   "execution_count": 19,
   "metadata": {
    "ExecuteTime": {
     "end_time": "2021-04-07T16:56:32.252798Z",
     "start_time": "2021-04-07T16:56:32.248370Z"
    }
   },
   "outputs": [],
   "source": [
    "day = df[df['date'] == '2021-04-05']"
   ]
  },
  {
   "cell_type": "code",
   "execution_count": 20,
   "metadata": {
    "ExecuteTime": {
     "end_time": "2021-04-07T16:56:32.268914Z",
     "start_time": "2021-04-07T16:56:32.255517Z"
    }
   },
   "outputs": [
    {
     "data": {
      "text/html": [
       "<div>\n",
       "<style scoped>\n",
       "    .dataframe tbody tr th:only-of-type {\n",
       "        vertical-align: middle;\n",
       "    }\n",
       "\n",
       "    .dataframe tbody tr th {\n",
       "        vertical-align: top;\n",
       "    }\n",
       "\n",
       "    .dataframe thead th {\n",
       "        text-align: right;\n",
       "    }\n",
       "</style>\n",
       "<table border=\"1\" class=\"dataframe\">\n",
       "  <thead>\n",
       "    <tr style=\"text-align: right;\">\n",
       "      <th></th>\n",
       "      <th>location</th>\n",
       "      <th>iso_code</th>\n",
       "      <th>date</th>\n",
       "      <th>total_vaccinations</th>\n",
       "      <th>people_vaccinated</th>\n",
       "      <th>people_fully_vaccinated</th>\n",
       "      <th>daily_vaccinations_raw</th>\n",
       "      <th>daily_vaccinations</th>\n",
       "      <th>Economy</th>\n",
       "      <th>Code</th>\n",
       "      <th>Region</th>\n",
       "      <th>Income group</th>\n",
       "    </tr>\n",
       "  </thead>\n",
       "  <tbody>\n",
       "    <tr>\n",
       "      <th>6872</th>\n",
       "      <td>Oceania</td>\n",
       "      <td>OWID_OCE</td>\n",
       "      <td>2021-04-05</td>\n",
       "      <td>912975.0</td>\n",
       "      <td>211477.0</td>\n",
       "      <td>16483.0</td>\n",
       "      <td>1127.0</td>\n",
       "      <td>47102.0</td>\n",
       "      <td>NaN</td>\n",
       "      <td>NaN</td>\n",
       "      <td>NaN</td>\n",
       "      <td>NaN</td>\n",
       "    </tr>\n",
       "  </tbody>\n",
       "</table>\n",
       "</div>"
      ],
      "text/plain": [
       "     location  iso_code        date  total_vaccinations  people_vaccinated  \\\n",
       "6872  Oceania  OWID_OCE  2021-04-05            912975.0           211477.0   \n",
       "\n",
       "      people_fully_vaccinated  daily_vaccinations_raw  daily_vaccinations  \\\n",
       "6872                  16483.0                  1127.0             47102.0   \n",
       "\n",
       "     Economy Code Region Income group  \n",
       "6872     NaN  NaN    NaN          NaN  "
      ]
     },
     "execution_count": 20,
     "metadata": {},
     "output_type": "execute_result"
    }
   ],
   "source": [
    "df[(df['location'] == 'Oceania') & \\\n",
    "             (df['date'] == '2021-04-05')]"
   ]
  },
  {
   "cell_type": "code",
   "execution_count": 21,
   "metadata": {
    "ExecuteTime": {
     "end_time": "2021-04-07T16:56:32.283603Z",
     "start_time": "2021-04-07T16:56:32.270387Z"
    }
   },
   "outputs": [
    {
     "data": {
      "text/html": [
       "<div>\n",
       "<style scoped>\n",
       "    .dataframe tbody tr th:only-of-type {\n",
       "        vertical-align: middle;\n",
       "    }\n",
       "\n",
       "    .dataframe tbody tr th {\n",
       "        vertical-align: top;\n",
       "    }\n",
       "\n",
       "    .dataframe thead th {\n",
       "        text-align: right;\n",
       "    }\n",
       "</style>\n",
       "<table border=\"1\" class=\"dataframe\">\n",
       "  <thead>\n",
       "    <tr style=\"text-align: right;\">\n",
       "      <th></th>\n",
       "      <th>location</th>\n",
       "      <th>iso_code</th>\n",
       "      <th>date</th>\n",
       "      <th>total_vaccinations</th>\n",
       "      <th>people_vaccinated</th>\n",
       "      <th>people_fully_vaccinated</th>\n",
       "      <th>daily_vaccinations_raw</th>\n",
       "      <th>daily_vaccinations</th>\n",
       "      <th>Economy</th>\n",
       "      <th>Code</th>\n",
       "      <th>Region</th>\n",
       "      <th>Income group</th>\n",
       "    </tr>\n",
       "  </thead>\n",
       "  <tbody>\n",
       "    <tr>\n",
       "      <th>459</th>\n",
       "      <td>Australia</td>\n",
       "      <td>AUS</td>\n",
       "      <td>2021-04-05</td>\n",
       "      <td>844309.0</td>\n",
       "      <td>0.0</td>\n",
       "      <td>0.0</td>\n",
       "      <td>1127.0</td>\n",
       "      <td>43221.0</td>\n",
       "      <td>Australia</td>\n",
       "      <td>AUS</td>\n",
       "      <td>East Asia &amp; Pacific</td>\n",
       "      <td>High income</td>\n",
       "    </tr>\n",
       "  </tbody>\n",
       "</table>\n",
       "</div>"
      ],
      "text/plain": [
       "      location iso_code        date  total_vaccinations  people_vaccinated  \\\n",
       "459  Australia      AUS  2021-04-05            844309.0                0.0   \n",
       "\n",
       "     people_fully_vaccinated  daily_vaccinations_raw  daily_vaccinations  \\\n",
       "459                      0.0                  1127.0             43221.0   \n",
       "\n",
       "       Economy Code               Region Income group  \n",
       "459  Australia  AUS  East Asia & Pacific  High income  "
      ]
     },
     "execution_count": 21,
     "metadata": {},
     "output_type": "execute_result"
    }
   ],
   "source": [
    "df[(df['location'] == 'Australia') & \\\n",
    "             (df['date'] == '2021-04-05')]"
   ]
  },
  {
   "cell_type": "markdown",
   "metadata": {},
   "source": [
    "From this, we see that Australia is collecting it's own stats that are combined with other countries to form Oceania.\n",
    "\n",
    "The 14 countries within Oceania are listed in the income csv, but range from Solomon Islands and Papua New Guinea as lower middle, Fiji and Samoa as upper middle, and New Zealand and Australia as high.\n",
    "\n",
    "Most of the countries are labeled 'Upper middle income', so we will replace the Income group with that."
   ]
  },
  {
   "cell_type": "code",
   "execution_count": 22,
   "metadata": {
    "ExecuteTime": {
     "end_time": "2021-04-07T16:56:32.295067Z",
     "start_time": "2021-04-07T16:56:32.290188Z"
    }
   },
   "outputs": [],
   "source": [
    "# replace null values with correct values\n",
    "df.loc[df['location'] == 'Oceania', ['Region', 'Income group']] = \\\n",
    "'East Asia & Pacific', 'Upper middle income'"
   ]
  },
  {
   "cell_type": "code",
   "execution_count": 23,
   "metadata": {
    "ExecuteTime": {
     "end_time": "2021-04-07T16:56:32.315586Z",
     "start_time": "2021-04-07T16:56:32.299241Z"
    }
   },
   "outputs": [
    {
     "data": {
      "text/html": [
       "<div>\n",
       "<style scoped>\n",
       "    .dataframe tbody tr th:only-of-type {\n",
       "        vertical-align: middle;\n",
       "    }\n",
       "\n",
       "    .dataframe tbody tr th {\n",
       "        vertical-align: top;\n",
       "    }\n",
       "\n",
       "    .dataframe thead th {\n",
       "        text-align: right;\n",
       "    }\n",
       "</style>\n",
       "<table border=\"1\" class=\"dataframe\">\n",
       "  <thead>\n",
       "    <tr style=\"text-align: right;\">\n",
       "      <th></th>\n",
       "      <th>location</th>\n",
       "      <th>iso_code</th>\n",
       "      <th>date</th>\n",
       "      <th>total_vaccinations</th>\n",
       "      <th>people_vaccinated</th>\n",
       "      <th>people_fully_vaccinated</th>\n",
       "      <th>daily_vaccinations_raw</th>\n",
       "      <th>daily_vaccinations</th>\n",
       "      <th>Economy</th>\n",
       "      <th>Code</th>\n",
       "      <th>Region</th>\n",
       "      <th>Income group</th>\n",
       "    </tr>\n",
       "  </thead>\n",
       "  <tbody>\n",
       "    <tr>\n",
       "      <th>6823</th>\n",
       "      <td>Oceania</td>\n",
       "      <td>OWID_OCE</td>\n",
       "      <td>2021-02-15</td>\n",
       "      <td>0.0</td>\n",
       "      <td>0.0</td>\n",
       "      <td>0.0</td>\n",
       "      <td>0.0</td>\n",
       "      <td>0.0</td>\n",
       "      <td>NaN</td>\n",
       "      <td>NaN</td>\n",
       "      <td>East Asia &amp; Pacific</td>\n",
       "      <td>Upper middle income</td>\n",
       "    </tr>\n",
       "    <tr>\n",
       "      <th>6824</th>\n",
       "      <td>Oceania</td>\n",
       "      <td>OWID_OCE</td>\n",
       "      <td>2021-02-16</td>\n",
       "      <td>0.0</td>\n",
       "      <td>0.0</td>\n",
       "      <td>0.0</td>\n",
       "      <td>0.0</td>\n",
       "      <td>0.0</td>\n",
       "      <td>NaN</td>\n",
       "      <td>NaN</td>\n",
       "      <td>East Asia &amp; Pacific</td>\n",
       "      <td>Upper middle income</td>\n",
       "    </tr>\n",
       "    <tr>\n",
       "      <th>6825</th>\n",
       "      <td>Oceania</td>\n",
       "      <td>OWID_OCE</td>\n",
       "      <td>2021-02-17</td>\n",
       "      <td>0.0</td>\n",
       "      <td>0.0</td>\n",
       "      <td>0.0</td>\n",
       "      <td>0.0</td>\n",
       "      <td>0.0</td>\n",
       "      <td>NaN</td>\n",
       "      <td>NaN</td>\n",
       "      <td>East Asia &amp; Pacific</td>\n",
       "      <td>Upper middle income</td>\n",
       "    </tr>\n",
       "    <tr>\n",
       "      <th>6826</th>\n",
       "      <td>Oceania</td>\n",
       "      <td>OWID_OCE</td>\n",
       "      <td>2021-02-18</td>\n",
       "      <td>0.0</td>\n",
       "      <td>0.0</td>\n",
       "      <td>0.0</td>\n",
       "      <td>0.0</td>\n",
       "      <td>0.0</td>\n",
       "      <td>NaN</td>\n",
       "      <td>NaN</td>\n",
       "      <td>East Asia &amp; Pacific</td>\n",
       "      <td>Upper middle income</td>\n",
       "    </tr>\n",
       "    <tr>\n",
       "      <th>6827</th>\n",
       "      <td>Oceania</td>\n",
       "      <td>OWID_OCE</td>\n",
       "      <td>2021-02-19</td>\n",
       "      <td>30.0</td>\n",
       "      <td>30.0</td>\n",
       "      <td>0.0</td>\n",
       "      <td>30.0</td>\n",
       "      <td>8.0</td>\n",
       "      <td>NaN</td>\n",
       "      <td>NaN</td>\n",
       "      <td>East Asia &amp; Pacific</td>\n",
       "      <td>Upper middle income</td>\n",
       "    </tr>\n",
       "  </tbody>\n",
       "</table>\n",
       "</div>"
      ],
      "text/plain": [
       "     location  iso_code        date  total_vaccinations  people_vaccinated  \\\n",
       "6823  Oceania  OWID_OCE  2021-02-15                 0.0                0.0   \n",
       "6824  Oceania  OWID_OCE  2021-02-16                 0.0                0.0   \n",
       "6825  Oceania  OWID_OCE  2021-02-17                 0.0                0.0   \n",
       "6826  Oceania  OWID_OCE  2021-02-18                 0.0                0.0   \n",
       "6827  Oceania  OWID_OCE  2021-02-19                30.0               30.0   \n",
       "\n",
       "      people_fully_vaccinated  daily_vaccinations_raw  daily_vaccinations  \\\n",
       "6823                      0.0                     0.0                 0.0   \n",
       "6824                      0.0                     0.0                 0.0   \n",
       "6825                      0.0                     0.0                 0.0   \n",
       "6826                      0.0                     0.0                 0.0   \n",
       "6827                      0.0                    30.0                 8.0   \n",
       "\n",
       "     Economy Code               Region         Income group  \n",
       "6823     NaN  NaN  East Asia & Pacific  Upper middle income  \n",
       "6824     NaN  NaN  East Asia & Pacific  Upper middle income  \n",
       "6825     NaN  NaN  East Asia & Pacific  Upper middle income  \n",
       "6826     NaN  NaN  East Asia & Pacific  Upper middle income  \n",
       "6827     NaN  NaN  East Asia & Pacific  Upper middle income  "
      ]
     },
     "execution_count": 23,
     "metadata": {},
     "output_type": "execute_result"
    }
   ],
   "source": [
    "df[df['location'] == 'Oceania'][:5]"
   ]
  },
  {
   "cell_type": "markdown",
   "metadata": {},
   "source": [
    "Fill in Kosovo with it's respective stats and Northern Cyprus with Turkey's stats"
   ]
  },
  {
   "cell_type": "code",
   "execution_count": 24,
   "metadata": {
    "ExecuteTime": {
     "end_time": "2021-04-07T16:56:32.323597Z",
     "start_time": "2021-04-07T16:56:32.318265Z"
    }
   },
   "outputs": [],
   "source": [
    "df.loc[df['location'] == 'Northern Cyprus', ['Region', 'Income group']] = \\\n",
    "'Europe & Central Asia', 'Upper middle income'"
   ]
  },
  {
   "cell_type": "code",
   "execution_count": 25,
   "metadata": {
    "ExecuteTime": {
     "end_time": "2021-04-07T16:56:32.330927Z",
     "start_time": "2021-04-07T16:56:32.326178Z"
    }
   },
   "outputs": [],
   "source": [
    "df.loc[df['location'] == 'Kosovo', ['Region', 'Income group']] = \\\n",
    "'Europe & Central Asia', 'Upper middle income'"
   ]
  },
  {
   "cell_type": "markdown",
   "metadata": {},
   "source": [
    "The rest of the countries are territories that belong to the UK. We will fill the stats in with UK information. See the EDA notebook for more information on the reasoning behind this."
   ]
  },
  {
   "cell_type": "code",
   "execution_count": 26,
   "metadata": {
    "ExecuteTime": {
     "end_time": "2021-04-07T16:56:32.336784Z",
     "start_time": "2021-04-07T16:56:32.332672Z"
    }
   },
   "outputs": [],
   "source": [
    "df['Income group'].fillna('High income', inplace= True)\n",
    "df['Region'].fillna('Europe & Central Asia', inplace= True)"
   ]
  },
  {
   "cell_type": "code",
   "execution_count": 30,
   "metadata": {
    "ExecuteTime": {
     "end_time": "2021-04-07T16:57:42.191864Z",
     "start_time": "2021-04-07T16:57:42.187116Z"
    },
    "scrolled": true
   },
   "outputs": [
    {
     "data": {
      "text/plain": [
       "array(['AFG', 'ALB', 'DZA', 'AND', 'AGO', 'AIA', 'ATG', 'ARG', 'AUS',\n",
       "       'AUT', 'AZE', 'BHS', 'BHR', 'BGD', 'BRB', 'BLR', 'BEL', 'BLZ',\n",
       "       'BMU', 'BTN', 'BOL', 'BRA', 'BRN', 'BGR', 'KHM', 'CAN', 'CPV',\n",
       "       'CYM', 'CHL', 'CHN', 'COL', 'CRI', 'CIV', 'HRV', 'CYP', 'CZE',\n",
       "       'DNK', 'DMA', 'DOM', 'ECU', 'EGY', 'SLV', 'OWID_ENG', 'GNQ', 'EST',\n",
       "       'FRO', 'FLK', 'FIN', 'FRA', 'GAB', 'GMB', 'GEO', 'DEU', 'GHA',\n",
       "       'GIB', 'GRC', 'GRL', 'GRD', 'GTM', 'GGY', 'GIN', 'GUY', 'HND',\n",
       "       'HKG', 'HUN', 'ISL', 'IND', 'IDN', 'IRN', 'IRQ', 'IRL', 'IMN',\n",
       "       'ISR', 'ITA', 'JAM', 'JPN', 'JEY', 'JOR', 'KAZ', 'KEN', 'OWID_KOS',\n",
       "       'KWT', 'LAO', 'LVA', 'LBN', 'LIE', 'LTU', 'LUX', 'MAC', 'MWI',\n",
       "       'MYS', 'MDV', 'MLI', 'MLT', 'MRT', 'MUS', 'MEX', 'MDA', 'MCO',\n",
       "       'MNG', 'MNE', 'MSR', 'MAR', 'MOZ', 'MMR', 'NAM', 'NPL', 'NLD',\n",
       "       'NZL', 'NGA', 'MKD', 'OWID_CYN', 'OWID_NIR', 'NOR', 'OWID_OCE',\n",
       "       'OMN', 'PAK', 'PSE', 'PAN', 'PRY', 'PER', 'PHL', 'POL', 'PRT',\n",
       "       'QAT', 'ROU', 'RUS', 'RWA', 'SHN', 'KNA', 'LCA', 'VCT', 'SMR',\n",
       "       'STP', 'SAU', 'OWID_SCT', 'SEN', 'SRB', 'SYC', 'SLE', 'SGP', 'SVK',\n",
       "       'SVN', 'ZAF', 'KOR', 'ESP', 'LKA', 'SUR', 'SWE', 'CHE', 'TWN',\n",
       "       'THA', 'TGO', 'TTO', 'TUN', 'TUR', 'TCA', 'UGA', 'UKR', 'ARE',\n",
       "       'USA', 'URY', 'VEN', 'VNM', 'OWID_WLS', 'ZWE'], dtype=object)"
      ]
     },
     "execution_count": 30,
     "metadata": {},
     "output_type": "execute_result"
    }
   ],
   "source": [
    "df.iso_code.unique()"
   ]
  },
  {
   "cell_type": "markdown",
   "metadata": {},
   "source": [
    "The data source made up some codes that don't actually exist. To prevent any slip-ups, let's remove the \"OWID_\" so all entries have 3-letter codes."
   ]
  },
  {
   "cell_type": "code",
   "execution_count": 31,
   "metadata": {
    "ExecuteTime": {
     "end_time": "2021-04-07T17:06:54.214377Z",
     "start_time": "2021-04-07T17:06:54.206539Z"
    }
   },
   "outputs": [],
   "source": [
    "df['iso_code'] = df['iso_code'].str.replace('OWID_', '')"
   ]
  },
  {
   "cell_type": "code",
   "execution_count": 33,
   "metadata": {
    "ExecuteTime": {
     "end_time": "2021-04-07T17:09:02.628358Z",
     "start_time": "2021-04-07T17:09:02.624190Z"
    }
   },
   "outputs": [],
   "source": [
    "df.drop(['Economy', 'Code'], axis= 1, inplace= True)"
   ]
  },
  {
   "cell_type": "code",
   "execution_count": 34,
   "metadata": {
    "ExecuteTime": {
     "end_time": "2021-04-07T17:09:15.051425Z",
     "start_time": "2021-04-07T17:09:15.043081Z"
    },
    "scrolled": false
   },
   "outputs": [
    {
     "data": {
      "text/plain": [
       "location                   0\n",
       "iso_code                   0\n",
       "date                       0\n",
       "total_vaccinations         0\n",
       "people_vaccinated          0\n",
       "people_fully_vaccinated    0\n",
       "daily_vaccinations_raw     0\n",
       "daily_vaccinations         0\n",
       "Region                     0\n",
       "Income group               0\n",
       "dtype: int64"
      ]
     },
     "execution_count": 34,
     "metadata": {},
     "output_type": "execute_result"
    }
   ],
   "source": [
    "df.isnull().sum()"
   ]
  },
  {
   "cell_type": "markdown",
   "metadata": {},
   "source": [
    "## PCA, K-Means, and Hierarchical Agglomerative Clustering"
   ]
  },
  {
   "cell_type": "code",
   "execution_count": 28,
   "metadata": {
    "ExecuteTime": {
     "end_time": "2021-04-07T16:56:32.349643Z",
     "start_time": "2021-04-07T16:56:32.347426Z"
    }
   },
   "outputs": [],
   "source": [
    "# deal with null / missing values\n",
    "# PCA\n",
    "# Cluster"
   ]
  },
  {
   "cell_type": "code",
   "execution_count": 35,
   "metadata": {
    "ExecuteTime": {
     "end_time": "2021-04-07T17:23:39.191023Z",
     "start_time": "2021-04-07T17:23:38.907474Z"
    }
   },
   "outputs": [
    {
     "data": {
      "text/plain": [
       "<AxesSubplot:>"
      ]
     },
     "execution_count": 35,
     "metadata": {},
     "output_type": "execute_result"
    },
    {
     "data": {
      "image/png": "[encoded data removed]",
      "text/plain": [
       "<Figure size 720x720 with 1 Axes>"
      ]
     },
     "metadata": {},
     "output_type": "display_data"
    }
   ],
   "source": [
    "df.boxplot(figsize= (10,10), rot= 90)"
   ]
  },
  {
   "cell_type": "code",
   "execution_count": 36,
   "metadata": {
    "ExecuteTime": {
     "end_time": "2021-04-07T17:24:35.452622Z",
     "start_time": "2021-04-07T17:24:35.249065Z"
    },
    "scrolled": false
   },
   "outputs": [
    {
     "data": {
      "text/plain": [
       "<AxesSubplot:>"
      ]
     },
     "execution_count": 36,
     "metadata": {},
     "output_type": "execute_result"
    },
    {
     "data": {
      "image/png": "[encoded data removed]",
      "text/plain": [
       "<Figure size 432x288 with 2 Axes>"
      ]
     },
     "metadata": {},
     "output_type": "display_data"
    }
   ],
   "source": [
    "sns.heatmap(df.corr())"
   ]
  },
  {
   "cell_type": "code",
   "execution_count": 38,
   "metadata": {
    "ExecuteTime": {
     "end_time": "2021-04-07T17:36:12.421748Z",
     "start_time": "2021-04-07T17:36:12.417879Z"
    }
   },
   "outputs": [],
   "source": [
    "num_df = df.loc[:, df.dtypes == np.float64]"
   ]
  },
  {
   "cell_type": "code",
   "execution_count": 39,
   "metadata": {
    "ExecuteTime": {
     "end_time": "2021-04-07T17:36:19.547599Z",
     "start_time": "2021-04-07T17:36:19.539210Z"
    }
   },
   "outputs": [],
   "source": [
    "scaler = StandardScaler()\n",
    "scaled_df = scaler.fit_transform(num_df)"
   ]
  },
  {
   "cell_type": "code",
   "execution_count": 90,
   "metadata": {
    "ExecuteTime": {
     "end_time": "2021-04-07T18:30:15.523539Z",
     "start_time": "2021-04-07T18:30:15.515595Z"
    }
   },
   "outputs": [],
   "source": [
    "pca = PCA()\n",
    "X_pca = pca.fit_transform(scaled_df)"
   ]
  },
  {
   "cell_type": "code",
   "execution_count": 93,
   "metadata": {
    "ExecuteTime": {
     "end_time": "2021-04-07T18:32:31.290930Z",
     "start_time": "2021-04-07T18:32:31.084476Z"
    },
    "scrolled": true
   },
   "outputs": [
    {
     "data": {
      "image/png": "[encoded data removed]",
      "text/plain": [
       "<Figure size 432x288 with 1 Axes>"
      ]
     },
     "metadata": {},
     "output_type": "display_data"
    }
   ],
   "source": [
    "plt.plot(range(1,6), pca.explained_variance_ratio_.cumsum())\n",
    "plt.title('Total Variance Explained by Varying Number of Principal Components');"
   ]
  },
  {
   "cell_type": "markdown",
   "metadata": {},
   "source": [
    "### K-Means Clustering"
   ]
  },
  {
   "cell_type": "code",
   "execution_count": 69,
   "metadata": {
    "ExecuteTime": {
     "end_time": "2021-04-07T18:06:55.251899Z",
     "start_time": "2021-04-07T18:06:54.396091Z"
    }
   },
   "outputs": [
    {
     "data": {
      "image/png": "[encoded data removed]",
      "text/plain": [
       "<Figure size 720x432 with 1 Axes>"
      ]
     },
     "metadata": {},
     "output_type": "display_data"
    }
   ],
   "source": [
    "# find right amount of clusters\n",
    "results = []\n",
    "N = range(2,10)\n",
    "for n in N:\n",
    "    model = KMeans(n_clusters= n, random_state= 27)\n",
    "    model.fit(pca_df)\n",
    "    results.append(model.inertia_)\n",
    "    \n",
    "# plot elbow plot\n",
    "plt.figure(figsize= (10, 6))\n",
    "plt.plot(N, results)\n",
    "plt.title('K-Means Elbow Plot')\n",
    "plt.xlabel('Clusters')\n",
    "plt.ylabel('Inertia')\n",
    "plt.show()"
   ]
  },
  {
   "cell_type": "markdown",
   "metadata": {},
   "source": [
    "K-Means using 5 clusters"
   ]
  },
  {
   "cell_type": "code",
   "execution_count": 85,
   "metadata": {
    "ExecuteTime": {
     "end_time": "2021-04-07T18:22:29.002549Z",
     "start_time": "2021-04-07T18:22:28.851174Z"
    }
   },
   "outputs": [
    {
     "data": {
      "text/plain": [
       "30587.726880711285"
      ]
     },
     "execution_count": 85,
     "metadata": {},
     "output_type": "execute_result"
    }
   ],
   "source": [
    "# unscaled, original data\n",
    "k_means_orig = KMeans(n_clusters = 5)\n",
    "k_means_orig.fit(num_df)\n",
    "cluster_preds = k_means_orig.predict(num_df)\n",
    "\n",
    "CH_score = calinski_harabasz_score(num_df, cluster_preds)\n",
    "CH_score"
   ]
  },
  {
   "cell_type": "code",
   "execution_count": 87,
   "metadata": {
    "ExecuteTime": {
     "end_time": "2021-04-07T18:23:05.192530Z",
     "start_time": "2021-04-07T18:23:05.188784Z"
    }
   },
   "outputs": [
    {
     "data": {
      "text/plain": [
       "array([0, 0, 0, ..., 0, 0, 0], dtype=int32)"
      ]
     },
     "execution_count": 87,
     "metadata": {},
     "output_type": "execute_result"
    }
   ],
   "source": [
    "cluster_preds"
   ]
  },
  {
   "cell_type": "code",
   "execution_count": 86,
   "metadata": {
    "ExecuteTime": {
     "end_time": "2021-04-07T18:22:31.551978Z",
     "start_time": "2021-04-07T18:22:31.429085Z"
    }
   },
   "outputs": [
    {
     "ename": "TypeError",
     "evalue": "'(array([ True,  True,  True, ...,  True,  True,  True]), 0)' is an invalid key",
     "output_type": "error",
     "traceback": [
      "\u001b[0;31m---------------------------------------------------------------------------\u001b[0m",
      "\u001b[0;31mTypeError\u001b[0m                                 Traceback (most recent call last)",
      "\u001b[0;32m<ipython-input-86-192534fdcb2f>\u001b[0m in \u001b[0;36m<module>\u001b[0;34m\u001b[0m\n\u001b[1;32m      1\u001b[0m \u001b[0;31m# visualize the clusters\u001b[0m\u001b[0;34m\u001b[0m\u001b[0;34m\u001b[0m\u001b[0;34m\u001b[0m\u001b[0m\n\u001b[1;32m      2\u001b[0m \u001b[0mplt\u001b[0m\u001b[0;34m.\u001b[0m\u001b[0msubplots\u001b[0m\u001b[0;34m(\u001b[0m\u001b[0mfigsize\u001b[0m\u001b[0;34m=\u001b[0m \u001b[0;34m(\u001b[0m\u001b[0;36m10\u001b[0m\u001b[0;34m,\u001b[0m \u001b[0;36m8\u001b[0m\u001b[0;34m)\u001b[0m\u001b[0;34m)\u001b[0m\u001b[0;34m\u001b[0m\u001b[0;34m\u001b[0m\u001b[0m\n\u001b[0;32m----> 3\u001b[0;31m \u001b[0mplt\u001b[0m\u001b[0;34m.\u001b[0m\u001b[0mscatter\u001b[0m\u001b[0;34m(\u001b[0m\u001b[0mnum_df\u001b[0m\u001b[0;34m[\u001b[0m\u001b[0mcluster_preds\u001b[0m \u001b[0;34m==\u001b[0m \u001b[0;36m0\u001b[0m\u001b[0;34m,\u001b[0m \u001b[0;36m0\u001b[0m\u001b[0;34m]\u001b[0m\u001b[0;34m,\u001b[0m \u001b[0mnum_df\u001b[0m\u001b[0;34m[\u001b[0m\u001b[0mcluster_preds\u001b[0m \u001b[0;34m==\u001b[0m \u001b[0;36m0\u001b[0m\u001b[0;34m,\u001b[0m \u001b[0;36m1\u001b[0m\u001b[0;34m]\u001b[0m\u001b[0;34m,\u001b[0m \u001b[0ms\u001b[0m\u001b[0;34m=\u001b[0m \u001b[0;36m20\u001b[0m\u001b[0;34m,\u001b[0m \u001b[0mlabel\u001b[0m\u001b[0;34m=\u001b[0m \u001b[0;34m'Cluster 1'\u001b[0m\u001b[0;34m)\u001b[0m\u001b[0;34m\u001b[0m\u001b[0;34m\u001b[0m\u001b[0m\n\u001b[0m\u001b[1;32m      4\u001b[0m \u001b[0mplt\u001b[0m\u001b[0;34m.\u001b[0m\u001b[0mscatter\u001b[0m\u001b[0;34m(\u001b[0m\u001b[0mnum_df\u001b[0m\u001b[0;34m[\u001b[0m\u001b[0mcluster_preds\u001b[0m \u001b[0;34m==\u001b[0m \u001b[0;36m1\u001b[0m\u001b[0;34m,\u001b[0m \u001b[0;36m0\u001b[0m\u001b[0;34m]\u001b[0m\u001b[0;34m,\u001b[0m \u001b[0mnum_df\u001b[0m\u001b[0;34m[\u001b[0m\u001b[0mcluster_preds\u001b[0m \u001b[0;34m==\u001b[0m \u001b[0;36m1\u001b[0m\u001b[0;34m,\u001b[0m \u001b[0;36m1\u001b[0m\u001b[0;34m]\u001b[0m\u001b[0;34m,\u001b[0m \u001b[0ms\u001b[0m\u001b[0;34m=\u001b[0m \u001b[0;36m20\u001b[0m\u001b[0;34m,\u001b[0m \u001b[0mlabel\u001b[0m\u001b[0;34m=\u001b[0m \u001b[0;34m'Cluster 2'\u001b[0m\u001b[0;34m)\u001b[0m\u001b[0;34m\u001b[0m\u001b[0;34m\u001b[0m\u001b[0m\n\u001b[1;32m      5\u001b[0m \u001b[0mplt\u001b[0m\u001b[0;34m.\u001b[0m\u001b[0mscatter\u001b[0m\u001b[0;34m(\u001b[0m\u001b[0mnum_df\u001b[0m\u001b[0;34m[\u001b[0m\u001b[0mcluster_preds\u001b[0m \u001b[0;34m==\u001b[0m \u001b[0;36m2\u001b[0m\u001b[0;34m,\u001b[0m \u001b[0;36m0\u001b[0m\u001b[0;34m]\u001b[0m\u001b[0;34m,\u001b[0m \u001b[0mnum_df\u001b[0m\u001b[0;34m[\u001b[0m\u001b[0mcluster_preds\u001b[0m \u001b[0;34m==\u001b[0m \u001b[0;36m2\u001b[0m\u001b[0;34m,\u001b[0m \u001b[0;36m1\u001b[0m\u001b[0;34m]\u001b[0m\u001b[0;34m,\u001b[0m \u001b[0ms\u001b[0m\u001b[0;34m=\u001b[0m \u001b[0;36m20\u001b[0m\u001b[0;34m,\u001b[0m \u001b[0mlabel\u001b[0m\u001b[0;34m=\u001b[0m \u001b[0;34m'Cluster 3'\u001b[0m\u001b[0;34m)\u001b[0m\u001b[0;34m\u001b[0m\u001b[0;34m\u001b[0m\u001b[0m\n",
      "\u001b[0;32m~/opt/anaconda3/envs/learn-env/lib/python3.8/site-packages/pandas/core/frame.py\u001b[0m in \u001b[0;36m__getitem__\u001b[0;34m(self, key)\u001b[0m\n\u001b[1;32m   3022\u001b[0m             \u001b[0;32mif\u001b[0m \u001b[0mself\u001b[0m\u001b[0;34m.\u001b[0m\u001b[0mcolumns\u001b[0m\u001b[0;34m.\u001b[0m\u001b[0mnlevels\u001b[0m \u001b[0;34m>\u001b[0m \u001b[0;36m1\u001b[0m\u001b[0;34m:\u001b[0m\u001b[0;34m\u001b[0m\u001b[0;34m\u001b[0m\u001b[0m\n\u001b[1;32m   3023\u001b[0m                 \u001b[0;32mreturn\u001b[0m \u001b[0mself\u001b[0m\u001b[0;34m.\u001b[0m\u001b[0m_getitem_multilevel\u001b[0m\u001b[0;34m(\u001b[0m\u001b[0mkey\u001b[0m\u001b[0;34m)\u001b[0m\u001b[0;34m\u001b[0m\u001b[0;34m\u001b[0m\u001b[0m\n\u001b[0;32m-> 3024\u001b[0;31m             \u001b[0mindexer\u001b[0m \u001b[0;34m=\u001b[0m \u001b[0mself\u001b[0m\u001b[0;34m.\u001b[0m\u001b[0mcolumns\u001b[0m\u001b[0;34m.\u001b[0m\u001b[0mget_loc\u001b[0m\u001b[0;34m(\u001b[0m\u001b[0mkey\u001b[0m\u001b[0;34m)\u001b[0m\u001b[0;34m\u001b[0m\u001b[0;34m\u001b[0m\u001b[0m\n\u001b[0m\u001b[1;32m   3025\u001b[0m             \u001b[0;32mif\u001b[0m \u001b[0mis_integer\u001b[0m\u001b[0;34m(\u001b[0m\u001b[0mindexer\u001b[0m\u001b[0;34m)\u001b[0m\u001b[0;34m:\u001b[0m\u001b[0;34m\u001b[0m\u001b[0;34m\u001b[0m\u001b[0m\n\u001b[1;32m   3026\u001b[0m                 \u001b[0mindexer\u001b[0m \u001b[0;34m=\u001b[0m \u001b[0;34m[\u001b[0m\u001b[0mindexer\u001b[0m\u001b[0;34m]\u001b[0m\u001b[0;34m\u001b[0m\u001b[0;34m\u001b[0m\u001b[0m\n",
      "\u001b[0;32m~/opt/anaconda3/envs/learn-env/lib/python3.8/site-packages/pandas/core/indexes/base.py\u001b[0m in \u001b[0;36mget_loc\u001b[0;34m(self, key, method, tolerance)\u001b[0m\n\u001b[1;32m   3078\u001b[0m             \u001b[0mcasted_key\u001b[0m \u001b[0;34m=\u001b[0m \u001b[0mself\u001b[0m\u001b[0;34m.\u001b[0m\u001b[0m_maybe_cast_indexer\u001b[0m\u001b[0;34m(\u001b[0m\u001b[0mkey\u001b[0m\u001b[0;34m)\u001b[0m\u001b[0;34m\u001b[0m\u001b[0;34m\u001b[0m\u001b[0m\n\u001b[1;32m   3079\u001b[0m             \u001b[0;32mtry\u001b[0m\u001b[0;34m:\u001b[0m\u001b[0;34m\u001b[0m\u001b[0;34m\u001b[0m\u001b[0m\n\u001b[0;32m-> 3080\u001b[0;31m                 \u001b[0;32mreturn\u001b[0m \u001b[0mself\u001b[0m\u001b[0;34m.\u001b[0m\u001b[0m_engine\u001b[0m\u001b[0;34m.\u001b[0m\u001b[0mget_loc\u001b[0m\u001b[0;34m(\u001b[0m\u001b[0mcasted_key\u001b[0m\u001b[0;34m)\u001b[0m\u001b[0;34m\u001b[0m\u001b[0;34m\u001b[0m\u001b[0m\n\u001b[0m\u001b[1;32m   3081\u001b[0m             \u001b[0;32mexcept\u001b[0m \u001b[0mKeyError\u001b[0m \u001b[0;32mas\u001b[0m \u001b[0merr\u001b[0m\u001b[0;34m:\u001b[0m\u001b[0;34m\u001b[0m\u001b[0;34m\u001b[0m\u001b[0m\n\u001b[1;32m   3082\u001b[0m                 \u001b[0;32mraise\u001b[0m \u001b[0mKeyError\u001b[0m\u001b[0;34m(\u001b[0m\u001b[0mkey\u001b[0m\u001b[0;34m)\u001b[0m \u001b[0;32mfrom\u001b[0m \u001b[0merr\u001b[0m\u001b[0;34m\u001b[0m\u001b[0;34m\u001b[0m\u001b[0m\n",
      "\u001b[0;32mpandas/_libs/index.pyx\u001b[0m in \u001b[0;36mpandas._libs.index.IndexEngine.get_loc\u001b[0;34m()\u001b[0m\n",
      "\u001b[0;32mpandas/_libs/index.pyx\u001b[0m in \u001b[0;36mpandas._libs.index.IndexEngine.get_loc\u001b[0;34m()\u001b[0m\n",
      "\u001b[0;31mTypeError\u001b[0m: '(array([ True,  True,  True, ...,  True,  True,  True]), 0)' is an invalid key"
     ]
    },
    {
     "data": {
      "image/png": "[encoded data removed]",
      "text/plain": [
       "<Figure size 720x576 with 1 Axes>"
      ]
     },
     "metadata": {},
     "output_type": "display_data"
    }
   ],
   "source": [
    "# visualize the clusters\n",
    "plt.subplots(figsize= (10, 8))\n",
    "plt.scatter(num_df[cluster_preds == 0, 0], num_df[cluster_preds == 0, 1], s= 20, label= 'Cluster 1')\n",
    "plt.scatter(num_df[cluster_preds == 1, 0], num_df[cluster_preds == 1, 1], s= 20, label= 'Cluster 2')\n",
    "plt.scatter(num_df[cluster_preds == 2, 0], num_df[cluster_preds == 2, 1], s= 20, label= 'Cluster 3')\n",
    "plt.scatter(num_df[cluster_preds == 3, 0], num_df[cluster_preds == 3, 1], s= 20, label= 'Cluster 4')\n",
    "plt.scatter(num_df[cluster_preds == 4, 0], num_df[cluster_preds == 4, 1], s= 20, label= 'Cluster 5')\n",
    "\n",
    "plt.scatter(k_means_orig.cluster_centers_[:, 0], k_means_orig.cluster_centers_[:, 1], s= 50, label= 'Centroid')\n",
    "plt.title('Cluster Visualization')\n",
    "plt.legend()\n",
    "plt.show()"
   ]
  },
  {
   "cell_type": "code",
   "execution_count": 66,
   "metadata": {
    "ExecuteTime": {
     "end_time": "2021-04-07T18:01:39.768714Z",
     "start_time": "2021-04-07T18:01:39.630921Z"
    }
   },
   "outputs": [
    {
     "data": {
      "text/plain": [
       "18971.500522092774"
      ]
     },
     "execution_count": 66,
     "metadata": {},
     "output_type": "execute_result"
    }
   ],
   "source": [
    "# scaled data\n",
    "k_means = KMeans(n_clusters = 5)\n",
    "k_means.fit(scaled_df)\n",
    "cluster_preds = k_means.predict(scaled_df)\n",
    "\n",
    "CH_score = calinski_harabasz_score(scaled_df, cluster_preds)\n",
    "CH_score"
   ]
  },
  {
   "cell_type": "code",
   "execution_count": 88,
   "metadata": {
    "ExecuteTime": {
     "end_time": "2021-04-07T18:23:18.441400Z",
     "start_time": "2021-04-07T18:23:18.318262Z"
    }
   },
   "outputs": [
    {
     "data": {
      "text/plain": [
       "21761.04992732559"
      ]
     },
     "execution_count": 88,
     "metadata": {},
     "output_type": "execute_result"
    }
   ],
   "source": [
    "# pca and scaled data\n",
    "k_means_pca = KMeans(n_clusters = 5)\n",
    "k_means_pca.fit(pca_df)\n",
    "cluster_preds = k_means_pca.predict(pca_df)\n",
    "\n",
    "CH_score = calinski_harabasz_score(pca_df, cluster_preds)\n",
    "CH_score"
   ]
  },
  {
   "cell_type": "code",
   "execution_count": 82,
   "metadata": {
    "ExecuteTime": {
     "end_time": "2021-04-07T18:18:30.709253Z",
     "start_time": "2021-04-07T18:18:30.417131Z"
    },
    "scrolled": false
   },
   "outputs": [
    {
     "data": {
      "image/png": "[encoded data removed]",
      "text/plain": [
       "<Figure size 720x576 with 1 Axes>"
      ]
     },
     "metadata": {},
     "output_type": "display_data"
    }
   ],
   "source": [
    "# visualize the clusters\n",
    "plt.subplots(figsize= (10, 8))\n",
    "plt.scatter(pca_df[cluster_preds == 0, 0], pca_df[cluster_preds == 0, 1], s= 20, label= 'Cluster 1')\n",
    "plt.scatter(pca_df[cluster_preds == 1, 0], pca_df[cluster_preds == 1, 1], s= 20, label= 'Cluster 2')\n",
    "plt.scatter(pca_df[cluster_preds == 2, 0], pca_df[cluster_preds == 2, 1], s= 20, label= 'Cluster 3')\n",
    "plt.scatter(pca_df[cluster_preds == 3, 0], pca_df[cluster_preds == 3, 1], s= 20, label= 'Cluster 4')\n",
    "plt.scatter(pca_df[cluster_preds == 4, 0], pca_df[cluster_preds == 4, 1], s= 20, label= 'Cluster 5')\n",
    "\n",
    "plt.scatter(k_means_pca.cluster_centers_[:, 0], k_means_pca.cluster_centers_[:, 1], s= 70, label= 'Centroid')\n",
    "plt.title('Cluster Visualization')\n",
    "plt.legend()\n",
    "plt.show()"
   ]
  },
  {
   "cell_type": "markdown",
   "metadata": {},
   "source": [
    "### Hierarchical Agglomerative Clustering"
   ]
  },
  {
   "cell_type": "code",
   "execution_count": 53,
   "metadata": {
    "ExecuteTime": {
     "end_time": "2021-04-07T17:51:20.687850Z",
     "start_time": "2021-04-07T17:51:17.910398Z"
    }
   },
   "outputs": [
    {
     "data": {
      "text/plain": [
       "25194.772506373734"
      ]
     },
     "execution_count": 53,
     "metadata": {},
     "output_type": "execute_result"
    }
   ],
   "source": [
    "hac = AgglomerativeClustering(n_clusters= 2)\n",
    "hac.fit(num_df)\n",
    "hac_preds = hac.labels_\n",
    "\n",
    "CH_score = calinski_harabasz_score(num_df, hac_preds)\n",
    "CH_score"
   ]
  },
  {
   "cell_type": "code",
   "execution_count": 57,
   "metadata": {
    "ExecuteTime": {
     "end_time": "2021-04-07T17:55:55.007901Z",
     "start_time": "2021-04-07T17:55:52.466955Z"
    }
   },
   "outputs": [
    {
     "data": {
      "text/plain": [
       "19748.40320091099"
      ]
     },
     "execution_count": 57,
     "metadata": {},
     "output_type": "execute_result"
    }
   ],
   "source": [
    "hac = AgglomerativeClustering(n_clusters= 2)\n",
    "hac.fit(scaled_df)\n",
    "hac_preds = hac.labels_\n",
    "\n",
    "CH_score = calinski_harabasz_score(scaled_df, hac_preds)\n",
    "CH_score"
   ]
  },
  {
   "cell_type": "code",
   "execution_count": 56,
   "metadata": {
    "ExecuteTime": {
     "end_time": "2021-04-07T17:52:46.245731Z",
     "start_time": "2021-04-07T17:52:44.011131Z"
    }
   },
   "outputs": [
    {
     "data": {
      "text/plain": [
       "20725.93570611157"
      ]
     },
     "execution_count": 56,
     "metadata": {},
     "output_type": "execute_result"
    }
   ],
   "source": [
    "hac = AgglomerativeClustering(n_clusters= 2)\n",
    "hac.fit(pca_df)\n",
    "hac_preds = hac.labels_\n",
    "\n",
    "CH_score = calinski_harabasz_score(pca_df, hac_preds)\n",
    "CH_score"
   ]
  },
  {
   "cell_type": "code",
   "execution_count": null,
   "metadata": {},
   "outputs": [],
   "source": []
  },
  {
   "cell_type": "code",
   "execution_count": null,
   "metadata": {},
   "outputs": [],
   "source": []
  },
  {
   "cell_type": "code",
   "execution_count": null,
   "metadata": {},
   "outputs": [],
   "source": []
  },
  {
   "cell_type": "code",
   "execution_count": null,
   "metadata": {},
   "outputs": [],
   "source": []
  },
  {
   "cell_type": "code",
   "execution_count": null,
   "metadata": {},
   "outputs": [],
   "source": []
  }
 ],
 "metadata": {
  "kernelspec": {
   "display_name": "Python 3",
   "language": "python",
   "name": "python3"
  },
  "language_info": {
   "codemirror_mode": {
    "name": "ipython",
    "version": 3
   },
   "file_extension": ".py",
   "mimetype": "text/x-python",
   "name": "python",
   "nbconvert_exporter": "python",
   "pygments_lexer": "ipython3",
   "version": "3.8.5"
  },
  "toc": {
   "base_numbering": 1,
   "nav_menu": {},
   "number_sections": true,
   "sideBar": true,
   "skip_h1_title": true,
   "title_cell": "Table of Contents",
   "title_sidebar": "Contents",
   "toc_cell": false,
   "toc_position": {
    "height": "calc(100% - 180px)",
    "left": "10px",
    "top": "150px",
    "width": "280.188px"
   },
   "toc_section_display": true,
   "toc_window_display": true
  },
  "varInspector": {
   "cols": {
    "lenName": 16,
    "lenType": 16,
    "lenVar": 40
   },
   "kernels_config": {
    "python": {
     "delete_cmd_postfix": "",
     "delete_cmd_prefix": "del ",
     "library": "var_list.py",
     "varRefreshCmd": "print(var_dic_list())"
    },
    "r": {
     "delete_cmd_postfix": ") ",
     "delete_cmd_prefix": "rm(",
     "library": "var_list.r",
     "varRefreshCmd": "cat(var_dic_list()) "
    }
   },
   "types_to_exclude": [
    "module",
    "function",
    "builtin_function_or_method",
    "instance",
    "_Feature"
   ],
   "window_display": false
  }
 },
 "nbformat": 4,
 "nbformat_minor": 4
}
