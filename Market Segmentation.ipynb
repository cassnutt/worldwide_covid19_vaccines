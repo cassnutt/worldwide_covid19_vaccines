{
 "cells": [
  {
   "cell_type": "markdown",
   "metadata": {},
   "source": [
    "# Market Segmentation with Worldwide COVID-19 Vaccinations"
   ]
  },
  {
   "cell_type": "code",
   "execution_count": null,
   "metadata": {},
   "outputs": [],
   "source": [
    "'''Things to do:\n",
    "- map plot\n",
    "-pca\n",
    "- k means clustering\n",
    "    - elbow plot\n",
    "- hierarchical agglomerative clustering\n",
    "    - dendrogram\n",
    "- metrics\n",
    "    - silhouette coefficient\n",
    "    b- calinski harabasz score\n",
    "\n",
    "''' \n"
   ]
  },
  {
   "cell_type": "markdown",
   "metadata": {},
   "source": [
    "# Libraries"
   ]
  },
  {
   "cell_type": "code",
   "execution_count": 1,
   "metadata": {
    "ExecuteTime": {
     "end_time": "2021-04-07T00:53:56.181797Z",
     "start_time": "2021-04-07T00:53:54.544761Z"
    },
    "scrolled": true
   },
   "outputs": [],
   "source": [
    "import numpy as np\n",
    "import pandas as pd\n",
    "import matplotlib.pyplot as plt\n",
    "%matplotlib inline\n",
    "import seaborn as sns\n",
    "sns.set_style('darkgrid')\n",
    "\n",
    "from sklearn.preprocessing import StandardScaler\n",
    "from sklearn.decomposition import PCA\n",
    "from sklearn.model_selection import train_test_split\n",
    "from sklearn import metrics\n",
    "\n",
    "pd.set_option('display.max_columns', None)"
   ]
  },
  {
   "cell_type": "code",
   "execution_count": 2,
   "metadata": {
    "ExecuteTime": {
     "end_time": "2021-04-07T00:53:56.228241Z",
     "start_time": "2021-04-07T00:53:56.213974Z"
    }
   },
   "outputs": [],
   "source": [
    "data = pd.read_csv('../data/vaccinations_all.csv')"
   ]
  },
  {
   "cell_type": "code",
   "execution_count": null,
   "metadata": {
    "ExecuteTime": {
     "end_time": "2021-04-07T00:08:30.264379Z",
     "start_time": "2021-04-07T00:08:30.220526Z"
    },
    "scrolled": false
   },
   "outputs": [],
   "source": [
    "data.head()"
   ]
  },
  {
   "cell_type": "code",
   "execution_count": 3,
   "metadata": {
    "ExecuteTime": {
     "end_time": "2021-04-07T00:54:00.620335Z",
     "start_time": "2021-04-07T00:54:00.608392Z"
    },
    "scrolled": true
   },
   "outputs": [
    {
     "name": "stdout",
     "output_type": "stream",
     "text": [
      "<class 'pandas.core.frame.DataFrame'>\n",
      "RangeIndex: 10782 entries, 0 to 10781\n",
      "Data columns (total 12 columns):\n",
      " #   Column                               Non-Null Count  Dtype  \n",
      "---  ------                               --------------  -----  \n",
      " 0   location                             10782 non-null  object \n",
      " 1   iso_code                             10782 non-null  object \n",
      " 2   date                                 10782 non-null  object \n",
      " 3   total_vaccinations                   6807 non-null   float64\n",
      " 4   people_vaccinated                    6183 non-null   float64\n",
      " 5   people_fully_vaccinated              4448 non-null   float64\n",
      " 6   daily_vaccinations_raw               5806 non-null   float64\n",
      " 7   daily_vaccinations                   10591 non-null  float64\n",
      " 8   total_vaccinations_per_hundred       6807 non-null   float64\n",
      " 9   people_vaccinated_per_hundred        6183 non-null   float64\n",
      " 10  people_fully_vaccinated_per_hundred  4448 non-null   float64\n",
      " 11  daily_vaccinations_per_million       10591 non-null  float64\n",
      "dtypes: float64(9), object(3)\n",
      "memory usage: 1010.9+ KB\n"
     ]
    }
   ],
   "source": [
    "data.info()"
   ]
  },
  {
   "cell_type": "code",
   "execution_count": null,
   "metadata": {
    "ExecuteTime": {
     "end_time": "2021-04-06T23:22:07.371544Z",
     "start_time": "2021-04-06T23:22:07.343249Z"
    },
    "scrolled": true
   },
   "outputs": [],
   "source": [
    "data.isnull().sum()"
   ]
  },
  {
   "cell_type": "code",
   "execution_count": 4,
   "metadata": {
    "ExecuteTime": {
     "end_time": "2021-04-07T00:54:26.878393Z",
     "start_time": "2021-04-07T00:54:26.872524Z"
    }
   },
   "outputs": [],
   "source": [
    "#remove anything that isn't a country\n",
    "# create list of things that are not countries \n",
    "continents = ['North America', 'Europe', 'Asia','European Union', \n",
    "              'Africa', 'South America', 'World', 'United Kingdom']\n",
    "\n",
    "data = data[~data['location'].isin(continents)]"
   ]
  },
  {
   "cell_type": "code",
   "execution_count": 5,
   "metadata": {
    "ExecuteTime": {
     "end_time": "2021-04-07T00:54:32.630808Z",
     "start_time": "2021-04-07T00:54:32.624097Z"
    }
   },
   "outputs": [
    {
     "data": {
      "text/plain": [
       "array(['Afghanistan', 'Albania', 'Algeria', 'Andorra', 'Angola',\n",
       "       'Anguilla', 'Antigua and Barbuda', 'Argentina', 'Australia',\n",
       "       'Austria', 'Azerbaijan', 'Bahamas', 'Bahrain', 'Bangladesh',\n",
       "       'Barbados', 'Belarus', 'Belgium', 'Belize', 'Bermuda', 'Bhutan',\n",
       "       'Bolivia', 'Brazil', 'Brunei', 'Bulgaria', 'Cambodia', 'Canada',\n",
       "       'Cape Verde', 'Cayman Islands', 'Chile', 'China', 'Colombia',\n",
       "       'Costa Rica', \"Cote d'Ivoire\", 'Croatia', 'Cyprus', 'Czechia',\n",
       "       'Denmark', 'Dominica', 'Dominican Republic', 'Ecuador', 'Egypt',\n",
       "       'El Salvador', 'England', 'Equatorial Guinea', 'Estonia',\n",
       "       'Faeroe Islands', 'Falkland Islands', 'Finland', 'France', 'Gabon',\n",
       "       'Gambia', 'Georgia', 'Germany', 'Ghana', 'Gibraltar', 'Greece',\n",
       "       'Greenland', 'Grenada', 'Guatemala', 'Guernsey', 'Guinea',\n",
       "       'Guyana', 'Honduras', 'Hong Kong', 'Hungary', 'Iceland', 'India',\n",
       "       'Indonesia', 'Iran', 'Iraq', 'Ireland', 'Isle of Man', 'Israel',\n",
       "       'Italy', 'Jamaica', 'Japan', 'Jersey', 'Jordan', 'Kazakhstan',\n",
       "       'Kenya', 'Kosovo', 'Kuwait', 'Laos', 'Latvia', 'Lebanon',\n",
       "       'Liechtenstein', 'Lithuania', 'Luxembourg', 'Macao', 'Malawi',\n",
       "       'Malaysia', 'Maldives', 'Mali', 'Malta', 'Mauritania', 'Mauritius',\n",
       "       'Mexico', 'Moldova', 'Monaco', 'Mongolia', 'Montenegro',\n",
       "       'Montserrat', 'Morocco', 'Mozambique', 'Myanmar', 'Namibia',\n",
       "       'Nepal', 'Netherlands', 'New Zealand', 'Nigeria',\n",
       "       'North Macedonia', 'Northern Cyprus', 'Northern Ireland', 'Norway',\n",
       "       'Oceania', 'Oman', 'Pakistan', 'Palestine', 'Panama', 'Paraguay',\n",
       "       'Peru', 'Philippines', 'Poland', 'Portugal', 'Qatar', 'Romania',\n",
       "       'Russia', 'Rwanda', 'Saint Helena', 'Saint Kitts and Nevis',\n",
       "       'Saint Lucia', 'Saint Vincent and the Grenadines', 'San Marino',\n",
       "       'Sao Tome and Principe', 'Saudi Arabia', 'Scotland', 'Senegal',\n",
       "       'Serbia', 'Seychelles', 'Sierra Leone', 'Singapore', 'Slovakia',\n",
       "       'Slovenia', 'South Africa', 'South Korea', 'Spain', 'Sri Lanka',\n",
       "       'Suriname', 'Sweden', 'Switzerland', 'Taiwan', 'Thailand', 'Togo',\n",
       "       'Trinidad and Tobago', 'Tunisia', 'Turkey',\n",
       "       'Turks and Caicos Islands', 'Uganda', 'Ukraine',\n",
       "       'United Arab Emirates', 'United States', 'Uruguay', 'Venezuela',\n",
       "       'Vietnam', 'Wales', 'Zimbabwe'], dtype=object)"
      ]
     },
     "execution_count": 5,
     "metadata": {},
     "output_type": "execute_result"
    }
   ],
   "source": [
    "data.location.unique()"
   ]
  },
  {
   "cell_type": "code",
   "execution_count": 6,
   "metadata": {
    "ExecuteTime": {
     "end_time": "2021-04-07T00:55:06.005657Z",
     "start_time": "2021-04-07T00:55:05.998436Z"
    }
   },
   "outputs": [],
   "source": [
    "# drop columns that have been 'smoothed' or have some kind of calculation using 'per'\n",
    "cols = [data.drop(columns= i, inplace= True) for i in data.columns if 'per' in i]"
   ]
  },
  {
   "cell_type": "code",
   "execution_count": 8,
   "metadata": {
    "ExecuteTime": {
     "end_time": "2021-04-07T00:55:17.587863Z",
     "start_time": "2021-04-07T00:55:17.575728Z"
    }
   },
   "outputs": [
    {
     "name": "stdout",
     "output_type": "stream",
     "text": [
      "<class 'pandas.core.frame.DataFrame'>\n",
      "Int64Index: 9926 entries, 0 to 10781\n",
      "Data columns (total 8 columns):\n",
      " #   Column                   Non-Null Count  Dtype  \n",
      "---  ------                   --------------  -----  \n",
      " 0   location                 9926 non-null   object \n",
      " 1   iso_code                 9926 non-null   object \n",
      " 2   date                     9926 non-null   object \n",
      " 3   total_vaccinations       5997 non-null   float64\n",
      " 4   people_vaccinated        5373 non-null   float64\n",
      " 5   people_fully_vaccinated  3738 non-null   float64\n",
      " 6   daily_vaccinations_raw   5019 non-null   float64\n",
      " 7   daily_vaccinations       9743 non-null   float64\n",
      "dtypes: float64(5), object(3)\n",
      "memory usage: 697.9+ KB\n"
     ]
    }
   ],
   "source": [
    "data.info()"
   ]
  },
  {
   "cell_type": "code",
   "execution_count": null,
   "metadata": {
    "ExecuteTime": {
     "end_time": "2021-04-07T00:15:43.231454Z",
     "start_time": "2021-04-07T00:15:43.218411Z"
    }
   },
   "outputs": [],
   "source": [
    "# deal with null / missing values\n",
    "# PCA\n",
    "# Cluster"
   ]
  },
  {
   "cell_type": "code",
   "execution_count": null,
   "metadata": {
    "ExecuteTime": {
     "end_time": "2021-04-07T00:16:32.546555Z",
     "start_time": "2021-04-07T00:16:32.516276Z"
    }
   },
   "outputs": [],
   "source": []
  },
  {
   "cell_type": "code",
   "execution_count": null,
   "metadata": {},
   "outputs": [],
   "source": []
  }
 ],
 "metadata": {
  "kernelspec": {
   "display_name": "Python 3",
   "language": "python",
   "name": "python3"
  },
  "language_info": {
   "codemirror_mode": {
    "name": "ipython",
    "version": 3
   },
   "file_extension": ".py",
   "mimetype": "text/x-python",
   "name": "python",
   "nbconvert_exporter": "python",
   "pygments_lexer": "ipython3",
   "version": "3.8.5"
  },
  "toc": {
   "base_numbering": 1,
   "nav_menu": {},
   "number_sections": true,
   "sideBar": true,
   "skip_h1_title": true,
   "title_cell": "Table of Contents",
   "title_sidebar": "Contents",
   "toc_cell": false,
   "toc_position": {},
   "toc_section_display": true,
   "toc_window_display": false
  },
  "varInspector": {
   "cols": {
    "lenName": 16,
    "lenType": 16,
    "lenVar": 40
   },
   "kernels_config": {
    "python": {
     "delete_cmd_postfix": "",
     "delete_cmd_prefix": "del ",
     "library": "var_list.py",
     "varRefreshCmd": "print(var_dic_list())"
    },
    "r": {
     "delete_cmd_postfix": ") ",
     "delete_cmd_prefix": "rm(",
     "library": "var_list.r",
     "varRefreshCmd": "cat(var_dic_list()) "
    }
   },
   "types_to_exclude": [
    "module",
    "function",
    "builtin_function_or_method",
    "instance",
    "_Feature"
   ],
   "window_display": false
  }
 },
 "nbformat": 4,
 "nbformat_minor": 4
}
