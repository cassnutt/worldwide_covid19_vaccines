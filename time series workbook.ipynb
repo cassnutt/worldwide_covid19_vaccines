{
 "cells": [
  {
   "cell_type": "code",
   "execution_count": null,
   "metadata": {},
   "outputs": [],
   "source": []
  },
  {
   "cell_type": "code",
   "execution_count": null,
   "metadata": {},
   "outputs": [],
   "source": []
  },
  {
   "cell_type": "code",
   "execution_count": null,
   "metadata": {},
   "outputs": [],
   "source": []
  },
  {
   "cell_type": "markdown",
   "metadata": {},
   "source": [
    "### Extras, Notes:"
   ]
  },
  {
   "cell_type": "code",
   "execution_count": 99,
   "metadata": {
    "ExecuteTime": {
     "end_time": "2021-04-13T19:47:28.828182Z",
     "start_time": "2021-04-13T19:47:28.118903Z"
    },
    "scrolled": true
   },
   "outputs": [
    {
     "ename": "NameError",
     "evalue": "name 'asdfasdfasdf' is not defined",
     "output_type": "error",
     "traceback": [
      "\u001b[0;31m---------------------------------------------------------------------------\u001b[0m",
      "\u001b[0;31mNameError\u001b[0m                                 Traceback (most recent call last)",
      "\u001b[0;32m<ipython-input-99-e4e47ef05843>\u001b[0m in \u001b[0;36m<module>\u001b[0;34m\u001b[0m\n\u001b[0;32m----> 1\u001b[0;31m \u001b[0masdfasdfasdf\u001b[0m\u001b[0;34m\u001b[0m\u001b[0;34m\u001b[0m\u001b[0m\n\u001b[0m",
      "\u001b[0;31mNameError\u001b[0m: name 'asdfasdfasdf' is not defined"
     ]
    }
   ],
   "source": [
    "asdfasdfasdf"
   ]
  },
  {
   "cell_type": "markdown",
   "metadata": {},
   "source": [
    "#### LSTM with Standardized Data"
   ]
  },
  {
   "cell_type": "code",
   "execution_count": 86,
   "metadata": {
    "ExecuteTime": {
     "end_time": "2021-04-13T19:46:44.425818Z",
     "start_time": "2021-04-13T19:46:44.423067Z"
    }
   },
   "outputs": [],
   "source": [
    "X = world_df.values\n",
    "X = X.reshape((-1,1))"
   ]
  },
  {
   "cell_type": "code",
   "execution_count": 87,
   "metadata": {
    "ExecuteTime": {
     "end_time": "2021-04-13T19:46:44.432947Z",
     "start_time": "2021-04-13T19:46:44.428325Z"
    }
   },
   "outputs": [],
   "source": [
    "split_percent = 0.9\n",
    "split = int(split_percent * len(X))\n",
    "\n",
    "X_train = X[:split]\n",
    "X_test = X[split:]\n",
    "\n",
    "date_train = world_df.index[:split]\n",
    "date_test = world_df.index[split:]\n",
    "\n",
    "# scale with MinMax scaler\n",
    "scaler = MinMaxScaler()\n",
    "X_train = scaler.fit_transform(X_train)\n",
    "X_test = scaler.transform(X_test)"
   ]
  },
  {
   "cell_type": "code",
   "execution_count": 88,
   "metadata": {
    "ExecuteTime": {
     "end_time": "2021-04-13T19:46:44.437690Z",
     "start_time": "2021-04-13T19:46:44.434876Z"
    }
   },
   "outputs": [],
   "source": [
    "look_back = 3\n",
    "train_gen = TimeseriesGenerator(X_train, X_train, length= look_back, batch_size= 1)\n",
    "test_gen = TimeseriesGenerator(X_test, X_test, length= look_back, batch_size= 1)"
   ]
  },
  {
   "cell_type": "code",
   "execution_count": null,
   "metadata": {},
   "outputs": [],
   "source": [
    "# set layers for LSTM model\n",
    "# using tanh and leaky relu for activation\n",
    "lstm_model = Sequential()\n",
    "lstm_model.add(LSTM(32, activation= 'tanh', input_shape= (look_back, 1), \n",
    "                    return_sequences= True))\n",
    "lstm_model.add(LSTM(64, activation= 'tanh', return_sequences= True))\n",
    "lstm_model.add(LSTM(128, return_sequences= True))\n",
    "lstm_model.add(LeakyReLU(alpha=0.1))\n",
    "lstm_model.add(LSTM(256, return_sequences= True))\n",
    "lstm_model.add(LeakyReLU(alpha=0.1))\n",
    "lstm_model.add(LSTM(128, return_sequences= True))\n",
    "lstm_model.add(LeakyReLU(alpha=0.1))\n",
    "lstm_model.add(LSTM(64, activation= 'tanh', return_sequences= True))\n",
    "lstm_model.add(LSTM(32, activation= 'tanh', return_sequences= True))\n",
    "lstm_model.add(LSTM(1, activation= 'tanh'))\n",
    "\n",
    "lstm_model.compile(optimizer= 'Adam', loss= 'mse')\n",
    "\n",
    "lstm_model.summary()"
   ]
  },
  {
   "cell_type": "code",
   "execution_count": 90,
   "metadata": {
    "ExecuteTime": {
     "end_time": "2021-04-13T19:47:17.365426Z",
     "start_time": "2021-04-13T19:46:46.145716Z"
    },
    "collapsed": true
   },
   "outputs": [
    {
     "name": "stdout",
     "output_type": "stream",
     "text": [
      "Epoch 1/25\n",
      "89/89 [==============================] - 1s 12ms/step - loss: 0.1265\n",
      "Epoch 2/25\n",
      "89/89 [==============================] - 1s 9ms/step - loss: 0.0479\n",
      "Epoch 3/25\n",
      "89/89 [==============================] - 1s 9ms/step - loss: 0.0064\n",
      "Epoch 4/25\n",
      "89/89 [==============================] - 1s 10ms/step - loss: 0.0047\n",
      "Epoch 5/25\n",
      "89/89 [==============================] - 1s 12ms/step - loss: 0.0029\n",
      "Epoch 6/25\n",
      "89/89 [==============================] - 1s 12ms/step - loss: 0.0018\n",
      "Epoch 7/25\n",
      "89/89 [==============================] - 1s 11ms/step - loss: 0.0014\n",
      "Epoch 8/25\n",
      "89/89 [==============================] - 1s 10ms/step - loss: 0.0012\n",
      "Epoch 9/25\n",
      "89/89 [==============================] - 1s 9ms/step - loss: 8.3819e-04\n",
      "Epoch 10/25\n",
      "89/89 [==============================] - 1s 9ms/step - loss: 8.2898e-04\n",
      "Epoch 11/25\n",
      "89/89 [==============================] - 1s 9ms/step - loss: 8.3185e-04\n",
      "Epoch 12/25\n",
      "89/89 [==============================] - 1s 9ms/step - loss: 0.0011\n",
      "Epoch 13/25\n",
      "89/89 [==============================] - 1s 9ms/step - loss: 6.5206e-04\n",
      "Epoch 14/25\n",
      "89/89 [==============================] - 1s 9ms/step - loss: 6.9792e-04\n",
      "Epoch 15/25\n",
      "89/89 [==============================] - 1s 9ms/step - loss: 8.2882e-04\n",
      "Epoch 16/25\n",
      "89/89 [==============================] - 1s 9ms/step - loss: 0.0022\n",
      "Epoch 17/25\n",
      "89/89 [==============================] - 1s 9ms/step - loss: 0.0012\n",
      "Epoch 18/25\n",
      "89/89 [==============================] - 1s 9ms/step - loss: 9.2836e-04\n",
      "Epoch 19/25\n",
      "89/89 [==============================] - 1s 9ms/step - loss: 6.9744e-04\n",
      "Epoch 20/25\n",
      "89/89 [==============================] - 1s 9ms/step - loss: 3.5261e-04\n",
      "Epoch 21/25\n",
      "89/89 [==============================] - 1s 11ms/step - loss: 0.0019\n",
      "Epoch 22/25\n",
      "89/89 [==============================] - 1s 14ms/step - loss: 4.9224e-04\n",
      "Epoch 23/25\n",
      "89/89 [==============================] - 1s 10ms/step - loss: 3.9084e-04\n",
      "Epoch 24/25\n",
      "89/89 [==============================] - 1s 9ms/step - loss: 2.8942e-04\n",
      "Epoch 25/25\n",
      "89/89 [==============================] - 1s 10ms/step - loss: 3.7012e-04\n"
     ]
    },
    {
     "data": {
      "text/plain": [
       "<tensorflow.python.keras.callbacks.History at 0x7fdec979a2e0>"
      ]
     },
     "execution_count": 90,
     "metadata": {},
     "output_type": "execute_result"
    }
   ],
   "source": [
    "lstm_model.fit(train_gen, epochs= 25)"
   ]
  },
  {
   "cell_type": "code",
   "execution_count": 91,
   "metadata": {
    "ExecuteTime": {
     "end_time": "2021-04-13T19:47:19.921177Z",
     "start_time": "2021-04-13T19:47:17.367726Z"
    }
   },
   "outputs": [],
   "source": [
    "# predict and inverse_transform X data and reshape for plotting\n",
    "prediction = lstm_model.predict(test_gen)\n",
    "\n",
    "X_test = scaler.inverse_transform(X_test)\n",
    "X_train = scaler.inverse_transform(X_train)\n",
    "\n",
    "X_train = X_train.reshape((-1))\n",
    "X_test = X_test.reshape((-1))"
   ]
  },
  {
   "cell_type": "code",
   "execution_count": 92,
   "metadata": {
    "ExecuteTime": {
     "end_time": "2021-04-13T19:47:19.926860Z",
     "start_time": "2021-04-13T19:47:19.923421Z"
    }
   },
   "outputs": [],
   "source": [
    "# reshape data to inverse transform then again to plot\n",
    "prediction = prediction.reshape(prediction.shape[0], prediction.shape[1])\n",
    "prediction = scaler.inverse_transform(prediction)\n",
    "prediction = prediction.reshape((-1))"
   ]
  },
  {
   "cell_type": "code",
   "execution_count": 93,
   "metadata": {
    "ExecuteTime": {
     "end_time": "2021-04-13T19:47:19.934081Z",
     "start_time": "2021-04-13T19:47:19.929140Z"
    },
    "scrolled": true
   },
   "outputs": [
    {
     "data": {
      "text/plain": [
       "array([1.15187824e+08, 1.15443224e+08, 1.15749552e+08, 1.16041528e+08,\n",
       "       1.16283104e+08, 1.16472872e+08, 1.16607784e+08, 1.16750792e+08],\n",
       "      dtype=float32)"
      ]
     },
     "execution_count": 93,
     "metadata": {},
     "output_type": "execute_result"
    }
   ],
   "source": [
    "prediction"
   ]
  },
  {
   "cell_type": "code",
   "execution_count": 94,
   "metadata": {
    "ExecuteTime": {
     "end_time": "2021-04-13T19:47:19.953882Z",
     "start_time": "2021-04-13T19:47:19.935945Z"
    },
    "collapsed": true
   },
   "outputs": [
    {
     "data": {
      "application/vnd.plotly.v1+json": {
       "config": {
        "plotlyServerURL": "https://plot.ly"
       },
       "data": [
        {
         "mode": "lines",
         "name": "Data",
         "type": "scatter",
         "x": [
          "2020-12-27T00:00:00",
          "2020-12-28T00:00:00",
          "2020-12-29T00:00:00",
          "2020-12-30T00:00:00",
          "2020-12-31T00:00:00",
          "2021-01-01T00:00:00",
          "2021-01-02T00:00:00",
          "2021-01-03T00:00:00",
          "2021-01-04T00:00:00",
          "2021-01-05T00:00:00",
          "2021-01-06T00:00:00",
          "2021-01-07T00:00:00",
          "2021-01-08T00:00:00",
          "2021-01-09T00:00:00",
          "2021-01-10T00:00:00",
          "2021-01-11T00:00:00",
          "2021-01-12T00:00:00",
          "2021-01-13T00:00:00",
          "2021-01-14T00:00:00",
          "2021-01-15T00:00:00",
          "2021-01-16T00:00:00",
          "2021-01-17T00:00:00",
          "2021-01-18T00:00:00",
          "2021-01-19T00:00:00",
          "2021-01-20T00:00:00",
          "2021-01-21T00:00:00",
          "2021-01-22T00:00:00",
          "2021-01-23T00:00:00",
          "2021-01-24T00:00:00",
          "2021-01-25T00:00:00",
          "2021-01-26T00:00:00",
          "2021-01-27T00:00:00",
          "2021-01-28T00:00:00",
          "2021-01-29T00:00:00",
          "2021-01-30T00:00:00",
          "2021-01-31T00:00:00",
          "2021-02-01T00:00:00",
          "2021-02-02T00:00:00",
          "2021-02-03T00:00:00",
          "2021-02-04T00:00:00",
          "2021-02-05T00:00:00",
          "2021-02-06T00:00:00",
          "2021-02-07T00:00:00",
          "2021-02-08T00:00:00",
          "2021-02-09T00:00:00",
          "2021-02-10T00:00:00",
          "2021-02-11T00:00:00",
          "2021-02-12T00:00:00",
          "2021-02-13T00:00:00",
          "2021-02-14T00:00:00",
          "2021-02-15T00:00:00",
          "2021-02-16T00:00:00",
          "2021-02-17T00:00:00",
          "2021-02-18T00:00:00",
          "2021-02-19T00:00:00",
          "2021-02-20T00:00:00",
          "2021-02-21T00:00:00",
          "2021-02-22T00:00:00",
          "2021-02-23T00:00:00",
          "2021-02-24T00:00:00",
          "2021-02-25T00:00:00",
          "2021-02-26T00:00:00",
          "2021-02-27T00:00:00",
          "2021-02-28T00:00:00",
          "2021-03-01T00:00:00",
          "2021-03-02T00:00:00",
          "2021-03-03T00:00:00",
          "2021-03-04T00:00:00",
          "2021-03-05T00:00:00",
          "2021-03-06T00:00:00",
          "2021-03-07T00:00:00",
          "2021-03-08T00:00:00",
          "2021-03-09T00:00:00",
          "2021-03-10T00:00:00",
          "2021-03-11T00:00:00",
          "2021-03-12T00:00:00",
          "2021-03-13T00:00:00",
          "2021-03-14T00:00:00",
          "2021-03-15T00:00:00",
          "2021-03-16T00:00:00",
          "2021-03-17T00:00:00",
          "2021-03-18T00:00:00",
          "2021-03-19T00:00:00",
          "2021-03-20T00:00:00",
          "2021-03-21T00:00:00",
          "2021-03-22T00:00:00",
          "2021-03-23T00:00:00",
          "2021-03-24T00:00:00",
          "2021-03-25T00:00:00",
          "2021-03-26T00:00:00",
          "2021-03-27T00:00:00",
          "2021-03-28T00:00:00"
         ],
         "y": [
          137,
          137,
          726,
          730,
          847,
          847,
          1063,
          23065,
          23067,
          23090,
          23091,
          25271,
          27455,
          29353,
          654747,
          694791,
          746697,
          824723,
          2250681,
          2569908,
          2602046,
          2718048,
          2886791,
          3525129,
          3938993,
          4495896,
          5039565,
          5478021,
          5920412,
          6428913,
          6987073,
          7663679,
          8602864,
          9504428,
          10313161,
          11082845,
          11762403,
          12368984,
          13337852,
          14488720,
          15550196,
          16656400,
          17922260,
          18729312,
          19609741,
          22552286,
          23995521,
          25796177,
          27319815,
          28931851,
          29615364,
          31298228.999999996,
          32847731,
          34633059,
          36830177,
          38388017,
          39928229,
          41149618,
          44676449,
          46352102,
          48492996,
          50786200,
          52730090,
          54234814,
          55138405,
          56660884,
          58830650,
          61257855.99999999,
          63543026.99999999,
          65651184.99999999,
          67025724,
          68871516,
          70658149,
          73205288,
          75706543,
          78805349,
          82174095,
          83287932,
          86216375,
          88774984,
          92308678,
          95074223,
          98277634,
          100625519,
          102332303,
          104978051,
          107574541,
          110475852,
          113418155,
          116758368,
          119254556,
          121413129.99999999
         ]
        },
        {
         "mode": "lines",
         "name": "Prediction",
         "type": "scatter",
         "x": [
          "2021-03-29T00:00:00",
          "2021-03-30T00:00:00",
          "2021-03-31T00:00:00",
          "2021-04-01T00:00:00",
          "2021-04-02T00:00:00",
          "2021-04-03T00:00:00",
          "2021-04-04T00:00:00",
          "2021-04-05T00:00:00",
          "2021-04-06T00:00:00",
          "2021-04-07T00:00:00",
          "2021-04-08T00:00:00"
         ],
         "y": [
          115187824,
          115443224,
          115749552,
          116041528,
          116283104,
          116472872,
          116607784,
          116750792
         ]
        },
        {
         "mode": "lines",
         "name": "Ground Truth",
         "type": "scatter",
         "x": [
          "2021-03-29T00:00:00",
          "2021-03-30T00:00:00",
          "2021-03-31T00:00:00",
          "2021-04-01T00:00:00",
          "2021-04-02T00:00:00",
          "2021-04-03T00:00:00",
          "2021-04-04T00:00:00",
          "2021-04-05T00:00:00",
          "2021-04-06T00:00:00",
          "2021-04-07T00:00:00",
          "2021-04-08T00:00:00"
         ],
         "y": [
          125313783.00000001,
          127930266.00000001,
          131683149.00000001,
          135785128,
          139523746,
          142698025,
          145021166,
          147595945,
          150826834,
          154926238,
          158688128
         ]
        }
       ],
       "layout": {
        "template": {
         "data": {
          "bar": [
           {
            "error_x": {
             "color": "#2a3f5f"
            },
            "error_y": {
             "color": "#2a3f5f"
            },
            "marker": {
             "line": {
              "color": "#E5ECF6",
              "width": 0.5
             }
            },
            "type": "bar"
           }
          ],
          "barpolar": [
           {
            "marker": {
             "line": {
              "color": "#E5ECF6",
              "width": 0.5
             }
            },
            "type": "barpolar"
           }
          ],
          "carpet": [
           {
            "aaxis": {
             "endlinecolor": "#2a3f5f",
             "gridcolor": "white",
             "linecolor": "white",
             "minorgridcolor": "white",
             "startlinecolor": "#2a3f5f"
            },
            "baxis": {
             "endlinecolor": "#2a3f5f",
             "gridcolor": "white",
             "linecolor": "white",
             "minorgridcolor": "white",
             "startlinecolor": "#2a3f5f"
            },
            "type": "carpet"
           }
          ],
          "choropleth": [
           {
            "colorbar": {
             "outlinewidth": 0,
             "ticks": ""
            },
            "type": "choropleth"
           }
          ],
          "contour": [
           {
            "colorbar": {
             "outlinewidth": 0,
             "ticks": ""
            },
            "colorscale": [
             [
              0,
              "#0d0887"
             ],
             [
              0.1111111111111111,
              "#46039f"
             ],
             [
              0.2222222222222222,
              "#7201a8"
             ],
             [
              0.3333333333333333,
              "#9c179e"
             ],
             [
              0.4444444444444444,
              "#bd3786"
             ],
             [
              0.5555555555555556,
              "#d8576b"
             ],
             [
              0.6666666666666666,
              "#ed7953"
             ],
             [
              0.7777777777777778,
              "#fb9f3a"
             ],
             [
              0.8888888888888888,
              "#fdca26"
             ],
             [
              1,
              "#f0f921"
             ]
            ],
            "type": "contour"
           }
          ],
          "contourcarpet": [
           {
            "colorbar": {
             "outlinewidth": 0,
             "ticks": ""
            },
            "type": "contourcarpet"
           }
          ],
          "heatmap": [
           {
            "colorbar": {
             "outlinewidth": 0,
             "ticks": ""
            },
            "colorscale": [
             [
              0,
              "#0d0887"
             ],
             [
              0.1111111111111111,
              "#46039f"
             ],
             [
              0.2222222222222222,
              "#7201a8"
             ],
             [
              0.3333333333333333,
              "#9c179e"
             ],
             [
              0.4444444444444444,
              "#bd3786"
             ],
             [
              0.5555555555555556,
              "#d8576b"
             ],
             [
              0.6666666666666666,
              "#ed7953"
             ],
             [
              0.7777777777777778,
              "#fb9f3a"
             ],
             [
              0.8888888888888888,
              "#fdca26"
             ],
             [
              1,
              "#f0f921"
             ]
            ],
            "type": "heatmap"
           }
          ],
          "heatmapgl": [
           {
            "colorbar": {
             "outlinewidth": 0,
             "ticks": ""
            },
            "colorscale": [
             [
              0,
              "#0d0887"
             ],
             [
              0.1111111111111111,
              "#46039f"
             ],
             [
              0.2222222222222222,
              "#7201a8"
             ],
             [
              0.3333333333333333,
              "#9c179e"
             ],
             [
              0.4444444444444444,
              "#bd3786"
             ],
             [
              0.5555555555555556,
              "#d8576b"
             ],
             [
              0.6666666666666666,
              "#ed7953"
             ],
             [
              0.7777777777777778,
              "#fb9f3a"
             ],
             [
              0.8888888888888888,
              "#fdca26"
             ],
             [
              1,
              "#f0f921"
             ]
            ],
            "type": "heatmapgl"
           }
          ],
          "histogram": [
           {
            "marker": {
             "colorbar": {
              "outlinewidth": 0,
              "ticks": ""
             }
            },
            "type": "histogram"
           }
          ],
          "histogram2d": [
           {
            "colorbar": {
             "outlinewidth": 0,
             "ticks": ""
            },
            "colorscale": [
             [
              0,
              "#0d0887"
             ],
             [
              0.1111111111111111,
              "#46039f"
             ],
             [
              0.2222222222222222,
              "#7201a8"
             ],
             [
              0.3333333333333333,
              "#9c179e"
             ],
             [
              0.4444444444444444,
              "#bd3786"
             ],
             [
              0.5555555555555556,
              "#d8576b"
             ],
             [
              0.6666666666666666,
              "#ed7953"
             ],
             [
              0.7777777777777778,
              "#fb9f3a"
             ],
             [
              0.8888888888888888,
              "#fdca26"
             ],
             [
              1,
              "#f0f921"
             ]
            ],
            "type": "histogram2d"
           }
          ],
          "histogram2dcontour": [
           {
            "colorbar": {
             "outlinewidth": 0,
             "ticks": ""
            },
            "colorscale": [
             [
              0,
              "#0d0887"
             ],
             [
              0.1111111111111111,
              "#46039f"
             ],
             [
              0.2222222222222222,
              "#7201a8"
             ],
             [
              0.3333333333333333,
              "#9c179e"
             ],
             [
              0.4444444444444444,
              "#bd3786"
             ],
             [
              0.5555555555555556,
              "#d8576b"
             ],
             [
              0.6666666666666666,
              "#ed7953"
             ],
             [
              0.7777777777777778,
              "#fb9f3a"
             ],
             [
              0.8888888888888888,
              "#fdca26"
             ],
             [
              1,
              "#f0f921"
             ]
            ],
            "type": "histogram2dcontour"
           }
          ],
          "mesh3d": [
           {
            "colorbar": {
             "outlinewidth": 0,
             "ticks": ""
            },
            "type": "mesh3d"
           }
          ],
          "parcoords": [
           {
            "line": {
             "colorbar": {
              "outlinewidth": 0,
              "ticks": ""
             }
            },
            "type": "parcoords"
           }
          ],
          "pie": [
           {
            "automargin": true,
            "type": "pie"
           }
          ],
          "scatter": [
           {
            "marker": {
             "colorbar": {
              "outlinewidth": 0,
              "ticks": ""
             }
            },
            "type": "scatter"
           }
          ],
          "scatter3d": [
           {
            "line": {
             "colorbar": {
              "outlinewidth": 0,
              "ticks": ""
             }
            },
            "marker": {
             "colorbar": {
              "outlinewidth": 0,
              "ticks": ""
             }
            },
            "type": "scatter3d"
           }
          ],
          "scattercarpet": [
           {
            "marker": {
             "colorbar": {
              "outlinewidth": 0,
              "ticks": ""
             }
            },
            "type": "scattercarpet"
           }
          ],
          "scattergeo": [
           {
            "marker": {
             "colorbar": {
              "outlinewidth": 0,
              "ticks": ""
             }
            },
            "type": "scattergeo"
           }
          ],
          "scattergl": [
           {
            "marker": {
             "colorbar": {
              "outlinewidth": 0,
              "ticks": ""
             }
            },
            "type": "scattergl"
           }
          ],
          "scattermapbox": [
           {
            "marker": {
             "colorbar": {
              "outlinewidth": 0,
              "ticks": ""
             }
            },
            "type": "scattermapbox"
           }
          ],
          "scatterpolar": [
           {
            "marker": {
             "colorbar": {
              "outlinewidth": 0,
              "ticks": ""
             }
            },
            "type": "scatterpolar"
           }
          ],
          "scatterpolargl": [
           {
            "marker": {
             "colorbar": {
              "outlinewidth": 0,
              "ticks": ""
             }
            },
            "type": "scatterpolargl"
           }
          ],
          "scatterternary": [
           {
            "marker": {
             "colorbar": {
              "outlinewidth": 0,
              "ticks": ""
             }
            },
            "type": "scatterternary"
           }
          ],
          "surface": [
           {
            "colorbar": {
             "outlinewidth": 0,
             "ticks": ""
            },
            "colorscale": [
             [
              0,
              "#0d0887"
             ],
             [
              0.1111111111111111,
              "#46039f"
             ],
             [
              0.2222222222222222,
              "#7201a8"
             ],
             [
              0.3333333333333333,
              "#9c179e"
             ],
             [
              0.4444444444444444,
              "#bd3786"
             ],
             [
              0.5555555555555556,
              "#d8576b"
             ],
             [
              0.6666666666666666,
              "#ed7953"
             ],
             [
              0.7777777777777778,
              "#fb9f3a"
             ],
             [
              0.8888888888888888,
              "#fdca26"
             ],
             [
              1,
              "#f0f921"
             ]
            ],
            "type": "surface"
           }
          ],
          "table": [
           {
            "cells": {
             "fill": {
              "color": "#EBF0F8"
             },
             "line": {
              "color": "white"
             }
            },
            "header": {
             "fill": {
              "color": "#C8D4E3"
             },
             "line": {
              "color": "white"
             }
            },
            "type": "table"
           }
          ]
         },
         "layout": {
          "annotationdefaults": {
           "arrowcolor": "#2a3f5f",
           "arrowhead": 0,
           "arrowwidth": 1
          },
          "coloraxis": {
           "colorbar": {
            "outlinewidth": 0,
            "ticks": ""
           }
          },
          "colorscale": {
           "diverging": [
            [
             0,
             "#8e0152"
            ],
            [
             0.1,
             "#c51b7d"
            ],
            [
             0.2,
             "#de77ae"
            ],
            [
             0.3,
             "#f1b6da"
            ],
            [
             0.4,
             "#fde0ef"
            ],
            [
             0.5,
             "#f7f7f7"
            ],
            [
             0.6,
             "#e6f5d0"
            ],
            [
             0.7,
             "#b8e186"
            ],
            [
             0.8,
             "#7fbc41"
            ],
            [
             0.9,
             "#4d9221"
            ],
            [
             1,
             "#276419"
            ]
           ],
           "sequential": [
            [
             0,
             "#0d0887"
            ],
            [
             0.1111111111111111,
             "#46039f"
            ],
            [
             0.2222222222222222,
             "#7201a8"
            ],
            [
             0.3333333333333333,
             "#9c179e"
            ],
            [
             0.4444444444444444,
             "#bd3786"
            ],
            [
             0.5555555555555556,
             "#d8576b"
            ],
            [
             0.6666666666666666,
             "#ed7953"
            ],
            [
             0.7777777777777778,
             "#fb9f3a"
            ],
            [
             0.8888888888888888,
             "#fdca26"
            ],
            [
             1,
             "#f0f921"
            ]
           ],
           "sequentialminus": [
            [
             0,
             "#0d0887"
            ],
            [
             0.1111111111111111,
             "#46039f"
            ],
            [
             0.2222222222222222,
             "#7201a8"
            ],
            [
             0.3333333333333333,
             "#9c179e"
            ],
            [
             0.4444444444444444,
             "#bd3786"
            ],
            [
             0.5555555555555556,
             "#d8576b"
            ],
            [
             0.6666666666666666,
             "#ed7953"
            ],
            [
             0.7777777777777778,
             "#fb9f3a"
            ],
            [
             0.8888888888888888,
             "#fdca26"
            ],
            [
             1,
             "#f0f921"
            ]
           ]
          },
          "colorway": [
           "#636efa",
           "#EF553B",
           "#00cc96",
           "#ab63fa",
           "#FFA15A",
           "#19d3f3",
           "#FF6692",
           "#B6E880",
           "#FF97FF",
           "#FECB52"
          ],
          "font": {
           "color": "#2a3f5f"
          },
          "geo": {
           "bgcolor": "white",
           "lakecolor": "white",
           "landcolor": "#E5ECF6",
           "showlakes": true,
           "showland": true,
           "subunitcolor": "white"
          },
          "hoverlabel": {
           "align": "left"
          },
          "hovermode": "closest",
          "mapbox": {
           "style": "light"
          },
          "paper_bgcolor": "white",
          "plot_bgcolor": "#E5ECF6",
          "polar": {
           "angularaxis": {
            "gridcolor": "white",
            "linecolor": "white",
            "ticks": ""
           },
           "bgcolor": "#E5ECF6",
           "radialaxis": {
            "gridcolor": "white",
            "linecolor": "white",
            "ticks": ""
           }
          },
          "scene": {
           "xaxis": {
            "backgroundcolor": "#E5ECF6",
            "gridcolor": "white",
            "gridwidth": 2,
            "linecolor": "white",
            "showbackground": true,
            "ticks": "",
            "zerolinecolor": "white"
           },
           "yaxis": {
            "backgroundcolor": "#E5ECF6",
            "gridcolor": "white",
            "gridwidth": 2,
            "linecolor": "white",
            "showbackground": true,
            "ticks": "",
            "zerolinecolor": "white"
           },
           "zaxis": {
            "backgroundcolor": "#E5ECF6",
            "gridcolor": "white",
            "gridwidth": 2,
            "linecolor": "white",
            "showbackground": true,
            "ticks": "",
            "zerolinecolor": "white"
           }
          },
          "shapedefaults": {
           "line": {
            "color": "#2a3f5f"
           }
          },
          "ternary": {
           "aaxis": {
            "gridcolor": "white",
            "linecolor": "white",
            "ticks": ""
           },
           "baxis": {
            "gridcolor": "white",
            "linecolor": "white",
            "ticks": ""
           },
           "bgcolor": "#E5ECF6",
           "caxis": {
            "gridcolor": "white",
            "linecolor": "white",
            "ticks": ""
           }
          },
          "title": {
           "x": 0.05
          },
          "xaxis": {
           "automargin": true,
           "gridcolor": "white",
           "linecolor": "white",
           "ticks": "",
           "title": {
            "standoff": 15
           },
           "zerolinecolor": "white",
           "zerolinewidth": 2
          },
          "yaxis": {
           "automargin": true,
           "gridcolor": "white",
           "linecolor": "white",
           "ticks": "",
           "title": {
            "standoff": 15
           },
           "zerolinecolor": "white",
           "zerolinewidth": 2
          }
         }
        },
        "title": {
         "text": "LSTM Prediction"
        },
        "xaxis": {
         "title": {
          "text": "Date"
         }
        },
        "yaxis": {
         "title": {
          "text": "People Fully Vaccinated"
         }
        }
       }
      },
      "text/html": [
       "<div>                            <div id=\"fc55a7f6-975c-41c2-8fe4-05a2925bd7b6\" class=\"plotly-graph-div\" style=\"height:525px; width:100%;\"></div>            <script type=\"text/javascript\">                require([\"plotly\"], function(Plotly) {                    window.PLOTLYENV=window.PLOTLYENV || {};                                    if (document.getElementById(\"fc55a7f6-975c-41c2-8fe4-05a2925bd7b6\")) {                    Plotly.newPlot(                        \"fc55a7f6-975c-41c2-8fe4-05a2925bd7b6\",                        [{\"mode\": \"lines\", \"name\": \"Data\", \"type\": \"scatter\", \"x\": [\"2020-12-27T00:00:00\", \"2020-12-28T00:00:00\", \"2020-12-29T00:00:00\", \"2020-12-30T00:00:00\", \"2020-12-31T00:00:00\", \"2021-01-01T00:00:00\", \"2021-01-02T00:00:00\", \"2021-01-03T00:00:00\", \"2021-01-04T00:00:00\", \"2021-01-05T00:00:00\", \"2021-01-06T00:00:00\", \"2021-01-07T00:00:00\", \"2021-01-08T00:00:00\", \"2021-01-09T00:00:00\", \"2021-01-10T00:00:00\", \"2021-01-11T00:00:00\", \"2021-01-12T00:00:00\", \"2021-01-13T00:00:00\", \"2021-01-14T00:00:00\", \"2021-01-15T00:00:00\", \"2021-01-16T00:00:00\", \"2021-01-17T00:00:00\", \"2021-01-18T00:00:00\", \"2021-01-19T00:00:00\", \"2021-01-20T00:00:00\", \"2021-01-21T00:00:00\", \"2021-01-22T00:00:00\", \"2021-01-23T00:00:00\", \"2021-01-24T00:00:00\", \"2021-01-25T00:00:00\", \"2021-01-26T00:00:00\", \"2021-01-27T00:00:00\", \"2021-01-28T00:00:00\", \"2021-01-29T00:00:00\", \"2021-01-30T00:00:00\", \"2021-01-31T00:00:00\", \"2021-02-01T00:00:00\", \"2021-02-02T00:00:00\", \"2021-02-03T00:00:00\", \"2021-02-04T00:00:00\", \"2021-02-05T00:00:00\", \"2021-02-06T00:00:00\", \"2021-02-07T00:00:00\", \"2021-02-08T00:00:00\", \"2021-02-09T00:00:00\", \"2021-02-10T00:00:00\", \"2021-02-11T00:00:00\", \"2021-02-12T00:00:00\", \"2021-02-13T00:00:00\", \"2021-02-14T00:00:00\", \"2021-02-15T00:00:00\", \"2021-02-16T00:00:00\", \"2021-02-17T00:00:00\", \"2021-02-18T00:00:00\", \"2021-02-19T00:00:00\", \"2021-02-20T00:00:00\", \"2021-02-21T00:00:00\", \"2021-02-22T00:00:00\", \"2021-02-23T00:00:00\", \"2021-02-24T00:00:00\", \"2021-02-25T00:00:00\", \"2021-02-26T00:00:00\", \"2021-02-27T00:00:00\", \"2021-02-28T00:00:00\", \"2021-03-01T00:00:00\", \"2021-03-02T00:00:00\", \"2021-03-03T00:00:00\", \"2021-03-04T00:00:00\", \"2021-03-05T00:00:00\", \"2021-03-06T00:00:00\", \"2021-03-07T00:00:00\", \"2021-03-08T00:00:00\", \"2021-03-09T00:00:00\", \"2021-03-10T00:00:00\", \"2021-03-11T00:00:00\", \"2021-03-12T00:00:00\", \"2021-03-13T00:00:00\", \"2021-03-14T00:00:00\", \"2021-03-15T00:00:00\", \"2021-03-16T00:00:00\", \"2021-03-17T00:00:00\", \"2021-03-18T00:00:00\", \"2021-03-19T00:00:00\", \"2021-03-20T00:00:00\", \"2021-03-21T00:00:00\", \"2021-03-22T00:00:00\", \"2021-03-23T00:00:00\", \"2021-03-24T00:00:00\", \"2021-03-25T00:00:00\", \"2021-03-26T00:00:00\", \"2021-03-27T00:00:00\", \"2021-03-28T00:00:00\"], \"y\": [137.0, 137.0, 726.0, 730.0, 847.0, 847.0, 1063.0, 23065.0, 23067.0, 23090.0, 23091.0, 25271.0, 27455.0, 29353.0, 654747.0, 694791.0, 746697.0, 824723.0, 2250681.0, 2569908.0, 2602046.0, 2718048.0, 2886791.0, 3525129.0, 3938993.0, 4495896.0, 5039565.0, 5478021.0, 5920412.0, 6428913.0, 6987073.0, 7663679.0, 8602864.0, 9504428.0, 10313161.0, 11082845.0, 11762403.0, 12368984.0, 13337852.0, 14488720.0, 15550196.0, 16656400.0, 17922260.0, 18729312.0, 19609741.0, 22552286.0, 23995521.0, 25796177.0, 27319815.0, 28931851.0, 29615364.0, 31298228.999999996, 32847731.0, 34633059.0, 36830177.0, 38388017.0, 39928229.0, 41149618.0, 44676449.0, 46352102.0, 48492996.0, 50786200.0, 52730090.0, 54234814.0, 55138405.0, 56660884.0, 58830650.0, 61257855.99999999, 63543026.99999999, 65651184.99999999, 67025724.0, 68871516.0, 70658149.0, 73205288.0, 75706543.0, 78805349.0, 82174095.0, 83287932.0, 86216375.0, 88774984.0, 92308678.0, 95074223.0, 98277634.0, 100625519.0, 102332303.0, 104978051.0, 107574541.0, 110475852.0, 113418155.0, 116758368.0, 119254556.0, 121413129.99999999]}, {\"mode\": \"lines\", \"name\": \"Prediction\", \"type\": \"scatter\", \"x\": [\"2021-03-29T00:00:00\", \"2021-03-30T00:00:00\", \"2021-03-31T00:00:00\", \"2021-04-01T00:00:00\", \"2021-04-02T00:00:00\", \"2021-04-03T00:00:00\", \"2021-04-04T00:00:00\", \"2021-04-05T00:00:00\", \"2021-04-06T00:00:00\", \"2021-04-07T00:00:00\", \"2021-04-08T00:00:00\"], \"y\": [115187824.0, 115443224.0, 115749552.0, 116041528.0, 116283104.0, 116472872.0, 116607784.0, 116750792.0]}, {\"mode\": \"lines\", \"name\": \"Ground Truth\", \"type\": \"scatter\", \"x\": [\"2021-03-29T00:00:00\", \"2021-03-30T00:00:00\", \"2021-03-31T00:00:00\", \"2021-04-01T00:00:00\", \"2021-04-02T00:00:00\", \"2021-04-03T00:00:00\", \"2021-04-04T00:00:00\", \"2021-04-05T00:00:00\", \"2021-04-06T00:00:00\", \"2021-04-07T00:00:00\", \"2021-04-08T00:00:00\"], \"y\": [125313783.00000001, 127930266.00000001, 131683149.00000001, 135785128.0, 139523746.0, 142698025.0, 145021166.0, 147595945.0, 150826834.0, 154926238.0, 158688128.0]}],                        {\"template\": {\"data\": {\"bar\": [{\"error_x\": {\"color\": \"#2a3f5f\"}, \"error_y\": {\"color\": \"#2a3f5f\"}, \"marker\": {\"line\": {\"color\": \"#E5ECF6\", \"width\": 0.5}}, \"type\": \"bar\"}], \"barpolar\": [{\"marker\": {\"line\": {\"color\": \"#E5ECF6\", \"width\": 0.5}}, \"type\": \"barpolar\"}], \"carpet\": [{\"aaxis\": {\"endlinecolor\": \"#2a3f5f\", \"gridcolor\": \"white\", \"linecolor\": \"white\", \"minorgridcolor\": \"white\", \"startlinecolor\": \"#2a3f5f\"}, \"baxis\": {\"endlinecolor\": \"#2a3f5f\", \"gridcolor\": \"white\", \"linecolor\": \"white\", \"minorgridcolor\": \"white\", \"startlinecolor\": \"#2a3f5f\"}, \"type\": \"carpet\"}], \"choropleth\": [{\"colorbar\": {\"outlinewidth\": 0, \"ticks\": \"\"}, \"type\": \"choropleth\"}], \"contour\": [{\"colorbar\": {\"outlinewidth\": 0, \"ticks\": \"\"}, \"colorscale\": [[0.0, \"#0d0887\"], [0.1111111111111111, \"#46039f\"], [0.2222222222222222, \"#7201a8\"], [0.3333333333333333, \"#9c179e\"], [0.4444444444444444, \"#bd3786\"], [0.5555555555555556, \"#d8576b\"], [0.6666666666666666, \"#ed7953\"], [0.7777777777777778, \"#fb9f3a\"], [0.8888888888888888, \"#fdca26\"], [1.0, \"#f0f921\"]], \"type\": \"contour\"}], \"contourcarpet\": [{\"colorbar\": {\"outlinewidth\": 0, \"ticks\": \"\"}, \"type\": \"contourcarpet\"}], \"heatmap\": [{\"colorbar\": {\"outlinewidth\": 0, \"ticks\": \"\"}, \"colorscale\": [[0.0, \"#0d0887\"], [0.1111111111111111, \"#46039f\"], [0.2222222222222222, \"#7201a8\"], [0.3333333333333333, \"#9c179e\"], [0.4444444444444444, \"#bd3786\"], [0.5555555555555556, \"#d8576b\"], [0.6666666666666666, \"#ed7953\"], [0.7777777777777778, \"#fb9f3a\"], [0.8888888888888888, \"#fdca26\"], [1.0, \"#f0f921\"]], \"type\": \"heatmap\"}], \"heatmapgl\": [{\"colorbar\": {\"outlinewidth\": 0, \"ticks\": \"\"}, \"colorscale\": [[0.0, \"#0d0887\"], [0.1111111111111111, \"#46039f\"], [0.2222222222222222, \"#7201a8\"], [0.3333333333333333, \"#9c179e\"], [0.4444444444444444, \"#bd3786\"], [0.5555555555555556, \"#d8576b\"], [0.6666666666666666, \"#ed7953\"], [0.7777777777777778, \"#fb9f3a\"], [0.8888888888888888, \"#fdca26\"], [1.0, \"#f0f921\"]], \"type\": \"heatmapgl\"}], \"histogram\": [{\"marker\": {\"colorbar\": {\"outlinewidth\": 0, \"ticks\": \"\"}}, \"type\": \"histogram\"}], \"histogram2d\": [{\"colorbar\": {\"outlinewidth\": 0, \"ticks\": \"\"}, \"colorscale\": [[0.0, \"#0d0887\"], [0.1111111111111111, \"#46039f\"], [0.2222222222222222, \"#7201a8\"], [0.3333333333333333, \"#9c179e\"], [0.4444444444444444, \"#bd3786\"], [0.5555555555555556, \"#d8576b\"], [0.6666666666666666, \"#ed7953\"], [0.7777777777777778, \"#fb9f3a\"], [0.8888888888888888, \"#fdca26\"], [1.0, \"#f0f921\"]], \"type\": \"histogram2d\"}], \"histogram2dcontour\": [{\"colorbar\": {\"outlinewidth\": 0, \"ticks\": \"\"}, \"colorscale\": [[0.0, \"#0d0887\"], [0.1111111111111111, \"#46039f\"], [0.2222222222222222, \"#7201a8\"], [0.3333333333333333, \"#9c179e\"], [0.4444444444444444, \"#bd3786\"], [0.5555555555555556, \"#d8576b\"], [0.6666666666666666, \"#ed7953\"], [0.7777777777777778, \"#fb9f3a\"], [0.8888888888888888, \"#fdca26\"], [1.0, \"#f0f921\"]], \"type\": \"histogram2dcontour\"}], \"mesh3d\": [{\"colorbar\": {\"outlinewidth\": 0, \"ticks\": \"\"}, \"type\": \"mesh3d\"}], \"parcoords\": [{\"line\": {\"colorbar\": {\"outlinewidth\": 0, \"ticks\": \"\"}}, \"type\": \"parcoords\"}], \"pie\": [{\"automargin\": true, \"type\": \"pie\"}], \"scatter\": [{\"marker\": {\"colorbar\": {\"outlinewidth\": 0, \"ticks\": \"\"}}, \"type\": \"scatter\"}], \"scatter3d\": [{\"line\": {\"colorbar\": {\"outlinewidth\": 0, \"ticks\": \"\"}}, \"marker\": {\"colorbar\": {\"outlinewidth\": 0, \"ticks\": \"\"}}, \"type\": \"scatter3d\"}], \"scattercarpet\": [{\"marker\": {\"colorbar\": {\"outlinewidth\": 0, \"ticks\": \"\"}}, \"type\": \"scattercarpet\"}], \"scattergeo\": [{\"marker\": {\"colorbar\": {\"outlinewidth\": 0, \"ticks\": \"\"}}, \"type\": \"scattergeo\"}], \"scattergl\": [{\"marker\": {\"colorbar\": {\"outlinewidth\": 0, \"ticks\": \"\"}}, \"type\": \"scattergl\"}], \"scattermapbox\": [{\"marker\": {\"colorbar\": {\"outlinewidth\": 0, \"ticks\": \"\"}}, \"type\": \"scattermapbox\"}], \"scatterpolar\": [{\"marker\": {\"colorbar\": {\"outlinewidth\": 0, \"ticks\": \"\"}}, \"type\": \"scatterpolar\"}], \"scatterpolargl\": [{\"marker\": {\"colorbar\": {\"outlinewidth\": 0, \"ticks\": \"\"}}, \"type\": \"scatterpolargl\"}], \"scatterternary\": [{\"marker\": {\"colorbar\": {\"outlinewidth\": 0, \"ticks\": \"\"}}, \"type\": \"scatterternary\"}], \"surface\": [{\"colorbar\": {\"outlinewidth\": 0, \"ticks\": \"\"}, \"colorscale\": [[0.0, \"#0d0887\"], [0.1111111111111111, \"#46039f\"], [0.2222222222222222, \"#7201a8\"], [0.3333333333333333, \"#9c179e\"], [0.4444444444444444, \"#bd3786\"], [0.5555555555555556, \"#d8576b\"], [0.6666666666666666, \"#ed7953\"], [0.7777777777777778, \"#fb9f3a\"], [0.8888888888888888, \"#fdca26\"], [1.0, \"#f0f921\"]], \"type\": \"surface\"}], \"table\": [{\"cells\": {\"fill\": {\"color\": \"#EBF0F8\"}, \"line\": {\"color\": \"white\"}}, \"header\": {\"fill\": {\"color\": \"#C8D4E3\"}, \"line\": {\"color\": \"white\"}}, \"type\": \"table\"}]}, \"layout\": {\"annotationdefaults\": {\"arrowcolor\": \"#2a3f5f\", \"arrowhead\": 0, \"arrowwidth\": 1}, \"coloraxis\": {\"colorbar\": {\"outlinewidth\": 0, \"ticks\": \"\"}}, \"colorscale\": {\"diverging\": [[0, \"#8e0152\"], [0.1, \"#c51b7d\"], [0.2, \"#de77ae\"], [0.3, \"#f1b6da\"], [0.4, \"#fde0ef\"], [0.5, \"#f7f7f7\"], [0.6, \"#e6f5d0\"], [0.7, \"#b8e186\"], [0.8, \"#7fbc41\"], [0.9, \"#4d9221\"], [1, \"#276419\"]], \"sequential\": [[0.0, \"#0d0887\"], [0.1111111111111111, \"#46039f\"], [0.2222222222222222, \"#7201a8\"], [0.3333333333333333, \"#9c179e\"], [0.4444444444444444, \"#bd3786\"], [0.5555555555555556, \"#d8576b\"], [0.6666666666666666, \"#ed7953\"], [0.7777777777777778, \"#fb9f3a\"], [0.8888888888888888, \"#fdca26\"], [1.0, \"#f0f921\"]], \"sequentialminus\": [[0.0, \"#0d0887\"], [0.1111111111111111, \"#46039f\"], [0.2222222222222222, \"#7201a8\"], [0.3333333333333333, \"#9c179e\"], [0.4444444444444444, \"#bd3786\"], [0.5555555555555556, \"#d8576b\"], [0.6666666666666666, \"#ed7953\"], [0.7777777777777778, \"#fb9f3a\"], [0.8888888888888888, \"#fdca26\"], [1.0, \"#f0f921\"]]}, \"colorway\": [\"#636efa\", \"#EF553B\", \"#00cc96\", \"#ab63fa\", \"#FFA15A\", \"#19d3f3\", \"#FF6692\", \"#B6E880\", \"#FF97FF\", \"#FECB52\"], \"font\": {\"color\": \"#2a3f5f\"}, \"geo\": {\"bgcolor\": \"white\", \"lakecolor\": \"white\", \"landcolor\": \"#E5ECF6\", \"showlakes\": true, \"showland\": true, \"subunitcolor\": \"white\"}, \"hoverlabel\": {\"align\": \"left\"}, \"hovermode\": \"closest\", \"mapbox\": {\"style\": \"light\"}, \"paper_bgcolor\": \"white\", \"plot_bgcolor\": \"#E5ECF6\", \"polar\": {\"angularaxis\": {\"gridcolor\": \"white\", \"linecolor\": \"white\", \"ticks\": \"\"}, \"bgcolor\": \"#E5ECF6\", \"radialaxis\": {\"gridcolor\": \"white\", \"linecolor\": \"white\", \"ticks\": \"\"}}, \"scene\": {\"xaxis\": {\"backgroundcolor\": \"#E5ECF6\", \"gridcolor\": \"white\", \"gridwidth\": 2, \"linecolor\": \"white\", \"showbackground\": true, \"ticks\": \"\", \"zerolinecolor\": \"white\"}, \"yaxis\": {\"backgroundcolor\": \"#E5ECF6\", \"gridcolor\": \"white\", \"gridwidth\": 2, \"linecolor\": \"white\", \"showbackground\": true, \"ticks\": \"\", \"zerolinecolor\": \"white\"}, \"zaxis\": {\"backgroundcolor\": \"#E5ECF6\", \"gridcolor\": \"white\", \"gridwidth\": 2, \"linecolor\": \"white\", \"showbackground\": true, \"ticks\": \"\", \"zerolinecolor\": \"white\"}}, \"shapedefaults\": {\"line\": {\"color\": \"#2a3f5f\"}}, \"ternary\": {\"aaxis\": {\"gridcolor\": \"white\", \"linecolor\": \"white\", \"ticks\": \"\"}, \"baxis\": {\"gridcolor\": \"white\", \"linecolor\": \"white\", \"ticks\": \"\"}, \"bgcolor\": \"#E5ECF6\", \"caxis\": {\"gridcolor\": \"white\", \"linecolor\": \"white\", \"ticks\": \"\"}}, \"title\": {\"x\": 0.05}, \"xaxis\": {\"automargin\": true, \"gridcolor\": \"white\", \"linecolor\": \"white\", \"ticks\": \"\", \"title\": {\"standoff\": 15}, \"zerolinecolor\": \"white\", \"zerolinewidth\": 2}, \"yaxis\": {\"automargin\": true, \"gridcolor\": \"white\", \"linecolor\": \"white\", \"ticks\": \"\", \"title\": {\"standoff\": 15}, \"zerolinecolor\": \"white\", \"zerolinewidth\": 2}}}, \"title\": {\"text\": \"LSTM Prediction\"}, \"xaxis\": {\"title\": {\"text\": \"Date\"}}, \"yaxis\": {\"title\": {\"text\": \"People Fully Vaccinated\"}}},                        {\"responsive\": true}                    ).then(function(){\n",
       "                            \n",
       "var gd = document.getElementById('fc55a7f6-975c-41c2-8fe4-05a2925bd7b6');\n",
       "var x = new MutationObserver(function (mutations, observer) {{\n",
       "        var display = window.getComputedStyle(gd).display;\n",
       "        if (!display || display === 'none') {{\n",
       "            console.log([gd, 'removed!']);\n",
       "            Plotly.purge(gd);\n",
       "            observer.disconnect();\n",
       "        }}\n",
       "}});\n",
       "\n",
       "// Listen for the removal of the full notebook cells\n",
       "var notebookContainer = gd.closest('#notebook-container');\n",
       "if (notebookContainer) {{\n",
       "    x.observe(notebookContainer, {childList: true});\n",
       "}}\n",
       "\n",
       "// Listen for the clearing of the current output cell\n",
       "var outputEl = gd.closest('.output');\n",
       "if (outputEl) {{\n",
       "    x.observe(outputEl, {childList: true});\n",
       "}}\n",
       "\n",
       "                        })                };                });            </script>        </div>"
      ]
     },
     "metadata": {},
     "output_type": "display_data"
    }
   ],
   "source": [
    "# plot data\n",
    "trace1 = go.Scatter(\n",
    "    x = date_train,\n",
    "    y = X_train,\n",
    "    mode = 'lines',\n",
    "    name = 'Data'\n",
    ")\n",
    "trace2 = go.Scatter(\n",
    "    x = date_test,\n",
    "    y = prediction,\n",
    "    mode = 'lines',\n",
    "    name = 'Prediction'\n",
    ")\n",
    "trace3 = go.Scatter(\n",
    "    x = date_test,\n",
    "    y = X_test,\n",
    "    mode='lines',\n",
    "    name = 'Ground Truth'\n",
    ")\n",
    "layout = go.Layout(\n",
    "    title = 'LSTM Prediction',\n",
    "    xaxis = {'title' : 'Date'},\n",
    "    yaxis = {'title' : 'People Fully Vaccinated'}\n",
    ")\n",
    "fig = go.Figure(data=[trace1, trace2, trace3], layout=layout)\n",
    "fig.show()"
   ]
  },
  {
   "cell_type": "code",
   "execution_count": 96,
   "metadata": {
    "ExecuteTime": {
     "end_time": "2021-04-13T19:47:28.077713Z",
     "start_time": "2021-04-13T19:47:19.961755Z"
    }
   },
   "outputs": [],
   "source": [
    "# functions to forecast model\n",
    "X = X.reshape((-1))\n",
    "\n",
    "# predict future values (fully vaccinated people)\n",
    "def predict(num_prediction, model):\n",
    "    prediction_list = X[-look_back:]\n",
    "    \n",
    "    for _ in range(num_prediction):\n",
    "        x = prediction_list[-look_back:]\n",
    "        x = x.reshape((1, look_back, 1))\n",
    "        out = model.predict(x)[0][0]\n",
    "        prediction_list = np.append(prediction_list, out)\n",
    "    prediction_list = prediction_list[look_back-1:]\n",
    "        \n",
    "    return prediction_list\n",
    "\n",
    "# create future dates for x-axis    \n",
    "def predict_dates(num_prediction):\n",
    "    last_date = world_df.index.values[-1]\n",
    "    prediction_dates = pd.date_range(last_date, periods=num_prediction+1).tolist()\n",
    "    return prediction_dates\n",
    "\n",
    "# num_prediction = number of days into future\n",
    "num_prediction = 200\n",
    "forecast = predict(num_prediction, lstm_model)\n",
    "forecast_dates = predict_dates(num_prediction)"
   ]
  },
  {
   "cell_type": "code",
   "execution_count": 89,
   "metadata": {
    "ExecuteTime": {
     "end_time": "2021-04-13T19:46:46.143912Z",
     "start_time": "2021-04-13T19:46:44.439437Z"
    },
    "scrolled": true
   },
   "outputs": [
    {
     "name": "stdout",
     "output_type": "stream",
     "text": [
      "Model: \"sequential_1\"\n",
      "_________________________________________________________________\n",
      "Layer (type)                 Output Shape              Param #   \n",
      "=================================================================\n",
      "lstm_9 (LSTM)                (None, 3, 32)             4352      \n",
      "_________________________________________________________________\n",
      "lstm_10 (LSTM)               (None, 3, 64)             24832     \n",
      "_________________________________________________________________\n",
      "lstm_11 (LSTM)               (None, 3, 128)            98816     \n",
      "_________________________________________________________________\n",
      "leaky_re_lu (LeakyReLU)      (None, 3, 128)            0         \n",
      "_________________________________________________________________\n",
      "lstm_12 (LSTM)               (None, 3, 256)            394240    \n",
      "_________________________________________________________________\n",
      "leaky_re_lu_1 (LeakyReLU)    (None, 3, 256)            0         \n",
      "_________________________________________________________________\n",
      "lstm_13 (LSTM)               (None, 3, 128)            197120    \n",
      "_________________________________________________________________\n",
      "leaky_re_lu_2 (LeakyReLU)    (None, 3, 128)            0         \n",
      "_________________________________________________________________\n",
      "lstm_14 (LSTM)               (None, 3, 64)             49408     \n",
      "_________________________________________________________________\n",
      "lstm_15 (LSTM)               (None, 3, 32)             12416     \n",
      "_________________________________________________________________\n",
      "lstm_16 (LSTM)               (None, 1)                 136       \n",
      "=================================================================\n",
      "Total params: 781,320\n",
      "Trainable params: 781,320\n",
      "Non-trainable params: 0\n",
      "_________________________________________________________________\n"
     ]
    }
   ],
   "source": [
    "lstm_model.fit(train_gen, epochs= 25)\n",
    "\n",
    "# predict and inverse_transform X data and reshape for plotting\n",
    "prediction = lstm_model.predict(test_gen)\n",
    "\n",
    "X_test = scaler.inverse_transform(X_test)\n",
    "X_train = scaler.inverse_transform(X_train)\n",
    "\n",
    "X_train = X_train.reshape((-1))\n",
    "X_test = X_test.reshape((-1))\n",
    "\n",
    "# reshape data to inverse transform then again to plot\n",
    "prediction = prediction.reshape(prediction.shape[0], prediction.shape[1])\n",
    "prediction = scaler.inverse_transform(prediction)\n",
    "prediction = prediction.reshape((-1))\n",
    "\n",
    "prediction\n",
    "\n",
    "# plot data\n",
    "trace1 = go.Scatter(\n",
    "    x = date_train,\n",
    "    y = X_train,\n",
    "    mode = 'lines',\n",
    "    name = 'Data'\n",
    ")\n",
    "trace2 = go.Scatter(\n",
    "    x = date_test,\n",
    "    y = prediction,\n",
    "    mode = 'lines',\n",
    "    name = 'Prediction'\n",
    ")\n",
    "trace3 = go.Scatter(\n",
    "    x = date_test,\n",
    "    y = X_test,\n",
    "    mode='lines',\n",
    "    name = 'Ground Truth'\n",
    ")\n",
    "layout = go.Layout(\n",
    "    title = 'LSTM Prediction',\n",
    "    xaxis = {'title' : 'Date'},\n",
    "    yaxis = {'title' : 'People Fully Vaccinated'}\n",
    ")\n",
    "fig = go.Figure(data=[trace1, trace2, trace3], layout=layout)\n",
    "fig.show()\n",
    "\n",
    "# functions to forecast model\n",
    "X = X.reshape((-1))\n",
    "\n",
    "# predict future values (fully vaccinated people)\n",
    "def predict(num_prediction, model):\n",
    "    prediction_list = X[-look_back:]\n",
    "    \n",
    "    for _ in range(num_prediction):\n",
    "        x = prediction_list[-look_back:]\n",
    "        x = x.reshape((1, look_back, 1))\n",
    "        out = model.predict(x)[0][0]\n",
    "        prediction_list = np.append(prediction_list, out)\n",
    "    prediction_list = prediction_list[look_back-1:]\n",
    "        \n",
    "    return prediction_list\n",
    "\n",
    "# create future dates for x-axis    \n",
    "def predict_dates(num_prediction):\n",
    "    last_date = world_df.index.values[-1]\n",
    "    prediction_dates = pd.date_range(last_date, periods=num_prediction+1).tolist()\n",
    "    return prediction_dates\n",
    "\n",
    "# num_prediction = number of days into future\n",
    "num_prediction = 200\n",
    "forecast = predict(num_prediction, lstm_model)\n",
    "forecast_dates = predict_dates(num_prediction)"
   ]
  },
  {
   "cell_type": "code",
   "execution_count": 97,
   "metadata": {
    "ExecuteTime": {
     "end_time": "2021-04-13T19:47:28.106019Z",
     "start_time": "2021-04-13T19:47:28.078875Z"
    },
    "collapsed": true
   },
   "outputs": [
    {
     "data": {
      "application/vnd.plotly.v1+json": {
       "config": {
        "plotlyServerURL": "https://plot.ly"
       },
       "data": [
        {
         "mode": "lines",
         "name": "Original Data",
         "type": "scatter",
         "x": [
          "2020-12-27T00:00:00",
          "2020-12-28T00:00:00",
          "2020-12-29T00:00:00",
          "2020-12-30T00:00:00",
          "2020-12-31T00:00:00",
          "2021-01-01T00:00:00",
          "2021-01-02T00:00:00",
          "2021-01-03T00:00:00",
          "2021-01-04T00:00:00",
          "2021-01-05T00:00:00",
          "2021-01-06T00:00:00",
          "2021-01-07T00:00:00",
          "2021-01-08T00:00:00",
          "2021-01-09T00:00:00",
          "2021-01-10T00:00:00",
          "2021-01-11T00:00:00",
          "2021-01-12T00:00:00",
          "2021-01-13T00:00:00",
          "2021-01-14T00:00:00",
          "2021-01-15T00:00:00",
          "2021-01-16T00:00:00",
          "2021-01-17T00:00:00",
          "2021-01-18T00:00:00",
          "2021-01-19T00:00:00",
          "2021-01-20T00:00:00",
          "2021-01-21T00:00:00",
          "2021-01-22T00:00:00",
          "2021-01-23T00:00:00",
          "2021-01-24T00:00:00",
          "2021-01-25T00:00:00",
          "2021-01-26T00:00:00",
          "2021-01-27T00:00:00",
          "2021-01-28T00:00:00",
          "2021-01-29T00:00:00",
          "2021-01-30T00:00:00",
          "2021-01-31T00:00:00",
          "2021-02-01T00:00:00",
          "2021-02-02T00:00:00",
          "2021-02-03T00:00:00",
          "2021-02-04T00:00:00",
          "2021-02-05T00:00:00",
          "2021-02-06T00:00:00",
          "2021-02-07T00:00:00",
          "2021-02-08T00:00:00",
          "2021-02-09T00:00:00",
          "2021-02-10T00:00:00",
          "2021-02-11T00:00:00",
          "2021-02-12T00:00:00",
          "2021-02-13T00:00:00",
          "2021-02-14T00:00:00",
          "2021-02-15T00:00:00",
          "2021-02-16T00:00:00",
          "2021-02-17T00:00:00",
          "2021-02-18T00:00:00",
          "2021-02-19T00:00:00",
          "2021-02-20T00:00:00",
          "2021-02-21T00:00:00",
          "2021-02-22T00:00:00",
          "2021-02-23T00:00:00",
          "2021-02-24T00:00:00",
          "2021-02-25T00:00:00",
          "2021-02-26T00:00:00",
          "2021-02-27T00:00:00",
          "2021-02-28T00:00:00",
          "2021-03-01T00:00:00",
          "2021-03-02T00:00:00",
          "2021-03-03T00:00:00",
          "2021-03-04T00:00:00",
          "2021-03-05T00:00:00",
          "2021-03-06T00:00:00",
          "2021-03-07T00:00:00",
          "2021-03-08T00:00:00",
          "2021-03-09T00:00:00",
          "2021-03-10T00:00:00",
          "2021-03-11T00:00:00",
          "2021-03-12T00:00:00",
          "2021-03-13T00:00:00",
          "2021-03-14T00:00:00",
          "2021-03-15T00:00:00",
          "2021-03-16T00:00:00",
          "2021-03-17T00:00:00",
          "2021-03-18T00:00:00",
          "2021-03-19T00:00:00",
          "2021-03-20T00:00:00",
          "2021-03-21T00:00:00",
          "2021-03-22T00:00:00",
          "2021-03-23T00:00:00",
          "2021-03-24T00:00:00",
          "2021-03-25T00:00:00",
          "2021-03-26T00:00:00",
          "2021-03-27T00:00:00",
          "2021-03-28T00:00:00",
          "2021-03-29T00:00:00",
          "2021-03-30T00:00:00",
          "2021-03-31T00:00:00",
          "2021-04-01T00:00:00",
          "2021-04-02T00:00:00",
          "2021-04-03T00:00:00",
          "2021-04-04T00:00:00",
          "2021-04-05T00:00:00",
          "2021-04-06T00:00:00",
          "2021-04-07T00:00:00",
          "2021-04-08T00:00:00"
         ],
         "y": [
          137,
          137,
          726,
          730,
          847,
          847,
          1063,
          23065,
          23067,
          23090,
          23091,
          25271,
          27455,
          29353,
          654747,
          694791,
          746697,
          824723,
          2250681,
          2569908,
          2602046,
          2718048,
          2886791,
          3525129,
          3938993,
          4495896,
          5039565,
          5478021,
          5920412,
          6428913,
          6987073,
          7663679,
          8602864,
          9504428,
          10313161,
          11082845,
          11762403,
          12368984,
          13337852,
          14488720,
          15550196,
          16656400,
          17922260,
          18729312,
          19609741,
          22552286,
          23995521,
          25796177,
          27319815,
          28931851,
          29615364,
          31298229,
          32847731,
          34633059,
          36830177,
          38388017,
          39928229,
          41149618,
          44676449,
          46352102,
          48492996,
          50786200,
          52730090,
          54234814,
          55138405,
          56660884,
          58830650,
          61257856,
          63543027,
          65651185,
          67025724,
          68871516,
          70658149,
          73205288,
          75706543,
          78805349,
          82174095,
          83287932,
          86216375,
          88774984,
          92308678,
          95074223,
          98277634,
          100625519,
          102332303,
          104978051,
          107574541,
          110475852,
          113418155,
          116758368,
          119254556,
          121413130,
          125313783,
          127930266,
          131683149,
          135785128,
          139523746,
          142698025,
          145021166,
          147595945,
          150826834,
          154926238,
          158688128
         ]
        },
        {
         "mode": "lines",
         "name": "Forecasted Data",
         "type": "scatter",
         "x": [
          "2021-04-08T00:00:00",
          "2021-04-09T00:00:00",
          "2021-04-10T00:00:00",
          "2021-04-11T00:00:00",
          "2021-04-12T00:00:00",
          "2021-04-13T00:00:00",
          "2021-04-14T00:00:00",
          "2021-04-15T00:00:00",
          "2021-04-16T00:00:00",
          "2021-04-17T00:00:00",
          "2021-04-18T00:00:00",
          "2021-04-19T00:00:00",
          "2021-04-20T00:00:00",
          "2021-04-21T00:00:00",
          "2021-04-22T00:00:00",
          "2021-04-23T00:00:00",
          "2021-04-24T00:00:00",
          "2021-04-25T00:00:00",
          "2021-04-26T00:00:00",
          "2021-04-27T00:00:00",
          "2021-04-28T00:00:00",
          "2021-04-29T00:00:00",
          "2021-04-30T00:00:00",
          "2021-05-01T00:00:00",
          "2021-05-02T00:00:00",
          "2021-05-03T00:00:00",
          "2021-05-04T00:00:00",
          "2021-05-05T00:00:00",
          "2021-05-06T00:00:00",
          "2021-05-07T00:00:00",
          "2021-05-08T00:00:00",
          "2021-05-09T00:00:00",
          "2021-05-10T00:00:00",
          "2021-05-11T00:00:00",
          "2021-05-12T00:00:00",
          "2021-05-13T00:00:00",
          "2021-05-14T00:00:00",
          "2021-05-15T00:00:00",
          "2021-05-16T00:00:00",
          "2021-05-17T00:00:00",
          "2021-05-18T00:00:00",
          "2021-05-19T00:00:00",
          "2021-05-20T00:00:00",
          "2021-05-21T00:00:00",
          "2021-05-22T00:00:00",
          "2021-05-23T00:00:00",
          "2021-05-24T00:00:00",
          "2021-05-25T00:00:00",
          "2021-05-26T00:00:00",
          "2021-05-27T00:00:00",
          "2021-05-28T00:00:00",
          "2021-05-29T00:00:00",
          "2021-05-30T00:00:00",
          "2021-05-31T00:00:00",
          "2021-06-01T00:00:00",
          "2021-06-02T00:00:00",
          "2021-06-03T00:00:00",
          "2021-06-04T00:00:00",
          "2021-06-05T00:00:00",
          "2021-06-06T00:00:00",
          "2021-06-07T00:00:00",
          "2021-06-08T00:00:00",
          "2021-06-09T00:00:00",
          "2021-06-10T00:00:00",
          "2021-06-11T00:00:00",
          "2021-06-12T00:00:00",
          "2021-06-13T00:00:00",
          "2021-06-14T00:00:00",
          "2021-06-15T00:00:00",
          "2021-06-16T00:00:00",
          "2021-06-17T00:00:00",
          "2021-06-18T00:00:00",
          "2021-06-19T00:00:00",
          "2021-06-20T00:00:00",
          "2021-06-21T00:00:00",
          "2021-06-22T00:00:00",
          "2021-06-23T00:00:00",
          "2021-06-24T00:00:00",
          "2021-06-25T00:00:00",
          "2021-06-26T00:00:00",
          "2021-06-27T00:00:00",
          "2021-06-28T00:00:00",
          "2021-06-29T00:00:00",
          "2021-06-30T00:00:00",
          "2021-07-01T00:00:00",
          "2021-07-02T00:00:00",
          "2021-07-03T00:00:00",
          "2021-07-04T00:00:00",
          "2021-07-05T00:00:00",
          "2021-07-06T00:00:00",
          "2021-07-07T00:00:00",
          "2021-07-08T00:00:00",
          "2021-07-09T00:00:00",
          "2021-07-10T00:00:00",
          "2021-07-11T00:00:00",
          "2021-07-12T00:00:00",
          "2021-07-13T00:00:00",
          "2021-07-14T00:00:00",
          "2021-07-15T00:00:00",
          "2021-07-16T00:00:00",
          "2021-07-17T00:00:00",
          "2021-07-18T00:00:00",
          "2021-07-19T00:00:00",
          "2021-07-20T00:00:00",
          "2021-07-21T00:00:00",
          "2021-07-22T00:00:00",
          "2021-07-23T00:00:00",
          "2021-07-24T00:00:00",
          "2021-07-25T00:00:00",
          "2021-07-26T00:00:00",
          "2021-07-27T00:00:00",
          "2021-07-28T00:00:00",
          "2021-07-29T00:00:00",
          "2021-07-30T00:00:00",
          "2021-07-31T00:00:00",
          "2021-08-01T00:00:00",
          "2021-08-02T00:00:00",
          "2021-08-03T00:00:00",
          "2021-08-04T00:00:00",
          "2021-08-05T00:00:00",
          "2021-08-06T00:00:00",
          "2021-08-07T00:00:00",
          "2021-08-08T00:00:00",
          "2021-08-09T00:00:00",
          "2021-08-10T00:00:00",
          "2021-08-11T00:00:00",
          "2021-08-12T00:00:00",
          "2021-08-13T00:00:00",
          "2021-08-14T00:00:00",
          "2021-08-15T00:00:00",
          "2021-08-16T00:00:00",
          "2021-08-17T00:00:00",
          "2021-08-18T00:00:00",
          "2021-08-19T00:00:00",
          "2021-08-20T00:00:00",
          "2021-08-21T00:00:00",
          "2021-08-22T00:00:00",
          "2021-08-23T00:00:00",
          "2021-08-24T00:00:00",
          "2021-08-25T00:00:00",
          "2021-08-26T00:00:00",
          "2021-08-27T00:00:00",
          "2021-08-28T00:00:00",
          "2021-08-29T00:00:00",
          "2021-08-30T00:00:00",
          "2021-08-31T00:00:00",
          "2021-09-01T00:00:00",
          "2021-09-02T00:00:00",
          "2021-09-03T00:00:00",
          "2021-09-04T00:00:00",
          "2021-09-05T00:00:00",
          "2021-09-06T00:00:00",
          "2021-09-07T00:00:00",
          "2021-09-08T00:00:00",
          "2021-09-09T00:00:00",
          "2021-09-10T00:00:00",
          "2021-09-11T00:00:00",
          "2021-09-12T00:00:00",
          "2021-09-13T00:00:00",
          "2021-09-14T00:00:00",
          "2021-09-15T00:00:00",
          "2021-09-16T00:00:00",
          "2021-09-17T00:00:00",
          "2021-09-18T00:00:00",
          "2021-09-19T00:00:00",
          "2021-09-20T00:00:00",
          "2021-09-21T00:00:00",
          "2021-09-22T00:00:00",
          "2021-09-23T00:00:00",
          "2021-09-24T00:00:00",
          "2021-09-25T00:00:00",
          "2021-09-26T00:00:00",
          "2021-09-27T00:00:00",
          "2021-09-28T00:00:00",
          "2021-09-29T00:00:00",
          "2021-09-30T00:00:00",
          "2021-10-01T00:00:00",
          "2021-10-02T00:00:00",
          "2021-10-03T00:00:00",
          "2021-10-04T00:00:00",
          "2021-10-05T00:00:00",
          "2021-10-06T00:00:00",
          "2021-10-07T00:00:00",
          "2021-10-08T00:00:00",
          "2021-10-09T00:00:00",
          "2021-10-10T00:00:00",
          "2021-10-11T00:00:00",
          "2021-10-12T00:00:00",
          "2021-10-13T00:00:00",
          "2021-10-14T00:00:00",
          "2021-10-15T00:00:00",
          "2021-10-16T00:00:00",
          "2021-10-17T00:00:00",
          "2021-10-18T00:00:00",
          "2021-10-19T00:00:00",
          "2021-10-20T00:00:00",
          "2021-10-21T00:00:00",
          "2021-10-22T00:00:00",
          "2021-10-23T00:00:00",
          "2021-10-24T00:00:00",
          "2021-10-25T00:00:00"
         ],
         "y": [
          158688128,
          0.9790375232696533,
          0.9790377616882324,
          0.9790377616882324,
          0.942062258720398,
          0.9420040249824524,
          0.9406275749206543,
          0.9362198114395142,
          0.9361276626586914,
          0.9357203841209412,
          0.9351391792297363,
          0.935102641582489,
          0.9350168704986572,
          0.9349377155303955,
          0.9349278211593628,
          0.9349122047424316,
          0.9349009990692139,
          0.9348987340927124,
          0.9348961710929871,
          0.9348943829536438,
          0.9348940253257751,
          0.9348936080932617,
          0.9348933696746826,
          0.9348933100700378,
          0.9348932504653931,
          0.9348931312561035,
          0.9348932504653931,
          0.9348931908607483,
          0.9348931908607483,
          0.9348932504653931,
          0.9348930716514587,
          0.9348930716514587,
          0.9348930716514587,
          0.9348931312561035,
          0.9348931312561035,
          0.9348931312561035,
          0.9348930716514587,
          0.9348930716514587,
          0.9348930716514587,
          0.9348931312561035,
          0.9348931312561035,
          0.9348931312561035,
          0.9348930716514587,
          0.9348930716514587,
          0.9348930716514587,
          0.9348931312561035,
          0.9348931312561035,
          0.9348931312561035,
          0.9348930716514587,
          0.9348930716514587,
          0.9348930716514587,
          0.9348931312561035,
          0.9348931312561035,
          0.9348931312561035,
          0.9348930716514587,
          0.9348930716514587,
          0.9348930716514587,
          0.9348931312561035,
          0.9348931312561035,
          0.9348931312561035,
          0.9348930716514587,
          0.9348930716514587,
          0.9348930716514587,
          0.9348931312561035,
          0.9348931312561035,
          0.9348931312561035,
          0.9348930716514587,
          0.9348930716514587,
          0.9348930716514587,
          0.9348931312561035,
          0.9348931312561035,
          0.9348931312561035,
          0.9348930716514587,
          0.9348930716514587,
          0.9348930716514587,
          0.9348931312561035,
          0.9348931312561035,
          0.9348931312561035,
          0.9348930716514587,
          0.9348930716514587,
          0.9348930716514587,
          0.9348931312561035,
          0.9348931312561035,
          0.9348931312561035,
          0.9348930716514587,
          0.9348930716514587,
          0.9348930716514587,
          0.9348931312561035,
          0.9348931312561035,
          0.9348931312561035,
          0.9348930716514587,
          0.9348930716514587,
          0.9348930716514587,
          0.9348931312561035,
          0.9348931312561035,
          0.9348931312561035,
          0.9348930716514587,
          0.9348930716514587,
          0.9348930716514587,
          0.9348931312561035,
          0.9348931312561035,
          0.9348931312561035,
          0.9348930716514587,
          0.9348930716514587,
          0.9348930716514587,
          0.9348931312561035,
          0.9348931312561035,
          0.9348931312561035,
          0.9348930716514587,
          0.9348930716514587,
          0.9348930716514587,
          0.9348931312561035,
          0.9348931312561035,
          0.9348931312561035,
          0.9348930716514587,
          0.9348930716514587,
          0.9348930716514587,
          0.9348931312561035,
          0.9348931312561035,
          0.9348931312561035,
          0.9348930716514587,
          0.9348930716514587,
          0.9348930716514587,
          0.9348931312561035,
          0.9348931312561035,
          0.9348931312561035,
          0.9348930716514587,
          0.9348930716514587,
          0.9348930716514587,
          0.9348931312561035,
          0.9348931312561035,
          0.9348931312561035,
          0.9348930716514587,
          0.9348930716514587,
          0.9348930716514587,
          0.9348931312561035,
          0.9348931312561035,
          0.9348931312561035,
          0.9348930716514587,
          0.9348930716514587,
          0.9348930716514587,
          0.9348931312561035,
          0.9348931312561035,
          0.9348931312561035,
          0.9348930716514587,
          0.9348930716514587,
          0.9348930716514587,
          0.9348931312561035,
          0.9348931312561035,
          0.9348931312561035,
          0.9348930716514587,
          0.9348930716514587,
          0.9348930716514587,
          0.9348931312561035,
          0.9348931312561035,
          0.9348931312561035,
          0.9348930716514587,
          0.9348930716514587,
          0.9348930716514587,
          0.9348931312561035,
          0.9348931312561035,
          0.9348931312561035,
          0.9348930716514587,
          0.9348930716514587,
          0.9348930716514587,
          0.9348931312561035,
          0.9348931312561035,
          0.9348931312561035,
          0.9348930716514587,
          0.9348930716514587,
          0.9348930716514587,
          0.9348931312561035,
          0.9348931312561035,
          0.9348931312561035,
          0.9348930716514587,
          0.9348930716514587,
          0.9348930716514587,
          0.9348931312561035,
          0.9348931312561035,
          0.9348931312561035,
          0.9348930716514587,
          0.9348930716514587,
          0.9348930716514587,
          0.9348931312561035,
          0.9348931312561035,
          0.9348931312561035,
          0.9348930716514587,
          0.9348930716514587,
          0.9348930716514587,
          0.9348931312561035,
          0.9348931312561035,
          0.9348931312561035,
          0.9348930716514587,
          0.9348930716514587,
          0.9348930716514587,
          0.9348931312561035,
          0.9348931312561035,
          0.9348931312561035,
          0.9348930716514587,
          0.9348930716514587,
          0.9348930716514587
         ]
        }
       ],
       "layout": {
        "template": {
         "data": {
          "bar": [
           {
            "error_x": {
             "color": "#2a3f5f"
            },
            "error_y": {
             "color": "#2a3f5f"
            },
            "marker": {
             "line": {
              "color": "#E5ECF6",
              "width": 0.5
             }
            },
            "type": "bar"
           }
          ],
          "barpolar": [
           {
            "marker": {
             "line": {
              "color": "#E5ECF6",
              "width": 0.5
             }
            },
            "type": "barpolar"
           }
          ],
          "carpet": [
           {
            "aaxis": {
             "endlinecolor": "#2a3f5f",
             "gridcolor": "white",
             "linecolor": "white",
             "minorgridcolor": "white",
             "startlinecolor": "#2a3f5f"
            },
            "baxis": {
             "endlinecolor": "#2a3f5f",
             "gridcolor": "white",
             "linecolor": "white",
             "minorgridcolor": "white",
             "startlinecolor": "#2a3f5f"
            },
            "type": "carpet"
           }
          ],
          "choropleth": [
           {
            "colorbar": {
             "outlinewidth": 0,
             "ticks": ""
            },
            "type": "choropleth"
           }
          ],
          "contour": [
           {
            "colorbar": {
             "outlinewidth": 0,
             "ticks": ""
            },
            "colorscale": [
             [
              0,
              "#0d0887"
             ],
             [
              0.1111111111111111,
              "#46039f"
             ],
             [
              0.2222222222222222,
              "#7201a8"
             ],
             [
              0.3333333333333333,
              "#9c179e"
             ],
             [
              0.4444444444444444,
              "#bd3786"
             ],
             [
              0.5555555555555556,
              "#d8576b"
             ],
             [
              0.6666666666666666,
              "#ed7953"
             ],
             [
              0.7777777777777778,
              "#fb9f3a"
             ],
             [
              0.8888888888888888,
              "#fdca26"
             ],
             [
              1,
              "#f0f921"
             ]
            ],
            "type": "contour"
           }
          ],
          "contourcarpet": [
           {
            "colorbar": {
             "outlinewidth": 0,
             "ticks": ""
            },
            "type": "contourcarpet"
           }
          ],
          "heatmap": [
           {
            "colorbar": {
             "outlinewidth": 0,
             "ticks": ""
            },
            "colorscale": [
             [
              0,
              "#0d0887"
             ],
             [
              0.1111111111111111,
              "#46039f"
             ],
             [
              0.2222222222222222,
              "#7201a8"
             ],
             [
              0.3333333333333333,
              "#9c179e"
             ],
             [
              0.4444444444444444,
              "#bd3786"
             ],
             [
              0.5555555555555556,
              "#d8576b"
             ],
             [
              0.6666666666666666,
              "#ed7953"
             ],
             [
              0.7777777777777778,
              "#fb9f3a"
             ],
             [
              0.8888888888888888,
              "#fdca26"
             ],
             [
              1,
              "#f0f921"
             ]
            ],
            "type": "heatmap"
           }
          ],
          "heatmapgl": [
           {
            "colorbar": {
             "outlinewidth": 0,
             "ticks": ""
            },
            "colorscale": [
             [
              0,
              "#0d0887"
             ],
             [
              0.1111111111111111,
              "#46039f"
             ],
             [
              0.2222222222222222,
              "#7201a8"
             ],
             [
              0.3333333333333333,
              "#9c179e"
             ],
             [
              0.4444444444444444,
              "#bd3786"
             ],
             [
              0.5555555555555556,
              "#d8576b"
             ],
             [
              0.6666666666666666,
              "#ed7953"
             ],
             [
              0.7777777777777778,
              "#fb9f3a"
             ],
             [
              0.8888888888888888,
              "#fdca26"
             ],
             [
              1,
              "#f0f921"
             ]
            ],
            "type": "heatmapgl"
           }
          ],
          "histogram": [
           {
            "marker": {
             "colorbar": {
              "outlinewidth": 0,
              "ticks": ""
             }
            },
            "type": "histogram"
           }
          ],
          "histogram2d": [
           {
            "colorbar": {
             "outlinewidth": 0,
             "ticks": ""
            },
            "colorscale": [
             [
              0,
              "#0d0887"
             ],
             [
              0.1111111111111111,
              "#46039f"
             ],
             [
              0.2222222222222222,
              "#7201a8"
             ],
             [
              0.3333333333333333,
              "#9c179e"
             ],
             [
              0.4444444444444444,
              "#bd3786"
             ],
             [
              0.5555555555555556,
              "#d8576b"
             ],
             [
              0.6666666666666666,
              "#ed7953"
             ],
             [
              0.7777777777777778,
              "#fb9f3a"
             ],
             [
              0.8888888888888888,
              "#fdca26"
             ],
             [
              1,
              "#f0f921"
             ]
            ],
            "type": "histogram2d"
           }
          ],
          "histogram2dcontour": [
           {
            "colorbar": {
             "outlinewidth": 0,
             "ticks": ""
            },
            "colorscale": [
             [
              0,
              "#0d0887"
             ],
             [
              0.1111111111111111,
              "#46039f"
             ],
             [
              0.2222222222222222,
              "#7201a8"
             ],
             [
              0.3333333333333333,
              "#9c179e"
             ],
             [
              0.4444444444444444,
              "#bd3786"
             ],
             [
              0.5555555555555556,
              "#d8576b"
             ],
             [
              0.6666666666666666,
              "#ed7953"
             ],
             [
              0.7777777777777778,
              "#fb9f3a"
             ],
             [
              0.8888888888888888,
              "#fdca26"
             ],
             [
              1,
              "#f0f921"
             ]
            ],
            "type": "histogram2dcontour"
           }
          ],
          "mesh3d": [
           {
            "colorbar": {
             "outlinewidth": 0,
             "ticks": ""
            },
            "type": "mesh3d"
           }
          ],
          "parcoords": [
           {
            "line": {
             "colorbar": {
              "outlinewidth": 0,
              "ticks": ""
             }
            },
            "type": "parcoords"
           }
          ],
          "pie": [
           {
            "automargin": true,
            "type": "pie"
           }
          ],
          "scatter": [
           {
            "marker": {
             "colorbar": {
              "outlinewidth": 0,
              "ticks": ""
             }
            },
            "type": "scatter"
           }
          ],
          "scatter3d": [
           {
            "line": {
             "colorbar": {
              "outlinewidth": 0,
              "ticks": ""
             }
            },
            "marker": {
             "colorbar": {
              "outlinewidth": 0,
              "ticks": ""
             }
            },
            "type": "scatter3d"
           }
          ],
          "scattercarpet": [
           {
            "marker": {
             "colorbar": {
              "outlinewidth": 0,
              "ticks": ""
             }
            },
            "type": "scattercarpet"
           }
          ],
          "scattergeo": [
           {
            "marker": {
             "colorbar": {
              "outlinewidth": 0,
              "ticks": ""
             }
            },
            "type": "scattergeo"
           }
          ],
          "scattergl": [
           {
            "marker": {
             "colorbar": {
              "outlinewidth": 0,
              "ticks": ""
             }
            },
            "type": "scattergl"
           }
          ],
          "scattermapbox": [
           {
            "marker": {
             "colorbar": {
              "outlinewidth": 0,
              "ticks": ""
             }
            },
            "type": "scattermapbox"
           }
          ],
          "scatterpolar": [
           {
            "marker": {
             "colorbar": {
              "outlinewidth": 0,
              "ticks": ""
             }
            },
            "type": "scatterpolar"
           }
          ],
          "scatterpolargl": [
           {
            "marker": {
             "colorbar": {
              "outlinewidth": 0,
              "ticks": ""
             }
            },
            "type": "scatterpolargl"
           }
          ],
          "scatterternary": [
           {
            "marker": {
             "colorbar": {
              "outlinewidth": 0,
              "ticks": ""
             }
            },
            "type": "scatterternary"
           }
          ],
          "surface": [
           {
            "colorbar": {
             "outlinewidth": 0,
             "ticks": ""
            },
            "colorscale": [
             [
              0,
              "#0d0887"
             ],
             [
              0.1111111111111111,
              "#46039f"
             ],
             [
              0.2222222222222222,
              "#7201a8"
             ],
             [
              0.3333333333333333,
              "#9c179e"
             ],
             [
              0.4444444444444444,
              "#bd3786"
             ],
             [
              0.5555555555555556,
              "#d8576b"
             ],
             [
              0.6666666666666666,
              "#ed7953"
             ],
             [
              0.7777777777777778,
              "#fb9f3a"
             ],
             [
              0.8888888888888888,
              "#fdca26"
             ],
             [
              1,
              "#f0f921"
             ]
            ],
            "type": "surface"
           }
          ],
          "table": [
           {
            "cells": {
             "fill": {
              "color": "#EBF0F8"
             },
             "line": {
              "color": "white"
             }
            },
            "header": {
             "fill": {
              "color": "#C8D4E3"
             },
             "line": {
              "color": "white"
             }
            },
            "type": "table"
           }
          ]
         },
         "layout": {
          "annotationdefaults": {
           "arrowcolor": "#2a3f5f",
           "arrowhead": 0,
           "arrowwidth": 1
          },
          "coloraxis": {
           "colorbar": {
            "outlinewidth": 0,
            "ticks": ""
           }
          },
          "colorscale": {
           "diverging": [
            [
             0,
             "#8e0152"
            ],
            [
             0.1,
             "#c51b7d"
            ],
            [
             0.2,
             "#de77ae"
            ],
            [
             0.3,
             "#f1b6da"
            ],
            [
             0.4,
             "#fde0ef"
            ],
            [
             0.5,
             "#f7f7f7"
            ],
            [
             0.6,
             "#e6f5d0"
            ],
            [
             0.7,
             "#b8e186"
            ],
            [
             0.8,
             "#7fbc41"
            ],
            [
             0.9,
             "#4d9221"
            ],
            [
             1,
             "#276419"
            ]
           ],
           "sequential": [
            [
             0,
             "#0d0887"
            ],
            [
             0.1111111111111111,
             "#46039f"
            ],
            [
             0.2222222222222222,
             "#7201a8"
            ],
            [
             0.3333333333333333,
             "#9c179e"
            ],
            [
             0.4444444444444444,
             "#bd3786"
            ],
            [
             0.5555555555555556,
             "#d8576b"
            ],
            [
             0.6666666666666666,
             "#ed7953"
            ],
            [
             0.7777777777777778,
             "#fb9f3a"
            ],
            [
             0.8888888888888888,
             "#fdca26"
            ],
            [
             1,
             "#f0f921"
            ]
           ],
           "sequentialminus": [
            [
             0,
             "#0d0887"
            ],
            [
             0.1111111111111111,
             "#46039f"
            ],
            [
             0.2222222222222222,
             "#7201a8"
            ],
            [
             0.3333333333333333,
             "#9c179e"
            ],
            [
             0.4444444444444444,
             "#bd3786"
            ],
            [
             0.5555555555555556,
             "#d8576b"
            ],
            [
             0.6666666666666666,
             "#ed7953"
            ],
            [
             0.7777777777777778,
             "#fb9f3a"
            ],
            [
             0.8888888888888888,
             "#fdca26"
            ],
            [
             1,
             "#f0f921"
            ]
           ]
          },
          "colorway": [
           "#636efa",
           "#EF553B",
           "#00cc96",
           "#ab63fa",
           "#FFA15A",
           "#19d3f3",
           "#FF6692",
           "#B6E880",
           "#FF97FF",
           "#FECB52"
          ],
          "font": {
           "color": "#2a3f5f"
          },
          "geo": {
           "bgcolor": "white",
           "lakecolor": "white",
           "landcolor": "#E5ECF6",
           "showlakes": true,
           "showland": true,
           "subunitcolor": "white"
          },
          "hoverlabel": {
           "align": "left"
          },
          "hovermode": "closest",
          "mapbox": {
           "style": "light"
          },
          "paper_bgcolor": "white",
          "plot_bgcolor": "#E5ECF6",
          "polar": {
           "angularaxis": {
            "gridcolor": "white",
            "linecolor": "white",
            "ticks": ""
           },
           "bgcolor": "#E5ECF6",
           "radialaxis": {
            "gridcolor": "white",
            "linecolor": "white",
            "ticks": ""
           }
          },
          "scene": {
           "xaxis": {
            "backgroundcolor": "#E5ECF6",
            "gridcolor": "white",
            "gridwidth": 2,
            "linecolor": "white",
            "showbackground": true,
            "ticks": "",
            "zerolinecolor": "white"
           },
           "yaxis": {
            "backgroundcolor": "#E5ECF6",
            "gridcolor": "white",
            "gridwidth": 2,
            "linecolor": "white",
            "showbackground": true,
            "ticks": "",
            "zerolinecolor": "white"
           },
           "zaxis": {
            "backgroundcolor": "#E5ECF6",
            "gridcolor": "white",
            "gridwidth": 2,
            "linecolor": "white",
            "showbackground": true,
            "ticks": "",
            "zerolinecolor": "white"
           }
          },
          "shapedefaults": {
           "line": {
            "color": "#2a3f5f"
           }
          },
          "ternary": {
           "aaxis": {
            "gridcolor": "white",
            "linecolor": "white",
            "ticks": ""
           },
           "baxis": {
            "gridcolor": "white",
            "linecolor": "white",
            "ticks": ""
           },
           "bgcolor": "#E5ECF6",
           "caxis": {
            "gridcolor": "white",
            "linecolor": "white",
            "ticks": ""
           }
          },
          "title": {
           "x": 0.05
          },
          "xaxis": {
           "automargin": true,
           "gridcolor": "white",
           "linecolor": "white",
           "ticks": "",
           "title": {
            "standoff": 15
           },
           "zerolinecolor": "white",
           "zerolinewidth": 2
          },
          "yaxis": {
           "automargin": true,
           "gridcolor": "white",
           "linecolor": "white",
           "ticks": "",
           "title": {
            "standoff": 15
           },
           "zerolinecolor": "white",
           "zerolinewidth": 2
          }
         }
        },
        "title": {
         "text": "LSTM Forecast"
        },
        "xaxis": {
         "title": {
          "text": "Date"
         }
        },
        "yaxis": {
         "title": {
          "text": "People Fully Vaccinated"
         }
        }
       }
      },
      "text/html": [
       "<div>                            <div id=\"abaedaff-73c9-41a8-bdc9-6b9d38ced10e\" class=\"plotly-graph-div\" style=\"height:525px; width:100%;\"></div>            <script type=\"text/javascript\">                require([\"plotly\"], function(Plotly) {                    window.PLOTLYENV=window.PLOTLYENV || {};                                    if (document.getElementById(\"abaedaff-73c9-41a8-bdc9-6b9d38ced10e\")) {                    Plotly.newPlot(                        \"abaedaff-73c9-41a8-bdc9-6b9d38ced10e\",                        [{\"mode\": \"lines\", \"name\": \"Original Data\", \"type\": \"scatter\", \"x\": [\"2020-12-27T00:00:00\", \"2020-12-28T00:00:00\", \"2020-12-29T00:00:00\", \"2020-12-30T00:00:00\", \"2020-12-31T00:00:00\", \"2021-01-01T00:00:00\", \"2021-01-02T00:00:00\", \"2021-01-03T00:00:00\", \"2021-01-04T00:00:00\", \"2021-01-05T00:00:00\", \"2021-01-06T00:00:00\", \"2021-01-07T00:00:00\", \"2021-01-08T00:00:00\", \"2021-01-09T00:00:00\", \"2021-01-10T00:00:00\", \"2021-01-11T00:00:00\", \"2021-01-12T00:00:00\", \"2021-01-13T00:00:00\", \"2021-01-14T00:00:00\", \"2021-01-15T00:00:00\", \"2021-01-16T00:00:00\", \"2021-01-17T00:00:00\", \"2021-01-18T00:00:00\", \"2021-01-19T00:00:00\", \"2021-01-20T00:00:00\", \"2021-01-21T00:00:00\", \"2021-01-22T00:00:00\", \"2021-01-23T00:00:00\", \"2021-01-24T00:00:00\", \"2021-01-25T00:00:00\", \"2021-01-26T00:00:00\", \"2021-01-27T00:00:00\", \"2021-01-28T00:00:00\", \"2021-01-29T00:00:00\", \"2021-01-30T00:00:00\", \"2021-01-31T00:00:00\", \"2021-02-01T00:00:00\", \"2021-02-02T00:00:00\", \"2021-02-03T00:00:00\", \"2021-02-04T00:00:00\", \"2021-02-05T00:00:00\", \"2021-02-06T00:00:00\", \"2021-02-07T00:00:00\", \"2021-02-08T00:00:00\", \"2021-02-09T00:00:00\", \"2021-02-10T00:00:00\", \"2021-02-11T00:00:00\", \"2021-02-12T00:00:00\", \"2021-02-13T00:00:00\", \"2021-02-14T00:00:00\", \"2021-02-15T00:00:00\", \"2021-02-16T00:00:00\", \"2021-02-17T00:00:00\", \"2021-02-18T00:00:00\", \"2021-02-19T00:00:00\", \"2021-02-20T00:00:00\", \"2021-02-21T00:00:00\", \"2021-02-22T00:00:00\", \"2021-02-23T00:00:00\", \"2021-02-24T00:00:00\", \"2021-02-25T00:00:00\", \"2021-02-26T00:00:00\", \"2021-02-27T00:00:00\", \"2021-02-28T00:00:00\", \"2021-03-01T00:00:00\", \"2021-03-02T00:00:00\", \"2021-03-03T00:00:00\", \"2021-03-04T00:00:00\", \"2021-03-05T00:00:00\", \"2021-03-06T00:00:00\", \"2021-03-07T00:00:00\", \"2021-03-08T00:00:00\", \"2021-03-09T00:00:00\", \"2021-03-10T00:00:00\", \"2021-03-11T00:00:00\", \"2021-03-12T00:00:00\", \"2021-03-13T00:00:00\", \"2021-03-14T00:00:00\", \"2021-03-15T00:00:00\", \"2021-03-16T00:00:00\", \"2021-03-17T00:00:00\", \"2021-03-18T00:00:00\", \"2021-03-19T00:00:00\", \"2021-03-20T00:00:00\", \"2021-03-21T00:00:00\", \"2021-03-22T00:00:00\", \"2021-03-23T00:00:00\", \"2021-03-24T00:00:00\", \"2021-03-25T00:00:00\", \"2021-03-26T00:00:00\", \"2021-03-27T00:00:00\", \"2021-03-28T00:00:00\", \"2021-03-29T00:00:00\", \"2021-03-30T00:00:00\", \"2021-03-31T00:00:00\", \"2021-04-01T00:00:00\", \"2021-04-02T00:00:00\", \"2021-04-03T00:00:00\", \"2021-04-04T00:00:00\", \"2021-04-05T00:00:00\", \"2021-04-06T00:00:00\", \"2021-04-07T00:00:00\", \"2021-04-08T00:00:00\"], \"y\": [137.0, 137.0, 726.0, 730.0, 847.0, 847.0, 1063.0, 23065.0, 23067.0, 23090.0, 23091.0, 25271.0, 27455.0, 29353.0, 654747.0, 694791.0, 746697.0, 824723.0, 2250681.0, 2569908.0, 2602046.0, 2718048.0, 2886791.0, 3525129.0, 3938993.0, 4495896.0, 5039565.0, 5478021.0, 5920412.0, 6428913.0, 6987073.0, 7663679.0, 8602864.0, 9504428.0, 10313161.0, 11082845.0, 11762403.0, 12368984.0, 13337852.0, 14488720.0, 15550196.0, 16656400.0, 17922260.0, 18729312.0, 19609741.0, 22552286.0, 23995521.0, 25796177.0, 27319815.0, 28931851.0, 29615364.0, 31298229.0, 32847731.0, 34633059.0, 36830177.0, 38388017.0, 39928229.0, 41149618.0, 44676449.0, 46352102.0, 48492996.0, 50786200.0, 52730090.0, 54234814.0, 55138405.0, 56660884.0, 58830650.0, 61257856.0, 63543027.0, 65651185.0, 67025724.0, 68871516.0, 70658149.0, 73205288.0, 75706543.0, 78805349.0, 82174095.0, 83287932.0, 86216375.0, 88774984.0, 92308678.0, 95074223.0, 98277634.0, 100625519.0, 102332303.0, 104978051.0, 107574541.0, 110475852.0, 113418155.0, 116758368.0, 119254556.0, 121413130.0, 125313783.0, 127930266.0, 131683149.0, 135785128.0, 139523746.0, 142698025.0, 145021166.0, 147595945.0, 150826834.0, 154926238.0, 158688128.0]}, {\"mode\": \"lines\", \"name\": \"Forecasted Data\", \"type\": \"scatter\", \"x\": [\"2021-04-08T00:00:00\", \"2021-04-09T00:00:00\", \"2021-04-10T00:00:00\", \"2021-04-11T00:00:00\", \"2021-04-12T00:00:00\", \"2021-04-13T00:00:00\", \"2021-04-14T00:00:00\", \"2021-04-15T00:00:00\", \"2021-04-16T00:00:00\", \"2021-04-17T00:00:00\", \"2021-04-18T00:00:00\", \"2021-04-19T00:00:00\", \"2021-04-20T00:00:00\", \"2021-04-21T00:00:00\", \"2021-04-22T00:00:00\", \"2021-04-23T00:00:00\", \"2021-04-24T00:00:00\", \"2021-04-25T00:00:00\", \"2021-04-26T00:00:00\", \"2021-04-27T00:00:00\", \"2021-04-28T00:00:00\", \"2021-04-29T00:00:00\", \"2021-04-30T00:00:00\", \"2021-05-01T00:00:00\", \"2021-05-02T00:00:00\", \"2021-05-03T00:00:00\", \"2021-05-04T00:00:00\", \"2021-05-05T00:00:00\", \"2021-05-06T00:00:00\", \"2021-05-07T00:00:00\", \"2021-05-08T00:00:00\", \"2021-05-09T00:00:00\", \"2021-05-10T00:00:00\", \"2021-05-11T00:00:00\", \"2021-05-12T00:00:00\", \"2021-05-13T00:00:00\", \"2021-05-14T00:00:00\", \"2021-05-15T00:00:00\", \"2021-05-16T00:00:00\", \"2021-05-17T00:00:00\", \"2021-05-18T00:00:00\", \"2021-05-19T00:00:00\", \"2021-05-20T00:00:00\", \"2021-05-21T00:00:00\", \"2021-05-22T00:00:00\", \"2021-05-23T00:00:00\", \"2021-05-24T00:00:00\", \"2021-05-25T00:00:00\", \"2021-05-26T00:00:00\", \"2021-05-27T00:00:00\", \"2021-05-28T00:00:00\", \"2021-05-29T00:00:00\", \"2021-05-30T00:00:00\", \"2021-05-31T00:00:00\", \"2021-06-01T00:00:00\", \"2021-06-02T00:00:00\", \"2021-06-03T00:00:00\", \"2021-06-04T00:00:00\", \"2021-06-05T00:00:00\", \"2021-06-06T00:00:00\", \"2021-06-07T00:00:00\", \"2021-06-08T00:00:00\", \"2021-06-09T00:00:00\", \"2021-06-10T00:00:00\", \"2021-06-11T00:00:00\", \"2021-06-12T00:00:00\", \"2021-06-13T00:00:00\", \"2021-06-14T00:00:00\", \"2021-06-15T00:00:00\", \"2021-06-16T00:00:00\", \"2021-06-17T00:00:00\", \"2021-06-18T00:00:00\", \"2021-06-19T00:00:00\", \"2021-06-20T00:00:00\", \"2021-06-21T00:00:00\", \"2021-06-22T00:00:00\", \"2021-06-23T00:00:00\", \"2021-06-24T00:00:00\", \"2021-06-25T00:00:00\", \"2021-06-26T00:00:00\", \"2021-06-27T00:00:00\", \"2021-06-28T00:00:00\", \"2021-06-29T00:00:00\", \"2021-06-30T00:00:00\", \"2021-07-01T00:00:00\", \"2021-07-02T00:00:00\", \"2021-07-03T00:00:00\", \"2021-07-04T00:00:00\", \"2021-07-05T00:00:00\", \"2021-07-06T00:00:00\", \"2021-07-07T00:00:00\", \"2021-07-08T00:00:00\", \"2021-07-09T00:00:00\", \"2021-07-10T00:00:00\", \"2021-07-11T00:00:00\", \"2021-07-12T00:00:00\", \"2021-07-13T00:00:00\", \"2021-07-14T00:00:00\", \"2021-07-15T00:00:00\", \"2021-07-16T00:00:00\", \"2021-07-17T00:00:00\", \"2021-07-18T00:00:00\", \"2021-07-19T00:00:00\", \"2021-07-20T00:00:00\", \"2021-07-21T00:00:00\", \"2021-07-22T00:00:00\", \"2021-07-23T00:00:00\", \"2021-07-24T00:00:00\", \"2021-07-25T00:00:00\", \"2021-07-26T00:00:00\", \"2021-07-27T00:00:00\", \"2021-07-28T00:00:00\", \"2021-07-29T00:00:00\", \"2021-07-30T00:00:00\", \"2021-07-31T00:00:00\", \"2021-08-01T00:00:00\", \"2021-08-02T00:00:00\", \"2021-08-03T00:00:00\", \"2021-08-04T00:00:00\", \"2021-08-05T00:00:00\", \"2021-08-06T00:00:00\", \"2021-08-07T00:00:00\", \"2021-08-08T00:00:00\", \"2021-08-09T00:00:00\", \"2021-08-10T00:00:00\", \"2021-08-11T00:00:00\", \"2021-08-12T00:00:00\", \"2021-08-13T00:00:00\", \"2021-08-14T00:00:00\", \"2021-08-15T00:00:00\", \"2021-08-16T00:00:00\", \"2021-08-17T00:00:00\", \"2021-08-18T00:00:00\", \"2021-08-19T00:00:00\", \"2021-08-20T00:00:00\", \"2021-08-21T00:00:00\", \"2021-08-22T00:00:00\", \"2021-08-23T00:00:00\", \"2021-08-24T00:00:00\", \"2021-08-25T00:00:00\", \"2021-08-26T00:00:00\", \"2021-08-27T00:00:00\", \"2021-08-28T00:00:00\", \"2021-08-29T00:00:00\", \"2021-08-30T00:00:00\", \"2021-08-31T00:00:00\", \"2021-09-01T00:00:00\", \"2021-09-02T00:00:00\", \"2021-09-03T00:00:00\", \"2021-09-04T00:00:00\", \"2021-09-05T00:00:00\", \"2021-09-06T00:00:00\", \"2021-09-07T00:00:00\", \"2021-09-08T00:00:00\", \"2021-09-09T00:00:00\", \"2021-09-10T00:00:00\", \"2021-09-11T00:00:00\", \"2021-09-12T00:00:00\", \"2021-09-13T00:00:00\", \"2021-09-14T00:00:00\", \"2021-09-15T00:00:00\", \"2021-09-16T00:00:00\", \"2021-09-17T00:00:00\", \"2021-09-18T00:00:00\", \"2021-09-19T00:00:00\", \"2021-09-20T00:00:00\", \"2021-09-21T00:00:00\", \"2021-09-22T00:00:00\", \"2021-09-23T00:00:00\", \"2021-09-24T00:00:00\", \"2021-09-25T00:00:00\", \"2021-09-26T00:00:00\", \"2021-09-27T00:00:00\", \"2021-09-28T00:00:00\", \"2021-09-29T00:00:00\", \"2021-09-30T00:00:00\", \"2021-10-01T00:00:00\", \"2021-10-02T00:00:00\", \"2021-10-03T00:00:00\", \"2021-10-04T00:00:00\", \"2021-10-05T00:00:00\", \"2021-10-06T00:00:00\", \"2021-10-07T00:00:00\", \"2021-10-08T00:00:00\", \"2021-10-09T00:00:00\", \"2021-10-10T00:00:00\", \"2021-10-11T00:00:00\", \"2021-10-12T00:00:00\", \"2021-10-13T00:00:00\", \"2021-10-14T00:00:00\", \"2021-10-15T00:00:00\", \"2021-10-16T00:00:00\", \"2021-10-17T00:00:00\", \"2021-10-18T00:00:00\", \"2021-10-19T00:00:00\", \"2021-10-20T00:00:00\", \"2021-10-21T00:00:00\", \"2021-10-22T00:00:00\", \"2021-10-23T00:00:00\", \"2021-10-24T00:00:00\", \"2021-10-25T00:00:00\"], \"y\": [158688128.0, 0.9790375232696533, 0.9790377616882324, 0.9790377616882324, 0.942062258720398, 0.9420040249824524, 0.9406275749206543, 0.9362198114395142, 0.9361276626586914, 0.9357203841209412, 0.9351391792297363, 0.935102641582489, 0.9350168704986572, 0.9349377155303955, 0.9349278211593628, 0.9349122047424316, 0.9349009990692139, 0.9348987340927124, 0.9348961710929871, 0.9348943829536438, 0.9348940253257751, 0.9348936080932617, 0.9348933696746826, 0.9348933100700378, 0.9348932504653931, 0.9348931312561035, 0.9348932504653931, 0.9348931908607483, 0.9348931908607483, 0.9348932504653931, 0.9348930716514587, 0.9348930716514587, 0.9348930716514587, 0.9348931312561035, 0.9348931312561035, 0.9348931312561035, 0.9348930716514587, 0.9348930716514587, 0.9348930716514587, 0.9348931312561035, 0.9348931312561035, 0.9348931312561035, 0.9348930716514587, 0.9348930716514587, 0.9348930716514587, 0.9348931312561035, 0.9348931312561035, 0.9348931312561035, 0.9348930716514587, 0.9348930716514587, 0.9348930716514587, 0.9348931312561035, 0.9348931312561035, 0.9348931312561035, 0.9348930716514587, 0.9348930716514587, 0.9348930716514587, 0.9348931312561035, 0.9348931312561035, 0.9348931312561035, 0.9348930716514587, 0.9348930716514587, 0.9348930716514587, 0.9348931312561035, 0.9348931312561035, 0.9348931312561035, 0.9348930716514587, 0.9348930716514587, 0.9348930716514587, 0.9348931312561035, 0.9348931312561035, 0.9348931312561035, 0.9348930716514587, 0.9348930716514587, 0.9348930716514587, 0.9348931312561035, 0.9348931312561035, 0.9348931312561035, 0.9348930716514587, 0.9348930716514587, 0.9348930716514587, 0.9348931312561035, 0.9348931312561035, 0.9348931312561035, 0.9348930716514587, 0.9348930716514587, 0.9348930716514587, 0.9348931312561035, 0.9348931312561035, 0.9348931312561035, 0.9348930716514587, 0.9348930716514587, 0.9348930716514587, 0.9348931312561035, 0.9348931312561035, 0.9348931312561035, 0.9348930716514587, 0.9348930716514587, 0.9348930716514587, 0.9348931312561035, 0.9348931312561035, 0.9348931312561035, 0.9348930716514587, 0.9348930716514587, 0.9348930716514587, 0.9348931312561035, 0.9348931312561035, 0.9348931312561035, 0.9348930716514587, 0.9348930716514587, 0.9348930716514587, 0.9348931312561035, 0.9348931312561035, 0.9348931312561035, 0.9348930716514587, 0.9348930716514587, 0.9348930716514587, 0.9348931312561035, 0.9348931312561035, 0.9348931312561035, 0.9348930716514587, 0.9348930716514587, 0.9348930716514587, 0.9348931312561035, 0.9348931312561035, 0.9348931312561035, 0.9348930716514587, 0.9348930716514587, 0.9348930716514587, 0.9348931312561035, 0.9348931312561035, 0.9348931312561035, 0.9348930716514587, 0.9348930716514587, 0.9348930716514587, 0.9348931312561035, 0.9348931312561035, 0.9348931312561035, 0.9348930716514587, 0.9348930716514587, 0.9348930716514587, 0.9348931312561035, 0.9348931312561035, 0.9348931312561035, 0.9348930716514587, 0.9348930716514587, 0.9348930716514587, 0.9348931312561035, 0.9348931312561035, 0.9348931312561035, 0.9348930716514587, 0.9348930716514587, 0.9348930716514587, 0.9348931312561035, 0.9348931312561035, 0.9348931312561035, 0.9348930716514587, 0.9348930716514587, 0.9348930716514587, 0.9348931312561035, 0.9348931312561035, 0.9348931312561035, 0.9348930716514587, 0.9348930716514587, 0.9348930716514587, 0.9348931312561035, 0.9348931312561035, 0.9348931312561035, 0.9348930716514587, 0.9348930716514587, 0.9348930716514587, 0.9348931312561035, 0.9348931312561035, 0.9348931312561035, 0.9348930716514587, 0.9348930716514587, 0.9348930716514587, 0.9348931312561035, 0.9348931312561035, 0.9348931312561035, 0.9348930716514587, 0.9348930716514587, 0.9348930716514587, 0.9348931312561035, 0.9348931312561035, 0.9348931312561035, 0.9348930716514587, 0.9348930716514587, 0.9348930716514587, 0.9348931312561035, 0.9348931312561035, 0.9348931312561035, 0.9348930716514587, 0.9348930716514587, 0.9348930716514587, 0.9348931312561035, 0.9348931312561035, 0.9348931312561035, 0.9348930716514587, 0.9348930716514587, 0.9348930716514587]}],                        {\"template\": {\"data\": {\"bar\": [{\"error_x\": {\"color\": \"#2a3f5f\"}, \"error_y\": {\"color\": \"#2a3f5f\"}, \"marker\": {\"line\": {\"color\": \"#E5ECF6\", \"width\": 0.5}}, \"type\": \"bar\"}], \"barpolar\": [{\"marker\": {\"line\": {\"color\": \"#E5ECF6\", \"width\": 0.5}}, \"type\": \"barpolar\"}], \"carpet\": [{\"aaxis\": {\"endlinecolor\": \"#2a3f5f\", \"gridcolor\": \"white\", \"linecolor\": \"white\", \"minorgridcolor\": \"white\", \"startlinecolor\": \"#2a3f5f\"}, \"baxis\": {\"endlinecolor\": \"#2a3f5f\", \"gridcolor\": \"white\", \"linecolor\": \"white\", \"minorgridcolor\": \"white\", \"startlinecolor\": \"#2a3f5f\"}, \"type\": \"carpet\"}], \"choropleth\": [{\"colorbar\": {\"outlinewidth\": 0, \"ticks\": \"\"}, \"type\": \"choropleth\"}], \"contour\": [{\"colorbar\": {\"outlinewidth\": 0, \"ticks\": \"\"}, \"colorscale\": [[0.0, \"#0d0887\"], [0.1111111111111111, \"#46039f\"], [0.2222222222222222, \"#7201a8\"], [0.3333333333333333, \"#9c179e\"], [0.4444444444444444, \"#bd3786\"], [0.5555555555555556, \"#d8576b\"], [0.6666666666666666, \"#ed7953\"], [0.7777777777777778, \"#fb9f3a\"], [0.8888888888888888, \"#fdca26\"], [1.0, \"#f0f921\"]], \"type\": \"contour\"}], \"contourcarpet\": [{\"colorbar\": {\"outlinewidth\": 0, \"ticks\": \"\"}, \"type\": \"contourcarpet\"}], \"heatmap\": [{\"colorbar\": {\"outlinewidth\": 0, \"ticks\": \"\"}, \"colorscale\": [[0.0, \"#0d0887\"], [0.1111111111111111, \"#46039f\"], [0.2222222222222222, \"#7201a8\"], [0.3333333333333333, \"#9c179e\"], [0.4444444444444444, \"#bd3786\"], [0.5555555555555556, \"#d8576b\"], [0.6666666666666666, \"#ed7953\"], [0.7777777777777778, \"#fb9f3a\"], [0.8888888888888888, \"#fdca26\"], [1.0, \"#f0f921\"]], \"type\": \"heatmap\"}], \"heatmapgl\": [{\"colorbar\": {\"outlinewidth\": 0, \"ticks\": \"\"}, \"colorscale\": [[0.0, \"#0d0887\"], [0.1111111111111111, \"#46039f\"], [0.2222222222222222, \"#7201a8\"], [0.3333333333333333, \"#9c179e\"], [0.4444444444444444, \"#bd3786\"], [0.5555555555555556, \"#d8576b\"], [0.6666666666666666, \"#ed7953\"], [0.7777777777777778, \"#fb9f3a\"], [0.8888888888888888, \"#fdca26\"], [1.0, \"#f0f921\"]], \"type\": \"heatmapgl\"}], \"histogram\": [{\"marker\": {\"colorbar\": {\"outlinewidth\": 0, \"ticks\": \"\"}}, \"type\": \"histogram\"}], \"histogram2d\": [{\"colorbar\": {\"outlinewidth\": 0, \"ticks\": \"\"}, \"colorscale\": [[0.0, \"#0d0887\"], [0.1111111111111111, \"#46039f\"], [0.2222222222222222, \"#7201a8\"], [0.3333333333333333, \"#9c179e\"], [0.4444444444444444, \"#bd3786\"], [0.5555555555555556, \"#d8576b\"], [0.6666666666666666, \"#ed7953\"], [0.7777777777777778, \"#fb9f3a\"], [0.8888888888888888, \"#fdca26\"], [1.0, \"#f0f921\"]], \"type\": \"histogram2d\"}], \"histogram2dcontour\": [{\"colorbar\": {\"outlinewidth\": 0, \"ticks\": \"\"}, \"colorscale\": [[0.0, \"#0d0887\"], [0.1111111111111111, \"#46039f\"], [0.2222222222222222, \"#7201a8\"], [0.3333333333333333, \"#9c179e\"], [0.4444444444444444, \"#bd3786\"], [0.5555555555555556, \"#d8576b\"], [0.6666666666666666, \"#ed7953\"], [0.7777777777777778, \"#fb9f3a\"], [0.8888888888888888, \"#fdca26\"], [1.0, \"#f0f921\"]], \"type\": \"histogram2dcontour\"}], \"mesh3d\": [{\"colorbar\": {\"outlinewidth\": 0, \"ticks\": \"\"}, \"type\": \"mesh3d\"}], \"parcoords\": [{\"line\": {\"colorbar\": {\"outlinewidth\": 0, \"ticks\": \"\"}}, \"type\": \"parcoords\"}], \"pie\": [{\"automargin\": true, \"type\": \"pie\"}], \"scatter\": [{\"marker\": {\"colorbar\": {\"outlinewidth\": 0, \"ticks\": \"\"}}, \"type\": \"scatter\"}], \"scatter3d\": [{\"line\": {\"colorbar\": {\"outlinewidth\": 0, \"ticks\": \"\"}}, \"marker\": {\"colorbar\": {\"outlinewidth\": 0, \"ticks\": \"\"}}, \"type\": \"scatter3d\"}], \"scattercarpet\": [{\"marker\": {\"colorbar\": {\"outlinewidth\": 0, \"ticks\": \"\"}}, \"type\": \"scattercarpet\"}], \"scattergeo\": [{\"marker\": {\"colorbar\": {\"outlinewidth\": 0, \"ticks\": \"\"}}, \"type\": \"scattergeo\"}], \"scattergl\": [{\"marker\": {\"colorbar\": {\"outlinewidth\": 0, \"ticks\": \"\"}}, \"type\": \"scattergl\"}], \"scattermapbox\": [{\"marker\": {\"colorbar\": {\"outlinewidth\": 0, \"ticks\": \"\"}}, \"type\": \"scattermapbox\"}], \"scatterpolar\": [{\"marker\": {\"colorbar\": {\"outlinewidth\": 0, \"ticks\": \"\"}}, \"type\": \"scatterpolar\"}], \"scatterpolargl\": [{\"marker\": {\"colorbar\": {\"outlinewidth\": 0, \"ticks\": \"\"}}, \"type\": \"scatterpolargl\"}], \"scatterternary\": [{\"marker\": {\"colorbar\": {\"outlinewidth\": 0, \"ticks\": \"\"}}, \"type\": \"scatterternary\"}], \"surface\": [{\"colorbar\": {\"outlinewidth\": 0, \"ticks\": \"\"}, \"colorscale\": [[0.0, \"#0d0887\"], [0.1111111111111111, \"#46039f\"], [0.2222222222222222, \"#7201a8\"], [0.3333333333333333, \"#9c179e\"], [0.4444444444444444, \"#bd3786\"], [0.5555555555555556, \"#d8576b\"], [0.6666666666666666, \"#ed7953\"], [0.7777777777777778, \"#fb9f3a\"], [0.8888888888888888, \"#fdca26\"], [1.0, \"#f0f921\"]], \"type\": \"surface\"}], \"table\": [{\"cells\": {\"fill\": {\"color\": \"#EBF0F8\"}, \"line\": {\"color\": \"white\"}}, \"header\": {\"fill\": {\"color\": \"#C8D4E3\"}, \"line\": {\"color\": \"white\"}}, \"type\": \"table\"}]}, \"layout\": {\"annotationdefaults\": {\"arrowcolor\": \"#2a3f5f\", \"arrowhead\": 0, \"arrowwidth\": 1}, \"coloraxis\": {\"colorbar\": {\"outlinewidth\": 0, \"ticks\": \"\"}}, \"colorscale\": {\"diverging\": [[0, \"#8e0152\"], [0.1, \"#c51b7d\"], [0.2, \"#de77ae\"], [0.3, \"#f1b6da\"], [0.4, \"#fde0ef\"], [0.5, \"#f7f7f7\"], [0.6, \"#e6f5d0\"], [0.7, \"#b8e186\"], [0.8, \"#7fbc41\"], [0.9, \"#4d9221\"], [1, \"#276419\"]], \"sequential\": [[0.0, \"#0d0887\"], [0.1111111111111111, \"#46039f\"], [0.2222222222222222, \"#7201a8\"], [0.3333333333333333, \"#9c179e\"], [0.4444444444444444, \"#bd3786\"], [0.5555555555555556, \"#d8576b\"], [0.6666666666666666, \"#ed7953\"], [0.7777777777777778, \"#fb9f3a\"], [0.8888888888888888, \"#fdca26\"], [1.0, \"#f0f921\"]], \"sequentialminus\": [[0.0, \"#0d0887\"], [0.1111111111111111, \"#46039f\"], [0.2222222222222222, \"#7201a8\"], [0.3333333333333333, \"#9c179e\"], [0.4444444444444444, \"#bd3786\"], [0.5555555555555556, \"#d8576b\"], [0.6666666666666666, \"#ed7953\"], [0.7777777777777778, \"#fb9f3a\"], [0.8888888888888888, \"#fdca26\"], [1.0, \"#f0f921\"]]}, \"colorway\": [\"#636efa\", \"#EF553B\", \"#00cc96\", \"#ab63fa\", \"#FFA15A\", \"#19d3f3\", \"#FF6692\", \"#B6E880\", \"#FF97FF\", \"#FECB52\"], \"font\": {\"color\": \"#2a3f5f\"}, \"geo\": {\"bgcolor\": \"white\", \"lakecolor\": \"white\", \"landcolor\": \"#E5ECF6\", \"showlakes\": true, \"showland\": true, \"subunitcolor\": \"white\"}, \"hoverlabel\": {\"align\": \"left\"}, \"hovermode\": \"closest\", \"mapbox\": {\"style\": \"light\"}, \"paper_bgcolor\": \"white\", \"plot_bgcolor\": \"#E5ECF6\", \"polar\": {\"angularaxis\": {\"gridcolor\": \"white\", \"linecolor\": \"white\", \"ticks\": \"\"}, \"bgcolor\": \"#E5ECF6\", \"radialaxis\": {\"gridcolor\": \"white\", \"linecolor\": \"white\", \"ticks\": \"\"}}, \"scene\": {\"xaxis\": {\"backgroundcolor\": \"#E5ECF6\", \"gridcolor\": \"white\", \"gridwidth\": 2, \"linecolor\": \"white\", \"showbackground\": true, \"ticks\": \"\", \"zerolinecolor\": \"white\"}, \"yaxis\": {\"backgroundcolor\": \"#E5ECF6\", \"gridcolor\": \"white\", \"gridwidth\": 2, \"linecolor\": \"white\", \"showbackground\": true, \"ticks\": \"\", \"zerolinecolor\": \"white\"}, \"zaxis\": {\"backgroundcolor\": \"#E5ECF6\", \"gridcolor\": \"white\", \"gridwidth\": 2, \"linecolor\": \"white\", \"showbackground\": true, \"ticks\": \"\", \"zerolinecolor\": \"white\"}}, \"shapedefaults\": {\"line\": {\"color\": \"#2a3f5f\"}}, \"ternary\": {\"aaxis\": {\"gridcolor\": \"white\", \"linecolor\": \"white\", \"ticks\": \"\"}, \"baxis\": {\"gridcolor\": \"white\", \"linecolor\": \"white\", \"ticks\": \"\"}, \"bgcolor\": \"#E5ECF6\", \"caxis\": {\"gridcolor\": \"white\", \"linecolor\": \"white\", \"ticks\": \"\"}}, \"title\": {\"x\": 0.05}, \"xaxis\": {\"automargin\": true, \"gridcolor\": \"white\", \"linecolor\": \"white\", \"ticks\": \"\", \"title\": {\"standoff\": 15}, \"zerolinecolor\": \"white\", \"zerolinewidth\": 2}, \"yaxis\": {\"automargin\": true, \"gridcolor\": \"white\", \"linecolor\": \"white\", \"ticks\": \"\", \"title\": {\"standoff\": 15}, \"zerolinecolor\": \"white\", \"zerolinewidth\": 2}}}, \"title\": {\"text\": \"LSTM Forecast\"}, \"xaxis\": {\"title\": {\"text\": \"Date\"}}, \"yaxis\": {\"title\": {\"text\": \"People Fully Vaccinated\"}}},                        {\"responsive\": true}                    ).then(function(){\n",
       "                            \n",
       "var gd = document.getElementById('abaedaff-73c9-41a8-bdc9-6b9d38ced10e');\n",
       "var x = new MutationObserver(function (mutations, observer) {{\n",
       "        var display = window.getComputedStyle(gd).display;\n",
       "        if (!display || display === 'none') {{\n",
       "            console.log([gd, 'removed!']);\n",
       "            Plotly.purge(gd);\n",
       "            observer.disconnect();\n",
       "        }}\n",
       "}});\n",
       "\n",
       "// Listen for the removal of the full notebook cells\n",
       "var notebookContainer = gd.closest('#notebook-container');\n",
       "if (notebookContainer) {{\n",
       "    x.observe(notebookContainer, {childList: true});\n",
       "}}\n",
       "\n",
       "// Listen for the clearing of the current output cell\n",
       "var outputEl = gd.closest('.output');\n",
       "if (outputEl) {{\n",
       "    x.observe(outputEl, {childList: true});\n",
       "}}\n",
       "\n",
       "                        })                };                });            </script>        </div>"
      ]
     },
     "metadata": {},
     "output_type": "display_data"
    }
   ],
   "source": [
    "# plot data\n",
    "trace1 = go.Scatter(\n",
    "    x = world_df.index,\n",
    "    y = X,\n",
    "    mode = 'lines',\n",
    "    name = 'Original Data'\n",
    ")\n",
    "trace2 = go.Scatter(\n",
    "    x = forecast_dates,\n",
    "    y = forecast,\n",
    "    mode = 'lines',\n",
    "    name = 'Forecasted Data'\n",
    ")\n",
    "layout = go.Layout(\n",
    "    title = 'LSTM Forecast',\n",
    "    xaxis = {'title' : 'Date'},\n",
    "    yaxis = {'title' : 'People Fully Vaccinated'}\n",
    ")\n",
    "fig = go.Figure(data=[trace1, trace2], layout=layout)\n",
    "fig.show()"
   ]
  },
  {
   "cell_type": "code",
   "execution_count": 95,
   "metadata": {
    "ExecuteTime": {
     "end_time": "2021-04-13T19:47:19.959886Z",
     "start_time": "2021-04-13T19:47:19.955610Z"
    }
   },
   "outputs": [
    {
     "name": "stdout",
     "output_type": "stream",
     "text": [
      "RMSE: 22,047,619.91\n"
     ]
    }
   ],
   "source": [
    "X_test = X_test[:8]\n",
    "lstm_rmse = mean_squared_error(X_test, prediction, squared= False)\n",
    "print('RMSE: {:,.2f}'.format(lstm_rmse))"
   ]
  },
  {
   "cell_type": "code",
   "execution_count": null,
   "metadata": {},
   "outputs": [],
   "source": []
  },
  {
   "cell_type": "code",
   "execution_count": null,
   "metadata": {},
   "outputs": [],
   "source": []
  },
  {
   "cell_type": "code",
   "execution_count": null,
   "metadata": {
    "ExecuteTime": {
     "end_time": "2021-04-13T19:47:28.844180Z",
     "start_time": "2021-04-13T19:45:51.533Z"
    }
   },
   "outputs": [],
   "source": [
    "X = world_df.values"
   ]
  },
  {
   "cell_type": "code",
   "execution_count": null,
   "metadata": {
    "ExecuteTime": {
     "end_time": "2021-04-13T19:47:28.844933Z",
     "start_time": "2021-04-13T19:45:51.536Z"
    }
   },
   "outputs": [],
   "source": [
    "y = world_df.index\n",
    "y = y.strftime('%Y%m%d')\n",
    "y = np.asarray(y, dtype= 'int64')"
   ]
  },
  {
   "cell_type": "code",
   "execution_count": null,
   "metadata": {
    "ExecuteTime": {
     "end_time": "2021-04-13T19:47:28.845798Z",
     "start_time": "2021-04-13T19:45:51.540Z"
    }
   },
   "outputs": [],
   "source": [
    "scaler = MinMaxScaler(feature_range=(0, 1))\n",
    "scaled_X = scaler.fit_transform(X)\n",
    "\n",
    "# y = y.reshape(y.shape[0], 1)\n",
    "# scaled_y = scaler.transform(y)"
   ]
  },
  {
   "cell_type": "code",
   "execution_count": null,
   "metadata": {
    "ExecuteTime": {
     "end_time": "2021-04-13T19:47:28.846783Z",
     "start_time": "2021-04-13T19:45:51.543Z"
    }
   },
   "outputs": [],
   "source": [
    "# scaled_y"
   ]
  },
  {
   "cell_type": "code",
   "execution_count": null,
   "metadata": {
    "ExecuteTime": {
     "end_time": "2021-04-13T19:47:28.847657Z",
     "start_time": "2021-04-13T19:45:51.546Z"
    }
   },
   "outputs": [],
   "source": [
    "# X_train, X_test, y_train, y_test = train_test_split(scaled_X, scaled_y, test_size= 0.1)"
   ]
  },
  {
   "cell_type": "code",
   "execution_count": null,
   "metadata": {
    "ExecuteTime": {
     "end_time": "2021-04-13T19:47:28.848480Z",
     "start_time": "2021-04-13T19:45:51.549Z"
    }
   },
   "outputs": [],
   "source": [
    "X_train, X_test, y_train, y_test = train_test_split(scaled_X, y, test_size= 0.1)"
   ]
  },
  {
   "cell_type": "code",
   "execution_count": null,
   "metadata": {
    "ExecuteTime": {
     "end_time": "2021-04-13T19:47:28.849421Z",
     "start_time": "2021-04-13T19:45:51.552Z"
    }
   },
   "outputs": [],
   "source": [
    "X_train = X_train.reshape((X_train.shape[0], 1, X_train.shape[1]))\n",
    "X_test = X_test.reshape((X_test.shape[0], 1, X_test.shape[1]))"
   ]
  },
  {
   "cell_type": "code",
   "execution_count": null,
   "metadata": {
    "ExecuteTime": {
     "end_time": "2021-04-13T19:47:28.850445Z",
     "start_time": "2021-04-13T19:45:51.556Z"
    }
   },
   "outputs": [],
   "source": [
    "print (X_train.shape, y_train.shape, X_test.shape, y_test.shape)"
   ]
  },
  {
   "cell_type": "code",
   "execution_count": null,
   "metadata": {
    "ExecuteTime": {
     "end_time": "2021-04-13T19:47:28.851212Z",
     "start_time": "2021-04-13T19:45:51.560Z"
    }
   },
   "outputs": [],
   "source": [
    "lstm_model = Sequential()\n",
    "lstm_model.add(LSTM(32, activation= 'relu', input_shape= (X_train.shape[1], X_train.shape[2]), \n",
    "                    return_sequences= True))\n",
    "lstm_model.add(LSTM(64, activation= 'relu', return_sequences= True))\n",
    "lstm_model.add(LSTM(128, activation= 'relu', return_sequences= True))\n",
    "lstm_model.add(LSTM(256, activation= 'relu', return_sequences= True))\n",
    "lstm_model.add(LSTM(128, activation= 'relu', return_sequences= True))\n",
    "lstm_model.add(LSTM(128, activation= 'relu', return_sequences= True))\n",
    "lstm_model.add(LSTM(64, activation= 'relu', return_sequences= True))\n",
    "lstm_model.add(LSTM(32, activation= 'relu', return_sequences= True))\n",
    "# lstm_model.add(Dropout(0.5))\n",
    "# lstm_model.add(Dense(6))\n",
    "# lstm_model.add(Dense(1))\n",
    "lstm_model.add(LSTM(1, activation= 'relu'))\n",
    "lstm_model.compile(optimizer= 'Adam', loss= 'mse')\n",
    "\n",
    "lstm_model.summary()"
   ]
  },
  {
   "cell_type": "code",
   "execution_count": null,
   "metadata": {
    "ExecuteTime": {
     "end_time": "2021-04-13T19:47:28.852105Z",
     "start_time": "2021-04-13T19:45:51.564Z"
    },
    "scrolled": true
   },
   "outputs": [],
   "source": [
    "history = lstm_model.fit(X_train, y_train, epochs= 20, batch_size= 1, validation_data= (X_test, y_test))"
   ]
  },
  {
   "cell_type": "code",
   "execution_count": null,
   "metadata": {
    "ExecuteTime": {
     "end_time": "2021-04-13T19:47:28.853354Z",
     "start_time": "2021-04-13T19:45:51.567Z"
    },
    "scrolled": true
   },
   "outputs": [],
   "source": [
    "plt.plot(history.history['loss'])\n",
    "plt.plot(history.history['val_loss'])\n",
    "plt.title('model loss')\n",
    "plt.ylabel('loss')\n",
    "plt.xlabel('epoch')\n",
    "plt.legend(['train', 'test'], loc='upper right')\n",
    "plt.show()"
   ]
  },
  {
   "cell_type": "code",
   "execution_count": null,
   "metadata": {
    "ExecuteTime": {
     "end_time": "2021-04-13T19:47:28.854171Z",
     "start_time": "2021-04-13T19:45:51.571Z"
    }
   },
   "outputs": [],
   "source": [
    "from numpy import newaxis\n",
    "def predict_sequence_full(model, data, window_size):\n",
    "    #Shift the window by 1 new prediction each time, re-run predictions on new window\n",
    "    curr_frame = data[0]\n",
    "    predicted = []\n",
    "    for i in range(len(data)):\n",
    "        predicted.append(model.predict(curr_frame[newaxis,:,:])[0,0])\n",
    "        curr_frame = curr_frame[1:]\n",
    "        curr_frame = np.insert(curr_frame, [window_size-1], predicted[-1], axis=0)\n",
    "    return predicted\n",
    "\n",
    "def plot_results(predicted_data, true_data): \n",
    "    fig = plt.figure(facecolor='white') \n",
    "    ax = fig.add_subplot(111) \n",
    "    ax.plot(true_data, label='True Data') \n",
    "    plt.plot(predicted_data, label='Prediction') \n",
    "    plt.legend() \n",
    "    plt.show() "
   ]
  },
  {
   "cell_type": "code",
   "execution_count": null,
   "metadata": {
    "ExecuteTime": {
     "end_time": "2021-04-13T19:47:28.855185Z",
     "start_time": "2021-04-13T19:45:51.574Z"
    }
   },
   "outputs": [],
   "source": [
    "X_test[0]"
   ]
  },
  {
   "cell_type": "code",
   "execution_count": null,
   "metadata": {
    "ExecuteTime": {
     "end_time": "2021-04-13T19:47:28.856391Z",
     "start_time": "2021-04-13T19:45:51.578Z"
    }
   },
   "outputs": [],
   "source": [
    "y_test"
   ]
  },
  {
   "cell_type": "code",
   "execution_count": null,
   "metadata": {
    "ExecuteTime": {
     "end_time": "2021-04-13T19:47:28.857914Z",
     "start_time": "2021-04-13T19:45:51.583Z"
    }
   },
   "outputs": [],
   "source": [
    "predictions = predict_sequence_full(lstm_model, X_test, 1)\n",
    "plot_results(predictions, y_test)"
   ]
  },
  {
   "cell_type": "code",
   "execution_count": null,
   "metadata": {},
   "outputs": [],
   "source": []
  },
  {
   "cell_type": "code",
   "execution_count": null,
   "metadata": {
    "ExecuteTime": {
     "end_time": "2021-04-13T19:47:28.858887Z",
     "start_time": "2021-04-13T19:45:51.588Z"
    },
    "scrolled": true
   },
   "outputs": [],
   "source": [
    "y_pred = lstm_model.predict(X_test)\n",
    "X_test = X_test.reshape((X_test.shape[0], 1))\n",
    "\n",
    "print(X_test.shape)\n",
    "y_pred.shape"
   ]
  },
  {
   "cell_type": "code",
   "execution_count": null,
   "metadata": {
    "ExecuteTime": {
     "end_time": "2021-04-13T19:47:28.859808Z",
     "start_time": "2021-04-13T19:45:51.592Z"
    }
   },
   "outputs": [],
   "source": [
    "print (y_pred)\n",
    "# print(X_test.)"
   ]
  },
  {
   "cell_type": "code",
   "execution_count": null,
   "metadata": {
    "ExecuteTime": {
     "end_time": "2021-04-13T19:47:28.861042Z",
     "start_time": "2021-04-13T19:45:51.595Z"
    }
   },
   "outputs": [],
   "source": [
    "X_test_inversed = scaler.inverse_transform(X_test)"
   ]
  },
  {
   "cell_type": "code",
   "execution_count": null,
   "metadata": {
    "ExecuteTime": {
     "end_time": "2021-04-13T19:47:28.862269Z",
     "start_time": "2021-04-13T19:45:51.598Z"
    }
   },
   "outputs": [],
   "source": [
    "def plot_predictions(test,predicted):\n",
    "    plt.plot(test, color='red',label='Real Data')\n",
    "    plt.plot(predicted, color='blue',label='Predicted Data')\n",
    "    plt.title('Real vs Predicted Data')\n",
    "    plt.xlabel('Days')\n",
    "    plt.ylabel('People Vaccinated')\n",
    "    plt.legend()\n",
    "    plt.show()\n",
    "\n",
    "def return_rmse(test,predicted):\n",
    "    rmse = math.sqrt(mean_squared_error(test, predicted))\n",
    "    print(\"The root mean squared error is {}.\".format(rmse))"
   ]
  },
  {
   "cell_type": "code",
   "execution_count": null,
   "metadata": {
    "ExecuteTime": {
     "end_time": "2021-04-13T19:47:28.863367Z",
     "start_time": "2021-04-13T19:45:51.601Z"
    }
   },
   "outputs": [],
   "source": [
    "plot_predictions(X_test_inversed, y_pred)"
   ]
  },
  {
   "cell_type": "code",
   "execution_count": null,
   "metadata": {},
   "outputs": [],
   "source": []
  },
  {
   "cell_type": "code",
   "execution_count": null,
   "metadata": {
    "ExecuteTime": {
     "end_time": "2021-04-13T19:47:28.864257Z",
     "start_time": "2021-04-13T19:45:51.615Z"
    }
   },
   "outputs": [],
   "source": [
    "# np.random.seed(7)\n",
    "# from sklearn.preprocessing import MinMaxScaler"
   ]
  },
  {
   "cell_type": "code",
   "execution_count": null,
   "metadata": {
    "ExecuteTime": {
     "end_time": "2021-04-13T19:47:28.865171Z",
     "start_time": "2021-04-13T19:45:51.618Z"
    }
   },
   "outputs": [],
   "source": [
    "# dataset = world_df.values\n",
    "# dataset = dataset.astype('float32')"
   ]
  },
  {
   "cell_type": "code",
   "execution_count": null,
   "metadata": {
    "ExecuteTime": {
     "end_time": "2021-04-13T19:47:28.866195Z",
     "start_time": "2021-04-13T19:45:51.622Z"
    }
   },
   "outputs": [],
   "source": [
    "# scaler = MinMaxScaler(feature_range=(0,1))\n",
    "# dataset = scaler.fit_transform(dataset)"
   ]
  },
  {
   "cell_type": "code",
   "execution_count": null,
   "metadata": {
    "ExecuteTime": {
     "end_time": "2021-04-13T19:47:28.867073Z",
     "start_time": "2021-04-13T19:45:51.625Z"
    }
   },
   "outputs": [],
   "source": [
    "# train_size = int(len(dataset) * .9)\n",
    "# test_size = len(dataset) - train_size\n",
    "\n",
    "# train, test = dataset[0: train_size, :], dataset[train_size: len(dataset), :]\n",
    "# print(len(train), len(test))"
   ]
  },
  {
   "cell_type": "code",
   "execution_count": null,
   "metadata": {
    "ExecuteTime": {
     "end_time": "2021-04-13T19:47:28.868040Z",
     "start_time": "2021-04-13T19:45:51.628Z"
    }
   },
   "outputs": [],
   "source": [
    "# def create_dataset(dataset, look_back=1):\n",
    "#     dataX, dataY = [], []\n",
    "#     for i in range(len(dataset)-look_back-1):\n",
    "#         a = dataset[i:(i+look_back), 0]\n",
    "#         dataX.append(a)\n",
    "#         dataY.append(dataset[i + look_back, 0])\n",
    "#     return np.array(dataX), np.array(dataY)"
   ]
  },
  {
   "cell_type": "code",
   "execution_count": null,
   "metadata": {
    "ExecuteTime": {
     "end_time": "2021-04-13T19:47:28.868998Z",
     "start_time": "2021-04-13T19:45:51.632Z"
    }
   },
   "outputs": [],
   "source": [
    "# look_back = 1\n",
    "# trainX, trainY = create_dataset(train, look_back)\n",
    "# testX, testY = create_dataset(test, look_back)"
   ]
  },
  {
   "cell_type": "code",
   "execution_count": null,
   "metadata": {
    "ExecuteTime": {
     "end_time": "2021-04-13T19:47:28.869822Z",
     "start_time": "2021-04-13T19:45:51.635Z"
    },
    "scrolled": true
   },
   "outputs": [],
   "source": [
    "# trainX"
   ]
  },
  {
   "cell_type": "code",
   "execution_count": null,
   "metadata": {
    "ExecuteTime": {
     "end_time": "2021-04-13T19:47:28.870790Z",
     "start_time": "2021-04-13T19:45:51.638Z"
    }
   },
   "outputs": [],
   "source": [
    "# reshape input to be [samples, time steps, features]\n",
    "# trainX = np.reshape(trainX, (trainX.shape[0], 1, trainX.shape[1]))\n",
    "# testX = np.reshape(testX, (testX.shape[0], 1, testX.shape[1]))"
   ]
  },
  {
   "cell_type": "code",
   "execution_count": null,
   "metadata": {
    "ExecuteTime": {
     "end_time": "2021-04-13T19:47:28.871822Z",
     "start_time": "2021-04-13T19:45:51.641Z"
    },
    "scrolled": true
   },
   "outputs": [],
   "source": [
    "# lstm_model = Sequential()\n",
    "# lstm_model.add(LSTM(32, activation= 'relu', input_shape= (1, 1), return_sequences= True))\n",
    "# lstm_model.add(LSTM(64, activation= 'relu', return_sequences= True))\n",
    "# lstm_model.add(LSTM(128, activation= 'relu', return_sequences= True))\n",
    "# lstm_model.add(LSTM(64, activation= 'relu', return_sequences= True))\n",
    "# lstm_model.add(LSTM(32, activation= 'relu', return_sequences= True))\n",
    "# # lstm_model.add(Dropout(0.5))\n",
    "# # lstm_model.add(Dense(6))\n",
    "# # lstm_model.add(Dense(1))\n",
    "# lstm_model.add(LSTM(1, activation= 'relu'))\n",
    "# lstm_model.compile(optimizer= 'Adam', loss= 'mse')\n",
    "\n",
    "# lstm_model.summary()"
   ]
  },
  {
   "cell_type": "code",
   "execution_count": null,
   "metadata": {
    "ExecuteTime": {
     "end_time": "2021-04-13T19:47:28.872696Z",
     "start_time": "2021-04-13T19:45:51.644Z"
    },
    "scrolled": true
   },
   "outputs": [],
   "source": [
    "# lstm_model.fit(trainX, trainY, epochs=100, batch_size= 1)"
   ]
  },
  {
   "cell_type": "code",
   "execution_count": null,
   "metadata": {
    "ExecuteTime": {
     "end_time": "2021-04-13T19:47:28.873596Z",
     "start_time": "2021-04-13T19:45:51.647Z"
    }
   },
   "outputs": [],
   "source": [
    "# testY"
   ]
  },
  {
   "cell_type": "code",
   "execution_count": null,
   "metadata": {
    "ExecuteTime": {
     "end_time": "2021-04-13T19:47:28.874462Z",
     "start_time": "2021-04-13T19:45:51.650Z"
    }
   },
   "outputs": [],
   "source": [
    "# make predictions\n",
    "# trainPredict = lstm_model.predict(trainX)\n",
    "# testPredict = lstm_model.predict(testX)\n",
    "# # invert predictions\n",
    "# trainPredict = scaler.inverse_transform(trainPredict)\n",
    "# trainY = scaler.inverse_transform([trainY])\n",
    "# testPredict = scaler.inverse_transform(testPredict)\n",
    "# testY = scaler.inverse_transform([testY])\n",
    "# # calculate root mean squared error\n",
    "# trainScore = math.sqrt(mean_squared_error(trainY[0], trainPredict[:,0]))\n",
    "# print('Train Score: %.2f RMSE' % (trainScore))\n",
    "# testScore = math.sqrt(mean_squared_error(testY[0], testPredict[:,0]))\n",
    "# print('Test Score: %.2f RMSE' % (testScore))"
   ]
  },
  {
   "cell_type": "code",
   "execution_count": null,
   "metadata": {
    "ExecuteTime": {
     "end_time": "2021-04-13T19:47:28.875353Z",
     "start_time": "2021-04-13T19:45:51.654Z"
    }
   },
   "outputs": [],
   "source": [
    "# testPredict"
   ]
  },
  {
   "cell_type": "code",
   "execution_count": null,
   "metadata": {
    "ExecuteTime": {
     "end_time": "2021-04-13T19:47:28.876146Z",
     "start_time": "2021-04-13T19:45:51.657Z"
    }
   },
   "outputs": [],
   "source": [
    "# shift train predictions for plotting\n",
    "# trainPredictPlot = np.empty_like(dataset)\n",
    "# trainPredictPlot[:, :] = np.nan\n",
    "# trainPredictPlot[look_back:len(trainPredict)+look_back, :] = trainPredict\n",
    "# # shift test predictions for plotting\n",
    "# testPredictPlot = np.empty_like(dataset)\n",
    "# testPredictPlot[:, :] = np.nan\n",
    "# testPredictPlot[len(trainPredict)+(look_back*2)+1:len(dataset)-1, :] = testPredict\n",
    "# # plot baseline and predictions\n",
    "# plt.figure(figsize= (12, 7))\n",
    "# plt.plot(scaler.inverse_transform(dataset), label= 'original data')\n",
    "# plt.plot(trainPredictPlot, label= 'pred train')\n",
    "# plt.plot(testPredictPlot, label= 'pred test')\n",
    "# plt.legend()\n",
    "# plt.show()"
   ]
  },
  {
   "cell_type": "code",
   "execution_count": null,
   "metadata": {
    "ExecuteTime": {
     "end_time": "2021-04-13T19:47:28.877044Z",
     "start_time": "2021-04-13T19:45:51.660Z"
    },
    "scrolled": true
   },
   "outputs": [],
   "source": [
    "# scale the data\n",
    "# scaler = StandardScaler()\n",
    "# train_arr = scaler.fit_transform(train)\n",
    "# test_arr = scaler.transform(test)"
   ]
  },
  {
   "cell_type": "code",
   "execution_count": null,
   "metadata": {
    "ExecuteTime": {
     "end_time": "2021-04-13T19:47:28.878017Z",
     "start_time": "2021-04-13T19:45:51.663Z"
    }
   },
   "outputs": [],
   "source": [
    "day_groups = world_df.groupby(pd.Grouper(freq= 'D'))\n",
    "\n",
    "daily_vax = pd.concat([pd.DataFrame(x[1].values) for x in day_groups], axis= 1)\n",
    "daily_df = pd.DataFrame(daily_vax)"
   ]
  },
  {
   "cell_type": "markdown",
   "metadata": {},
   "source": [
    "#### Newer data:"
   ]
  },
  {
   "cell_type": "code",
   "execution_count": null,
   "metadata": {
    "ExecuteTime": {
     "end_time": "2021-04-13T19:47:28.878937Z",
     "start_time": "2021-04-13T19:45:51.667Z"
    }
   },
   "outputs": [],
   "source": [
    "fully_vax_df2 = pd.read_csv('../data/people-fully-vaccinated-covid2.csv')\n",
    "fully_vax_df2['Day'] = pd.to_datetime(fully_vax_df2['Day'])\n",
    "\n",
    "fully_vax_ts2 = fully_vax_df2.copy()\n",
    "fully_vax_ts2.set_index('Day', inplace= True)\n",
    "\n",
    "world_df2 = fully_vax_ts2.where(fully_vax_ts2['Entity'] == 'World')\n",
    "world_df2.dropna(inplace= True)\n",
    "world_df2.drop(['Code', 'Entity'], axis= 1, inplace= True)"
   ]
  },
  {
   "cell_type": "code",
   "execution_count": null,
   "metadata": {
    "ExecuteTime": {
     "end_time": "2021-04-13T19:47:28.879856Z",
     "start_time": "2021-04-13T19:45:51.670Z"
    }
   },
   "outputs": [],
   "source": [
    "world_df2"
   ]
  },
  {
   "cell_type": "code",
   "execution_count": null,
   "metadata": {
    "ExecuteTime": {
     "end_time": "2021-04-13T19:47:28.880747Z",
     "start_time": "2021-04-13T19:45:51.673Z"
    }
   },
   "outputs": [],
   "source": [
    "train, test = train_test_split(world_df2, test_size= 0.1)"
   ]
  },
  {
   "cell_type": "code",
   "execution_count": null,
   "metadata": {
    "ExecuteTime": {
     "end_time": "2021-04-13T19:47:28.881963Z",
     "start_time": "2021-04-13T19:45:51.676Z"
    }
   },
   "outputs": [],
   "source": [
    "print(train.shape)\n",
    "test.shape"
   ]
  },
  {
   "cell_type": "code",
   "execution_count": null,
   "metadata": {
    "ExecuteTime": {
     "end_time": "2021-04-13T19:47:28.882931Z",
     "start_time": "2021-04-13T19:45:51.679Z"
    }
   },
   "outputs": [],
   "source": [
    "model2 = pm.auto_arima(train)"
   ]
  },
  {
   "cell_type": "code",
   "execution_count": null,
   "metadata": {
    "ExecuteTime": {
     "end_time": "2021-04-13T19:47:28.883846Z",
     "start_time": "2021-04-13T19:45:51.682Z"
    }
   },
   "outputs": [],
   "source": [
    "preds, conf_int = model2.predict(n_periods=test.shape[0], return_conf_int=True)\n",
    "print('Test RMSE: %.3f' % mean_squared_error(test, preds, squared= False))"
   ]
  },
  {
   "cell_type": "code",
   "execution_count": null,
   "metadata": {
    "ExecuteTime": {
     "end_time": "2021-04-13T19:47:28.884858Z",
     "start_time": "2021-04-13T19:45:51.685Z"
    },
    "scrolled": false
   },
   "outputs": [],
   "source": [
    "x = np.arange(world_df2.shape[0])\n",
    "plt.figure(figsize= (8, 6))\n",
    "plt.plot(x[:74], train, c='blue', label= 'Training Data')\n",
    "plt.plot(x[74:], preds, c='red', label= 'Predicted Data')\n",
    "plt.plot(x[74:], test, c= 'green', label= 'Test Data')\n",
    "plt.title('Predicted Vaccinations Vs Actual Vaccinations')\n",
    "plt.xlabel('Days')\n",
    "plt.ylabel('Vaccinations')\n",
    "plt.legend()\n",
    "plt.show()"
   ]
  },
  {
   "cell_type": "code",
   "execution_count": null,
   "metadata": {
    "ExecuteTime": {
     "end_time": "2021-04-13T19:47:28.885961Z",
     "start_time": "2021-04-13T19:45:51.688Z"
    }
   },
   "outputs": [],
   "source": [
    "daily_df.boxplot(figsize= (15, 10))"
   ]
  },
  {
   "cell_type": "code",
   "execution_count": null,
   "metadata": {
    "ExecuteTime": {
     "end_time": "2021-04-13T19:47:28.886830Z",
     "start_time": "2021-04-13T19:45:51.691Z"
    }
   },
   "outputs": [],
   "source": [
    "# data_diff = world_df.diff().dropna()\n",
    "# data_diff"
   ]
  },
  {
   "cell_type": "code",
   "execution_count": null,
   "metadata": {
    "ExecuteTime": {
     "end_time": "2021-04-13T19:47:28.888153Z",
     "start_time": "2021-04-13T19:45:51.694Z"
    }
   },
   "outputs": [],
   "source": [
    "# arima_world = ARIMA(data_diff, order= (3, 0, 3))\n",
    "# arima_world.fit()"
   ]
  },
  {
   "cell_type": "code",
   "execution_count": null,
   "metadata": {
    "ExecuteTime": {
     "end_time": "2021-04-13T19:47:28.889319Z",
     "start_time": "2021-04-13T19:45:51.698Z"
    }
   },
   "outputs": [],
   "source": [
    "arima_world = ARIMA(ts_log_decompose, order= (3, 0, 3))\n",
    "arima_world.fit()"
   ]
  },
  {
   "cell_type": "code",
   "execution_count": null,
   "metadata": {
    "ExecuteTime": {
     "end_time": "2021-04-13T19:47:28.890372Z",
     "start_time": "2021-04-13T19:45:51.701Z"
    }
   },
   "outputs": [],
   "source": [
    "# arima_world.param_names"
   ]
  },
  {
   "cell_type": "markdown",
   "metadata": {},
   "source": [
    "### Model using Forecast function"
   ]
  },
  {
   "cell_type": "code",
   "execution_count": null,
   "metadata": {
    "ExecuteTime": {
     "end_time": "2021-04-13T19:47:28.891336Z",
     "start_time": "2021-04-13T19:45:51.705Z"
    }
   },
   "outputs": [],
   "source": [
    "len(world_df)"
   ]
  },
  {
   "cell_type": "code",
   "execution_count": null,
   "metadata": {
    "ExecuteTime": {
     "end_time": "2021-04-13T19:47:28.892116Z",
     "start_time": "2021-04-13T19:45:51.708Z"
    }
   },
   "outputs": [],
   "source": [
    "# pip install --upgrade ipykernel"
   ]
  },
  {
   "cell_type": "code",
   "execution_count": null,
   "metadata": {
    "ExecuteTime": {
     "end_time": "2021-04-13T19:47:28.893142Z",
     "start_time": "2021-04-13T19:45:51.711Z"
    }
   },
   "outputs": [],
   "source": [
    "split_point = len(world_df) - 5\n",
    "data, validation = world_df[0:split_point], world_df[split_point:]\n",
    "print('Data %d, Validation %d' % (len(data), len(validation)))"
   ]
  },
  {
   "cell_type": "code",
   "execution_count": null,
   "metadata": {
    "ExecuteTime": {
     "end_time": "2021-04-13T19:47:28.893971Z",
     "start_time": "2021-04-13T19:45:51.714Z"
    }
   },
   "outputs": [],
   "source": [
    "X = differencing.values\n",
    "X"
   ]
  },
  {
   "cell_type": "code",
   "execution_count": null,
   "metadata": {
    "ExecuteTime": {
     "end_time": "2021-04-13T19:47:28.894870Z",
     "start_time": "2021-04-13T19:45:51.717Z"
    }
   },
   "outputs": [],
   "source": [
    "model = ARIMA(X, order= (2, 0, 1))"
   ]
  },
  {
   "cell_type": "code",
   "execution_count": null,
   "metadata": {
    "ExecuteTime": {
     "end_time": "2021-04-13T19:47:28.895829Z",
     "start_time": "2021-04-13T19:45:51.721Z"
    }
   },
   "outputs": [],
   "source": [
    "model_fit = model.fit()\n",
    "model_fit.summary()"
   ]
  },
  {
   "cell_type": "code",
   "execution_count": null,
   "metadata": {
    "ExecuteTime": {
     "end_time": "2021-04-13T19:47:28.896637Z",
     "start_time": "2021-04-13T19:45:51.724Z"
    }
   },
   "outputs": [],
   "source": [
    "prediction = model_fit.predict(start= 60, end= 73, dynamic= True)"
   ]
  },
  {
   "cell_type": "code",
   "execution_count": null,
   "metadata": {
    "ExecuteTime": {
     "end_time": "2021-04-13T19:47:28.897615Z",
     "start_time": "2021-04-13T19:45:51.727Z"
    }
   },
   "outputs": [],
   "source": [
    "plt.plot(prediction)"
   ]
  },
  {
   "cell_type": "code",
   "execution_count": null,
   "metadata": {
    "ExecuteTime": {
     "end_time": "2021-04-13T19:47:28.898459Z",
     "start_time": "2021-04-13T19:45:51.730Z"
    }
   },
   "outputs": [],
   "source": [
    "forecast = model_fit.forecast(steps= 21)[0]"
   ]
  },
  {
   "cell_type": "code",
   "execution_count": null,
   "metadata": {
    "ExecuteTime": {
     "end_time": "2021-04-13T19:47:28.899511Z",
     "start_time": "2021-04-13T19:45:51.733Z"
    }
   },
   "outputs": [],
   "source": [
    "forecast"
   ]
  },
  {
   "cell_type": "code",
   "execution_count": null,
   "metadata": {
    "ExecuteTime": {
     "end_time": "2021-04-13T19:47:28.900521Z",
     "start_time": "2021-04-13T19:45:51.736Z"
    }
   },
   "outputs": [],
   "source": [
    "# invert differenced value\n",
    "def inverse_difference(history, yhat, interval=1):\n",
    "    return yhat + history[-interval]"
   ]
  },
  {
   "cell_type": "code",
   "execution_count": null,
   "metadata": {
    "ExecuteTime": {
     "end_time": "2021-04-13T19:47:28.901416Z",
     "start_time": "2021-04-13T19:45:51.740Z"
    }
   },
   "outputs": [],
   "source": [
    "history = [x for x in X]\n",
    "days = 60\n",
    "day = 1\n",
    "for yhat in forecast:\n",
    "    inverted = inverse_difference(history, yhat, days)\n",
    "    print('Day %d: %f' % (day, inverted))\n",
    "    history.append(inverted)\n",
    "    day +=1"
   ]
  },
  {
   "cell_type": "code",
   "execution_count": null,
   "metadata": {
    "ExecuteTime": {
     "end_time": "2021-04-13T19:47:28.902335Z",
     "start_time": "2021-04-13T19:45:51.743Z"
    }
   },
   "outputs": [],
   "source": [
    "plt.plot(forecast)\n",
    "plt.show()\n"
   ]
  },
  {
   "cell_type": "code",
   "execution_count": null,
   "metadata": {
    "ExecuteTime": {
     "end_time": "2021-04-13T19:47:28.903242Z",
     "start_time": "2021-04-13T19:45:51.746Z"
    }
   },
   "outputs": [],
   "source": [
    "# split test data into test and validation\n",
    "# validation = test[:4]\n",
    "# test = test[4:]"
   ]
  },
  {
   "cell_type": "code",
   "execution_count": null,
   "metadata": {
    "ExecuteTime": {
     "end_time": "2021-04-13T19:47:28.904089Z",
     "start_time": "2021-04-13T19:45:51.749Z"
    }
   },
   "outputs": [],
   "source": [
    "from sklearn.preprocessing import MinMaxScaler\n",
    "min_scaler = MinMaxScaler()\n",
    "\n",
    "scaled_train = min_scaler.fit_transform(train)\n",
    "# scaled_val = min_scaler.transform(validation)\n",
    "scaled_test = min_scaler.transform(test)"
   ]
  },
  {
   "cell_type": "code",
   "execution_count": null,
   "metadata": {
    "ExecuteTime": {
     "end_time": "2021-04-13T19:47:28.905016Z",
     "start_time": "2021-04-13T19:45:51.752Z"
    }
   },
   "outputs": [],
   "source": [
    "scaled_train.shape"
   ]
  },
  {
   "cell_type": "code",
   "execution_count": null,
   "metadata": {
    "ExecuteTime": {
     "end_time": "2021-04-13T19:47:28.906114Z",
     "start_time": "2021-04-13T19:45:51.755Z"
    }
   },
   "outputs": [],
   "source": [
    "n_input = 70\n",
    "n_features = 1\n",
    "\n",
    "generator = TimeseriesGenerator(scaled_train, scaled_train, length=1, batch_size= 4)"
   ]
  },
  {
   "cell_type": "code",
   "execution_count": null,
   "metadata": {
    "ExecuteTime": {
     "end_time": "2021-04-13T19:47:28.906965Z",
     "start_time": "2021-04-13T19:45:51.758Z"
    }
   },
   "outputs": [],
   "source": [
    "lstm_predictions_scaled = list()\n",
    "\n",
    "batch = scaled_train[-n_input:]\n",
    "current_batch = batch.reshape((1, n_input, n_features))\n",
    "\n",
    "for i in range(len(test)):\n",
    "    lstm_pred = lstm_model.predict(current_batch)[0]\n",
    "    lstm_predictions_scaled.append(lstm_pred)\n",
    "    current_batch = np.append(current_batch[:, 1:, :], [[lstm_pred]], axis= 1)"
   ]
  },
  {
   "cell_type": "code",
   "execution_count": null,
   "metadata": {
    "ExecuteTime": {
     "end_time": "2021-04-13T19:47:28.907888Z",
     "start_time": "2021-04-13T19:45:51.761Z"
    }
   },
   "outputs": [],
   "source": [
    "lstm_predictions = min_scaler.inverse_transform(lstm_predictions_scaled)\n",
    "lstm_predictions"
   ]
  },
  {
   "cell_type": "code",
   "execution_count": null,
   "metadata": {
    "ExecuteTime": {
     "end_time": "2021-04-13T19:47:28.908893Z",
     "start_time": "2021-04-13T19:45:51.764Z"
    },
    "scrolled": true
   },
   "outputs": [],
   "source": [
    "ewm_daily = world_df['people_fully_vaccinated'].ewm(span= 3).mean()\n",
    "ewm_pred = ewm_daily.resample('D').first()\n",
    "ewm_pred = ewm_pred.shift(1).dropna()\n",
    "print(ewm_pred.iloc[-1])"
   ]
  },
  {
   "cell_type": "code",
   "execution_count": null,
   "metadata": {
    "ExecuteTime": {
     "end_time": "2021-04-13T19:47:28.909951Z",
     "start_time": "2021-04-13T19:45:51.767Z"
    }
   },
   "outputs": [],
   "source": [
    "# add_dates = [world_df.index[-1] + DateOffset(days= x) for x in range(0, 9)]\n",
    "# future_dates = pd.DataFrame(index= add_dates[1:], columns= world_df.columns)\n",
    "\n",
    "# df_predict = pd.DataFrame(lstm_predictions, index= future_dates[-n_input:].index, \n",
    "# columns= ['Prediction'])\n",
    "# df_proj = pd.concat([world_df, df_predict], axis= 1)"
   ]
  },
  {
   "cell_type": "code",
   "execution_count": null,
   "metadata": {
    "ExecuteTime": {
     "end_time": "2021-04-13T19:47:28.911037Z",
     "start_time": "2021-04-13T19:45:51.771Z"
    }
   },
   "outputs": [],
   "source": [
    "# import statsmodels.tsa.ar_model.AutoRegResults.plot_predict\n",
    "# model.plot_diagnostics(figsize =(8, 5))"
   ]
  },
  {
   "cell_type": "code",
   "execution_count": null,
   "metadata": {
    "ExecuteTime": {
     "end_time": "2021-04-13T19:47:28.911990Z",
     "start_time": "2021-04-13T19:45:51.774Z"
    }
   },
   "outputs": [],
   "source": [
    "# X = np.vstack((world_df['people_fully_vaccinated'], ewm_daily))\n",
    "\n",
    "# y = len(world_df.index)\n",
    "\n",
    "# from sklearn import linear_model\n",
    "# clf = linear_model.LinearRegression()\n",
    "# clf.fit(X, y)\n",
    "# print(clf.coef_)"
   ]
  },
  {
   "cell_type": "code",
   "execution_count": null,
   "metadata": {
    "ExecuteTime": {
     "end_time": "2021-04-13T19:47:28.912853Z",
     "start_time": "2021-04-13T19:45:51.777Z"
    }
   },
   "outputs": [],
   "source": [
    "lstm_predictions_scaled = list()\n",
    "\n",
    "\n",
    "batch = train_arr[-n_input:]\n",
    "current_batch = batch.reshape((1, n_input, n_features))\n",
    "\n",
    "for i in range(len(test)):\n",
    "    lstm_pred = lstm_model.predict(current_batch)[0]\n",
    "    lstm_predictions_scaled.append(lstm_pred)\n",
    "    current_batch = np.append(current_batch[:, 1:, :], [[lstm_pred]], axis= 1)"
   ]
  },
  {
   "cell_type": "code",
   "execution_count": null,
   "metadata": {
    "ExecuteTime": {
     "end_time": "2021-04-13T19:47:28.913773Z",
     "start_time": "2021-04-13T19:45:51.780Z"
    }
   },
   "outputs": [],
   "source": [
    "lstm_predictions_scaled = list()\n",
    "n_input = X_train.shape[0]\n",
    "n_features = 1\n",
    "\n",
    "batch = scaled_X[-n_input:]\n",
    "current_batch = batch.reshape((1, n_input, n_features))\n",
    "\n",
    "for i in range(len(y)):\n",
    "    lstm_pred = lstm_model.predict(current_batch)[0]\n",
    "    lstm_predictions_scaled.append(lstm_pred)\n",
    "    current_batch = np.append(current_batch[:, 1:, :], [[lstm_pred]], axis= 1)"
   ]
  },
  {
   "cell_type": "code",
   "execution_count": null,
   "metadata": {
    "ExecuteTime": {
     "end_time": "2021-04-13T19:47:28.914761Z",
     "start_time": "2021-04-13T19:45:51.783Z"
    }
   },
   "outputs": [],
   "source": [
    "lstm_predictions_scaled"
   ]
  },
  {
   "cell_type": "code",
   "execution_count": null,
   "metadata": {
    "ExecuteTime": {
     "end_time": "2021-04-13T19:47:28.916127Z",
     "start_time": "2021-04-13T19:45:51.786Z"
    }
   },
   "outputs": [],
   "source": [
    "lstm_predictions = scaler.inverse_transform(lstm_predictions_scaled)\n",
    "lstm_predictions"
   ]
  },
  {
   "cell_type": "code",
   "execution_count": null,
   "metadata": {
    "ExecuteTime": {
     "end_time": "2021-04-13T19:47:28.917167Z",
     "start_time": "2021-04-13T19:45:51.789Z"
    }
   },
   "outputs": [],
   "source": [
    "plt.plot(lstm_predictions)"
   ]
  },
  {
   "cell_type": "code",
   "execution_count": null,
   "metadata": {
    "ExecuteTime": {
     "end_time": "2021-04-13T19:47:28.918152Z",
     "start_time": "2021-04-13T19:45:51.792Z"
    }
   },
   "outputs": [],
   "source": [
    "#invert scaling for forecast\n",
    "inv_ypred = np.concatenate((y_pred, X_test), axis= 1)\n",
    "inv_ypred = scaler.inverse_transform(inv_ypred)\n",
    "inv_ypred = inv_ypred[:, 0]\n",
    "\n",
    "# invert scaling for actual data\n",
    "y_test = y_test.reshape((len(y_test), 1))\n",
    "inv_y = np.concatenate((y_test, X_test), axis= 1)\n",
    "inv_y = scaler.inverse_transform(inv_y)\n",
    "inv_y = inv_y[:, 0]\n",
    "\n",
    "# calculate RMSE\n",
    "lstm_rmse = mean_squared_error(inv_y, inv_ypred, squared= False)\n",
    "print('RMSE: {:,.2f}'.format(lstm_rmse))"
   ]
  },
  {
   "cell_type": "code",
   "execution_count": null,
   "metadata": {
    "ExecuteTime": {
     "end_time": "2021-04-13T19:47:28.919193Z",
     "start_time": "2021-04-13T19:45:51.795Z"
    },
    "scrolled": true
   },
   "outputs": [],
   "source": [
    "plt.plot(inv_y)"
   ]
  },
  {
   "cell_type": "code",
   "execution_count": null,
   "metadata": {
    "ExecuteTime": {
     "end_time": "2021-04-13T19:47:28.920451Z",
     "start_time": "2021-04-13T19:45:51.798Z"
    },
    "scrolled": true
   },
   "outputs": [],
   "source": [
    "inv_ypred"
   ]
  },
  {
   "cell_type": "code",
   "execution_count": null,
   "metadata": {
    "ExecuteTime": {
     "end_time": "2021-04-13T19:47:28.921772Z",
     "start_time": "2021-04-13T19:45:51.801Z"
    },
    "scrolled": true
   },
   "outputs": [],
   "source": [
    "plt.plot(y_pred)"
   ]
  },
  {
   "cell_type": "code",
   "execution_count": null,
   "metadata": {
    "ExecuteTime": {
     "end_time": "2021-04-13T19:47:28.923252Z",
     "start_time": "2021-04-13T19:45:51.805Z"
    }
   },
   "outputs": [],
   "source": [
    "# scaler = MinMaxScaler(feature_range=(0, 1))\n",
    "# scaler_train = scaler.fit_transform(X_train)\n",
    "# scaler_test = scaler.transform(X_test)"
   ]
  },
  {
   "cell_type": "code",
   "execution_count": null,
   "metadata": {
    "ExecuteTime": {
     "end_time": "2021-04-13T19:47:28.924711Z",
     "start_time": "2021-04-13T19:45:51.808Z"
    }
   },
   "outputs": [],
   "source": [
    "train, test = train_test_split(world_df, test_size= 0.1)"
   ]
  },
  {
   "cell_type": "code",
   "execution_count": null,
   "metadata": {
    "ExecuteTime": {
     "end_time": "2021-04-13T19:47:28.926299Z",
     "start_time": "2021-04-13T19:45:51.811Z"
    }
   },
   "outputs": [],
   "source": [
    "# scaler = MinMaxScaler(feature_range=(0, 1))\n",
    "# scaler = scaler.fit(train)"
   ]
  },
  {
   "cell_type": "code",
   "execution_count": null,
   "metadata": {
    "ExecuteTime": {
     "end_time": "2021-04-13T19:47:28.927500Z",
     "start_time": "2021-04-13T19:45:51.814Z"
    }
   },
   "outputs": [],
   "source": [
    "# scale the data\n",
    "scaler = StandardScaler()\n",
    "train_arr = scaler.fit_transform(train)\n",
    "test_arr = scaler.transform(test)"
   ]
  },
  {
   "cell_type": "code",
   "execution_count": null,
   "metadata": {
    "ExecuteTime": {
     "end_time": "2021-04-13T19:47:28.928682Z",
     "start_time": "2021-04-13T19:45:51.817Z"
    }
   },
   "outputs": [],
   "source": [
    "# # transform train\n",
    "# train = np.asarray(train)\n",
    "# train = train.reshape(train.shape[0], train.shape[1])\n",
    "# train_scaled = scaler.transform(train)\n",
    "# # transform test\n",
    "# test = np.asarray(test)\n",
    "# test = test.reshape(test.shape[0], test.shape[1])\n",
    "# test_scaled = scaler.transform(test)"
   ]
  },
  {
   "cell_type": "code",
   "execution_count": null,
   "metadata": {
    "ExecuteTime": {
     "end_time": "2021-04-13T19:47:28.929802Z",
     "start_time": "2021-04-13T19:45:51.820Z"
    }
   },
   "outputs": [],
   "source": [
    "# print(train_arr)\n",
    "# train_scaled"
   ]
  },
  {
   "cell_type": "code",
   "execution_count": null,
   "metadata": {
    "ExecuteTime": {
     "end_time": "2021-04-13T19:47:28.930951Z",
     "start_time": "2021-04-13T19:45:51.824Z"
    }
   },
   "outputs": [],
   "source": [
    "x_train = train_arr.reshape(-1, 1, 1)\n",
    "x_test  = test_arr.reshape(-1, 1, 1)"
   ]
  },
  {
   "cell_type": "code",
   "execution_count": null,
   "metadata": {
    "ExecuteTime": {
     "end_time": "2021-04-13T19:47:28.932183Z",
     "start_time": "2021-04-13T19:45:51.828Z"
    }
   },
   "outputs": [],
   "source": [
    "x_train.shape"
   ]
  },
  {
   "cell_type": "raw",
   "metadata": {
    "ExecuteTime": {
     "end_time": "2021-04-01T14:47:50.485196Z",
     "start_time": "2021-04-01T14:47:50.482646Z"
    }
   },
   "source": [
    "n_input = 92\n",
    "n_features = 1\n",
    "\n",
    "generator = TimeseriesGenerator(train_arr, train_arr, length=1, batch_size= 4)"
   ]
  },
  {
   "cell_type": "code",
   "execution_count": null,
   "metadata": {
    "ExecuteTime": {
     "end_time": "2021-04-13T19:47:28.933172Z",
     "start_time": "2021-04-13T19:45:51.918Z"
    },
    "scrolled": false
   },
   "outputs": [],
   "source": [
    "lstm_model = Sequential()\n",
    "lstm_model.add(LSTM(32, activation= 'relu', input_shape= (x_train.shape[1], x_train.shape[2]), return_sequences= True))\n",
    "lstm_model.add(LSTM(64, activation= 'relu', return_sequences= True))\n",
    "lstm_model.add(LSTM(128, activation= 'relu', return_sequences= True))\n",
    "lstm_model.add(LSTM(64, activation= 'relu', return_sequences= True))\n",
    "lstm_model.add(LSTM(32, activation= 'relu', return_sequences= True))\n",
    "# lstm_model.add(Dropout(0.5))\n",
    "# lstm_model.add(Dense(6))\n",
    "# lstm_model.add(Dense(1))\n",
    "lstm_model.add(LSTM(1, activation= 'relu'))\n",
    "lstm_model.compile(optimizer= 'Adam', loss= 'mse')\n",
    "\n",
    "lstm_model.summary()"
   ]
  },
  {
   "cell_type": "code",
   "execution_count": null,
   "metadata": {
    "ExecuteTime": {
     "end_time": "2021-04-13T19:47:28.934435Z",
     "start_time": "2021-04-13T19:45:51.922Z"
    },
    "scrolled": false
   },
   "outputs": [],
   "source": [
    "lstm_fitted = lstm_model.fit(train_arr, test_arr, epochs= 15, batch_size= 1)"
   ]
  },
  {
   "cell_type": "code",
   "execution_count": null,
   "metadata": {
    "ExecuteTime": {
     "end_time": "2021-04-13T19:47:28.935454Z",
     "start_time": "2021-04-13T19:45:51.926Z"
    }
   },
   "outputs": [],
   "source": [
    "losses_lstm = lstm_model.history.history['loss']\n",
    "plt.figure(figsize= (12,4))\n",
    "plt.xlabel(\"Epochs\")\n",
    "plt.ylabel(\"Loss\")\n",
    "plt.xticks(np.arange(0,30,1))\n",
    "plt.plot(range(len(losses_lstm)),losses_lstm);"
   ]
  },
  {
   "cell_type": "code",
   "execution_count": null,
   "metadata": {
    "ExecuteTime": {
     "end_time": "2021-04-13T19:47:28.936459Z",
     "start_time": "2021-04-13T19:45:51.929Z"
    }
   },
   "outputs": [],
   "source": [
    "lstm_predictions_scaled = list()\n",
    "\n",
    "batch = train_arr[-n_input:]\n",
    "current_batch = batch.reshape((1, n_input, n_features))\n",
    "\n",
    "for i in range(len(test)):\n",
    "    lstm_pred = lstm_model.predict(current_batch)[0]\n",
    "    lstm_predictions_scaled.append(lstm_pred)\n",
    "    current_batch = np.append(current_batch[:, 1:, :], [[lstm_pred]], axis= 1)"
   ]
  },
  {
   "cell_type": "code",
   "execution_count": null,
   "metadata": {
    "ExecuteTime": {
     "end_time": "2021-04-13T19:47:28.937479Z",
     "start_time": "2021-04-13T19:45:51.932Z"
    }
   },
   "outputs": [],
   "source": [
    "lstm_predictions_scaled"
   ]
  },
  {
   "cell_type": "code",
   "execution_count": null,
   "metadata": {
    "ExecuteTime": {
     "end_time": "2021-04-13T19:47:28.938648Z",
     "start_time": "2021-04-13T19:45:51.936Z"
    }
   },
   "outputs": [],
   "source": [
    "lstm_predictions = scaler.inverse_transform(lstm_predictions_scaled)\n",
    "lstm_predictions"
   ]
  },
  {
   "cell_type": "code",
   "execution_count": null,
   "metadata": {
    "ExecuteTime": {
     "end_time": "2021-04-13T19:47:28.939997Z",
     "start_time": "2021-04-13T19:45:51.939Z"
    }
   },
   "outputs": [],
   "source": [
    "plt.plot(lstm_predictions)"
   ]
  },
  {
   "cell_type": "code",
   "execution_count": null,
   "metadata": {
    "ExecuteTime": {
     "end_time": "2021-04-13T19:47:28.941518Z",
     "start_time": "2021-04-13T19:45:51.942Z"
    }
   },
   "outputs": [],
   "source": [
    "test2 = test.copy()\n",
    "test2['LSTM Predictions'] = lstm_predictions"
   ]
  },
  {
   "cell_type": "code",
   "execution_count": null,
   "metadata": {
    "ExecuteTime": {
     "end_time": "2021-04-13T19:47:28.942851Z",
     "start_time": "2021-04-13T19:45:51.945Z"
    }
   },
   "outputs": [],
   "source": [
    "test2"
   ]
  },
  {
   "cell_type": "code",
   "execution_count": null,
   "metadata": {
    "ExecuteTime": {
     "end_time": "2021-04-13T19:47:28.943972Z",
     "start_time": "2021-04-13T19:45:51.949Z"
    },
    "scrolled": true
   },
   "outputs": [],
   "source": [
    "test2['people_fully_vaccinated'].plot(figsize= (16,5), legend= True)\n",
    "test2['LSTM Predictions'].plot(legend= True)\n",
    "plt.show()"
   ]
  },
  {
   "cell_type": "code",
   "execution_count": null,
   "metadata": {
    "ExecuteTime": {
     "end_time": "2021-04-13T19:47:28.944964Z",
     "start_time": "2021-04-13T19:45:51.952Z"
    }
   },
   "outputs": [],
   "source": [
    "# calculate RMSE\n",
    "lstm_rmse = mean_squared_error(test, lstm_predictions)\n",
    "print('RMSE: {:,.2f}'.format(lstm_rmse))"
   ]
  },
  {
   "cell_type": "code",
   "execution_count": null,
   "metadata": {
    "ExecuteTime": {
     "end_time": "2021-04-13T19:47:28.946370Z",
     "start_time": "2021-04-13T19:45:51.955Z"
    }
   },
   "outputs": [],
   "source": [
    "# calculate Mean Absolute Percentage Error\n",
    "lstm_mape = round(np.mean(np.abs(lstm_predictions - test.values)/np.abs(test.values))*100, 3)  \n",
    "print('MAPE:', sm_mape)"
   ]
  },
  {
   "cell_type": "markdown",
   "metadata": {
    "ExecuteTime": {
     "end_time": "2021-03-29T20:14:02.191722Z",
     "start_time": "2021-03-29T20:14:02.189482Z"
    }
   },
   "source": [
    "Predict Next 8 Days"
   ]
  },
  {
   "cell_type": "code",
   "execution_count": null,
   "metadata": {
    "ExecuteTime": {
     "end_time": "2021-04-13T19:47:28.947345Z",
     "start_time": "2021-04-13T19:45:51.960Z"
    }
   },
   "outputs": [],
   "source": [
    "add_dates = [world_df.index[-1] + DateOffset(days= x) for x in range(0, 9)]\n",
    "future_dates = pd.DataFrame(index= add_dates[1:], columns= world_df.columns)\n",
    "\n",
    "df_predict = pd.DataFrame(lstm_predictions, index= future_dates[-n_input:].index, \n",
    "columns= ['Prediction'])\n",
    "df_proj = pd.concat([world_df, df_predict], axis= 1)"
   ]
  },
  {
   "cell_type": "code",
   "execution_count": null,
   "metadata": {
    "ExecuteTime": {
     "end_time": "2021-04-13T19:47:28.948534Z",
     "start_time": "2021-04-13T19:45:51.963Z"
    }
   },
   "outputs": [],
   "source": [
    "# Change format of y labels to billions\n",
    "def millions(x, pos):\n",
    "    'The two args are the value and tick position'\n",
    "    return '%1.fM' % (x * 1e-6)\n",
    "formatter = FuncFormatter(millions)\n",
    "\n",
    "fig, ax = plt.subplots(figsize= (15,5))\n",
    "ax.yaxis.set_major_formatter(formatter)\n",
    "plt.plot(df_proj.index, df_proj['people_fully_vaccinated'])\n",
    "plt.plot(df_proj.index, df_proj['Prediction'], color= 'r')\n",
    "plt.title('LSTM Prediction for Next 8 Days')\n",
    "plt.xlabel('Days')\n",
    "plt.ylabel('Fully Vaccinated People')\n",
    "plt.legend(labels= ['Fully Vaccinated', 'Predicted'])\n",
    "plt.show()"
   ]
  },
  {
   "cell_type": "code",
   "execution_count": null,
   "metadata": {
    "ExecuteTime": {
     "end_time": "2021-04-13T19:47:28.949779Z",
     "start_time": "2021-04-13T19:45:51.966Z"
    }
   },
   "outputs": [],
   "source": [
    "# lstm_rmse = rmse(test2['people_fully_vaccinated'], test2['LSTM Predictions'])\n",
    "# print('LSTM RMSE: {:,.2f}'.format(lstm_rmse))"
   ]
  },
  {
   "cell_type": "code",
   "execution_count": null,
   "metadata": {},
   "outputs": [],
   "source": []
  },
  {
   "cell_type": "code",
   "execution_count": null,
   "metadata": {},
   "outputs": [],
   "source": []
  },
  {
   "cell_type": "code",
   "execution_count": null,
   "metadata": {},
   "outputs": [],
   "source": []
  },
  {
   "cell_type": "code",
   "execution_count": null,
   "metadata": {},
   "outputs": [],
   "source": []
  },
  {
   "cell_type": "code",
   "execution_count": null,
   "metadata": {},
   "outputs": [],
   "source": []
  },
  {
   "cell_type": "code",
   "execution_count": null,
   "metadata": {},
   "outputs": [],
   "source": []
  },
  {
   "cell_type": "code",
   "execution_count": null,
   "metadata": {},
   "outputs": [],
   "source": []
  }
 ],
 "metadata": {
  "kernelspec": {
   "display_name": "Python 3",
   "language": "python",
   "name": "python3"
  },
  "language_info": {
   "codemirror_mode": {
    "name": "ipython",
    "version": 3
   },
   "file_extension": ".py",
   "mimetype": "text/x-python",
   "name": "python",
   "nbconvert_exporter": "python",
   "pygments_lexer": "ipython3",
   "version": "3.8.5"
  },
  "toc": {
   "base_numbering": 1,
   "nav_menu": {},
   "number_sections": true,
   "sideBar": true,
   "skip_h1_title": true,
   "title_cell": "Table of Contents",
   "title_sidebar": "Contents",
   "toc_cell": false,
   "toc_position": {},
   "toc_section_display": true,
   "toc_window_display": false
  },
  "varInspector": {
   "cols": {
    "lenName": 16,
    "lenType": 16,
    "lenVar": 40
   },
   "kernels_config": {
    "python": {
     "delete_cmd_postfix": "",
     "delete_cmd_prefix": "del ",
     "library": "var_list.py",
     "varRefreshCmd": "print(var_dic_list())"
    },
    "r": {
     "delete_cmd_postfix": ") ",
     "delete_cmd_prefix": "rm(",
     "library": "var_list.r",
     "varRefreshCmd": "cat(var_dic_list()) "
    }
   },
   "types_to_exclude": [
    "module",
    "function",
    "builtin_function_or_method",
    "instance",
    "_Feature"
   ],
   "window_display": false
  }
 },
 "nbformat": 4,
 "nbformat_minor": 4
}
